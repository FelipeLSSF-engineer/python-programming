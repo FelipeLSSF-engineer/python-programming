{
 "cells": [
  {
   "cell_type": "markdown",
   "metadata": {},
   "source": [
    "# Prova #2 C126-L1 (2S2021)\n",
    "\n",
    "### Instruções\n",
    "\n",
    "1. Para cada um dos exercícios a seguir, faça o seguinte:\n",
    "    * Adicione comentários ao seu código explicando o que você fez.\n",
    "    * Caso o exercício involva a implementação de uma função:\n",
    "        + Coloque um comentário dizendo o que a função faz, use **docstrings**.\n",
    "        + Escolha nomes auto-explicativos para suas funções e parâmetros.\n",
    "    \n",
    "2. Quando você terminar a prova, vá ao menu do Jupyter ou Colab e selecione a opção para fazer download do notebook.\n",
    "    * Os notebooks tem extensão .ipynb. \n",
    "    * Este deve ser o arquivo que você irá entregar.\n",
    "    * No Jupyter vá até a opção **File** -> **Download as** -> **Notebook (.ipynb)**.\n",
    "    * No Colab vá até a opção **File** -> **Download .ipynb**.\n",
    "   \n",
    "3. Em seguida, faça a entrega do notebook da prova (ou seja, anexe o arquivo) na tarefa criada no MS Teams.\n",
    "4. Atente-se ao prazo de entrega definido na tarefa do MS Teams. \n",
    "5. **A prova deve ser resolvida individualmente**.\n",
    "6. Todas as questões têm o mesmo peso.\n",
    "7. Não se esqueça de colocar seu nome e número de matrícula nos campos abaixo.\n",
    "8. Você pode consultar o material de aula.\n",
    "9. A interpretação faz parte da prova.\n",
    "10. Boa sorte!"
   ]
  },
  {
   "cell_type": "markdown",
   "metadata": {},
   "source": [
    "**Nome**:\n",
    "\n",
    "**Matrícula**:"
   ]
  },
  {
   "cell_type": "markdown",
   "metadata": {},
   "source": [
    "## Exercícios"
   ]
  },
  {
   "cell_type": "markdown",
   "metadata": {},
   "source": [
    "#### 1)  Exercício sobre dicionários.\n",
    "\n",
    "Escreva uma função chamada `temperaturaAnual` que receba 1 dicionário, onde a chave de cada elemento é uma string com um mês do ano e o valor associado à chave é a temperatura média daquele mês. A função deve calcular a média anual das temperaturas e **imprimir** todas as temperaturas **acima** da média anual e em que mês elas ocorreram. A tabela abaixo apresenta os valores que devem ser usados para testar a função (**OBS.**: a tabela já é dada como um dicionário na célula de teste abaixo.).\n",
    "\n",
    "|    Mês    | Média (°C) |\n",
    "|:---------:|:----------:|\n",
    "|  Janeiro  |     28     |\n",
    "| Fevereiro |     27     |\n",
    "|   Março   |     25     |\n",
    "|   Abril   |     20     |\n",
    "|    Maio   |     18     |\n",
    "|   Junho   |     15     |\n",
    "|   Julho   |     15     |\n",
    "|   Agosto  |     20     |\n",
    "|  Setembro |     20     |\n",
    "|  Outubro  |     25     |\n",
    "|  Novembro |     27     |\n",
    "|  Dezembro |     29     |\n",
    "\n",
    "Segue abaixo o resultado esperado quando o trecho de código de teste, disponibilizado abaixo, é executado.\n",
    "\n",
    "```python\n",
    "Temp. média: 22.42 - Mês: Janeiro - Temp.: 28\n",
    "Temp. média: 22.42 - Mês: Fevereiro - Temp.: 27\n",
    "Temp. média: 22.42 - Mês: Março - Temp.: 25\n",
    "Temp. média: 22.42 - Mês: Outubro - Temp.: 25\n",
    "Temp. média: 22.42 - Mês: Novembro - Temp.: 27\n",
    "Temp. média: 22.42 - Mês: Dezembro - Temp.: 29\n",
    "```\n",
    "\n",
    "A linha de código abaixo pode ser utilizada para imprimir o resultado conforme o mostrado acima.\n",
    "\n",
    "```python\n",
    "print('Temp. média: %1.2f - Mês: %s - Temp.: %d' % (média, mês, temperatura))\n",
    "```"
   ]
  },
  {
   "cell_type": "code",
   "execution_count": 1,
   "metadata": {},
   "outputs": [],
   "source": [
    "# Implemente o código do exercício aqui."
   ]
  },
  {
   "cell_type": "markdown",
   "metadata": {},
   "source": [
    "Teste a função com o trecho de código abaixo."
   ]
  },
  {
   "cell_type": "code",
   "execution_count": 2,
   "metadata": {},
   "outputs": [
    {
     "ename": "NameError",
     "evalue": "name 'temperaturaAnual' is not defined",
     "output_type": "error",
     "traceback": [
      "\u001b[1;31m---------------------------------------------------------------------------\u001b[0m",
      "\u001b[1;31mNameError\u001b[0m                                 Traceback (most recent call last)",
      "\u001b[1;32m<ipython-input-2-79b4ac915f10>\u001b[0m in \u001b[0;36m<module>\u001b[1;34m\u001b[0m\n\u001b[0;32m      1\u001b[0m \u001b[0mdictMesesTemp\u001b[0m \u001b[1;33m=\u001b[0m \u001b[1;33m{\u001b[0m\u001b[1;34m'Janeiro'\u001b[0m \u001b[1;33m:\u001b[0m \u001b[1;36m28\u001b[0m\u001b[1;33m,\u001b[0m \u001b[1;34m'Fevereiro'\u001b[0m\u001b[1;33m:\u001b[0m \u001b[1;36m27\u001b[0m\u001b[1;33m,\u001b[0m \u001b[1;34m'Março'\u001b[0m \u001b[1;33m:\u001b[0m \u001b[1;36m25\u001b[0m\u001b[1;33m,\u001b[0m \u001b[1;34m'Abril'\u001b[0m \u001b[1;33m:\u001b[0m \u001b[1;36m20\u001b[0m\u001b[1;33m,\u001b[0m \u001b[1;34m'Maio'\u001b[0m \u001b[1;33m:\u001b[0m \u001b[1;36m18\u001b[0m\u001b[1;33m,\u001b[0m \u001b[1;34m'Junho'\u001b[0m \u001b[1;33m:\u001b[0m \u001b[1;36m15\u001b[0m\u001b[1;33m,\u001b[0m \u001b[1;34m'Julho'\u001b[0m \u001b[1;33m:\u001b[0m \u001b[1;36m15\u001b[0m\u001b[1;33m,\u001b[0m \u001b[1;34m'Agosto'\u001b[0m \u001b[1;33m:\u001b[0m \u001b[1;36m20\u001b[0m\u001b[1;33m,\u001b[0m \u001b[1;34m'Setembro'\u001b[0m \u001b[1;33m:\u001b[0m \u001b[1;36m20\u001b[0m\u001b[1;33m,\u001b[0m \u001b[1;34m'Outubro'\u001b[0m \u001b[1;33m:\u001b[0m \u001b[1;36m25\u001b[0m\u001b[1;33m,\u001b[0m \u001b[1;34m'Novembro'\u001b[0m \u001b[1;33m:\u001b[0m \u001b[1;36m27\u001b[0m\u001b[1;33m,\u001b[0m \u001b[1;34m'Dezembro'\u001b[0m \u001b[1;33m:\u001b[0m \u001b[1;36m29\u001b[0m\u001b[1;33m}\u001b[0m\u001b[1;33m\u001b[0m\u001b[1;33m\u001b[0m\u001b[0m\n\u001b[0;32m      2\u001b[0m \u001b[1;33m\u001b[0m\u001b[0m\n\u001b[1;32m----> 3\u001b[1;33m \u001b[0mtemperaturaAnual\u001b[0m\u001b[1;33m(\u001b[0m\u001b[0mdictMesesTemp\u001b[0m\u001b[1;33m)\u001b[0m\u001b[1;33m\u001b[0m\u001b[1;33m\u001b[0m\u001b[0m\n\u001b[0m",
      "\u001b[1;31mNameError\u001b[0m: name 'temperaturaAnual' is not defined"
     ]
    }
   ],
   "source": [
    "dictMesesTemp = {'Janeiro' : 28, 'Fevereiro': 27, 'Março' : 25, 'Abril' : 20, 'Maio' : 18, 'Junho' : 15, 'Julho' : 15, 'Agosto' : 20, 'Setembro' : 20, 'Outubro' : 25, 'Novembro' : 27, 'Dezembro' : 29}\n",
    "\n",
    "temperaturaAnual(dictMesesTemp)"
   ]
  },
  {
   "cell_type": "markdown",
   "metadata": {},
   "source": [
    "#### 2) Exercício sobre listas e tuplas. \n",
    "\n",
    "Implemente uma função chamada `calcularMédiaAluno` que receba dois parâmetros. O primeiro é uma lista com o nome de todas as disciplinas de uma escola. O segundo é uma tupla contendo a nota de um aluno nessas matérias, respectivamente.\n",
    "\n",
    "Essa função deve calcular a média das notas do aluno e **retornar** uma lista com as matérias que ele obteve aproveitamento **acima** da média.\n",
    "\n",
    "**DICA**\n",
    "\n",
    "+ Você pode utilizar a função embutida ```sum()``` para somar todos os valores de uma tupla de uma única vez sem precisar de usar um laço de repetição. Veja o exemplo abaixo:\n",
    "```python\n",
    "lista = [1,2,3]\n",
    "resultado = sum(lista)\n",
    "print(resultado)\n",
    "6\n",
    "```"
   ]
  },
  {
   "cell_type": "code",
   "execution_count": 3,
   "metadata": {},
   "outputs": [],
   "source": [
    "# Implemente o código do exercício aqui."
   ]
  },
  {
   "cell_type": "markdown",
   "metadata": {},
   "source": [
    "Teste a função com o trecho de código abaixo."
   ]
  },
  {
   "cell_type": "code",
   "execution_count": 4,
   "metadata": {},
   "outputs": [
    {
     "ename": "NameError",
     "evalue": "name 'calcularMédiaAluno' is not defined",
     "output_type": "error",
     "traceback": [
      "\u001b[1;31m---------------------------------------------------------------------------\u001b[0m",
      "\u001b[1;31mNameError\u001b[0m                                 Traceback (most recent call last)",
      "\u001b[1;32m<ipython-input-4-6ebb9e6e3c69>\u001b[0m in \u001b[0;36m<module>\u001b[1;34m\u001b[0m\n\u001b[0;32m      2\u001b[0m \u001b[0mnotas\u001b[0m \u001b[1;33m=\u001b[0m \u001b[1;33m(\u001b[0m\u001b[1;36m90\u001b[0m\u001b[1;33m,\u001b[0m \u001b[1;36m40\u001b[0m\u001b[1;33m,\u001b[0m \u001b[1;36m80\u001b[0m\u001b[1;33m,\u001b[0m \u001b[1;36m60\u001b[0m\u001b[1;33m,\u001b[0m \u001b[1;36m70\u001b[0m\u001b[1;33m,\u001b[0m \u001b[1;36m50\u001b[0m\u001b[1;33m)\u001b[0m\u001b[1;33m\u001b[0m\u001b[1;33m\u001b[0m\u001b[0m\n\u001b[0;32m      3\u001b[0m \u001b[1;33m\u001b[0m\u001b[0m\n\u001b[1;32m----> 4\u001b[1;33m \u001b[0mret\u001b[0m \u001b[1;33m=\u001b[0m \u001b[0mcalcularMédiaAluno\u001b[0m\u001b[1;33m(\u001b[0m\u001b[0mdisciplinas\u001b[0m\u001b[1;33m,\u001b[0m \u001b[0mnotas\u001b[0m\u001b[1;33m)\u001b[0m\u001b[1;33m\u001b[0m\u001b[1;33m\u001b[0m\u001b[0m\n\u001b[0m\u001b[0;32m      5\u001b[0m \u001b[1;33m\u001b[0m\u001b[0m\n\u001b[0;32m      6\u001b[0m \u001b[1;32mif\u001b[0m\u001b[1;33m(\u001b[0m\u001b[0mret\u001b[0m \u001b[1;33m==\u001b[0m \u001b[1;33m[\u001b[0m\u001b[1;34m\"Matemática\"\u001b[0m\u001b[1;33m,\u001b[0m \u001b[1;34m\"História\"\u001b[0m\u001b[1;33m,\u001b[0m \u001b[1;34m\"Ciências\"\u001b[0m\u001b[1;33m]\u001b[0m\u001b[1;33m)\u001b[0m\u001b[1;33m:\u001b[0m\u001b[1;33m\u001b[0m\u001b[1;33m\u001b[0m\u001b[0m\n",
      "\u001b[1;31mNameError\u001b[0m: name 'calcularMédiaAluno' is not defined"
     ]
    }
   ],
   "source": [
    "disciplinas = [\"Matemática\", \"Português\", \"História\", \"Geografia\", \"Ciências\", \"Inglês\"]\n",
    "notas = (90, 40, 80, 60, 70, 50)\n",
    "\n",
    "ret = calcularMédiaAluno(disciplinas, notas)\n",
    "\n",
    "if(ret == [\"Matemática\", \"História\", \"Ciências\"]):\n",
    "    print('Implementação da função está correta!')\n",
    "else:\n",
    "    print('Implementação da função NÃO está correta!')"
   ]
  },
  {
   "cell_type": "markdown",
   "metadata": {},
   "source": [
    "#### 3) Exercício sobre programação orientada a objetos. \n",
    "\n",
    "Um objeto da classe `Biblioteca` **USA** objetos das classes `Cliente` e `Livro` para gerenciar o empréstimo de livros aos seus clientes.\n",
    "\n",
    "Baseado nessa afirmação, implemente todas as classes do diagrama de classes abaixo.\n",
    "\n",
    "<img src=\"../figures/lab6_parte2_dependencia_composicao.png\">\n",
    "\n",
    "Seguem algumas dicas para a implementação das classes:\n",
    "\n",
    "+ Classe `Biblioteca`\n",
    "\n",
    "    1. O método `emprestar` deve **usar** o objeto da classe `Livro` e configurar a data de empréstimo do livro em seguida, ele deve **usar** o objeto da classe `Cliente` para adicionar o objeto da classe `Livro` no cliente. O método deve retornar o valor do retorno do método `adicionarLivro` da classe `Cliente`.\n",
    "    2. Para configurar a data de empréstimo do livro use o método `today()` da biblioteca `datetime` e não se esqueça de usar o método `str()` para transformar a data em uma string. Você deve importar a biblioteca `datetime` conforme mostrado abaixo, veja o exemplo de uso na sequência.\n",
    "    ```python\n",
    "    from datetime import date\n",
    "    today = str(date.today())\n",
    "    print(\"Today's date:\", today)\n",
    "    Today's date: 2021-12-06\n",
    "    ```\n",
    "    3. O método `devolver` deve **usar** o objeto da classe `Cliente` para remover o objeto da classe `Livro` passado para o método. Na sequência, ele deve **usar** o objeto da classe `Livro` e configurar a data de empréstimo com um string vazia, ou seja, `''`. Ao final, o método deve retornar o valor do retorno do método `removerLivro` da classe `Cliente`.\n",
    "    4. O método `listar` deve **usar** o objeto da classe `Cliente` para listar os livros emprestados por aquele cliente. O método deve retornar o valor do retorno do método `listarLivros` da classe `Cliente`.\n",
    "\n",
    "\n",
    "+ Classe `Cliente` \n",
    "\n",
    "    1. O atributo privado `livros` deve ser inicializado com uma lista vazia, ou seja, `[]`. \n",
    "    2. O método `adicionarLivro` deve adicionar o objeto da classe `Livro` recebido pelo método à lista de livros caso aquele livro não se encontre já armazenado na lista. Caso o livro não esteja presente na lista, o método deve retornar `True` , caso contrário `False`.\n",
    "    3. O método `removerLivro` deve remover o objeto da classe `Livro` recebido pelo método da lista de livros caso aquele livro se encontre armazenado na lista. Caso o livro esteja presente na lista, o método deve retornar `True` , caso contrário `False`.\n",
    "    4. O método `listarLivros` deve imprimir todos os títulos e datas de empréstimo dos livros armazenados na lista de livros apenas se a lista de livros tiver ao menos um livro armazenado. Caso a lista tenha ao menos um livro armazenado, o método deve retornar, após imprimir as informações dos livros, a quantidade de livros armazenados na lista. Caso não exista nenhum livro na lista, o método deve retornar 0.\n",
    "\n",
    "\n",
    "+ Classe `Livro` \n",
    "\n",
    "    1. O atributo privado `dataEmpréstimo` deve ser inicializado com uma string vazia, ou seja, `''`.\n",
    "    2. O método `getTítulo` deve retornar o valor do atributo privado `título` do livro.\n",
    "    3. O método `getDataEmpréstimo` deve retornar o valor do atributo privado `dataEmpréstimo` do livro.\n",
    "    4. O método `setDataEmpréstimo` deve configurar o valor do atributo privado `dataEmpréstimo` do livro."
   ]
  },
  {
   "cell_type": "code",
   "execution_count": 5,
   "metadata": {},
   "outputs": [],
   "source": [
    "# Implemente aqui o código do exercício."
   ]
  },
  {
   "cell_type": "markdown",
   "metadata": {},
   "source": [
    "Teste a função com o trecho de código abaixo."
   ]
  },
  {
   "cell_type": "code",
   "execution_count": 6,
   "metadata": {},
   "outputs": [
    {
     "ename": "NameError",
     "evalue": "name 'Biblioteca' is not defined",
     "output_type": "error",
     "traceback": [
      "\u001b[1;31m---------------------------------------------------------------------------\u001b[0m",
      "\u001b[1;31mNameError\u001b[0m                                 Traceback (most recent call last)",
      "\u001b[1;32m<ipython-input-6-19f4367fdbbb>\u001b[0m in \u001b[0;36m<module>\u001b[1;34m\u001b[0m\n\u001b[0;32m      1\u001b[0m \u001b[1;32mfrom\u001b[0m \u001b[0mdatetime\u001b[0m \u001b[1;32mimport\u001b[0m \u001b[0mdate\u001b[0m\u001b[1;33m\u001b[0m\u001b[1;33m\u001b[0m\u001b[0m\n\u001b[0;32m      2\u001b[0m \u001b[1;33m\u001b[0m\u001b[0m\n\u001b[1;32m----> 3\u001b[1;33m \u001b[0mbiblioteca\u001b[0m \u001b[1;33m=\u001b[0m \u001b[0mBiblioteca\u001b[0m\u001b[1;33m(\u001b[0m\u001b[1;34m'Municipal'\u001b[0m\u001b[1;33m)\u001b[0m\u001b[1;33m\u001b[0m\u001b[1;33m\u001b[0m\u001b[0m\n\u001b[0m\u001b[0;32m      4\u001b[0m \u001b[1;33m\u001b[0m\u001b[0m\n\u001b[0;32m      5\u001b[0m \u001b[0mcliente\u001b[0m \u001b[1;33m=\u001b[0m \u001b[0mCliente\u001b[0m\u001b[1;33m(\u001b[0m\u001b[1;34m'João da Silva'\u001b[0m\u001b[1;33m,\u001b[0m \u001b[1;36m1234\u001b[0m\u001b[1;33m)\u001b[0m\u001b[1;33m\u001b[0m\u001b[1;33m\u001b[0m\u001b[0m\n",
      "\u001b[1;31mNameError\u001b[0m: name 'Biblioteca' is not defined"
     ]
    }
   ],
   "source": [
    "from datetime import date\n",
    "\n",
    "biblioteca = Biblioteca('Municipal')\n",
    "\n",
    "cliente = Cliente('João da Silva', 1234)\n",
    "\n",
    "livro1 = Livro('Harry Potter e a pedra filosofal')\n",
    "livro2 = Livro('Harry Potter e a câmara secreta')\n",
    "\n",
    "ret = 0\n",
    "if(biblioteca.emprestar(cliente, livro1)==True):\n",
    "    ret += 1\n",
    "if(livro1.getDataEmpréstimo()==str(date.today())):\n",
    "    ret += 1\n",
    "if(biblioteca.listar(cliente)==1):\n",
    "    ret += 1\n",
    "if(biblioteca.emprestar(cliente, livro1)==False):\n",
    "    ret += 1\n",
    "if(biblioteca.emprestar(cliente, livro2)==True):\n",
    "    ret += 1\n",
    "if(biblioteca.listar(cliente)==2):\n",
    "    ret += 1\n",
    "if(biblioteca.devolver(cliente, livro1)==True):\n",
    "    ret += 1\n",
    "if(livro1.getDataEmpréstimo()==''):\n",
    "    ret += 1\n",
    "if(biblioteca.listar(cliente)==1):\n",
    "    ret += 1\n",
    "if(biblioteca.devolver(cliente, livro2)==True):\n",
    "    ret += 1\n",
    "if(biblioteca.listar(cliente)==0):\n",
    "    ret += 1\n",
    "if(ret == 11):\n",
    "    print('\\n\\nSua implementação está correta.')\n",
    "else:\n",
    "    print('\\n\\nSua implementação NÃO está correta.')"
   ]
  },
  {
   "cell_type": "markdown",
   "metadata": {},
   "source": [
    "#### 4)  Exercício sobre arquivos alfanuméricos (arquivos texto).\n",
    "\n",
    "Escreva uma função chamada `maxMin()` que receba como parâmetro de entrada o nome de um arquivo. Esta função deve ler o arquivo, o qual será um arquivo contendo ao menos 1 número real por linha e, para cada linha, a função deve identificar o maior e o menor valores desta linha, adicioná-los a uma **lista** e adicionar essa lista a uma outra **lista**. Desta forma, cada elemento da lista mais externa será uma lista contendo o maior e o menor valores de cada uma das linhas do arquivo.\n",
    "\n",
    "**DICAS**\n",
    "\n",
    "+ Após ler uma linha do arquivo, use o método `split()` da classe string para obter uma lista onde cada elemento é um dos valores da linha.\n",
    "+ Use a função embutida `float()` para converter a string representando cada um dos valores da lista em um número em ponto flutuante.\n",
    "\n",
    "O resultando esperado de **retorno** da função é mostrado na linha abaixo, perceba que temos várias **listas** como elementos de uma **lista** mais externa.\n",
    "\n",
    "```python\n",
    "[[5.0, 1.0], [4.0, 4.0], [2.7, 2.7], [3.14, 1.7], [9999.0, -9999.0]]\n",
    "```"
   ]
  },
  {
   "cell_type": "code",
   "execution_count": 7,
   "metadata": {},
   "outputs": [],
   "source": [
    "# Implemente aqui o código do exercício."
   ]
  },
  {
   "cell_type": "markdown",
   "metadata": {},
   "source": [
    "Teste a função com o trecho de código abaixo."
   ]
  },
  {
   "cell_type": "code",
   "execution_count": 8,
   "metadata": {},
   "outputs": [
    {
     "ename": "NameError",
     "evalue": "name 'maxMin' is not defined",
     "output_type": "error",
     "traceback": [
      "\u001b[1;31m---------------------------------------------------------------------------\u001b[0m",
      "\u001b[1;31mNameError\u001b[0m                                 Traceback (most recent call last)",
      "\u001b[1;32m<ipython-input-8-5720e0ffb7b5>\u001b[0m in \u001b[0;36m<module>\u001b[1;34m\u001b[0m\n\u001b[0;32m      7\u001b[0m \u001b[1;33m\u001b[0m\u001b[0m\n\u001b[0;32m      8\u001b[0m \u001b[0mret\u001b[0m \u001b[1;33m=\u001b[0m \u001b[1;36m0\u001b[0m\u001b[1;33m\u001b[0m\u001b[1;33m\u001b[0m\u001b[0m\n\u001b[1;32m----> 9\u001b[1;33m \u001b[1;32mif\u001b[0m\u001b[1;33m(\u001b[0m\u001b[0mmaxMin\u001b[0m\u001b[1;33m(\u001b[0m\u001b[1;34m'numeros.txt'\u001b[0m\u001b[1;33m)\u001b[0m \u001b[1;33m==\u001b[0m \u001b[1;33m[\u001b[0m\u001b[1;33m[\u001b[0m\u001b[1;36m5.0\u001b[0m\u001b[1;33m,\u001b[0m \u001b[1;36m1.0\u001b[0m\u001b[1;33m]\u001b[0m\u001b[1;33m,\u001b[0m \u001b[1;33m[\u001b[0m\u001b[1;36m4.0\u001b[0m\u001b[1;33m,\u001b[0m \u001b[1;36m4.0\u001b[0m\u001b[1;33m]\u001b[0m\u001b[1;33m,\u001b[0m \u001b[1;33m[\u001b[0m\u001b[1;36m2.7\u001b[0m\u001b[1;33m,\u001b[0m \u001b[1;36m2.7\u001b[0m\u001b[1;33m]\u001b[0m\u001b[1;33m,\u001b[0m \u001b[1;33m[\u001b[0m\u001b[1;36m3.14\u001b[0m\u001b[1;33m,\u001b[0m \u001b[1;36m1.7\u001b[0m\u001b[1;33m]\u001b[0m\u001b[1;33m,\u001b[0m \u001b[1;33m[\u001b[0m\u001b[1;36m9999.0\u001b[0m\u001b[1;33m,\u001b[0m \u001b[1;33m-\u001b[0m\u001b[1;36m9999.0\u001b[0m\u001b[1;33m]\u001b[0m\u001b[1;33m]\u001b[0m\u001b[1;33m)\u001b[0m\u001b[1;33m:\u001b[0m\u001b[1;33m\u001b[0m\u001b[1;33m\u001b[0m\u001b[0m\n\u001b[0m\u001b[0;32m     10\u001b[0m     \u001b[0mret\u001b[0m \u001b[1;33m+=\u001b[0m \u001b[1;36m1\u001b[0m\u001b[1;33m\u001b[0m\u001b[1;33m\u001b[0m\u001b[0m\n\u001b[0;32m     11\u001b[0m \u001b[1;33m\u001b[0m\u001b[0m\n",
      "\u001b[1;31mNameError\u001b[0m: name 'maxMin' is not defined"
     ]
    }
   ],
   "source": [
    "with open('numeros.txt', 'w') as f:\n",
    "    f.write('5 4 3 2 1\\n')\n",
    "    f.write('4 4\\n')\n",
    "    f.write('2.7\\n')\n",
    "    f.write('3.14 2.1 1.7\\n')\n",
    "    f.write('-9999 9999 2.1 1.7')\n",
    "\n",
    "ret = 0\n",
    "if(maxMin('numeros.txt') == [[5.0, 1.0], [4.0, 4.0], [2.7, 2.7], [3.14, 1.7], [9999.0, -9999.0]]):\n",
    "    ret += 1\n",
    "    \n",
    "if(ret == 1):\n",
    "    print('Sua implementação está OK!')\n",
    "else:\n",
    "    print('Sua implementação não está correta...')"
   ]
  }
 ],
 "metadata": {
  "kernelspec": {
   "display_name": "Python 3",
   "language": "python",
   "name": "python3"
  },
  "language_info": {
   "codemirror_mode": {
    "name": "ipython",
    "version": 3
   },
   "file_extension": ".py",
   "mimetype": "text/x-python",
   "name": "python",
   "nbconvert_exporter": "python",
   "pygments_lexer": "ipython3",
   "version": "3.7.7"
  }
 },
 "nbformat": 4,
 "nbformat_minor": 4
}
