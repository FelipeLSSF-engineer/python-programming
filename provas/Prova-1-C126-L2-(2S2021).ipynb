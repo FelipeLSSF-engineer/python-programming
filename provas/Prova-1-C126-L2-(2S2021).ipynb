{
 "cells": [
  {
   "cell_type": "markdown",
   "metadata": {},
   "source": [
    "# Prova #1 C126-L2 (2S2021)\n",
    "\n",
    "### Instruções\n",
    "\n",
    "1. Para cada um dos exercícios a seguir, faça o seguinte:\n",
    "    * Adicione comentários ao seu código explicando o que você fez.\n",
    "    * Caso o exercício involva a implementação de uma função:\n",
    "        + Coloque um comentário dizendo o que a função faz, use **docstrings**.\n",
    "        + Escolha nomes auto-explicativos para suas funções e parâmetros.\n",
    "    \n",
    "2. Quando você terminar a prova, vá ao menu do Jupyter ou Colab e selecione a opção para fazer download do notebook.\n",
    "    * Os notebooks tem extensão .ipynb. \n",
    "    * Este deve ser o arquivo que você irá entregar.\n",
    "    * No Jupyter vá até a opção **File** -> **Download as** -> **Notebook (.ipynb)**.\n",
    "    * No Colab vá até a opção **File** -> **Download .ipynb**.\n",
    "   \n",
    "3. Em seguida, faça a entrega do notebook da prova (ou seja, anexe o arquivo) na tarefa criada no MS Teams.\n",
    "4. Atente-se ao prazo de entrega definido na tarefa do MS Teams. \n",
    "5. **A prova deve ser resolvida individualmente**.\n",
    "6. Todas as questões têm o mesmo peso.\n",
    "7. Não se esqueça de colocar seu nome e número de matrícula nos campos abaixo.\n",
    "8. Você pode consultar o material de aula.\n",
    "9. A interpretação faz parte da prova.\n",
    "10. Boa sorte!"
   ]
  },
  {
   "cell_type": "markdown",
   "metadata": {},
   "source": [
    "**Nome**:\n",
    "\n",
    "**Matrícula**:"
   ]
  },
  {
   "cell_type": "markdown",
   "metadata": {},
   "source": [
    "#### 1) Exercício sobre recursão. \n",
    "\n",
    "Escreva uma **função recursiva**, chamada de `multiplicaçãoRecursiva`, que calcule a multiplicação de todos elementos de uma lista passada como parâmetro de entrada da função de **forma recursiva**.\n",
    "\n",
    "**DICAS**\n",
    "+ Para resolver este exercício, se baseie no código de exemplo apresentado em sala de aula para demonstrar o conceito de recursão. \n",
    "+ As modificações necessárias no código do exemplo serão mínimas."
   ]
  },
  {
   "cell_type": "code",
   "execution_count": 1,
   "metadata": {},
   "outputs": [],
   "source": [
    "# Implemente aqui o código da função."
   ]
  },
  {
   "cell_type": "markdown",
   "metadata": {},
   "source": [
    "Execute o trecho de código abaixo para testar sua função. \n",
    "\n",
    "**NÃO ALTERE O CÓDIGO ABAIXO EM HIPÓTESE ALGUMA. SUA IMPLEMENTAÇÃO DEVE FUNCIONAR COM O TRECHO DE CÓDIGO ABAIXO SEM NENHUMA ALTERAÇÃO.**"
   ]
  },
  {
   "cell_type": "code",
   "execution_count": 2,
   "metadata": {},
   "outputs": [
    {
     "ename": "NameError",
     "evalue": "name 'multiplicaçãoRecursiva' is not defined",
     "output_type": "error",
     "traceback": [
      "\u001b[1;31m---------------------------------------------------------------------------\u001b[0m",
      "\u001b[1;31mNameError\u001b[0m                                 Traceback (most recent call last)",
      "\u001b[1;32m<ipython-input-2-c0cacd7d1927>\u001b[0m in \u001b[0;36m<module>\u001b[1;34m\u001b[0m\n\u001b[0;32m      5\u001b[0m \u001b[1;32mfor\u001b[0m \u001b[0mn\u001b[0m \u001b[1;32min\u001b[0m \u001b[0mrange\u001b[0m\u001b[1;33m(\u001b[0m\u001b[1;36m0\u001b[0m\u001b[1;33m,\u001b[0m \u001b[0mlen\u001b[0m\u001b[1;33m(\u001b[0m\u001b[0mresultados_corretos\u001b[0m\u001b[1;33m)\u001b[0m\u001b[1;33m)\u001b[0m\u001b[1;33m:\u001b[0m\u001b[1;33m\u001b[0m\u001b[1;33m\u001b[0m\u001b[0m\n\u001b[0;32m      6\u001b[0m     \u001b[0mret\u001b[0m \u001b[1;33m=\u001b[0m \u001b[1;32mTrue\u001b[0m\u001b[1;33m\u001b[0m\u001b[1;33m\u001b[0m\u001b[0m\n\u001b[1;32m----> 7\u001b[1;33m     \u001b[1;32mif\u001b[0m \u001b[0mmultiplicaçãoRecursiva\u001b[0m\u001b[1;33m(\u001b[0m\u001b[0mlistas\u001b[0m\u001b[1;33m[\u001b[0m\u001b[0mn\u001b[0m\u001b[1;33m]\u001b[0m\u001b[1;33m)\u001b[0m \u001b[1;33m!=\u001b[0m \u001b[0mresultados_corretos\u001b[0m\u001b[1;33m[\u001b[0m\u001b[0mn\u001b[0m\u001b[1;33m]\u001b[0m\u001b[1;33m:\u001b[0m\u001b[1;33m\u001b[0m\u001b[1;33m\u001b[0m\u001b[0m\n\u001b[0m\u001b[0;32m      8\u001b[0m         \u001b[0mret\u001b[0m \u001b[1;33m=\u001b[0m \u001b[1;32mFalse\u001b[0m\u001b[1;33m\u001b[0m\u001b[1;33m\u001b[0m\u001b[0m\n\u001b[0;32m      9\u001b[0m         \u001b[1;32mbreak\u001b[0m\u001b[1;33m\u001b[0m\u001b[1;33m\u001b[0m\u001b[0m\n",
      "\u001b[1;31mNameError\u001b[0m: name 'multiplicaçãoRecursiva' is not defined"
     ]
    }
   ],
   "source": [
    "listas = [[1],[1,2],[1,2,3],[1,2,3,4]]\n",
    "\n",
    "resultados_corretos = [1,2,6,24]\n",
    "\n",
    "for n in range(0, len(resultados_corretos)):\n",
    "    ret = True\n",
    "    if multiplicaçãoRecursiva(listas[n]) != resultados_corretos[n]:\n",
    "        ret = False\n",
    "        break\n",
    "\n",
    "if(ret==True):\n",
    "    print('Implementação da função está correta!')\n",
    "else:\n",
    "    print('Implementação da função NÃO está correta!')"
   ]
  },
  {
   "cell_type": "markdown",
   "metadata": {},
   "source": [
    "#### 2) Exercício sobre laços de repetição.\n",
    "\n",
    "Dado um número inteiro positivo `n`, implemente uma função chamada `fatorial()` que calcule o fatorial de `n` e retorne o resultado dessa operação. **Você deve obrigatoriamente utilizar um laço de repetição para resolver este exercício**.\n",
    "\n",
    "**Exemplos:**:\n",
    "\n",
    "1. Para $n=0$, o resultado é $1$.\n",
    "1. Para $n=1$, o resultado é $1 = 1$.\n",
    "1. Para $n=2$, o resultado é $2*1 = 2$.\n",
    "2. Para $n=3$, o resultado é $3*2*1 = 6$.\n",
    "3. Para $n=4$, o resultado é $4*3*2*1 = 24$."
   ]
  },
  {
   "cell_type": "code",
   "execution_count": 3,
   "metadata": {},
   "outputs": [],
   "source": [
    "# Implemente aqui o código da função."
   ]
  },
  {
   "cell_type": "markdown",
   "metadata": {},
   "source": [
    "Execute o trecho de código abaixo para testar sua função. \n",
    "\n",
    "**NÃO ALTERE O CÓDIGO ABAIXO EM HIPÓTESE ALGUMA. SUA IMPLEMENTAÇÃO DEVE FUNCIONAR COM O TRECHO DE CÓDIGO ABAIXO SEM NENHUMA ALTERAÇÃO.**"
   ]
  },
  {
   "cell_type": "code",
   "execution_count": 4,
   "metadata": {},
   "outputs": [
    {
     "ename": "NameError",
     "evalue": "name 'fatorial' is not defined",
     "output_type": "error",
     "traceback": [
      "\u001b[1;31m---------------------------------------------------------------------------\u001b[0m",
      "\u001b[1;31mNameError\u001b[0m                                 Traceback (most recent call last)",
      "\u001b[1;32m<ipython-input-4-5baa8200400b>\u001b[0m in \u001b[0;36m<module>\u001b[1;34m\u001b[0m\n\u001b[1;32m----> 1\u001b[1;33m \u001b[0mprint\u001b[0m\u001b[1;33m(\u001b[0m\u001b[1;34m'Resultado:'\u001b[0m\u001b[1;33m,\u001b[0m \u001b[0mfatorial\u001b[0m\u001b[1;33m(\u001b[0m\u001b[1;36m0\u001b[0m\u001b[1;33m)\u001b[0m\u001b[1;33m,\u001b[0m \u001b[1;34m' - Correto:'\u001b[0m\u001b[1;33m,\u001b[0m \u001b[0mfatorial\u001b[0m\u001b[1;33m(\u001b[0m\u001b[1;36m0\u001b[0m\u001b[1;33m)\u001b[0m\u001b[1;33m==\u001b[0m\u001b[1;36m1\u001b[0m\u001b[1;33m)\u001b[0m\u001b[1;33m\u001b[0m\u001b[1;33m\u001b[0m\u001b[0m\n\u001b[0m\u001b[0;32m      2\u001b[0m \u001b[0mprint\u001b[0m\u001b[1;33m(\u001b[0m\u001b[1;34m'Resultado:'\u001b[0m\u001b[1;33m,\u001b[0m \u001b[0mfatorial\u001b[0m\u001b[1;33m(\u001b[0m\u001b[1;36m1\u001b[0m\u001b[1;33m)\u001b[0m\u001b[1;33m,\u001b[0m \u001b[1;34m' - Correto:'\u001b[0m\u001b[1;33m,\u001b[0m \u001b[0mfatorial\u001b[0m\u001b[1;33m(\u001b[0m\u001b[1;36m1\u001b[0m\u001b[1;33m)\u001b[0m\u001b[1;33m==\u001b[0m\u001b[1;36m1\u001b[0m\u001b[1;33m)\u001b[0m\u001b[1;33m\u001b[0m\u001b[1;33m\u001b[0m\u001b[0m\n\u001b[0;32m      3\u001b[0m \u001b[0mprint\u001b[0m\u001b[1;33m(\u001b[0m\u001b[1;34m'Resultado:'\u001b[0m\u001b[1;33m,\u001b[0m \u001b[0mfatorial\u001b[0m\u001b[1;33m(\u001b[0m\u001b[1;36m2\u001b[0m\u001b[1;33m)\u001b[0m\u001b[1;33m,\u001b[0m \u001b[1;34m' - Correto:'\u001b[0m\u001b[1;33m,\u001b[0m \u001b[0mfatorial\u001b[0m\u001b[1;33m(\u001b[0m\u001b[1;36m2\u001b[0m\u001b[1;33m)\u001b[0m\u001b[1;33m==\u001b[0m\u001b[1;36m2\u001b[0m\u001b[1;33m)\u001b[0m\u001b[1;33m\u001b[0m\u001b[1;33m\u001b[0m\u001b[0m\n\u001b[0;32m      4\u001b[0m \u001b[0mprint\u001b[0m\u001b[1;33m(\u001b[0m\u001b[1;34m'Resultado:'\u001b[0m\u001b[1;33m,\u001b[0m \u001b[0mfatorial\u001b[0m\u001b[1;33m(\u001b[0m\u001b[1;36m3\u001b[0m\u001b[1;33m)\u001b[0m\u001b[1;33m,\u001b[0m \u001b[1;34m' - Correto:'\u001b[0m\u001b[1;33m,\u001b[0m \u001b[0mfatorial\u001b[0m\u001b[1;33m(\u001b[0m\u001b[1;36m3\u001b[0m\u001b[1;33m)\u001b[0m\u001b[1;33m==\u001b[0m\u001b[1;36m6\u001b[0m\u001b[1;33m)\u001b[0m\u001b[1;33m\u001b[0m\u001b[1;33m\u001b[0m\u001b[0m\n\u001b[0;32m      5\u001b[0m \u001b[0mprint\u001b[0m\u001b[1;33m(\u001b[0m\u001b[1;34m'Resultado:'\u001b[0m\u001b[1;33m,\u001b[0m \u001b[0mfatorial\u001b[0m\u001b[1;33m(\u001b[0m\u001b[1;36m4\u001b[0m\u001b[1;33m)\u001b[0m\u001b[1;33m,\u001b[0m \u001b[1;34m' - Correto:'\u001b[0m\u001b[1;33m,\u001b[0m \u001b[0mfatorial\u001b[0m\u001b[1;33m(\u001b[0m\u001b[1;36m4\u001b[0m\u001b[1;33m)\u001b[0m\u001b[1;33m==\u001b[0m\u001b[1;36m24\u001b[0m\u001b[1;33m)\u001b[0m\u001b[1;33m\u001b[0m\u001b[1;33m\u001b[0m\u001b[0m\n",
      "\u001b[1;31mNameError\u001b[0m: name 'fatorial' is not defined"
     ]
    }
   ],
   "source": [
    "print('Resultado:', fatorial(0), ' - Correto:', fatorial(0)==1)\n",
    "print('Resultado:', fatorial(1), ' - Correto:', fatorial(1)==1)\n",
    "print('Resultado:', fatorial(2), ' - Correto:', fatorial(2)==2)\n",
    "print('Resultado:', fatorial(3), ' - Correto:', fatorial(3)==6)\n",
    "print('Resultado:', fatorial(4), ' - Correto:', fatorial(4)==24)"
   ]
  },
  {
   "cell_type": "markdown",
   "metadata": {},
   "source": [
    "#### 3) Exercício sobre estruturas condicionais.\n",
    "\n",
    "A Uber, uma conhecida empresa de transportes, está contratando novos desenvolvedores e pediu para que você ajudasse com um novo projeto que ela está elaborando.\n",
    "\n",
    "Para isso, você precisa implementar um algoritmo que seja capaz de calcular o valor de uma corrida, baseado na distância percorrida.\n",
    "\n",
    "Portanto, dada a distância percorrida, em metros, calcule quanto ficará o **total** da corrida, sabendo que:\n",
    "\n",
    "1. Para `1 <= distância <= 100`, a bandeira é de `R$3.25` e a corrida é `R$0.25` por metro.\n",
    "2. Para `100 < distância <= 300`, a bandeira é de `R$3.00` e a corrida é `R$0.20` por metro.\n",
    "3. Para `300 < distância <= 500`, a bandeira é de `R$2.00` e a corrida é `R$0.15` por metro.\n",
    "4. Para `500 < distância <= 1000`, a bandeira é de `R$1.75` e a corrida é `R$0.1` por metro.\n",
    "5. Para `distância > 1000`, a bandeira é de `R$1.50` e a corrida é `R$0.05` por metro.\n",
    "6. Para qualquer outro valor de `distância` não listada, retorne `None`, ou seja, o valor nulo.\n",
    "\n",
    "Implemente uma função chamada `calcularCorrida()` que receba a distância percorrida como parâmetro de entrada e retorne o **total da corrida**. O **total da corrida** é calculado como `bandeira` + `corrida`.\n",
    "\n",
    "**Conceitos**:\n",
    "1. \"Bandeira\" é a taxa fixa que o usuário paga pela corrida.\n",
    "2. \"Corrida\" é quanto o usuário paga por metro deslocado.\n",
    "3. \"Total\" é o somatório da Bandeira + Corrida.\n",
    "\n",
    "**Exemplos**: Os exemplos abaixo mostram como devem ser os resultados esperados de retorno da sua função.\n",
    "\n",
    "+ Para uma distância percorrida de 50 metros a função deve retornar: 3.25 + 50*0.25 = `15.75`.\n",
    "    \n",
    "+ Para uma distância percorrida de 200 metros a função deve retornar: 3.0 + 200*0.2 = `43.0`.\n",
    "\n",
    "+ Para uma distância percorrida de 400 metros a função deve retornar: 2.0 + 400*0.15 = `62.0`.\n",
    "\n",
    "+ Para uma distância percorrida de 600 metros a função deve retornar: 1.75 + 600*0.1 = `61.75`.\n",
    "\n",
    "+ Para uma distância percorrida de 2000 metros a função deve retornar: 1.5 + 2000*0.05 = `101.5`.\n",
    "\n",
    "+ Para uma distância percorrida de -10 metros a função deve retornar: `None`."
   ]
  },
  {
   "cell_type": "code",
   "execution_count": 5,
   "metadata": {},
   "outputs": [],
   "source": [
    "# Implemente aqui o código da função."
   ]
  },
  {
   "cell_type": "markdown",
   "metadata": {},
   "source": [
    "Execute o trecho de código abaixo para testar sua função. \n",
    "\n",
    "**NÃO ALTERE O CÓDIGO ABAIXO EM HIPÓTESE ALGUMA. SUA IMPLEMENTAÇÃO DEVE FUNCIONAR COM O TRECHO DE CÓDIGO ABAIXO SEM NENHUMA ALTERAÇÃO.**"
   ]
  },
  {
   "cell_type": "code",
   "execution_count": 6,
   "metadata": {},
   "outputs": [
    {
     "ename": "NameError",
     "evalue": "name 'calcularCorrida' is not defined",
     "output_type": "error",
     "traceback": [
      "\u001b[1;31m---------------------------------------------------------------------------\u001b[0m",
      "\u001b[1;31mNameError\u001b[0m                                 Traceback (most recent call last)",
      "\u001b[1;32m<ipython-input-6-1a0644c8c804>\u001b[0m in \u001b[0;36m<module>\u001b[1;34m\u001b[0m\n\u001b[0;32m      4\u001b[0m \u001b[0mret\u001b[0m \u001b[1;33m=\u001b[0m \u001b[1;36m0\u001b[0m\u001b[1;33m\u001b[0m\u001b[1;33m\u001b[0m\u001b[0m\n\u001b[0;32m      5\u001b[0m \u001b[1;32mfor\u001b[0m \u001b[0mi\u001b[0m \u001b[1;32min\u001b[0m \u001b[0mrange\u001b[0m\u001b[1;33m(\u001b[0m\u001b[0mlen\u001b[0m\u001b[1;33m(\u001b[0m\u001b[0mresultados\u001b[0m\u001b[1;33m)\u001b[0m\u001b[1;33m)\u001b[0m\u001b[1;33m:\u001b[0m\u001b[1;33m\u001b[0m\u001b[1;33m\u001b[0m\u001b[0m\n\u001b[1;32m----> 6\u001b[1;33m     \u001b[0mretorno\u001b[0m \u001b[1;33m=\u001b[0m \u001b[0mcalcularCorrida\u001b[0m\u001b[1;33m(\u001b[0m\u001b[0mentradas\u001b[0m\u001b[1;33m[\u001b[0m\u001b[0mi\u001b[0m\u001b[1;33m]\u001b[0m\u001b[1;33m)\u001b[0m\u001b[1;33m\u001b[0m\u001b[1;33m\u001b[0m\u001b[0m\n\u001b[0m\u001b[0;32m      7\u001b[0m     \u001b[1;32mif\u001b[0m \u001b[0mresultados\u001b[0m\u001b[1;33m[\u001b[0m\u001b[0mi\u001b[0m\u001b[1;33m]\u001b[0m \u001b[1;33m==\u001b[0m \u001b[0mretorno\u001b[0m\u001b[1;33m:\u001b[0m\u001b[1;33m\u001b[0m\u001b[1;33m\u001b[0m\u001b[0m\n\u001b[0;32m      8\u001b[0m         \u001b[0mret\u001b[0m \u001b[1;33m+=\u001b[0m \u001b[1;36m1\u001b[0m\u001b[1;33m\u001b[0m\u001b[1;33m\u001b[0m\u001b[0m\n",
      "\u001b[1;31mNameError\u001b[0m: name 'calcularCorrida' is not defined"
     ]
    }
   ],
   "source": [
    "entradas = [-100, -10, 0, 50, 200, 400, 600, 2000]\n",
    "resultados = [None, None, None, 15.75, 43.0, 62.0, 61.75, 101.5]\n",
    "\n",
    "ret = 0\n",
    "for i in range(len(resultados)):\n",
    "    retorno = calcularCorrida(entradas[i])\n",
    "    if resultados[i] == retorno:\n",
    "        ret += 1\n",
    "\n",
    "if(ret == 8):\n",
    "    print('Implementação da função está correta!')\n",
    "else:\n",
    "    print('Implementação da função NÃO está correta!')"
   ]
  },
  {
   "cell_type": "markdown",
   "metadata": {},
   "source": [
    "#### 4) Exercício sobre funções e laços de repetição.\n",
    "\n",
    "Crie uma função chamada `encontrarMaiorValor()` que aceite um número qualquer (ou seja, arbitrário) de valores, como parâmetros de entrada e retorne o **maior valor** de todos.\n",
    "\n",
    "**DICAS**: \n",
    "\n",
    "+ Lembre-se que a função recebe do interpretador uma **tupla** com todos os parâmetros de entrada. Uma **tupla** é uma coleção de objetos que pode ser iterada com um laço de repetição `for`, por exemplo.\n",
    "+ Crie uma variável auxiliar chamada `maiorValor` que irá armazenar o maior valor e a inicialize com o valor `-Infinito`, ou seja, \n",
    "```python\n",
    "maiorValor = float('-inf')\n",
    "```\n",
    "+ A cada iteração de seu laço de repetição, compare o valor atual da variável `maiorValor` com cada um dos valores da tupla passada para a função pelo interpretador. \n",
    "+ Se o valor da tupla for maior do que o valor armazenado em `maiorValor`, atualize `maiorValor` com aquele valor.\n",
    "\n",
    "**Exemplo:**\n",
    "\n",
    "```python\n",
    "# definindo uma tupla.\n",
    "tupla = (0,1,2,3)\n",
    "\n",
    "# iterando através dos valores da tupla com um laço for.\n",
    "for valor in tupla:\n",
    "    print(valor)\n",
    "```"
   ]
  },
  {
   "cell_type": "code",
   "execution_count": 7,
   "metadata": {},
   "outputs": [],
   "source": [
    "# Implemente aqui o código da função."
   ]
  },
  {
   "cell_type": "markdown",
   "metadata": {},
   "source": [
    "Execute o trecho de código abaixo para testar sua função. \n",
    "\n",
    "**NÃO ALTERE O CÓDIGO ABAIXO EM HIPÓTESE ALGUMA. SUA IMPLEMENTAÇÃO DEVE FUNCIONAR COM O TRECHO DE CÓDIGO ABAIXO SEM NENHUMA ALTERAÇÃO.**"
   ]
  },
  {
   "cell_type": "code",
   "execution_count": 8,
   "metadata": {},
   "outputs": [
    {
     "ename": "NameError",
     "evalue": "name 'encontrarMaiorValor' is not defined",
     "output_type": "error",
     "traceback": [
      "\u001b[1;31m---------------------------------------------------------------------------\u001b[0m",
      "\u001b[1;31mNameError\u001b[0m                                 Traceback (most recent call last)",
      "\u001b[1;32m<ipython-input-8-a3d8f82d2b6b>\u001b[0m in \u001b[0;36m<module>\u001b[1;34m\u001b[0m\n\u001b[0;32m      2\u001b[0m \u001b[1;33m\u001b[0m\u001b[0m\n\u001b[0;32m      3\u001b[0m \u001b[1;31m# Teste #1\u001b[0m\u001b[1;33m\u001b[0m\u001b[1;33m\u001b[0m\u001b[1;33m\u001b[0m\u001b[0m\n\u001b[1;32m----> 4\u001b[1;33m \u001b[0mmaiorValor\u001b[0m \u001b[1;33m=\u001b[0m \u001b[0mencontrarMaiorValor\u001b[0m\u001b[1;33m(\u001b[0m\u001b[1;36m0\u001b[0m\u001b[1;33m)\u001b[0m\u001b[1;33m\u001b[0m\u001b[1;33m\u001b[0m\u001b[0m\n\u001b[0m\u001b[0;32m      5\u001b[0m \u001b[1;32mif\u001b[0m \u001b[0mmaiorValor\u001b[0m \u001b[1;33m==\u001b[0m \u001b[1;36m0\u001b[0m\u001b[1;33m:\u001b[0m\u001b[1;33m\u001b[0m\u001b[1;33m\u001b[0m\u001b[0m\n\u001b[0;32m      6\u001b[0m     \u001b[0mret\u001b[0m \u001b[1;33m+=\u001b[0m \u001b[1;36m1\u001b[0m\u001b[1;33m\u001b[0m\u001b[1;33m\u001b[0m\u001b[0m\n",
      "\u001b[1;31mNameError\u001b[0m: name 'encontrarMaiorValor' is not defined"
     ]
    }
   ],
   "source": [
    "ret = 0\n",
    "\n",
    "# Teste #1\n",
    "maiorValor = encontrarMaiorValor(0)\n",
    "if maiorValor == 0:\n",
    "    ret += 1\n",
    "\n",
    "# Teste #2\n",
    "maiorValor = encontrarMaiorValor(0, 1)\n",
    "if maiorValor == 1:\n",
    "    ret += 1\n",
    "\n",
    "# Teste #3\n",
    "maiorValor = encontrarMaiorValor(1, 23, 45, 4)\n",
    "if maiorValor == 45:\n",
    "    ret += 1\n",
    "\n",
    "# Teste #4\n",
    "maiorValor = encontrarMaiorValor(-23, -2, -1)\n",
    "if maiorValor == -1:\n",
    "    ret += 1\n",
    "    \n",
    "if(ret == 4):\n",
    "    print('Implementação da função está correta!')\n",
    "else:\n",
    "    print('Implementação da função NÃO está correta!')"
   ]
  }
 ],
 "metadata": {
  "kernelspec": {
   "display_name": "Python 3",
   "language": "python",
   "name": "python3"
  },
  "language_info": {
   "codemirror_mode": {
    "name": "ipython",
    "version": 3
   },
   "file_extension": ".py",
   "mimetype": "text/x-python",
   "name": "python",
   "nbconvert_exporter": "python",
   "pygments_lexer": "ipython3",
   "version": "3.7.7"
  }
 },
 "nbformat": 4,
 "nbformat_minor": 4
}
