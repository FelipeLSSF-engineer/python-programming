{
 "cells": [
  {
   "cell_type": "markdown",
   "metadata": {},
   "source": [
    "# Prova #1 C126-L1 (2S2021)\n",
    "\n",
    "### Instruções\n",
    "\n",
    "1. Para cada um dos exercícios a seguir, faça o seguinte:\n",
    "    * Adicione comentários ao seu código explicando o que você fez.\n",
    "    * Caso o exercício involva a implementação de uma função:\n",
    "        + Coloque um comentário dizendo o que a função faz, use **docstrings**.\n",
    "        + Escolha nomes auto-explicativos para suas funções e parâmetros.\n",
    "    \n",
    "2. Quando você terminar a prova, vá ao menu do Jupyter ou Colab e selecione a opção para fazer download do notebook.\n",
    "    * Os notebooks tem extensão .ipynb. \n",
    "    * Este deve ser o arquivo que você irá entregar.\n",
    "    * No Jupyter vá até a opção **File** -> **Download as** -> **Notebook (.ipynb)**.\n",
    "    * No Colab vá até a opção **File** -> **Download .ipynb**.\n",
    "   \n",
    "3. Em seguida, faça a entrega do notebook da prova (ou seja, anexe o arquivo) na tarefa criada no MS Teams.\n",
    "4. Atente-se ao prazo de entrega definido na tarefa do MS Teams. \n",
    "5. **A prova deve ser resolvida individualmente**.\n",
    "6. Todas as questões têm o mesmo peso.\n",
    "7. Não se esqueça de colocar seu nome e número de matrícula nos campos abaixo.\n",
    "8. Você pode consultar o material de aula.\n",
    "9. A interpretação faz parte da prova.\n",
    "10. Boa sorte!"
   ]
  },
  {
   "cell_type": "markdown",
   "metadata": {},
   "source": [
    "#### 1) Exercício sobre recursão. \n",
    "\n",
    "Escreva uma **função recursiva**, chamada de `somaRecursiva`, que calcule a soma de todos os números de `1` a `n`, onde `n` é o parâmetro de entrada da função."
   ]
  },
  {
   "cell_type": "code",
   "execution_count": 1,
   "metadata": {},
   "outputs": [],
   "source": [
    "# Implemente aqui o código da função."
   ]
  },
  {
   "cell_type": "markdown",
   "metadata": {},
   "source": [
    "Execute o trecho de código abaixo para testar sua função. \n",
    "\n",
    "**NÃO ALTERE O CÓDIGO ABAIXO EM HIPÓTESE ALGUMA. SUA IMPLEMENTAÇÃO DEVE FUNCIONAR COM O TRECHO DE CÓDIGO ABAIXO SEM NENHUMA ALTERAÇÃO.**"
   ]
  },
  {
   "cell_type": "code",
   "execution_count": 2,
   "metadata": {},
   "outputs": [
    {
     "ename": "NameError",
     "evalue": "name 'somaRecursiva' is not defined",
     "output_type": "error",
     "traceback": [
      "\u001b[1;31m---------------------------------------------------------------------------\u001b[0m",
      "\u001b[1;31mNameError\u001b[0m                                 Traceback (most recent call last)",
      "\u001b[1;32m<ipython-input-2-66a8a3680fcb>\u001b[0m in \u001b[0;36m<module>\u001b[1;34m\u001b[0m\n\u001b[0;32m      3\u001b[0m \u001b[1;32mfor\u001b[0m \u001b[0mn\u001b[0m \u001b[1;32min\u001b[0m \u001b[0mrange\u001b[0m\u001b[1;33m(\u001b[0m\u001b[1;36m0\u001b[0m\u001b[1;33m,\u001b[0m \u001b[0mlen\u001b[0m\u001b[1;33m(\u001b[0m\u001b[0mresultados_corretos\u001b[0m\u001b[1;33m)\u001b[0m\u001b[1;33m)\u001b[0m\u001b[1;33m:\u001b[0m\u001b[1;33m\u001b[0m\u001b[1;33m\u001b[0m\u001b[0m\n\u001b[0;32m      4\u001b[0m     \u001b[0mret\u001b[0m \u001b[1;33m=\u001b[0m \u001b[1;32mTrue\u001b[0m\u001b[1;33m\u001b[0m\u001b[1;33m\u001b[0m\u001b[0m\n\u001b[1;32m----> 5\u001b[1;33m     \u001b[1;32mif\u001b[0m \u001b[0msomaRecursiva\u001b[0m\u001b[1;33m(\u001b[0m\u001b[0mn\u001b[0m\u001b[1;33m+\u001b[0m\u001b[1;36m1\u001b[0m\u001b[1;33m)\u001b[0m \u001b[1;33m!=\u001b[0m \u001b[0mresultados_corretos\u001b[0m\u001b[1;33m[\u001b[0m\u001b[0mn\u001b[0m\u001b[1;33m]\u001b[0m\u001b[1;33m:\u001b[0m\u001b[1;33m\u001b[0m\u001b[1;33m\u001b[0m\u001b[0m\n\u001b[0m\u001b[0;32m      6\u001b[0m         \u001b[0mret\u001b[0m \u001b[1;33m=\u001b[0m \u001b[1;32mFalse\u001b[0m\u001b[1;33m\u001b[0m\u001b[1;33m\u001b[0m\u001b[0m\n\u001b[0;32m      7\u001b[0m         \u001b[1;32mbreak\u001b[0m\u001b[1;33m\u001b[0m\u001b[1;33m\u001b[0m\u001b[0m\n",
      "\u001b[1;31mNameError\u001b[0m: name 'somaRecursiva' is not defined"
     ]
    }
   ],
   "source": [
    "resultados_corretos = [1, 3, 6, 10, 15, 21]\n",
    "\n",
    "for n in range(0, len(resultados_corretos)):\n",
    "    ret = True\n",
    "    if somaRecursiva(n+1) != resultados_corretos[n]:\n",
    "        ret = False\n",
    "        break\n",
    "\n",
    "if(ret==True):\n",
    "    print('Implementação da função está correta!')\n",
    "else:\n",
    "    print('Implementação da função NÃO está correta!')"
   ]
  },
  {
   "cell_type": "markdown",
   "metadata": {},
   "source": [
    "#### 2) Exercício sobre laços de repetição.\n",
    "\n",
    "Dado um número inteiro positivo `n`, implemente uma função chamada `fatorial()` que calcule o fatorial de `n` e retorne o resultado dessa operação. **Você deve obrigatoriamente utilizar um laço de repetição para resolver este exercício**.\n",
    "\n",
    "**Exemplos:**:\n",
    "\n",
    "1. Para $n=0$, o resultado é $1$.\n",
    "1. Para $n=1$, o resultado é $1 = 1$.\n",
    "1. Para $n=2$, o resultado é $2*1 = 2$.\n",
    "2. Para $n=3$, o resultado é $3*2*1 = 6$.\n",
    "3. Para $n=4$, o resultado é $4*3*2*1 = 24$."
   ]
  },
  {
   "cell_type": "code",
   "execution_count": 3,
   "metadata": {},
   "outputs": [],
   "source": [
    "# Implemente aqui o código da função."
   ]
  },
  {
   "cell_type": "markdown",
   "metadata": {},
   "source": [
    "Execute o trecho de código abaixo para testar sua função. \n",
    "\n",
    "**NÃO ALTERE O CÓDIGO ABAIXO EM HIPÓTESE ALGUMA. SUA IMPLEMENTAÇÃO DEVE FUNCIONAR COM O TRECHO DE CÓDIGO ABAIXO SEM NENHUMA ALTERAÇÃO.**"
   ]
  },
  {
   "cell_type": "code",
   "execution_count": 4,
   "metadata": {},
   "outputs": [
    {
     "ename": "NameError",
     "evalue": "name 'fatorial' is not defined",
     "output_type": "error",
     "traceback": [
      "\u001b[1;31m---------------------------------------------------------------------------\u001b[0m",
      "\u001b[1;31mNameError\u001b[0m                                 Traceback (most recent call last)",
      "\u001b[1;32m<ipython-input-4-5baa8200400b>\u001b[0m in \u001b[0;36m<module>\u001b[1;34m\u001b[0m\n\u001b[1;32m----> 1\u001b[1;33m \u001b[0mprint\u001b[0m\u001b[1;33m(\u001b[0m\u001b[1;34m'Resultado:'\u001b[0m\u001b[1;33m,\u001b[0m \u001b[0mfatorial\u001b[0m\u001b[1;33m(\u001b[0m\u001b[1;36m0\u001b[0m\u001b[1;33m)\u001b[0m\u001b[1;33m,\u001b[0m \u001b[1;34m' - Correto:'\u001b[0m\u001b[1;33m,\u001b[0m \u001b[0mfatorial\u001b[0m\u001b[1;33m(\u001b[0m\u001b[1;36m0\u001b[0m\u001b[1;33m)\u001b[0m\u001b[1;33m==\u001b[0m\u001b[1;36m1\u001b[0m\u001b[1;33m)\u001b[0m\u001b[1;33m\u001b[0m\u001b[1;33m\u001b[0m\u001b[0m\n\u001b[0m\u001b[0;32m      2\u001b[0m \u001b[0mprint\u001b[0m\u001b[1;33m(\u001b[0m\u001b[1;34m'Resultado:'\u001b[0m\u001b[1;33m,\u001b[0m \u001b[0mfatorial\u001b[0m\u001b[1;33m(\u001b[0m\u001b[1;36m1\u001b[0m\u001b[1;33m)\u001b[0m\u001b[1;33m,\u001b[0m \u001b[1;34m' - Correto:'\u001b[0m\u001b[1;33m,\u001b[0m \u001b[0mfatorial\u001b[0m\u001b[1;33m(\u001b[0m\u001b[1;36m1\u001b[0m\u001b[1;33m)\u001b[0m\u001b[1;33m==\u001b[0m\u001b[1;36m1\u001b[0m\u001b[1;33m)\u001b[0m\u001b[1;33m\u001b[0m\u001b[1;33m\u001b[0m\u001b[0m\n\u001b[0;32m      3\u001b[0m \u001b[0mprint\u001b[0m\u001b[1;33m(\u001b[0m\u001b[1;34m'Resultado:'\u001b[0m\u001b[1;33m,\u001b[0m \u001b[0mfatorial\u001b[0m\u001b[1;33m(\u001b[0m\u001b[1;36m2\u001b[0m\u001b[1;33m)\u001b[0m\u001b[1;33m,\u001b[0m \u001b[1;34m' - Correto:'\u001b[0m\u001b[1;33m,\u001b[0m \u001b[0mfatorial\u001b[0m\u001b[1;33m(\u001b[0m\u001b[1;36m2\u001b[0m\u001b[1;33m)\u001b[0m\u001b[1;33m==\u001b[0m\u001b[1;36m2\u001b[0m\u001b[1;33m)\u001b[0m\u001b[1;33m\u001b[0m\u001b[1;33m\u001b[0m\u001b[0m\n\u001b[0;32m      4\u001b[0m \u001b[0mprint\u001b[0m\u001b[1;33m(\u001b[0m\u001b[1;34m'Resultado:'\u001b[0m\u001b[1;33m,\u001b[0m \u001b[0mfatorial\u001b[0m\u001b[1;33m(\u001b[0m\u001b[1;36m3\u001b[0m\u001b[1;33m)\u001b[0m\u001b[1;33m,\u001b[0m \u001b[1;34m' - Correto:'\u001b[0m\u001b[1;33m,\u001b[0m \u001b[0mfatorial\u001b[0m\u001b[1;33m(\u001b[0m\u001b[1;36m3\u001b[0m\u001b[1;33m)\u001b[0m\u001b[1;33m==\u001b[0m\u001b[1;36m6\u001b[0m\u001b[1;33m)\u001b[0m\u001b[1;33m\u001b[0m\u001b[1;33m\u001b[0m\u001b[0m\n\u001b[0;32m      5\u001b[0m \u001b[0mprint\u001b[0m\u001b[1;33m(\u001b[0m\u001b[1;34m'Resultado:'\u001b[0m\u001b[1;33m,\u001b[0m \u001b[0mfatorial\u001b[0m\u001b[1;33m(\u001b[0m\u001b[1;36m4\u001b[0m\u001b[1;33m)\u001b[0m\u001b[1;33m,\u001b[0m \u001b[1;34m' - Correto:'\u001b[0m\u001b[1;33m,\u001b[0m \u001b[0mfatorial\u001b[0m\u001b[1;33m(\u001b[0m\u001b[1;36m4\u001b[0m\u001b[1;33m)\u001b[0m\u001b[1;33m==\u001b[0m\u001b[1;36m24\u001b[0m\u001b[1;33m)\u001b[0m\u001b[1;33m\u001b[0m\u001b[1;33m\u001b[0m\u001b[0m\n",
      "\u001b[1;31mNameError\u001b[0m: name 'fatorial' is not defined"
     ]
    }
   ],
   "source": [
    "print('Resultado:', fatorial(0), ' - Correto:', fatorial(0)==1)\n",
    "print('Resultado:', fatorial(1), ' - Correto:', fatorial(1)==1)\n",
    "print('Resultado:', fatorial(2), ' - Correto:', fatorial(2)==2)\n",
    "print('Resultado:', fatorial(3), ' - Correto:', fatorial(3)==6)\n",
    "print('Resultado:', fatorial(4), ' - Correto:', fatorial(4)==24)"
   ]
  },
  {
   "cell_type": "markdown",
   "metadata": {},
   "source": [
    "#### 3) Exercício sobre estruturas condicionais.\n",
    "\n",
    "A Uber, uma conhecida empresa de transportes, está contratando novos desenvolvedores e pediu para que você ajudasse com um novo projeto que ela está elaborando.\n",
    "\n",
    "Para isso, você precisa implementar um algoritmo que seja capaz de calcular o valor de uma corrida, baseado na distância percorrida.\n",
    "\n",
    "Portanto, dada a distância percorrida, em metros, calcule quanto ficará o **total** da corrida, sabendo que:\n",
    "\n",
    "1. Para `0 <= distância < 100`, a bandeira é de `R$3.00` e a corrida é `R$0.15` por metro.\n",
    "2. Para `100 <= distância < 300`, a bandeira é de `R$2.00` e a corrida é `R$0.15` por metro.\n",
    "3. Para `300 <= distância < 500`, a bandeira é de `R$1.75` e a corrida é `R$0.1` por metro.\n",
    "4. Para `distância >= 500`, a bandeira é de `R$1.50` e a corrida é `R$0.05` por metro.\n",
    "5. Para qualquer outro valor de `distância` não listada, retorne `None`, ou seja, o valor nulo.\n",
    "\n",
    "Implemente uma função chamada `calcularCorrida()` que receba a distância percorrida como parâmetro de entrada e retorne o **total da corrida**. O **total da corrida** é calculado como `bandeira` + `corrida`.\n",
    "\n",
    "**Conceitos**:\n",
    "1. \"Bandeira\" é a taxa fixa que o usuário paga pela corrida.\n",
    "2. \"Corrida\" é quanto o usuário paga por metro deslocado.\n",
    "3. \"Total\" é o somatório da Bandeira + Corrida.\n",
    "\n",
    "**Exemplos**: Os exemplos abaixo mostram como devem ser os resultados esperados de retorno da sua função.\n",
    "\n",
    "+ Para uma distância percorrida de 200 metros a função deve retornar: 200*0.15 + 2.0 = `32.0`.\n",
    "    \n",
    "+ Para uma distância percorrida de 400 metros a função deve retornar: 400*0.1 + 1.75 = `41.75`.\n",
    "\n",
    "+ Para uma distância percorrida de 1000 metros a função deve retornar: 1000*0.05 + 1.5 = `51.5`\n",
    "\n",
    "+ Para uma distância percorrida de -10 metros a função deve retornar: `None`."
   ]
  },
  {
   "cell_type": "code",
   "execution_count": 5,
   "metadata": {},
   "outputs": [],
   "source": [
    "# Implemente aqui o código da função."
   ]
  },
  {
   "cell_type": "markdown",
   "metadata": {},
   "source": [
    "Execute o trecho de código abaixo para testar sua função. \n",
    "\n",
    "**NÃO ALTERE O CÓDIGO ABAIXO EM HIPÓTESE ALGUMA. SUA IMPLEMENTAÇÃO DEVE FUNCIONAR COM O TRECHO DE CÓDIGO ABAIXO SEM NENHUMA ALTERAÇÃO.**"
   ]
  },
  {
   "cell_type": "code",
   "execution_count": 6,
   "metadata": {},
   "outputs": [
    {
     "ename": "NameError",
     "evalue": "name 'calcularCorrida' is not defined",
     "output_type": "error",
     "traceback": [
      "\u001b[1;31m---------------------------------------------------------------------------\u001b[0m",
      "\u001b[1;31mNameError\u001b[0m                                 Traceback (most recent call last)",
      "\u001b[1;32m<ipython-input-6-f1af4c1d683d>\u001b[0m in \u001b[0;36m<module>\u001b[1;34m\u001b[0m\n\u001b[0;32m      7\u001b[0m \u001b[1;31m# Testando casos errados\u001b[0m\u001b[1;33m\u001b[0m\u001b[1;33m\u001b[0m\u001b[1;33m\u001b[0m\u001b[0m\n\u001b[0;32m      8\u001b[0m \u001b[1;32mfor\u001b[0m \u001b[0mvalor\u001b[0m \u001b[1;32min\u001b[0m \u001b[0merrados\u001b[0m\u001b[1;33m:\u001b[0m\u001b[1;33m\u001b[0m\u001b[1;33m\u001b[0m\u001b[0m\n\u001b[1;32m----> 9\u001b[1;33m     \u001b[0mretorno\u001b[0m \u001b[1;33m=\u001b[0m \u001b[0mcalcularCorrida\u001b[0m\u001b[1;33m(\u001b[0m\u001b[0mvalor\u001b[0m\u001b[1;33m)\u001b[0m\u001b[1;33m\u001b[0m\u001b[1;33m\u001b[0m\u001b[0m\n\u001b[0m\u001b[0;32m     10\u001b[0m \u001b[1;33m\u001b[0m\u001b[0m\n\u001b[0;32m     11\u001b[0m     \u001b[1;32mif\u001b[0m \u001b[0mretorno\u001b[0m \u001b[1;33m!=\u001b[0m \u001b[1;32mNone\u001b[0m\u001b[1;33m:\u001b[0m\u001b[1;33m\u001b[0m\u001b[1;33m\u001b[0m\u001b[0m\n",
      "\u001b[1;31mNameError\u001b[0m: name 'calcularCorrida' is not defined"
     ]
    }
   ],
   "source": [
    "errados = [-100, -10, 0]\n",
    "corretos = [100, 200, 300, 400, 500, 1000]\n",
    "resultados = [18.0, 32.0, 47.0, 41.75, 51.75, 51.5]\n",
    "\n",
    "implementation_error = False\n",
    "\n",
    "# Testando casos errados\n",
    "for valor in errados:\n",
    "    retorno = calcularCorrida(valor)\n",
    "    \n",
    "    if retorno != None:\n",
    "        implementation_error = True\n",
    "\n",
    "# Testando casos corretos\n",
    "for i in range(len(corretos)):\n",
    "    retorno = calcularCorrida(corretos[i])\n",
    "    \n",
    "    if resultados[i] != retorno:\n",
    "        implementation_error = True\n",
    "\n",
    "if(implementation_error):\n",
    "    print('Implementação da função NÃO está correta!')\n",
    "else:\n",
    "    print('Implementação da função está correta!')"
   ]
  },
  {
   "cell_type": "markdown",
   "metadata": {},
   "source": [
    "#### 4) Exercício sobre funções e laços de repetição.\n",
    "\n",
    "Crie uma função chamada `encontrarMaiorNome()` que aceite um número qualquer (ou seja, arbitrário) de nomes, ou seja, strings, como parâmetros de entrada e retorne o **maior nome** de todos, bem como **quantas letras** possuem esse nome.\n",
    "\n",
    "**DICAS**: \n",
    "\n",
    "+ Perceba que sua função deve retornar 2 valores, a string correspondente ao maior nome e a quantidade de caracteres naquela string.\n",
    "+ Lembre-se que a função recebe do interpretador uma **tupla** com todos os parâmetros de entrada. Uma **tupla** é uma coleção de objetos que pode ser iterada com um laço de repetição `for`, por exemplo.\n",
    "+ Crie uma variável auxiliar chamada `maiorNome` que irá armazenar o maior nome e a inicialize com uma string vazia, ou seja, `maiorNome = ''`. \n",
    "+ A cada iteração de seu laço de repetição, compare o comprimento atual da variável `maiorNome` com cada um dos comprimentos das strings da tupla passada para a função pelo interpretador. \n",
    "+ Se a string da tupla for maior do que a string armazenada em `maiorNome`, atualize `maiorNome` com aquela string.\n",
    "+ O comprimento de uma string pode ser obtido com a função embutida `len()`.\n",
    "\n",
    "**Exemplo:**\n",
    "\n",
    "```python\n",
    "# definindo uma tupla.\n",
    "tupla = (0,1,2,3)\n",
    "\n",
    "# iterando através dos valores da tupla com um laço for.\n",
    "for valor in tupla:\n",
    "    print(valor)\n",
    "\n",
    "```"
   ]
  },
  {
   "cell_type": "code",
   "execution_count": 7,
   "metadata": {},
   "outputs": [],
   "source": [
    "# Implemente aqui o código da função."
   ]
  },
  {
   "cell_type": "markdown",
   "metadata": {},
   "source": [
    "Execute o trecho de código abaixo para testar sua função. \n",
    "\n",
    "**NÃO ALTERE O CÓDIGO ABAIXO EM HIPÓTESE ALGUMA. SUA IMPLEMENTAÇÃO DEVE FUNCIONAR COM O TRECHO DE CÓDIGO ABAIXO SEM NENHUMA ALTERAÇÃO.**"
   ]
  },
  {
   "cell_type": "code",
   "execution_count": 8,
   "metadata": {},
   "outputs": [
    {
     "ename": "NameError",
     "evalue": "name 'encontrarMaiorNome' is not defined",
     "output_type": "error",
     "traceback": [
      "\u001b[1;31m---------------------------------------------------------------------------\u001b[0m",
      "\u001b[1;31mNameError\u001b[0m                                 Traceback (most recent call last)",
      "\u001b[1;32m<ipython-input-8-264786edfb4d>\u001b[0m in \u001b[0;36m<module>\u001b[1;34m\u001b[0m\n\u001b[0;32m      2\u001b[0m \u001b[1;33m\u001b[0m\u001b[0m\n\u001b[0;32m      3\u001b[0m \u001b[1;31m# Teste #1\u001b[0m\u001b[1;33m\u001b[0m\u001b[1;33m\u001b[0m\u001b[1;33m\u001b[0m\u001b[0m\n\u001b[1;32m----> 4\u001b[1;33m \u001b[0mnome\u001b[0m\u001b[1;33m,\u001b[0m \u001b[0mtamanho\u001b[0m \u001b[1;33m=\u001b[0m \u001b[0mencontrarMaiorNome\u001b[0m\u001b[1;33m(\u001b[0m\u001b[1;34m'Maycol'\u001b[0m\u001b[1;33m,\u001b[0m \u001b[1;34m'Natália'\u001b[0m\u001b[1;33m)\u001b[0m\u001b[1;33m\u001b[0m\u001b[1;33m\u001b[0m\u001b[0m\n\u001b[0m\u001b[0;32m      5\u001b[0m \u001b[0mnome_esperado\u001b[0m\u001b[1;33m,\u001b[0m \u001b[0mtamanho_esperado\u001b[0m \u001b[1;33m=\u001b[0m \u001b[1;34m'Natália'\u001b[0m\u001b[1;33m,\u001b[0m \u001b[1;36m7\u001b[0m\u001b[1;33m\u001b[0m\u001b[1;33m\u001b[0m\u001b[0m\n\u001b[0;32m      6\u001b[0m \u001b[1;32mif\u001b[0m \u001b[0mnome\u001b[0m \u001b[1;33m==\u001b[0m \u001b[0mnome_esperado\u001b[0m \u001b[1;32mand\u001b[0m \u001b[0mtamanho\u001b[0m \u001b[1;33m==\u001b[0m \u001b[0mtamanho_esperado\u001b[0m\u001b[1;33m:\u001b[0m\u001b[1;33m\u001b[0m\u001b[1;33m\u001b[0m\u001b[0m\n",
      "\u001b[1;31mNameError\u001b[0m: name 'encontrarMaiorNome' is not defined"
     ]
    }
   ],
   "source": [
    "ret = 0\n",
    "\n",
    "# Teste #1\n",
    "nome, tamanho = encontrarMaiorNome('Maycol', 'Natália')\n",
    "nome_esperado, tamanho_esperado = 'Natália', 7\n",
    "if nome == nome_esperado and tamanho == tamanho_esperado:\n",
    "    ret += 1\n",
    "\n",
    "# Teste #2\n",
    "nome, tamanho = encontrarMaiorNome('Maycol', 'Felipe', 'Artur', 'Larissa')\n",
    "nome_esperado, tamanho_esperado = 'Larissa', 7\n",
    "if nome == nome_esperado and tamanho == tamanho_esperado:\n",
    "    ret += 1\n",
    "\n",
    "# Teste #3\n",
    "nome, tamanho = encontrarMaiorNome('Maycol', 'Felipe', 'Anna', 'Laura', 'Luana', 'Júlia')\n",
    "nome_esperado, tamanho_esperado = 'Maycol', 6\n",
    "if nome == nome_esperado and tamanho == tamanho_esperado:\n",
    "    ret += 1\n",
    "    \n",
    "if(ret == 3):\n",
    "    print('Implementação da função está correta!')\n",
    "else:\n",
    "    print('Implementação da função NÃO está correta!')"
   ]
  }
 ],
 "metadata": {
  "kernelspec": {
   "display_name": "Python 3",
   "language": "python",
   "name": "python3"
  },
  "language_info": {
   "codemirror_mode": {
    "name": "ipython",
    "version": 3
   },
   "file_extension": ".py",
   "mimetype": "text/x-python",
   "name": "python",
   "nbconvert_exporter": "python",
   "pygments_lexer": "ipython3",
   "version": "3.7.7"
  }
 },
 "nbformat": 4,
 "nbformat_minor": 4
}
