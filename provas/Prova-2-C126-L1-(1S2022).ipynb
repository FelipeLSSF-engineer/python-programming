{
 "cells": [
  {
   "cell_type": "markdown",
   "id": "32c0e230",
   "metadata": {},
   "source": [
    "# Prova #2 C126-L1 (1S2022)\n",
    "\n",
    "### Instruções\n",
    "\n",
    "1. Para cada um dos exercícios a seguir, faça o seguinte:\n",
    "    * Adicione comentários ao seu código explicando o que você fez.\n",
    "    * Caso o exercício involva a implementação de uma função:\n",
    "        + Coloque um comentário dizendo o que a função faz, use **docstrings**.\n",
    "        + Escolha nomes auto-explicativos para suas funções e parâmetros.\n",
    "    \n",
    "2. Quando você terminar a prova, vá ao menu do Jupyter ou Colab e selecione a opção para fazer download do notebook.\n",
    "    * Os notebooks tem extensão .ipynb. \n",
    "    * Este deve ser o arquivo que você irá entregar.\n",
    "    * No Jupyter vá até a opção **File** -> **Download as** -> **Notebook (.ipynb)**.\n",
    "    * No Colab vá até a opção **File** -> **Download .ipynb**.\n",
    "   \n",
    "3. Em seguida, faça a entrega do notebook da prova (ou seja, anexe o arquivo) na tarefa criada no MS Teams.\n",
    "4. Atente-se ao prazo de entrega definido na tarefa do MS Teams. \n",
    "5. **A prova deve ser resolvida individualmente**.\n",
    "6. Todas as questões têm o mesmo peso.\n",
    "7. Não se esqueça de colocar seu nome e número de matrícula nos campos abaixo.\n",
    "8. Você pode consultar o material de aula.\n",
    "9. Não altere em hipótese alguma as células com código de teste.\n",
    "10. A interpretação faz parte da prova.\n",
    "11. Boa sorte!"
   ]
  },
  {
   "cell_type": "markdown",
   "id": "800da621",
   "metadata": {},
   "source": [
    "**Nome**:\n",
    "\n",
    "**Matrícula**:"
   ]
  },
  {
   "cell_type": "markdown",
   "id": "be25ff2f",
   "metadata": {},
   "source": [
    "## Exercícios"
   ]
  },
  {
   "cell_type": "markdown",
   "id": "3d73cdfc",
   "metadata": {},
   "source": [
    "#### 1) Exercício sobre dicionários.\n",
    "\n",
    "Escreva uma função chamada `temperaturaAnual` que receba um dicionário como parâmetro de entrada, onde a chave de cada elemento é uma string com um mês do ano e o valor associado à chave é a temperatura média daquele mês. A função deve **calcular a média** anual das temperaturas e **imprimir** todas as temperaturas **abaixo** da média anual e em que mês elas ocorreram. A tabela abaixo apresenta os valores que devem ser usados para testar a função (**OBS.**: a tabela já é dada como um dicionário na célula de teste abaixo.).\n",
    "\n",
    "|    Mês    | Média (°C) |\n",
    "|:---------:|:----------:|\n",
    "|  Janeiro  |     28     |\n",
    "| Fevereiro |     27     |\n",
    "|   Março   |     25     |\n",
    "|   Abril   |     20     |\n",
    "|    Maio   |     18     |\n",
    "|   Junho   |     15     |\n",
    "|   Julho   |     15     |\n",
    "|   Agosto  |     20     |\n",
    "|  Setembro |     20     |\n",
    "|  Outubro  |     25     |\n",
    "|  Novembro |     27     |\n",
    "|  Dezembro |     29     |\n",
    "\n",
    "Segue abaixo o **resultado esperado** quando o trecho de código de teste, disponibilizado abaixo, é executado.\n",
    "\n",
    "```python\n",
    "Temp. média: 22.42 - Mês: Abril - Temp.: 20\n",
    "Temp. média: 22.42 - Mês: Maio - Temp.: 18\n",
    "Temp. média: 22.42 - Mês: Junho - Temp.: 15\n",
    "Temp. média: 22.42 - Mês: Julho - Temp.: 15\n",
    "Temp. média: 22.42 - Mês: Agosto - Temp.: 20\n",
    "Temp. média: 22.42 - Mês: Setembro - Temp.: 20\n",
    "```\n",
    "\n",
    "Use a linha de código abaixo para imprimir o resultado conforme o mostrado acima.\n",
    "\n",
    "```python\n",
    "print('Temp. média: %1.2f - Mês: %s - Temp.: %d' % (média, mês, temperatura))\n",
    "```\n",
    "\n",
    "**DICAS**\n",
    "\n",
    "* Lembre-se que os valores dos elementos de um dicionário podem ser acessados através do método `values()`, o qual retorna uma lista com todos os valores dos elementos do dicionário. Veja o exemplo abaixo.\n",
    "```python\n",
    "dic = {'A':1, 'B':2, 'C':3}\n",
    "print(dic.values())\n",
    "dict_values([1, 2, 3])\n",
    "```"
   ]
  },
  {
   "cell_type": "code",
   "execution_count": 1,
   "id": "d7cb9bd6",
   "metadata": {},
   "outputs": [],
   "source": [
    "# Implemente o código do exercício aqui."
   ]
  },
  {
   "cell_type": "markdown",
   "id": "b9b1fa0a",
   "metadata": {},
   "source": [
    "Teste a função com o trecho de código abaixo."
   ]
  },
  {
   "cell_type": "code",
   "execution_count": 2,
   "id": "ba4fa9fb",
   "metadata": {},
   "outputs": [
    {
     "ename": "NameError",
     "evalue": "name 'temperaturaAnual' is not defined",
     "output_type": "error",
     "traceback": [
      "\u001b[1;31m---------------------------------------------------------------------------\u001b[0m",
      "\u001b[1;31mNameError\u001b[0m                                 Traceback (most recent call last)",
      "\u001b[1;32mC:\\Users\\FELIPE~1.FIG\\AppData\\Local\\Temp/ipykernel_9668/2077885.py\u001b[0m in \u001b[0;36m<module>\u001b[1;34m\u001b[0m\n\u001b[0;32m      1\u001b[0m \u001b[0mdictMesesTemp\u001b[0m \u001b[1;33m=\u001b[0m \u001b[1;33m{\u001b[0m\u001b[1;34m'Janeiro'\u001b[0m \u001b[1;33m:\u001b[0m \u001b[1;36m28\u001b[0m\u001b[1;33m,\u001b[0m \u001b[1;34m'Fevereiro'\u001b[0m\u001b[1;33m:\u001b[0m \u001b[1;36m27\u001b[0m\u001b[1;33m,\u001b[0m \u001b[1;34m'Março'\u001b[0m \u001b[1;33m:\u001b[0m \u001b[1;36m25\u001b[0m\u001b[1;33m,\u001b[0m \u001b[1;34m'Abril'\u001b[0m \u001b[1;33m:\u001b[0m \u001b[1;36m20\u001b[0m\u001b[1;33m,\u001b[0m \u001b[1;34m'Maio'\u001b[0m \u001b[1;33m:\u001b[0m \u001b[1;36m18\u001b[0m\u001b[1;33m,\u001b[0m \u001b[1;34m'Junho'\u001b[0m \u001b[1;33m:\u001b[0m \u001b[1;36m15\u001b[0m\u001b[1;33m,\u001b[0m \u001b[1;34m'Julho'\u001b[0m \u001b[1;33m:\u001b[0m \u001b[1;36m15\u001b[0m\u001b[1;33m,\u001b[0m \u001b[1;34m'Agosto'\u001b[0m \u001b[1;33m:\u001b[0m \u001b[1;36m20\u001b[0m\u001b[1;33m,\u001b[0m \u001b[1;34m'Setembro'\u001b[0m \u001b[1;33m:\u001b[0m \u001b[1;36m20\u001b[0m\u001b[1;33m,\u001b[0m \u001b[1;34m'Outubro'\u001b[0m \u001b[1;33m:\u001b[0m \u001b[1;36m25\u001b[0m\u001b[1;33m,\u001b[0m \u001b[1;34m'Novembro'\u001b[0m \u001b[1;33m:\u001b[0m \u001b[1;36m27\u001b[0m\u001b[1;33m,\u001b[0m \u001b[1;34m'Dezembro'\u001b[0m \u001b[1;33m:\u001b[0m \u001b[1;36m29\u001b[0m\u001b[1;33m}\u001b[0m\u001b[1;33m\u001b[0m\u001b[1;33m\u001b[0m\u001b[0m\n\u001b[0;32m      2\u001b[0m \u001b[1;33m\u001b[0m\u001b[0m\n\u001b[1;32m----> 3\u001b[1;33m \u001b[0mtemperaturaAnual\u001b[0m\u001b[1;33m(\u001b[0m\u001b[0mdictMesesTemp\u001b[0m\u001b[1;33m)\u001b[0m\u001b[1;33m\u001b[0m\u001b[1;33m\u001b[0m\u001b[0m\n\u001b[0m",
      "\u001b[1;31mNameError\u001b[0m: name 'temperaturaAnual' is not defined"
     ]
    }
   ],
   "source": [
    "dictMesesTemp = {'Janeiro' : 28, 'Fevereiro': 27, 'Março' : 25, 'Abril' : 20, 'Maio' : 18, 'Junho' : 15, 'Julho' : 15, 'Agosto' : 20, 'Setembro' : 20, 'Outubro' : 25, 'Novembro' : 27, 'Dezembro' : 29}\n",
    "\n",
    "temperaturaAnual(dictMesesTemp)"
   ]
  },
  {
   "cell_type": "markdown",
   "id": "143369c5",
   "metadata": {},
   "source": [
    "#### 2) Exercício sobre listas.\n",
    "\n",
    "Implemente uma função chamada `somaDasListas` que calcule a soma dos elementos em uma determinada lista de listas, ou seja, uma lista composta por outras listas. A função deve retornar uma lista onde cada elemento é a soma de cada uma das listas aninhadas.\n",
    "\n",
    "**Exemplo**:\n",
    "\n",
    "```python\n",
    "lista = [[10, 10, 12], [30, 45, 56, 45], [81, 80, 39, 32], [1, 2, 3, 4]]\n",
    "ret = somaDasListas(nums)\n",
    "print(ret)\n",
    "[10.666666666666666, 44.0, 58.0, 2.5]\n",
    "```\n",
    "\n",
    "**DICAS**: \n",
    "\n",
    "1. Use a função embutida `sum` para somar todos os elementos da lista. Veja o exemplo abaixo:\n",
    "```python\n",
    "a  = [1,2,3]\n",
    "b = sum(a)\n",
    "print(b)\n",
    "6\n",
    "```\n",
    "2. Cada uma das listas aninhadas é um elemento da lista mais externa."
   ]
  },
  {
   "cell_type": "code",
   "execution_count": 3,
   "id": "e21659e0",
   "metadata": {},
   "outputs": [],
   "source": [
    "# Implemente o código do exercício aqui."
   ]
  },
  {
   "cell_type": "markdown",
   "id": "c0968e33",
   "metadata": {},
   "source": [
    "Teste a função com o trecho de código abaixo."
   ]
  },
  {
   "cell_type": "code",
   "execution_count": 4,
   "id": "a195f12a",
   "metadata": {},
   "outputs": [
    {
     "ename": "NameError",
     "evalue": "name 'somaDasListas' is not defined",
     "output_type": "error",
     "traceback": [
      "\u001b[1;31m---------------------------------------------------------------------------\u001b[0m",
      "\u001b[1;31mNameError\u001b[0m                                 Traceback (most recent call last)",
      "\u001b[1;32mC:\\Users\\FELIPE~1.FIG\\AppData\\Local\\Temp/ipykernel_9668/3963949889.py\u001b[0m in \u001b[0;36m<module>\u001b[1;34m\u001b[0m\n\u001b[0;32m      2\u001b[0m \u001b[1;33m\u001b[0m\u001b[0m\n\u001b[0;32m      3\u001b[0m \u001b[0mnums\u001b[0m \u001b[1;33m=\u001b[0m \u001b[1;33m[\u001b[0m\u001b[1;33m[\u001b[0m\u001b[1;36m10\u001b[0m\u001b[1;33m,\u001b[0m \u001b[1;36m10\u001b[0m\u001b[1;33m,\u001b[0m \u001b[1;36m12\u001b[0m\u001b[1;33m]\u001b[0m\u001b[1;33m,\u001b[0m \u001b[1;33m[\u001b[0m\u001b[1;36m30\u001b[0m\u001b[1;33m,\u001b[0m \u001b[1;36m45\u001b[0m\u001b[1;33m,\u001b[0m \u001b[1;36m56\u001b[0m\u001b[1;33m,\u001b[0m \u001b[1;36m45\u001b[0m\u001b[1;33m]\u001b[0m\u001b[1;33m,\u001b[0m \u001b[1;33m[\u001b[0m\u001b[1;36m81\u001b[0m\u001b[1;33m,\u001b[0m \u001b[1;36m80\u001b[0m\u001b[1;33m,\u001b[0m \u001b[1;36m39\u001b[0m\u001b[1;33m,\u001b[0m \u001b[1;36m32\u001b[0m\u001b[1;33m]\u001b[0m\u001b[1;33m,\u001b[0m \u001b[1;33m[\u001b[0m\u001b[1;36m1\u001b[0m\u001b[1;33m,\u001b[0m \u001b[1;36m2\u001b[0m\u001b[1;33m,\u001b[0m \u001b[1;36m3\u001b[0m\u001b[1;33m,\u001b[0m \u001b[1;36m4\u001b[0m\u001b[1;33m]\u001b[0m\u001b[1;33m]\u001b[0m\u001b[1;33m\u001b[0m\u001b[1;33m\u001b[0m\u001b[0m\n\u001b[1;32m----> 4\u001b[1;33m \u001b[0mret\u001b[0m \u001b[1;33m=\u001b[0m \u001b[0msomaDasListas\u001b[0m\u001b[1;33m(\u001b[0m\u001b[0mnums\u001b[0m\u001b[1;33m)\u001b[0m\u001b[1;33m\u001b[0m\u001b[1;33m\u001b[0m\u001b[0m\n\u001b[0m\u001b[0;32m      5\u001b[0m \u001b[1;32mif\u001b[0m\u001b[1;33m(\u001b[0m\u001b[0mret\u001b[0m\u001b[1;33m==\u001b[0m\u001b[1;33m[\u001b[0m\u001b[1;36m32\u001b[0m\u001b[1;33m,\u001b[0m \u001b[1;36m176\u001b[0m\u001b[1;33m,\u001b[0m \u001b[1;36m232\u001b[0m\u001b[1;33m,\u001b[0m \u001b[1;36m10\u001b[0m\u001b[1;33m]\u001b[0m\u001b[1;33m)\u001b[0m\u001b[1;33m:\u001b[0m\u001b[1;33m\u001b[0m\u001b[1;33m\u001b[0m\u001b[0m\n\u001b[0;32m      6\u001b[0m     \u001b[0mcnt\u001b[0m \u001b[1;33m+=\u001b[0m \u001b[1;36m1\u001b[0m\u001b[1;33m\u001b[0m\u001b[1;33m\u001b[0m\u001b[0m\n",
      "\u001b[1;31mNameError\u001b[0m: name 'somaDasListas' is not defined"
     ]
    }
   ],
   "source": [
    "cnt = 0\n",
    "\n",
    "nums = [[10, 10, 12], [30, 45, 56, 45], [81, 80, 39, 32], [1, 2, 3, 4]]\n",
    "ret = somaDasListas(nums)\n",
    "if(ret==[32, 176, 232, 10]):\n",
    "    cnt += 1\n",
    "else:\n",
    "    print('Erro no teste #1. Valor retornado:',ret)\n",
    "\n",
    "nums = [[1, 1, -5], [24, -12, 48], [81, -60, -39], [-10, 2, 3]]\n",
    "ret = somaDasListas(nums)\n",
    "if(ret==[-3, 60, -18, -5]):\n",
    "    cnt += 1\n",
    "else:\n",
    "    print('Erro no teste #2. Valor retornado:',ret)\n",
    "    \n",
    "if(cnt == 2):\n",
    "    print('Sua implementação está correta!')\n",
    "else:\n",
    "    print('Sua implementação NÂO está correta...')"
   ]
  },
  {
   "cell_type": "markdown",
   "id": "dc0f6a29",
   "metadata": {},
   "source": [
    "#### 3) Exercício sobre POO.\n",
    "\n",
    "Implemente a classe mostrada no diagrama UML mostrado abaixo. Siga examente as especificações mostradas na figura, ou seja, nomes dos atributos, nomes dos métodos, número de parâmetros dos métodos, encapsulamentos dos membros da classe, etc. \n",
    "\n",
    "Seguem algumas instruções para a implementação da classe:\n",
    "1. Os métodos `getMarca()`, `getModelo()`, `getPlaca()` e `getCor()` devem retornar os valores dos respectivos atributos. \n",
    "2. O método **protegido** `injetarCombustível()` deve **retornar a string** `injetando combustível`.\n",
    "3. O método **privado** `acionarPastilhaDeFreio()` deve **retornar a string** `acionando pastilha de freio`.\n",
    "4. O método **público** `acelerar()` deve chamar o método `injetarCombustível()` e em seguida retornar a string `Acelerando`.\n",
    "5. O método **público** `frear()` deve chamar o método `acionarPastilhaDeFreio()` e em seguida retornar a string `Freando`.\n",
    "6. O método **público** `imprimirInfo()` deve **imprimir** as informações do veículo, ou seja, sua marca, modelo, cor, placa e quilometragem.\n",
    "7. O método **público** `setPlaca()` deve alterar o atributo **privado** `placa` com uma nova placa passada como agumento de entrada para o método.\n",
    "\n",
    "<img src=\"../figures/veiculoProva2v2.png\" width=\"300\" height=\"300\">"
   ]
  },
  {
   "cell_type": "code",
   "execution_count": 5,
   "id": "d8cbc851",
   "metadata": {},
   "outputs": [],
   "source": [
    "# Implemente aqui a classe."
   ]
  },
  {
   "cell_type": "markdown",
   "id": "db9d0a93",
   "metadata": {},
   "source": [
    "Teste a função com o trecho de código abaixo."
   ]
  },
  {
   "cell_type": "code",
   "execution_count": 1,
   "id": "8c462054",
   "metadata": {},
   "outputs": [
    {
     "ename": "NameError",
     "evalue": "name 'Veículo' is not defined",
     "output_type": "error",
     "traceback": [
      "\u001b[1;31m---------------------------------------------------------------------------\u001b[0m",
      "\u001b[1;31mNameError\u001b[0m                                 Traceback (most recent call last)",
      "\u001b[1;32mC:\\Users\\FELIPE~1.FIG\\AppData\\Local\\Temp/ipykernel_14096/3996848523.py\u001b[0m in \u001b[0;36m<module>\u001b[1;34m\u001b[0m\n\u001b[1;32m----> 1\u001b[1;33m \u001b[0mcarro\u001b[0m \u001b[1;33m=\u001b[0m \u001b[0mVeículo\u001b[0m\u001b[1;33m(\u001b[0m\u001b[1;34m'VW'\u001b[0m\u001b[1;33m,\u001b[0m \u001b[1;34m'fusca'\u001b[0m\u001b[1;33m,\u001b[0m \u001b[1;34m'preto'\u001b[0m\u001b[1;33m,\u001b[0m \u001b[1;34m'FGT-3056'\u001b[0m\u001b[1;33m,\u001b[0m \u001b[1;36m100000\u001b[0m\u001b[1;33m)\u001b[0m\u001b[1;33m\u001b[0m\u001b[1;33m\u001b[0m\u001b[0m\n\u001b[0m\u001b[0;32m      2\u001b[0m \u001b[0mret\u001b[0m \u001b[1;33m=\u001b[0m \u001b[1;36m0\u001b[0m\u001b[1;33m\u001b[0m\u001b[1;33m\u001b[0m\u001b[0m\n\u001b[0;32m      3\u001b[0m \u001b[1;32mif\u001b[0m\u001b[1;33m(\u001b[0m\u001b[0mcarro\u001b[0m\u001b[1;33m.\u001b[0m\u001b[0mgetMarca\u001b[0m\u001b[1;33m(\u001b[0m\u001b[1;33m)\u001b[0m\u001b[1;33m==\u001b[0m\u001b[1;34m'VW'\u001b[0m\u001b[1;33m)\u001b[0m\u001b[1;33m:\u001b[0m\u001b[1;33m\u001b[0m\u001b[1;33m\u001b[0m\u001b[0m\n\u001b[0;32m      4\u001b[0m     \u001b[0mret\u001b[0m \u001b[1;33m+=\u001b[0m \u001b[1;36m1\u001b[0m\u001b[1;33m\u001b[0m\u001b[1;33m\u001b[0m\u001b[0m\n\u001b[0;32m      5\u001b[0m \u001b[1;32mif\u001b[0m\u001b[1;33m(\u001b[0m\u001b[0mcarro\u001b[0m\u001b[1;33m.\u001b[0m\u001b[0mgetModelo\u001b[0m\u001b[1;33m(\u001b[0m\u001b[1;33m)\u001b[0m\u001b[1;33m==\u001b[0m\u001b[1;34m'fusca'\u001b[0m\u001b[1;33m)\u001b[0m\u001b[1;33m:\u001b[0m\u001b[1;33m\u001b[0m\u001b[1;33m\u001b[0m\u001b[0m\n",
      "\u001b[1;31mNameError\u001b[0m: name 'Veículo' is not defined"
     ]
    }
   ],
   "source": [
    "carro = Veículo('VW', 'fusca', 'preto', 'FGT-3056', 100000)\n",
    "ret = 0\n",
    "if(carro.getMarca()=='VW'):\n",
    "    ret += 1\n",
    "if(carro.getModelo()=='fusca'):\n",
    "    ret += 1\n",
    "if(carro.getPlaca()=='FGT-3056'):\n",
    "    ret += 1\n",
    "if(carro.getCor()=='preto'):\n",
    "    ret += 1\n",
    "if(carro.quilometragem==100000):\n",
    "    ret += 1\n",
    "if(carro._cor=='preto'):\n",
    "    ret += 1\n",
    "try:\n",
    "    carro.__marca\n",
    "except AttributeError:\n",
    "    ret += 1\n",
    "try:\n",
    "    carro.__modelo\n",
    "except AttributeError:\n",
    "    ret += 1\n",
    "try:\n",
    "    carro.__placa\n",
    "except AttributeError:\n",
    "    ret += 1\n",
    "if(carro._injetarCombustível()=='injetando combustível'):\n",
    "    ret += 1\n",
    "try:\n",
    "    carro.__acionarPastilhaDeFreio()\n",
    "except AttributeError:\n",
    "    ret += 1\n",
    "carro.setPlaca('FST-6789')\n",
    "if(carro.getPlaca()=='FST-6789'):\n",
    "    ret += 1\n",
    "if(carro.imprimirInfo()==None):\n",
    "    ret += 1\n",
    "if(carro.frear()=='Freando'):\n",
    "    ret += 1\n",
    "if(carro.acelerar()=='Acelerando'):\n",
    "    ret += 1\n",
    "if(ret==15):\n",
    "    print('\\nSua implementação está correta!')\n",
    "else:\n",
    "    print('\\nSua implementação NÃO está correta...')"
   ]
  },
  {
   "cell_type": "markdown",
   "id": "5045ba73",
   "metadata": {},
   "source": [
    "#### 4) Exercício sobre a biblioteca NumPy. \n",
    "\n",
    "Implemente uma função chamada `obterValoresMenoresIguais` que recebe uma array `x` e um valor `valor` como parâmetros de entrada e retorna uma array com os valores de `x` **menores ou iguais** a `valor`.\n",
    "\n",
    "**DICA**\n",
    "\n",
    "+ Para gerar a array com os valores menores ou iguais a `valor`, você vai precisar usar **indexação com filtragem condicional**."
   ]
  },
  {
   "cell_type": "code",
   "execution_count": 7,
   "id": "bb44947f",
   "metadata": {},
   "outputs": [],
   "source": [
    "# Implemente o código do exercício aqui."
   ]
  },
  {
   "cell_type": "markdown",
   "id": "e9d28a1e",
   "metadata": {},
   "source": [
    "Teste a função com o trecho de código abaixo."
   ]
  },
  {
   "cell_type": "code",
   "execution_count": 8,
   "id": "3d8cd722",
   "metadata": {},
   "outputs": [
    {
     "ename": "NameError",
     "evalue": "name 'np' is not defined",
     "output_type": "error",
     "traceback": [
      "\u001b[1;31m---------------------------------------------------------------------------\u001b[0m",
      "\u001b[1;31mNameError\u001b[0m                                 Traceback (most recent call last)",
      "\u001b[1;32mC:\\Users\\FELIPE~1.FIG\\AppData\\Local\\Temp/ipykernel_9668/3784309853.py\u001b[0m in \u001b[0;36m<module>\u001b[1;34m\u001b[0m\n\u001b[0;32m      1\u001b[0m \u001b[0mret\u001b[0m \u001b[1;33m=\u001b[0m \u001b[1;36m0\u001b[0m\u001b[1;33m\u001b[0m\u001b[1;33m\u001b[0m\u001b[0m\n\u001b[0;32m      2\u001b[0m \u001b[1;33m\u001b[0m\u001b[0m\n\u001b[1;32m----> 3\u001b[1;33m \u001b[0mx\u001b[0m \u001b[1;33m=\u001b[0m \u001b[0mnp\u001b[0m\u001b[1;33m.\u001b[0m\u001b[0marray\u001b[0m\u001b[1;33m(\u001b[0m\u001b[1;33m[\u001b[0m\u001b[1;33m[\u001b[0m\u001b[1;36m0\u001b[0m\u001b[1;33m,\u001b[0m \u001b[1;36m10\u001b[0m\u001b[1;33m,\u001b[0m \u001b[1;36m20\u001b[0m\u001b[1;33m]\u001b[0m\u001b[1;33m,\u001b[0m \u001b[1;33m[\u001b[0m\u001b[1;36m20\u001b[0m\u001b[1;33m,\u001b[0m \u001b[1;36m30\u001b[0m\u001b[1;33m,\u001b[0m \u001b[1;36m40\u001b[0m\u001b[1;33m]\u001b[0m\u001b[1;33m]\u001b[0m\u001b[1;33m)\u001b[0m\u001b[1;33m\u001b[0m\u001b[1;33m\u001b[0m\u001b[0m\n\u001b[0m\u001b[0;32m      4\u001b[0m \u001b[0mretorno\u001b[0m \u001b[1;33m=\u001b[0m \u001b[0mobterValoresMenoresIguais\u001b[0m\u001b[1;33m(\u001b[0m\u001b[0mx\u001b[0m\u001b[1;33m,\u001b[0m \u001b[1;36m30\u001b[0m\u001b[1;33m)\u001b[0m\u001b[1;33m\u001b[0m\u001b[1;33m\u001b[0m\u001b[0m\n\u001b[0;32m      5\u001b[0m \u001b[1;32mif\u001b[0m\u001b[1;33m(\u001b[0m\u001b[1;33m(\u001b[0m\u001b[0mretorno\u001b[0m \u001b[1;33m==\u001b[0m \u001b[1;33m[\u001b[0m\u001b[1;36m0\u001b[0m\u001b[1;33m,\u001b[0m \u001b[1;36m10\u001b[0m\u001b[1;33m,\u001b[0m \u001b[1;36m20\u001b[0m\u001b[1;33m,\u001b[0m \u001b[1;36m20\u001b[0m\u001b[1;33m,\u001b[0m \u001b[1;36m30\u001b[0m\u001b[1;33m]\u001b[0m\u001b[1;33m)\u001b[0m\u001b[1;33m.\u001b[0m\u001b[0mall\u001b[0m\u001b[1;33m(\u001b[0m\u001b[1;33m)\u001b[0m\u001b[1;33m)\u001b[0m\u001b[1;33m:\u001b[0m\u001b[1;33m\u001b[0m\u001b[1;33m\u001b[0m\u001b[0m\n",
      "\u001b[1;31mNameError\u001b[0m: name 'np' is not defined"
     ]
    }
   ],
   "source": [
    "ret = 0\n",
    "\n",
    "x = np.array([[0, 10, 20], [20, 30, 40]])\n",
    "retorno = obterValoresMenoresIguais(x, 30)\n",
    "if((retorno == [0, 10, 20, 20, 30]).all()):\n",
    "    ret += 1\n",
    "else:\n",
    "    print('Teste #1 está errado. Valor retornado:', retorno)\n",
    "    \n",
    "x = np.array([[0, 10, 20, 32, 34]])\n",
    "retorno = obterValoresMenoresIguais(x, 20)\n",
    "if((retorno == [0, 10, 20]).all()):\n",
    "    ret += 1\n",
    "else:\n",
    "    print('Teste #2 está errado. Valor retornado:',retorno)\n",
    "\n",
    "x = np.array([0, 10, 20, 90, 88, 56, 33, 15])\n",
    "retorno = obterValoresMenoresIguais(x, 56)\n",
    "if((retorno == [0, 10, 20, 56, 33, 15]).all()):\n",
    "    ret += 1\n",
    "else:\n",
    "    print('Teste #3 está errado. Valor retornado:',retorno)    \n",
    "\n",
    "if(ret == 3):\n",
    "    print('Sua implementação está correta.')\n",
    "else:\n",
    "    print('Sua implementação NÃO está correta.')"
   ]
  }
 ],
 "metadata": {
  "kernelspec": {
   "display_name": "Python 3 (ipykernel)",
   "language": "python",
   "name": "python3"
  },
  "language_info": {
   "codemirror_mode": {
    "name": "ipython",
    "version": 3
   },
   "file_extension": ".py",
   "mimetype": "text/x-python",
   "name": "python",
   "nbconvert_exporter": "python",
   "pygments_lexer": "ipython3",
   "version": "3.9.7"
  }
 },
 "nbformat": 4,
 "nbformat_minor": 5
}
