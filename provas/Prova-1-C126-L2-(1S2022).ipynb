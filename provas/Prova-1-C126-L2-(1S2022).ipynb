{
 "cells": [
  {
   "cell_type": "markdown",
   "metadata": {},
   "source": [
    "# Prova #1 C126-L2 (1S2022)\n",
    "\n",
    "### Instruções\n",
    "\n",
    "1. Para cada um dos exercícios a seguir, faça o seguinte:\n",
    "    * Adicione comentários ao seu código explicando o que você fez.\n",
    "    * Caso o exercício involva a implementação de uma função:\n",
    "        + Coloque um comentário dizendo o que a função faz, use **docstrings**.\n",
    "        + Escolha nomes auto-explicativos para suas funções e parâmetros.\n",
    "    \n",
    "2. Quando você terminar a prova, vá ao menu do Jupyter ou Colab e selecione a opção para fazer download do notebook.\n",
    "    * Os notebooks tem extensão .ipynb. \n",
    "    * Este deve ser o arquivo que você irá entregar.\n",
    "    * No Jupyter vá até a opção **File** -> **Download as** -> **Notebook (.ipynb)**.\n",
    "    * No Colab vá até a opção **File** -> **Download .ipynb**.\n",
    "   \n",
    "3. Em seguida, faça a entrega do notebook da prova (ou seja, anexe o arquivo) na tarefa criada no MS Teams.\n",
    "4. Atente-se ao prazo de entrega definido na tarefa do MS Teams. \n",
    "5. **A prova deve ser resolvida individualmente**.\n",
    "6. Todas as questões têm o mesmo peso.\n",
    "7. Não se esqueça de colocar seu nome e número de matrícula nos campos abaixo.\n",
    "8. Você pode consultar o material de aula.\n",
    "9. Não altere em hipótese alguma as células com código de teste.\n",
    "10. A interpretação faz parte da prova.\n",
    "11. Boa sorte!"
   ]
  },
  {
   "cell_type": "markdown",
   "metadata": {},
   "source": [
    "**Nome**:\n",
    "\n",
    "**Matrícula**:"
   ]
  },
  {
   "cell_type": "markdown",
   "metadata": {},
   "source": [
    "## Exercícios"
   ]
  },
  {
   "cell_type": "markdown",
   "metadata": {},
   "source": [
    "#### 1) Exercício sobre controle de fluxo e operadores de associação.\n",
    "\n",
    "Implemente uma função chamada `éConsoante` que receba uma letra (**a letra pode ser maiúscula ou minúscula**) como argumento de entrada e que verifique se essa letra é uma vogal ou consoante. A função deve retornar `True` se a letra for uma consoante e `False` caso contrário.\n",
    "\n",
    "**DICAS**:\n",
    "\n",
    "+ Use os operadores de associação para verificar se a letra digitada está presente em uma lista de vogais.\n",
    "+ Use um dos métodos, `lower` ou `upper`, da classe string para sempre ter a letra passada para a função transformada em letra minúscula ou maiúscula.\n",
    "+ O exemplo abaixo cria uma lista com 3 consoantes.\n",
    "```python\n",
    "lista = ['B', 'c', 'D']\n",
    "```"
   ]
  },
  {
   "cell_type": "code",
   "execution_count": 1,
   "metadata": {},
   "outputs": [],
   "source": [
    "# Implemente aqui o código da função."
   ]
  },
  {
   "cell_type": "markdown",
   "metadata": {},
   "source": [
    "Execute o trecho de código abaixo para testar sua função. \n",
    "\n",
    "**NÃO ALTERE O CÓDIGO ABAIXO EM HIPÓTESE ALGUMA. SUA IMPLEMENTAÇÃO DEVE FUNCIONAR COM O TRECHO DE CÓDIGO ABAIXO SEM NENHUMA ALTERAÇÃO.**"
   ]
  },
  {
   "cell_type": "code",
   "execution_count": 2,
   "metadata": {},
   "outputs": [
    {
     "ename": "NameError",
     "evalue": "name 'éConsoante' is not defined",
     "output_type": "error",
     "traceback": [
      "\u001b[1;31m---------------------------------------------------------------------------\u001b[0m",
      "\u001b[1;31mNameError\u001b[0m                                 Traceback (most recent call last)",
      "\u001b[1;32mC:\\Users\\FELIPE~1.FIG\\AppData\\Local\\Temp/ipykernel_12436/520026091.py\u001b[0m in \u001b[0;36m<module>\u001b[1;34m\u001b[0m\n\u001b[1;32m----> 1\u001b[1;33m \u001b[0mprint\u001b[0m\u001b[1;33m(\u001b[0m\u001b[1;34m'Retorno:'\u001b[0m\u001b[1;33m,\u001b[0m \u001b[0méConsoante\u001b[0m\u001b[1;33m(\u001b[0m\u001b[1;34m'v'\u001b[0m\u001b[1;33m)\u001b[0m\u001b[1;33m,\u001b[0m \u001b[1;34m' - Valor correto?'\u001b[0m\u001b[1;33m,\u001b[0m \u001b[0méConsoante\u001b[0m\u001b[1;33m(\u001b[0m\u001b[1;34m'v'\u001b[0m\u001b[1;33m)\u001b[0m\u001b[1;33m==\u001b[0m\u001b[1;32mTrue\u001b[0m\u001b[1;33m)\u001b[0m\u001b[1;33m\u001b[0m\u001b[1;33m\u001b[0m\u001b[0m\n\u001b[0m\u001b[0;32m      2\u001b[0m \u001b[0mprint\u001b[0m\u001b[1;33m(\u001b[0m\u001b[1;34m'Retorno:'\u001b[0m\u001b[1;33m,\u001b[0m \u001b[0méConsoante\u001b[0m\u001b[1;33m(\u001b[0m\u001b[1;34m'V'\u001b[0m\u001b[1;33m)\u001b[0m\u001b[1;33m,\u001b[0m \u001b[1;34m' - Valor correto?'\u001b[0m\u001b[1;33m,\u001b[0m \u001b[0méConsoante\u001b[0m\u001b[1;33m(\u001b[0m\u001b[1;34m'V'\u001b[0m\u001b[1;33m)\u001b[0m\u001b[1;33m==\u001b[0m\u001b[1;32mTrue\u001b[0m\u001b[1;33m)\u001b[0m\u001b[1;33m\u001b[0m\u001b[1;33m\u001b[0m\u001b[0m\n\u001b[0;32m      3\u001b[0m \u001b[0mprint\u001b[0m\u001b[1;33m(\u001b[0m\u001b[1;34m'Retorno:'\u001b[0m\u001b[1;33m,\u001b[0m \u001b[0méConsoante\u001b[0m\u001b[1;33m(\u001b[0m\u001b[1;34m'A'\u001b[0m\u001b[1;33m)\u001b[0m\u001b[1;33m,\u001b[0m \u001b[1;34m' - Valor correto?'\u001b[0m\u001b[1;33m,\u001b[0m \u001b[0méConsoante\u001b[0m\u001b[1;33m(\u001b[0m\u001b[1;34m'A'\u001b[0m\u001b[1;33m)\u001b[0m\u001b[1;33m==\u001b[0m\u001b[1;32mFalse\u001b[0m\u001b[1;33m)\u001b[0m\u001b[1;33m\u001b[0m\u001b[1;33m\u001b[0m\u001b[0m\n\u001b[0;32m      4\u001b[0m \u001b[0mprint\u001b[0m\u001b[1;33m(\u001b[0m\u001b[1;34m'Retorno:'\u001b[0m\u001b[1;33m,\u001b[0m \u001b[0méConsoante\u001b[0m\u001b[1;33m(\u001b[0m\u001b[1;34m'a'\u001b[0m\u001b[1;33m)\u001b[0m\u001b[1;33m,\u001b[0m \u001b[1;34m' - Valor correto?'\u001b[0m\u001b[1;33m,\u001b[0m \u001b[0méConsoante\u001b[0m\u001b[1;33m(\u001b[0m\u001b[1;34m'a'\u001b[0m\u001b[1;33m)\u001b[0m\u001b[1;33m==\u001b[0m\u001b[1;32mFalse\u001b[0m\u001b[1;33m)\u001b[0m\u001b[1;33m\u001b[0m\u001b[1;33m\u001b[0m\u001b[0m\n",
      "\u001b[1;31mNameError\u001b[0m: name 'éConsoante' is not defined"
     ]
    }
   ],
   "source": [
    "print('Retorno:', éConsoante('v'), ' - Valor correto?', éConsoante('v')==True)\n",
    "print('Retorno:', éConsoante('V'), ' - Valor correto?', éConsoante('V')==True)\n",
    "print('Retorno:', éConsoante('A'), ' - Valor correto?', éConsoante('A')==False)\n",
    "print('Retorno:', éConsoante('a'), ' - Valor correto?', éConsoante('a')==False)"
   ]
  },
  {
   "cell_type": "markdown",
   "metadata": {},
   "source": [
    "#### 2) Exercício sobre laços de repetição.\n",
    "\n",
    "Implemente uma função chamada `fatorial` que calcule o fatorial de um valor de entrada `x`. \n",
    "\n",
    "**IMPORTANTE: Utilize laços de repetição para implementar esta função. Você pode utilizar tanto `for` quanto `while`**\n",
    "\n",
    "**Dica**: O fatorial de um número é calculado pela multiplicação desse número por todos os seus antecessores até chegar ao número 1. Uma exceção é o fatorial de 0, que é igual a 1.\n",
    "\n",
    "**Exemplos**: \n",
    "\n",
    "* 0! = 1\n",
    "* 1! = 1\n",
    "* 2! = 2 * 1 = 2\n",
    "* 3! = 3 * 2 * 1 = 6\n",
    "* 4! = 4 * 3 * 2 * 1 = 24"
   ]
  },
  {
   "cell_type": "code",
   "execution_count": 3,
   "metadata": {},
   "outputs": [],
   "source": [
    "# Implemente aqui o código da função."
   ]
  },
  {
   "cell_type": "markdown",
   "metadata": {},
   "source": [
    "Execute o trecho de código abaixo para testar sua função. \n",
    "\n",
    "**NÃO ALTERE O CÓDIGO ABAIXO EM HIPÓTESE ALGUMA. SUA IMPLEMENTAÇÃO DEVE FUNCIONAR COM O TRECHO DE CÓDIGO ABAIXO SEM NENHUMA ALTERAÇÃO.**"
   ]
  },
  {
   "cell_type": "code",
   "execution_count": 4,
   "metadata": {},
   "outputs": [
    {
     "ename": "NameError",
     "evalue": "name 'fatorial' is not defined",
     "output_type": "error",
     "traceback": [
      "\u001b[1;31m---------------------------------------------------------------------------\u001b[0m",
      "\u001b[1;31mNameError\u001b[0m                                 Traceback (most recent call last)",
      "\u001b[1;32mC:\\Users\\FELIPE~1.FIG\\AppData\\Local\\Temp/ipykernel_12436/1381155512.py\u001b[0m in \u001b[0;36m<module>\u001b[1;34m\u001b[0m\n\u001b[1;32m----> 1\u001b[1;33m \u001b[0mprint\u001b[0m\u001b[1;33m(\u001b[0m\u001b[1;34m'fatorial:'\u001b[0m\u001b[1;33m,\u001b[0m \u001b[0mfatorial\u001b[0m\u001b[1;33m(\u001b[0m\u001b[1;36m0\u001b[0m\u001b[1;33m)\u001b[0m\u001b[1;33m,\u001b[0m \u001b[1;34m' - resultado correto?'\u001b[0m\u001b[1;33m,\u001b[0m \u001b[0mfatorial\u001b[0m\u001b[1;33m(\u001b[0m\u001b[1;36m0\u001b[0m\u001b[1;33m)\u001b[0m\u001b[1;33m==\u001b[0m\u001b[1;36m1\u001b[0m\u001b[1;33m)\u001b[0m\u001b[1;33m\u001b[0m\u001b[1;33m\u001b[0m\u001b[0m\n\u001b[0m\u001b[0;32m      2\u001b[0m \u001b[0mprint\u001b[0m\u001b[1;33m(\u001b[0m\u001b[1;34m'fatorial:'\u001b[0m\u001b[1;33m,\u001b[0m \u001b[0mfatorial\u001b[0m\u001b[1;33m(\u001b[0m\u001b[1;36m1\u001b[0m\u001b[1;33m)\u001b[0m\u001b[1;33m,\u001b[0m \u001b[1;34m' - resultado correto?'\u001b[0m\u001b[1;33m,\u001b[0m \u001b[0mfatorial\u001b[0m\u001b[1;33m(\u001b[0m\u001b[1;36m1\u001b[0m\u001b[1;33m)\u001b[0m\u001b[1;33m==\u001b[0m\u001b[1;36m1\u001b[0m\u001b[1;33m)\u001b[0m\u001b[1;33m\u001b[0m\u001b[1;33m\u001b[0m\u001b[0m\n\u001b[0;32m      3\u001b[0m \u001b[0mprint\u001b[0m\u001b[1;33m(\u001b[0m\u001b[1;34m'fatorial:'\u001b[0m\u001b[1;33m,\u001b[0m \u001b[0mfatorial\u001b[0m\u001b[1;33m(\u001b[0m\u001b[1;36m2\u001b[0m\u001b[1;33m)\u001b[0m\u001b[1;33m,\u001b[0m \u001b[1;34m' - resultado correto?'\u001b[0m\u001b[1;33m,\u001b[0m \u001b[0mfatorial\u001b[0m\u001b[1;33m(\u001b[0m\u001b[1;36m2\u001b[0m\u001b[1;33m)\u001b[0m\u001b[1;33m==\u001b[0m\u001b[1;36m2\u001b[0m\u001b[1;33m)\u001b[0m\u001b[1;33m\u001b[0m\u001b[1;33m\u001b[0m\u001b[0m\n\u001b[0;32m      4\u001b[0m \u001b[0mprint\u001b[0m\u001b[1;33m(\u001b[0m\u001b[1;34m'fatorial:'\u001b[0m\u001b[1;33m,\u001b[0m \u001b[0mfatorial\u001b[0m\u001b[1;33m(\u001b[0m\u001b[1;36m3\u001b[0m\u001b[1;33m)\u001b[0m\u001b[1;33m,\u001b[0m \u001b[1;34m' - resultado correto?'\u001b[0m\u001b[1;33m,\u001b[0m \u001b[0mfatorial\u001b[0m\u001b[1;33m(\u001b[0m\u001b[1;36m3\u001b[0m\u001b[1;33m)\u001b[0m\u001b[1;33m==\u001b[0m\u001b[1;36m6\u001b[0m\u001b[1;33m)\u001b[0m\u001b[1;33m\u001b[0m\u001b[1;33m\u001b[0m\u001b[0m\n\u001b[0;32m      5\u001b[0m \u001b[0mprint\u001b[0m\u001b[1;33m(\u001b[0m\u001b[1;34m'fatorial:'\u001b[0m\u001b[1;33m,\u001b[0m \u001b[0mfatorial\u001b[0m\u001b[1;33m(\u001b[0m\u001b[1;36m4\u001b[0m\u001b[1;33m)\u001b[0m\u001b[1;33m,\u001b[0m \u001b[1;34m' - resultado correto?'\u001b[0m\u001b[1;33m,\u001b[0m \u001b[0mfatorial\u001b[0m\u001b[1;33m(\u001b[0m\u001b[1;36m4\u001b[0m\u001b[1;33m)\u001b[0m\u001b[1;33m==\u001b[0m\u001b[1;36m24\u001b[0m\u001b[1;33m)\u001b[0m\u001b[1;33m\u001b[0m\u001b[1;33m\u001b[0m\u001b[0m\n",
      "\u001b[1;31mNameError\u001b[0m: name 'fatorial' is not defined"
     ]
    }
   ],
   "source": [
    "print('fatorial:', fatorial(0), ' - resultado correto?', fatorial(0)==1)\n",
    "print('fatorial:', fatorial(1), ' - resultado correto?', fatorial(1)==1)\n",
    "print('fatorial:', fatorial(2), ' - resultado correto?', fatorial(2)==2)\n",
    "print('fatorial:', fatorial(3), ' - resultado correto?', fatorial(3)==6)\n",
    "print('fatorial:', fatorial(4), ' - resultado correto?', fatorial(4)==24)"
   ]
  },
  {
   "cell_type": "markdown",
   "metadata": {},
   "source": [
    "#### 3) Exercício sobre controle de fluxo, operadores lógicos e de comparação.\n",
    "\n",
    "Implemente uma função chamada `obterMédiaEConceito` que receba três notas, `nota1`, `nota2` e `nota3`, recebidas por um aluno ao longo do semestre. A atribuição de conceitos obedece à tabela abaixo: \n",
    "\n",
    "| Média de Aproveitamento | Conceito |\n",
    "|:-----------------------:|:--------:|\n",
    "|     85.0 < média <= 100.0    |     A    |\n",
    "|     65.0 < média <= 85.0    |     B    |\n",
    "|     45.0 < média <= 65.0     |     C    |\n",
    "|     25.0 < média <= 45.0     |     D    |\n",
    "|     0.0 <= média <= 25.0    |     E    |\n",
    "\n",
    "A função deve **calcular** a média aritmética simples alcançada pelo aluno e **retornar** a média, o conceito correspondente e a string `APROVADO` se o conceito for A ou B ou `REPROVADO` se o conceito for C, D ou E.\n",
    "\n",
    "**DICAS**: \n",
    "\n",
    "+ **Sua função DEVE retornar 3 valores.**"
   ]
  },
  {
   "cell_type": "code",
   "execution_count": 5,
   "metadata": {},
   "outputs": [],
   "source": [
    "# Implemente aqui o código da função."
   ]
  },
  {
   "cell_type": "markdown",
   "metadata": {},
   "source": [
    "Execute o trecho de código abaixo para testar sua função. \n",
    "\n",
    "**NÃO ALTERE O CÓDIGO ABAIXO EM HIPÓTESE ALGUMA. SUA IMPLEMENTAÇÃO DEVE FUNCIONAR COM O TRECHO DE CÓDIGO ABAIXO SEM NENHUMA ALTERAÇÃO.**"
   ]
  },
  {
   "cell_type": "code",
   "execution_count": 6,
   "metadata": {},
   "outputs": [
    {
     "ename": "NameError",
     "evalue": "name 'obterMédiaEConceito' is not defined",
     "output_type": "error",
     "traceback": [
      "\u001b[1;31m---------------------------------------------------------------------------\u001b[0m",
      "\u001b[1;31mNameError\u001b[0m                                 Traceback (most recent call last)",
      "\u001b[1;32mC:\\Users\\FELIPE~1.FIG\\AppData\\Local\\Temp/ipykernel_12436/3756920231.py\u001b[0m in \u001b[0;36m<module>\u001b[1;34m\u001b[0m\n\u001b[1;32m----> 1\u001b[1;33m \u001b[0mprint\u001b[0m\u001b[1;33m(\u001b[0m\u001b[1;34m'Teste 1 - resultado correto?'\u001b[0m\u001b[1;33m,\u001b[0m \u001b[0mobterMédiaEConceito\u001b[0m\u001b[1;33m(\u001b[0m\u001b[1;36m85.1\u001b[0m\u001b[1;33m,\u001b[0m \u001b[1;36m85.1\u001b[0m\u001b[1;33m,\u001b[0m \u001b[1;36m85.1\u001b[0m\u001b[1;33m)\u001b[0m\u001b[1;33m==\u001b[0m\u001b[1;33m(\u001b[0m\u001b[1;36m85.1\u001b[0m\u001b[1;33m,\u001b[0m \u001b[1;34m'A'\u001b[0m\u001b[1;33m,\u001b[0m \u001b[1;34m'APROVADO'\u001b[0m\u001b[1;33m)\u001b[0m\u001b[1;33m)\u001b[0m\u001b[1;33m\u001b[0m\u001b[1;33m\u001b[0m\u001b[0m\n\u001b[0m\u001b[0;32m      2\u001b[0m \u001b[0mprint\u001b[0m\u001b[1;33m(\u001b[0m\u001b[1;34m'Teste 2 - resultado correto?'\u001b[0m\u001b[1;33m,\u001b[0m \u001b[0mobterMédiaEConceito\u001b[0m\u001b[1;33m(\u001b[0m\u001b[1;36m85.0\u001b[0m\u001b[1;33m,\u001b[0m \u001b[1;36m85.0\u001b[0m\u001b[1;33m,\u001b[0m \u001b[1;36m85.0\u001b[0m\u001b[1;33m)\u001b[0m\u001b[1;33m==\u001b[0m\u001b[1;33m(\u001b[0m\u001b[1;36m85.0\u001b[0m\u001b[1;33m,\u001b[0m \u001b[1;34m'B'\u001b[0m\u001b[1;33m,\u001b[0m \u001b[1;34m'APROVADO'\u001b[0m\u001b[1;33m)\u001b[0m\u001b[1;33m)\u001b[0m\u001b[1;33m\u001b[0m\u001b[1;33m\u001b[0m\u001b[0m\n\u001b[0;32m      3\u001b[0m \u001b[0mprint\u001b[0m\u001b[1;33m(\u001b[0m\u001b[1;34m'Teste 3 - resultado correto?'\u001b[0m\u001b[1;33m,\u001b[0m \u001b[0mobterMédiaEConceito\u001b[0m\u001b[1;33m(\u001b[0m\u001b[1;36m65.1\u001b[0m\u001b[1;33m,\u001b[0m \u001b[1;36m65.1\u001b[0m\u001b[1;33m,\u001b[0m \u001b[1;36m65.1\u001b[0m\u001b[1;33m)\u001b[0m\u001b[1;33m==\u001b[0m\u001b[1;33m(\u001b[0m\u001b[1;36m65.1\u001b[0m\u001b[1;33m,\u001b[0m \u001b[1;34m'B'\u001b[0m\u001b[1;33m,\u001b[0m \u001b[1;34m'APROVADO'\u001b[0m\u001b[1;33m)\u001b[0m\u001b[1;33m)\u001b[0m\u001b[1;33m\u001b[0m\u001b[1;33m\u001b[0m\u001b[0m\n\u001b[0;32m      4\u001b[0m \u001b[0mprint\u001b[0m\u001b[1;33m(\u001b[0m\u001b[1;34m'Teste 4 - resultado correto?'\u001b[0m\u001b[1;33m,\u001b[0m \u001b[0mobterMédiaEConceito\u001b[0m\u001b[1;33m(\u001b[0m\u001b[1;36m65.0\u001b[0m\u001b[1;33m,\u001b[0m \u001b[1;36m65.0\u001b[0m\u001b[1;33m,\u001b[0m \u001b[1;36m65.0\u001b[0m\u001b[1;33m)\u001b[0m\u001b[1;33m==\u001b[0m\u001b[1;33m(\u001b[0m\u001b[1;36m65.0\u001b[0m\u001b[1;33m,\u001b[0m \u001b[1;34m'C'\u001b[0m\u001b[1;33m,\u001b[0m \u001b[1;34m'REPROVADO'\u001b[0m\u001b[1;33m)\u001b[0m\u001b[1;33m)\u001b[0m\u001b[1;33m\u001b[0m\u001b[1;33m\u001b[0m\u001b[0m\n\u001b[0;32m      5\u001b[0m \u001b[0mprint\u001b[0m\u001b[1;33m(\u001b[0m\u001b[1;34m'Teste 5 - resultado correto?'\u001b[0m\u001b[1;33m,\u001b[0m \u001b[0mobterMédiaEConceito\u001b[0m\u001b[1;33m(\u001b[0m\u001b[1;36m45.1\u001b[0m\u001b[1;33m,\u001b[0m \u001b[1;36m45.1\u001b[0m\u001b[1;33m,\u001b[0m \u001b[1;36m45.1\u001b[0m\u001b[1;33m)\u001b[0m\u001b[1;33m==\u001b[0m\u001b[1;33m(\u001b[0m\u001b[1;36m45.1\u001b[0m\u001b[1;33m,\u001b[0m \u001b[1;34m'C'\u001b[0m\u001b[1;33m,\u001b[0m \u001b[1;34m'REPROVADO'\u001b[0m\u001b[1;33m)\u001b[0m\u001b[1;33m)\u001b[0m\u001b[1;33m\u001b[0m\u001b[1;33m\u001b[0m\u001b[0m\n",
      "\u001b[1;31mNameError\u001b[0m: name 'obterMédiaEConceito' is not defined"
     ]
    }
   ],
   "source": [
    "print('Teste 1 - resultado correto?', obterMédiaEConceito(85.1, 85.1, 85.1)==(85.1, 'A', 'APROVADO'))\n",
    "print('Teste 2 - resultado correto?', obterMédiaEConceito(85.0, 85.0, 85.0)==(85.0, 'B', 'APROVADO'))\n",
    "print('Teste 3 - resultado correto?', obterMédiaEConceito(65.1, 65.1, 65.1)==(65.1, 'B', 'APROVADO'))\n",
    "print('Teste 4 - resultado correto?', obterMédiaEConceito(65.0, 65.0, 65.0)==(65.0, 'C', 'REPROVADO'))\n",
    "print('Teste 5 - resultado correto?', obterMédiaEConceito(45.1, 45.1, 45.1)==(45.1, 'C', 'REPROVADO'))\n",
    "print('Teste 6 - resultado correto?', obterMédiaEConceito(45.0, 45.0, 45.0)==(45.0, 'D', 'REPROVADO'))\n",
    "print('Teste 7 - resultado correto?', obterMédiaEConceito(25.2, 25.2, 25.2)==(25.2, 'D', 'REPROVADO'))\n",
    "print('Teste 8 - resultado correto?', obterMédiaEConceito(25.0, 25.0, 25.0)==(25.0, 'E', 'REPROVADO'))\n",
    "print('Teste 9 - resultado correto?', obterMédiaEConceito(0.0, 0.0, 0.0)==(0.0, 'E', 'REPROVADO'))"
   ]
  },
  {
   "cell_type": "markdown",
   "metadata": {},
   "source": [
    "#### 4) Exercício sobre funções, laços de repetição, controle de fluxo, operadores lógicos e de comparação.\n",
    "\n",
    "Implemente uma função chamada `obterMédiaEConceitov2` que receba **um número indefinido de notas**, recebidas por um aluno ao longo do semestre. A atribuição de conceitos obedece à tabela abaixo: \n",
    "\n",
    "| Média de Aproveitamento | Conceito |\n",
    "|:-----------------------:|:--------:|\n",
    "|     85.0 < média <= 100.0    |     A    |\n",
    "|     65.0 < média <= 85.0    |     B    |\n",
    "|     45.0 < média <= 65.0     |     C    |\n",
    "|     25.0 < média <= 45.0     |     D    |\n",
    "|     0.0 <= média <= 25.0    |     E    |\n",
    "\n",
    "A função deve **calcular** a média aritmética simples alcançada pelo aluno e **retornar** a média, o conceito correspondente e a string `APROVADO` se o conceito for A ou B ou `REPROVADO` se o conceito for C, D ou E.\n",
    "\n",
    "**DICAS**: \n",
    "\n",
    "+ **Sua função DEVE retornar 3 valores.**\n",
    "+ A implementação desta função é praticamente idêntica àquela do exercício anterior, sendo a única diferença o número arbitrário de notas que a função pode receber.\n",
    "+ Para calcular a média, você pode, se preferir, usar a função embutida `sum` para somar todos os valores da tupla passada para a função e usar a função embutida `len` para obter a quantidade de notas na tupla."
   ]
  },
  {
   "cell_type": "code",
   "execution_count": 7,
   "metadata": {},
   "outputs": [],
   "source": [
    "# Implemente aqui o código da função."
   ]
  },
  {
   "cell_type": "markdown",
   "metadata": {},
   "source": [
    "Execute o trecho de código abaixo para testar sua função. \n",
    "\n",
    "**NÃO ALTERE O CÓDIGO ABAIXO EM HIPÓTESE ALGUMA. SUA IMPLEMENTAÇÃO DEVE FUNCIONAR COM O TRECHO DE CÓDIGO ABAIXO SEM NENHUMA ALTERAÇÃO.**"
   ]
  },
  {
   "cell_type": "code",
   "execution_count": 8,
   "metadata": {},
   "outputs": [
    {
     "ename": "NameError",
     "evalue": "name 'obterMédiaEConceitov2' is not defined",
     "output_type": "error",
     "traceback": [
      "\u001b[1;31m---------------------------------------------------------------------------\u001b[0m",
      "\u001b[1;31mNameError\u001b[0m                                 Traceback (most recent call last)",
      "\u001b[1;32mC:\\Users\\FELIPE~1.FIG\\AppData\\Local\\Temp/ipykernel_12436/909560184.py\u001b[0m in \u001b[0;36m<module>\u001b[1;34m\u001b[0m\n\u001b[0;32m      1\u001b[0m \u001b[0mret\u001b[0m \u001b[1;33m=\u001b[0m \u001b[1;32mTrue\u001b[0m\u001b[1;33m\u001b[0m\u001b[1;33m\u001b[0m\u001b[0m\n\u001b[1;32m----> 2\u001b[1;33m \u001b[0mret\u001b[0m \u001b[1;33m&=\u001b[0m \u001b[0mobterMédiaEConceitov2\u001b[0m\u001b[1;33m(\u001b[0m\u001b[1;36m85.1\u001b[0m\u001b[1;33m)\u001b[0m\u001b[1;33m==\u001b[0m\u001b[1;33m(\u001b[0m\u001b[1;36m85.1\u001b[0m\u001b[1;33m,\u001b[0m \u001b[1;34m'A'\u001b[0m\u001b[1;33m,\u001b[0m \u001b[1;34m'APROVADO'\u001b[0m\u001b[1;33m)\u001b[0m\u001b[1;33m\u001b[0m\u001b[1;33m\u001b[0m\u001b[0m\n\u001b[0m\u001b[0;32m      3\u001b[0m \u001b[0mret\u001b[0m \u001b[1;33m&=\u001b[0m \u001b[0mobterMédiaEConceitov2\u001b[0m\u001b[1;33m(\u001b[0m\u001b[1;36m85.1\u001b[0m\u001b[1;33m,\u001b[0m \u001b[1;36m85.1\u001b[0m\u001b[1;33m)\u001b[0m\u001b[1;33m==\u001b[0m\u001b[1;33m(\u001b[0m\u001b[1;36m85.1\u001b[0m\u001b[1;33m,\u001b[0m \u001b[1;34m'A'\u001b[0m\u001b[1;33m,\u001b[0m \u001b[1;34m'APROVADO'\u001b[0m\u001b[1;33m)\u001b[0m\u001b[1;33m\u001b[0m\u001b[1;33m\u001b[0m\u001b[0m\n\u001b[0;32m      4\u001b[0m \u001b[0mret\u001b[0m \u001b[1;33m&=\u001b[0m \u001b[0mobterMédiaEConceitov2\u001b[0m\u001b[1;33m(\u001b[0m\u001b[1;36m85.1\u001b[0m\u001b[1;33m,\u001b[0m \u001b[1;36m85.1\u001b[0m\u001b[1;33m,\u001b[0m \u001b[1;36m85.1\u001b[0m\u001b[1;33m)\u001b[0m\u001b[1;33m==\u001b[0m\u001b[1;33m(\u001b[0m\u001b[1;36m85.1\u001b[0m\u001b[1;33m,\u001b[0m \u001b[1;34m'A'\u001b[0m\u001b[1;33m,\u001b[0m \u001b[1;34m'APROVADO'\u001b[0m\u001b[1;33m)\u001b[0m\u001b[1;33m\u001b[0m\u001b[1;33m\u001b[0m\u001b[0m\n\u001b[0;32m      5\u001b[0m \u001b[0mret\u001b[0m \u001b[1;33m&=\u001b[0m \u001b[0mobterMédiaEConceitov2\u001b[0m\u001b[1;33m(\u001b[0m\u001b[1;36m85.1\u001b[0m\u001b[1;33m,\u001b[0m \u001b[1;36m85.1\u001b[0m\u001b[1;33m,\u001b[0m \u001b[1;36m85.1\u001b[0m\u001b[1;33m,\u001b[0m \u001b[1;36m85.1\u001b[0m\u001b[1;33m)\u001b[0m\u001b[1;33m==\u001b[0m\u001b[1;33m(\u001b[0m\u001b[1;36m85.1\u001b[0m\u001b[1;33m,\u001b[0m \u001b[1;34m'A'\u001b[0m\u001b[1;33m,\u001b[0m \u001b[1;34m'APROVADO'\u001b[0m\u001b[1;33m)\u001b[0m\u001b[1;33m\u001b[0m\u001b[1;33m\u001b[0m\u001b[0m\n",
      "\u001b[1;31mNameError\u001b[0m: name 'obterMédiaEConceitov2' is not defined"
     ]
    }
   ],
   "source": [
    "ret = True\n",
    "ret &= obterMédiaEConceitov2(85.1)==(85.1, 'A', 'APROVADO')\n",
    "ret &= obterMédiaEConceitov2(85.1, 85.1)==(85.1, 'A', 'APROVADO')\n",
    "ret &= obterMédiaEConceitov2(85.1, 85.1, 85.1)==(85.1, 'A', 'APROVADO')\n",
    "ret &= obterMédiaEConceitov2(85.1, 85.1, 85.1, 85.1)==(85.1, 'A', 'APROVADO')\n",
    "ret &= obterMédiaEConceitov2(85.1, 85.1, 85.1, 85.1, 85.1)==(85.1, 'A', 'APROVADO')\n",
    "ret &= obterMédiaEConceitov2(85.0, 85.0, 85.0)==(85.0, 'B', 'APROVADO')\n",
    "ret &= obterMédiaEConceitov2(65.1, 65.1, 65.1)==(65.1, 'B', 'APROVADO')\n",
    "ret &= obterMédiaEConceitov2(65.0, 65.0, 65.0)==(65.0, 'C', 'REPROVADO')\n",
    "ret &= obterMédiaEConceitov2(45.1, 45.1, 45.1)==(45.1, 'C', 'REPROVADO')\n",
    "ret &= obterMédiaEConceitov2(45.0, 45.0, 45.0)==(45.0, 'D', 'REPROVADO')\n",
    "ret &= obterMédiaEConceitov2(25.2, 25.2, 25.2)==(25.2, 'D', 'REPROVADO')\n",
    "ret &= obterMédiaEConceitov2(25.0, 25.0, 25.0)==(25.0, 'E', 'REPROVADO')\n",
    "ret &= obterMédiaEConceitov2(0.0, 0.0, 0.0)==(0.0, 'E', 'REPROVADO')\n",
    "\n",
    "print('\\nRESULTADO FINAL:')\n",
    "if(ret):\n",
    "    print('A implementação da função está correta!')\n",
    "else:\n",
    "    print('A implementação da função NÃO está correta!')"
   ]
  }
 ],
 "metadata": {
  "kernelspec": {
   "display_name": "Python 3",
   "language": "python",
   "name": "python3"
  },
  "language_info": {
   "codemirror_mode": {
    "name": "ipython",
    "version": 3
   },
   "file_extension": ".py",
   "mimetype": "text/x-python",
   "name": "python",
   "nbconvert_exporter": "python",
   "pygments_lexer": "ipython3",
   "version": "3.7.6"
  }
 },
 "nbformat": 4,
 "nbformat_minor": 4
}
