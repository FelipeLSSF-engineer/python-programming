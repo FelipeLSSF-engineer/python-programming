{
 "cells": [
  {
   "cell_type": "markdown",
   "metadata": {},
   "source": [
    "# Prova #1 C126-L1 (1S2021)\n",
    "\n",
    "### Instruções\n",
    "\n",
    "1. Para cada um dos exercícios a seguir, faça o seguinte:\n",
    "    * Adicione comentários ao seu código explicando o que você fez.\n",
    "    * Caso o exercício involva a implementação de uma função:\n",
    "        + Coloque um comentário dizendo o que a função faz, use **docstrings**.\n",
    "        + Escolha nomes auto-explicativos para suas funções e parâmetros.\n",
    "    \n",
    "2. Quando você terminar a prova, vá ao menu do Jupyter ou Colab e selecione a opção para fazer download do notebook.\n",
    "    * Os notebooks tem extensão .ipynb. \n",
    "    * Este deve ser o arquivo que você irá entregar.\n",
    "    * No Jupyter vá até a opção **File** -> **Download as** -> **Notebook (.ipynb)**.\n",
    "    * No Colab vá até a opção **File** -> **Download .ipynb**.\n",
    "   \n",
    "3. Em seguida, faça a entrega do notebook da prova (ou seja, anexe o arquivo) na tarefa criada no MS Teams.\n",
    "4. Atente-se ao prazo de entrega definido na tarefa do MS Teams. \n",
    "5. **A prova deve ser resolvida individualmente**.\n",
    "6. Todas as questões têm o mesmo peso.\n",
    "7. Não se esqueça de colocar seu nome e número de matrícula nos campos abaixo.\n",
    "8. Você pode consultar o material de aula.\n",
    "9. A interpretação faz parte da prova.\n",
    "10. Boa sorte!"
   ]
  },
  {
   "cell_type": "markdown",
   "metadata": {},
   "source": [
    "**Nome**:\n",
    "\n",
    "**Matrícula**:"
   ]
  },
  {
   "cell_type": "markdown",
   "metadata": {},
   "source": [
    "## Exercícios"
   ]
  },
  {
   "cell_type": "markdown",
   "metadata": {},
   "source": [
    "#### 1) Exercício sobre recursão. \n",
    "\n",
    "Escreva uma função recursiva, chamada de `multiplicaçãoRecursiva`, que calcule a multiplicação de todos os números de `1` a `n`, onde `n` é o parâmetro de entrada da função."
   ]
  },
  {
   "cell_type": "code",
   "execution_count": 1,
   "metadata": {},
   "outputs": [],
   "source": [
    "# Implemente aqui o código da função."
   ]
  },
  {
   "cell_type": "markdown",
   "metadata": {},
   "source": [
    "Execute o trecho de código abaixo para testar sua função. \n",
    "\n",
    "**NÃO ALTERE O CÓDIGO ABAIXO EM HIPÓTESE ALGUMA. SUA IMPLEMENTAÇÃO DEVE FUNCIONAR COM O TRECHO DE CÓDIGO ABAIXO SEM NENHUMA ALTERAÇÃO.**"
   ]
  },
  {
   "cell_type": "code",
   "execution_count": 2,
   "metadata": {},
   "outputs": [
    {
     "ename": "NameError",
     "evalue": "name 'multiplicaçãoRecursiva' is not defined",
     "output_type": "error",
     "traceback": [
      "\u001b[1;31m---------------------------------------------------------------------------\u001b[0m",
      "\u001b[1;31mNameError\u001b[0m                                 Traceback (most recent call last)",
      "\u001b[1;32m<ipython-input-2-3157bab8fbfc>\u001b[0m in \u001b[0;36m<module>\u001b[1;34m\u001b[0m\n\u001b[0;32m      3\u001b[0m \u001b[1;32mfor\u001b[0m \u001b[0mn\u001b[0m \u001b[1;32min\u001b[0m \u001b[0mrange\u001b[0m\u001b[1;33m(\u001b[0m\u001b[1;36m0\u001b[0m\u001b[1;33m,\u001b[0m \u001b[0mlen\u001b[0m\u001b[1;33m(\u001b[0m\u001b[0mresultados_corretos\u001b[0m\u001b[1;33m)\u001b[0m\u001b[1;33m)\u001b[0m\u001b[1;33m:\u001b[0m\u001b[1;33m\u001b[0m\u001b[1;33m\u001b[0m\u001b[0m\n\u001b[0;32m      4\u001b[0m     \u001b[0mret\u001b[0m \u001b[1;33m=\u001b[0m \u001b[1;32mTrue\u001b[0m\u001b[1;33m\u001b[0m\u001b[1;33m\u001b[0m\u001b[0m\n\u001b[1;32m----> 5\u001b[1;33m     \u001b[1;32mif\u001b[0m \u001b[0mmultiplicaçãoRecursiva\u001b[0m\u001b[1;33m(\u001b[0m\u001b[0mn\u001b[0m\u001b[1;33m+\u001b[0m\u001b[1;36m1\u001b[0m\u001b[1;33m)\u001b[0m \u001b[1;33m!=\u001b[0m \u001b[0mresultados_corretos\u001b[0m\u001b[1;33m[\u001b[0m\u001b[0mn\u001b[0m\u001b[1;33m]\u001b[0m\u001b[1;33m:\u001b[0m\u001b[1;33m\u001b[0m\u001b[1;33m\u001b[0m\u001b[0m\n\u001b[0m\u001b[0;32m      6\u001b[0m         \u001b[0mret\u001b[0m \u001b[1;33m=\u001b[0m \u001b[1;32mFalse\u001b[0m\u001b[1;33m\u001b[0m\u001b[1;33m\u001b[0m\u001b[0m\n\u001b[0;32m      7\u001b[0m         \u001b[1;32mbreak\u001b[0m\u001b[1;33m\u001b[0m\u001b[1;33m\u001b[0m\u001b[0m\n",
      "\u001b[1;31mNameError\u001b[0m: name 'multiplicaçãoRecursiva' is not defined"
     ]
    }
   ],
   "source": [
    "resultados_corretos = [1, 2, 6, 24, 120, 720]\n",
    "\n",
    "for n in range(0, len(resultados_corretos)):\n",
    "    ret = True\n",
    "    if multiplicaçãoRecursiva(n+1) != resultados_corretos[n]:\n",
    "        ret = False\n",
    "        break\n",
    "\n",
    "if(ret==True):\n",
    "    print('Implementação da função está correta!')\n",
    "else:\n",
    "    print('Implementação da função NÃO está correta!')"
   ]
  },
  {
   "cell_type": "markdown",
   "metadata": {},
   "source": [
    "#### 2) Exercício sobre laços de repetição.\n",
    "\n",
    "Dado um número inteiro positivo `n`, crie uma função chamada `multiplicar` que calcula a multiplicação dos `n` primeiros números inteiros positivos.\n",
    "\n",
    "**Exemplos**:\n",
    "\n",
    "1. Para $n=2$ resultado é $1*2 = 2$.\n",
    "2. Para $n=3$ resultado é $1*2*3 = 6$.\n",
    "3. Para $n=4$ resultado é $1*2*3*4 = 24$."
   ]
  },
  {
   "cell_type": "code",
   "execution_count": null,
   "metadata": {},
   "outputs": [],
   "source": [
    "# Implemente aqui o código da função."
   ]
  },
  {
   "cell_type": "markdown",
   "metadata": {},
   "source": [
    "Execute o trecho de código abaixo para testar sua função. \n",
    "\n",
    "**NÃO ALTERE O CÓDIGO ABAIXO EM HIPÓTESE ALGUMA. SUA IMPLEMENTAÇÃO DEVE FUNCIONAR COM O TRECHO DE CÓDIGO ABAIXO SEM NENHUMA ALTERAÇÃO.**"
   ]
  },
  {
   "cell_type": "code",
   "execution_count": 3,
   "metadata": {},
   "outputs": [
    {
     "ename": "NameError",
     "evalue": "name 'multiplicar' is not defined",
     "output_type": "error",
     "traceback": [
      "\u001b[1;31m---------------------------------------------------------------------------\u001b[0m",
      "\u001b[1;31mNameError\u001b[0m                                 Traceback (most recent call last)",
      "\u001b[1;32m<ipython-input-3-478a18f7ab72>\u001b[0m in \u001b[0;36m<module>\u001b[1;34m\u001b[0m\n\u001b[1;32m----> 1\u001b[1;33m \u001b[0mprint\u001b[0m\u001b[1;33m(\u001b[0m\u001b[1;34m'Resultado:'\u001b[0m\u001b[1;33m,\u001b[0m \u001b[0mmultiplicar\u001b[0m\u001b[1;33m(\u001b[0m\u001b[1;36m2\u001b[0m\u001b[1;33m)\u001b[0m\u001b[1;33m,\u001b[0m \u001b[1;34m' - Correto:'\u001b[0m\u001b[1;33m,\u001b[0m \u001b[0mmultiplicar\u001b[0m\u001b[1;33m(\u001b[0m\u001b[1;36m2\u001b[0m\u001b[1;33m)\u001b[0m\u001b[1;33m==\u001b[0m\u001b[1;36m2\u001b[0m\u001b[1;33m)\u001b[0m\u001b[1;33m\u001b[0m\u001b[1;33m\u001b[0m\u001b[0m\n\u001b[0m\u001b[0;32m      2\u001b[0m \u001b[0mprint\u001b[0m\u001b[1;33m(\u001b[0m\u001b[1;34m'Resultado:'\u001b[0m\u001b[1;33m,\u001b[0m \u001b[0mmultiplicar\u001b[0m\u001b[1;33m(\u001b[0m\u001b[1;36m3\u001b[0m\u001b[1;33m)\u001b[0m\u001b[1;33m,\u001b[0m \u001b[1;34m' - Correto:'\u001b[0m\u001b[1;33m,\u001b[0m \u001b[0mmultiplicar\u001b[0m\u001b[1;33m(\u001b[0m\u001b[1;36m3\u001b[0m\u001b[1;33m)\u001b[0m\u001b[1;33m==\u001b[0m\u001b[1;36m6\u001b[0m\u001b[1;33m)\u001b[0m\u001b[1;33m\u001b[0m\u001b[1;33m\u001b[0m\u001b[0m\n\u001b[0;32m      3\u001b[0m \u001b[0mprint\u001b[0m\u001b[1;33m(\u001b[0m\u001b[1;34m'Resultado:'\u001b[0m\u001b[1;33m,\u001b[0m \u001b[0mmultiplicar\u001b[0m\u001b[1;33m(\u001b[0m\u001b[1;36m4\u001b[0m\u001b[1;33m)\u001b[0m\u001b[1;33m,\u001b[0m \u001b[1;34m' - Correto:'\u001b[0m\u001b[1;33m,\u001b[0m \u001b[0mmultiplicar\u001b[0m\u001b[1;33m(\u001b[0m\u001b[1;36m4\u001b[0m\u001b[1;33m)\u001b[0m\u001b[1;33m==\u001b[0m\u001b[1;36m24\u001b[0m\u001b[1;33m)\u001b[0m\u001b[1;33m\u001b[0m\u001b[1;33m\u001b[0m\u001b[0m\n",
      "\u001b[1;31mNameError\u001b[0m: name 'multiplicar' is not defined"
     ]
    }
   ],
   "source": [
    "print('Resultado:', multiplicar(2), ' - Correto:', multiplicar(2)==2)\n",
    "print('Resultado:', multiplicar(3), ' - Correto:', multiplicar(3)==6)\n",
    "print('Resultado:', multiplicar(4), ' - Correto:', multiplicar(4)==24)"
   ]
  },
  {
   "cell_type": "markdown",
   "metadata": {},
   "source": [
    "#### 3) Exercício sobre estruturas condicionais.\n",
    "\n",
    "Implemente uma função chamada `ordenarDecrescentemente` que dado três números de entrada, cria e retorna uma string com os valores em ordem decrescente. \n",
    "\n",
    "**DICA**: Use a linha abaixo como **exemplo** para criar a string de retorno da sua função.\n",
    "```python\n",
    "return \"A ordem decrescente é: %d, %d, %d.\" % (n1, n2, n3)\n",
    "```\n",
    "\n",
    "**Exemplos**: Os exemplos abaixo mostram como deve ser o retorno da sua função.\n",
    "\n",
    "```python\n",
    "ordenarDecrescentemente(1, 2, 3)\n",
    "A ordem decrescente é: 3, 2, 1.\n",
    "    \n",
    "ordenarDecrescentemente(1, 9, 3)\n",
    "A ordem decrescente é: 9, 3, 1.\n",
    "\n",
    "ordenarDecrescentemente(6, 5, 4)\n",
    "A ordem decrescente é: 6, 5, 4.\n",
    "```"
   ]
  },
  {
   "cell_type": "code",
   "execution_count": null,
   "metadata": {},
   "outputs": [],
   "source": [
    "# Implemente aqui o código da função."
   ]
  },
  {
   "cell_type": "markdown",
   "metadata": {},
   "source": [
    "Execute o trecho de código abaixo para testar sua função. \n",
    "\n",
    "**NÃO ALTERE O CÓDIGO ABAIXO EM HIPÓTESE ALGUMA. SUA IMPLEMENTAÇÃO DEVE FUNCIONAR COM O TRECHO DE CÓDIGO ABAIXO SEM NENHUMA ALTERAÇÃO.**"
   ]
  },
  {
   "cell_type": "code",
   "execution_count": 4,
   "metadata": {},
   "outputs": [
    {
     "ename": "NameError",
     "evalue": "name 'ordenarDecrescentemente' is not defined",
     "output_type": "error",
     "traceback": [
      "\u001b[1;31m---------------------------------------------------------------------------\u001b[0m",
      "\u001b[1;31mNameError\u001b[0m                                 Traceback (most recent call last)",
      "\u001b[1;32m<ipython-input-4-dbcf8deb485a>\u001b[0m in \u001b[0;36m<module>\u001b[1;34m\u001b[0m\n\u001b[0;32m      1\u001b[0m \u001b[0mret\u001b[0m \u001b[1;33m=\u001b[0m \u001b[1;36m0\u001b[0m\u001b[1;33m\u001b[0m\u001b[1;33m\u001b[0m\u001b[0m\n\u001b[1;32m----> 2\u001b[1;33m \u001b[1;32mif\u001b[0m\u001b[1;33m(\u001b[0m\u001b[0mordenarDecrescentemente\u001b[0m\u001b[1;33m(\u001b[0m\u001b[1;36m1\u001b[0m\u001b[1;33m,\u001b[0m \u001b[1;36m2\u001b[0m\u001b[1;33m,\u001b[0m \u001b[1;36m3\u001b[0m\u001b[1;33m)\u001b[0m\u001b[1;33m==\u001b[0m\u001b[1;34m'A ordem crescente é: 3, 2, 1.'\u001b[0m\u001b[1;33m)\u001b[0m\u001b[1;33m:\u001b[0m\u001b[1;33m\u001b[0m\u001b[1;33m\u001b[0m\u001b[0m\n\u001b[0m\u001b[0;32m      3\u001b[0m     \u001b[0mret\u001b[0m \u001b[1;33m+=\u001b[0m \u001b[1;36m1\u001b[0m\u001b[1;33m\u001b[0m\u001b[1;33m\u001b[0m\u001b[0m\n\u001b[0;32m      4\u001b[0m \u001b[1;32mif\u001b[0m\u001b[1;33m(\u001b[0m\u001b[0mordenarDecrescentemente\u001b[0m\u001b[1;33m(\u001b[0m\u001b[1;36m3\u001b[0m\u001b[1;33m,\u001b[0m \u001b[1;36m2\u001b[0m\u001b[1;33m,\u001b[0m \u001b[1;36m1\u001b[0m\u001b[1;33m)\u001b[0m\u001b[1;33m==\u001b[0m\u001b[1;34m'A ordem crescente é: 3, 2, 1.'\u001b[0m\u001b[1;33m)\u001b[0m\u001b[1;33m:\u001b[0m\u001b[1;33m\u001b[0m\u001b[1;33m\u001b[0m\u001b[0m\n\u001b[0;32m      5\u001b[0m     \u001b[0mret\u001b[0m \u001b[1;33m+=\u001b[0m \u001b[1;36m1\u001b[0m\u001b[1;33m\u001b[0m\u001b[1;33m\u001b[0m\u001b[0m\n",
      "\u001b[1;31mNameError\u001b[0m: name 'ordenarDecrescentemente' is not defined"
     ]
    }
   ],
   "source": [
    "ret = 0\n",
    "if(ordenarDecrescentemente(1, 2, 3)=='A ordem crescente é: 3, 2, 1.'):\n",
    "    ret += 1\n",
    "if(ordenarDecrescentemente(3, 2, 1)=='A ordem crescente é: 3, 2, 1.'):\n",
    "    ret += 1    \n",
    "if(ordenarDecrescentemente(1, 9, 3)=='A ordem crescente é: 9, 3, 1.'):\n",
    "    ret += 1\n",
    "if(ordenarDecrescentemente(6, 5, 4)=='A ordem crescente é: 6, 5, 4.'):\n",
    "    ret += 1\n",
    "if(ret==4):\n",
    "    print('Implementação da função está correta!')\n",
    "else:\n",
    "    print('Implementação da função NÃO está correta!')"
   ]
  },
  {
   "cell_type": "markdown",
   "metadata": {},
   "source": [
    "#### 4) Exercício sobre funções e laços de repetição.\n",
    "\n",
    "Crie uma função chamada `multiplicarESomarValores` que aceite **qualquer número de parâmetros de entrada** e retorne dois valores, a multiplicação e a soma, desses números. \n",
    "\n",
    "**Dica**: Lembre-se que a função recebe uma **tupla** com todos os argumentos de entrada. Um **tupla** é uma coleção de objetos que pode ser iterada com um laço de repetição `for`. \n",
    "\n",
    "**Exemplo**\n",
    "\n",
    "```python\n",
    "# definindo uma tupla.\n",
    "tupla = (0,1,2,3)\n",
    "\n",
    "# iterando através dos valores da tupla com um laço for.\n",
    "for valor in tupla:\n",
    "    print(valor)\n",
    "```"
   ]
  },
  {
   "cell_type": "code",
   "execution_count": null,
   "metadata": {},
   "outputs": [],
   "source": [
    "# Implemente aqui o código da função."
   ]
  },
  {
   "cell_type": "markdown",
   "metadata": {},
   "source": [
    "Execute o trecho de código abaixo para testar sua função. \n",
    "\n",
    "**NÃO ALTERE O CÓDIGO ABAIXO EM HIPÓTESE ALGUMA. SUA IMPLEMENTAÇÃO DEVE FUNCIONAR COM O TRECHO DE CÓDIGO ABAIXO SEM NENHUMA ALTERAÇÃO.**"
   ]
  },
  {
   "cell_type": "code",
   "execution_count": 5,
   "metadata": {},
   "outputs": [
    {
     "ename": "NameError",
     "evalue": "name 'multiplicarESomarValores' is not defined",
     "output_type": "error",
     "traceback": [
      "\u001b[1;31m---------------------------------------------------------------------------\u001b[0m",
      "\u001b[1;31mNameError\u001b[0m                                 Traceback (most recent call last)",
      "\u001b[1;32m<ipython-input-5-cd41faa449e9>\u001b[0m in \u001b[0;36m<module>\u001b[1;34m\u001b[0m\n\u001b[1;32m----> 1\u001b[1;33m \u001b[0mprint\u001b[0m\u001b[1;33m(\u001b[0m\u001b[1;34m'Resultado:'\u001b[0m\u001b[1;33m,\u001b[0m \u001b[0mmultiplicarESomarValores\u001b[0m\u001b[1;33m(\u001b[0m\u001b[1;36m2\u001b[0m\u001b[1;33m)\u001b[0m\u001b[1;33m,\u001b[0m \u001b[1;34m' - Teste está correto?'\u001b[0m\u001b[1;33m,\u001b[0m \u001b[0mmultiplicarESomarValores\u001b[0m\u001b[1;33m(\u001b[0m\u001b[1;36m2\u001b[0m\u001b[1;33m)\u001b[0m\u001b[1;33m==\u001b[0m\u001b[1;33m(\u001b[0m\u001b[1;36m2\u001b[0m\u001b[1;33m,\u001b[0m\u001b[1;36m2\u001b[0m\u001b[1;33m)\u001b[0m\u001b[1;33m)\u001b[0m\u001b[1;33m\u001b[0m\u001b[1;33m\u001b[0m\u001b[0m\n\u001b[0m\u001b[0;32m      2\u001b[0m \u001b[0mprint\u001b[0m\u001b[1;33m(\u001b[0m\u001b[1;34m'Resultado:'\u001b[0m\u001b[1;33m,\u001b[0m \u001b[0mmultiplicarESomarValores\u001b[0m\u001b[1;33m(\u001b[0m\u001b[1;36m2\u001b[0m\u001b[1;33m,\u001b[0m\u001b[1;36m4\u001b[0m\u001b[1;33m)\u001b[0m\u001b[1;33m,\u001b[0m \u001b[1;34m' - Teste está correto?'\u001b[0m\u001b[1;33m,\u001b[0m \u001b[0mmultiplicarESomarValores\u001b[0m\u001b[1;33m(\u001b[0m\u001b[1;36m2\u001b[0m\u001b[1;33m,\u001b[0m\u001b[1;36m4\u001b[0m\u001b[1;33m)\u001b[0m\u001b[1;33m==\u001b[0m\u001b[1;33m(\u001b[0m\u001b[1;36m8\u001b[0m\u001b[1;33m,\u001b[0m\u001b[1;36m6\u001b[0m\u001b[1;33m)\u001b[0m\u001b[1;33m)\u001b[0m\u001b[1;33m\u001b[0m\u001b[1;33m\u001b[0m\u001b[0m\n\u001b[0;32m      3\u001b[0m \u001b[0mprint\u001b[0m\u001b[1;33m(\u001b[0m\u001b[1;34m'Resultado:'\u001b[0m\u001b[1;33m,\u001b[0m \u001b[0mmultiplicarESomarValores\u001b[0m\u001b[1;33m(\u001b[0m\u001b[1;36m2\u001b[0m\u001b[1;33m,\u001b[0m\u001b[1;36m4\u001b[0m\u001b[1;33m,\u001b[0m\u001b[1;36m6\u001b[0m\u001b[1;33m)\u001b[0m\u001b[1;33m,\u001b[0m \u001b[1;34m' - Teste está correto?'\u001b[0m\u001b[1;33m,\u001b[0m \u001b[0mmultiplicarESomarValores\u001b[0m\u001b[1;33m(\u001b[0m\u001b[1;36m2\u001b[0m\u001b[1;33m,\u001b[0m\u001b[1;36m4\u001b[0m\u001b[1;33m,\u001b[0m\u001b[1;36m6\u001b[0m\u001b[1;33m)\u001b[0m\u001b[1;33m==\u001b[0m\u001b[1;33m(\u001b[0m\u001b[1;36m48\u001b[0m\u001b[1;33m,\u001b[0m\u001b[1;36m12\u001b[0m\u001b[1;33m)\u001b[0m\u001b[1;33m)\u001b[0m\u001b[1;33m\u001b[0m\u001b[1;33m\u001b[0m\u001b[0m\n\u001b[0;32m      4\u001b[0m \u001b[0mprint\u001b[0m\u001b[1;33m(\u001b[0m\u001b[1;34m'Resultado:'\u001b[0m\u001b[1;33m,\u001b[0m \u001b[0mmultiplicarESomarValores\u001b[0m\u001b[1;33m(\u001b[0m\u001b[1;36m1\u001b[0m\u001b[1;33m,\u001b[0m\u001b[1;36m2\u001b[0m\u001b[1;33m,\u001b[0m\u001b[1;36m3\u001b[0m\u001b[1;33m,\u001b[0m\u001b[1;36m4\u001b[0m\u001b[1;33m)\u001b[0m\u001b[1;33m,\u001b[0m \u001b[1;34m' - Teste está correto?'\u001b[0m\u001b[1;33m,\u001b[0m \u001b[0mmultiplicarESomarValores\u001b[0m\u001b[1;33m(\u001b[0m\u001b[1;36m1\u001b[0m\u001b[1;33m,\u001b[0m\u001b[1;36m2\u001b[0m\u001b[1;33m,\u001b[0m\u001b[1;36m3\u001b[0m\u001b[1;33m,\u001b[0m\u001b[1;36m4\u001b[0m\u001b[1;33m)\u001b[0m\u001b[1;33m==\u001b[0m\u001b[1;33m(\u001b[0m\u001b[1;36m24\u001b[0m\u001b[1;33m,\u001b[0m\u001b[1;36m10\u001b[0m\u001b[1;33m)\u001b[0m\u001b[1;33m)\u001b[0m\u001b[1;33m\u001b[0m\u001b[1;33m\u001b[0m\u001b[0m\n",
      "\u001b[1;31mNameError\u001b[0m: name 'multiplicarESomarValores' is not defined"
     ]
    }
   ],
   "source": [
    "print('Resultado:', multiplicarESomarValores(2), ' - Teste está correto?', multiplicarESomarValores(2)==(2,2))\n",
    "print('Resultado:', multiplicarESomarValores(2,4), ' - Teste está correto?', multiplicarESomarValores(2,4)==(8,6))\n",
    "print('Resultado:', multiplicarESomarValores(2,4,6), ' - Teste está correto?', multiplicarESomarValores(2,4,6)==(48,12))\n",
    "print('Resultado:', multiplicarESomarValores(1,2,3,4), ' - Teste está correto?', multiplicarESomarValores(1,2,3,4)==(24,10))"
   ]
  },
  {
   "cell_type": "code",
   "execution_count": null,
   "metadata": {},
   "outputs": [],
   "source": []
  }
 ],
 "metadata": {
  "kernelspec": {
   "display_name": "Python 3",
   "language": "python",
   "name": "python3"
  },
  "language_info": {
   "codemirror_mode": {
    "name": "ipython",
    "version": 3
   },
   "file_extension": ".py",
   "mimetype": "text/x-python",
   "name": "python",
   "nbconvert_exporter": "python",
   "pygments_lexer": "ipython3",
   "version": "3.7.7"
  }
 },
 "nbformat": 4,
 "nbformat_minor": 4
}
