{
 "cells": [
  {
   "cell_type": "markdown",
   "metadata": {},
   "source": [
    "# Análise e processamento de dados com Python \n",
    "\n",
    "## Introdução\n",
    "\n",
    "A análise de dados é a transformação de números (i.e., os dados) desestruturados ou desorganizados em informação útil. \n",
    "\n",
    "Esses dados são utilizados para encontrar padrões, tendências, etc. que ajudam a extrair informações úteis e que podem ajudar a solucionar problemas, tomar decisões, etc.\n",
    "\n",
    "Analisar e processar dados é uma tarefa comum para engenheiros e cientistas. Normalmente, estes dados estão armazenados em arquivos texto, CSV, JSON, XML ou em bases de dados.\n",
    "\n",
    "Utilizando Python, a análise e processamento de dados, como estatísticas, tendências, cálculos, etc., podem ser facilmente realizados para sintetizar as informações.\n",
    "\n",
    "Para isso, o Python conta com várias técnicas e bibliotecas muito poderosas para o processamento de grandes quantidades de dados como:\n",
    "\n",
    "+ **Programação Funcional**: preparação e exploração de dados.\n",
    "+ **NumPy**: análise numérica e estatística.\n",
    "+ **SciPy**: computação científica.\n",
    "+ **Scikit-Learn**: aprendizado de máquina.\n",
    "+ **Pandas**: manipulação, análise exploratória e visualização de dados.\n",
    "+ **Matplotlib**: visualização de dados.\n",
    "+ **Bokeh**: visualização de dados.\n",
    "\n",
    "**IMPORTANTE**: As empresas tem percebido que analisar seus dados pode trazer grandes benefícios (redução de custos, aumento dos lucros, etc.) e sendo assim, o número de vagas para analistas e cientistas de dados só tem crescido.\n",
    "\n",
    "Nesse tópico iremos estudar algumas ferramentas e bibliotecas utilizadas na análise e processamento de dados utilizando Python."
   ]
  },
  {
   "cell_type": "markdown",
   "metadata": {},
   "source": [
    "## Programação funcional\n",
    "\n",
    "Como discutimos na primeira aula, a linguagem Python suporta diversos paradigmas de programação. \n",
    "\n",
    "Dentre eles, um muito utilizado para o processamento de dados é o paradigma da **Programação Funcional**.\n",
    "\n",
    "Programação funcional é um paradigma que trata a computação como uma avaliação de funções matemáticas. Tais funções podem ser aplicadas em sequências de dados, que geralmente são listas.\n",
    "\n",
    "As operações básicas do paradigma funcional são implementadas no Python pelas funções embutidas `lambda()`, `map()`, `filter()`, `reduce()` e `zip()`.\n",
    "\n",
    "Essas operações são utilizadas para transformar, preparar e explorar estruturas de dados."
   ]
  },
  {
   "cell_type": "markdown",
   "metadata": {},
   "source": [
    "### Funções lambda\n",
    "\n",
    "Em Python, `lambda` é uma palavra reservada usada para criar uma **função anônima** composta apenas por expressões. Geralmente, chamamos essas funções anônimas de funções lambda. As funções `lambda` podem ter apenas uma linha, e podem ser atribuídas a uma variável. Como veremos, as funções lambda são muito usadas em programação funcional.\n",
    "\n",
    "Sintaxe:\n",
    "\n",
    "```python\n",
    "lambda <lista de variáveis>: <expressão>\n",
    "```\n",
    "\n",
    "**IMPORTANTE**: Uma função lambda pode receber qualquer número de argumentos, mas só pode ter uma expressão.\n",
    "\n",
    "A sintaxe `lambda` permite que você crie definições de função de forma declarativa.\n",
    "\n",
    "#### Exemplo #1: Criando uma função anônima."
   ]
  },
  {
   "cell_type": "code",
   "execution_count": 1,
   "metadata": {},
   "outputs": [
    {
     "name": "stdout",
     "output_type": "stream",
     "text": [
      "7\n"
     ]
    }
   ],
   "source": [
    "fun = lambda a, b: a + b\n",
    "\n",
    "resultado = fun(3,4)\n",
    "\n",
    "print(resultado)"
   ]
  },
  {
   "cell_type": "markdown",
   "metadata": {},
   "source": [
    "#### Exemplo #2: Criando e invocando uma função anônima em uma única linha."
   ]
  },
  {
   "cell_type": "code",
   "execution_count": 164,
   "metadata": {},
   "outputs": [
    {
     "name": "stdout",
     "output_type": "stream",
     "text": [
      "7\n"
     ]
    }
   ],
   "source": [
    "resultado = (lambda a, b: a + b)(3, 4)\n",
    "\n",
    "print(resultado)"
   ]
  },
  {
   "cell_type": "markdown",
   "metadata": {},
   "source": [
    "#### Exemplo #3: Calcula valor absoluto de um vetor 3D."
   ]
  },
  {
   "cell_type": "code",
   "execution_count": 165,
   "metadata": {},
   "outputs": [
    {
     "name": "stdout",
     "output_type": "stream",
     "text": [
      "1.7320508075688772\n",
      "7.0710678118654755\n"
     ]
    }
   ],
   "source": [
    "# Valor absoluto de um vetor 3D.\n",
    "amp = lambda x, y, z: (x ** 2 + y ** 2 + z ** 2) ** 0.5\n",
    "\n",
    "print(amp(1, 1, 1))\n",
    "print(amp(3, 4, 5))"
   ]
  },
  {
   "cell_type": "markdown",
   "metadata": {},
   "source": [
    "#### Exemplo #4:\n",
    "\n",
    "Usando uma função anônima para criar uma função que sempre multiplica o parâmetro de entrada por um número definido previamente:"
   ]
  },
  {
   "cell_type": "code",
   "execution_count": 12,
   "metadata": {},
   "outputs": [
    {
     "name": "stdout",
     "output_type": "stream",
     "text": [
      "22\n",
      "33\n"
     ]
    }
   ],
   "source": [
    "def myfunc(n):\n",
    "    return lambda a : a * n\n",
    "\n",
    "mydoubler = myfunc(2)\n",
    "mytripler = myfunc(3)\n",
    "\n",
    "print(mydoubler(11))\n",
    "print(mytripler(11))"
   ]
  },
  {
   "cell_type": "markdown",
   "metadata": {},
   "source": [
    "**IMPORTANTE**: Funções lambda consomem menos recursos computacionais que as funções convencionais, porém são mais limitadas."
   ]
  },
  {
   "cell_type": "markdown",
   "metadata": {},
   "source": [
    "### Mapeamento\n",
    "\n",
    "O mapeamento consiste em aplicar uma função a todos os itens de uma sequência, gerando outra lista contendo os resultados e com o mesmo tamanho da lista inicial.\n",
    "\n",
    "<img src=\"../figures/map_function.png\" width=\"300\" height=\"300\">"
   ]
  },
  {
   "cell_type": "markdown",
   "metadata": {},
   "source": [
    "Em Python, o mapeamento é implementado pela função `map()`, a qual retorna um objeto iterável que pode ser convertido em uma lista com a função embutida `list()`.\n",
    "\n",
    "Sintaxe:\n",
    "\n",
    "```python\n",
    "map(funcao, iteravel)\n",
    "```\n",
    "\n",
    "#### Exemplo #1: Aplica a função log10 a todos elementos de uma lista."
   ]
  },
  {
   "cell_type": "code",
   "execution_count": 191,
   "metadata": {},
   "outputs": [
    {
     "name": "stdout",
     "output_type": "stream",
     "text": [
      "[0.0, 0.3010299956639812, 0.47712125471966244, 0.6020599913279624, 0.6989700043360189, 0.7781512503836436, 0.8450980400142568, 0.9030899869919435, 0.9542425094393249, 1.0, 1.0413926851582251, 1.0791812460476249]\n"
     ]
    }
   ],
   "source": [
    "# Importa apenas a função log na base 10, log10.\n",
    "from math import log10\n",
    "\n",
    "nums = [1, 2, 3, 4, 5, 6, 7, 8, 9, 10, 11, 12]\n",
    "\n",
    "# Aplicando o logaritmo na base 10 a todos os elementos da lista.\n",
    "iterable = map(log10, nums)\n",
    "\n",
    "# Converte objeto iterável em uma lista.\n",
    "resultado = list(iterable)\n",
    "\n",
    "print(resultado)"
   ]
  },
  {
   "cell_type": "markdown",
   "metadata": {},
   "source": [
    "#### Exemplo #2: Usando laço de repetição."
   ]
  },
  {
   "cell_type": "code",
   "execution_count": 29,
   "metadata": {},
   "outputs": [
    {
     "name": "stdout",
     "output_type": "stream",
     "text": [
      "0.0\n",
      "0.3010299956639812\n",
      "0.47712125471966244\n",
      "0.6020599913279624\n",
      "0.6989700043360189\n",
      "0.7781512503836436\n",
      "0.8450980400142568\n",
      "0.9030899869919435\n",
      "0.9542425094393249\n",
      "1.0\n",
      "1.0413926851582251\n",
      "1.0791812460476249\n"
     ]
    }
   ],
   "source": [
    "nums = [1, 2, 3, 4, 5, 6, 7, 8, 9, 10, 11, 12]\n",
    "\n",
    "# Aplicando o logaritmo na base 10 a todos os elementos da lista.\n",
    "iterable = map(log10, nums)\n",
    "\n",
    "# Itera através do objeto iterável retornado pela função map.\n",
    "for elemento in iterable:\n",
    "    print(elemento)"
   ]
  },
  {
   "cell_type": "markdown",
   "metadata": {},
   "source": [
    "#### Exemplo #3: Usando uma função definida pelo programador."
   ]
  },
  {
   "cell_type": "code",
   "execution_count": 170,
   "metadata": {},
   "outputs": [
    {
     "name": "stdout",
     "output_type": "stream",
     "text": [
      "[0.3333333333333333, 0.6666666666666666, 1.0, 1.3333333333333333, 1.6666666666666667, 2.0, 2.3333333333333335, 2.6666666666666665, 3.0, 3.3333333333333335, 3.6666666666666665, 4.0]\n"
     ]
    }
   ],
   "source": [
    "nums = [1, 2, 3, 4, 5, 6, 7, 8, 9, 10, 11, 12]\n",
    "\n",
    "def divBy3(x):\n",
    "    return x/3\n",
    "\n",
    "# Dividindo por 3.\n",
    "resultado = list(map(divBy3, nums))\n",
    "\n",
    "print(resultado)"
   ]
  },
  {
   "cell_type": "markdown",
   "metadata": {},
   "source": [
    "#### Exemplo #4: Usando uma função anônima."
   ]
  },
  {
   "cell_type": "code",
   "execution_count": 171,
   "metadata": {},
   "outputs": [
    {
     "name": "stdout",
     "output_type": "stream",
     "text": [
      "[0.3333333333333333, 0.6666666666666666, 1.0, 1.3333333333333333, 1.6666666666666667, 2.0, 2.3333333333333335, 2.6666666666666665, 3.0, 3.3333333333333335, 3.6666666666666665, 4.0]\n"
     ]
    }
   ],
   "source": [
    "nums = [1, 2, 3, 4, 5, 6, 7, 8, 9, 10, 11, 12]\n",
    "\n",
    "# Dividindo por 3.\n",
    "resultado = list(map(lambda x: x / 3, nums))\n",
    "\n",
    "print(resultado)"
   ]
  },
  {
   "cell_type": "markdown",
   "metadata": {},
   "source": [
    "### Filtragem\n",
    "\n",
    "Na filtragem, uma função é aplicada a todos os elementos de uma sequência, se a função retornar um valor que seja avaliado como verdadeiro, o elemento original fará parte da sequência resultante.\n",
    "\n",
    "<img src=\"../figures/filter_function.png\" width=\"300\" height=\"300\">\n",
    "\n",
    "Em Python, a filtragem é implementada pela função `filter()` e retorna um objeto iterável que pode ser convertido em uma lista com a função embutida `list()`.\n",
    "\n",
    "A função `filter()` aceita também funções lambda, além de funções convencionais.\n",
    "\n",
    "Sintaxe:\n",
    "\n",
    "```python\n",
    "filter(função, sequencia)\n",
    "```\n",
    "\n",
    "#### Exemplo #1: Selecionando apenas os elementos ímpares da lista."
   ]
  },
  {
   "cell_type": "code",
   "execution_count": 2,
   "metadata": {},
   "outputs": [
    {
     "name": "stdout",
     "output_type": "stream",
     "text": [
      "[1, 3, 5, 7, 9, 11]\n"
     ]
    }
   ],
   "source": [
    "nums = [1, 2, 3, 4, 5, 6, 7, 8, 9, 10, 11, 12]\n",
    "\n",
    "# Selecionando apenas os valores ímpares da lista.\n",
    "iterable = filter(lambda x: x % 2, nums)\n",
    "\n",
    "resultado = list(iterable)\n",
    "\n",
    "print(resultado)"
   ]
  },
  {
   "cell_type": "markdown",
   "metadata": {},
   "source": [
    "#### Exemplo #2: Selecionando apenas os elementos pares da lista."
   ]
  },
  {
   "cell_type": "code",
   "execution_count": 194,
   "metadata": {},
   "outputs": [
    {
     "name": "stdout",
     "output_type": "stream",
     "text": [
      "[2, 4, 6, 8, 10, 12]\n"
     ]
    }
   ],
   "source": [
    "nums = [1, 2, 3, 4, 5, 6, 7, 8, 9, 10, 11, 12]\n",
    "\n",
    "# Selecionando apenas os valores pares da lista.\n",
    "iterable = filter(lambda x: x % 2 == 0, nums)\n",
    "\n",
    "resultado = list(iterable)\n",
    "\n",
    "print(resultado)"
   ]
  },
  {
   "cell_type": "markdown",
   "metadata": {},
   "source": [
    "#### Exemplo #3: Selecionando apenas vogais."
   ]
  },
  {
   "cell_type": "code",
   "execution_count": 3,
   "metadata": {},
   "outputs": [
    {
     "name": "stdout",
     "output_type": "stream",
     "text": [
      "As vogais filtradas são:\n",
      "a\n",
      "e\n",
      "i\n",
      "o\n",
      "u\n"
     ]
    }
   ],
   "source": [
    "# Alfabeto.\n",
    "alfabeto = ['a', 'b', 'c', 'd', 'e', 'f', 'g', 'h', 'i', 'j', 'l', 'm', 'n', 'o', 'p', 'q', 'r', 's', 't', 'u', 'v', 'x', 'z']\n",
    "\n",
    "# função que filtra as vogais.\n",
    "def filtraVogais(letra):\n",
    "    vogais = ['a', 'e', 'i', 'o', 'u']\n",
    "\n",
    "    if(letra in vogais):\n",
    "        return True\n",
    "    else:\n",
    "        return False\n",
    "\n",
    "vogaisFiltradas = filter(filtraVogais, alfabeto)\n",
    "\n",
    "print('As vogais filtradas são:')\n",
    "for vogal in vogaisFiltradas:\n",
    "    print(vogal)"
   ]
  },
  {
   "cell_type": "markdown",
   "metadata": {},
   "source": [
    "### Redução\n",
    "\n",
    "Redução significa aplicar uma função que recebe dois parâmetros nos dois primeiros elementos de uma sequência, aplicar novamente a função usando como parâmetros o resultado do primeiro par de elementos e o terceiro elemento da sequência, seguindo assim até o último elemento da sequência. O resultado final da redução é apenas um elemento.\n",
    "\n",
    "<img src=\"../figures/reduce_function.png\" width=\"300\" height=\"300\">\n",
    "\n",
    "Em Python 3.7, a redução não faz parte das funções embutidas e é implementada pela função `reduce()` do módulo `functools`. Ela retorna um escalar, ou seja, um único valor que representa o resultado da redução. \n",
    "\n",
    "Sintaxe:\n",
    "\n",
    "```python\n",
    "from functools import reduce\n",
    "reduce(função, sequencia)\n",
    "```\n",
    "\n",
    "#### Exemplo #1: Somando todos os valores de uma lista."
   ]
  },
  {
   "cell_type": "code",
   "execution_count": 4,
   "metadata": {},
   "outputs": [
    {
     "name": "stdout",
     "output_type": "stream",
     "text": [
      "Resultado da soma com reduce: 6\n"
     ]
    }
   ],
   "source": [
    "from functools import reduce\n",
    "\n",
    "nums = [0, 1, 2, 3]\n",
    "\n",
    "resultado = reduce(lambda x, y: x + y, nums)\n",
    "\n",
    "# Soma com reduce.\n",
    "print('Resultado da soma com reduce:', resultado)"
   ]
  },
  {
   "cell_type": "markdown",
   "metadata": {},
   "source": [
    "#### Exemplo #2: Contatenando todos os valores de uma lista de strings."
   ]
  },
  {
   "cell_type": "code",
   "execution_count": 5,
   "metadata": {},
   "outputs": [
    {
     "name": "stdout",
     "output_type": "stream",
     "text": [
      "Resultado da concatenação com reduce: abcdef\n"
     ]
    }
   ],
   "source": [
    "from functools import reduce\n",
    "\n",
    "nums = ['ab', 'cde', 'f']\n",
    "\n",
    "resultado = reduce(lambda x, y: x + y, nums)\n",
    "\n",
    "# Concatenando com reduce.\n",
    "print('Resultado da concatenação com reduce:', resultado)"
   ]
  },
  {
   "cell_type": "markdown",
   "metadata": {},
   "source": [
    "#### Exemplo #3: Calculando o fatorial com reduce."
   ]
  },
  {
   "cell_type": "code",
   "execution_count": 6,
   "metadata": {},
   "outputs": [
    {
     "name": "stdout",
     "output_type": "stream",
     "text": [
      "Fatorial: 2\n",
      "Fatorial: 720\n"
     ]
    }
   ],
   "source": [
    "from functools import reduce\n",
    "\n",
    "# Calcula o fatorial de n.\n",
    "def fatorial(n):\n",
    "    return reduce(lambda x, y: x * y, range(1, n+1))\n",
    "\n",
    "print('Fatorial:', fatorial(2))\n",
    "print('Fatorial:', fatorial(6))"
   ]
  },
  {
   "cell_type": "markdown",
   "metadata": {},
   "source": [
    "### Transposição\n",
    "\n",
    "A transposição constroi novas sequências a partir de uma série de sequências originais, onde a primeira nova sequência contém o primeiro elemento de cada sequência original, a segunda nova sequência contém o segundo elemento de cada sequência original, até que alguma das sequências originais acabe.\n",
    "\n",
    "<img src=\"../figures/zip_function.png\" width=\"300\" height=\"300\">\n",
    "\n",
    "A transposição é implementada em Python pela função embutida `zip()`. Essa função recebe objetos iteráveis (e.g., listas, tuplas, dicionários, conjuntos, etc.), os agrega em tuplas e as retorna através de um objeto iterável. \n",
    "\n",
    "A função `zip()` sempre retorna um objeto iterável que pode ser convertido em uma lista com a função embutida `list()`.\n",
    "\n",
    "Sintaxe:\n",
    "\n",
    "```python\n",
    "zip(iteravel1, iteravel2, iteravel3, ...)\n",
    "```\n",
    "\n",
    "#### Exemplo #1: Juntando 2 sequencias."
   ]
  },
  {
   "cell_type": "code",
   "execution_count": 196,
   "metadata": {},
   "outputs": [
    {
     "name": "stdout",
     "output_type": "stream",
     "text": [
      "[('a', 1), ('b', 2), ('c', 3)]\n"
     ]
    }
   ],
   "source": [
    "iteravel = zip(['a', 'b', 'c'], (1, 2, 3))\n",
    "\n",
    "resultado = list(iteravel)\n",
    "\n",
    "print(resultado)"
   ]
  },
  {
   "cell_type": "markdown",
   "metadata": {},
   "source": [
    "#### Exemplo #2: Sequências com tamanhos diferentes."
   ]
  },
  {
   "cell_type": "markdown",
   "metadata": {},
   "source": [
    "Em teoria, a função `zip()` deve ser usada com sequências de mesmo comprimento. Se as sequências tiverem comprimentos diferentes, a transposição resultante terá o mesmo comprimento que a sequência mais curta."
   ]
  },
  {
   "cell_type": "code",
   "execution_count": 197,
   "metadata": {},
   "outputs": [
    {
     "name": "stdout",
     "output_type": "stream",
     "text": [
      "[('a', 1, 66), ('b', 2, 99)]\n"
     ]
    }
   ],
   "source": [
    "iteravel = zip(['a', 'b'], (1, 2, 3, 4, 5), {66:'A', 99:'2'})\n",
    "\n",
    "resultado = list(iteravel)\n",
    "\n",
    "print(list(resultado))"
   ]
  },
  {
   "cell_type": "markdown",
   "metadata": {},
   "source": [
    "## List Comprehensions\n",
    "\n",
    "Um dos recursos mais distintos da linguagem Python são as **List Comprehensions**, as quais nós podemos usar para criar funcionalidades poderosas em uma única linha de código.\n",
    "\n",
    "Em computação, **list comprehension** é uma construção que equivale a uma notação matemática do tipo:\n",
    "\n",
    "$$S = x^2 \\;\\forall \\;\\in \\mathbb{N}, x \\ge 20$$\n",
    "\n",
    "Ou seja, $S$ é o conjunto formado por todos os valores de $x$ ao quadrado para todo $x$ pertencente ao conjunto dos números naturais, apenas se $x$ for maior ou igual a 20.\n",
    "\n",
    "Em suma, **list comprehension** é uma ferramenta muito poderosa, que cria uma nova lista com base em outra lista, através de uma única linha de código.\n",
    "\n",
    "Sintaxe:\n",
    "\n",
    "```python\n",
    "lista = [ <expressão> for <referência> in <sequência> if <condição> ]\n",
    "```\n",
    "\n",
    "#### Exemplo #1: Implementação do exemplo acima."
   ]
  },
  {
   "cell_type": "code",
   "execution_count": 8,
   "metadata": {},
   "outputs": [
    {
     "name": "stdout",
     "output_type": "stream",
     "text": [
      "[400, 441, 484, 529, 576, 625, 676, 729, 784, 841, 900, 961, 1024, 1089, 1156, 1225, 1296, 1369, 1444, 1521, 1600, 1681, 1764, 1849, 1936, 2025, 2116, 2209, 2304, 2401, 2500, 2601, 2704, 2809, 2916, 3025, 3136, 3249, 3364, 3481, 3600, 3721, 3844, 3969, 4096, 4225, 4356, 4489, 4624, 4761, 4900, 5041, 5184, 5329, 5476, 5625, 5776, 5929, 6084, 6241, 6400, 6561, 6724, 6889, 7056, 7225, 7396, 7569, 7744, 7921, 8100, 8281, 8464, 8649, 8836, 9025, 9216, 9409, 9604, 9801]\n"
     ]
    }
   ],
   "source": [
    "lista = [ x**2 for x in range(0, 100) if x >= 20]\n",
    "\n",
    "print(lista)"
   ]
  },
  {
   "cell_type": "markdown",
   "metadata": {},
   "source": [
    "#### Exemplo #2: Apenas números pares são elevados ao quadrado."
   ]
  },
  {
   "cell_type": "code",
   "execution_count": 11,
   "metadata": {},
   "outputs": [
    {
     "name": "stdout",
     "output_type": "stream",
     "text": [
      "[1, 9, 25, 49, 81, 121]\n"
     ]
    }
   ],
   "source": [
    "nums = [1, 2, 3, 4, 5, 6, 7, 8, 9, 10, 11, 12]\n",
    "\n",
    "# Eleve os valores ímpares ao quadrado.\n",
    "list_comprehension = [ x**2 for x in nums if x % 2 ]\n",
    "\n",
    "print(list_comprehension)"
   ]
  },
  {
   "cell_type": "markdown",
   "metadata": {},
   "source": [
    "#### Exemplo #3: Valores ao quadrado sem a cláusula if."
   ]
  },
  {
   "cell_type": "code",
   "execution_count": 12,
   "metadata": {},
   "outputs": [
    {
     "name": "stdout",
     "output_type": "stream",
     "text": [
      "[0, 1, 4, 9, 16, 25, 36, 49, 64, 81]\n"
     ]
    }
   ],
   "source": [
    "quadrados = [i * i for i in range(10)]\n",
    "\n",
    "print(quadrados)"
   ]
  },
  {
   "cell_type": "markdown",
   "metadata": {},
   "source": [
    "**IMPORTANTE**: A utilização de **list comprehension** é mais eficiente do que usar as funções `map()` e `filter()` tanto em termos de uso do processador quanto em consumo de memória."
   ]
  },
  {
   "cell_type": "markdown",
   "metadata": {},
   "source": [
    "### Tarefas\n",
    "\n",
    "1. <span style=\"color:blue\">**QUIZ - Programação funcional e list comprehension**</span>: respondam ao questionário sobre programação funcional e list comprehension no MS teams, por favor. \n",
    "2. <span style=\"color:blue\">**Laboratório #10 - Programação funcional e list comprehension**</span>: cliquem em um dos links abaixo para accessar os exercícios do laboratório #10.\n",
    "\n",
    "[![Binder](https://mybinder.org/badge_logo.svg)](https://mybinder.org/v2/gh/zz4fap/python-programming/master?filepath=labs%2FLaboratorio10_Programacao_Funcional_e_List_Comprehension.ipynb)\n",
    "\n",
    "[![Google Colab](https://badgen.net/badge/Launch/on%20Google%20Colab/blue?icon=terminal)](https://colab.research.google.com/github/zz4fap/python-programming/blob/master/labs/Laboratorio10_Programacao_Funcional_e_List_Comprehension.ipynb)"
   ]
  },
  {
   "cell_type": "markdown",
   "metadata": {},
   "source": [
    "## NumPy: Uma biblioteca para computação científica\n",
    "\n",
    "Numpy, ou numerical Python, é a principal biblioteca para computação científica em Python. Ela é utilizada para cálculos matemáticos avançados com alto nível de desempenho.\n",
    "\n",
    "Numpy fornece uma interface com códigos compilados (e otimizados) em C\n",
    "e Fortran, permitindo que operações relativas a arrays sejam computadas\n",
    "de maneira mais rápida e por isso, aumentando o desempenho.\n",
    "\n",
    "O Numpy adiciona suporte a arrays (i.e., matrizes e vetores) multidimensionais grandes, junto com uma grande coleção de funções matemáticas de alto nível para operar nessas arrays.\n",
    "\n",
    "Se você já está familiarizado com o MATLAB, então você vai encontrar várias similaridades."
   ]
  },
  {
   "cell_type": "markdown",
   "metadata": {},
   "source": [
    "### Vetores e Matrizes\n",
    "\n",
    "Vetores e matrizes (ou apenas arrays) NumPy são conjuntos de valores, todos do mesmo tipo e que podem ser indexados.\n",
    "\n",
    "Podemos inicializar vetores e matrizes NumPy a partir de listas aninhadas e acessar seus elementos usando colchetes.\n",
    "\n",
    "#### Exemplo: Criando um vetor"
   ]
  },
  {
   "cell_type": "code",
   "execution_count": 1,
   "metadata": {
    "scrolled": true
   },
   "outputs": [
    {
     "name": "stdout",
     "output_type": "stream",
     "text": [
      "<class 'numpy.ndarray'>\n",
      "(3,)\n",
      "int32\n",
      "1 2 3\n",
      "[5 2 3]\n"
     ]
    }
   ],
   "source": [
    "import numpy as np\n",
    "\n",
    "a = np.array([1, 2, 3])   # Criando um vetor.\n",
    "print(type(a))            # Imprime o tipo do vetor.\n",
    "print(a.shape)            # Imprime a dimensão do vetor.\n",
    "print(a.dtype)            # Imprime o tipo dos elementos da ndarray.\n",
    "print(a[0], a[1], a[2])   # Acessando valores específicos.\n",
    "a[0] = 5                  # Altera o valor de um elemento do vetor.\n",
    "print(a)                  # Imprime o conteúdo do vetor."
   ]
  },
  {
   "cell_type": "markdown",
   "metadata": {},
   "source": [
    "#### Classe numpy.ndarray\n",
    "\n",
    "Um objeto do tipo `ndarray` é um contêiner multidimensional genérico para dados **homogêneos** (ou seja, do mesmo tipo). \n",
    "\n",
    "Ele fornece operações aritméticas vetorizadas e recursos de transmissão sofisticados (tratamento de arrays com tamanhos diferentes). \n",
    "\n",
    "Cada `ndarray` tem 2 atributos: **shape** (forma) e **dtype** (tipo). O atributo **shape** é uma tupla que fornece a dimensão da array (vetor ou matriz) e **dtype** fornece o tipo de dados da array."
   ]
  },
  {
   "cell_type": "markdown",
   "metadata": {},
   "source": [
    "#### Exemplo: Criando uma matriz"
   ]
  },
  {
   "cell_type": "code",
   "execution_count": 9,
   "metadata": {},
   "outputs": [
    {
     "name": "stdout",
     "output_type": "stream",
     "text": [
      "(2, 3)\n",
      "int32\n",
      "1 2 4\n",
      "[[5 2 3]\n",
      " [4 5 6]]\n"
     ]
    }
   ],
   "source": [
    "import numpy as np\n",
    "\n",
    "b = np.array([[1,2,3],[4,5,6]])    # Cria uma matriz 2x3.\n",
    "print(b.shape)                     # Imprime as dimensões da matriz.\n",
    "print(b.dtype)                     # Imprime o tipo da ndarray.\n",
    "print(b[0, 0], b[0, 1], b[1, 0])   # Acessando valores específicos.\n",
    "b[0, 0] = 5                        # Altera o valor de um elemento da matriz.\n",
    "print(b)                           # Imprime o conteúdo da matriz."
   ]
  },
  {
   "cell_type": "markdown",
   "metadata": {},
   "source": [
    "O NumPy também oferece muitas outras funções para criar arrays:"
   ]
  },
  {
   "cell_type": "code",
   "execution_count": 2,
   "metadata": {},
   "outputs": [
    {
     "name": "stdout",
     "output_type": "stream",
     "text": [
      "Cria uma array com todos valores iguais a zero.\n",
      "[[0. 0.]\n",
      " [0. 0.]]\n",
      "\n",
      "Cria uma array com todos valores iguais a um.\n",
      "[[1. 1.]]\n",
      "\n",
      "Cria uma array com valores constantes.\n",
      "[[7 7]\n",
      " [7 7]]\n",
      "\n",
      "Cria uma matriz identidade 2x2.\n",
      "[[1. 0.]\n",
      " [0. 1.]]\n",
      "\n",
      "Cria uma matriz com valores aleatórios uniformemente distribuidos.\n",
      "[[0.99027047 0.35326456]\n",
      " [0.71070333 0.83362257]]\n",
      "\n",
      "Cria uma matriz com valores aleatórios uniformemente distribuidos.\n",
      "[[0.90652269 0.88553617 0.31734995]\n",
      " [0.92596108 0.52580887 0.28393179]]\n",
      "\n",
      "Cria uma matriz com valores inteiros aleatórios uniformemente distribuidos.\n",
      "[[1 0]\n",
      " [0 0]]\n",
      "\n",
      "Cria um vetor com valores aleatórios normalmente distribuidos.\n",
      "[[-1.53215996 -0.48849462  1.80867921 -0.00953356]]\n",
      "\n",
      "Cria um vetor com um intervalo de valores.\n",
      "[0 1 2 3 4 5 6 7 8 9]\n",
      "\n",
      "Cria um vetor com um intervalo de valores com passos de 2 em 2.\n",
      "[0 2 4 6 8]\n",
      "\n",
      "Gera um número determinado de pontos uniformemente espaçados entre dois valores\n",
      "[-3.  0.  3.]\n"
     ]
    }
   ],
   "source": [
    "print('Cria uma array com todos valores iguais a zero.')\n",
    "a = np.zeros((2,2))           # Cria uma array com todos valores iguais a zero.\n",
    "print(a)\n",
    "\n",
    "print('\\nCria uma array com todos valores iguais a um.')\n",
    "b = np.ones((1,2))            # Cria uma array com todos valores iguais a um.\n",
    "print(b)\n",
    "\n",
    "print('\\nCria uma array com valores constantes.')\n",
    "c = np.full((2,2), 7)         # Cria uma array com valores constantes.\n",
    "print(c)\n",
    "\n",
    "print('\\nCria uma matriz identidade 2x2.')\n",
    "d = np.eye(2)                 # Cria uma matriz identidade 2x2.\n",
    "print(d)\n",
    "\n",
    "print('\\nCria uma matriz com valores aleatórios uniformemente distribuidos.')\n",
    "e = np.random.random((2,2))   # Cria uma matriz com valores aleatórios.\n",
    "print(e)\n",
    "\n",
    "print('\\nCria uma matriz com valores aleatórios uniformemente distribuidos.')\n",
    "e = np.random.rand(2,3)     # Cria uma matriz com valores aleatórios.\n",
    "print(e)\n",
    "\n",
    "print('\\nCria uma matriz com valores inteiros aleatórios uniformemente distribuidos.')\n",
    "e = np.random.randint(0,4,(2,2))     # Cria uma matriz com valores inteiros aleatórios.\n",
    "print(e)\n",
    "\n",
    "print('\\nCria um vetor com valores aleatórios normalmente distribuidos.')\n",
    "e = np.random.randn(1,4)     # Cria uma matriz com valores aleatórios.\n",
    "print(e)\n",
    "\n",
    "print('\\nCria um vetor com um intervalo de valores.')\n",
    "f = np.arange(0,10)\n",
    "print(f)\n",
    "\n",
    "print('\\nCria um vetor com um intervalo de valores com passos de 2 em 2.')\n",
    "g = np.arange(0,10,2)\n",
    "print(g)\n",
    "\n",
    "print('\\nGera um número determinado de pontos uniformemente espaçados entre dois valores')\n",
    "h = np.linspace(-3,3,3)\n",
    "print(h)"
   ]
  },
  {
   "cell_type": "markdown",
   "metadata": {},
   "source": [
    "Outros métodos para criação de arrays podem ser encontrados na documentação:\n",
    "https://numpy.org/doc/stable/user/basics.creation.html#arrays-creation"
   ]
  },
  {
   "cell_type": "markdown",
   "metadata": {},
   "source": [
    "### Indexação de arrays\n",
    "\n",
    "O NumPy oferece várias maneiras de indexar arrays.\n",
    "\n",
    "**Fatiamento**: similarmente ao que é feito com listas, arrays NumPy podem ser fatiadas. Como as arrays podem ser multidimensionais, você deve especificar uma **fatia** para cada dimensão dela:"
   ]
  },
  {
   "cell_type": "code",
   "execution_count": 22,
   "metadata": {},
   "outputs": [
    {
     "name": "stdout",
     "output_type": "stream",
     "text": [
      "a: [[ 1  2  3  4]\n",
      " [ 5  6  7  8]\n",
      " [ 9 10 11 12]]\n",
      "a.shape: (3, 4)\n",
      "\n",
      "b: 2\n",
      "b.shape: ()\n",
      "\n",
      "c: [[2 3]\n",
      " [6 7]]\n",
      "c.shape: (2, 2)\n",
      "\n",
      "c: [5 6 7 8]\n",
      "d.shape: (4,)\n",
      "\n",
      "a[0, 1]: 2\n",
      "a[0, 1]: 77\n",
      "\n",
      "c: [[77  3]\n",
      " [ 6  7]]\n",
      "c.shape: (2, 2)\n",
      "\n",
      "a[0, 1]: 77\n",
      "a[0, 1]: 77\n"
     ]
    }
   ],
   "source": [
    "# Cria uma matriz com dimensão 3x4.\n",
    "a = np.array([ [1,2,3,4], [5,6,7,8], [9,10,11,12] ])\n",
    "print('a:',a)\n",
    "print('a.shape:', a.shape)\n",
    "\n",
    "# Acessa o elemento da primeira linha e segunda coluna.\n",
    "b = a[0, 1]\n",
    "print('\\nb:', b)\n",
    "print('b.shape:', b.shape)\n",
    "\n",
    "# Fatiando para criar uma submatriz que consiste \n",
    "# nas 2 primeiras linhas (i.e., 0 e 1) e colunas 1 e 2 da matriz a.\n",
    "# c será uma matriz de dimensão (2, 2):\n",
    "c = a[:2, 1:3]\n",
    "print('\\nc:',c)\n",
    "print('c.shape:',c.shape)\n",
    "\n",
    "# Cria vetor com a segunda linha de a.\n",
    "d = a[1, :]\n",
    "print('\\nd:',d)\n",
    "print('d.shape:',d.shape)\n",
    "\n",
    "# Uma fatia B de uma matriz A acessa os mesmos dados de A, \n",
    "# portanto, modificar B irá modificar a matriz original, A.\n",
    "print('\\na[0, 1]:', a[0, 1])   # Imprime o valor 2.\n",
    "c[0, 0] = 77                   # c[0, 0] acessa o mesmo elemento que a[0, 1]\n",
    "print('a[0, 1]:', a[0, 1])     # Imprime o valor 77.\n",
    "\n",
    "# Para criar uma subarray B independente de uma array A, usamos a função copy().\n",
    "c = a.copy()[:2, 1:3]\n",
    "print('\\nc:',c)\n",
    "print('c.shape:',c.shape)\n",
    "\n",
    "print('\\na[0, 1]:', a[0, 1])   # Imprime o valor 77.\n",
    "c[0, 0] = 2                    # c[0, 0] acessa o mesmo elemento que a[0, 1]\n",
    "print('a[0, 1]:', a[0, 1])     # Imprime o valor 77."
   ]
  },
  {
   "cell_type": "markdown",
   "metadata": {},
   "source": [
    "### Indexando com filtragem condicional\n",
    "\n",
    "Nós também podemos utilizar **filtragem condicional** para indexar arrays NumPy.\n",
    "\n",
    "A **filtragem condicional** permite selecionar elementos arbitrários de uma array. \n",
    "\n",
    "Frequentemente, esse tipo de indexação é usado para selecionar os elementos de uma array que satisfazem alguma condição.\n",
    "\n",
    "#### Exemplo #1:"
   ]
  },
  {
   "cell_type": "code",
   "execution_count": 103,
   "metadata": {},
   "outputs": [
    {
     "name": "stdout",
     "output_type": "stream",
     "text": [
      "Vetor a: [0 1 2 3 4 5 6 7 8 9]\n",
      "indices: [False False False False False  True  True  True  True  True]\n",
      "a[indices]: [5 6 7 8 9]\n",
      "a[a > 4]: [5 6 7 8 9]\n"
     ]
    }
   ],
   "source": [
    "a = np.arange(0,10)\n",
    "\n",
    "print('Vetor a:',a)\n",
    "\n",
    "# Encontra elementos que são maiores do que 4.\n",
    "# A instrução abaixo retorna uma array numpy de valores Booleanos \n",
    "# com o mesmo formato do vetor a, onde cada índice informa se \n",
    "# esse elemento de a é maior do que 4.\n",
    "indices = a > 4\n",
    "print('indices:',indices)\n",
    "\n",
    "# Usamos o vetor booleano para construir uma array\n",
    "# consistindo dos elementos que correspondem aos \n",
    "# valores verdadeiros do vetor indices.\n",
    "print('a[indices]:', a[indices])\n",
    "\n",
    "# Podemos fazer tudo isso em uma única e concisa declaração.\n",
    "print('a[a > 4]:', a[a > 4])"
   ]
  },
  {
   "cell_type": "markdown",
   "metadata": {},
   "source": [
    "#### Exemplo #2:"
   ]
  },
  {
   "cell_type": "code",
   "execution_count": 108,
   "metadata": {},
   "outputs": [
    {
     "name": "stdout",
     "output_type": "stream",
     "text": [
      "a: [1 2 1 3 2]\n",
      "indices: [False  True False False  True]\n",
      "a[indices]: [2 2]\n"
     ]
    }
   ],
   "source": [
    "a = np.array([1, 2, 1, 3, 2])\n",
    "\n",
    "indices = a == 2\n",
    "\n",
    "b = a[indices]\n",
    "\n",
    "print('a:',a)\n",
    "print('indices:',indices)\n",
    "print('a[indices]:',b)"
   ]
  },
  {
   "cell_type": "markdown",
   "metadata": {},
   "source": [
    "### Tipos dos dados\n",
    "\n",
    "Cada array NumPy é um conjunto de elementos do mesmo tipo (ou seja, elementos homogêneos). O NumPy fornece um grande conjunto de tipos de dados que podemos usar para construir arrays. \n",
    "\n",
    "O Numpy infere o tipo de dados quando criamos uma array, mas as funções que constroem arrays geralmente também incluem um parâmetro opcional para se especificar explicitamente o tipo dos dados.\n",
    "\n",
    "#### Exemplos"
   ]
  },
  {
   "cell_type": "code",
   "execution_count": 4,
   "metadata": {},
   "outputs": [
    {
     "name": "stdout",
     "output_type": "stream",
     "text": [
      "int32\n",
      "float64\n",
      "int64\n"
     ]
    }
   ],
   "source": [
    "import numpy as np\n",
    "\n",
    "x = np.array([1, 2])                # Deixamos o NumPy inferir o tipo dos dados.\n",
    "print(x.dtype)                      # Imprime \"int32\"\n",
    "\n",
    "x = np.array([1.0, 2.0])            # O NumPy infere o tipo dos dados.\n",
    "print(x.dtype)                      # Imprime \"float64\"\n",
    "\n",
    "x = np.array([1, 2], dtype=np.int64)# Forçando um tipo específico.\n",
    "print(x.dtype)                      # Imprime \"int64\""
   ]
  },
  {
   "cell_type": "markdown",
   "metadata": {},
   "source": [
    "### Redimensionando Arrays\n",
    "\n",
    "Nós podemos mudar as dimensões das arrays criadas com o método `reshape`."
   ]
  },
  {
   "cell_type": "code",
   "execution_count": 6,
   "metadata": {},
   "outputs": [
    {
     "name": "stdout",
     "output_type": "stream",
     "text": [
      "a.shape: (4,)\n",
      "b.shape: (2, 2)\n",
      "c.shape: (4, 1)\n",
      "c.shape: (1, 4)\n"
     ]
    }
   ],
   "source": [
    "a = np.array([1,2,3,4])\n",
    "print('a.shape:',a.shape)\n",
    "\n",
    "b = a.reshape(2,2)\n",
    "print('b.shape:',b.shape)\n",
    "\n",
    "c = a.reshape(4,1)\n",
    "print('c.shape:',c.shape)\n",
    "\n",
    "d = c.reshape(1,4)\n",
    "print('c.shape:',d.shape)"
   ]
  },
  {
   "cell_type": "markdown",
   "metadata": {},
   "source": [
    "### Cálculos com arrays\n",
    "\n",
    "O NumPy é conhecido por sua velocidade ao realizar cálculos complexos em grandes arrays multidimensionais. \n",
    "\n",
    "Funções matemáticas básicas operam elemento a elemento das arrays e estão disponíveis através de sobrecarga de operadores e como funções no NumPy.\n",
    "\n",
    "#### Exemplos: Em seguida, veremos como realizar esses cálculos com o NumPy."
   ]
  },
  {
   "cell_type": "code",
   "execution_count": 8,
   "metadata": {},
   "outputs": [
    {
     "name": "stdout",
     "output_type": "stream",
     "text": [
      "----> Exemplo #1: Adição de matrizes.\n",
      "y = a + b: [[ 6  8]\n",
      " [10 12]]\n",
      "y = np.add(a,b): [[ 6  8]\n",
      " [10 12]]\n",
      "\n",
      "----> Exemplo #2: Subtração de matrizes.\n",
      "y = a - b: [[-4 -4]\n",
      " [-4 -4]]\n",
      "y = np.subtract(a,b): [[-4 -4]\n",
      " [-4 -4]]\n",
      "\n",
      "----> Exemplo #3: Multiplicação de matrizes.\n",
      "y = a * b: [[ 5 12]\n",
      " [21 32]]\n",
      "y = np.multiply(a,b): [[ 5 12]\n",
      " [21 32]]\n",
      "\n",
      "----> Exemplo #4: Divisão de matrizes.\n",
      "y = a / b: [[0.2        0.33333333]\n",
      " [0.42857143 0.5       ]]\n",
      "y = np.divide(a,b): [[0.2        0.33333333]\n",
      " [0.42857143 0.5       ]]\n"
     ]
    }
   ],
   "source": [
    "# Criando 2 matrizes 2x2.\n",
    "a = np.array([[1,2],[3,4]])\n",
    "b = np.array([[5,6],[7,8]])\n",
    "\n",
    "# -------- Adição --------\n",
    "y = a + b # utilizando a sobrecarga do operador +\n",
    "print('----> Exemplo #1: Adição de matrizes.')\n",
    "print('y = a + b:',y)\n",
    "\n",
    "y = np.add(a,b) # utilizando a função add()\n",
    "print('y = np.add(a,b):',y)\n",
    "\n",
    "# -------- Subtração --------\n",
    "y = a - b # utilizando a sobrecarga do operador -\n",
    "print('\\n----> Exemplo #2: Subtração de matrizes.')\n",
    "print('y = a - b:',y)\n",
    "\n",
    "y = np.subtract(a,b) # utilizando a função subtract()\n",
    "print('y = np.subtract(a,b):',y)\n",
    "\n",
    "# -------- Multiplicação --------\n",
    "y = a * b # utilizando a sobrecarga do operador *\n",
    "print('\\n----> Exemplo #3: Multiplicação de matrizes.')\n",
    "print('y = a * b:',y)\n",
    "\n",
    "y = np.multiply(a,b) # utilizando a função multiply()\n",
    "print('y = np.multiply(a,b):',y)\n",
    "\n",
    "# -------- Divisão --------\n",
    "y = a / b # utilizando a sobrecarga do operador /\n",
    "print('\\n----> Exemplo #4: Divisão de matrizes.')\n",
    "print('y = a / b:',y)\n",
    "\n",
    "y = np.divide(a,b) # utilizando a função divide()\n",
    "print('y = np.divide(a,b):',y)"
   ]
  },
  {
   "cell_type": "markdown",
   "metadata": {},
   "source": [
    "### Funções embutidas do NumPy\n",
    "\n",
    "Existem algumas funções embutidas disponíveis no NumPy para calcular valores como média, desvio padrão, variância e outros.\n",
    "\n",
    "|    Operação   |   Função  |\n",
    "|:-------------:|:---------:|\n",
    "|      Soma     |  np.sum() |\n",
    "| Raiz quadrada | np.sqrt() |\n",
    "|     Média     | np.mean() |\n",
    "|   Variância   |  np.var() |\n",
    "| Desvio Padrão |  np.std() |"
   ]
  },
  {
   "cell_type": "code",
   "execution_count": 79,
   "metadata": {},
   "outputs": [
    {
     "name": "stdout",
     "output_type": "stream",
     "text": [
      "np.sum(a): 6\n",
      "np.sum(b): 10\n",
      "np.sqrt(a): [1.         1.41421356 1.73205081]\n",
      "np.mean(a): 2.0\n",
      "np.var(a): 0.6666666666666666\n",
      "np.std(a): 0.816496580927726\n"
     ]
    }
   ],
   "source": [
    "a = np.array([1, 2, 3])\n",
    "b = np.array([[1,2], [3,4]])\n",
    "\n",
    "x = np.sum(a)\n",
    "print('np.sum(a):', x)\n",
    "\n",
    "y = np.sum(b)\n",
    "print('np.sum(b):', y)\n",
    "\n",
    "x = np.sqrt(a)\n",
    "print('np.sqrt(a):',x)\n",
    "\n",
    "x = np.mean(a)\n",
    "print('np.mean(a):',x)\n",
    "\n",
    "x = np.var(a)\n",
    "print('np.var(a):',x)\n",
    "\n",
    "x = np.std(a)\n",
    "print('np.std(a):',x)"
   ]
  },
  {
   "cell_type": "markdown",
   "metadata": {},
   "source": [
    "Observe que, ao contrário do MATLAB, o operador `*` é uma multiplicação elemento-a-elemento, não uma multiplicação de matrizes. \n",
    "\n",
    "Em vez disso, usamos a função `dot()` para calcular produtos internos de vetores, para multiplicar um vetor por uma matriz e para multiplicar matrizes. \n",
    "\n",
    "A função `dot()` está disponível como uma função do módulo NumPy e como um método da classe `numpy.ndarray`:"
   ]
  },
  {
   "cell_type": "code",
   "execution_count": 81,
   "metadata": {},
   "outputs": [
    {
     "name": "stdout",
     "output_type": "stream",
     "text": [
      "Produto interno entre os vetores v e w.\n",
      "219\n",
      "219\n",
      "\n",
      "Produto interno entre a matriz x e o vetor v\n",
      "[29 67]\n",
      "[29 67]\n",
      "\n",
      "Produto interno entre a matriz x e a matriz y\n",
      "[[19 22]\n",
      " [43 50]]\n",
      "[[19 22]\n",
      " [43 50]]\n"
     ]
    }
   ],
   "source": [
    "# Cria 2 matrizes 2x2.\n",
    "x = np.array([[1, 2],[3, 4]])\n",
    "y = np.array([[5, 6],[7, 8]])\n",
    "\n",
    "# Cria 2 vetores.\n",
    "v = np.array([9, 10])\n",
    "w = np.array([11, 12])\n",
    "\n",
    "# Produto interno dos vetores v e w.\n",
    "print('Produto interno entre os vetores v e w.')\n",
    "print(v.dot(w))\n",
    "print(np.dot(v, w))\n",
    "\n",
    "# Produto interno entre uma matriz e um vetor.\n",
    "print('\\nProduto interno entre a matriz x e o vetor v')\n",
    "print(x.dot(v))\n",
    "print(np.dot(x, v))\n",
    "\n",
    "# Produto interno entre matrizes.\n",
    "print('\\nProduto interno entre a matriz x e a matriz y')\n",
    "print(x.dot(y))\n",
    "print(np.dot(x, y))"
   ]
  },
  {
   "cell_type": "markdown",
   "metadata": {},
   "source": [
    "Para realizar a transposição de uma matriz, basta usar o atributo `T` de um objeto do tipo `numpy.ndarray`:"
   ]
  },
  {
   "cell_type": "code",
   "execution_count": 3,
   "metadata": {},
   "outputs": [
    {
     "name": "stdout",
     "output_type": "stream",
     "text": [
      "Exemplo #1: transposição de uma matriz 2x2:\n",
      "x.shape: (2, 2)\n",
      "x: [[1 2]\n",
      " [3 4]]\n",
      "x.T: [[1 3]\n",
      " [2 4]]\n",
      "\n",
      "Exemplo #2: transposição de um vetor 3x1:\n",
      "v.shape: (3, 1)\n",
      "v: [[1]\n",
      " [2]\n",
      " [3]]\n",
      "v.T [[1 2 3]]\n"
     ]
    }
   ],
   "source": [
    "# Criando uma matriz 2x2.\n",
    "x = np.array([[1,2], [3,4]])\n",
    "print('Exemplo #1: transposição de uma matriz 2x2:')\n",
    "print('x.shape:',x.shape)\n",
    "print('x:',x)\n",
    "print('x.T:',x.T)\n",
    "\n",
    "# Criando um vetor coluna com dimensão 3x1.\n",
    "v = np.array([1,2,3]).reshape(3,1)\n",
    "print('\\nExemplo #2: transposição de um vetor 3x1:')\n",
    "print('v.shape:',v.shape)\n",
    "print('v:',v)\n",
    "print('v.T',v.T)"
   ]
  },
  {
   "cell_type": "markdown",
   "metadata": {},
   "source": [
    "## Adicionando e removendo elementos de uma array\n",
    "\n",
    "Existem algumas funções para adicionar e remover elementos de arrays:\n",
    "\n",
    "|           Operador           |             Função            |\n",
    "|:----------------------------:|:-----------------------------:|\n",
    "|        np.append(array, values, axis=None)        | Acrescenta elementos ao final da array. |\n",
    "| np.insert(array, obj, values, axis=None) |   Insere elementos ao longo do eixo fornecido antes dos índices fornecidos.  |\n",
    "|    np.delete(array, obj, axis=None)   | Retorna uma array com submatrizes ao longo do eixo excluído.|"
   ]
  },
  {
   "cell_type": "code",
   "execution_count": 9,
   "metadata": {},
   "outputs": [
    {
     "name": "stdout",
     "output_type": "stream",
     "text": [
      "Acrescentando elementos a uma array.\n",
      "d: [0 1 2 3 4 5 6 7]\n",
      "\n",
      "Inserindo elementos em uma array.\n",
      "e: [ 0  1 77  2  3]\n",
      "f: [[ 1  2]\n",
      " [77 77]\n",
      " [ 3  4]]\n",
      "g: [[ 1 77  2]\n",
      " [ 3 77  4]]\n",
      "\n",
      "Deletando elementos de uma array.\n",
      "h: [1 2 3]\n",
      "i: [2 3]\n",
      "j: [[3 4]]\n",
      "l: [[2]\n",
      " [4]]\n"
     ]
    }
   ],
   "source": [
    "# Criando 2 vetores.\n",
    "a = np.array([0, 1, 2, 3])\n",
    "b = np.array([4, 5, 6, 7])\n",
    "c = np.array([[1,2],[3,4]])\n",
    "\n",
    "# Acrescentando elementos a uma array.\n",
    "print('Acrescentando elementos a uma array.')\n",
    "d = np.append(a, b)\n",
    "print('d:',d)\n",
    "\n",
    "# Inserindo elementos em uma array.\n",
    "print('\\nInserindo elementos em uma array.')\n",
    "\n",
    "# Insere valor 77 antes do índice 2.\n",
    "e = np.insert(a, 2, 77)\n",
    "print('e:',e)\n",
    "\n",
    "# Insere valores 77 antes do índice 1 ao longo do eixo 0 (linha).\n",
    "f = np.insert(c, 1, 77, axis=0)\n",
    "print('f:',f)\n",
    "\n",
    "# Insere valores 77 antes do índice 1 ao longo do eixo 1 (coluna).\n",
    "g = np.insert(c, 1, 77, axis=1)\n",
    "print('g:',g)\n",
    "\n",
    "print('\\nDeletando elementos de uma array.')\n",
    "h = np.delete(a, 0)\n",
    "print('h:',h)\n",
    "\n",
    "i = np.delete(a, [0, 1])\n",
    "print('i:',i)\n",
    "\n",
    "j = np.delete(c, 0, axis=0)\n",
    "print('j:',j)\n",
    "\n",
    "l = np.delete(c, 0, axis=1)\n",
    "print('l:',l)"
   ]
  },
  {
   "cell_type": "markdown",
   "metadata": {},
   "source": [
    "### Difusão de arrays\n",
    "\n",
    "Em teoria, arrays com tamanhos diferentes não podem ser adicionadas, subtraídas ou usadas em algum cálculo aritmético.\n",
    "\n",
    "Entretanto, a biblioteca NumPy, através da **difusão** de arrays, consegue tratar arrays de dimensões diferentes.\n",
    "\n",
    "Vejamos alguns exemplos a seguir."
   ]
  },
  {
   "cell_type": "code",
   "execution_count": 10,
   "metadata": {},
   "outputs": [
    {
     "name": "stdout",
     "output_type": "stream",
     "text": [
      "[1 2 3]\n",
      "2\n",
      "[3 4 5]\n"
     ]
    }
   ],
   "source": [
    "a = np.array([1, 2, 3])\n",
    "print(a)\n",
    "\n",
    "b = 2\n",
    "print(b)\n",
    "\n",
    "# O escalar pode ser acicionado ao vetor, pois o NumPy, automaticamente,\n",
    "# através da difusão, converte o escalar em uma array com a mesma dimensão da\n",
    "# array a e com valores repetidos.\n",
    "c = a + b\n",
    "print(c)"
   ]
  },
  {
   "cell_type": "markdown",
   "metadata": {},
   "source": [
    "A mesma ideia se aplica a arrays com mais de 1 dimensão."
   ]
  },
  {
   "cell_type": "code",
   "execution_count": 12,
   "metadata": {},
   "outputs": [
    {
     "name": "stdout",
     "output_type": "stream",
     "text": [
      "[[1 2 3]\n",
      " [1 2 3]]\n",
      "2\n",
      "[[3 4 5]\n",
      " [3 4 5]]\n"
     ]
    }
   ],
   "source": [
    "A = np.array([[1, 2, 3], [1, 2, 3]])\n",
    "print(A)\n",
    "\n",
    "b = 2\n",
    "print(b)\n",
    "\n",
    "C = A + b\n",
    "print(C)"
   ]
  },
  {
   "cell_type": "markdown",
   "metadata": {},
   "source": [
    "Uma array unidimensional pode ser somada com uma array bidimensional.\n",
    "\n",
    "No exemplo abaixo, uma array bidimensional `A` com 2 linhas e 3 colunas é somada a uma array unidimensional `b` com 3 elementos."
   ]
  },
  {
   "cell_type": "code",
   "execution_count": 7,
   "metadata": {},
   "outputs": [
    {
     "name": "stdout",
     "output_type": "stream",
     "text": [
      "[[1 2 3]\n",
      " [1 2 3]]\n",
      "[[1]\n",
      " [2]]\n",
      "[[2 3 4]\n",
      " [3 4 5]]\n"
     ]
    }
   ],
   "source": [
    "A = np.array([[1, 2, 3], [1, 2, 3]])\n",
    "print(A)\n",
    "\n",
    "b = np.array([1, 2, 3])\n",
    "print(b)\n",
    "\n",
    "C = A + b\n",
    "print(C)"
   ]
  },
  {
   "cell_type": "markdown",
   "metadata": {},
   "source": [
    "### Conclusão\n",
    "\n",
    "Esta breve visão geral abordou muitas das coisas importantes que precisamos saber sobre o NumPy, mas está longe de ser completa. \n",
    "\n",
    "Confiram o link seguinte para descobrirem muito mais sobre o NumPy: http://docs.scipy.org/doc/numpy/reference/"
   ]
  },
  {
   "cell_type": "markdown",
   "metadata": {},
   "source": [
    "### Tarefas\n",
    "\n",
    "1. <span style=\"color:blue\">**QUIZ - NumPy**</span>: respondam ao questionário sobre a biblioteca NumPy no MS teams, por favor. \n",
    "2. <span style=\"color:blue\">**Laboratório #10 - NumPy**</span>: cliquem em um dos links abaixo para accessar os exercícios do laboratório #10.\n",
    "\n",
    "[![Binder](https://mybinder.org/badge_logo.svg)](https://mybinder.org/v2/gh/zz4fap/python-programming/master?filepath=labs%2FLaboratorio10_NumPy.ipynb)\n",
    "\n",
    "[![Google Colab](https://badgen.net/badge/Launch/on%20Google%20Colab/blue?icon=terminal)](https://colab.research.google.com/github/zz4fap/python-programming/blob/master/labs/Laboratorio10_NumPy.ipynb)"
   ]
  },
  {
   "cell_type": "markdown",
   "metadata": {},
   "source": [
    "## Visualização de dados com Matplotlib\n",
    "\n",
    "O Matplotlib é uma biblioteca para a criação de gráficos. A biblioteca tem dois módulos principais:\n",
    "\n",
    "+ **matplotlib**: módulo que oferece uma abstração orientada a objetos aos recursos do pacote.\n",
    "+ **pylab**: módulo que oferece uma coleção de comandos que se assemelha ao Matlab, e é mais adequado para o uso interativo.\n",
    "\n",
    "#### Exemplo #1: Plotando a função `seno` para 200 pontos no intervalo `[0, 10)`."
   ]
  },
  {
   "cell_type": "code",
   "execution_count": 17,
   "metadata": {},
   "outputs": [
    {
     "data": {
      "image/png": "[encoded data removed]",
      "text/plain": [
       "<Figure size 432x288 with 1 Axes>"
      ]
     },
     "metadata": {
      "needs_background": "light"
     },
     "output_type": "display_data"
    }
   ],
   "source": [
    "import numpy as np\n",
    "import matplotlib.pyplot as plt\n",
    "\n",
    "# 200 pontos do intervalo [0, 10)\n",
    "x = np.linspace(0, 10, 200)\n",
    "y = np.sin(x)\n",
    "\n",
    "# Plota a figura.\n",
    "# linewidth: define a largura da linha.\n",
    "# 'b--': define a cor (b) e o estilo da linha (--).\n",
    "plt.plot(x, y, 'b--', linewidth=1)\n",
    "# Título da figura.\n",
    "plt.title('Exemplo #1')\n",
    "# Dá um nome para o eixo x.\n",
    "plt.xlabel('x')\n",
    "# Dá um nome para o eixo y.\n",
    "plt.ylabel('y')\n",
    "# Habilita o grid.\n",
    "plt.grid()\n",
    "# Mostra a figura.\n",
    "plt.show()"
   ]
  },
  {
   "cell_type": "markdown",
   "metadata": {},
   "source": [
    "#### Exemplo #2:  Plotando mais de uma função em um mesmo gráfico."
   ]
  },
  {
   "cell_type": "code",
   "execution_count": 7,
   "metadata": {},
   "outputs": [
    {
     "data": {
      "image/png": "[encoded data removed]",
      "text/plain": [
       "<Figure size 432x288 with 1 Axes>"
      ]
     },
     "metadata": {
      "needs_background": "light"
     },
     "output_type": "display_data"
    }
   ],
   "source": [
    "import numpy as np\n",
    "import matplotlib.pyplot as plt\n",
    "\n",
    "# 200 pontos do intervalo [0, 10)\n",
    "x = np.linspace(0, 10, 200)\n",
    "y = np.sin(x)\n",
    "z = np.cos(x)\n",
    "\n",
    "# Plota a figura.\n",
    "plt.plot(x, y, 'b--', linewidth=1) # Plota o seno.\n",
    "plt.plot(x, z, 'r-', linewidth=2)  # Plota o cosseno.\n",
    "# Dá um nome para o eixo x.\n",
    "plt.xlabel('x')\n",
    "# Dá um nome para o eixo y.\n",
    "plt.ylabel('y')\n",
    "# Habilita o grid.\n",
    "plt.grid()\n",
    "# Mostra a figura.\n",
    "plt.show()"
   ]
  },
  {
   "cell_type": "markdown",
   "metadata": {},
   "source": [
    "Acessem o link abaixo para verificarem outras cores e formatos para as linhas das figuras: \n",
    "\n",
    "https://matplotlib.org/api/_as_gen/matplotlib.pyplot.plot.html#matplotlib.pyplot.plot"
   ]
  },
  {
   "cell_type": "markdown",
   "metadata": {},
   "source": [
    "#### Exemplo #3: Salvando uma figura em um arquivo."
   ]
  },
  {
   "cell_type": "code",
   "execution_count": 13,
   "metadata": {},
   "outputs": [
    {
     "data": {
      "image/png": "[encoded data removed]",
      "text/plain": [
       "<Figure size 432x288 with 1 Axes>"
      ]
     },
     "metadata": {
      "needs_background": "light"
     },
     "output_type": "display_data"
    }
   ],
   "source": [
    "import numpy as np\n",
    "import matplotlib.pyplot as plt\n",
    "\n",
    "# 200 pontos do intervalo [0, 10)\n",
    "x = np.linspace(0, 10, 200)\n",
    "y = np.sin(x)\n",
    "z = np.cos(x)\n",
    "\n",
    "# Plota a figura.\n",
    "plt.plot(x, y, 'b--', linewidth=1) # Plota o seno.\n",
    "plt.plot(x, z, 'r-', linewidth=2)  # Plota o cosseno.\n",
    "# Dá um nome para o eixo x.\n",
    "plt.xlabel('x')\n",
    "# Dá um nome para o eixo y.\n",
    "plt.ylabel('y')\n",
    "# Habilita o grid.\n",
    "plt.grid()\n",
    "\n",
    "# Salva a figura em um arquivo.\n",
    "plt.savefig('cosseno_e_seno_figura.png')\n",
    "\n",
    "# Mostra a figura.\n",
    "plt.show()"
   ]
  },
  {
   "cell_type": "markdown",
   "metadata": {},
   "source": [
    "#### Exemplo #4: Adicionando legendas à figura."
   ]
  },
  {
   "cell_type": "code",
   "execution_count": 19,
   "metadata": {},
   "outputs": [
    {
     "data": {
      "image/png": "[encoded data removed]",
      "text/plain": [
       "<Figure size 720x360 with 1 Axes>"
      ]
     },
     "metadata": {
      "needs_background": "light"
     },
     "output_type": "display_data"
    }
   ],
   "source": [
    "import numpy as np\n",
    "import matplotlib.pyplot as plt\n",
    "\n",
    "# 200 pontos do intervalo [0, 10)\n",
    "x = np.linspace(0, 10, 200)\n",
    "y = np.sin(x)\n",
    "z = np.cos(x)\n",
    "\n",
    "# figsize: permite definir o tamanho da figura.\n",
    "plt.figure(figsize=(10,5))\n",
    "\n",
    "# Plota a figura.\n",
    "plt.plot(x, y, 'b--', linewidth=1, label='$\\sin(x)$') # label da linha seno.\n",
    "plt.plot(x, z, 'r-', linewidth=2, label='$\\cos(x)$')  # label da linha cosseno.\n",
    "# Dá um nome para o eixo x.\n",
    "plt.xlabel('x')\n",
    "# Dá um nome para o eixo y.\n",
    "plt.ylabel('y')\n",
    "# Habilita o grid.\n",
    "plt.grid()\n",
    "\n",
    "# Inclui a legenda na figura.\n",
    "plt.legend()\n",
    "\n",
    "# Mostra a figura.\n",
    "plt.show()"
   ]
  },
  {
   "cell_type": "markdown",
   "metadata": {},
   "source": [
    "#### Exemplo #5: Usando subplots."
   ]
  },
  {
   "cell_type": "code",
   "execution_count": 35,
   "metadata": {},
   "outputs": [
    {
     "data": {
      "image/png": "[encoded data removed]",
      "text/plain": [
       "<Figure size 792x288 with 2 Axes>"
      ]
     },
     "metadata": {
      "needs_background": "light"
     },
     "output_type": "display_data"
    }
   ],
   "source": [
    "import matplotlib.pyplot as plt\n",
    "import numpy as np\n",
    "\n",
    "# Dados.\n",
    "x = np.linspace(0, 10, 200)\n",
    "y = np.sin(x)\n",
    "z = np.cos(x)\n",
    "\n",
    "plt.figure(figsize=(11,4))\n",
    "\n",
    "# Divide a figura em 1 linha e 2 colunas e seleciona a parte superior.\n",
    "plt.subplot(121)\n",
    "\n",
    "# Plota a curva do seno.\n",
    "plt.plot(x, y, 'b--', linewidth=1, label='$\\sin(x)$') # label da linha seno.\n",
    "plt.title('Subplot #1')\n",
    "plt.grid()\n",
    "plt.xlabel('x')\n",
    "plt.ylabel('y')\n",
    "plt.legend()\n",
    "\n",
    "# Seleciona a parte inferior.\n",
    "plt.subplot(122)\n",
    "\n",
    "# Plota a curva do cosseno.\n",
    "plt.plot(x, z, 'r-', linewidth=2, label='$\\cos(x)$')  # label da linha cosseno.\n",
    "plt.title('Subplot #2')\n",
    "plt.grid()\n",
    "plt.xlabel('x')\n",
    "plt.ylabel('y')\n",
    "plt.legend()\n",
    "\n",
    "# Salva a figura\n",
    "plt.savefig('exemplo_subplot.png')\n",
    "\n",
    "plt.show()"
   ]
  },
  {
   "cell_type": "markdown",
   "metadata": {},
   "source": [
    "#### Exemplo #6: Plotando histogramas."
   ]
  },
  {
   "cell_type": "code",
   "execution_count": 49,
   "metadata": {},
   "outputs": [
    {
     "data": {
      "image/png": "[encoded data removed]",
      "text/plain": [
       "<Figure size 720x288 with 2 Axes>"
      ]
     },
     "metadata": {
      "needs_background": "light"
     },
     "output_type": "display_data"
    }
   ],
   "source": [
    "import matplotlib.pyplot as plt\n",
    "import numpy as np\n",
    "\n",
    "numPontos = 100000\n",
    "numBins = 100\n",
    "\n",
    "# Gera valores retirados de uma distribuição normal.\n",
    "x = np.random.randn(numPontos)\n",
    "\n",
    "plt.figure(figsize=(10,4))\n",
    "\n",
    "plt.subplot(1,2,1)\n",
    "plt.hist(x, bins=numBins)\n",
    "plt.xlabel('x')\n",
    "plt.title('Histograma não-normalizado')\n",
    "\n",
    "plt.subplot(1,2,2)\n",
    "plt.hist(x, bins=numBins, density=True)\n",
    "plt.title('Histograma normalizado')\n",
    "plt.xlabel('x')\n",
    "\n",
    "plt.show()"
   ]
  },
  {
   "cell_type": "markdown",
   "metadata": {},
   "source": [
    "#### Exemplo #7: Plotando um gráfico de pizza."
   ]
  },
  {
   "cell_type": "code",
   "execution_count": 7,
   "metadata": {},
   "outputs": [
    {
     "data": {
      "image/png": "[encoded data removed]",
      "text/plain": [
       "<Figure size 432x288 with 1 Axes>"
      ]
     },
     "metadata": {},
     "output_type": "display_data"
    }
   ],
   "source": [
    "import matplotlib.pyplot as plt\n",
    "\n",
    "# Gráfico de pizza, onde as fatias serão ordenadas \n",
    "# e plotadas no sentido anti-horário:\n",
    "labels = 'Sapos', 'Porcos', 'Cachorros', 'Gatos'\n",
    "sizes = [15, 30, 45, 10]\n",
    "# Apenas \"explode\" a segunda fatia (ou seja, 'Porcos')\n",
    "explode = (0, 0.1, 0, 0)\n",
    "\n",
    "plt.figure()\n",
    "\n",
    "plt.pie(sizes, explode=explode, \n",
    "        labels=labels, autopct='%1.1f%%', \n",
    "        shadow=True, startangle=90)\n",
    "\n",
    "plt.show()"
   ]
  },
  {
   "cell_type": "markdown",
   "metadata": {},
   "source": [
    "A biblioteca tem funções para gerar gráficos de barra, linha, dispersão, pizza e polar, entre outros. Para ver esses e vários outros exemplos de uso da biblioteca matplotlib, acesse o link abaixo:\n",
    "\n",
    "https://matplotlib.org/api/_as_gen/matplotlib.pyplot.plot.html#examples-using-matplotlib-pyplot-plot"
   ]
  },
  {
   "cell_type": "markdown",
   "metadata": {},
   "source": [
    "## Computação científica com SciPy"
   ]
  },
  {
   "cell_type": "markdown",
   "metadata": {},
   "source": [
    "O SciPy é uma biblioteca que expande a biblioteca NumPy e fornece um grande número de funções que operam em arrays NumPy e são úteis para diferentes tipos de aplicações científicas e de engenharia.\n",
    "\n",
    "SciPy contém módulos para otimização, álgebra linear, integração, interpolação, funções especiais, FFT, processamento de sinais e imagens, solvers ODE e outras tarefas comuns em ciências e engenharias.\n",
    "\n",
    "O SciPy compete de igual para igual com outros sistemas como MATLAB, Octave e SciLab.\n",
    "\n",
    "Entre os módulos que fazem parte do pacote, temos:\n",
    "\n",
    "+ **scipy.stats**: funções para estatística.\n",
    "+ **scipy.linalg**: funções de álgebra linear.\n",
    "+ **scipy.fft**: transformada de Fourier.\n",
    "+ **scipy.integrate**: funções para integração.\n",
    "+ **scipy.interpolate**: funções para interpolação.\n",
    "+ **scipy.optimize**: funções para optimização.\n",
    "+ **scipy.signal**: funções para processamento de sinais.\n",
    "+ **scipy.special**: funções especiais (Gamma, Elíptica, Bessel, Beta, etc).\n",
    "\n",
    "#### Exemplo #1: Operações de álgebra linear\n",
    "\n",
    "A função `scipy.linalg.det()` calcula o determinante de uma matriz quadrada:"
   ]
  },
  {
   "cell_type": "code",
   "execution_count": 2,
   "metadata": {},
   "outputs": [
    {
     "name": "stdout",
     "output_type": "stream",
     "text": [
      "-2.0\n"
     ]
    }
   ],
   "source": [
    "import numpy as np\n",
    "from scipy import linalg\n",
    "\n",
    "array = np.array([[1, 2],\n",
    "                  [3, 4]])\n",
    "\n",
    "detArray = linalg.det(array)\n",
    "\n",
    "print(detArray)"
   ]
  },
  {
   "cell_type": "markdown",
   "metadata": {},
   "source": [
    "A função `scipy.linalg.inv()` calcula a inversa de uma matriz quadrada:"
   ]
  },
  {
   "cell_type": "code",
   "execution_count": 8,
   "metadata": {},
   "outputs": [
    {
     "name": "stdout",
     "output_type": "stream",
     "text": [
      "[[-2.   1. ]\n",
      " [ 1.5 -0.5]]\n"
     ]
    }
   ],
   "source": [
    "array = np.array([[1, 2],\n",
    "                  [3, 4]])\n",
    "\n",
    "invArray = linalg.inv(array)\n",
    "\n",
    "print(invArray)"
   ]
  },
  {
   "cell_type": "markdown",
   "metadata": {},
   "source": [
    "Para entender melhor essas e outras funções, acesse:\n",
    "https://docs.scipy.org/doc/scipy/reference/tutorial/linalg.html"
   ]
  },
  {
   "cell_type": "markdown",
   "metadata": {},
   "source": [
    "#### Exemplo #2: Transformada rápida de Fourier\n",
    "\n",
    "O módulo `scipy.fftpack` permite calcular a transformada rápida de Fourier."
   ]
  },
  {
   "cell_type": "code",
   "execution_count": 33,
   "metadata": {},
   "outputs": [],
   "source": [
    "time_step = 0.02\n",
    "period = 1.0\n",
    "time_vec = np.arange(0, 20, time_step)\n",
    "sig = np.sin(2 * np.pi / period * time_vec) + 0.5 * np.random.randn(time_vec.size)"
   ]
  },
  {
   "cell_type": "markdown",
   "metadata": {},
   "source": [
    "A função `scipy.fftpack.fftfreq()` irá gerar as frequências de amostragem e `scipy.fftpack.fft()` irá calcular a transformada rápida de Fourier:"
   ]
  },
  {
   "cell_type": "code",
   "execution_count": 40,
   "metadata": {},
   "outputs": [],
   "source": [
    "from scipy import fftpack\n",
    "\n",
    "sample_freq = fftpack.fftfreq(sig.size, d=time_step)\n",
    "sig_fft = fftpack.fft(sig)"
   ]
  },
  {
   "cell_type": "code",
   "execution_count": 41,
   "metadata": {},
   "outputs": [],
   "source": [
    "pidxs = np.where(sample_freq > 0)\n",
    "freqs = sample_freq[pidxs]\n",
    "power = np.abs(sig_fft)[pidxs]"
   ]
  },
  {
   "cell_type": "code",
   "execution_count": 50,
   "metadata": {},
   "outputs": [
    {
     "data": {
      "image/png": "[encoded data removed]",
      "text/plain": [
       "<Figure size 432x288 with 2 Axes>"
      ]
     },
     "metadata": {
      "needs_background": "light"
     },
     "output_type": "display_data"
    }
   ],
   "source": [
    "import matplotlib.pyplot as plt \n",
    "\n",
    "plt.figure()\n",
    "plt.plot(freqs, power)\n",
    "plt.xlabel('Frequência [Hz]')\n",
    "plt.ylabel('Energia')\n",
    "axes = plt.axes([0.3, 0.3, 0.5, 0.5])\n",
    "plt.title('Pico de frequência')\n",
    "plt.plot(freqs[15:25], power[15:25])\n",
    "plt.setp(axes, yticks=[])\n",
    "plt.show()"
   ]
  },
  {
   "cell_type": "markdown",
   "metadata": {},
   "source": [
    "Para entender melhor essas e outras funções, acesse:\n",
    "https://docs.scipy.org/doc/scipy/reference/tutorial/fft.html"
   ]
  },
  {
   "cell_type": "markdown",
   "metadata": {},
   "source": [
    "#### Exemplo #3: Otimização e ajustes\n",
    "\n",
    "Otimização é o problema de se encontrar uma solução numérica para a minimização ou a igualdade.\n",
    "\n",
    "O módulo `scipy.optimize` fornece algoritmos úteis para a minimização de funções (escalar ou multi-dimensional), ajuste de curva e descoberta de raizes.\n",
    "\n",
    "##### Encontrando o mínimo de uma função escalar\n",
    "\n",
    "No exemplo abaixo, encontramos o mínimo de uma função."
   ]
  },
  {
   "cell_type": "code",
   "execution_count": 67,
   "metadata": {},
   "outputs": [],
   "source": [
    "# Definição da função\n",
    "def f(x):\n",
    "    return x**2 + 10*np.sin(x)"
   ]
  },
  {
   "cell_type": "code",
   "execution_count": 68,
   "metadata": {},
   "outputs": [
    {
     "data": {
      "image/png": "[encoded data removed]",
      "text/plain": [
       "<Figure size 432x288 with 1 Axes>"
      ]
     },
     "metadata": {
      "needs_background": "light"
     },
     "output_type": "display_data"
    }
   ],
   "source": [
    "x = np.arange(-10, 10, 0.1)\n",
    "plt.plot(x, f(x)) \n",
    "plt.plot(x,np.zeros(x.shape), 'r')\n",
    "plt.show()"
   ]
  },
  {
   "cell_type": "markdown",
   "metadata": {},
   "source": [
    "Essa função tem um mínimo global em torno de `-1.3`. minimize\n",
    "\n",
    "A pesquisa pelo mínimo pode ser feita com a função `scipy.optimize.minimize()`, dado um ponto de partida `x0`, ela retorna o mínimo."
   ]
  },
  {
   "cell_type": "code",
   "execution_count": 60,
   "metadata": {},
   "outputs": [
    {
     "name": "stdout",
     "output_type": "stream",
     "text": [
      "      fun: -7.945823375615215\n",
      " hess_inv: array([[0.08589237]])\n",
      "      jac: array([-1.1920929e-06])\n",
      "  message: 'Optimization terminated successfully.'\n",
      "     nfev: 12\n",
      "      nit: 5\n",
      "     njev: 6\n",
      "   status: 0\n",
      "  success: True\n",
      "        x: array([-1.30644012])\n",
      "Mínimo global: [-1.30644012]\n"
     ]
    }
   ],
   "source": [
    "from scipy import optimize\n",
    "\n",
    "result = optimize.minimize(f, x0=0)\n",
    "\n",
    "print(result)\n",
    "\n",
    "print('Mínimo global:', result.x)"
   ]
  },
  {
   "cell_type": "markdown",
   "metadata": {},
   "source": [
    "##### Encontrando as raízes de uma função escalar\n",
    "\n",
    "Para encontrar as raizes, ou seja, os pontos em que `f(x) = 0`, podemos usar, por exemplo a função `scipy.optimize.fsolve()`:"
   ]
  },
  {
   "cell_type": "code",
   "execution_count": 71,
   "metadata": {},
   "outputs": [
    {
     "name": "stdout",
     "output_type": "stream",
     "text": [
      "Primeira raíz: 0.0\n"
     ]
    }
   ],
   "source": [
    "root1 = optimize.fsolve(f, x0=1.0)  # o chute inicial é 1\n",
    "\n",
    "print('Primeira raíz:', root1[0])"
   ]
  },
  {
   "cell_type": "markdown",
   "metadata": {},
   "source": [
    "Notem que apenas uma raiz é encontrada. Inspecionando o gráfico da função `f` vemos que há uma segunda raiz em torno de `-2.5`. \n",
    "\n",
    "Nós encontramos o valor exato da segunda raiz, ajustando a nossa suposição inicial:"
   ]
  },
  {
   "cell_type": "code",
   "execution_count": 70,
   "metadata": {},
   "outputs": [
    {
     "name": "stdout",
     "output_type": "stream",
     "text": [
      "Segunda raíz: -2.479481833541332\n"
     ]
    }
   ],
   "source": [
    "root2 = optimize.fsolve(f, x0=-2.0)  # o chute inicial é 1\n",
    "\n",
    "print('Segunda raíz:',root2[0])"
   ]
  },
  {
   "cell_type": "markdown",
   "metadata": {},
   "source": [
    "##### Ajustando curvas\n",
    "\n",
    "Vamos supor que tenhamos dados amostrados de uma função `f` com algum ruído:"
   ]
  },
  {
   "cell_type": "code",
   "execution_count": 11,
   "metadata": {},
   "outputs": [
    {
     "data": {
      "image/png": "[encoded data removed]",
      "text/plain": [
       "<Figure size 432x288 with 1 Axes>"
      ]
     },
     "metadata": {
      "needs_background": "light"
     },
     "output_type": "display_data"
    }
   ],
   "source": [
    "import matplotlib.pyplot as plt \n",
    "\n",
    "# Definição da função\n",
    "def f(x):\n",
    "    return 1.0 + 2.9*np.sin(x)\n",
    "\n",
    "xdata = np.linspace(-5, 5, num=1000)\n",
    "ydata = f(xdata) + np.random.randn(xdata.size)\n",
    "\n",
    "plt.plot(xdata, ydata)\n",
    "plt.show()"
   ]
  },
  {
   "cell_type": "markdown",
   "metadata": {},
   "source": [
    "Agora, se nós sabemos a forma da função original a partir da qual as amostras foram geradas ($a_0 + a_1sin(x)$, nesse caso), mas não os valores dos pesos, podemos encontrá-los através do método dos quadrados mínimos. \n",
    "\n",
    "Para isso, primeiro temos que definir a função para ajustar:"
   ]
  },
  {
   "cell_type": "code",
   "execution_count": 12,
   "metadata": {},
   "outputs": [],
   "source": [
    "def f2(x, a, b):\n",
    "    return a + b*np.sin(x)"
   ]
  },
  {
   "cell_type": "markdown",
   "metadata": {},
   "source": [
    "Em seguida, podemos usar a função `scipy.optimize.curve_fit()` para encontrar os pesos $a_0$ e $a_1$:"
   ]
  },
  {
   "cell_type": "code",
   "execution_count": 15,
   "metadata": {},
   "outputs": [],
   "source": [
    "from scipy import optimize\n",
    "\n",
    "chute = [2, 2]\n",
    "\n",
    "params, params_covariance = optimize.curve_fit(f2, xdata, ydata, chute)"
   ]
  },
  {
   "cell_type": "markdown",
   "metadata": {},
   "source": [
    "Agora, comparamos os resultados no gráfico abaixo."
   ]
  },
  {
   "cell_type": "code",
   "execution_count": 18,
   "metadata": {},
   "outputs": [
    {
     "data": {
      "image/png": "[encoded data removed]",
      "text/plain": [
       "<Figure size 432x288 with 1 Axes>"
      ]
     },
     "metadata": {
      "needs_background": "light"
     },
     "output_type": "display_data"
    }
   ],
   "source": [
    "plt.plot(xdata, ydata, 'b-', label=\"f(x)\")\n",
    "plt.plot(xdata, f2(xdata, *params), 'r--', label=\"Resultado do Ajuste de Curva\")\n",
    "plt.xlabel('x')\n",
    "plt.ylabel('f(x)')\n",
    "plt.legend()\n",
    "plt.show()"
   ]
  },
  {
   "cell_type": "markdown",
   "metadata": {},
   "source": [
    "Para entender melhor essas e outras funções, acesse:\n",
    "https://docs.scipy.org/doc/scipy/reference/tutorial/optimize.html"
   ]
  },
  {
   "cell_type": "markdown",
   "metadata": {},
   "source": [
    "#### Exemplo #4: Integração Numérica\n",
    "\n",
    "A função de integração mais genérica disponibilizada pela biblioteca SciPy é `scipy.integrate.quad()`. \n",
    "\n",
    "No exemplo abaixo calculamos $\\int_{0}^{\\pi/2} \\sin(t) dt$"
   ]
  },
  {
   "cell_type": "code",
   "execution_count": 20,
   "metadata": {},
   "outputs": [
    {
     "name": "stdout",
     "output_type": "stream",
     "text": [
      "Resultado: 0.9999999999999999\n",
      "Erro: 1.1102230246251564e-14\n"
     ]
    }
   ],
   "source": [
    "from scipy.integrate import quad\n",
    "\n",
    "res, err = quad(np.sin, 0, np.pi/2)\n",
    "\n",
    "print('Resultado:', res)\n",
    "print('Erro:', err)"
   ]
  },
  {
   "cell_type": "markdown",
   "metadata": {},
   "source": [
    "Outras funções para integração estão disponíveis como `scipy.integrate.fixed_quad()`, `scipy.integrate.quadrature()`, `scipy.integrate.romberg()`, etc.\n",
    "\n",
    "Para entender melhor essas e outras funções, acesse:\n",
    "https://docs.scipy.org/doc/scipy/reference/integrate.html"
   ]
  },
  {
   "cell_type": "markdown",
   "metadata": {},
   "source": [
    "#### Exemplo #5: Processamento de sinais\n",
    "\n",
    "##### Plotando espectogramas.\n",
    "\n",
    "No exemplo abaixo, geramos um sinal senoidal com frequência igual a 3 kHz e o corrompemos com ruído branco."
   ]
  },
  {
   "cell_type": "code",
   "execution_count": 52,
   "metadata": {},
   "outputs": [
    {
     "data": {
      "image/png": "[encoded data removed]",
      "text/plain": [
       "<Figure size 432x288 with 1 Axes>"
      ]
     },
     "metadata": {
      "needs_background": "light"
     },
     "output_type": "display_data"
    }
   ],
   "source": [
    "from scipy import signal\n",
    "from scipy.fft import fftshift\n",
    "import matplotlib.pyplot as plt\n",
    "\n",
    "fs = 10e3\n",
    "fo = 3e3\n",
    "N = 10e4\n",
    "\n",
    "amp = 2 * np.sqrt(2)\n",
    "noise_power = 0.001 * fs / 2\n",
    "time = np.arange(N) / float(fs)\n",
    "carrier = amp * np.sin(2*np.pi*fo*time)\n",
    "noise = np.random.normal(scale=np.sqrt(noise_power), size=time.shape)\n",
    "\n",
    "y = carrier + noise\n",
    "\n",
    "plt.plot(time[0:100], y[0:100])\n",
    "plt.xlabel('x [s]')\n",
    "plt.ylabel('y [v]')\n",
    "\n",
    "plt.show()"
   ]
  },
  {
   "cell_type": "markdown",
   "metadata": {},
   "source": [
    "Na sequência, calculamos e plotamos o espectrograma."
   ]
  },
  {
   "cell_type": "code",
   "execution_count": 53,
   "metadata": {},
   "outputs": [
    {
     "data": {
      "image/png": "[encoded data removed]",
      "text/plain": [
       "<Figure size 432x288 with 1 Axes>"
      ]
     },
     "metadata": {
      "needs_background": "light"
     },
     "output_type": "display_data"
    }
   ],
   "source": [
    "f, t, Sxx = signal.spectrogram(y, fs)\n",
    "\n",
    "plt.pcolormesh(t, f, Sxx, shading='gouraud')\n",
    "plt.ylabel('Frequência [Hz]')\n",
    "plt.xlabel('Tempo [segundos]')\n",
    "plt.show()"
   ]
  },
  {
   "cell_type": "markdown",
   "metadata": {},
   "source": [
    "##### Projetando filtros\n",
    "\n",
    "No exemplo abaixo, projetamos um filtro FIR para remover parte do ruído presente num sinal.\n",
    "\n",
    "Inicialmente, geramos um sinal ruidoso com frequência igual a 100 [Hz]."
   ]
  },
  {
   "cell_type": "code",
   "execution_count": 92,
   "metadata": {},
   "outputs": [
    {
     "data": {
      "image/png": "[encoded data removed]",
      "text/plain": [
       "<Figure size 432x288 with 1 Axes>"
      ]
     },
     "metadata": {
      "needs_background": "light"
     },
     "output_type": "display_data"
    }
   ],
   "source": [
    "import numpy as np\n",
    "import matplotlib.pyplot as plt\n",
    "\n",
    "# Cria sinal ruidoso.\n",
    "fs = 5e3\n",
    "fo = 100\n",
    "N = 1e6\n",
    "\n",
    "time = np.arange(N) / float(fs)\n",
    "\n",
    "amp = 2 * np.sqrt(2)\n",
    "noise_power = 0.5\n",
    "carrier = amp * np.sin(2*np.pi*fo*time)\n",
    "noise = np.random.normal(scale=np.sqrt(noise_power), size=time.shape)\n",
    "\n",
    "y = carrier + noise\n",
    "\n",
    "plt.plot(time[0:200], y[0:200])\n",
    "plt.xlabel('Tempo [s]')\n",
    "plt.ylabel('Amplitude [v]')\n",
    "\n",
    "plt.show()"
   ]
  },
  {
   "cell_type": "markdown",
   "metadata": {},
   "source": [
    "Em seguida, projetamos um filtro passa-baixas com a função `scipy.signal.firwin()` e filtramos o sinal ruidoso.\n",
    "\n",
    "O filtro terá uma frequência de corte de 200 [Hz] e 128 coeficientes."
   ]
  },
  {
   "cell_type": "code",
   "execution_count": 99,
   "metadata": {},
   "outputs": [],
   "source": [
    "from scipy import signal\n",
    "\n",
    "# Taxa de Nyquist do sinal.\n",
    "nyq_rate = fs / 2.0\n",
    "\n",
    "# Frequência de corte do filtro.\n",
    "cutoff_hz = 200.0\n",
    "\n",
    "# Criamos um filtro FIR passa-baixas.\n",
    "NumCoeffs = 128\n",
    "taps = signal.firwin(NumCoeffs, cutoff_hz/nyq_rate)\n",
    "\n",
    "# Usamos lfilter para filtrar o sinal com o filtro FIR projetado.\n",
    "filtered_x = signal.lfilter(taps, 1.0, y)"
   ]
  },
  {
   "cell_type": "markdown",
   "metadata": {},
   "source": [
    "Em seguida, plotamos a resposta em frequência do filtro e o resultado da filtragem do sinal ruidoso."
   ]
  },
  {
   "cell_type": "code",
   "execution_count": 100,
   "metadata": {},
   "outputs": [
    {
     "data": {
      "image/png": "[encoded data removed]",
      "text/plain": [
       "<Figure size 432x288 with 1 Axes>"
      ]
     },
     "metadata": {
      "needs_background": "light"
     },
     "output_type": "display_data"
    },
    {
     "data": {
      "image/png": "[encoded data removed]",
      "text/plain": [
       "<Figure size 432x288 with 1 Axes>"
      ]
     },
     "metadata": {
      "needs_background": "light"
     },
     "output_type": "display_data"
    }
   ],
   "source": [
    "# Plota a resposta em frequência do filtro.\n",
    "w, h = signal.freqz(taps, worN=8000)\n",
    "plt.plot((w/np.pi)*nyq_rate, np.absolute(h), linewidth=2)\n",
    "plt.xlabel('Frequência [Hz]')\n",
    "plt.ylabel('Ganho')\n",
    "plt.title('Resposta em Frequência')\n",
    "plt.ylim(-0.05, 1.05)\n",
    "plt.xlim([0, 2500])\n",
    "plt.grid()\n",
    "plt.show()\n",
    "\n",
    "# Plota os sinais original e filtrado.\n",
    "# Plota o sinal original.\n",
    "plt.plot(time[0:200], y[0:200])\n",
    "# Atraso de fase do sinal filtrado.\n",
    "delay = 0.5 * (NumCoeffs-1) / fs\n",
    "# Plota o sinal filtrado, deslocado para compensar o atraso de fase.\n",
    "plt.plot( (time-delay)[0:300], filtered_x[0:300], 'r-')\n",
    "plt.xlim([0, 0.04])\n",
    "\n",
    "plt.xlabel('Tempo [s]')\n",
    "plt.ylabel('Amplitute [v]')\n",
    "plt.grid()\n",
    "plt.show()"
   ]
  },
  {
   "cell_type": "markdown",
   "metadata": {},
   "source": [
    "Para entender melhor essas e outras funções, acesse: https://docs.scipy.org/doc/scipy/reference/signal.html"
   ]
  },
  {
   "cell_type": "markdown",
   "metadata": {},
   "source": [
    "## Manipulação e análise exploratória de dados com Pandas\n"
   ]
  },
  {
   "cell_type": "code",
   "execution_count": null,
   "metadata": {},
   "outputs": [],
   "source": []
  },
  {
   "cell_type": "markdown",
   "metadata": {},
   "source": [
    "## Visualização de dados com Bokeh"
   ]
  },
  {
   "cell_type": "code",
   "execution_count": null,
   "metadata": {},
   "outputs": [],
   "source": []
  }
 ],
 "metadata": {
  "kernelspec": {
   "display_name": "Python 3",
   "language": "python",
   "name": "python3"
  },
  "language_info": {
   "codemirror_mode": {
    "name": "ipython",
    "version": 3
   },
   "file_extension": ".py",
   "mimetype": "text/x-python",
   "name": "python",
   "nbconvert_exporter": "python",
   "pygments_lexer": "ipython3",
   "version": "3.7.9"
  }
 },
 "nbformat": 4,
 "nbformat_minor": 4
}
