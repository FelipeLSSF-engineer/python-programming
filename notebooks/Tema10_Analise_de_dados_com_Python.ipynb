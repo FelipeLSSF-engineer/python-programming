{
 "cells": [
  {
   "cell_type": "markdown",
   "metadata": {},
   "source": [
    "# Análise e processamento de dados com Python \n",
    "\n",
    "## Introdução\n",
    "\n",
    "A análise de dados é a transformação de números (i.e., os dados) desestruturados/desorganizados em informação útil. \n",
    "\n",
    "Esses dados são utilizados para encontrar padrões, tendências, etc. que ajudam a extrair informações úteis e que podem ajudar a solucionar problemas, tomar decisões, etc.\n",
    "\n",
    "Analisar e processar dados é uma tarefa comum para engenheiros e cientistas. Normalmente, estes dados estão armazenados em arquivos texto, CSV, JSON, XML ou em bases de dados.\n",
    "\n",
    "Utilizando Python, a análise e processamento de dados, como estatísticas, tendências, cálculos, etc., podem ser facilmente realizados para sintetizar as informações.\n",
    "\n",
    "Para isso, o Python conta com técnicas e várias bibliotecas muito poderosas para o processamento de grandes quantidades de dados como:\n",
    "\n",
    "+ **Programação Funcional**: preparação e exploração de dados.\n",
    "+ **NumPy**: análise numérica e estatística.\n",
    "+ **SciPy**: computação científica.\n",
    "+ **Scikit-Learn**: aprendizado de máquina.\n",
    "+ **Pandas**: manipulação, análise exploratória e visualização de dados.\n",
    "+ **Matplotlib**: visualização de dados.\n",
    "+ **Bokeh**: visualização de dados.\n",
    "\n",
    "**IMPORTANTE**: As empresas tem percebido que analisar seus dados pode trazer grandes benefícios (redução de custos, aumento dos lucros, etc.) e sendo assim, o número de vagas para analistas e cientistas de dados só tem crescido.\n",
    "\n",
    "Nesse tópico iremos estudar algumas ferramentas e bibliotecas utilizadas na análise e processamento de dados utilizando Python."
   ]
  },
  {
   "cell_type": "markdown",
   "metadata": {},
   "source": [
    "## Programação funcional\n",
    "\n",
    "Como vimos na primeira aula, a linguagem Python suporta diversos paradigmas de programação. \n",
    "\n",
    "Dentre eles, um muito utilizado para o processamento de dados é o paradigma **Programação Funcional**.\n",
    "\n",
    "Programação funcional é um paradigma que trata a computação como uma avaliação de funções matemáticas. Tais funções podem ser aplicadas em sequências de dados, que geralmente são listas.\n",
    "\n",
    "As operações básicas do paradigma funcional são implementadas no Python pelas funções embutidas `lambda()`, `map()`, `filter()`, `reduce()` e `zip()`.\n",
    "\n",
    "Essas operações são utilizadas para transformar, preparar e explorar estruturas de dados."
   ]
  },
  {
   "cell_type": "markdown",
   "metadata": {},
   "source": [
    "### Funções lambda\n",
    "\n",
    "Em Python, `lambda` é uma função anônima composta apenas por expressões. As funções `lambda` podem ter apenas uma linha, e podem ser atribuídas a uma variável. Funções lambda são muito usadas em programação funcional.\n",
    "\n",
    "Sintaxe:\n",
    "\n",
    "```python\n",
    "lambda <lista de variáveis>: <expressão>\n",
    "```\n",
    "\n",
    "**IMPORTANTE**: Uma função lambda pode receber qualquer número de argumentos, mas só pode ter uma expressão.\n",
    "\n",
    "A sintaxe `lambda` permite que você crie definições de função de forma declarativa.\n",
    "\n",
    "Exemplo #1:"
   ]
  },
  {
   "cell_type": "code",
   "execution_count": 9,
   "metadata": {},
   "outputs": [
    {
     "name": "stdout",
     "output_type": "stream",
     "text": [
      "7\n"
     ]
    }
   ],
   "source": [
    "resultado = (lambda a, b: a + b)(3, 4)\n",
    "\n",
    "print(resultado)"
   ]
  },
  {
   "cell_type": "markdown",
   "metadata": {},
   "source": [
    "Exemplo #2:"
   ]
  },
  {
   "cell_type": "code",
   "execution_count": 10,
   "metadata": {},
   "outputs": [
    {
     "name": "stdout",
     "output_type": "stream",
     "text": [
      "1.7320508075688772\n",
      "7.0710678118654755\n"
     ]
    }
   ],
   "source": [
    "# Valor absoluto de um vetor 3D.\n",
    "amp = lambda x, y, z: (x ** 2 + y ** 2 + z ** 2) ** 0.5\n",
    "\n",
    "print(amp(1, 1, 1))\n",
    "print(amp(3, 4, 5))"
   ]
  },
  {
   "cell_type": "markdown",
   "metadata": {},
   "source": [
    "Exemplo #3:\n",
    "\n",
    "Usando uma função anônima para criar uma função que sempre multiplica o parâmetro de entrada por um número definido previamente:"
   ]
  },
  {
   "cell_type": "code",
   "execution_count": 12,
   "metadata": {},
   "outputs": [
    {
     "name": "stdout",
     "output_type": "stream",
     "text": [
      "22\n",
      "33\n"
     ]
    }
   ],
   "source": [
    "def myfunc(n):\n",
    "    return lambda a : a * n\n",
    "\n",
    "mydoubler = myfunc(2)\n",
    "mytripler = myfunc(3)\n",
    "\n",
    "print(mydoubler(11))\n",
    "print(mytripler(11))"
   ]
  },
  {
   "cell_type": "markdown",
   "metadata": {},
   "source": [
    "**IMPORTANTE**: Funções lambda consomem menos recursos computacionais que as funções convencionais, porém são mais limitados."
   ]
  },
  {
   "cell_type": "markdown",
   "metadata": {},
   "source": [
    "### Mapeamento\n",
    "\n",
    "O mapeamento consiste em aplicar uma função a todos os itens de uma sequência, gerando outra lista contendo os resultados e com o mesmo tamanho da lista inicial.\n",
    "\n",
    "<img src=\"../figures/map_function.png\" width=\"300\" height=\"300\">"
   ]
  },
  {
   "cell_type": "markdown",
   "metadata": {},
   "source": [
    "Em Python, o mapeamento é implementado pela função `map()`, a qual retorna um objeto iterável que pode ser convertido em uma lista com a função embutida `list()`.\n",
    "\n",
    "Exemplo #1:"
   ]
  },
  {
   "cell_type": "code",
   "execution_count": 26,
   "metadata": {},
   "outputs": [],
   "source": [
    "# Importa apenas o log na base 10.\n",
    "from math import log10\n",
    "\n",
    "nums = [1, 2, 3, 4, 5, 6, 7, 8, 9, 10, 11, 12]\n",
    "\n",
    "iterable = map(log10, nums)\n",
    "\n",
    "# Aplicando o logaritmo na base 10.\n",
    "resultado = list(iterable)\n",
    "\n",
    "print(resultado)"
   ]
  },
  {
   "cell_type": "markdown",
   "metadata": {},
   "source": [
    "Exemplo #2: Usando laço de repetição."
   ]
  },
  {
   "cell_type": "code",
   "execution_count": 29,
   "metadata": {},
   "outputs": [
    {
     "name": "stdout",
     "output_type": "stream",
     "text": [
      "0.0\n",
      "0.3010299956639812\n",
      "0.47712125471966244\n",
      "0.6020599913279624\n",
      "0.6989700043360189\n",
      "0.7781512503836436\n",
      "0.8450980400142568\n",
      "0.9030899869919435\n",
      "0.9542425094393249\n",
      "1.0\n",
      "1.0413926851582251\n",
      "1.0791812460476249\n"
     ]
    }
   ],
   "source": [
    "nums = [1, 2, 3, 4, 5, 6, 7, 8, 9, 10, 11, 12]\n",
    "\n",
    "iterable = map(log10, nums)\n",
    "\n",
    "for elemento in iterable:\n",
    "    print(elemento)"
   ]
  },
  {
   "cell_type": "markdown",
   "metadata": {},
   "source": [
    "Exemplo #3: \n",
    "\n",
    "Usando uma função anônima."
   ]
  },
  {
   "cell_type": "code",
   "execution_count": 30,
   "metadata": {},
   "outputs": [
    {
     "name": "stdout",
     "output_type": "stream",
     "text": [
      "[0.3333333333333333, 0.6666666666666666, 1.0, 1.3333333333333333, 1.6666666666666667, 2.0, 2.3333333333333335, 2.6666666666666665, 3.0, 3.3333333333333335, 3.6666666666666665, 4.0]\n"
     ]
    }
   ],
   "source": [
    "nums = [1, 2, 3, 4, 5, 6, 7, 8, 9, 10, 11, 12]\n",
    "\n",
    "# Dividindo por 3.\n",
    "resultado = list(map(lambda x: x / 3, nums))\n",
    "\n",
    "print(resultado)"
   ]
  },
  {
   "cell_type": "markdown",
   "metadata": {},
   "source": [
    "### Filtragem\n",
    "\n",
    "Na filtragem, uma função é aplicada em todos os elemento de uma sequência, se a função retornar um valor que seja avaliado como verdadeiro, o elemento original fará parte da sequência resultante.\n",
    "\n",
    "<img src=\"../figures/filter_function.png\" width=\"300\" height=\"300\">\n",
    "\n",
    "Em Python, a filtragem é implementada pela função `filter()` e retorna um objetivo iterável que pode ser convertido em uma lista com a função embutida `list()`..\n",
    "\n",
    "A função `filter()` aceita também funções lambda, além de funções convencionais.\n",
    "\n",
    "Exemplo #1: Selecionando apenas os ímpares da lista."
   ]
  },
  {
   "cell_type": "code",
   "execution_count": 60,
   "metadata": {},
   "outputs": [
    {
     "name": "stdout",
     "output_type": "stream",
     "text": [
      "[1, 3, 5, 7, 9, 11]\n"
     ]
    }
   ],
   "source": [
    "# Selecionando apenas os ímpares da lista.\n",
    "nums = [1, 2, 3, 4, 5, 6, 7, 8, 9, 10, 11, 12]\n",
    "\n",
    "iterable = filter(lambda x: x % 2, nums)\n",
    "\n",
    "resultado = list(iterable)\n",
    "\n",
    "print(resultado)"
   ]
  },
  {
   "cell_type": "markdown",
   "metadata": {},
   "source": [
    "Exemplo #2: Selecionando apenas vogais."
   ]
  },
  {
   "cell_type": "code",
   "execution_count": 61,
   "metadata": {},
   "outputs": [
    {
     "name": "stdout",
     "output_type": "stream",
     "text": [
      "As vogais filtradas são:\n",
      "a\n",
      "e\n",
      "i\n",
      "o\n",
      "u\n"
     ]
    }
   ],
   "source": [
    "# Alfabeto.\n",
    "alfabeto = ['a', 'b', 'c', 'd', 'e', 'f', 'g', 'h', 'i', 'j', 'l', 'm', 'n', 'o', 'p', 'q', 'r', 's', 't', 'u', 'v', 'x', 'z']\n",
    "\n",
    "# função que filtra as vogais.\n",
    "def filtraVogais(letra):\n",
    "    vogais = ['a', 'e', 'i', 'o', 'u']\n",
    "\n",
    "    if(letra in vogais):\n",
    "        return True\n",
    "    else:\n",
    "        return False\n",
    "\n",
    "vogaisFiltradas = filter(filtraVogais, alfabeto)\n",
    "\n",
    "print('As vogais filtradas são:')\n",
    "for vogal in vogaisFiltradas:\n",
    "    print(vogal)"
   ]
  },
  {
   "cell_type": "markdown",
   "metadata": {},
   "source": [
    "### Redução\n",
    "\n",
    "Redução significa aplicar uma função que recebe dois parâmetros, nos dois primeiros elementos de uma sequência, aplicar novamente a função usando como parâmetros o resultado do primeiro par e o terceiro elemento da sequência, seguindo assim até o último elemento da sequência. O resultado final da redução é apenas um elemento.\n",
    "\n",
    "<img src=\"../figures/reduce_function.png\" width=\"300\" height=\"300\">\n",
    "\n",
    "Em Python 3.7, a redução não faz parte das funções embutidas e é implementada pela função `reduce()` do módulo `functools`. Ela retorna um escalar, ou seja, um único valor que representa o resultado da redução. \n",
    "\n",
    "Exemplo #1: Somando todos os valores de uma lista."
   ]
  },
  {
   "cell_type": "code",
   "execution_count": 76,
   "metadata": {},
   "outputs": [
    {
     "name": "stdout",
     "output_type": "stream",
     "text": [
      "Resultado da soma com reduce: 6\n"
     ]
    }
   ],
   "source": [
    "from functools import reduce\n",
    "\n",
    "nums = [0, 1, 2, 3]\n",
    "\n",
    "resultado = reduce(lambda x, y: x + y, nums)\n",
    "\n",
    "# Soma com reduce.\n",
    "print('Resultado da soma com reduce:', resultado)"
   ]
  },
  {
   "cell_type": "markdown",
   "metadata": {},
   "source": [
    "Exemplo #2: Contatenando todos os valores de uma lista."
   ]
  },
  {
   "cell_type": "code",
   "execution_count": 77,
   "metadata": {},
   "outputs": [
    {
     "name": "stdout",
     "output_type": "stream",
     "text": [
      "Resultado da concatenação com reduce: abcdef\n"
     ]
    }
   ],
   "source": [
    "from functools import reduce\n",
    "\n",
    "nums = ['ab', 'cde', 'f']\n",
    "\n",
    "resultado = reduce(lambda x, y: x + y, nums)\n",
    "\n",
    "# Concatenando com reduce.\n",
    "print('Resultado da concatenação com reduce:', resultado)"
   ]
  },
  {
   "cell_type": "markdown",
   "metadata": {},
   "source": [
    "Exemplo #3: Calculando o fatorial com reduce."
   ]
  },
  {
   "cell_type": "code",
   "execution_count": 78,
   "metadata": {},
   "outputs": [
    {
     "name": "stdout",
     "output_type": "stream",
     "text": [
      "Fatorial: 120\n"
     ]
    }
   ],
   "source": [
    "from functools import reduce\n",
    "\n",
    "# Calcula o fatorial de n.\n",
    "def fatorial(n):\n",
    "    return reduce(lambda x, y: x * y, range(1, n))\n",
    "\n",
    "print('Fatorial:', fatorial(6))"
   ]
  },
  {
   "cell_type": "markdown",
   "metadata": {},
   "source": [
    "### Transposição\n",
    "\n",
    "\n",
    "A transposição constroi novas sequência a partir de uma série de sequências originais, onde a primeira nova sequência contém o primeiro elemento de cada sequência original, a segunda nova sequência contém o segundo elemento de cada sequência original, até que alguma das sequências originais acabe.\n",
    "\n",
    "<img src=\"../figures/zip_function.png\" width=\"300\" height=\"300\">\n",
    "\n",
    "A transposição é implementada em Python pela função embutida `zip()`. A função `zip()` recebe objetos iteráveis (e.g., listas, tuplas, dicionários, conjuntos, etc.), os agrega em tuplas e as retorna através de um objeto iterável. A função `zip()` sempre retorna um objeto iterável que pode ser convertido em uma lista com a função embutida `list()`.\n",
    "\n",
    "Exemplo #1:"
   ]
  },
  {
   "cell_type": "code",
   "execution_count": 74,
   "metadata": {},
   "outputs": [
    {
     "name": "stdout",
     "output_type": "stream",
     "text": [
      "[('a', 1), ('b', 2), ('c', 3)]\n"
     ]
    }
   ],
   "source": [
    "iteravel = zip(['a', 'b', 'c'], (1, 2, 3))\n",
    "\n",
    "resultado = list(iteravel)\n",
    "\n",
    "print(resultado)"
   ]
  },
  {
   "cell_type": "markdown",
   "metadata": {},
   "source": [
    "Em teoria, a função `zip()` deve ser usada com sequências de mesmo comprimento. Se as sequências tiverem comprimentos diferentes, a transposição resultante terá o mesmo comprimento que a sequência mais curta."
   ]
  },
  {
   "cell_type": "code",
   "execution_count": 75,
   "metadata": {},
   "outputs": [
    {
     "name": "stdout",
     "output_type": "stream",
     "text": [
      "[('a', 1, 66), ('b', 2, 99)]\n"
     ]
    }
   ],
   "source": [
    "iteravel = zip(['a', 'b'], (1, 2, 3, 4, 5), {66:'A', 99:'2'})\n",
    "\n",
    "resultado = list(iteravel)\n",
    "\n",
    "print(list(resultado))"
   ]
  },
  {
   "cell_type": "markdown",
   "metadata": {},
   "source": [
    "## List Comprehensions\n",
    "\n",
    "Em computação, **list comprehension** é uma construção que equivale a uma notação matemática do tipo:\n",
    "\n",
    "$$S = x^2 \\forall \\in \\mathbb{N}, x \\ge 20$$\n",
    "\n",
    "Ou seja, $S$ é o conjunto formado por todos os valores de $x$ ao quadrado para todo $x$ no conjunto dos números naturais, apenas se $x$ for maior ou igual a 20.\n",
    "\n",
    "Em suma, **list comprehension** é uma ferramenta muito poderosa, que cria uma nova lista com base em outra lista, através de uma única linha de código.\n",
    "\n",
    "Sintaxe:\n",
    "\n",
    "```python\n",
    "lista = [ <expressão> for <referência> in <sequência> if <condição> ]\n",
    "```\n",
    "\n",
    "Exemplo #1: Exemplo onde apenas os números pares são elevados ao quadrado."
   ]
  },
  {
   "cell_type": "code",
   "execution_count": 81,
   "metadata": {},
   "outputs": [
    {
     "name": "stdout",
     "output_type": "stream",
     "text": [
      "[1, 9, 25, 49, 81, 121]\n"
     ]
    }
   ],
   "source": [
    "nums = [1, 2, 3, 4, 5, 6, 7, 8, 9, 10, 11, 12]\n",
    "\n",
    "# Eleve os ímpares ao quadrado\n",
    "list_comprehension = [ x**2 for x in nums if x % 2 ]\n",
    "\n",
    "print(list_comprehension)"
   ]
  },
  {
   "cell_type": "markdown",
   "metadata": {},
   "source": [
    "**IMPORTANTE**: A utilização de **list comprehension** é mais eficiente do que usar as funções `map()` e `filter()` tanto em termos de uso de processador quanto em consumo de memória."
   ]
  },
  {
   "cell_type": "markdown",
   "metadata": {},
   "source": [
    "### Tarefas\n",
    "\n",
    "1. <span style=\"color:blue\">**QUIZ - Programação funcional e list comprehension**</span>: respondam ao questionário sobre programação funcional e list comprehension no MS teams, por favor. \n",
    "2. <span style=\"color:blue\">**Laboratório #10 - Programação funcional e list comprehension**</span>: cliquem em um dos links abaixo para accessar os exercícios do laboratório #10.\n",
    "\n",
    "[![Binder](https://mybinder.org/badge_logo.svg)](https://mybinder.org/v2/gh/zz4fap/python-programming/master?filepath=labs%2FLaboratorio10_Programacao_Funcional_e_List_Comprehension.ipynb)\n",
    "\n",
    "[![Google Colab](https://badgen.net/badge/Launch/on%20Google%20Colab/blue?icon=terminal)](https://colab.research.google.com/github/zz4fap/python-programming/blob/master/labs/Laboratorio10_Programacao_Funcional_e_List_Comprehension.ipynb)"
   ]
  },
  {
   "cell_type": "markdown",
   "metadata": {},
   "source": [
    "## NumPy: Uma biblioteca para computação científica\n",
    "\n",
    "Numpy, ou numerical Python, é a principal biblioteca para computação científica em Python. Ela é utilizada para cálculos matemáticos avançados com alto nível de desempenho.\n",
    "\n",
    "Numpy fornece uma interface com códigos compilados (e otimizados) em C\n",
    "e Fortran, permitindo que as operações relativas a arrays sejam computadas\n",
    "de maneira mais rápida e por isso, aumentando o desempenho.\n",
    "\n",
    "O Numpy adiciona suporte para matrizes e arrays (i.e., vetores) multidimensionais grandes, junto com uma grande coleção de funções matemáticas de alto nível para operar nessas matrizes e arrays.\n",
    "\n",
    "Se você já está familiarizado com o MATLAB, então você vai encontrar várias similaridades."
   ]
  },
  {
   "cell_type": "markdown",
   "metadata": {},
   "source": [
    "### Vetores e Matrizes\n",
    "\n",
    "Vetores e matrizes (ou apenas arrays) NumPy são conjuntos de valores, todos do mesmo tipo e que podem ser indexados.\n",
    "\n",
    "Podemos inicializar vetores e matrizes NumPy a partir de listas aninhadas e acessar seus elementos usando colchetes.\n",
    "\n",
    "#### Exemplo: Criando um vetor"
   ]
  },
  {
   "cell_type": "code",
   "execution_count": 10,
   "metadata": {},
   "outputs": [
    {
     "name": "stdout",
     "output_type": "stream",
     "text": [
      "<class 'numpy.ndarray'>\n",
      "(3,)\n",
      "int32\n",
      "1 2 3\n",
      "[5 2 3]\n"
     ]
    }
   ],
   "source": [
    "import numpy as np\n",
    "\n",
    "a = np.array([1, 2, 3])   # Criando um vetor.\n",
    "print(type(a))            # Imprime o tipo do vetor.\n",
    "print(a.shape)            # Imprime a dimensão do vetor.\n",
    "print(a.dtype)            # Imprime o tipo da ndarray.\n",
    "print(a[0], a[1], a[2])   # Acessando valores específicos.\n",
    "a[0] = 5                  # Altera o valor de um elemento do vetor.\n",
    "print(a)                  # Imprime o conteúdo do vetor."
   ]
  },
  {
   "cell_type": "markdown",
   "metadata": {},
   "source": [
    "#### Classe numpy.ndarray\n",
    "\n",
    "Um objeto do tipo `ndarray` é um contêiner multidimensional genérico para dados **homogêneos**. \n",
    "\n",
    "Ele fornece operações aritméticas vetorizadas e recursos de transmissão sofisticados. \n",
    "\n",
    "Cada `ndarray` tem 2 atributos: **shape** (forma) e **dtype** (tipo). O atributo **shape** é uma tupla que fornece a dimensão do vetor ou matriz e **dtype** fornece o tipo de dados do vetor ou matriz."
   ]
  },
  {
   "cell_type": "markdown",
   "metadata": {},
   "source": [
    "#### Exemplo: Criando uma matriz"
   ]
  },
  {
   "cell_type": "code",
   "execution_count": 9,
   "metadata": {},
   "outputs": [
    {
     "name": "stdout",
     "output_type": "stream",
     "text": [
      "(2, 3)\n",
      "int32\n",
      "1 2 4\n",
      "[[5 2 3]\n",
      " [4 5 6]]\n"
     ]
    }
   ],
   "source": [
    "import numpy as np\n",
    "\n",
    "b = np.array([[1,2,3],[4,5,6]])    # Cria uma matriz 2x2.\n",
    "print(b.shape)                     # Imprime as dimensões da matriz.\n",
    "print(b.dtype)                     # Imprime o tipo da ndarray.\n",
    "print(b[0, 0], b[0, 1], b[1, 0])   # Acessando valores específicos.\n",
    "b[0, 0] = 5                        # Altera o valor de um elemento da matriz.\n",
    "print(b)                           # Imprime o conteúdo da matriz."
   ]
  },
  {
   "cell_type": "markdown",
   "metadata": {},
   "source": [
    "O NumPy também oferece muitas outras funções para criar vetores e matrizes:"
   ]
  },
  {
   "cell_type": "code",
   "execution_count": 153,
   "metadata": {},
   "outputs": [
    {
     "name": "stdout",
     "output_type": "stream",
     "text": [
      "Cria uma array com todos valores iguais a zero.\n",
      "[[0. 0.]\n",
      " [0. 0.]]\n",
      "\n",
      "Cria uma array com todos valores iguais a um.\n",
      "[[1. 1.]]\n",
      "\n",
      "Cria uma array com valores constantes.\n",
      "[[7 7]\n",
      " [7 7]]\n",
      "\n",
      "Cria uma matriz identidade 2x2.\n",
      "[[1. 0.]\n",
      " [0. 1.]]\n",
      "\n",
      "Cria uma matriz com valores aleatórios uniformemente distribuidos.\n",
      "[[0.90576778 0.13973417]\n",
      " [0.1854783  0.0241876 ]]\n",
      "\n",
      "Cria uma matriz com valores aleatórios uniformemente distribuidos.\n",
      "[[0.45001369 0.91240073 0.73863148]\n",
      " [0.18576002 0.57225945 0.26488919]]\n",
      "\n",
      "Cria uma matriz com valores inteiros aleatórios uniformemente distribuidos.\n",
      "[[1 2]\n",
      " [3 1]]\n",
      "\n",
      "Cria um vetor com valores aleatórios normalmente distribuidos.\n",
      "[[ 0.26361493 -0.13794036  1.02236758 -1.07592653]]\n",
      "\n",
      "Cria um vetor com um intervalo de valores.\n",
      "[0 1 2 3 4 5 6 7 8 9]\n",
      "\n",
      "Cria um vetor com um intervalo de valores com passos de 2 em 2.\n",
      "[0 2 4 6 8]\n",
      "\n",
      "Gera um número determinado de pontos uniformemente espaçados entre dois valores\n",
      "[-3.  0.  3.]\n"
     ]
    }
   ],
   "source": [
    "print('Cria uma array com todos valores iguais a zero.')\n",
    "a = np.zeros((2,2))           # Cria uma array com todos valores iguais a zero.\n",
    "print(a)\n",
    "\n",
    "print('\\nCria uma array com todos valores iguais a um.')\n",
    "b = np.ones((1,2))            # Cria uma array com todos valores iguais a um.\n",
    "print(b)\n",
    "\n",
    "print('\\nCria uma array com valores constantes.')\n",
    "c = np.full((2,2), 7)         # Cria uma array com valores constantes.\n",
    "print(c)\n",
    "\n",
    "print('\\nCria uma matriz identidade 2x2.')\n",
    "d = np.eye(2)                 # Cria uma matriz identidade 2x2.\n",
    "print(d)\n",
    "\n",
    "print('\\nCria uma matriz com valores aleatórios uniformemente distribuidos.')\n",
    "e = np.random.random((2,2))   # Cria uma matriz com valores aleatórios.\n",
    "print(e)\n",
    "\n",
    "print('\\nCria uma matriz com valores aleatórios uniformemente distribuidos.')\n",
    "e = np.random.rand(2,3)     # Cria uma matriz com valores aleatórios.\n",
    "print(e)\n",
    "\n",
    "print('\\nCria uma matriz com valores inteiros aleatórios uniformemente distribuidos.')\n",
    "e = np.random.randint(0,4,(2,2))     # Cria uma matriz com valores inteiros aleatórios.\n",
    "print(e)\n",
    "\n",
    "print('\\nCria um vetor com valores aleatórios normalmente distribuidos.')\n",
    "e = np.random.randn(1,4)     # Cria uma matriz com valores aleatórios.\n",
    "print(e)\n",
    "\n",
    "print('\\nCria um vetor com um intervalo de valores.')\n",
    "f = np.arange(0,10)\n",
    "print(f)\n",
    "\n",
    "print('\\nCria um vetor com um intervalo de valores com passos de 2 em 2.')\n",
    "g = np.arange(0,10,2)\n",
    "print(g)\n",
    "\n",
    "print('\\nGera um número determinado de pontos uniformemente espaçados entre dois valores')\n",
    "h = np.linspace(-3,3,3)\n",
    "print(h)"
   ]
  },
  {
   "cell_type": "markdown",
   "metadata": {},
   "source": [
    "Outros métodos para criação de arrays podem ser encontrados na documentação:\n",
    "https://numpy.org/doc/stable/user/basics.creation.html#arrays-creation"
   ]
  },
  {
   "cell_type": "markdown",
   "metadata": {},
   "source": [
    "### Indexação de arrays\n",
    "\n",
    "O NumPy oferece várias maneiras de indexar vetores e matrizes.\n",
    "\n",
    "**Fatiamento**: similarmente ao que é feito com listas, arrays NumPy podem ser fatiadas. Como as arrays podem ser multidimensionais, você deve especificar uma **fatia** para cada dimensão dela:"
   ]
  },
  {
   "cell_type": "code",
   "execution_count": 55,
   "metadata": {},
   "outputs": [
    {
     "name": "stdout",
     "output_type": "stream",
     "text": [
      "a:  [[ 1  2  3  4]\n",
      " [ 5  6  7  8]\n",
      " [ 9 10 11 12]]\n",
      "a.shape: (3, 4)\n",
      "\n",
      "b: 2\n",
      "b.shape: ()\n",
      "\n",
      "c: [[2 3]\n",
      " [6 7]]\n",
      "c.shape: (2, 2)\n",
      "\n",
      "c: [5 6 7 8]\n",
      "d.shape: (4,)\n",
      "\n",
      "a[0, 1]: 2\n",
      "a[0, 1]: 77\n",
      "\n",
      "c: [[77  3]\n",
      " [ 6  7]]\n",
      "c.shape: (2, 2)\n",
      "\n",
      "a[0, 1]: 77\n",
      "a[0, 1]: 77\n"
     ]
    }
   ],
   "source": [
    "# Cria uma matriz com dimensão 3x4.\n",
    "a = np.array([[1,2,3,4], [5,6,7,8], [9,10,11,12]])\n",
    "print('a: ',a)\n",
    "print('a.shape:', a.shape)\n",
    "\n",
    "# Acessa o elemento da primeira linha e segunda coluna.\n",
    "b = a[0, 1]\n",
    "print('\\nb:', b)\n",
    "print('b.shape:', b.shape)\n",
    "\n",
    "# Fatiando para criar uma submatriz que consiste \n",
    "# nas 2 primeiras linhas (i.e., 0 e 1) e colunas 1 e 2 da matrix a.\n",
    "# c será uma matriz de dimensão (2, 2):\n",
    "c = a[:2, 1:3]\n",
    "print('\\nc:',c)\n",
    "print('c.shape:',c.shape)\n",
    "\n",
    "# Cria vetor com a segunda linha de a.\n",
    "d = a[1, :]\n",
    "print('\\nc:',d)\n",
    "print('d.shape:',d.shape)\n",
    "\n",
    "# Uma fatia B de uma matriz A acessa os mesmos dados de A, \n",
    "# portanto, modificar B irá modificar a matriz original.\n",
    "print('\\na[0, 1]:', a[0, 1])   # Imprime o valor 2.\n",
    "c[0, 0] = 77     # c[0, 0] acessa o mesmo elemento que a[0, 1]\n",
    "print('a[0, 1]:', a[0, 1])   # Imprime o valor 77.\n",
    "\n",
    "# Para criar uma subarray B independente de uma array A, usemos a função copy().\n",
    "c = a.copy()[:2, 1:3]\n",
    "print('\\nc:',c)\n",
    "print('c.shape:',c.shape)\n",
    "\n",
    "print('\\na[0, 1]:', a[0, 1])   # Imprime o valor 77.\n",
    "c[0, 0] = 2     # c[0, 0] acessa o mesmo elemento que a[0, 1]\n",
    "print('a[0, 1]:', a[0, 1])   # Imprime o valor 77."
   ]
  },
  {
   "cell_type": "markdown",
   "metadata": {},
   "source": [
    "### Indexando com filtragem condicional\n",
    "\n",
    "Nós também podemos utilizar **filtragem condicional** para indexar arrays NumPy.\n",
    "\n",
    "A **filtragem condicional** permite selecionar elementos arbitrários de uma array. \n",
    "\n",
    "Frequentemente, esse tipo de indexação é usado para selecionar os elementos de uma array que satisfazem alguma condição.\n",
    "\n",
    "#### Exemplo #1:"
   ]
  },
  {
   "cell_type": "code",
   "execution_count": 103,
   "metadata": {},
   "outputs": [
    {
     "name": "stdout",
     "output_type": "stream",
     "text": [
      "Vetor a: [0 1 2 3 4 5 6 7 8 9]\n",
      "indices: [False False False False False  True  True  True  True  True]\n",
      "a[indices]: [5 6 7 8 9]\n",
      "a[a > 4]: [5 6 7 8 9]\n"
     ]
    }
   ],
   "source": [
    "a = np.arange(0,10)\n",
    "\n",
    "print('Vetor a:',a)\n",
    "\n",
    "# Encontra elementos que são maiores do que 4.\n",
    "# A instrução abaixo retorna uma array numpy de valores Booleanos \n",
    "# com o mesmo formato do vetor a, onde cada índice informa se \n",
    "# esse elemento de a é maior do que 4.\n",
    "indices = a > 4\n",
    "print('indices:',indices)\n",
    "\n",
    "# Usamos o vator booleano para construir uma array\n",
    "# consistindo dos elementos que correspondem aos \n",
    "# valores verdadeiros do vetor indices.\n",
    "print('a[indices]:', a[indices])\n",
    "\n",
    "# Podemos fazer tudo isso em uma única e concisa declaração.\n",
    "print('a[a > 4]:', a[a > 4])"
   ]
  },
  {
   "cell_type": "markdown",
   "metadata": {},
   "source": [
    "#### Exemplo #2:"
   ]
  },
  {
   "cell_type": "code",
   "execution_count": 108,
   "metadata": {},
   "outputs": [
    {
     "name": "stdout",
     "output_type": "stream",
     "text": [
      "a: [1 2 1 3 2]\n",
      "indices: [False  True False False  True]\n",
      "a[indices]: [2 2]\n"
     ]
    }
   ],
   "source": [
    "a = np.array([1, 2, 1, 3, 2])\n",
    "\n",
    "indices = a == 2\n",
    "\n",
    "b = a[indices]\n",
    "\n",
    "print('a:',a)\n",
    "print('indices:',indices)\n",
    "print('a[indices]:',b)"
   ]
  },
  {
   "cell_type": "markdown",
   "metadata": {},
   "source": [
    "### Tipos dos dados\n",
    "\n",
    "Cada array NumPy é um conjunto de elementos do mesmo tipo. O NumPy fornece um grande conjunto de tipos de dados que podemos usar para construir arrays. \n",
    "\n",
    "O Numpy infere o tipo de dados quando criamos uma array, mas as funções que constroem arrays geralmente também incluem um parâmetro opcional para especificar explicitamente o tipo dos dados.\n",
    "\n",
    "#### Exemplos"
   ]
  },
  {
   "cell_type": "code",
   "execution_count": 44,
   "metadata": {},
   "outputs": [
    {
     "name": "stdout",
     "output_type": "stream",
     "text": [
      "int32\n",
      "float64\n",
      "int64\n"
     ]
    }
   ],
   "source": [
    "x = np.array([1, 2])   # Deixamos o NumPy inferir o tipo dos dados.\n",
    "print(x.dtype)         # Imprime \"int64\"\n",
    "\n",
    "x = np.array([1.0, 2.0])   # O NumPy infere o tipo dos dados.\n",
    "print(x.dtype)             # Imprime \"float64\"\n",
    "\n",
    "x = np.array([1, 2], dtype=np.int64)   # Forçando um tipo específico.\n",
    "print(x.dtype)                         # Imprime \"int64\""
   ]
  },
  {
   "cell_type": "markdown",
   "metadata": {},
   "source": [
    "### Redimensionando Arrays\n",
    "\n",
    "Nós podemos mudar as dimensões das arrays criadas com o método `reshape`."
   ]
  },
  {
   "cell_type": "code",
   "execution_count": 52,
   "metadata": {},
   "outputs": [
    {
     "name": "stdout",
     "output_type": "stream",
     "text": [
      "a.shape: (4,)\n",
      "b.shape: (2, 2)\n",
      "c.shape: (4, 1)\n",
      "c.shape: (1, 4)\n"
     ]
    }
   ],
   "source": [
    "a = np.array([1,2,3,4])\n",
    "print('a.shape:',a.shape)\n",
    "\n",
    "b = a.reshape(2,2)\n",
    "print('b.shape:',b.shape)\n",
    "\n",
    "c = a.reshape(4,1)\n",
    "print('c.shape:',c.shape)\n",
    "\n",
    "d = c.reshape(1,4)\n",
    "print('c.shape:',d.shape)"
   ]
  },
  {
   "cell_type": "markdown",
   "metadata": {},
   "source": [
    "### Cálculos com arrays\n",
    "\n",
    "O NumPy é conhecido por sua velocidade ao realizar cálculos complexos em grandes arrays multidimensionais. \n",
    "\n",
    "Funções matemáticas básicas operam elemento a elemento das arrays e estão disponíveis através de sobrecarga de operadores e como funções no NumPy.\n",
    "\n",
    "Em seguida, veremos como realizar esses cálculos com o NumPy."
   ]
  },
  {
   "cell_type": "code",
   "execution_count": 68,
   "metadata": {},
   "outputs": [
    {
     "name": "stdout",
     "output_type": "stream",
     "text": [
      "----> Exemplo #1: Adição de matrizes.\n",
      "y = a + b: [[ 6  8]\n",
      " [10 12]]\n",
      "y = np.add(a,b): [[ 6  8]\n",
      " [10 12]]\n",
      "\n",
      "----> Exemplo #2: Subtração de matrizes.\n",
      "y = a - b: [[-4 -4]\n",
      " [-4 -4]]\n",
      "y = np.subtract(a,b): [[-4 -4]\n",
      " [-4 -4]]\n",
      "\n",
      "----> Exemplo #3: Multiplicação de matrizes.\n",
      "y = a * b: [[ 5 12]\n",
      " [21 32]]\n",
      "y = np.multiply(a,b): [[ 5 12]\n",
      " [21 32]]\n",
      "\n",
      "----> Exemplo #4: Divisão de matrizes.\n",
      "y = a / b: [[0.2        0.33333333]\n",
      " [0.42857143 0.5       ]]\n",
      "y = np.divide(a,b): [[0.2        0.33333333]\n",
      " [0.42857143 0.5       ]]\n"
     ]
    }
   ],
   "source": [
    "# Criando 2 matrizes 2x2.\n",
    "a = np.array([[1,2],[3,4]])\n",
    "b = np.array([[5,6],[7,8]])\n",
    "\n",
    "# -------- Adição --------\n",
    "y = a + b # sobrecarga do operador +\n",
    "print('----> Exemplo #1: Adição de matrizes.')\n",
    "print('y = a + b:',y)\n",
    "\n",
    "y = np.add(a,b) # função add()\n",
    "print('y = np.add(a,b):',y)\n",
    "\n",
    "# -------- Subtração --------\n",
    "y = a - b # sobrecarga do operador -\n",
    "print('\\n----> Exemplo #2: Subtração de matrizes.')\n",
    "print('y = a - b:',y)\n",
    "\n",
    "y = np.subtract(a,b) # função subtract()\n",
    "print('y = np.subtract(a,b):',y)\n",
    "\n",
    "# -------- Multiplicação --------\n",
    "y = a * b # sobrecarga do operador *\n",
    "print('\\n----> Exemplo #3: Multiplicação de matrizes.')\n",
    "print('y = a * b:',y)\n",
    "\n",
    "y = np.multiply(a,b) # função multiply()\n",
    "print('y = np.multiply(a,b):',y)\n",
    "\n",
    "# -------- Divisão --------\n",
    "y = a / b # sobrecarga do operador /\n",
    "print('\\n----> Exemplo #4: Divisão de matrizes.')\n",
    "print('y = a / b:',y)\n",
    "\n",
    "y = np.divide(a,b) # função divide()\n",
    "print('y = np.divide(a,b):',y)"
   ]
  },
  {
   "cell_type": "markdown",
   "metadata": {},
   "source": [
    "Existem algumas funções embutidas disponíveis no NumPy para calcular valores como média, desvio padrão, variância e outros.\n",
    "\n",
    "|    Operação   |   Função  |\n",
    "|:-------------:|:---------:|\n",
    "|      Soma     |  np.sum() |\n",
    "| Raiz quadrada | np.sqrt() |\n",
    "|     Média     | np.mean() |\n",
    "|   Variância   |  np.var() |\n",
    "| Desvio Padrão |  np.std() |"
   ]
  },
  {
   "cell_type": "code",
   "execution_count": 79,
   "metadata": {},
   "outputs": [
    {
     "name": "stdout",
     "output_type": "stream",
     "text": [
      "np.sum(a): 6\n",
      "np.sum(b): 10\n",
      "np.sqrt(a): [1.         1.41421356 1.73205081]\n",
      "np.mean(a): 2.0\n",
      "np.var(a): 0.6666666666666666\n",
      "np.std(a): 0.816496580927726\n"
     ]
    }
   ],
   "source": [
    "a = np.array([1, 2, 3])\n",
    "b = np.array([[1,2], [3,4]])\n",
    "\n",
    "x = np.sum(a)\n",
    "print('np.sum(a):', x)\n",
    "\n",
    "y = np.sum(b)\n",
    "print('np.sum(b):', y)\n",
    "\n",
    "x = np.sqrt(a)\n",
    "print('np.sqrt(a):',x)\n",
    "\n",
    "x = np.mean(a)\n",
    "print('np.mean(a):',x)\n",
    "\n",
    "x = np.var(a)\n",
    "print('np.var(a):',x)\n",
    "\n",
    "x = np.std(a)\n",
    "print('np.std(a):',x)"
   ]
  },
  {
   "cell_type": "markdown",
   "metadata": {},
   "source": [
    "Observe que, ao contrário do MATLAB, o operador `*` é uma multiplicação elemento-a-elemento, não uma multiplicação de matrizes. \n",
    "\n",
    "Em vez disso, usamos a função `dot()` para calcular produtos internos de vetores, para multiplicar um vetor por uma matriz e para multiplicar matrizes. \n",
    "\n",
    "`dot()` está disponível como uma função do módulo NumPy e como um método da classe `numpy.ndarray`:"
   ]
  },
  {
   "cell_type": "code",
   "execution_count": 81,
   "metadata": {},
   "outputs": [
    {
     "name": "stdout",
     "output_type": "stream",
     "text": [
      "Produto interno entre os vetores v e w.\n",
      "219\n",
      "219\n",
      "\n",
      "Produto interno entre a matriz x e o vetor v\n",
      "[29 67]\n",
      "[29 67]\n",
      "\n",
      "Produto interno entre a matriz x e a matriz y\n",
      "[[19 22]\n",
      " [43 50]]\n",
      "[[19 22]\n",
      " [43 50]]\n"
     ]
    }
   ],
   "source": [
    "# Cria 2 matrizes 2x2.\n",
    "x = np.array([[1, 2],[3, 4]])\n",
    "y = np.array([[5, 6],[7, 8]])\n",
    "\n",
    "# Cria 2 vetores.\n",
    "v = np.array([9, 10])\n",
    "w = np.array([11, 12])\n",
    "\n",
    "# Produto interno dos vetores v e w.\n",
    "print('Produto interno entre os vetores v e w.')\n",
    "print(v.dot(w))\n",
    "print(np.dot(v, w))\n",
    "\n",
    "# Produto interno entre uma matriz e um vetor.\n",
    "print('\\nProduto interno entre a matriz x e o vetor v')\n",
    "print(x.dot(v))\n",
    "print(np.dot(x, v))\n",
    "\n",
    "# Produto interno entre matrizes.\n",
    "print('\\nProduto interno entre a matriz x e a matriz y')\n",
    "print(x.dot(y))\n",
    "print(np.dot(x, y))"
   ]
  },
  {
   "cell_type": "markdown",
   "metadata": {},
   "source": [
    "Para realizar a transposição de uma matriz, basta usar o atributo `T` de um objeto do tipo `numpy.ndarray`:"
   ]
  },
  {
   "cell_type": "code",
   "execution_count": 95,
   "metadata": {},
   "outputs": [
    {
     "name": "stdout",
     "output_type": "stream",
     "text": [
      "Exemplo #1: transposição de uma matrix 2x2:\n",
      "x.shape: (2, 2)\n",
      "x: [[1 2]\n",
      " [3 4]]\n",
      "x.T: [[1 3]\n",
      " [2 4]]\n",
      "\n",
      "Exemplo #2: transposição de um vetor 3x1:\n",
      "v.shape: (3, 1)\n",
      "v: [[1]\n",
      " [2]\n",
      " [3]]\n",
      "v.T [[1 2 3]]\n"
     ]
    }
   ],
   "source": [
    "# Criando uma matriz 2x2.\n",
    "x = np.array([[1,2], [3,4]])\n",
    "print('Exemplo #1: transposição de uma matrix 2x2:')\n",
    "print('x.shape:',x.shape)\n",
    "print('x:',x)\n",
    "print('x.T:',x.T)\n",
    "\n",
    "# Criando um vetor coluna com dimensão 3x1.\n",
    "v = np.array([1,2,3]).reshape(3,1)\n",
    "print('\\nExemplo #2: transposição de um vetor 3x1:')\n",
    "print('v.shape:',v.shape)\n",
    "print('v:',v)\n",
    "print('v.T',v.T)"
   ]
  },
  {
   "cell_type": "markdown",
   "metadata": {},
   "source": [
    "## Adicionando e removendo elementos de uma array\n",
    "\n",
    "Existem algumas funções para adicionar e remover elementos de arrays:\n",
    "\n",
    "|           Operador           |             Função            |\n",
    "|:----------------------------:|:-----------------------------:|\n",
    "|        np.append(array, values, axis=None)        | Acrescenta elementos ao final da array. |\n",
    "| np.insert(array, obj, values, axis=None) |   Insire elementos ao longo do eixo fornecido antes dos índices fornecidos.  |\n",
    "|    np.delete(array, obj, axis=None)   | Retorna uma array com submatrizes ao longo do eixo excluído.|"
   ]
  },
  {
   "cell_type": "code",
   "execution_count": 148,
   "metadata": {},
   "outputs": [
    {
     "name": "stdout",
     "output_type": "stream",
     "text": [
      "Acrescentando elementos a uma array.\n",
      "d: [0 1 2 3 4 5 6 7]\n",
      "\n",
      "Inserindo elementos em uma array.\n",
      "e: [ 0  1 77  2  3]\n",
      "f: [[ 1  2]\n",
      " [77 77]\n",
      " [ 3  4]]\n",
      "g: [[ 1 77  2]\n",
      " [ 3 77  4]]\n",
      "\n",
      "Deletando elementos de uma array.\n",
      "h: [1 2 3]\n",
      "i: [2 3]\n",
      "j: [[3 4]]\n",
      "l: [[2]\n",
      " [4]]\n"
     ]
    }
   ],
   "source": [
    "# Criando 2 vetores.\n",
    "a = np.array([0, 1, 2, 3])\n",
    "b = np.array([4, 5, 6, 7])\n",
    "c = np.array([[1,2],[3,4]])\n",
    "\n",
    "# Acrescentando elementos a uma array.\n",
    "print('Acrescentando elementos a uma array.')\n",
    "d = np.append(a, b)\n",
    "print('d:',d)\n",
    "\n",
    "# Inserindo elementos em uma array.\n",
    "print('\\nInserindo elementos em uma array.')\n",
    "e = np.insert(a, 2, 77)\n",
    "print('e:',e)\n",
    "\n",
    "f = np.insert(c, 1, 77, axis=0)\n",
    "print('f:',f)\n",
    "\n",
    "g = np.insert(c, 1, 77, axis=1)\n",
    "print('g:',g)\n",
    "\n",
    "print('\\nDeletando elementos de uma array.')\n",
    "h = np.delete(a, 0)\n",
    "print('h:',h)\n",
    "\n",
    "i = np.delete(a, [0, 1])\n",
    "print('i:',i)\n",
    "\n",
    "j = np.delete(c, 0, axis=0)\n",
    "print('j:',j)\n",
    "\n",
    "l = np.delete(c, 0, axis=1)\n",
    "print('l:',l)"
   ]
  },
  {
   "cell_type": "markdown",
   "metadata": {},
   "source": [
    "### Conclusão\n",
    "\n",
    "Esta breve visão geral abordou muitas das coisas importantes que precisamos saber sobre o NumPy, mas está longe de ser completa. \n",
    "\n",
    "Confiram o link seguinte para descobrirem muito mais sobre o NumPy: http://docs.scipy.org/doc/numpy/reference/"
   ]
  },
  {
   "cell_type": "markdown",
   "metadata": {},
   "source": [
    "### Tarefas\n",
    "\n",
    "1. <span style=\"color:blue\">**QUIZ - NumPy**</span>: respondam ao questionário sobre a biblioteca NumPy no MS teams, por favor. \n",
    "2. <span style=\"color:blue\">**Laboratório #10 - NumPy**</span>: cliquem em um dos links abaixo para accessar os exercícios do laboratório #10.\n",
    "\n",
    "[![Binder](https://mybinder.org/badge_logo.svg)](https://mybinder.org/v2/gh/zz4fap/python-programming/master?filepath=labs%2FLaboratorio10_NumPy.ipynb)\n",
    "\n",
    "[![Google Colab](https://badgen.net/badge/Launch/on%20Google%20Colab/blue?icon=terminal)](https://colab.research.google.com/github/zz4fap/python-programming/blob/master/labs/Laboratorio10_NumPy.ipynb)"
   ]
  },
  {
   "cell_type": "markdown",
   "metadata": {},
   "source": [
    "## Computação científica com SciPy"
   ]
  },
  {
   "cell_type": "code",
   "execution_count": null,
   "metadata": {},
   "outputs": [],
   "source": []
  },
  {
   "cell_type": "markdown",
   "metadata": {},
   "source": [
    "## Manipulação e análise exploratória de dados com Pandas\n"
   ]
  },
  {
   "cell_type": "code",
   "execution_count": null,
   "metadata": {},
   "outputs": [],
   "source": []
  },
  {
   "cell_type": "markdown",
   "metadata": {},
   "source": [
    "## Visualização de dados com Matplotlib\n"
   ]
  },
  {
   "cell_type": "code",
   "execution_count": null,
   "metadata": {},
   "outputs": [],
   "source": []
  },
  {
   "cell_type": "markdown",
   "metadata": {},
   "source": [
    "## Visualização de dados com Bokeh"
   ]
  },
  {
   "cell_type": "code",
   "execution_count": null,
   "metadata": {},
   "outputs": [],
   "source": []
  }
 ],
 "metadata": {
  "kernelspec": {
   "display_name": "Python 3",
   "language": "python",
   "name": "python3"
  },
  "language_info": {
   "codemirror_mode": {
    "name": "ipython",
    "version": 3
   },
   "file_extension": ".py",
   "mimetype": "text/x-python",
   "name": "python",
   "nbconvert_exporter": "python",
   "pygments_lexer": "ipython3",
   "version": "3.7.7"
  }
 },
 "nbformat": 4,
 "nbformat_minor": 4
}
