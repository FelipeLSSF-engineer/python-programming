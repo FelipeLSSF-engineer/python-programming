{
 "cells": [
  {
   "cell_type": "markdown",
   "metadata": {},
   "source": [
    "# Análise e processamento de dados com Python \n",
    "\n",
    "## Introdução\n",
    "\n",
    "A análise de dados é a transformação de números (i.e., os dados) desestruturados/desorganizados em informação útil. \n",
    "\n",
    "Esses dados são utilizados para encontrar padrões, tendências, etc. que ajudam a extrair informações úteis e que podem ajudar a solucionar problemas, tomar decisões, etc.\n",
    "\n",
    "Analisar e processar dados é uma tarefa comum para engenheiros e cientistas. Normalmente, estes dados estão armazenados em arquivos texto, CSV, JSON, XML ou em bases de dados.\n",
    "\n",
    "Utilizando Python, a análise e processamento de dados, como estatísticas, tendências, cálculos, etc., podem ser facilmente realizados para sintetizar as informações.\n",
    "\n",
    "Para isso, o Python conta com técnicas e várias bibliotecas muito poderosas para o processamento de grandes quantidades de dados como:\n",
    "\n",
    "+ **Programação Funcional**: preparação e exploração de dados.\n",
    "+ **NumPy**: análise numérica e estatística.\n",
    "+ **SciPy**: computação científica.\n",
    "+ **Scikit-Learn**: aprendizado de máquina.\n",
    "+ **Pandas**: manipulação, análise exploratória e visualização de dados.\n",
    "+ **Matplotlib**: visualização de dados.\n",
    "+ **Bokeh**: visualização de dados.\n",
    "\n",
    "**IMPORTANTE**: As empresas tem percebido que analisar seus dados pode trazer grandes benefícios (redução de custos, aumento dos lucros, etc.) e sendo assim, o número de vagas para analistas e cientistas de dados só tem crescido.\n",
    "\n",
    "Nesse tópico iremos estudar algumas ferramentas e bibliotecas utilizadas na análise e processamento de dados utilizando Python."
   ]
  },
  {
   "cell_type": "markdown",
   "metadata": {},
   "source": [
    "## Programação funcional\n",
    "\n",
    "Como vimos na primeira aula, a linguagem Python suporta diversos paradigmas de programação. \n",
    "\n",
    "Dentre eles, um muito utilizado para o processamento de dados é o paradigma **Programação Funcional**.\n",
    "\n",
    "Programação funcional é um paradigma que trata a computação como uma avaliação de funções matemáticas. Tais funções podem ser aplicadas em sequências de dados, que geralmente são listas.\n",
    "\n",
    "As operações básicas do paradigma funcional são implementadas no Python pelas funções embutidas `lambda()`, `map()`, `filter()`, `reduce()` e `zip()`.\n",
    "\n",
    "Essas operações são utilizadas para transformar, preparar e explorar estruturas de dados."
   ]
  },
  {
   "cell_type": "markdown",
   "metadata": {},
   "source": [
    "### Funções lambda\n",
    "\n",
    "Em Python, `lambda` é uma função anônima composta apenas por expressões. As funções `lambda` podem ter apenas uma linha, e podem ser atribuídas a uma variável. Funções lambda são muito usadas em programação funcional.\n",
    "\n",
    "Sintaxe:\n",
    "\n",
    "```python\n",
    "lambda <lista de variáveis>: <expressão>\n",
    "```\n",
    "\n",
    "**IMPORTANTE**: Uma função lambda pode receber qualquer número de argumentos, mas só pode ter uma expressão.\n",
    "\n",
    "A sintaxe `lambda` permite que você crie definições de função de forma declarativa.\n",
    "\n",
    "Exemplo #1:"
   ]
  },
  {
   "cell_type": "code",
   "execution_count": 9,
   "metadata": {},
   "outputs": [
    {
     "name": "stdout",
     "output_type": "stream",
     "text": [
      "7\n"
     ]
    }
   ],
   "source": [
    "resultado = (lambda a, b: a + b)(3, 4)\n",
    "\n",
    "print(resultado)"
   ]
  },
  {
   "cell_type": "markdown",
   "metadata": {},
   "source": [
    "Exemplo #2:"
   ]
  },
  {
   "cell_type": "code",
   "execution_count": 10,
   "metadata": {},
   "outputs": [
    {
     "name": "stdout",
     "output_type": "stream",
     "text": [
      "1.7320508075688772\n",
      "7.0710678118654755\n"
     ]
    }
   ],
   "source": [
    "# Valor absoluto de um vetor 3D.\n",
    "amp = lambda x, y, z: (x ** 2 + y ** 2 + z ** 2) ** 0.5\n",
    "\n",
    "print(amp(1, 1, 1))\n",
    "print(amp(3, 4, 5))"
   ]
  },
  {
   "cell_type": "markdown",
   "metadata": {},
   "source": [
    "Exemplo #3:\n",
    "\n",
    "Usando uma função anônima para criar uma função que sempre multiplica o parâmetro de entrada por um número definido previamente:"
   ]
  },
  {
   "cell_type": "code",
   "execution_count": 12,
   "metadata": {},
   "outputs": [
    {
     "name": "stdout",
     "output_type": "stream",
     "text": [
      "22\n",
      "33\n"
     ]
    }
   ],
   "source": [
    "def myfunc(n):\n",
    "    return lambda a : a * n\n",
    "\n",
    "mydoubler = myfunc(2)\n",
    "mytripler = myfunc(3)\n",
    "\n",
    "print(mydoubler(11))\n",
    "print(mytripler(11))"
   ]
  },
  {
   "cell_type": "markdown",
   "metadata": {},
   "source": [
    "**IMPORTANTE**: Funções lambda consomem menos recursos computacionais que as funções convencionais, porém são mais limitados."
   ]
  },
  {
   "cell_type": "markdown",
   "metadata": {},
   "source": [
    "### Mapeamento\n",
    "\n",
    "O mapeamento consiste em aplicar uma função a todos os itens de uma sequência, gerando outra lista contendo os resultados e com o mesmo tamanho da lista inicial.\n",
    "\n",
    "<img src=\"../figures/map_function.png\" width=\"300\" height=\"300\">"
   ]
  },
  {
   "cell_type": "markdown",
   "metadata": {},
   "source": [
    "Em Python, o mapeamento é implementado pela função `map()`, a qual retorna um objeto iterável que pode ser convertido em uma lista com a função embutida `list()`.\n",
    "\n",
    "Exemplo #1:"
   ]
  },
  {
   "cell_type": "code",
   "execution_count": 26,
   "metadata": {},
   "outputs": [],
   "source": [
    "# Importa apenas o log na base 10.\n",
    "from math import log10\n",
    "\n",
    "nums = [1, 2, 3, 4, 5, 6, 7, 8, 9, 10, 11, 12]\n",
    "\n",
    "iterable = map(log10, nums)\n",
    "\n",
    "# Aplicando o logaritmo na base 10.\n",
    "resultado = list(iterable)\n",
    "\n",
    "print(resultado)"
   ]
  },
  {
   "cell_type": "markdown",
   "metadata": {},
   "source": [
    "Exemplo #2: Usando laço de repetição."
   ]
  },
  {
   "cell_type": "code",
   "execution_count": 29,
   "metadata": {},
   "outputs": [
    {
     "name": "stdout",
     "output_type": "stream",
     "text": [
      "0.0\n",
      "0.3010299956639812\n",
      "0.47712125471966244\n",
      "0.6020599913279624\n",
      "0.6989700043360189\n",
      "0.7781512503836436\n",
      "0.8450980400142568\n",
      "0.9030899869919435\n",
      "0.9542425094393249\n",
      "1.0\n",
      "1.0413926851582251\n",
      "1.0791812460476249\n"
     ]
    }
   ],
   "source": [
    "nums = [1, 2, 3, 4, 5, 6, 7, 8, 9, 10, 11, 12]\n",
    "\n",
    "iterable = map(log10, nums)\n",
    "\n",
    "for elemento in iterable:\n",
    "    print(elemento)"
   ]
  },
  {
   "cell_type": "markdown",
   "metadata": {},
   "source": [
    "Exemplo #3: \n",
    "\n",
    "Usando uma função anônima."
   ]
  },
  {
   "cell_type": "code",
   "execution_count": 30,
   "metadata": {},
   "outputs": [
    {
     "name": "stdout",
     "output_type": "stream",
     "text": [
      "[0.3333333333333333, 0.6666666666666666, 1.0, 1.3333333333333333, 1.6666666666666667, 2.0, 2.3333333333333335, 2.6666666666666665, 3.0, 3.3333333333333335, 3.6666666666666665, 4.0]\n"
     ]
    }
   ],
   "source": [
    "nums = [1, 2, 3, 4, 5, 6, 7, 8, 9, 10, 11, 12]\n",
    "\n",
    "# Dividindo por 3.\n",
    "resultado = list(map(lambda x: x / 3, nums))\n",
    "\n",
    "print(resultado)"
   ]
  },
  {
   "cell_type": "markdown",
   "metadata": {},
   "source": [
    "### Filtragem\n",
    "\n",
    "Na filtragem, uma função é aplicada em todos os elemento de uma sequência, se a função retornar um valor que seja avaliado como verdadeiro, o elemento original fará parte da sequência resultante.\n",
    "\n",
    "<img src=\"../figures/filter_function.png\" width=\"300\" height=\"300\">\n",
    "\n",
    "Em Python, a filtragem é implementada pela função `filter()` e retorna um objetivo iterável que pode ser convertido em uma lista com a função embutida `list()`..\n",
    "\n",
    "A função `filter()` aceita também funções lambda, além de funções convencionais.\n",
    "\n",
    "Exemplo #1: Selecionando apenas os ímpares da lista."
   ]
  },
  {
   "cell_type": "code",
   "execution_count": 60,
   "metadata": {},
   "outputs": [
    {
     "name": "stdout",
     "output_type": "stream",
     "text": [
      "[1, 3, 5, 7, 9, 11]\n"
     ]
    }
   ],
   "source": [
    "# Selecionando apenas os ímpares da lista.\n",
    "nums = [1, 2, 3, 4, 5, 6, 7, 8, 9, 10, 11, 12]\n",
    "\n",
    "iterable = filter(lambda x: x % 2, nums)\n",
    "\n",
    "resultado = list(iterable)\n",
    "\n",
    "print(resultado)"
   ]
  },
  {
   "cell_type": "markdown",
   "metadata": {},
   "source": [
    "Exemplo #2: Selecionando apenas vogais."
   ]
  },
  {
   "cell_type": "code",
   "execution_count": 61,
   "metadata": {},
   "outputs": [
    {
     "name": "stdout",
     "output_type": "stream",
     "text": [
      "As vogais filtradas são:\n",
      "a\n",
      "e\n",
      "i\n",
      "o\n",
      "u\n"
     ]
    }
   ],
   "source": [
    "# Alfabeto.\n",
    "alfabeto = ['a', 'b', 'c', 'd', 'e', 'f', 'g', 'h', 'i', 'j', 'l', 'm', 'n', 'o', 'p', 'q', 'r', 's', 't', 'u', 'v', 'x', 'z']\n",
    "\n",
    "# função que filtra as vogais.\n",
    "def filtraVogais(letra):\n",
    "    vogais = ['a', 'e', 'i', 'o', 'u']\n",
    "\n",
    "    if(letra in vogais):\n",
    "        return True\n",
    "    else:\n",
    "        return False\n",
    "\n",
    "vogaisFiltradas = filter(filtraVogais, alfabeto)\n",
    "\n",
    "print('As vogais filtradas são:')\n",
    "for vogal in vogaisFiltradas:\n",
    "    print(vogal)"
   ]
  },
  {
   "cell_type": "markdown",
   "metadata": {},
   "source": [
    "### Redução\n",
    "\n",
    "Redução significa aplicar uma função que recebe dois parâmetros, nos dois primeiros elementos de uma sequência, aplicar novamente a função usando como parâmetros o resultado do primeiro par e o terceiro elemento da sequência, seguindo assim até o último elemento da sequência. O resultado final da redução é apenas um elemento.\n",
    "\n",
    "<img src=\"../figures/reduce_function.png\" width=\"300\" height=\"300\">\n",
    "\n",
    "Em Python 3.7, a redução não faz parte das funções embutidas e é implementada pela função `reduce()` do módulo `functools`. Ela retorna um escalar, ou seja, um único valor que representa o resultado da redução. \n",
    "\n",
    "Exemplo #1: Somando todos os valores de uma lista."
   ]
  },
  {
   "cell_type": "code",
   "execution_count": 76,
   "metadata": {},
   "outputs": [
    {
     "name": "stdout",
     "output_type": "stream",
     "text": [
      "Resultado da soma com reduce: 6\n"
     ]
    }
   ],
   "source": [
    "from functools import reduce\n",
    "\n",
    "nums = [0, 1, 2, 3]\n",
    "\n",
    "resultado = reduce(lambda x, y: x + y, nums)\n",
    "\n",
    "# Soma com reduce.\n",
    "print('Resultado da soma com reduce:', resultado)"
   ]
  },
  {
   "cell_type": "markdown",
   "metadata": {},
   "source": [
    "Exemplo #2: Contatenando todos os valores de uma lista."
   ]
  },
  {
   "cell_type": "code",
   "execution_count": 77,
   "metadata": {},
   "outputs": [
    {
     "name": "stdout",
     "output_type": "stream",
     "text": [
      "Resultado da concatenação com reduce: abcdef\n"
     ]
    }
   ],
   "source": [
    "from functools import reduce\n",
    "\n",
    "nums = ['ab', 'cde', 'f']\n",
    "\n",
    "resultado = reduce(lambda x, y: x + y, nums)\n",
    "\n",
    "# Concatenando com reduce.\n",
    "print('Resultado da concatenação com reduce:', resultado)"
   ]
  },
  {
   "cell_type": "markdown",
   "metadata": {},
   "source": [
    "Exemplo #3: Calculando o fatorial com reduce."
   ]
  },
  {
   "cell_type": "code",
   "execution_count": 78,
   "metadata": {},
   "outputs": [
    {
     "name": "stdout",
     "output_type": "stream",
     "text": [
      "Fatorial: 120\n"
     ]
    }
   ],
   "source": [
    "from functools import reduce\n",
    "\n",
    "# Calcula o fatorial de n.\n",
    "def fatorial(n):\n",
    "    return reduce(lambda x, y: x * y, range(1, n))\n",
    "\n",
    "print('Fatorial:', fatorial(6))"
   ]
  },
  {
   "cell_type": "markdown",
   "metadata": {},
   "source": [
    "### Transposição\n",
    "\n",
    "\n",
    "A transposição constroi novas sequência a partir de uma série de sequências originais, onde a primeira nova sequência contém o primeiro elemento de cada sequência original, a segunda nova sequência contém o segundo elemento de cada sequência original, até que alguma das sequências originais acabe.\n",
    "\n",
    "<img src=\"../figures/zip_function.png\" width=\"300\" height=\"300\">\n",
    "\n",
    "A transposição é implementada em Python pela função embutida `zip()`. A função `zip()` recebe objetos iteráveis (e.g., listas, tuplas, dicionários, conjuntos, etc.), os agrega em tuplas e as retorna através de um objeto iterável. A função `zip()` sempre retorna um objeto iterável que pode ser convertido em uma lista com a função embutida `list()`.\n",
    "\n",
    "Exemplo #1:"
   ]
  },
  {
   "cell_type": "code",
   "execution_count": 74,
   "metadata": {},
   "outputs": [
    {
     "name": "stdout",
     "output_type": "stream",
     "text": [
      "[('a', 1), ('b', 2), ('c', 3)]\n"
     ]
    }
   ],
   "source": [
    "iteravel = zip(['a', 'b', 'c'], (1, 2, 3))\n",
    "\n",
    "resultado = list(iteravel)\n",
    "\n",
    "print(resultado)"
   ]
  },
  {
   "cell_type": "markdown",
   "metadata": {},
   "source": [
    "Em teoria, a função `zip()` deve ser usada com sequências de mesmo comprimento. Se as sequências tiverem comprimentos diferentes, a transposição resultante terá o mesmo comprimento que a sequência mais curta."
   ]
  },
  {
   "cell_type": "code",
   "execution_count": 75,
   "metadata": {},
   "outputs": [
    {
     "name": "stdout",
     "output_type": "stream",
     "text": [
      "[('a', 1, 66), ('b', 2, 99)]\n"
     ]
    }
   ],
   "source": [
    "iteravel = zip(['a', 'b'], (1, 2, 3, 4, 5), {66:'A', 99:'2'})\n",
    "\n",
    "resultado = list(iteravel)\n",
    "\n",
    "print(list(resultado))"
   ]
  },
  {
   "cell_type": "markdown",
   "metadata": {},
   "source": [
    "## List Comprehensions\n",
    "\n",
    "Em computação, **list comprehension** é uma construção que equivale a uma notação matemática do tipo:\n",
    "\n",
    "$$S = x^2 \\forall \\in \\mathbb{N}, x \\ge 20$$\n",
    "\n",
    "Ou seja, $S$ é o conjunto formado por todos os valores de $x$ ao quadrado para todo $x$ no conjunto dos números naturais, apenas se $x$ for maior ou igual a 20.\n",
    "\n",
    "Em suma, **list comprehension** é uma ferramenta muito poderosa, que cria uma nova lista com base em outra lista, através de uma única linha de código.\n",
    "\n",
    "Sintaxe:\n",
    "\n",
    "```python\n",
    "lista = [ <expressão> for <referência> in <sequência> if <condição> ]\n",
    "```\n",
    "\n",
    "Exemplo #1: Exemplo onde apenas os números pares são elevados ao quadrado."
   ]
  },
  {
   "cell_type": "code",
   "execution_count": 81,
   "metadata": {},
   "outputs": [
    {
     "name": "stdout",
     "output_type": "stream",
     "text": [
      "[1, 9, 25, 49, 81, 121]\n"
     ]
    }
   ],
   "source": [
    "nums = [1, 2, 3, 4, 5, 6, 7, 8, 9, 10, 11, 12]\n",
    "\n",
    "# Eleve os ímpares ao quadrado\n",
    "list_comprehension = [ x**2 for x in nums if x % 2 ]\n",
    "\n",
    "print(list_comprehension)"
   ]
  },
  {
   "cell_type": "markdown",
   "metadata": {},
   "source": [
    "**IMPORTANTE**: A utilização de **list comprehension** é mais eficiente do que usar as funções `map()` e `filter()` tanto em termos de uso de processador quanto em consumo de memória."
   ]
  },
  {
   "cell_type": "markdown",
   "metadata": {},
   "source": [
    "## Tarefas\n",
    "\n",
    "1. <span style=\"color:blue\">**QUIZ - Programação funcional e list comprehension**</span>: respondam ao questionário sobre programação funcional e list comprehension no MS teams, por favor. \n",
    "2. <span style=\"color:blue\">**Laboratório #10 - Programação funcional e list comprehension**</span>: cliquem em um dos links abaixo para accessar os exercícios do laboratório #10.\n",
    "\n",
    "[![Binder](https://mybinder.org/badge_logo.svg)](https://mybinder.org/v2/gh/zz4fap/python-programming/master?filepath=labs%2FLaboratorio10_Programacao_Funcional_e_List_Comprehension.ipynb)\n",
    "\n",
    "[![Google Colab](https://badgen.net/badge/Launch/on%20Google%20Colab/blue?icon=terminal)](https://colab.research.google.com/github/zz4fap/python-programming/blob/master/labs/Laboratorio10_Programacao_Funcional_e_List_Comprehension.ipynb)"
   ]
  },
  {
   "cell_type": "markdown",
   "metadata": {},
   "source": [
    "## NumPy: Uma biblioteca Python para estatística"
   ]
  },
  {
   "cell_type": "code",
   "execution_count": null,
   "metadata": {},
   "outputs": [],
   "source": []
  },
  {
   "cell_type": "markdown",
   "metadata": {},
   "source": [
    "## Computação científica com SciPy"
   ]
  },
  {
   "cell_type": "code",
   "execution_count": null,
   "metadata": {},
   "outputs": [],
   "source": []
  },
  {
   "cell_type": "markdown",
   "metadata": {},
   "source": [
    "## Scikit-Learn: uma biblioteca para aprendizado de máquina\n",
    "\n",
    "## Manipulação e análise exploratória de dados com Pandas\n",
    "\n",
    "## Visualização de dados com Matplotlib\n",
    "\n",
    "## Visualização de dados com Bokeh\n"
   ]
  },
  {
   "cell_type": "code",
   "execution_count": null,
   "metadata": {},
   "outputs": [],
   "source": []
  }
 ],
 "metadata": {
  "kernelspec": {
   "display_name": "Python 3",
   "language": "python",
   "name": "python3"
  },
  "language_info": {
   "codemirror_mode": {
    "name": "ipython",
    "version": 3
   },
   "file_extension": ".py",
   "mimetype": "text/x-python",
   "name": "python",
   "nbconvert_exporter": "python",
   "pygments_lexer": "ipython3",
   "version": "3.7.3"
  }
 },
 "nbformat": 4,
 "nbformat_minor": 4
}
