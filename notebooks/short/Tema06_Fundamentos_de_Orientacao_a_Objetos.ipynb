{
 "cells": [
  {
   "cell_type": "markdown",
   "metadata": {},
   "source": [
    "# Fundamentos de Orientação a Objetos\n",
    "\n",
    "\n",
    "## Introdução\n",
    "\n",
    "Um dos vários paradigmas de programação suportados pelo Python é o de programação orientada a objetos (POO).\n",
    "\n",
    "A POO se concentra na criação de **código reutilizável**, ou seja, a ideia por trás da POO é a redução da repetição de código.\n",
    "\n",
    "O foco da programação orientada a objetos é na criação de objetos que contêm (**encapsulam**) tanto os **dados** quanto as **funcionalidades**.\n",
    "   + Por exemplo, um objeto do tipo `Carro` tem alguns **dados** sobre o objeto como marca, modelo, ano de fabricação, kilometragem, etc. e **funcionalidades** como ligar, acelerar, etc.\n",
    "\n",
    "Objetos são **abstrações computacionais** que representam entidades do mundo real ou não, com suas qualidades ou propriedades (**atributos**) e ações (**métodos**) que estas podem realizar.\n",
    "   + Os **atributos** são estruturas de dados que armazenam informações (ou seja, os dados) sobre o **estado** atual do objeto. Por exemplo, marca, modelo, etc.\n",
    "   + Os **métodos** são funções associadas ao objeto, que descrevem como o ele se comporta. Por exemplo, ligar, acelerar, etc.\n",
    "\n",
    "Para criar um objeto, nós **instanciamos** classes. \n",
    "\n",
    "As classes são a **estrutura básica** da POO. Elas representam o **tipo** do objeto, ou seja, um modelo a partir do qual os objetos são criados (**instanciados**). \n",
    "\n",
    "Pode-se pensar também nas classes como sendo **diagramas** ou **plantas** para a construção de um objeto.\n",
    "\n",
    "Por exemplo, uma classe `Cachorro` descreve as características (ou **atributos**) como cor, raça, tamanho, etc. e ações (ou **métodos**) como comer, latir, etc., dos cães em geral, enquanto o objeto `Toto` representa um cachorro em particular, ou seja, uma **instância** da classe `Cachorro`.\n",
    "\n",
    "Cada **instância** (ou **objeto**) da classe `Cachorro` é diferente pois, embora sejam todos objetos do tipo `Cachorro`, cada um tem um **estado** (como cores, raças, tamanhos, etc.) diferente."
   ]
  },
  {
   "cell_type": "markdown",
   "metadata": {},
   "source": [
    "### Tarefa\n",
    "\n",
    "1. <span style=\"color:blue\">**QUIZ - Programação orientada a objetos (POO)**</span>: respondam ao questionário sobre programação orientada a objetos no MS teams, por favor."
   ]
  },
  {
   "cell_type": "markdown",
   "metadata": {},
   "source": [
    "## Definindo nossos próprios tipos (classes)\n",
    "\n",
    "Em POO, quando estamos desenvolvendo uma aplicação, nós geralmente precisamos criar **tipos** relacionados à aplicação que estamos desenvolvendo. Desta forma, nós precisamos definir nossas próprias **classes**. \n",
    "\n",
    "Portanto, em Python, além dos **tipos** (classes) embutidos definidos pela linguagem, como `int`, `str`, `list`, `float`, etc. nós podemos definir nossos próprios **tipos** através da criação de classes.\n",
    "\n",
    "As regras de sintaxe para a definição de uma classe são as mesmas de outros comandos compostos do Python.\n",
    "\n",
    "+ Há um cabeçalho que começa com a palavra reservada `class`, seguida pelo **nome** da classe e terminando com **dois pontos**, `:`.\n",
    "\n",
    "```python\n",
    "class Carro:\n",
    "```\n",
    "\n",
    "+ Se a primeira linha após o cabeçalho de classe é uma **string** com 3 aspas simples ou duplas, ela se torna o **docstring** da classe, e poderá ser acessada por diversas ferramentas de documentação automática (e.g. **pydoc**) através do atributo `__doc__`.\n",
    "\n",
    "```python\n",
    "class Carro:\n",
    "    \"\"\"Este é o tipo carro.\"\"\"\n",
    "```\n",
    "\n",
    "+ Toda classe possui, mesmo que não explicitamente, um **método** com o nome especial `__init__`. Este método de **inicialização**, também chamado de **construtor** do objeto, é invocado automaticamente sempre que uma nova instância do objeto é criada.\n",
    "\n",
    "```python\n",
    "class Carro:\n",
    "    \"\"\"Este é o tipo carro.\"\"\"\n",
    "    \n",
    "    def __init__(self):\n",
    "        \"Construtor da classe Carro.\"\n",
    "```\n",
    "\n",
    "   + O parâmetro `self` é uma referência à instância atual da classe e é usado para acessar atributos e métodos que pertencem ao objeto. \n",
    "   + O `self` deve ser **SEMPRE** o primeiro parâmetro de qualquer método de uma classe.\n",
    "\n",
    "      + **IMPORTANTE**: O nome `self` é apenas uma convenção, podendo ser trocado por outro nome qualquer, porém é considerada como **boa prática** manter este nome.\n",
    "\n",
    "+ O método **construtor** possibilita configurar os **atributos** da nova instância da classe com valores iniciais.\n",
    "\n",
    "```python\n",
    "class Carro:\n",
    "    \"\"\"Este é o tipo carro.\"\"\"\n",
    "    \n",
    "    def __init__(self, modelo='', anoFabricacao=1900, cor=''):\n",
    "        \"\"\"Construtor da classe Carro.\"\"\"\n",
    "        print('Instanciando um objeto do tipo Carro.')\n",
    "        self.modelo = modelo\n",
    "        self.anoFabricacao = anoFabricacao\n",
    "        self.cor = cor\n",
    "```\n",
    "\n",
    "+ As classes também podem conter outros **métodos** além do método construtor. Lembrem-se que os **métodos** são **funções** que pertencem ao objeto. \n",
    "\n",
    "### Exemplo\n",
    "\n",
    "Classe `Carro` é definida com o construtor para configurar valores inciais e com os métodos `acelerar`, `frear` e `printState`."
   ]
  },
  {
   "cell_type": "code",
   "execution_count": 1,
   "metadata": {},
   "outputs": [],
   "source": [
    "class Carro:\n",
    "    \"\"\"Classe que modela diferentes tipos de carros.\"\"\"\n",
    "    \n",
    "    def __init__(self, modelo='Volkswagen fusca', anoFabricacao=1970, cor='branca', kilometragem=100000):\n",
    "        \"\"\"Construtor da classe Carro.\"\"\"\n",
    "        print('-----------------------------')\n",
    "        print('Instanciando um objeto do tipo Carro.')\n",
    "        self.modelo = modelo\n",
    "        self.anoFabricacao = anoFabricacao\n",
    "        self.cor = cor\n",
    "        self.kilometragem = kilometragem\n",
    "        self.printState()\n",
    "        print('-----------------------------\\n')\n",
    "        \n",
    "    def acelerar(self):\n",
    "        \"\"\"Método para acelerar o carro.\"\"\"\n",
    "        print(\"Acelerando carro.\")\n",
    "        \n",
    "    def frear(self):\n",
    "        \"\"\"Método para frear o carro.\"\"\"\n",
    "        print(\"Freando carro.\")\n",
    "        \n",
    "    def printState(self):\n",
    "        \"\"\"Imprime estado corrente do objeto.\"\"\"\n",
    "        print('Modelo:', self.modelo)\n",
    "        print('Ano de fabricação:', self.anoFabricacao)\n",
    "        print('Cor:', self.cor)\n",
    "        print('Kilometragem:', self.kilometragem)"
   ]
  },
  {
   "cell_type": "markdown",
   "metadata": {},
   "source": [
    "**IMPORTANTE**\n",
    "\n",
    "+ Um objeto é uma instância de uma classe, ou seja, ele é uma *coisa* criada a partir de uma planta/diagrama, que é a classe. \n",
    "+ Quando a classe é definida, apenas a descrição do objeto é definida. \n",
    "+ Portanto, nenhuma memória é alocada. Isto ocorre apenas durante a instanciação."
   ]
  },
  {
   "cell_type": "markdown",
   "metadata": {},
   "source": [
    "## Instanciando objetos\n",
    "\n",
    "Em Python, novos objetos são criados a partir das classes através de atribuição.\n",
    "\n",
    "### Exemplos\n",
    "\n",
    "#### Instanciando objetos."
   ]
  },
  {
   "cell_type": "code",
   "execution_count": 2,
   "metadata": {},
   "outputs": [
    {
     "name": "stdout",
     "output_type": "stream",
     "text": [
      "-----------------------------\n",
      "Instanciando um objeto do tipo Carro.\n",
      "Modelo: Volkswagen fusca\n",
      "Ano de fabricação: 1970\n",
      "Cor: branca\n",
      "Kilometragem: 100000\n",
      "-----------------------------\n",
      "\n",
      "-----------------------------\n",
      "Instanciando um objeto do tipo Carro.\n",
      "Modelo: Shelby Cobra 427 Super Snake\n",
      "Ano de fabricação: 1966\n",
      "Cor: azul\n",
      "Kilometragem: 230000\n",
      "-----------------------------\n",
      "\n"
     ]
    }
   ],
   "source": [
    "# Instanciando um objeto do tipo carro com atributos padrão.\n",
    "# OBS.: Só funciona porque definimos valores padrão para os parâmetros.\n",
    "herbie = Carro()\n",
    "\n",
    "# Objeto com atributos diferentes dos valores padrão.\n",
    "eleanor = Carro('Shelby Cobra 427 Super Snake', 1966, 'azul', 230000)   "
   ]
  },
  {
   "cell_type": "markdown",
   "metadata": {},
   "source": [
    "#### Acessando atributos de um objeto\n",
    "\n",
    "Acessamos os **atributos** de um objeto usando a sintaxe:\n",
    "\n",
    "```python\n",
    "NomeDoObjeto.nomeDoAtributo\n",
    "```"
   ]
  },
  {
   "cell_type": "code",
   "execution_count": 3,
   "metadata": {},
   "outputs": [
    {
     "name": "stdout",
     "output_type": "stream",
     "text": [
      "-----------------------------\n",
      "Instanciando um objeto do tipo Carro.\n",
      "Modelo: Volkswagen fusca\n",
      "Ano de fabricação: 1970\n",
      "Cor: branca\n",
      "Kilometragem: 100000\n",
      "-----------------------------\n",
      "\n",
      "Modelo: Volkswagen fusca\n"
     ]
    }
   ],
   "source": [
    "# Instanciando um objeto do tipo Carro.\n",
    "carroA = Carro()\n",
    "\n",
    "# Acessando o atributo modelo do objeto do tipo Carro.\n",
    "print('Modelo:', carroA.modelo)"
   ]
  },
  {
   "cell_type": "markdown",
   "metadata": {},
   "source": [
    "#### Invocando métodos de um objeto\n",
    "\n",
    "Invocamos os **métodos** de um objeto da mesma forma que acessamos os atributos:\n",
    "\n",
    "```python\n",
    "NomeDoObjeto.nomeDoMetodo()\n",
    "``` "
   ]
  },
  {
   "cell_type": "code",
   "execution_count": 4,
   "metadata": {},
   "outputs": [
    {
     "name": "stdout",
     "output_type": "stream",
     "text": [
      "-----------------------------\n",
      "Instanciando um objeto do tipo Carro.\n",
      "Modelo: Volkswagen fusca\n",
      "Ano de fabricação: 1970\n",
      "Cor: branca\n",
      "Kilometragem: 100000\n",
      "-----------------------------\n",
      "\n",
      "Freando carro.\n"
     ]
    }
   ],
   "source": [
    "# Instanciando um objeto do tipo Carro.\n",
    "carroA = Carro()\n",
    "\n",
    "# Invocando o método frear.\n",
    "carroA.frear()"
   ]
  },
  {
   "cell_type": "markdown",
   "metadata": {},
   "source": [
    "**IMPORTANTE**\n",
    "\n",
    "+ Os atributos e métodos de uma classe são os mesmos para todas as instâncias daquela classe. \n",
    "+ Porém, cada objeto tem um **estado** diferente e um **comportamento** que depende do **estado** atual do objeto."
   ]
  },
  {
   "cell_type": "markdown",
   "metadata": {},
   "source": [
    "## Notação UML para classes\n",
    "\n",
    "Em UML (do inglês Unified Modeling Language, em português Linguagem de Modelagem Unificada) uma classe pode ser representada como uma caixa com três compartimentos, conforme ilustrado abaixo:\n",
    "\n",
    "<img src=\"../../figures/classe_animal.png\" width=\"150\" height=\"150\">\n",
    "\n",
    "Cada compartimento tem o seguinte significado:\n",
    "\n",
    "+ **Nome da classe**: identifica o nome do tipo, ou seja, da classe.\n",
    "+ **Atributos**: contém os atributos da classe e seus respectivos tipos.\n",
    "+ **Métodos**: contém as funções membro da classe, seus parâmetros e  os respectivos tipos de retorno.\n",
    "\n",
    "**IMPORTANTE**\n",
    "\n",
    "+ Os caracteres na frente dos atributos e métodos definem seu tipo de acesso (encapsulamento)."
   ]
  },
  {
   "cell_type": "markdown",
   "metadata": {},
   "source": [
    "### Tarefa\n",
    "\n",
    "1. <span style=\"color:blue\">**QUIZ - Criação e uso de classes em Python**</span>: respondam ao questionário sobre criação e uso de classes em Python no MS teams, por favor."
   ]
  },
  {
   "cell_type": "markdown",
   "metadata": {},
   "source": [
    "## Encapsulamento\n",
    "\n",
    "+ Em POO, podemos restringir o acesso aos membros de uma classe (i.e., métodos e atributos). \n",
    "\n",
    "+ Essa restrição é chamada de **encapsulamento**.\n",
    "\n",
    "+ O **encapsulamento** evita que o **estado** de um objeto seja modificado diretamente ou que **comportamentos** internos sejam acessados.\n",
    "\n",
    "+ Em Python, temos 3 tipos de acesso: **público**, **protegido** e **privado**, os quais veremos a seguir.\n",
    "\n",
    "### Membros com acesso público\n",
    "\n",
    "+ Em Python, todos os membros de uma classe são públicos por padrão. \n",
    "+ Qualquer membro com acesso público pode ser acessado tanto dentro ou fora da classe.\n",
    "\n",
    "#### Exemplo"
   ]
  },
  {
   "cell_type": "code",
   "execution_count": 5,
   "metadata": {},
   "outputs": [
    {
     "name": "stdout",
     "output_type": "stream",
     "text": [
      "Kilometragem: 0\n",
      "Acelerando\n"
     ]
    }
   ],
   "source": [
    "class Carro:\n",
    "    kilometragem = 0\n",
    "    \n",
    "    def acelerar(self):\n",
    "        print('Acelerando')\n",
    "\n",
    "# Instanciando um objeto do tipo Carro.\n",
    "carro = Carro()\n",
    "\n",
    "# Acessando um atributo público.\n",
    "print('Kilometragem:', carro.kilometragem)\n",
    "\n",
    "# Invocando um método público.\n",
    "carro.acelerar()"
   ]
  },
  {
   "cell_type": "markdown",
   "metadata": {},
   "source": [
    "### Membros com acesso protegido\n",
    "\n",
    "+ Membros com acesso protegido devem ser acessados apenas dentro da classe onde foram definidos ou por uma subclasse (ou seja, uma classe que herda a classe onde o membro protegido foi definido).\n",
    "\n",
    "+ A convenção em Python para tornar um membro **protegido** é adicionar um prefixo `_` (sublinhado simples) a ele. \n",
    "\n",
    "+ Porém, isso **não impede**, como veremos, que ele seja acessado fora da classe, mas indica ao programador utilizando aquela classe que aquele membro não deveria ser usado fora da classe.\n",
    "\n",
    "#### Exemplo"
   ]
  },
  {
   "cell_type": "code",
   "execution_count": 6,
   "metadata": {},
   "outputs": [
    {
     "name": "stdout",
     "output_type": "stream",
     "text": [
      "Kilometragem: 0\n",
      "Injetando combustível.\n"
     ]
    }
   ],
   "source": [
    "class Carro:\n",
    "    _kilometragem = 0\n",
    "    \n",
    "    def _injetarCombustível(self):\n",
    "        print('Injetando combustível.')\n",
    "\n",
    "# Instanciando um objeto do tipo Carro.\n",
    "carro = Carro()\n",
    "\n",
    "# Acessando um atributo protegido (NÃO DEVERIA SER FEITO).\n",
    "print('Kilometragem:', carro._kilometragem)\n",
    "\n",
    "# Acessando um método protegido (NÃO DEVERIA SER FEITO).\n",
    "carro._injetarCombustível()"
   ]
  },
  {
   "cell_type": "markdown",
   "metadata": {},
   "source": [
    "### Membros com acesso privado\n",
    "\n",
    "+ Membros com acesso privado podem ser acessados **apenas** dentro da classe onde foram definidos. \n",
    "\n",
    "+ Um sublinhado duplo `__` prefixado a um membro o torna privado. \n",
    "\n",
    "+ Diferentemente do acesso protegido, qualquer tentativa de acesso a membros privados resultará em um **AttributeError** como o mostrado no exemplo abaixo.\n",
    "\n",
    "#### Exemplo"
   ]
  },
  {
   "cell_type": "code",
   "execution_count": 1,
   "metadata": {},
   "outputs": [
    {
     "ename": "AttributeError",
     "evalue": "'Carro' object has no attribute '__kilometragem'",
     "output_type": "error",
     "traceback": [
      "\u001b[1;31m---------------------------------------------------------------------------\u001b[0m",
      "\u001b[1;31mAttributeError\u001b[0m                            Traceback (most recent call last)",
      "\u001b[1;32m<ipython-input-1-56eb4ccc2650>\u001b[0m in \u001b[0;36m<module>\u001b[1;34m\u001b[0m\n\u001b[0;32m      9\u001b[0m \u001b[1;33m\u001b[0m\u001b[0m\n\u001b[0;32m     10\u001b[0m \u001b[1;31m# Acessando um atributo privado.\u001b[0m\u001b[1;33m\u001b[0m\u001b[1;33m\u001b[0m\u001b[1;33m\u001b[0m\u001b[0m\n\u001b[1;32m---> 11\u001b[1;33m \u001b[0mprint\u001b[0m\u001b[1;33m(\u001b[0m\u001b[1;34m'Kilometragem:'\u001b[0m\u001b[1;33m,\u001b[0m \u001b[0mcarro\u001b[0m\u001b[1;33m.\u001b[0m\u001b[0m__kilometragem\u001b[0m\u001b[1;33m)\u001b[0m\u001b[1;33m\u001b[0m\u001b[1;33m\u001b[0m\u001b[0m\n\u001b[0m",
      "\u001b[1;31mAttributeError\u001b[0m: 'Carro' object has no attribute '__kilometragem'"
     ]
    }
   ],
   "source": [
    "class Carro:\n",
    "    __kilometragem = 0\n",
    "    \n",
    "    def __injetarCombustível(self):\n",
    "        print('Injetando combustível.')    \n",
    "\n",
    "# Instanciando um objeto do tipo Carro.\n",
    "carro = Carro()\n",
    "\n",
    "# Acessando um atributo privado.\n",
    "print('Kilometragem:', carro.__kilometragem)"
   ]
  },
  {
   "cell_type": "code",
   "execution_count": 2,
   "metadata": {},
   "outputs": [
    {
     "ename": "AttributeError",
     "evalue": "'Carro' object has no attribute '__injetarCombustível'",
     "output_type": "error",
     "traceback": [
      "\u001b[1;31m---------------------------------------------------------------------------\u001b[0m",
      "\u001b[1;31mAttributeError\u001b[0m                            Traceback (most recent call last)",
      "\u001b[1;32m<ipython-input-2-0936e23e8302>\u001b[0m in \u001b[0;36m<module>\u001b[1;34m\u001b[0m\n\u001b[0;32m      1\u001b[0m \u001b[1;31m# Acessando um método privado.\u001b[0m\u001b[1;33m\u001b[0m\u001b[1;33m\u001b[0m\u001b[1;33m\u001b[0m\u001b[0m\n\u001b[1;32m----> 2\u001b[1;33m \u001b[0mcarro\u001b[0m\u001b[1;33m.\u001b[0m\u001b[0m__injetarCombustível\u001b[0m\u001b[1;33m(\u001b[0m\u001b[1;33m)\u001b[0m\u001b[1;33m\u001b[0m\u001b[1;33m\u001b[0m\u001b[0m\n\u001b[0m",
      "\u001b[1;31mAttributeError\u001b[0m: 'Carro' object has no attribute '__injetarCombustível'"
     ]
    }
   ],
   "source": [
    "# Acessando um método privado.\n",
    "carro.__injetarCombustível()"
   ]
  },
  {
   "cell_type": "markdown",
   "metadata": {},
   "source": [
    "**IMPORTANTE**\n",
    "\n",
    "+ O acesso a atributos protegidos e privados, normalmente, só é obtido por meio de métodos especiais, chamados de **getters** e **setters**. \n",
    "+ Através desses métodos, que devem ter acesso público, é possível se obter ou modificar os valores de atributos privados ou protegidos.\n",
    "\n",
    "#### Exemplo"
   ]
  },
  {
   "cell_type": "code",
   "execution_count": null,
   "metadata": {},
   "outputs": [],
   "source": [
    "class Carro:\n",
    "    # Atributo privado.\n",
    "    __kilometragem = 0\n",
    "    \n",
    "    # Atributo protegido.\n",
    "    _nívelDoÓleo = 0\n",
    "    \n",
    "    def getKilometragem(self):\n",
    "        return self.__kilometragem\n",
    "    \n",
    "    def setKilometragem(self, kilometragem):\n",
    "        self.__kilometragem = kilometragem\n",
    "        \n",
    "    def getNívelDoÓleo(self):\n",
    "        return self._nívelDoÓleo\n",
    "        \n",
    "    def setNívelDoÓleo(self, nível):\n",
    "        self._nívelDoÓleo = nível\n",
    "    \n",
    "# Instanciando a classe Carro.\n",
    "carro = Carro()\n",
    "\n",
    "# Alterando o valor da kilometragem.\n",
    "carro.setKilometragem(35000)\n",
    "\n",
    "# Obtendo o valor da kilometragem.\n",
    "print('Kilometragem:', carro.getKilometragem())\n",
    "\n",
    "# Alterando o nível do óleo.\n",
    "carro.setNívelDoÓleo(2.0)\n",
    "\n",
    "# Obtendo o nível do óleo.\n",
    "print('Nível do óleo:', carro.getNívelDoÓleo())"
   ]
  },
  {
   "cell_type": "markdown",
   "metadata": {},
   "source": [
    "### Exemplo de acesso aos diferentes tipos de membros de uma classe\n",
    "\n",
    "+ No exemplo abaixo, o atributo `modelo` e os métodos `acelerar()` e `printState()` são declarados como tendo acesso público.\n",
    "\n",
    "+ O atributo `_cor` é declarado como protegido e portanto, indicando ao programador, que ele só pode ser acessado dentro da classe `Carro` ou de uma classe que herde de `Carro`.\n",
    "\n",
    "+ Já o atributo `__kilometragem` e o método `__injetarCombustivel()` são declarados como sendo membros privados, e portanto, só podem ser acessados dentro da classe `Carro`."
   ]
  },
  {
   "cell_type": "code",
   "execution_count": 4,
   "metadata": {},
   "outputs": [],
   "source": [
    "class Carro:\n",
    "    \"\"\"Classe que modela diferentes tipos de carros.\"\"\"\n",
    "    \n",
    "    def __init__(self, modelo='VW fusca', cor='branca', kilometragem=100000):\n",
    "        \"\"\"Construtor da classe Carro.\"\"\"\n",
    "        print('Instanciando um objeto do tipo Carro.')\n",
    "        # Membro público.\n",
    "        self.modelo = modelo\n",
    "        # Membro protegido.\n",
    "        self._cor = cor\n",
    "        # Membro privado.\n",
    "        self.__kilometragem = kilometragem\n",
    "        \n",
    "    def acelerar(self):\n",
    "        \"\"\"Método para acelerar o carro.\"\"\"\n",
    "        self.__injetarCombustivel()\n",
    "        print(\"Acelerando carro.\")\n",
    "        \n",
    "    def __injetarCombustivel(self):\n",
    "        \"\"\"Método que injeta combustível no motor.\"\"\"\n",
    "        print(\"Injetando combustível.\")\n",
    "        \n",
    "    def printState(self):\n",
    "        \"\"\"Imprime estado corrente do objeto.\"\"\"\n",
    "        print('Modelo:', self.modelo)\n",
    "        print('Ano de fabricação:', self.__anoFabricacao)\n",
    "        print('Cor:', self._cor)\n",
    "        print('Kilometragem:', self.__kilometragem)"
   ]
  },
  {
   "cell_type": "markdown",
   "metadata": {},
   "source": [
    "**IMPORTANTE**:\n",
    "\n",
    "+ Percebam que os membros protegidos e privados são usados dentro de métodos da classe."
   ]
  },
  {
   "cell_type": "markdown",
   "metadata": {},
   "source": [
    "#### Acessando membros públicos."
   ]
  },
  {
   "cell_type": "code",
   "execution_count": 5,
   "metadata": {},
   "outputs": [
    {
     "name": "stdout",
     "output_type": "stream",
     "text": [
      "Instanciando um objeto do tipo Carro.\n",
      "Injetando combustível.\n",
      "Acelerando carro.\n",
      "Modelo: VW fusca\n"
     ]
    }
   ],
   "source": [
    "# Instanciando um objeto do tipo Carro.\n",
    "carro = Carro()\n",
    "\n",
    "# Invocando o método público acelerar().\n",
    "carro.acelerar()\n",
    "\n",
    "# Acessando o atributo público modelo.\n",
    "print('Modelo:', carro.modelo)"
   ]
  },
  {
   "cell_type": "markdown",
   "metadata": {},
   "source": [
    "#### Acessando membros protegidos."
   ]
  },
  {
   "cell_type": "code",
   "execution_count": 6,
   "metadata": {},
   "outputs": [
    {
     "name": "stdout",
     "output_type": "stream",
     "text": [
      "Cor: branca\n"
     ]
    }
   ],
   "source": [
    "# Acessando um atributo protegido.\n",
    "print('Cor:', carro._cor)"
   ]
  },
  {
   "cell_type": "markdown",
   "metadata": {},
   "source": [
    "#### Acessando membros privados."
   ]
  },
  {
   "cell_type": "code",
   "execution_count": 7,
   "metadata": {},
   "outputs": [
    {
     "ename": "AttributeError",
     "evalue": "'Carro' object has no attribute '__injetarCombustivel'",
     "output_type": "error",
     "traceback": [
      "\u001b[1;31m---------------------------------------------------------------------------\u001b[0m",
      "\u001b[1;31mAttributeError\u001b[0m                            Traceback (most recent call last)",
      "\u001b[1;32m<ipython-input-7-95e47d9a242a>\u001b[0m in \u001b[0;36m<module>\u001b[1;34m\u001b[0m\n\u001b[0;32m      1\u001b[0m \u001b[1;31m# Invocando um método privado.\u001b[0m\u001b[1;33m\u001b[0m\u001b[1;33m\u001b[0m\u001b[1;33m\u001b[0m\u001b[0m\n\u001b[1;32m----> 2\u001b[1;33m \u001b[0mcarro\u001b[0m\u001b[1;33m.\u001b[0m\u001b[0m__injetarCombustivel\u001b[0m\u001b[1;33m(\u001b[0m\u001b[1;33m)\u001b[0m\u001b[1;33m\u001b[0m\u001b[1;33m\u001b[0m\u001b[0m\n\u001b[0m",
      "\u001b[1;31mAttributeError\u001b[0m: 'Carro' object has no attribute '__injetarCombustivel'"
     ]
    }
   ],
   "source": [
    "# Invocando um método privado.\n",
    "carro.__injetarCombustivel()"
   ]
  },
  {
   "cell_type": "code",
   "execution_count": 8,
   "metadata": {},
   "outputs": [
    {
     "ename": "AttributeError",
     "evalue": "'Carro' object has no attribute '__kilometragem'",
     "output_type": "error",
     "traceback": [
      "\u001b[1;31m---------------------------------------------------------------------------\u001b[0m",
      "\u001b[1;31mAttributeError\u001b[0m                            Traceback (most recent call last)",
      "\u001b[1;32m<ipython-input-8-fac08bdec358>\u001b[0m in \u001b[0;36m<module>\u001b[1;34m\u001b[0m\n\u001b[0;32m      1\u001b[0m \u001b[1;31m# Acessando um atributo privado.\u001b[0m\u001b[1;33m\u001b[0m\u001b[1;33m\u001b[0m\u001b[1;33m\u001b[0m\u001b[0m\n\u001b[1;32m----> 2\u001b[1;33m \u001b[0mprint\u001b[0m\u001b[1;33m(\u001b[0m\u001b[1;34m'Kilometragem:'\u001b[0m\u001b[1;33m,\u001b[0m \u001b[0mcarro\u001b[0m\u001b[1;33m.\u001b[0m\u001b[0m__kilometragem\u001b[0m\u001b[1;33m)\u001b[0m\u001b[1;33m\u001b[0m\u001b[1;33m\u001b[0m\u001b[0m\n\u001b[0m",
      "\u001b[1;31mAttributeError\u001b[0m: 'Carro' object has no attribute '__kilometragem'"
     ]
    }
   ],
   "source": [
    "# Acessando um atributo privado.\n",
    "print('Kilometragem:', carro.__kilometragem)"
   ]
  },
  {
   "cell_type": "markdown",
   "metadata": {},
   "source": [
    "### Notação UML para encapsulamento\n",
    "\n",
    "O tipo de acesso dos membros de uma classe é definido por um caracter que precede o nome do membro.\n",
    "\n",
    "+ O tipo de acesso **público** é representado pelo caracter `+`.\n",
    "+ O tipo de acesso **privado** é representado pelo caracter `-`.\n",
    "+ O tipo de acesso **protegido** é representado pelo caracter `#`.\n",
    "\n",
    "<img src=\"../../figures/encapsulation_uml.png\" width=\"150\" height=\"150\">"
   ]
  },
  {
   "cell_type": "markdown",
   "metadata": {},
   "source": [
    "### Tarefas\n",
    "\n",
    "1. <span style=\"color:blue\">**QUIZ - Encapsulamento**</span>: respondam ao questionário sobre encapsulamento no MS teams, por favor.\n",
    "\n",
    "2. <span style=\"color:blue\">**Laboratório #6 (Parte I)**</span>: clique em um dos links abaixo para accessar o notebook com os exercícios do laboratório #6.\n",
    "\n",
    "[![Binder](https://mybinder.org/badge_logo.svg)](https://mybinder.org/v2/gh/zz4fap/python-programming/master?filepath=labs%2Fshort%2FLaboratorio6%20(Parte%20I).ipynb)\n",
    "\n",
    "[![Google Colab](https://badgen.net/badge/Launch/on%20Google%20Colab/blue?icon=terminal)](https://colab.research.google.com/github/zz4fap/python-programming/blob/master/labs/short/Laboratorio6%20(Parte%20I).ipynb)\n",
    "\n",
    "**IMPORTANTE**: Para acessar o material das aulas e realizar as entregas dos exercícios de laboratório, por favor, leiam o tutorial no seguinte link:\n",
    "[Material-das-Aulas](../docs/Acesso-ao-material-das-aulas-resolucao-e-entrega-dos-laboratorios.pdf)"
   ]
  },
  {
   "cell_type": "markdown",
   "metadata": {},
   "source": [
    "## Relacionamentos entre classes\n",
    "\n",
    "Como vocês devem ter percebido, uma classe sozinha não fornece muita funcionalidade a uma aplicação de software. \n",
    "\n",
    "Geralmente, as classes que compõem uma aplicação têm relacionamentos entre si. \n",
    "\n",
    "A vantagem do relacionamento entre classes é a de poder criar classes mais complexas (ou seja, mais especializadas) utilizando objetos de classes menos complexas (ou seja, menos especializadas).\n",
    "\n",
    "O relacionamento entre classes é feito, basicamente, através de **Composição** e **Herança**.\n",
    "\n",
    "### Composição\n",
    "\n",
    "Composição significa que uma classe A **TEM** um objeto de uma classe B. \n",
    "\n",
    "A composição permite a criação de tipos complexos combinando objetos de outras classes. \n",
    "\n",
    "Ela geralmente é uma boa escolha quando um objeto faz parte de outro objeto. \n",
    "\n",
    "Por exemplo, uma classe `Carro` **TEM** um objeto do tipo `Motor`, e portanto, a composição seria a escolha correta para este relacionamento.\n",
    "\n",
    "Com a composição, nós conseguimos criar um objeto, por exemplo uma calculadora, de maior nível de complexidade sem termos que nos preocupar com os detalhes de menor nível. "
   ]
  },
  {
   "cell_type": "markdown",
   "metadata": {},
   "source": [
    "#### Notação UML\n",
    "\n",
    "A representação do relacionamento de **composição** é feita em UML da seguinte forma:\n",
    "\n",
    "<img src=\"../../figures/composition.png\" width=\"400\" height=\"400\">\n",
    "\n",
    "A composição é representada por uma **linha com um losango** conectado à classe que contém objetos de outras classes. \n",
    "\n",
    "O lado composto expressa a cardinalidade (i.e., o número de objetos) do relacionamento. \n",
    "\n",
    "A cardinalidade pode ser expressa das seguintes maneiras:\n",
    "   + Um número indica a quantidade de instâncias de um determinado objeto que estão contidas na classe composta.\n",
    "   + O símbolo `*` indica que a classe composta pode conter uma quantidade variável de instâncias de um dado objeto.\n",
    "   + Um intervalo, por exemplo de `1..4`, indica que a classe composta pode conter um intervalo de instâncias de um dado objeto. O intervalo é indicado com o número mínimo e máximo de instâncias, ou mínimo e muitas instâncias como em `1..*`."
   ]
  },
  {
   "cell_type": "markdown",
   "metadata": {},
   "source": [
    "#### Exemplo\n",
    "\n",
    "Inicialmente, implementamos as classes que farão parte (i.e., compor) da calculadora: `Bateria` , `Teclado`, `Operacoes` e `Display` ."
   ]
  },
  {
   "cell_type": "code",
   "execution_count": 8,
   "metadata": {},
   "outputs": [],
   "source": [
    "# Classe responsável por emular o uso da bateria.\n",
    "class Bateria():\n",
    "    \"\"\"Classe responsável por emular o uso da bateria.\"\"\"\n",
    "    \n",
    "    def __init__(self):\n",
    "        self.carga = 100\n",
    "        self.perdaPorUso = 0.9\n",
    " \n",
    "    def getCarga(self):\n",
    "        self.carga *= self.perdaPorUso\n",
    "        print('Carga da bateria: %1.2f' % (self.carga))\n",
    "        return self.carga"
   ]
  },
  {
   "cell_type": "code",
   "execution_count": 9,
   "metadata": {},
   "outputs": [],
   "source": [
    "# Classe responsável por ler o teclado.\n",
    "class Teclado():\n",
    "    \"\"\"Classe responsável por ler o teclado.\"\"\"\n",
    "    \n",
    "    def __init__(self):\n",
    "        self.values = ()\n",
    " \n",
    "    def valorEntrada(self, values):\n",
    "        self.values = values\n",
    "\n",
    "    def getValor(self):\n",
    "        return self.values"
   ]
  },
  {
   "cell_type": "code",
   "execution_count": 10,
   "metadata": {},
   "outputs": [],
   "source": [
    "# Classe responsável por emular o controlador lógico da calculadora.\n",
    "class Operações():\n",
    "    \"\"\"Classe responsável por emular o controlador lógico da calculadora.\"\"\"\n",
    " \n",
    "    def soma(self, valores):\n",
    "        val = 0\n",
    "        for v in valores:\n",
    "            val = val + v\n",
    " \n",
    "        return val\n",
    " \n",
    "    def subtração(self, valores):\n",
    "        val = 0\n",
    "        for v in valores:\n",
    "            val = val - v\n",
    "        return val"
   ]
  },
  {
   "cell_type": "code",
   "execution_count": 11,
   "metadata": {},
   "outputs": [],
   "source": [
    "# Classe responsável por exibir os valores na tela.\n",
    "class Display():\n",
    "    \"\"\"Classe responsável por exibir os valores na tela.\"\"\"\n",
    "    \n",
    "    def __init__(self):\n",
    "        self.brilho = 100\n",
    " \n",
    "    def mostrarTexto(self, texto):\n",
    "        print('Resultado da operação:', texto)"
   ]
  },
  {
   "cell_type": "markdown",
   "metadata": {},
   "source": [
    "Agora, criamos a classe `Caculadora` que contém objetos das classes `Bateria`, `Teclado`, `Operacoes` e `Display`, respectivamente. Para isso, vamos implementar o construtor da classe `Caculadora` e dentro dele vamos instanciar cada uma das classes."
   ]
  },
  {
   "cell_type": "code",
   "execution_count": 13,
   "metadata": {},
   "outputs": [],
   "source": [
    "# Criando a classe Calculadora.\n",
    "class Calculadora():\n",
    "    \"\"\"Classe calculadora.\"\"\"\n",
    "    \n",
    "    def __init__(self):\n",
    "        self.bateria   = Bateria()\n",
    "        self.teclado   = Teclado()\n",
    "        self.operações = Operações()\n",
    "        self.display   = Display()\n",
    "        \n",
    "    def novaOperação(self, *valores):\n",
    "        self.teclado.valorEntrada(valores)\n",
    "        self.bateria.getCarga()\n",
    " \n",
    "    def soma(self):\n",
    "        soma = self.operações.soma(self.teclado.getValor())\n",
    "        self.display.mostrarTexto(soma)\n",
    "        self.bateria.getCarga()"
   ]
  },
  {
   "cell_type": "markdown",
   "metadata": {},
   "source": [
    "##### Instanciando e usando a classe calculadora.\n",
    "\n",
    "Agora, instanciamos e usamos um objeto da classe `Calculadora`."
   ]
  },
  {
   "cell_type": "code",
   "execution_count": 16,
   "metadata": {},
   "outputs": [
    {
     "name": "stdout",
     "output_type": "stream",
     "text": [
      "Carga da bateria: 90.00\n",
      "Resultado da operação: 60\n",
      "Carga da bateria: 81.00\n"
     ]
    }
   ],
   "source": [
    "# Instanciando um objeto da classe Calculadora.\n",
    "calc = Calculadora()\n",
    "\n",
    "# Invocando o método de nova operação.\n",
    "calc.novaOperação(10,20,30)\n",
    "\n",
    "# Invocando o método referente à operação de soma.\n",
    "calc.soma()"
   ]
  },
  {
   "cell_type": "markdown",
   "metadata": {},
   "source": [
    "### Herança\n",
    "\n",
    "Herança é outra forma de relacionamento entre classes. \n",
    "\n",
    "Ela é uma maneira de criar uma nova classe que **HERDE** atributos e comportamentos de uma classe existente. \n",
    "\n",
    "A classe recém-criada é uma classe derivada (ou classe filha, herdeira). \n",
    "\n",
    "Da mesma forma, a classe existente é uma classe base (ou classe pai, ou superclasse).\n",
    "\n",
    "Aqui, o relacionamento é do tipo \"Classe A **É** uma classe B\", por exemplo, a classe `Carro` **É** um `Veículo`. \n",
    "\n",
    "Na herança, uma classe filha herda os **atributos** e **métodos** públicos e protegidos da classe base. Vejam a figura abaixo.\n",
    "\n",
    "<img src=\"../../figures/transitividade.png\" width=\"100\" height=\"100\">\n",
    "\n",
    "A herança é **transitiva**, o que significa que uma classe pode herdar de outra classe que herda de outra classe, e assim por diante, até uma classe base. \n",
    "\n",
    "Subclasses podem adicionar novos métodos e/ou substituir a implementação de métodos e/ou valores de atributos da classe base de forma a alterar o comportamento padrão implementado por ela."
   ]
  },
  {
   "cell_type": "markdown",
   "metadata": {},
   "source": [
    "#### Notação UML\n",
    "\n",
    "A notação UML para herança é uma **linha sólida com uma seta** que vai da classe filha (subclasse) e **aponta** para a classe pai (superclasse). \n",
    "\n",
    "Por convenção, a superclasse é desenhada no topo de suas subclasses, conforme mostrado na figura abaixo.\n",
    "\n",
    "<img src=\"../../figures/inheritance.png\" width=\"300\" height=\"300\">"
   ]
  },
  {
   "cell_type": "markdown",
   "metadata": {},
   "source": [
    "#### Herdando de uma classe base\n",
    "\n",
    "Para criar uma classe que herda as funcionalidades de outra classe, passamos a classe pai como um parâmetro ao **definirmos** a classe filha. \n",
    "\n",
    "No exemplo abaixo, a classe `Pato`, herda os atributos e métodos da classe `Pássaro`, que é passada como parâmetro para `Pato`:\n",
    "\n",
    "```python\n",
    "class Pato(Pássaro):\n",
    "```\n",
    "\n",
    "Agora, a classe `Pato` tem os mesmos atributos e métodos da classe `Pássaro`, ou seja, podemos dizer que um `Pato` é um `Pássaro`.\n",
    "\n",
    "##### Exemplo\n",
    "\n",
    "No exemplo abaixo, nós criamos três classes: `Animal` (classe pai), `Pássaro` (classe filha de Animal) e `Pato` (classe filha de Pássaro). \n",
    "\n",
    "Portanto, devido a transitividade, podemos dizer que um objeto da classe `Pato` é um `Pássaro`, que por sua vez é um `Animal`."
   ]
  },
  {
   "cell_type": "code",
   "execution_count": 5,
   "metadata": {},
   "outputs": [],
   "source": [
    "class Animal:\n",
    "    \n",
    "    # Atributos da classe Animal.\n",
    "    pernas = 0\n",
    "    idade = 0\n",
    "    peso = 0\n",
    "    \n",
    "    def __init__(self, idade=0, peso=1.0, pernas=2):\n",
    "        self.pernas = pernas\n",
    "        self.idade = idade\n",
    "        self.peso = peso\n",
    "        print(\"Animal está pronto.\")\n",
    "\n",
    "    def quemSouEu(self):\n",
    "        print(\"Sou um Animal.\")\n",
    "\n",
    "    def comer(self):\n",
    "        print(\"comendo...\")\n",
    "        \n",
    "    def dormir(self):\n",
    "        print(\"dormindo...\")\n",
    "\n",
    "class Pássaro(Animal):\n",
    "    \n",
    "    # Atributos da classe Pássaro.\n",
    "    corDasPenas = ''\n",
    "    tipoDoBico = ''\n",
    "    envergadura = ''    \n",
    "    \n",
    "    def __init__(self, idade=0, peso=1.0, corDasPenas='', tipoDoBico='', envergadura=0.0):\n",
    "        super().__init__(idade, peso)\n",
    "        self.corDasPenas = corDasPenas\n",
    "        self.tipoDoBico = tipoDoBico\n",
    "        self.envergadura = envergadura\n",
    "        print(\"Pássaro está pronto.\")\n",
    "\n",
    "    def quemSouEu(self):\n",
    "        print(\"Sou um Pássaro\")\n",
    "\n",
    "    def voar(self):\n",
    "        print(\"voando...\")\n",
    "        \n",
    "    def piar(self):\n",
    "        print(\"piu, piu!\")        \n",
    "\n",
    "class Pato(Pássaro):\n",
    "\n",
    "    def __init__(self, idade=0, peso=1.0, corDasPenas='', tipoDoBico='pescador', envergadura=2.0):\n",
    "        super().__init__(idade, peso, corDasPenas, tipoDoBico, envergadura)\n",
    "        print(\"Pato está pronto.\")\n",
    "\n",
    "    def quemSouEu(self):\n",
    "        print(\"Sou um Pato\")\n",
    "\n",
    "    def nadar(self):\n",
    "        print(\"nadando...\")"
   ]
  },
  {
   "cell_type": "code",
   "execution_count": 6,
   "metadata": {},
   "outputs": [
    {
     "name": "stdout",
     "output_type": "stream",
     "text": [
      "Animal está pronto.\n",
      "Pássaro está pronto.\n",
      "Pato está pronto.\n",
      "Sou um Pato\n",
      "nadando...\n",
      "voando...\n",
      "comendo...\n",
      "Howard tem 2 pernas!\n"
     ]
    }
   ],
   "source": [
    "# Instanciando a classe Pato.\n",
    "howard = Pato(2, 2.5, 'branco')\n",
    "\n",
    "howard.quemSouEu()\n",
    "howard.nadar()\n",
    "howard.voar()\n",
    "howard.comer()\n",
    "\n",
    "print('Howard tem %d pernas!' % (howard.pernas))"
   ]
  },
  {
   "cell_type": "markdown",
   "metadata": {},
   "source": [
    "#### Observações\n",
    "\n",
    "Toda classe filha herda os métodos públicos e protegidos da classe pai. Podemos ver isso através dos métodos `voar()` e `comer()` sendo acessados pelo objeto da classe `Pato`.\n",
    "\n",
    "Cada uma das classes filhas modificaram (sobreescreveram) o comportamento de suas classes pai. Podemos ver isso nos métodos `quemSouEu()` tanto de `Pássaro` quanto de `Pato`. \n",
    "\n",
    "Lembrem-se que sempre que adicionarmos um método na classe filha com o mesmo nome de um método da classe pai, a herança do método da classe pai será sobreescrita (perdida).\n",
    "\n",
    "Além disso, estendemos o comportamento da classe pai, criando um novo método `nadar()`.\n",
    "\n",
    "#### IMPORTANTE: inicialização da classe pai\n",
    "\n",
    "Quando definimos o método `__init __()` na classe filha, ele não herdará mais a função `__init __()` do pai. Ou seja, a classe filha sobreescreve o comportamento do método `__init __()` da classe pai.\n",
    "\n",
    "Portanto, para executarmos o método `__init __()` da classe pai dentro da classe filha, devemos usar a função `super()` dentro do método `__init __()`, conforme vimos no exemplo acima e mostrado no trecho abaixo.\n",
    "\n",
    "```python\n",
    "class Pato(Pássaro):\n",
    "\n",
    "    def __init__(self):\n",
    "        super().__init__()\n",
    "```\n",
    "\n",
    "Outra forma de executarmos o método `__init __()` da classe pai dentro do `__init __()` da classe filha sem utilizar a função `super()` é através do nome da classe pai:\n",
    "\n",
    "```python\n",
    "class Pato(Pássaro):\n",
    "\n",
    "    def __init__(self):\n",
    "        Pássaro.__init__()\n",
    "```\n",
    "\n",
    "Desta forma, para mantermos a inicialização da classe pai, sempre que criamos o método `__init __()` na classe filha, invocamos o `__init __()` da classe pai dentro dele.\n",
    "\n",
    "#### Ordem de inicialização dos objetos\n",
    "\n",
    "Vejam no exemplo abaixo que quando instanciamos um objeto da classe `Pato` a ordem de inicialização é da classe de mais alta hierarquia para a mais baixa, assim, `Animal` e depois `Pássaro` são inicializados antes da inicialização de `Pato`."
   ]
  },
  {
   "cell_type": "code",
   "execution_count": 43,
   "metadata": {},
   "outputs": [
    {
     "name": "stdout",
     "output_type": "stream",
     "text": [
      "Animal está pronto.\n",
      "Pássaro está pronto.\n",
      "Pato está pronto.\n"
     ]
    }
   ],
   "source": [
    "# Instanciando a classe Pato.\n",
    "howard = Pato()"
   ]
  },
  {
   "cell_type": "markdown",
   "metadata": {},
   "source": [
    "### Tarefa\n",
    "\n",
    "1. <span style=\"color:blue\">**QUIZ - Relacionamentos entre classes**</span>: respondam ao questionário sobre relacionamentos entre classes no MS teams, por favor."
   ]
  },
  {
   "cell_type": "markdown",
   "metadata": {},
   "source": [
    "## Polimorfismo\n",
    "\n",
    "Polimorfismo é o princípio pelo qual objetos de diferentes tipos com métodos com a mesma **assinatura** (i.e., mesmo nome e quantidade de parâmetros de entrada), mas com comportamentos diferentes sejam tratados da mesma forma. \n",
    "\n",
    "Em outras palavras, o polimorfismo permite que objetos de diferentes tipos e com diferentes funcionalidades sejam tratados como o mesmo tipo. \n",
    "\n",
    "Vejamos alguns exemplos.\n",
    "\n",
    "### Polimorfismo com métodos de classes\n",
    "\n",
    "No exemplo abaixo, nós criamos um laço que itera através de uma tupla (poderia ser uma lista, ou dicionário, por exemplo) de objetos de tipos diferentes mas que possuem um método com a mesma **assinatura**. \n",
    "\n",
    "Percebam que com este tipo de polimorfismo podemos chamar os métodos sem termos que verificar a classe a que o objeto pertence."
   ]
  },
  {
   "cell_type": "code",
   "execution_count": 11,
   "metadata": {},
   "outputs": [
    {
     "name": "stdout",
     "output_type": "stream",
     "text": [
      "Eu sou um gato. Meu nome é Tom e eu tenho 2.50 anos.\n",
      "Miau\n",
      "Eu sou um cachorro. Meu nome é Toto e eu tenho 4.00 anos.\n",
      "Au\n"
     ]
    }
   ],
   "source": [
    "class Gato:\n",
    "    \"\"\"Classe Gato\"\"\"\n",
    "    \n",
    "    def __init__(self, nome, idade):\n",
    "        self.nome = nome\n",
    "        self.idade = idade\n",
    "\n",
    "    def info(self):\n",
    "        print(\"Eu sou um gato. Meu nome é %s e eu tenho %1.2f anos.\" % (self.nome, self.idade))\n",
    "\n",
    "    def falar(self):\n",
    "        print(\"Miau\")\n",
    "\n",
    "class Cachorro:\n",
    "    \"\"\"Classe Cachorro\"\"\"\n",
    "    \n",
    "    def __init__(self, nome, idade):\n",
    "        self.nome = nome\n",
    "        self.idade = idade\n",
    "        \n",
    "    def info(self):\n",
    "        print(\"Eu sou um cachorro. Meu nome é %s e eu tenho %1.2f anos.\" % (self.nome, self.idade))\n",
    "\n",
    "    def falar(self):\n",
    "        print(\"Au\")\n",
    "\n",
    "# Instanciando 2 objetos diferentes.\n",
    "gato = Gato(\"Tom\", 2.5)\n",
    "cachorro = Cachorro(\"Toto\", 4)\n",
    "\n",
    "# Invocando métodos com mesma assinatura, mas de classes diferentes.\n",
    "for animal in (gato, cachorro):\n",
    "    animal.info()\n",
    "    animal.falar()"
   ]
  },
  {
   "cell_type": "markdown",
   "metadata": {},
   "source": [
    "Vejam que ambas as classes, `Gato`  e `Cachorro`, implementam os métodos `falar()` e `info()`, mas que a saída deles é diferente."
   ]
  },
  {
   "cell_type": "markdown",
   "metadata": {},
   "source": [
    "### Polimorfismo com funções e objetos\n",
    "\n",
    "O exemplo abaixo usa a função `cutucarAnimal(objeto)` para cutucar o animal que é passado para ela como argumento. \n",
    "\n",
    "Cada uma das chamadas de `cutucarAnimal(objeto)` irá invocar o método `falar()` do objeto correspondente."
   ]
  },
  {
   "cell_type": "code",
   "execution_count": 14,
   "metadata": {},
   "outputs": [
    {
     "name": "stdout",
     "output_type": "stream",
     "text": [
      "Miau\n",
      "Au\n"
     ]
    }
   ],
   "source": [
    "def cutucarAnimal(objeto):\n",
    "    objeto.falar()\n",
    "\n",
    "gato = Gato(\"Bichano\", 2.5)\n",
    "cachorro = Cachorro(\"Toto\", 4)\n",
    "\n",
    "cutucarAnimal(gato)\n",
    "cutucarAnimal(cachorro)"
   ]
  },
  {
   "cell_type": "markdown",
   "metadata": {},
   "source": [
    "### Polimorfismo com herança \n",
    "\n",
    "Devido a herança, uma classe filha herda os métodos da classe pai. \n",
    "\n",
    "No entanto, é possível modificar, na classe filha, o comportamento desses métodos herdados da classe pai. \n",
    "\n",
    "Isso é particularmente útil nos casos em que o comportamento do método herdado da classe pai não se encaixa perfeitamente com o comportamento da classe filha. \n",
    "\n",
    "Nesses casos, reimplementamos o método na classe filha. \n",
    "\n",
    "**IMPORTANTE**: Se por alguma razão você ainda desejar acessar o método sobrescrito da classe pai na classe filha, você pode chamá-lo usando a função `super()`."
   ]
  },
  {
   "cell_type": "code",
   "execution_count": 20,
   "metadata": {},
   "outputs": [
    {
     "name": "stdout",
     "output_type": "stream",
     "text": [
      "Veículo acelerando...\n",
      "Carro acelerando...\n"
     ]
    }
   ],
   "source": [
    "class Veículo:\n",
    "    \n",
    "    def acelerar(self):\n",
    "        print('Veículo acelerando...')\n",
    "        \n",
    "class Carro(Veículo):\n",
    "    \n",
    "    def acelerar(self):\n",
    "        super().acelerar()\n",
    "        print('Carro acelerando...')\n",
    "\n",
    "# Instanciando e usando um objeto do tipo Carro\n",
    "carro = Carro()\n",
    "carro.acelerar()"
   ]
  },
  {
   "cell_type": "markdown",
   "metadata": {},
   "source": [
    "No exemplo abaixo nós veremos que o método `intro()` não é substituido na classe filha e portanto, quando se invoca esse método com o objeto da classe filha, é a implementação de `intro()` da classe pai que é executada.\n",
    "\n",
    "Porém, devido ao polimorfismo, o interpretador reconhece automaticamente que o método `voar()` da classe pai foi sobrescrito. Então, ele usa aquele definido na classe filha."
   ]
  },
  {
   "cell_type": "code",
   "execution_count": 21,
   "metadata": {},
   "outputs": [
    {
     "name": "stdout",
     "output_type": "stream",
     "text": [
      "Existem muitos tipos de pássaros.\n",
      "A maioria dos pássaros voa, mas alguns não conseguem.\n",
      "-----------------\n",
      "Existem muitos tipos de pássaros.\n",
      "Pardais podem voar.\n",
      "-----------------\n",
      "Existem muitos tipos de pássaros.\n",
      "Avestruzes não podem voar.\n"
     ]
    }
   ],
   "source": [
    "class Pássaro: \n",
    "    def intro(self): \n",
    "        print(\"Existem muitos tipos de pássaros.\") \n",
    "      \n",
    "    def voar(self): \n",
    "        print(\"A maioria dos pássaros voa, mas alguns não conseguem.\")\n",
    "\n",
    "class Pardal(Pássaro): \n",
    "    def voar(self): \n",
    "        print(\"Pardais podem voar.\") \n",
    "\n",
    "class Avestruz(Pássaro): \n",
    "    def voar(self): \n",
    "        print(\"Avestruzes não podem voar.\")\n",
    "        \n",
    "# Definição da função que faz com que os pássaros voem.\n",
    "def fazerPassaroVoar(obj):\n",
    "    obj.intro()\n",
    "    obj.voar()\n",
    "\n",
    "# Instanciando os pássaros.\n",
    "obj1 = Pássaro()\n",
    "obj2 = Pardal()\n",
    "obj3 = Avestruz()\n",
    "\n",
    "# Fazendo com que os pássaros voem.\n",
    "fazerPassaroVoar(obj1)\n",
    "print('-----------------')\n",
    "fazerPassaroVoar(obj2)\n",
    "print('-----------------')\n",
    "fazerPassaroVoar(obj3)"
   ]
  },
  {
   "cell_type": "markdown",
   "metadata": {},
   "source": [
    "**IMPORTANTE**: A **sobrecarga de métodos**, uma maneira de se criar vários métodos com o mesmo nome, mas com quantidade de parâmetros diferentes, não é possível em Python."
   ]
  },
  {
   "cell_type": "markdown",
   "metadata": {},
   "source": [
    "## Tarefas\n",
    "\n",
    "1. <span style=\"color:blue\">**QUIZ - Polimorfismo**</span>: respondam ao quiz sobre polimorfismo no MS teams, por favor.\n",
    "2. <span style=\"color:blue\">**Laboratório #6 (Parte II)**</span>: clique em um dos links abaixo para accessar o notebook com os exercícios do laboratório #6.\n",
    "\n",
    "[![Binder](https://mybinder.org/badge_logo.svg)](https://mybinder.org/v2/gh/zz4fap/python-programming/master?filepath=labs%2Fshort%2FLaboratorio6%20(Parte%20II).ipynb)\n",
    "\n",
    "[![Google Colab](https://badgen.net/badge/Launch/on%20Google%20Colab/blue?icon=terminal)](https://colab.research.google.com/github/zz4fap/python-programming/blob/master/labs/short/Laboratorio6%20(Parte%20II).ipynb)\n",
    "\n",
    "**IMPORTANTE**: Para acessar o material das aulas e realizar as entregas dos exercícios de laboratório, por favor, leiam o tutorial no seguinte link:\n",
    "[Material-das-Aulas](../docs/Acesso-ao-material-das-aulas-resolucao-e-entrega-dos-laboratorios.pdf)"
   ]
  },
  {
   "cell_type": "markdown",
   "metadata": {},
   "source": [
    "## Avisos\n",
    "\n",
    "* Se atentem aos prazos de entrega das tarefas na aba de **Avaliações** do MS Teams.\n",
    "* Horário de atendimento do Professor: todas as Segundas-feiras das 18:30 às 19:30 e Quartas-feiras das 15:30 às 16:30.\n",
    "* Horário de atendimento do Monitor (Maycol): todas as Terças-feiras das 18:00 às 19:00.\n",
    "* Atendimentos via MS Teams enquanto as aulas presenciais não retornam."
   ]
  },
  {
   "cell_type": "markdown",
   "metadata": {},
   "source": [
    "<img src=\"../../figures/obrigado.png\" width=\"1000\" height=\"1000\">"
   ]
  }
 ],
 "metadata": {
  "kernelspec": {
   "display_name": "Python 3",
   "language": "python",
   "name": "python3"
  },
  "language_info": {
   "codemirror_mode": {
    "name": "ipython",
    "version": 3
   },
   "file_extension": ".py",
   "mimetype": "text/x-python",
   "name": "python",
   "nbconvert_exporter": "python",
   "pygments_lexer": "ipython3",
   "version": "3.7.7"
  }
 },
 "nbformat": 4,
 "nbformat_minor": 4
}
