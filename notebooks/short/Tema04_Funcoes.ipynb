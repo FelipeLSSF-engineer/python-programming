{
 "cells": [
  {
   "cell_type": "markdown",
   "metadata": {},
   "source": [
    "# Funções\n",
    "\n",
    "## Introdução\n",
    "\n",
    "Funções são partes importantíssimas de todas as linguagens de programação. \n",
    "\n",
    "Como já vimos rapidamente em aulas anteriores, elas contêm blocos de código que podem ser acessados através de um nome (ou seja, o nome da função) e que executam tarefas específicas.\n",
    "\n",
    "## Características das funções\n",
    "\n",
    "+ Uma função contém um **bloco de código** **organizado** e **reutilizável** que é usado para realizar uma única tarefa.\n",
    "+ Uma boa prática é que o nome de uma função deve ser um indicativo desta única tarefa realizada por ela.\n",
    "+ As funções fornecem melhor **modularidade** para seu programa e um alto grau de **reutilização** de código.\n",
    "+ Além disto, tornar partes do seu programa em funções, facilita sua **depuração**.\n",
    "+ Em Python, existem funções definidas por nós usuários e também as definidas pela própria linguagem, também chamadas de funções **embutidas**, ou **built-in**, do Inglês. \n",
    "    * Por exemplo, as funções `print()`, que imprime na tela uma string, e `str()`, que converte um objeto em string.\n",
    "+ Funções podem ou não retornar valores.\n",
    "    \n",
    "## Definindo uma função\n",
    "\n",
    "+ Uma função é definida usando-se a palavra-chave `def` seguida do nome da função, da sequência de parâmetros e de `:`.\n",
    "\n",
    "```python\n",
    "def myFunction(parametro1, parametro2, ...):\n",
    "```\n",
    "\n",
    "+ Em seguida, podemos ter opcionalmente, uma **docstring** explicando o que a função faz. O objetivo das **docstrings** é servir de documentação para aquela estrutura.\n",
    "\n",
    "```python\n",
    "def myFunction(parametro1, parametro2, ...):\n",
    "    \"\"\"Esta função executa a seguinte tarefa.\"\"\"\n",
    "```\n",
    "\n",
    "+ O bloco de código de uma função sempre começa em um nível mais à direita do cabeçalho. Podemos usar tabs ou 3 espaços.\n",
    "\n",
    "```python\n",
    "def myFunction(parametro1, parametro2, ...):\n",
    "    \"\"\"Esta função executa a seguinte tarefa.\"\"\"\n",
    "    # bloco de codigo da funcao\n",
    "```\n",
    "\n",
    "#### Exemplo: Definindo uma função."
   ]
  },
  {
   "cell_type": "code",
   "execution_count": 10,
   "metadata": {},
   "outputs": [],
   "source": [
    "# Vejam que se a célula for executada, nada acontece.\n",
    "# Esta função não recebe nenhum argumento de entrada.\n",
    "def minhaFunção():\n",
    "    \"\"\"Esta é uma função de saudação.\"\"\"\n",
    "    print(\"Olá, sou uma função.\")"
   ]
  },
  {
   "cell_type": "markdown",
   "metadata": {},
   "source": [
    "## Chamando uma função\n",
    "\n",
    "No exemplo abaixo, definimos e depois invocamos uma função."
   ]
  },
  {
   "cell_type": "code",
   "execution_count": 5,
   "metadata": {},
   "outputs": [
    {
     "name": "stdout",
     "output_type": "stream",
     "text": [
      "Olá, sou uma função.\n",
      "docstring da função: Esta é uma função de saudação.\n"
     ]
    }
   ],
   "source": [
    "# Definição da função.\n",
    "def minhaFunção():\n",
    "    \"\"\"Esta é uma função de saudação.\"\"\"\n",
    "    print(\"Olá, sou uma função.\")\n",
    "\n",
    "# Chamando (ou invocando) a função.\n",
    "minhaFunção()\n",
    "\n",
    "# O que esta função faz?\n",
    "print('docstring da função:', minhaFunção.__doc__)"
   ]
  },
  {
   "cell_type": "markdown",
   "metadata": {},
   "source": [
    "## Parâmetros\n",
    "\n",
    "+ Objetos podem ser passados para funções como parâmetros.\n",
    "+ Nós podemos adicionar quantos parâmetros quisermos à lista de parâmetros de entrada de uma função, apenas devemos separá-los com vírgulas.\n",
    "\n",
    "O exemplo a seguir define uma função com 2 parâmetros, `nome` e `idade`. \n",
    "\n",
    "Quando a função é chamada, passamos os argumentos `nome` e `idade`, que são usados dentro da função para imprimir o nome e a idade da pessoa."
   ]
  },
  {
   "cell_type": "code",
   "execution_count": 11,
   "metadata": {},
   "outputs": [
    {
     "name": "stdout",
     "output_type": "stream",
     "text": [
      "José tem 22 anos.\n",
      "Ana tem 65 anos.\n"
     ]
    }
   ],
   "source": [
    "def minhaFunção(nome, idade):\n",
    "    \"\"\"Esta função imprime o nome e a idade de uma pessoa.\"\"\"\n",
    "    print('%s tem %d anos.' % (nome, idade))\n",
    "\n",
    "# Chamando a função.\n",
    "minhaFunção('José', 22)\n",
    "minhaFunção('Ana', 65)"
   ]
  },
  {
   "cell_type": "markdown",
   "metadata": {},
   "source": [
    "## Funções com número arbitrário de parâmetros de entrada\n",
    "\n",
    "+ Caso não saibamos quantos argumentos serão passados para uma função, devemos adicionar um `*` antes do nome do parâmetro de entrada na definição da função.\n",
    "+ Dessa forma, a função receberá uma **tupla** de argumentos e poderá acessar os itens da tupla através de seus índices, como mostrado no exemplo abaixo."
   ]
  },
  {
   "cell_type": "code",
   "execution_count": 13,
   "metadata": {},
   "outputs": [
    {
     "name": "stdout",
     "output_type": "stream",
     "text": [
      "A tupla recebida pela função contém: ('João', 2, 'Ana', 5, 'José', 9)\n",
      "O filho mais novo é João, que tem 2 anos de idade.\n"
     ]
    }
   ],
   "source": [
    "# Definindo uma função com número arbitrário de parâmetros.\n",
    "def minhaFunção(*kids):\n",
    "    \"\"\"Esta função imprime o nome e a idade do filho mais novo.\"\"\"\n",
    "    print('A tupla recebida pela função contém:', kids)\n",
    "    print(\"O filho mais novo é %s, que tem %d anos de idade.\" % (kids[0],kids[1]) )\n",
    "\n",
    "# Chamando a função.\n",
    "minhaFunção(\"João\", 2, \"Ana\", 5, \"José\", 9)"
   ]
  },
  {
   "cell_type": "markdown",
   "metadata": {},
   "source": [
    "## Passando argumentos com palavras-chave\n",
    "\n",
    "Podemos também passar argumentos para uma função usando a sintaxe `chave=valor`. Dessa forma, a ordem dos argumentos não importa."
   ]
  },
  {
   "cell_type": "code",
   "execution_count": 15,
   "metadata": {},
   "outputs": [
    {
     "name": "stdout",
     "output_type": "stream",
     "text": [
      "Funcionário: João, idade: 23 e salário: R$ 1234.56\n"
     ]
    }
   ],
   "source": [
    "# Definindo uma função.\n",
    "def minhaFunção(nome, idade, salário):\n",
    "    '''Função que imprime o nome, idade e salário de um empregado.'''\n",
    "    print('Funcionário: %s, idade: %d e salário: R$ %1.2f' % (nome, idade, salário))\n",
    "\n",
    "# Chamando a função.\n",
    "minhaFunção(salário=1234.56, nome='João', idade=23)"
   ]
  },
  {
   "cell_type": "markdown",
   "metadata": {},
   "source": [
    "## Funções com número arbitrário de parâmetros passados como palavra-chave\n",
    "\n",
    "Se não soubermos quantos argumentos serão passados para uma função com palavras-chave, devemos adicionar dois asteriscos `**` antes do nome do parâmetro na definição da função.\n",
    "\n",
    "Dessa forma, a função receberá um **dicionário** e poderá acessar os itens do dicionário como mostrado no exemplo abaixo."
   ]
  },
  {
   "cell_type": "code",
   "execution_count": 18,
   "metadata": {},
   "outputs": [
    {
     "name": "stdout",
     "output_type": "stream",
     "text": [
      "{'salário': 1234.56, 'nome': 'João', 'idade': 23}\n",
      "Funcionário: João, idade: 23 e salário: R$ 1234.56\n"
     ]
    }
   ],
   "source": [
    "# Definindo uma função com número arbitrário de palavras-chave.\n",
    "def minhaFunção(**empregado):\n",
    "    '''Função que imprime o nome, idade e salário de um empregado.'''\n",
    "    print(empregado)\n",
    "    print('Funcionário: %s, idade: %d e salário: R$ %1.2f' % (empregado['nome'], empregado['idade'], empregado['salário']))\n",
    "\n",
    "# Chamando a função.\n",
    "minhaFunção(salário=1234.56, nome='João', idade=23)"
   ]
  },
  {
   "cell_type": "markdown",
   "metadata": {},
   "source": [
    "## Valor padrão de um parâmetro \n",
    "\n",
    "Podemos definir valores padrão para os parâmetros de entrada de uma função.\n",
    "\n",
    "O exemplo a seguir mostra como usar um valor de parâmetro padrão. \n",
    "\n",
    "No primeiro exemplo, se chamarmos a função sem nenhum argumento, ela usará os valores padrão definidos em usa lista de parâmetros."
   ]
  },
  {
   "cell_type": "code",
   "execution_count": 20,
   "metadata": {},
   "outputs": [
    {
     "name": "stdout",
     "output_type": "stream",
     "text": [
      "Funcionário: José, idade: 22 e salário: 1000.00 R$\n"
     ]
    }
   ],
   "source": [
    "def minhaFunção(nome='José', idade=22, salário=1000.00):\n",
    "    '''Função que imprime o nome, idade e salário de um empregado.'''\n",
    "    print('Funcionário: %s, idade: %d e salário: R$ %1.2f' % (nome, idade, salário))\n",
    "\n",
    "# Chamando a função.\n",
    "minhaFunção()"
   ]
  },
  {
   "cell_type": "markdown",
   "metadata": {},
   "source": [
    "No próximo exemplo, definimos apenas um valor padrão para o último parâmetro."
   ]
  },
  {
   "cell_type": "code",
   "execution_count": 28,
   "metadata": {},
   "outputs": [
    {
     "name": "stdout",
     "output_type": "stream",
     "text": [
      "Funcionário: Ana, idade: 45 e salário: R$ 1000.00\n"
     ]
    }
   ],
   "source": [
    "def minhaFunção(nome, idade, salário=1000.00):\n",
    "    '''Função que imprime o nome, idade e salário de um empregado.'''\n",
    "    print('Funcionário: %s, idade: %d e salário: R$ %1.2f' % (nome, idade, salário))\n",
    "\n",
    "# Chamando a função.\n",
    "minhaFunção('Ana', 45)"
   ]
  },
  {
   "cell_type": "markdown",
   "metadata": {},
   "source": [
    "No último exemplo, definimos valores padrão para o penúltimo e último parâmetros."
   ]
  },
  {
   "cell_type": "code",
   "execution_count": 30,
   "metadata": {},
   "outputs": [
    {
     "name": "stdout",
     "output_type": "stream",
     "text": [
      "Funcionário: João, idade: 33 e salário: R$ 2222.00\n"
     ]
    }
   ],
   "source": [
    "def minhaFunção(nome, idade=33, salário=2222.00):\n",
    "    '''Função que imprime o nome, idade e salário de um empregado.'''\n",
    "    print('Funcionário: %s, idade: %d e salário: R$ %1.2f' % (nome, idade, salário))\n",
    "\n",
    "# Chamando a função.\n",
    "minhaFunção('João')"
   ]
  },
  {
   "cell_type": "code",
   "execution_count": 38,
   "metadata": {},
   "outputs": [
    {
     "ename": "SyntaxError",
     "evalue": "non-default argument follows default argument (<ipython-input-38-ac21314ece32>, line 1)",
     "output_type": "error",
     "traceback": [
      "\u001b[1;36m  File \u001b[1;32m\"<ipython-input-38-ac21314ece32>\"\u001b[1;36m, line \u001b[1;32m1\u001b[0m\n\u001b[1;33m    def minhaFunção(nome='Ana', idade, salário):\u001b[0m\n\u001b[1;37m                     ^\u001b[0m\n\u001b[1;31mSyntaxError\u001b[0m\u001b[1;31m:\u001b[0m non-default argument follows default argument\n"
     ]
    }
   ],
   "source": [
    "def minhaFunção(nome='Ana', idade, salário):\n",
    "    '''Função que imprime o nome, idade e salário de um empregado.'''\n",
    "    print('Funcionário: %s, idade: %d e salário: R$ %1.2f' % (nome, idade, salário))\n",
    "\n",
    "# Chamando a função.\n",
    "minhaFunção(33, 2222.00)"
   ]
  },
  {
   "cell_type": "markdown",
   "metadata": {},
   "source": [
    "## Retornando valores\n",
    "\n",
    "Nós utilizamos a instrução `return` para permitir que uma função retorne um ou mais valores."
   ]
  },
  {
   "cell_type": "code",
   "execution_count": 12,
   "metadata": {},
   "outputs": [
    {
     "name": "stdout",
     "output_type": "stream",
     "text": [
      "15\n"
     ]
    }
   ],
   "source": [
    "def minhaFunção(x):\n",
    "    '''Função que retorna a multiplicação de um número qualquer por 5.'''\n",
    "    return 5 * x\n",
    "\n",
    "print(minhaFunção(3))"
   ]
  },
  {
   "cell_type": "markdown",
   "metadata": {},
   "source": [
    "Para retornar mais de um valor use virgulas para separar os valores de retorno. Estritamente falando, uma função em Python que retorna vários valores, na verdade, retorna uma **tupla** contendo cada valor."
   ]
  },
  {
   "cell_type": "code",
   "execution_count": 35,
   "metadata": {},
   "outputs": [
    {
     "name": "stdout",
     "output_type": "stream",
     "text": [
      "O tipo do retorno é: <class 'tuple'>\n",
      "Os valores de retorno são: (60, 6.0)\n",
      "\n",
      "O tipo de a é: <class 'int'>\n",
      "O tipo de b é: <class 'float'>\n",
      "Os valores de retorno são: 60\n",
      "Os valores de retorno são: 6.0\n"
     ]
    }
   ],
   "source": [
    "def minhaFunção(x):\n",
    "    '''Função que retorna o resultado de duas operações.'''\n",
    "    return 5 * x, x / 2\n",
    "\n",
    "valores = minhaFunção(12)\n",
    "print('O tipo do retorno é:', type(valores))\n",
    "print('Os valores de retorno são:', valores)\n",
    "\n",
    "# Outra forma válida de receber os valores de retorno é desempacotando\n",
    "# a tupla que é retornada pela função.\n",
    "a, b = minhaFunção(12)\n",
    "print('\\nO tipo de a é:', type(a))\n",
    "print('O tipo de b é:', type(b))\n",
    "print('Os valores de retorno são:', a)\n",
    "print('Os valores de retorno são:', b)"
   ]
  },
  {
   "cell_type": "markdown",
   "metadata": {},
   "source": [
    "O retorno de valores é opcional, porém, por padrão, uma função sem retorno explícito sempre retorna o valor `None` , ou seja, o valor nulo."
   ]
  },
  {
   "cell_type": "code",
   "execution_count": 36,
   "metadata": {},
   "outputs": [
    {
     "name": "stdout",
     "output_type": "stream",
     "text": [
      "O nome da pessoa é: Ana\n",
      "O valor de retorno da função é: None\n"
     ]
    }
   ],
   "source": [
    "# Definindo uma função sem valor de retorno explícito.\n",
    "def minhaFunção(nome):\n",
    "    '''Função que imprime um nome.'''\n",
    "    print('O nome da pessoa é:', nome)\n",
    "    \n",
    "# Chamando a função e atribuindo seu retorno a uma variável.\n",
    "valorDeRetorno = minhaFunção('Ana')\n",
    "print('O valor de retorno da função é:', valorDeRetorno)"
   ]
  },
  {
   "cell_type": "markdown",
   "metadata": {},
   "source": [
    "## Namespace\n",
    "\n",
    "Funções tem **namespace próprio** ou seja, elas têm **escopo local**, e por isso podem ofuscar definições de escopo global."
   ]
  },
  {
   "cell_type": "code",
   "execution_count": 37,
   "metadata": {},
   "outputs": [
    {
     "name": "stdout",
     "output_type": "stream",
     "text": [
      "Valor da variável global var: 12\n",
      "Valor da variável global var após chamada da função: 12\n"
     ]
    }
   ],
   "source": [
    "# variável global.\n",
    "var = 12\n",
    "\n",
    "# Definição de uma função.\n",
    "def minhaFunção(par):\n",
    "    #global var\n",
    "    var = par\n",
    "    return var\n",
    "    \n",
    "# Imprime valor da variável global.\n",
    "print('Valor da variável global var:', var)\n",
    "# Chama função.\n",
    "minhaFunção(33)\n",
    "# Imprime valor da variável global.\n",
    "print('Valor da variável global var após chamada da função:', var)"
   ]
  },
  {
   "cell_type": "markdown",
   "metadata": {},
   "source": [
    "## Funções embutidas\n",
    "\n",
    "O interpretador da linguagem Python tem várias funções e tipos integrados que estão sempre disponíveis, ou seja, não é necessário se importar um módulo para utilizá-los. Essas funções estão listadas na tabela abaixo em ordem alfabética.\n",
    "\n",
    "Olhando a lista, vocês devem ter identificado algumas funções embutidas que já foram vistas anteriormente.\n",
    "\n",
    "<style type=\"text/css\">\n",
    ".tg  {border-collapse:collapse;border-spacing:0;}\n",
    ".tg td{border-color:black;border-style:solid;border-width:1px;font-family:Arial, sans-serif;font-size:14px;\n",
    "  overflow:hidden;padding:10px 5px;word-break:normal;}\n",
    ".tg th{border-color:black;border-style:solid;border-width:1px;font-family:Arial, sans-serif;font-size:14px;\n",
    "  font-weight:normal;overflow:hidden;padding:10px 5px;word-break:normal;}\n",
    ".tg .tg-c3ow{border-color:inherit;text-align:center;vertical-align:top}\n",
    "</style>\n",
    "<table class=\"tg\">\n",
    "<thead>\n",
    "  <tr>\n",
    "    <th class=\"tg-c3ow\" colspan=\"5\">Funções embutidas</th>\n",
    "  </tr>\n",
    "</thead>\n",
    "<tbody>\n",
    "  <tr>\n",
    "    <td class=\"tg-c3ow\">abs()</td>\n",
    "    <td class=\"tg-c3ow\">delattr()</td>\n",
    "    <td class=\"tg-c3ow\">hash()</td>\n",
    "    <td class=\"tg-c3ow\">memoryview()</td>\n",
    "    <td class=\"tg-c3ow\">set()</td>\n",
    "  </tr>\n",
    "  <tr>\n",
    "    <td class=\"tg-c3ow\">all()</td>\n",
    "    <td class=\"tg-c3ow\">dict()</td>\n",
    "    <td class=\"tg-c3ow\">help()</td>\n",
    "    <td class=\"tg-c3ow\">min()</td>\n",
    "    <td class=\"tg-c3ow\">setattr()</td>\n",
    "  </tr>\n",
    "  <tr>\n",
    "    <td class=\"tg-c3ow\">any()</td>\n",
    "    <td class=\"tg-c3ow\">dir()</td>\n",
    "    <td class=\"tg-c3ow\">hex()</td>\n",
    "    <td class=\"tg-c3ow\">next()</td>\n",
    "    <td class=\"tg-c3ow\">slice()</td>\n",
    "  </tr>\n",
    "  <tr>\n",
    "    <td class=\"tg-c3ow\">ascii()</td>\n",
    "    <td class=\"tg-c3ow\">divmod()</td>\n",
    "    <td class=\"tg-c3ow\">id()</td>\n",
    "    <td class=\"tg-c3ow\">object()</td>\n",
    "    <td class=\"tg-c3ow\">sorted()</td>\n",
    "  </tr>\n",
    "  <tr>\n",
    "    <td class=\"tg-c3ow\">bin()</td>\n",
    "    <td class=\"tg-c3ow\">enumerate()</td>\n",
    "    <td class=\"tg-c3ow\">input()</td>\n",
    "    <td class=\"tg-c3ow\">oct()</td>\n",
    "    <td class=\"tg-c3ow\">staticmethod()</td>\n",
    "  </tr>\n",
    "  <tr>\n",
    "    <td class=\"tg-c3ow\">bool()</td>\n",
    "    <td class=\"tg-c3ow\">eval()</td>\n",
    "    <td class=\"tg-c3ow\">int()</td>\n",
    "    <td class=\"tg-c3ow\">open()</td>\n",
    "    <td class=\"tg-c3ow\">str()</td>\n",
    "  </tr>\n",
    "  <tr>\n",
    "    <td class=\"tg-c3ow\">breakpoint()</td>\n",
    "    <td class=\"tg-c3ow\">exec()</td>\n",
    "    <td class=\"tg-c3ow\">isinstance()</td>\n",
    "    <td class=\"tg-c3ow\">ord()</td>\n",
    "    <td class=\"tg-c3ow\">sum()</td>\n",
    "  </tr>\n",
    "  <tr>\n",
    "    <td class=\"tg-c3ow\">bytearray()</td>\n",
    "    <td class=\"tg-c3ow\">filter()</td>\n",
    "    <td class=\"tg-c3ow\">issubclass()</td>\n",
    "    <td class=\"tg-c3ow\">pow()</td>\n",
    "    <td class=\"tg-c3ow\">super()</td>\n",
    "  </tr>\n",
    "  <tr>\n",
    "    <td class=\"tg-c3ow\">bytes()</td>\n",
    "    <td class=\"tg-c3ow\">float()</td>\n",
    "    <td class=\"tg-c3ow\">iter()</td>\n",
    "    <td class=\"tg-c3ow\">print()</td>\n",
    "    <td class=\"tg-c3ow\">tuple()</td>\n",
    "  </tr>\n",
    "  <tr>\n",
    "    <td class=\"tg-c3ow\">callable()</td>\n",
    "    <td class=\"tg-c3ow\">format()</td>\n",
    "    <td class=\"tg-c3ow\">len()</td>\n",
    "    <td class=\"tg-c3ow\">property()</td>\n",
    "    <td class=\"tg-c3ow\">type()</td>\n",
    "  </tr>\n",
    "  <tr>\n",
    "    <td class=\"tg-c3ow\">chr()</td>\n",
    "    <td class=\"tg-c3ow\">frozenset()</td>\n",
    "    <td class=\"tg-c3ow\">list()</td>\n",
    "    <td class=\"tg-c3ow\">range()</td>\n",
    "    <td class=\"tg-c3ow\">vars()</td>\n",
    "  </tr>\n",
    "  <tr>\n",
    "    <td class=\"tg-c3ow\">classmethod()</td>\n",
    "    <td class=\"tg-c3ow\">getattr()</td>\n",
    "    <td class=\"tg-c3ow\">locals()</td>\n",
    "    <td class=\"tg-c3ow\">repr()</td>\n",
    "    <td class=\"tg-c3ow\">zip()</td>\n",
    "  </tr>\n",
    "  <tr>\n",
    "    <td class=\"tg-c3ow\">compile()</td>\n",
    "    <td class=\"tg-c3ow\">globals()</td>\n",
    "    <td class=\"tg-c3ow\">map()</td>\n",
    "    <td class=\"tg-c3ow\">reversed()</td>\n",
    "    <td class=\"tg-c3ow\">__import__()</td>\n",
    "  </tr>\n",
    "  <tr>\n",
    "    <td class=\"tg-c3ow\">complex()</td>\n",
    "    <td class=\"tg-c3ow\">hasattr()</td>\n",
    "    <td class=\"tg-c3ow\">max()</td>\n",
    "    <td class=\"tg-c3ow\">round()</td>\n",
    "    <td class=\"tg-c3ow\"></td>\n",
    "  </tr>\n",
    "</tbody>\n",
    "</table>\n",
    "\n",
    "Para mais informações e exemplos de uso destas funções embutidas, por favor, visitem: https://docs.python.org/3/library/functions.html"
   ]
  },
  {
   "cell_type": "markdown",
   "metadata": {},
   "source": [
    "## Funções matemáticas\n",
    "\n",
    "O módulo `math` é um módulo padrão da linguagem Python e está sempre disponível (ou seja, não precisa ser instalado), bastando apenas ser importado. Para usar as funções matemáticas disponibilizadas pelo módulo, você deve importar o módulo usando `import math`.\n",
    "\n",
    "**OBS.**: Este módulo não suporta tipos de dados complexos. O módulo `cmath` é a contraparte complexa do módulo `math`.\n",
    "\n",
    "A tabela abaixo apresenta todas as funções e constantes definidas no módulo `math` com uma breve explicação do que elas fazem.\n",
    "\n",
    "|     Função     |                                            Descrição                                            |\n",
    "|:--------------:|:-----------------------------------------------------------------------------------------------:|\n",
    "|     ceil(x)    | Retorna o menor inteiro maior ou igual a x.                                                     |\n",
    "| copysign(x, y) | Retorna x com o sinal de y                                                                      |\n",
    "|     fabs(x)    | Retorna o valor absoluto de x                                                                   |\n",
    "|  factorial(x)  | Retorna o fatorial de x                                                                         |\n",
    "|    floor(x)    | Retorna o maior inteiro menor ou igual a x                                                      |\n",
    "|   fmod(x, y)   | Retorna o resto quando x é dividido por y                                                       |\n",
    "|    frexp(x)    | Retorna a mantissa e o expoente de x como o par (m, e)                                          |\n",
    "| fsum(iterable) | Retorna uma soma de valores de ponto flutuante precisa no iterável                              |\n",
    "|   isfinite(x)  | Retorna verdadeiro se x não for infinito nem NaN (não é um número)                              |\n",
    "|    isinf(x)    | Retorna True se x for um infinito positivo ou negativo                                          |\n",
    "|    isnan(x)    | Retorna True se x for um NaN                                                                    |\n",
    "|   ldexp(x, i)  | Retorna x * (2 ** i)                                                                            |\n",
    "|     modf(x)    | Retorna as partes fracionárias e inteiras de x                                                  |\n",
    "|    trunc(x)    | Retorna o valor inteiro truncado de x                                                           |\n",
    "|     exp(x)     | Retorna e ** x                                                                                  |\n",
    "|    expm1(x)    | Retorna e ** x - 1                                                                              |\n",
    "| log(x[, base]) | Retorna o logaritmo de x para a base definida (por padrão, a base é `e`)                                             |\n",
    "|    log1p(x)    | Retorna o logaritmo natural de 1 + x                                                            |\n",
    "|     log2(x)    | Retorna o logaritmo de base 2 de x                                                              |\n",
    "|    log10(x)    | Retorna o logaritmo de base 10 de x                                                             |\n",
    "|    pow(x, y)   | Retorna x elevado à potência y                                                                  |\n",
    "|     sqrt(x)    | Retorna a raiz quadrada de x                                                                    |\n",
    "|     acos(x)    | Retorna o arco cosseno de x                                                                     |\n",
    "|     asin(x)    | Retorna o arco seno de x                                                                        |\n",
    "|     atan(x)    | Retorna o arco tangente de x                                                                    |\n",
    "|   atan2(y, x)  | Retorna atan (y / x)                                                                            |\n",
    "|     cos(x)     | Retorna o cosseno de x                                                                          |\n",
    "|   hypot(x, y)  | Retorna a norma euclidiana, sqrt (x * x + y * y)                                                |\n",
    "|     sin(x)     | Retorna o seno de x                                                                             |\n",
    "|     tan(x)     | Retorna a tangente de x                                                                         |\n",
    "|   degrees(x)   | Converte o ângulo x de radianos para graus                                                      |\n",
    "|   radians(x)   | Converte o ângulo x de graus para radianos                                                      |\n",
    "|    acosh(x)    | Retorna o cosseno hiperbólico inverso de x                                                      |\n",
    "|    asinh(x)    | Retorna o seno hiperbólico inverso de x                                                         |\n",
    "|    atanh(x)    | Retorna a tangente hiperbólica inversa de x                                                     |\n",
    "|     cosh(x)    | Retorna o cosseno hiperbólico de x                                                              |\n",
    "|     sinh(x)    | Retorna o cosseno hiperbólico de x                                                              |\n",
    "|     tanh(x)    | Retorna a tangente hiperbólica de x                                                             |\n",
    "|     erf(x)     | Retorna a função de erro em x                                                                   |\n",
    "|     erfc(x)    | Retorna a função de erro complementar para x                                                      |\n",
    "|    gamma(x)    | Retorna a função Gamma para x                                                                     |\n",
    "|    lgamma(x)   | Retorna o logaritmo natural do valor absoluto da função Gamma para x                              |\n",
    "|       pi       | Constante matemática, a razão entre a circunferência de um círculo e seu diâmetro (3.14159 ...) |\n",
    "|        e       | Constante matemática `e` (2,71828 ...)                                                            |\n",
    "\n",
    "Para mais informações e exemplos de uso das funções matemáticas disponibilizadas pelo móulo `math`, por favor, visitem: https://docs.python.org/3/library/math.html"
   ]
  },
  {
   "cell_type": "markdown",
   "metadata": {},
   "source": [
    "## Tarefas\n",
    "\n",
    "1. <span style=\"color:blue\">**QUIZ - Funções**</span>: respondam ao questionário sobre funções no MS teams, por favor. \n",
    "2. <span style=\"color:blue\">**Laboratório #5**</span>: cliquem em um dos links abaixo para accessar os exercícios do laboratório #5.\n",
    "\n",
    "[![Binder](https://mybinder.org/badge_logo.svg)](https://mybinder.org/v2/gh/zz4fap/python-programming/master?filepath=labs%2FLaboratorio5.ipynb)\n",
    "\n",
    "[![Google Colab](https://badgen.net/badge/Launch/on%20Google%20Colab/blue?icon=terminal)](https://colab.research.google.com/github/zz4fap/python-programming/blob/master/labs/Laboratorio5.ipynb)\n",
    "\n",
    "**IMPORTANTE**: Para acessar o material das aulas e realizar as entregas dos exercícios de laboratório, por favor, leiam o tutorial no seguinte link:\n",
    "[Material-das-Aulas](../docs/Acesso-ao-material-das-aulas-resolucao-e-entrega-dos-laboratorios.pdf)"
   ]
  },
  {
   "cell_type": "markdown",
   "metadata": {},
   "source": [
    "## Avisos\n",
    "\n",
    "* Se atentem aos prazos de entrega das tarefas na aba de **Avaliações** do MS Teams.\n",
    "* Horário de atendimento do Professor: todas as Segundas-feiras das 18:30 às 19:30 e Quartas-feiras das 15:30 às 16:30.\n",
    "* Horário de atendimento do Monitor (Maycol): todas as Terças-feiras das 18:00 às 19:00.\n",
    "* Atendimentos via MS Teams enquanto as aulas presenciais não retornam."
   ]
  },
  {
   "cell_type": "markdown",
   "metadata": {},
   "source": [
    "<img src=\"../../figures/obrigado.png\" width=\"1000\" height=\"1000\">"
   ]
  }
 ],
 "metadata": {
  "kernelspec": {
   "display_name": "Python 3",
   "language": "python",
   "name": "python3"
  },
  "language_info": {
   "codemirror_mode": {
    "name": "ipython",
    "version": 3
   },
   "file_extension": ".py",
   "mimetype": "text/x-python",
   "name": "python",
   "nbconvert_exporter": "python",
   "pygments_lexer": "ipython3",
   "version": "3.7.7"
  }
 },
 "nbformat": 4,
 "nbformat_minor": 4
}
