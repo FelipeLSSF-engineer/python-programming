{
 "cells": [
  {
   "cell_type": "markdown",
   "metadata": {},
   "source": [
    "# Bancos de dados"
   ]
  },
  {
   "cell_type": "markdown",
   "metadata": {},
   "source": [
    "## Introdução\n",
    "\n",
    "Seu nome, endereço, a placa do seu carro, seu histórico de compras no cartão de crédito, a foto que você publicou nas redes sociais, sua estadia em um hotel, etc. Tudo isso e muito, muito mais está armazenado em bancos de dados.\n",
    "\n",
    "Portanto, uma parte fundamental de praticamente qualquer software é a base de dados. Uma base de dados nada mais é do que uma coleção organizada de dados (i.e., informações) que se **relacionam** de forma a terem algum sentido. Essas informações são armazenadas em dispositivos de **armazenamento permanente**, tais como discos rígidos, para que persistam mesmo depois que o programa termine. Os bancos de dados podem ser acessados localmente ou remotamente.\n",
    "\n",
    "Os bancos de dados são operados pelo o que chamamos de Sistemas Gerenciadores de Bancos de Dados (SGBD), os quais provêem acesso consistente e confiável às informações. Os SGBDs permitem que os dados sejam armazenados, organizados, protegidos, atualizados, acrescentados, excluídos e acessados sempre que necessário. Por questões de praticidade, convencionou-se chamar os SGBDs simplesmente de bancos de dados.\n",
    "\n",
    "<img src=\"../figures/database1.png\" width=\"300\" height=\"300\">\n",
    "\n",
    "Os bancos de dados atendem a praticamente qualquer tipo de aplicação. E é por esse motivo que não existe apenas um modelo de banco de dados. Existem vários modelos de base de bados: Modelo Plano (ou tabular), Modelo em Rede, Modelo Hierárquico, Modelo Relacional, Orientado a objetos e Objeto-Relacional.\n",
    "\n",
    "O modelo mais conhecido e utilizado é o **relacional**, o qual veremos nesta aula. Nesse modelo, os dados são estruturados em forma de **tabelas** cujas colunas e linhas se **relacionam**. A maioria dos SGBD atuais são baseados no modelo relacional.\n",
    "\n",
    "Cada **tabela** é dividida em entidades menores chamadas **campos**. Por exemplo, os campos de uma **tabela** chamada `Clientes` podem ser `ID`, `Nome`, `Endereço`, `Cidade`, `CEP` e `Estado`. Portanto, um **campo** é uma coluna da **tabela**, projetada para manter informações específicas sobre cada **registro** na tabela, ou seja, uma entrada.\n",
    "\n",
    "Um **registro** por sua vez é uma **linha** da tabela. Ele é uma entrada individual em uma tabela. Cada cliente tem um registro, ou seja uma linha, com valores para os campos `ID`, `Nome`, `Endereço`, `Cidade`, `CEP` e `Estado`.\n",
    "\n",
    "<img src=\"../figures/tabela_clientes.png\" width=\"400\" height=\"400\">\n",
    "\n",
    "Estas **tabelas**, são geralmente, acessadas e manipuladas (consultas, alterações, etc.) através de uma linguagem especializada para isso, chamada de SQL (Structured Query Language).\n",
    "\n",
    "**IMPORTANTE**: Um banco de dados pode conter várias tabelas.\n",
    "\n",
    "Em sua grande maioria, os SGBDs utilizam uma arquitetura cliente-servidor. Os programas cliente utilizam uma API cliente para se comunicarem com o servidor excutando o SGDB, que é o responsável por receber as **consultas** ou **queries** SQL dos clientes, interpretá-las, recuperar e retornar os dados.\n",
    "\n",
    "Para fazer isso, o servidor precisa realizar uma série de outras tarefas, tais como: verificar credenciais, controlar o acesso, gerenciar conexões de rede, manter a integridade dos dados, otimizar as consultas e resolver questões de concorrência.\n",
    "\n",
    "**IMPORTANTE**: Um SGBD pode estar sendo executado localmente, em sua máquina, ou em um servidor remoto.\n",
    "\n",
    "Em Python, a integração com os SGBDs é feita através de um módulo chamado de DBI (Database Interface), que utiliza uma API (Application Programming Interface) cliente para se comunicar com o banco de dados.\n",
    "\n",
    "A DBI é uma especificação que descreve como deve ser o comportamento de um módulo de acesso a um SGBD. \n",
    "\n",
    "A DBI define que o módulo deve conter uma função `connect()`, a qual retorna um objeto de conexão. A partir do objeto de conexão, é possível obter um objeto do tipo **cursor**, que permite a execução de consultas SQL e a recuperação dos dados.\n",
    "\n",
    "Em Python, existem DBIs para diversos tipos de SGBDs: MySQL, Firebird, SQLite, PostgreSQL, MongoDB, etc.\n",
    "\n",
    "Nessa aula, nós utilizaremos um DBI para acesso ao SGBD MySQL, que é um dos SGBDs mais populares, com mais de 10 milhões de instalações pelo mundo.\n",
    "\n",
    "\n",
    "### Instalando o mySQL\n",
    "\n",
    "* Para instalar o servidor MySQL em seu computador baixe o instalador do seguinde endereço: https://dev.mysql.com/downloads/installer/\n",
    "\n",
    "**IMPORTANTE**\n",
    "+ Baixe a versão mais recente do MySQL Server\n",
    "+ Configure o servidor utilizando apenas as configurações padrão (localhost:3306)\n",
    "+ Opcionalmente, você pode baixar o MySQL Workbench para verificar se a instalação do servidor foi bem sucedida.\n",
    "+ Caso você tenha problemas ao tentar se conectar ao servidor, utilize os parâmetros `host = \"127.0.0.1\"` e `use_pure = True` na função `connect`. \n",
    "\n",
    "* Para instalar o driver MySQL, execute:\n",
    "\n",
    "`conda install mysql-connector-python`"
   ]
  },
  {
   "cell_type": "markdown",
   "metadata": {},
   "source": [
    "## Conceitos básicos da linguagem SQL\n",
    "\n",
    "As principais ações que podem ser executadas em um banco de dados com a linguagem SQL são:\n",
    "\n",
    "+ consultas \n",
    "+ recuperar dados\n",
    "+ inserir registros\n",
    "+ atualizar registros\n",
    "+ excluir registros\n",
    "+ criar novos bancos de dados\n",
    "+ criar novas tabelas em um banco de dados\n",
    "\n",
    "Essas ações são executadas pelas instruções: `SELECT`, `UPDATE`, `DELETE`, `INSERT`, `CREATE`, `DROP` e `WHERE`.\n",
    "\n",
    "Na sequência, veremos como utilizar as principais instruções da linguagem SQL em Python utilizando o DBI para o MySQL.\n",
    "\n",
    "O MySQL é um SGBD do tipo cliente-servidor conhecido por seu ótimo desempenho e por ser bastante utilizado em aplicações Web, aplicativos móveis, etc."
   ]
  },
  {
   "cell_type": "markdown",
   "metadata": {},
   "source": [
    "## Conectando e criando um banco de dados\n",
    "\n",
    "Neste exemplo, iremos nos conectar ao SGBD e criar nosso banco de dados."
   ]
  },
  {
   "cell_type": "code",
   "execution_count": 21,
   "metadata": {},
   "outputs": [],
   "source": [
    "import mysql.connector as mysql\n",
    "\n",
    "# Conectando ao banco de dados.\n",
    "# Precisamos de 3 parâmetros, o endereço do banco, o usuário e a senha.\n",
    "db = mysql.connect(\n",
    "    host = \"localhost\",\n",
    "    user = \"root\",\n",
    "    passwd = \"root\"\n",
    ")\n",
    "\n",
    "# Criando uma instância da classe 'cursor' que é usada \n",
    "# para executar as instruções SQL em Python.\n",
    "cursor = db.cursor()\n",
    "\n",
    "# Cria um banco de dados chamado 'loja'. \n",
    "# O método 'execute()' é usado para enviar uma instrução SQL ao SGDB.\n",
    "try:\n",
    "    cursor.execute(\"CREATE DATABASE loja\")\n",
    "except:\n",
    "    pass"
   ]
  },
  {
   "cell_type": "markdown",
   "metadata": {},
   "source": [
    "## Verificando todos os bancos de dados disponíveis.\n",
    "\n",
    "No exemplo abaixo, verificamos todas as bases de dados sendo gerenciados pelo SGBD MySQL."
   ]
  },
  {
   "cell_type": "code",
   "execution_count": 22,
   "metadata": {},
   "outputs": [
    {
     "name": "stdout",
     "output_type": "stream",
     "text": [
      "('information_schema',)\n",
      "('curso',)\n",
      "('estacionamento',)\n",
      "('loja',)\n",
      "('mysql',)\n",
      "('people',)\n",
      "('performance_schema',)\n",
      "('sakila',)\n",
      "('test',)\n",
      "('world',)\n"
     ]
    }
   ],
   "source": [
    "# Envia instrução ao SGBD para mostrar todos os bancos de dados disponíveis.\n",
    "cursor.execute(\"SHOW DATABASES\")\n",
    "\n",
    "# O método 'fetchall()' busca todas os registros em um conjunto \n",
    "# de resultados da última instrução executada.\n",
    "databases = cursor.fetchall()\n",
    "\n",
    "# Mostra os bancos de dados.\n",
    "for database in databases:\n",
    "    print(database)\n",
    "\n",
    "# Finaliza a conexão com o banco de dados.\n",
    "db.close()"
   ]
  },
  {
   "cell_type": "markdown",
   "metadata": {},
   "source": [
    "# Criando tabelas\n",
    "\n",
    "Depois de termos criado nosso banco de dados, prosseguimos com a criação de uma tabela."
   ]
  },
  {
   "cell_type": "code",
   "execution_count": 24,
   "metadata": {},
   "outputs": [
    {
     "name": "stdout",
     "output_type": "stream",
     "text": [
      "----- Tabelas -----\n",
      "('clientes',)\n",
      "('clientes2',)\n",
      "('people',)\n",
      "('pessoas',)\n",
      "\n",
      "----- Campos -----\n",
      "('id', 'int(11)', 'NO', 'PRI', None, 'auto_increment')\n",
      "('nome', 'varchar(255)', 'YES', '', None, '')\n",
      "('endereco', 'varchar(255)', 'YES', '', None, '')\n",
      "('cidade', 'varchar(255)', 'YES', '', None, '')\n",
      "('cep', 'varchar(255)', 'YES', '', None, '')\n",
      "('estado', 'varchar(255)', 'YES', '', None, '')\n"
     ]
    }
   ],
   "source": [
    "import mysql.connector as mysql\n",
    "\n",
    "# Antes de criar uma tabela, primeiro temos que nos conectar\n",
    "# a um banco de dados.\n",
    "db = mysql.connect(\n",
    "    host = \"localhost\",\n",
    "    user = \"root\",\n",
    "    passwd = \"root\",\n",
    "    database = \"loja\"\n",
    ")\n",
    "\n",
    "# Obtendo um objeto do tipo cursor.\n",
    "cursor = db.cursor()\n",
    "\n",
    "# Criando uma tabela chamada 'Clientes' no banco de dados 'loja'.\n",
    "try:\n",
    "    cursor.execute(\n",
    "        \"CREATE TABLE Clientes (nome VARCHAR(255), endereco VARCHAR(255), cidade VARCHAR(255), cep VARCHAR(255), estado VARCHAR(255))\"\n",
    "    )\n",
    "except:\n",
    "    pass\n",
    "\n",
    "# Obtendo todas as tabelas que estão presentes no banco de dados 'loja'.\n",
    "cursor.execute(\"SHOW TABLES\")\n",
    "\n",
    "# Recuperando todos os resultados obtidos com a consulta acima.\n",
    "tables = cursor.fetchall()\n",
    "\n",
    "# Mostrando todas as tabelas.\n",
    "print('----- Tabelas -----')\n",
    "for table in tables:\n",
    "    print(table)\n",
    "    \n",
    "# Obtendo uma descrição dos campos da tabela.\n",
    "cursor.execute(\"DESCRIBE Clientes\")\n",
    "\n",
    "# O método 'fetchall()' busca todas os registros em um conjunto de resultados.\n",
    "fields = cursor.fetchall() \n",
    "\n",
    "# Mostrando todos os campos.\n",
    "print('\\n----- Campos -----')\n",
    "for field in fields:\n",
    "    print(field)"
   ]
  },
  {
   "cell_type": "markdown",
   "metadata": {},
   "source": [
    "## Chave primária\n",
    "\n",
    "Uma chave primária é um valor único na tabela. É como uma chave de um dicionário, a qual você utiliza para acessar o valor associado. A chave primária nos ajuda a encontrar cada **registro** (i.e., linha) na tabela.\n",
    "\n",
    "Para criar uma chave primária, usamos a instrução `PRIMARY KEY` ao criar a tabela.\n",
    "\n",
    "A instrução `INT AUTO_INCREMENT PRIMARY KEY` é usada para identificar cada **registro** exclusivamente com um número começando em 1 e incrementado automaticamente a cada nova entrada.\n",
    "\n",
    "No exemplo abaixo, vemos como criar uma chave primária para uma tabela."
   ]
  },
  {
   "cell_type": "code",
   "execution_count": 25,
   "metadata": {},
   "outputs": [
    {
     "name": "stdout",
     "output_type": "stream",
     "text": [
      "----- Campos -----\n",
      "('id', 'int(11)', 'NO', 'PRI', None, 'auto_increment')\n",
      "('nome', 'varchar(255)', 'YES', '', None, '')\n",
      "('endereco', 'varchar(255)', 'YES', '', None, '')\n",
      "('cidade', 'varchar(255)', 'YES', '', None, '')\n",
      "('cep', 'varchar(255)', 'YES', '', None, '')\n",
      "('estado', 'varchar(255)', 'YES', '', None, '')\n"
     ]
    }
   ],
   "source": [
    "# Primeiro temos que deletar a tabela que já foi criada para \n",
    "# criá-la novamente com a 'PRIMARY KEY'\n",
    "# A instrução 'DROP TABLE table_name' elimina a tabela do um banco de dados.\n",
    "cursor.execute(\"DROP TABLE Clientes\")\n",
    "\n",
    "# Criando a tabela 'Clientes' novamente, mas agora com a 'PRIMARY KEY'.\n",
    "cursor.execute(\"CREATE TABLE Clientes (id INT AUTO_INCREMENT PRIMARY KEY, nome VARCHAR(255), endereco VARCHAR(255), cidade VARCHAR(255), cep VARCHAR(255), estado VARCHAR(255))\")\n",
    "\n",
    "# Obtendo uma descrição dos campos da tabela.\n",
    "cursor.execute(\"DESCRIBE Clientes\")\n",
    "\n",
    "# Recupera todos os resultados.\n",
    "fields = cursor.fetchall() \n",
    "\n",
    "# Mostrando todos os campos.\n",
    "print('----- Campos -----')\n",
    "for field in fields:\n",
    "    print(field)"
   ]
  },
  {
   "cell_type": "markdown",
   "metadata": {},
   "source": [
    "## Adicionando dados a uma tabela\n",
    "\n",
    "Para adicionar dados a uma tabela nós usamos a instrução `INSERT INTO table_name (column_names) VALUES (data)`.\n",
    "\n",
    "O código abaixo irá inserir um **registro** na tabela de Clientes."
   ]
  },
  {
   "cell_type": "code",
   "execution_count": 27,
   "metadata": {},
   "outputs": [
    {
     "name": "stdout",
     "output_type": "stream",
     "text": [
      "1 registros inseridos\n"
     ]
    }
   ],
   "source": [
    "# Definindo a query\n",
    "query = \"INSERT INTO Clientes (nome, endereco, cidade, cep, estado) VALUES (%s, %s, %s, %s, %s)\"\n",
    "# Armazenando os dados de um registro em uma variável.\n",
    "dados = ('João da Silva', 'Rua I, 100', 'Santa Rita do Sapucaí', '37540-000', 'MG')\n",
    "\n",
    "# Executando a query.\n",
    "cursor.execute(query, dados)\n",
    "\n",
    "# Para adicionar o registro ao banco, temos que executar o método 'commit()'.\n",
    "# Commit é a operação, que dá sinal verde ao banco de dados para finalizar \n",
    "# as alterações e, após esta operação, nenhuma alteração pode ser revertida.\n",
    "db.commit()\n",
    "\n",
    "# Mostra quantos registros já foram inseridos.\n",
    "print(cursor.rowcount, \"registros inseridos\")"
   ]
  },
  {
   "cell_type": "markdown",
   "metadata": {},
   "source": [
    "Para inserir vários **registros** na tabela com apenas uma única instrução, usamos o método `executemany()`. \n",
    "\n",
    "Ele recebe uma consulta como o primeiro argumento e uma lista de tuplas contendo os dados como um segundo argumento."
   ]
  },
  {
   "cell_type": "code",
   "execution_count": 30,
   "metadata": {},
   "outputs": [
    {
     "name": "stdout",
     "output_type": "stream",
     "text": [
      "2 registros inseridos\n"
     ]
    }
   ],
   "source": [
    "# Definindo a Query\n",
    "query = \"INSERT INTO Clientes (nome, endereco, cidade, cep, estado) VALUES (%s, %s, %s, %s, %s)\"\n",
    "# Armazenando os dados de um registro em uma lista.\n",
    "dados = [\n",
    "    ('José Alfredo', 'Avenida Sul, 37', 'Campinas', '45356-001', 'SP'),\n",
    "    ('Ana Valadares', 'Alameda João Dias, 62', 'Varginha', '78900-000', 'TO')\n",
    "]\n",
    "\n",
    "# Executando a consulta com vários registros.\n",
    "cursor.executemany(query, dados)\n",
    "\n",
    "# Para adicionar o registro ao banco, temos que executar o método 'commit()'.\n",
    "db.commit()\n",
    "\n",
    "# Mostra quantos registros já foram inseridos.\n",
    "print(cursor.rowcount, \"registros inseridos\")"
   ]
  },
  {
   "cell_type": "markdown",
   "metadata": {},
   "source": [
    "## Recuperando dados de uma tabela\n",
    "\n",
    "Para recuperar os dados de uma tabela, usamos a instrução `SELECT column_names FROM table_name`.\n",
    "\n",
    "### Recuperando todos os registros da tabela\n",
    "\n",
    "Para obter todos os registros de uma tabela, usamos `*` no lugar dos nomes das colunas, com isso, obtemos todos os dados da tabela `Clientes` que inserimos antes."
   ]
  },
  {
   "cell_type": "code",
   "execution_count": 31,
   "metadata": {},
   "outputs": [
    {
     "name": "stdout",
     "output_type": "stream",
     "text": [
      "(1, 'João da Silva', 'Rua I, 100', 'Santa Rita do Sapucaí', '37540-000', 'MG')\n",
      "(2, 'João da Silva', 'Rua I, 100', 'Santa Rita do Sapucaí', '37540-000', 'MG')\n",
      "(3, 'José Alfredo', 'Avenida Sul, 37', 'Campinas', '45356-001', 'SP')\n",
      "(4, 'Ana Valadares', 'Alameda João Dias, 62', 'Varginha', '78900-000', 'TO')\n",
      "(5, 'José Alfredo', 'Avenida Sul, 37', 'Campinas', '45356-001', 'SP')\n",
      "(6, 'Ana Valadares', 'Alameda João Dias, 62', 'Varginha', '78900-000', 'TO')\n"
     ]
    }
   ],
   "source": [
    "# Definindo a query.\n",
    "query = \"SELECT * FROM Clientes\"\n",
    "\n",
    "# Executando a query no servidor.\n",
    "cursor.execute(query)\n",
    "\n",
    "# Buscando todos os registros do objeto 'cursor'.\n",
    "records = cursor.fetchall()\n",
    "\n",
    "# Mostarndo os dados.\n",
    "for record in records:\n",
    "    print(record)"
   ]
  },
  {
   "cell_type": "markdown",
   "metadata": {},
   "source": [
    "### Obtendo apenas algumas colunas\n",
    "\n",
    "Para selecionar algumas colunas da tabela, utilizamos o nome da coluna após a instrução `SELECT`. \n",
    "\n",
    "No exemplo abaixo, recuperamos a coluna `nome` da tabela `Clientes`."
   ]
  },
  {
   "cell_type": "code",
   "execution_count": 32,
   "metadata": {},
   "outputs": [
    {
     "name": "stdout",
     "output_type": "stream",
     "text": [
      "('João da Silva',)\n",
      "('João da Silva',)\n",
      "('José Alfredo',)\n",
      "('Ana Valadares',)\n",
      "('José Alfredo',)\n",
      "('Ana Valadares',)\n"
     ]
    }
   ],
   "source": [
    "# Definindo a query.\n",
    "query = \"SELECT nome FROM Clientes\"\n",
    "\n",
    "# Executando a query no servidor.\n",
    "cursor.execute(query)\n",
    "\n",
    "# Buscando todos os registros do objeto 'cursor'.\n",
    "nomes = cursor.fetchall()\n",
    "\n",
    "# Mostrando os dados.\n",
    "for nome in nomes:\n",
    "    print(nome)"
   ]
  },
  {
   "cell_type": "markdown",
   "metadata": {},
   "source": [
    "Podemos recuperar mais de uma coluna por vez. Percebam que o retorno é uma lista de tuplas."
   ]
  },
  {
   "cell_type": "code",
   "execution_count": 35,
   "metadata": {},
   "outputs": [
    {
     "name": "stdout",
     "output_type": "stream",
     "text": [
      "----- Retorno da query -----\n",
      "[('João da Silva', 'Rua I, 100'), ('João da Silva', 'Rua I, 100'), ('José Alfredo', 'Avenida Sul, 37'), ('Ana Valadares', 'Alameda João Dias, 62'), ('José Alfredo', 'Avenida Sul, 37'), ('Ana Valadares', 'Alameda João Dias, 62')]\n",
      "\n",
      "----- Dados -----\n",
      "('João da Silva', 'Rua I, 100')\n",
      "('João da Silva', 'Rua I, 100')\n",
      "('José Alfredo', 'Avenida Sul, 37')\n",
      "('Ana Valadares', 'Alameda João Dias, 62')\n",
      "('José Alfredo', 'Avenida Sul, 37')\n",
      "('Ana Valadares', 'Alameda João Dias, 62')\n"
     ]
    }
   ],
   "source": [
    "# Definindo a query.\n",
    "query = \"SELECT nome, endereco FROM Clientes\"\n",
    "\n",
    "# Executando a query no servidor.\n",
    "cursor.execute(query)\n",
    "\n",
    "# Buscando todos os registros do objeto 'cursor'.\n",
    "dados = cursor.fetchall()\n",
    "\n",
    "print('----- Retorno da query -----')\n",
    "print(dados)\n",
    "\n",
    "# Mostrando os dados.\n",
    "print('\\n----- Dados -----')\n",
    "for dado in dados:\n",
    "    print(dado)"
   ]
  },
  {
   "cell_type": "markdown",
   "metadata": {},
   "source": [
    "## Selecionando dados com um filtro\n",
    "\n",
    "A instrução `SELECT nome_da_coluna FROM nome_tabela WHERE condition` é usada para recuperar os dados que satisfazem uma condição. Nós podemos especificar qualquer condição com base nos dados da tabela.\n",
    "\n",
    "No exemplo abaixo, selecionamos o registro com campo `id` igual a 3."
   ]
  },
  {
   "cell_type": "code",
   "execution_count": 14,
   "metadata": {},
   "outputs": [
    {
     "name": "stdout",
     "output_type": "stream",
     "text": [
      "(3, 'Ana Valadares', 'Alameda João Dias, 62', 'Varginha', '78900-000', 'TO')\n"
     ]
    }
   ],
   "source": [
    "# Definindo a query.\n",
    "query = \"SELECT * FROM Clientes WHERE id = 3\"\n",
    "\n",
    "# Executando a query no servidor.\n",
    "cursor.execute(query)\n",
    "\n",
    "# Buscando todos os registros do objeto 'cursor'.\n",
    "records = cursor.fetchall()\n",
    "\n",
    "# Mostrando os dados.\n",
    "for record in records:\n",
    "    print(record)"
   ]
  },
  {
   "cell_type": "markdown",
   "metadata": {},
   "source": [
    "No exemplo abaixo, selecionamos os registros com campo `nome` igual a `João da Silva`."
   ]
  },
  {
   "cell_type": "code",
   "execution_count": 34,
   "metadata": {},
   "outputs": [
    {
     "name": "stdout",
     "output_type": "stream",
     "text": [
      "(1, 'João da Silva', 'Rua I, 100', 'Santa Rita do Sapucaí', '37540-000', 'MG')\n",
      "(2, 'João da Silva', 'Rua I, 100', 'Santa Rita do Sapucaí', '37540-000', 'MG')\n"
     ]
    }
   ],
   "source": [
    "# Definindo a query.\n",
    "query = \"SELECT * FROM Clientes WHERE nome = 'João da Silva'\"\n",
    "\n",
    "# Executando a query no servidor.\n",
    "cursor.execute(query)\n",
    "\n",
    "# Buscando todos os registros do objeto 'cursor'.\n",
    "records = cursor.fetchall()\n",
    "\n",
    "# Mostrando os dados.\n",
    "for record in records:\n",
    "    print(record)"
   ]
  },
  {
   "cell_type": "markdown",
   "metadata": {},
   "source": [
    "## Apagando registros\n",
    "\n",
    "Nós podemos excluir registros de uma tabela existente usando a instrução `DELETE FROM table_name WHERE condition`. \n",
    "\n",
    "**IMPORTANTE**: Todos os registros serão excluídos se a condição não for especificada.\n",
    "\n",
    "No exemplo abaixo deletemos todos os registros duplicados através de seus `id`s."
   ]
  },
  {
   "cell_type": "code",
   "execution_count": 36,
   "metadata": {},
   "outputs": [
    {
     "name": "stdout",
     "output_type": "stream",
     "text": [
      "(1, 'João da Silva', 'Rua I, 100', 'Santa Rita do Sapucaí', '37540-000', 'MG')\n",
      "(3, 'José Alfredo', 'Avenida Sul, 37', 'Campinas', '45356-001', 'SP')\n",
      "(4, 'Ana Valadares', 'Alameda João Dias, 62', 'Varginha', '78900-000', 'TO')\n"
     ]
    }
   ],
   "source": [
    "# Definindo a query.\n",
    "query = \"DELETE FROM Clientes WHERE id = %s\"\n",
    "\n",
    "# Armazenando os dados de um registro em uma lista.\n",
    "dados = [\n",
    "    (2,),\n",
    "    (5,),\n",
    "    (6,)\n",
    "]\n",
    "\n",
    "# Executando a consulta com vários registros.\n",
    "cursor.executemany(query, dados)\n",
    "\n",
    "# Informa ao banco de dados que alteramos os dados da tabela.\n",
    "db.commit()\n",
    "\n",
    "# Definindo a query.\n",
    "query = \"SELECT * FROM Clientes\"\n",
    "\n",
    "# Executando a consulta.\n",
    "cursor.execute(query)\n",
    "\n",
    "# Buscando todos os registros do objeto 'cursor'.\n",
    "records = cursor.fetchall()\n",
    "\n",
    "# Mostrando os dados.\n",
    "for record in records:\n",
    "    print(record)"
   ]
  },
  {
   "cell_type": "markdown",
   "metadata": {},
   "source": [
    "## Atualizando os registros de uma tabela\n",
    "\n",
    "A palavra-chave `UPDATE` é usada para atualizar os dados de um registro ou registros.\n",
    "\n",
    "Podemos atualizar os registros existentes em uma tabela usando a instrução `UPDATE table_name SET column_name = new_value WHERE condition`.\n",
    "\n",
    "No exemplo abaixo nós atualizamos o endereço de um cliente."
   ]
  },
  {
   "cell_type": "code",
   "execution_count": 19,
   "metadata": {},
   "outputs": [
    {
     "name": "stdout",
     "output_type": "stream",
     "text": [
      "(1, 'João da Silva', 'Travessa do Coelho, 66', 'Santa Rita do Sapucaí', '37540-000', 'MG')\n"
     ]
    }
   ],
   "source": [
    "# Definindo a query.\n",
    "query = \"UPDATE Clientes SET endereco = 'Travessa do Coelho, 66' WHERE id = 1\"\n",
    "\n",
    "# Executando a consulta.\n",
    "cursor.execute(query)\n",
    "\n",
    "# Informa ao banco de dados que alteramos os dados da tabela.\n",
    "db.commit()\n",
    "\n",
    "# Definindo a query.\n",
    "query = \"SELECT * FROM Clientes WHERE id = 1\"\n",
    "\n",
    "# Executando a consulta.\n",
    "cursor.execute(query)\n",
    "\n",
    "# Recuperando os registros da tabela.\n",
    "records = cursor.fetchall()\n",
    "\n",
    "# Mostrando os dados.\n",
    "for record in records:\n",
    "    print(record)\n",
    "    \n",
    "# Finaliza a conexão com o banco de dados.\n",
    "db.close()"
   ]
  },
  {
   "cell_type": "markdown",
   "metadata": {},
   "source": [
    "## Tarefas\n",
    "\n",
    "1. <span style=\"color:blue\">**QUIZ - Banco de Dados**</span>: respondam ao questionário sobre banco de dados no MS teams, por favor. \n",
    "2. <span style=\"color:blue\">**Laboratório #8**</span>: cliquem em um dos links abaixo para accessar os exercícios do laboratório #8.\n",
    "\n",
    "[![Binder](https://mybinder.org/badge_logo.svg)](https://mybinder.org/v2/gh/zz4fap/python-programming/master?filepath=labs%2FLaboratorio8.ipynb)\n",
    "\n",
    "[![Google Colab](https://badgen.net/badge/Launch/on%20Google%20Colab/blue?icon=terminal)](https://colab.research.google.com/github/zz4fap/python-programming/blob/master/labs/Laboratorio8.ipynb)\n",
    "\n",
    "**IMPORTANTE**: Para acessar o material das aulas e realizar as entregas dos exercícios de laboratório, por favor, leiam o tutorial no seguinte link:\n",
    "[Material-das-Aulas](../docs/Acesso-ao-material-das-aulas-resolucao-e-entrega-dos-laboratorios.pdf)"
   ]
  },
  {
   "cell_type": "markdown",
   "metadata": {},
   "source": [
    "## Avisos\n",
    "\n",
    "* Se atentem aos prazos de entrega das tarefas na aba de **Avaliações** do MS Teams.\n",
    "* Horário de atendimento todas as Quintas-feiras as 17:30 às 19:30 via MS Teams enquanto as aulas presenciais não retornam."
   ]
  },
  {
   "cell_type": "markdown",
   "metadata": {},
   "source": [
    "<img src=\"../figures/obrigado.png\" width=\"1000\" height=\"1000\">"
   ]
  }
 ],
 "metadata": {
  "kernelspec": {
   "display_name": "Python 3",
   "language": "python",
   "name": "python3"
  },
  "language_info": {
   "codemirror_mode": {
    "name": "ipython",
    "version": 3
   },
   "file_extension": ".py",
   "mimetype": "text/x-python",
   "name": "python",
   "nbconvert_exporter": "python",
   "pygments_lexer": "ipython3",
   "version": "3.7.7"
  }
 },
 "nbformat": 4,
 "nbformat_minor": 4
}
