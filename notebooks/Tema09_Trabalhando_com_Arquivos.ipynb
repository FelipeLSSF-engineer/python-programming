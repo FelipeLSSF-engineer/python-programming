{
 "cells": [
  {
   "cell_type": "markdown",
   "metadata": {},
   "source": [
    "# Trabalhando com Arquivos"
   ]
  },
  {
   "cell_type": "markdown",
   "metadata": {},
   "source": [
    "## Introdução\n",
    "\n",
    "Até agora, os dados que utilizamos nos exemplos ou exercícios ou foram inseridos diretamente no código ou foram digitados por nós. Porém, no mundo real, a grande maioria dos dados estão armazenados em arquivos em unidades de armazenamento permanente.\n",
    "\n",
    "Arquivos são sequências de dados que são armazenados em dispositivos (i.e., memórias) de armazenamento de longa duração dos computadores, como por exemplo, discos rígidos, pen drives, etc.\n",
    "\n",
    "Vocês já conhecem vários tipos de arquivo, como por exemplo, seus arquivos de música (e.g., .mp3), arquivos de vídeo (e.g., .mp4, .avi), arquivos de texto (e.g., .txt), etc. \n",
    "\n",
    "A linguagem Python oferece maneiras fáceis de manipular esses arquivos. Geralmente dividimos os arquivos em duas categorias:\n",
    "\n",
    "+ arquivos de texto, os quais contém caracteres alfanuméricos.\n",
    "+ arquivos binários, que contêm dados binários que só podem ser lidos pelo computador.\n",
    "\n",
    "Neste tópico, nós veremos de maneira sucinta os conceitos necessários para se trabalhar com arquivos."
   ]
  },
  {
   "cell_type": "markdown",
   "metadata": {},
   "source": [
    "## Abrindo e fechando arquivos\n",
    "\n",
    "Para trabalharmos com os dados contidos em um arquivo, devemos abrí-lo com a função embutida `open` antes de usá-lo e fechá-lo com a função embutida `close` após termos terminado de utilizá-lo. \n",
    "\n",
    "Depois de aberto, um arquivo passa a ser um **objeto** de maneira semelhante a outros dados. A tabela abaixo mostra os métodos que podem ser usados para abrir e fechar arquivos em Python.\n",
    "\n",
    "| Função |           Uso          |                                               Explicação                                               |\n",
    "|:------:|:----------------------:|:------------------------------------------------------------------------------------------------------:|\n",
    "|  open  | open(nome_arquivo,'r') | Abre um arquivo apenas para leitura. Retorna uma referência para um objeto file. Se você tentar escrever algo nele, uma exceção é lançada. |\n",
    "|  open  | open(nome_arquivo,'rb') | Abre um arquivo para leitura apenas em formato binário. Retorna uma referência para um objeto file. |\n",
    "|  open  | open(nome_arquivo,'w') | Abre um arquivo para escrita. Se o arquivo já existir e contiver dados, todos são apagados. Caso não exista, ele será criado. Retorna uma referência para um objeto file. |\n",
    "|  open  | open(nome_arquivo,'wb') | Abre um arquivo para escrita apenas em formato binário. Se o arquivo já existir e contiver dados, todos são apagados. Caso não exista, ele será criado. Retorna uma referência para um objeto file. |\n",
    "|  open  | open(nome_arquivo,'a') | Abre um arquivo para escrita sempre anexando novos valores a ele. Retorna uma referência para um objeto file. |\n",
    "|  open  | open(nome_arquivo,'ab') | Abre um arquivo para escrita sempre anexando novos valores binários a ele. Retorna uma referência para um objeto file. |\n",
    "|  close |   ref_arquivo.close()  |                 Fecha o arquivo utilizando a referência ao objeto file obtido durante a abertura do arquivo.                 |\n",
    "\n",
    "**IMPORTANTE 1**: O modo padrão é para somente leitura, ou seja, se você não fornecer nenhum modo, o arquivo será aberto como somente leitura.\n",
    "\n",
    "**IMPORTANTE 2**: Podemos combinar os modos de operação de um arquivo, por exemplo, `w+` abre um arquivo para escrita e leitura.\n",
    "\n",
    "#### Exemplo\n",
    "\n",
    "Vamos usar um arquivo que contenha dados de uma empresa. O formato do arquivo é o seguinte:\n",
    "\n",
    "|      Nome     | Registro |  Cargo  | Salário | Contratação |\n",
    "|:-------------:|:--------:|:-------:|:-------:|:-----------:|\n",
    "| João da Silva |   10001  | Gerente | 5000.00 |  01/02/2019 |\n",
    "\n",
    "Para abrir esse arquivo utilizamos a função embutida `open`."
   ]
  },
  {
   "cell_type": "code",
   "execution_count": 1,
   "metadata": {},
   "outputs": [],
   "source": [
    "f = open('empresa.dat')"
   ]
  },
  {
   "cell_type": "markdown",
   "metadata": {},
   "source": [
    "A variável `f` mantém uma referência ao objeto do tipo **file** retornado pela função `open`. \n",
    "\n",
    "Quando terminamos de trabalhar com o arquivo, podemos fechá-lo usando o método `close`. Depois que o arquivo estiver fechado, qualquer tentativa de usar a referência armazenada em `f` resultará em erro."
   ]
  },
  {
   "cell_type": "code",
   "execution_count": 2,
   "metadata": {},
   "outputs": [],
   "source": [
    "f.close()"
   ]
  },
  {
   "cell_type": "markdown",
   "metadata": {},
   "source": [
    "## Lendo arquivos\n",
    "\n",
    "Para ler o arquivo inteiro de uma vez, usamos o método `read()`."
   ]
  },
  {
   "cell_type": "code",
   "execution_count": 34,
   "metadata": {},
   "outputs": [
    {
     "name": "stdout",
     "output_type": "stream",
     "text": [
      "Joao da Silva  10001 Gerente  5000.00  01/02/2019\n",
      "Alice de Moraes   10002 Secretaria  2500.00  11/11/2017\n",
      "Anabel Reis 10003 Analista 3200.00 05/03/2020\n",
      "Roberto Amaral 10004 Engenheiro  3500.00 17/07/2016\n",
      "Thais Lima  10005 Psicologa   3100.00 08/09/2019\n"
     ]
    }
   ],
   "source": [
    "f = open('empresa.dat')\n",
    "\n",
    "conteudo = f.read()\n",
    "\n",
    "print(conteudo)\n",
    "\n",
    "f.close()"
   ]
  },
  {
   "cell_type": "markdown",
   "metadata": {},
   "source": [
    "**IMPORTANTE**: Esta forma de ler um arquivo nem sempre é uma boa ideia, pois um arquivo pode ser muito grande para ser lido e caber na memória. Portanto, é uma boa prática ler um tamanho conhecido do arquivo, por exemplo, uma linha de cada vez."
   ]
  },
  {
   "cell_type": "markdown",
   "metadata": {},
   "source": [
    "O método `readline()` lê uma linha de cada vez do arquivo e retorna essa linha como uma string. A string retornada pelo método `readline()` conterá o caractere de nova linha (`'\\n'`) no final.\n",
    "\n",
    "**IMPORTANTE**: Uma linha de um arquivo é definida como uma sequência de caracteres até **e incluindo** um caractere especial chamado de nova linha (newline). Se examinarmos uma string que contém um caractere de nova linha veremos ele representado como `\\n`. Se tertarmos imprimir uma string contendo um caractere de nova linha nós não veremos o `\\n`, apenas veremos o seu efeito, ou seja, a mudança de linha.\n",
    "\n",
    "**Exemplo**: Usando o método `readline`."
   ]
  },
  {
   "cell_type": "code",
   "execution_count": 36,
   "metadata": {},
   "outputs": [
    {
     "name": "stdout",
     "output_type": "stream",
     "text": [
      "Joao da Silva  10001 Gerente  5000.00  01/02/2019\n",
      "Alice de Moraes   10002 Secretaria  2500.00  11/11/2017\n",
      "Anabel Reis 10003 Analista 3200.00 05/03/2020\n",
      "Roberto Amaral 10004 Engenheiro  3500.00 17/07/2016\n",
      "Thais Lima  10005 Psicologa   3100.00 08/09/2019"
     ]
    }
   ],
   "source": [
    "f = open('empresa.dat')\n",
    "\n",
    "linha1 = f.readline()\n",
    "linha2 = f.readline()\n",
    "linha3 = f.readline()\n",
    "linha4 = f.readline()\n",
    "linha5 = f.readline()\n",
    "\n",
    "print(linha1, end='')\n",
    "print(linha2, end='')\n",
    "print(linha3, end='')\n",
    "print(linha4, end='')\n",
    "print(linha5, end='')\n",
    "\n",
    "f.close()"
   ]
  },
  {
   "cell_type": "markdown",
   "metadata": {},
   "source": [
    "Para lermos todas as linhas de um arquivo, usamos o método `readlines()`. Ele retorna uma lista, onde cada elemento é uma das linhas do arquivo em forma de string."
   ]
  },
  {
   "cell_type": "code",
   "execution_count": 37,
   "metadata": {},
   "outputs": [
    {
     "name": "stdout",
     "output_type": "stream",
     "text": [
      "['Joao da Silva  10001 Gerente  5000.00  01/02/2019\\n', 'Alice de Moraes   10002 Secretaria  2500.00  11/11/2017\\n', 'Anabel Reis 10003 Analista 3200.00 05/03/2020\\n', 'Roberto Amaral 10004 Engenheiro  3500.00 17/07/2016\\n', 'Thais Lima  10005 Psicologa   3100.00 08/09/2019']\n",
      "--------\n",
      "Joao da Silva  10001 Gerente  5000.00  01/02/2019\n",
      "Alice de Moraes   10002 Secretaria  2500.00  11/11/2017\n",
      "\n"
     ]
    }
   ],
   "source": [
    "f = open('empresa.dat')\n",
    "\n",
    "linhas = f.readlines()\n",
    "\n",
    "print(linhas)\n",
    "\n",
    "print('--------')\n",
    "print(linhas[0], end='')\n",
    "print(linhas[1])\n",
    "\n",
    "f.close()"
   ]
  },
  {
   "cell_type": "markdown",
   "metadata": {},
   "source": [
    "Nós podemos até mesmo percorrer as linhas de um arquivo com laços de repetição `for` e `while`."
   ]
  },
  {
   "cell_type": "code",
   "execution_count": 5,
   "metadata": {},
   "outputs": [
    {
     "name": "stdout",
     "output_type": "stream",
     "text": [
      "Joao da Silva  10001 Gerente  5000.00  01/02/2019\n",
      "Alice de Moraes   10002 Secretaria  2500.00  11/11/2017\n",
      "Anabel Reis 10003 Analista 3200.00 05/03/2020\n",
      "Roberto Amaral 10004 Engenheiro  3500.00 17/07/2016\n",
      "Thais Lima  10005 Psicologa   3100.00 08/09/2019"
     ]
    }
   ],
   "source": [
    "f = open('empresa.dat')\n",
    "\n",
    "for linha in f:\n",
    "    print(linha, end='')\n",
    "\n",
    "f.close()"
   ]
  },
  {
   "cell_type": "markdown",
   "metadata": {},
   "source": [
    "No exemplo abaixo, a condição do laço `while` se torna falsa quando a última linha do arquivo tiver sido lida."
   ]
  },
  {
   "cell_type": "code",
   "execution_count": 35,
   "metadata": {},
   "outputs": [
    {
     "name": "stdout",
     "output_type": "stream",
     "text": [
      "Joao da Silva  10001 Gerente  5000.00  01/02/2019\n",
      "Alice de Moraes   10002 Secretaria  2500.00  11/11/2017\n",
      "Anabel Reis 10003 Analista 3200.00 05/03/2020\n",
      "Roberto Amaral 10004 Engenheiro  3500.00 17/07/2016\n",
      "Thais Lima  10005 Psicologa   3100.00 08/09/2019"
     ]
    }
   ],
   "source": [
    "f = open('empresa.dat')\n",
    "\n",
    "linha = f.readline()\n",
    "while linha:\n",
    "    print(linha, end='')\n",
    "    linha = f.readline()\n",
    "\n",
    "f.close()"
   ]
  },
  {
   "cell_type": "markdown",
   "metadata": {},
   "source": [
    "#### A instrução `with`\n",
    "\n",
    "A instrução `with` automaticamente se encarrega de fechar o arquivo assim que o fluxo de execução do código sai do bloco da instrução `with`, mesmo em casos de erro."
   ]
  },
  {
   "cell_type": "code",
   "execution_count": 6,
   "metadata": {},
   "outputs": [
    {
     "name": "stdout",
     "output_type": "stream",
     "text": [
      "Joao da Silva  10001 Gerente  5000.00  01/02/2019\n",
      "Alice de Moraes   10002 Secretaria  2500.00  11/11/2017\n",
      "Anabel Reis 10003 Analista 3200.00 05/03/2020\n",
      "Roberto Amaral 10004 Engenheiro  3500.00 17/07/2016\n",
      "Thais Lima  10005 Psicologa   3100.00 08/09/2019"
     ]
    }
   ],
   "source": [
    "with open('empresa.dat') as f:\n",
    "    for linha in f:\n",
    "        print(linha, end='')"
   ]
  },
  {
   "cell_type": "markdown",
   "metadata": {},
   "source": [
    "#### Arquivos binários\n",
    "\n",
    "A função `open()` abre um arquivo em formato de texto por padrão. Para abrir um arquivo em formato binário, adicionamos `'b'` ao parâmetro de modo. Portanto, o modo `'rb'` abre um arquivo em formato binário para leitura, enquanto o modo `'wb'` abre um arquivo em formato binário para escrita. \n",
    "\n",
    "Ao contrário dos arquivos em modo texto, os arquivos binários não podem ser lidos por humanos. Quando abertos em qualquer editor de texto, os dados ficam irreconhecíveis.\n",
    "\n",
    "Arquivos binários podem variar de arquivos de imagem como JPEGs ou GIFs, arquivos de áudio como MP3s ou documentos como Word ou PDF.\n",
    "\n",
    "Para ler um arquivo binário, a saída do método `read()` deve ser convertida em uma lista usando a função `list()` ou em uma tupla usando a função `tuple()`."
   ]
  },
  {
   "cell_type": "code",
   "execution_count": 7,
   "metadata": {},
   "outputs": [
    {
     "name": "stdout",
     "output_type": "stream",
     "text": [
      "[56, 10, 15, 20, 25]\n",
      "(56, 10, 15, 20, 25)\n"
     ]
    }
   ],
   "source": [
    "# Usando função list.\n",
    "with open('binaryfile.bin', 'rb') as f:\n",
    "    num = list(f.read())\n",
    "    print(num)\n",
    "\n",
    "# Usando função tuple.\n",
    "with open('binaryfile.bin', 'rb') as f:\n",
    "    num = tuple(f.read())\n",
    "    print(num)"
   ]
  },
  {
   "cell_type": "markdown",
   "metadata": {},
   "source": [
    "## Escrevendo em arquivos"
   ]
  },
  {
   "cell_type": "markdown",
   "metadata": {},
   "source": [
    "Para escrever em um arquivo, usamos o método `write()`. Após sua execução, o método retorna o número de caracteres escritos no arquivo.\n",
    "\n",
    "**Exemplo**: No exemplo abaixo, escrevemos em um arquivo de log algumas datas e a respectiva temperatura."
   ]
  },
  {
   "cell_type": "code",
   "execution_count": 38,
   "metadata": {},
   "outputs": [
    {
     "name": "stdout",
     "output_type": "stream",
     "text": [
      "Número total de caracteres escritos no arquivo: 71\n",
      "\n",
      "Conteúdo do arquivo:\n",
      "15/10/2020 - 29.1\n",
      "16/10/2020 - 25.3\n",
      "17/10/2020 - 20.9\n",
      "18/10/2020 - 31.5"
     ]
    }
   ],
   "source": [
    "f = open('log.txt', 'w')\n",
    "\n",
    "numCaracteres  = f.write('15/10/2020 - 29.1\\n')\n",
    "numCaracteres += f.write('16/10/2020 - 25.3\\n')\n",
    "numCaracteres += f.write('17/10/2020 - 20.9\\n')\n",
    "numCaracteres += f.write('18/10/2020 - 31.5')\n",
    "\n",
    "print('Número total de caracteres escritos no arquivo:', numCaracteres)\n",
    "\n",
    "f.close()\n",
    "\n",
    "# lendo o conteúdo do arquivo.\n",
    "print('\\nConteúdo do arquivo:')\n",
    "with open('log.txt') as f:\n",
    "    for linha in f:\n",
    "        print(linha, end='')"
   ]
  },
  {
   "cell_type": "markdown",
   "metadata": {},
   "source": [
    "O método `writelines()` escreve os elementos de uma lista no arquivo."
   ]
  },
  {
   "cell_type": "code",
   "execution_count": 13,
   "metadata": {},
   "outputs": [
    {
     "name": "stdout",
     "output_type": "stream",
     "text": [
      "Vejo você em breve!\n",
      "Tchau\n"
     ]
    }
   ],
   "source": [
    "with open('exemplo1.txt', 'w') as f:\n",
    "    f.writelines(['Vejo você em breve!\\n', 'Tchau'])\n",
    "\n",
    "# lendo conteúdo do arquivo.\n",
    "with open(\"exemplo1.txt\", \"r\") as f:\n",
    "    print(f.read())"
   ]
  },
  {
   "cell_type": "markdown",
   "metadata": {},
   "source": [
    "#### Escrevendo em arquivos binários\n",
    "\n",
    "O código a seguir armazena uma lista de números em um arquivo binário. A lista é primeiro convertida em um vetor de bytes antes de ser escrita no arquivo. A função embutida `bytearray()` é utilizada para retornar uma representação de byte do objeto e então escrita no arquivo."
   ]
  },
  {
   "cell_type": "code",
   "execution_count": 40,
   "metadata": {},
   "outputs": [
    {
     "name": "stdout",
     "output_type": "stream",
     "text": [
      "b'\\x05\\n\\x0f\\x14\\x19'\n"
     ]
    }
   ],
   "source": [
    "with open('binfile.bin', 'wb') as f:\n",
    "    num = [5, 10, 15, 20, 25]\n",
    "    arr = bytearray(num)\n",
    "    f.write(arr)\n",
    "    \n",
    "with open('binfile.bin', 'rb') as f:\n",
    "    print(f.read())"
   ]
  },
  {
   "cell_type": "markdown",
   "metadata": {},
   "source": [
    "## Trabalhando com arquivos CSV\n",
    "\n",
    "CSV (Comma Separated Values) é um formato de arquivo usado para armazenar dados em forma tabular, ou seja, em forma de tabela, como por exemplo, os dados de uma planilha ou banco de dados. \n",
    "\n",
    "Um arquivo CSV armazena dados em forma de texto. \n",
    "\n",
    "Cada linha do arquivo é um registro de dados. Cada registro consiste em um ou mais campos, separados por vírgulas. O uso da vírgula como separador de campo é a origem do nome para este formato de arquivo, porém, outros separadores podem ser utilizados, como por exemplo, `;`, `-`, ` `, etc.\n",
    "\n",
    "O exemplo abaixo mostra um arquivo CSV com informações sobre carros.\n",
    "\n",
    "```csv\n",
    "Ano,Fabricante,Modelo,Preco\n",
    "1997,Ford,Fiesta,3000.00\n",
    "1999,Fiat,Palio,4900.00\n",
    "1999,Fiat,Siena,5000.00\n",
    "1996,Jeep,Grand Cherokee,4799.00\n",
    "```\n",
    "\n",
    "Para trabalhar com arquivos CSV em Python, existe um módulo embutido chamado `csv`. \n",
    "\n",
    "A leitura de um arquivo CSV é feita usando-se um objeto do tipo `reader`.\n",
    "\n",
    "**Exemplo**:\n",
    "\n",
    "No exemplo abaixo nós lemos um arquivo CSV com algumas informações de funcionários de uma empresa.\n",
    "\n",
    "Cada linha retornada pelo `reader` é uma lista de elementos do tipo string contendo os dados encontrados após a remoção dos delimitadores. Geralmente, os delimitadores em um arquivo CSV são as vírgulas.\n",
    "\n",
    "A primeira linha retornada pelo objeto do tipo `reader` contém os nomes das colunas."
   ]
  },
  {
   "cell_type": "code",
   "execution_count": 18,
   "metadata": {},
   "outputs": [
    {
     "name": "stdout",
     "output_type": "stream",
     "text": [
      "      Nome\t  Registro\t     Cargo\t   Salario\t  Admissao\n",
      "Joao da Silva\t     10001\t   Gerente\t   5000.00\t01/02/2019\n",
      "Alice de Moraes\t     10002\tSecretaria\t   2500.00\t11/11/2017\n",
      "Anabel Reis\t     10003\t  Analista\t   3200.00\t05/03/2020\n",
      "Roberto Amaral\t     10004\tEngenheiro\t   3500.00\t17/07/2016\n",
      "Thais Lima\t     10005\t Psicologa\t   3100.00\t08/09/2019\n",
      "\n",
      "Número de linhas processadas 6.\n"
     ]
    }
   ],
   "source": [
    "import csv\n",
    "\n",
    "with open('empresa.csv') as f:\n",
    "    # Normalmente o delimitador de arquivos CSV é a vírgula, \n",
    "    # mas pode ser alterado.\n",
    "    csv_reader = csv.reader(f, delimiter=',')\n",
    "    line_count = 0\n",
    "    for linha in csv_reader:\n",
    "        if line_count == 0:\n",
    "            print('%10s\\t%10s\\t%10s\\t%10s\\t%10s' % tuple(linha) )\n",
    "        else:\n",
    "            print('%10s\\t%10s\\t%10s\\t%10s\\t%10s' % tuple(linha) )\n",
    "        line_count += 1\n",
    "    print('\\nNúmero de linhas processadas %d.' % (line_count))"
   ]
  },
  {
   "cell_type": "markdown",
   "metadata": {},
   "source": [
    "Nós podemos escrever em um arquivo CSV usando um objeto do tipo `writer` e seu método `write_row()`, como mostrado no exemplo abaixo."
   ]
  },
  {
   "cell_type": "code",
   "execution_count": 19,
   "metadata": {},
   "outputs": [
    {
     "name": "stdout",
     "output_type": "stream",
     "text": [
      "Nome,Cargo,Salario\n",
      "João Marcos,Financas,2100.00\n",
      "Valeria Vilela,Suporte,1200.00\n"
     ]
    }
   ],
   "source": [
    "import csv\n",
    "\n",
    "with open('funcionarios.csv', mode='w', newline='') as arquivo_funcionario:\n",
    "    csv_writer = csv.writer(arquivo_funcionario, delimiter=',')\n",
    "\n",
    "    csv_writer.writerow(['Nome', 'Cargo', 'Salario'])\n",
    "    csv_writer.writerow(['João Marcos', 'Financas', '2100.00'])\n",
    "    csv_writer.writerow(['Valeria Vilela', 'Suporte', '1200.00'])\n",
    "\n",
    "# Lendo o conteúdo do arquivo.\n",
    "with open('funcionarios.csv') as f:\n",
    "    for linha in f:\n",
    "        print(linha, end='')"
   ]
  },
  {
   "cell_type": "markdown",
   "metadata": {},
   "source": [
    "Podemos escrever várias linhas de uma só vez com o método `writerows()`, como mostrado no exemplo abaixo. Para escrever várias linhas, passamos uma lista de listas para o método, onde cada uma das listas é escrita em uma linha do arquivo CSV."
   ]
  },
  {
   "cell_type": "code",
   "execution_count": 20,
   "metadata": {},
   "outputs": [
    {
     "name": "stdout",
     "output_type": "stream",
     "text": [
      "Nome,Cargo,Salario\n",
      "João Marcos,Financas,2100.00\n",
      "Valeria Vilela,Suporte,1200.00\n"
     ]
    }
   ],
   "source": [
    "import csv\n",
    "\n",
    "linhas = [\n",
    "    ['Nome', 'Cargo', 'Salario'],\n",
    "    ['João Marcos', 'Financas', '2100.00'],\n",
    "    ['Valeria Vilela', 'Suporte', '1200.00']\n",
    "]\n",
    "\n",
    "# Escrevendo no arquivo.\n",
    "with open('funcionarios2.csv', mode='w', newline='') as arquivo_funcionario:\n",
    "    csv_writer = csv.writer(arquivo_funcionario, delimiter=',')\n",
    "    \n",
    "    csv_writer.writerows(linhas)\n",
    "\n",
    "# Lendo o arquivo.\n",
    "with open('funcionarios2.csv') as f:\n",
    "    for linha in f:\n",
    "        print(linha, end='')"
   ]
  },
  {
   "cell_type": "markdown",
   "metadata": {},
   "source": [
    "## Trabalhando com arquivos JSON\n",
    "\n",
    "JSON (JavaScript Object Notation) é um formato de dados muito popular usado para representar dados estruturados. É comum transmitir e receber dados entre um servidor e um aplicativo web no formato JSON. Além disso, o banco de dados orientado a documentos, MongoDB, utiliza arquivos JSON para armazenar informações.\n",
    "\n",
    "Um arquivo JSON é praticamente idêntico à um dicionário em Python.\n",
    "\n",
    "O exemplo a seguir mostra uma possível representação JSON que descreve uma pessoa.\n",
    "\n",
    "```json\n",
    "{\n",
    "  \"firstName\": \"John\",\n",
    "  \"lastName\": \"Smith\",\n",
    "  \"isAlive\": true,\n",
    "  \"age\": 27,\n",
    "  \"address\": {\n",
    "    \"streetAddress\": \"21 2nd Street\",\n",
    "    \"city\": \"New York\",\n",
    "    \"state\": \"NY\",\n",
    "    \"postalCode\": \"10021-3100\"\n",
    "  },\n",
    "  \"phoneNumbers\": [\n",
    "    {\n",
    "      \"type\": \"home\",\n",
    "      \"number\": \"212 555-1234\"\n",
    "    },\n",
    "    {\n",
    "      \"type\": \"office\",\n",
    "      \"number\": \"646 555-4567\"\n",
    "    }\n",
    "  ],\n",
    "  \"children\": [],\n",
    "  \"spouse\": null\n",
    "}\n",
    "```\n",
    "\n",
    "Em Python, um exemplo de uma **string** JSON é dada por\n",
    "\n",
    "```json\n",
    "p = '{\"Nome\": \"Roberto\", \"Linguagens\": [\"Python\", \"Java\"]}'\n",
    "```\n",
    "\n",
    "Note que esta string nada mais é do que uma string representando um **dicionário**.\n",
    "\n",
    "Portanto, podemos analisar uma string JSON usando o método `json.loads()`, o qual retorna um dicionário, como mostrado abaixo."
   ]
  },
  {
   "cell_type": "code",
   "execution_count": 31,
   "metadata": {},
   "outputs": [
    {
     "name": "stdout",
     "output_type": "stream",
     "text": [
      "<class 'str'>\n",
      "{'nome': 'Roberto', 'linguas': ['Portugues', 'Ingles', 'Frances']}\n",
      "<class 'dict'>\n",
      "['Portugues', 'Ingles', 'Frances']\n"
     ]
    }
   ],
   "source": [
    "import json\n",
    "\n",
    "pessoa = '{\"nome\": \"Roberto\", \"linguas\": [\"Portugues\", \"Ingles\", \"Frances\"]}'\n",
    "print(type(pessoa))\n",
    "\n",
    "pessoa_dict = json.loads(pessoa)\n",
    "print(pessoa_dict)\n",
    "print(type(pessoa_dict))\n",
    "\n",
    "# Acessando o valor associado à chave 'linguas'.\n",
    "print(pessoa_dict['linguas'])"
   ]
  },
  {
   "cell_type": "markdown",
   "metadata": {},
   "source": [
    "Podemos usar o método `json.load()` para ler um arquivo que contém um objeto JSON.\n",
    "\n",
    "Por exemplo, vamos supor que temos um arquivo chamado `funcionarios3.json` que contém um objeto JSON. Nós podemos carregar e analisar esse arquivo da seguinte forma:"
   ]
  },
  {
   "cell_type": "code",
   "execution_count": 104,
   "metadata": {},
   "outputs": [
    {
     "name": "stdout",
     "output_type": "stream",
     "text": [
      "{'nome': 'Roberto', 'Cargo': 'Engenheiro', 'Salario': '3250.00', 'Linguas': ['Portugues', 'Ingles', 'Frances']}\n",
      "Linguas: ['Portugues', 'Ingles', 'Frances']\n"
     ]
    }
   ],
   "source": [
    "import json\n",
    "\n",
    "with open('funcionarios3.json') as f:\n",
    "    funcionarios = json.load(f)\n",
    "\n",
    "print(funcionarios)\n",
    "\n",
    "print('Linguas:', funcionarios['Linguas'])"
   ]
  },
  {
   "cell_type": "markdown",
   "metadata": {},
   "source": [
    "O arquivo é analisado usando-se o método `json.load()` o qual retorna um dicionário."
   ]
  },
  {
   "cell_type": "markdown",
   "metadata": {},
   "source": [
    "Podemos converter um dicionário em uma string JSON usando o método `json.dumps()`."
   ]
  },
  {
   "cell_type": "code",
   "execution_count": 41,
   "metadata": {},
   "outputs": [
    {
     "name": "stdout",
     "output_type": "stream",
     "text": [
      "{\"Nome\": \"Roberto\", \"Idade\": 33, \"Cargo\": \"Advogado\"}\n",
      "<class 'str'>\n"
     ]
    }
   ],
   "source": [
    "import json\n",
    "\n",
    "pessoa_dict = {'Nome': 'Roberto',\n",
    "'Idade': 33,\n",
    "'Cargo': 'Advogado'\n",
    "}\n",
    "\n",
    "pessoa_json = json.dumps(pessoa_dict)\n",
    "\n",
    "print(pessoa_json)\n",
    "print(type(pessoa_json))"
   ]
  },
  {
   "cell_type": "markdown",
   "metadata": {},
   "source": [
    "Para escrever dados em um arquivo JSON, nós também utilizamos o método `json.dump()`."
   ]
  },
  {
   "cell_type": "code",
   "execution_count": 43,
   "metadata": {},
   "outputs": [
    {
     "name": "stdout",
     "output_type": "stream",
     "text": [
      "{\n",
      "   \"Nome\": \"Roberto\",\n",
      "   \"Linguas\": [\n",
      "      \"Portugues\",\n",
      "      \"Ingles\",\n",
      "      \"Frances\"\n",
      "   ],\n",
      "   \"Casado\": true,\n",
      "   \"Idade\": 32\n",
      "}\n"
     ]
    }
   ],
   "source": [
    "import json\n",
    "\n",
    "pessoa_dict = {\n",
    "    \"Nome\": \"Roberto\",\n",
    "    \"Linguas\": [\"Portugues\", \"Ingles\", \"Frances\"],\n",
    "    \"Casado\": True,\n",
    "    \"Idade\": 32\n",
    "}\n",
    "\n",
    "with open('pessoas.json', 'w') as json_file:\n",
    "    json.dump(pessoa_dict, json_file)\n",
    "    \n",
    "# lendo e imprimindo o conteúdo do arquivo.\n",
    "with open('pessoas.json') as f:\n",
    "    pessoas_dict = json.load(f)\n",
    "\n",
    "print(json.dumps(pessoas_dict, indent = 3))"
   ]
  },
  {
   "cell_type": "markdown",
   "metadata": {},
   "source": [
    "## Tarefas\n",
    "\n",
    "1. <span style=\"color:blue\">**QUIZ - Trabalhando com arquivos**</span>: respondam ao questionário sobre arquivos no MS teams, por favor. \n",
    "2. <span style=\"color:blue\">**Laboratório #9**</span>: cliquem em um dos links abaixo para accessar os exercícios do laboratório #9.\n",
    "\n",
    "[![Binder](https://mybinder.org/badge_logo.svg)](https://mybinder.org/v2/gh/zz4fap/python-programming/master?filepath=labs%2FLaboratorio9.ipynb)\n",
    "\n",
    "[![Google Colab](https://badgen.net/badge/Launch/on%20Google%20Colab/blue?icon=terminal)](https://colab.research.google.com/github/zz4fap/python-programming/blob/master/labs/Laboratorio9.ipynb)\n",
    "\n",
    "**IMPORTANTE**: Para acessar o material das aulas e realizar as entregas dos exercícios de laboratório, por favor, leiam o tutorial no seguinte link:\n",
    "[Material-das-Aulas](../docs/Acesso-ao-material-das-aulas-resolucao-e-entrega-dos-laboratorios.pdf)"
   ]
  },
  {
   "cell_type": "markdown",
   "metadata": {},
   "source": [
    "## Avisos\n",
    "\n",
    "* Se atentem aos prazos de entrega das tarefas na aba de **Avaliações** do MS Teams.\n",
    "* Horário de atendimento todas as Quintas-feiras as 17:30 às 19:30 via MS Teams enquanto as aulas presenciais não retornam."
   ]
  },
  {
   "cell_type": "markdown",
   "metadata": {},
   "source": [
    "<img src=\"../figures/obrigado.png\" width=\"1000\" height=\"1000\">"
   ]
  }
 ],
 "metadata": {
  "kernelspec": {
   "display_name": "Python 3",
   "language": "python",
   "name": "python3"
  },
  "language_info": {
   "codemirror_mode": {
    "name": "ipython",
    "version": 3
   },
   "file_extension": ".py",
   "mimetype": "text/x-python",
   "name": "python",
   "nbconvert_exporter": "python",
   "pygments_lexer": "ipython3",
   "version": "3.7.7"
  }
 },
 "nbformat": 4,
 "nbformat_minor": 4
}
