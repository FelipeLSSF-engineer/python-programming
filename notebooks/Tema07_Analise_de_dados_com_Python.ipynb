{
 "cells": [
  {
   "cell_type": "markdown",
   "metadata": {},
   "source": [
    "# Análise de dados com Python \n",
    "\n",
    "## Introdução\n",
    "\n",
    "O Python conta com várias bibliotecas muito poderosas para a análise de dados como:\n",
    "\n",
    "+ **NumPy**: computação numérica.\n",
    "+ **Pandas**: análise e manipulação de dados.\n",
    "+ **Matplotlib**: visualização de dados."
   ]
  },
  {
   "cell_type": "markdown",
   "metadata": {},
   "source": [
    "## NumPy: Uma biblioteca para computação científica\n",
    "\n",
    "NumPy, ou Numerical Python, é a principal biblioteca para computação numérica de alto desempenho em Python. \n",
    "\n",
    "Possibilita a realização de operações aritméticas de forma rápida e fácil com arrays (e.g., matrizes e vetores) multidimensionais.\n",
    "\n",
    "A rapidez na realização das operações se deve ao uso de códigos compilados e otimizados em C e Fortran acessados em Python através de interfaces.\n",
    "\n",
    "Se você já está familiarizado com o MATLAB, então você vai encontrar várias similaridades."
   ]
  },
  {
   "cell_type": "markdown",
   "metadata": {},
   "source": [
    "### Vetores e Matrizes\n",
    "\n",
    "As arrays NumPy são representadas por objetos da classe `ndarray` e podem ter qualquer número de dimensões.\n",
    "\n",
    "Três exemplos bem conhecidos de arrays são os escalares, vetores e matrizes.\n",
    "\n",
    "#### Classe ndarray\n",
    "\n",
    "A classe que implementa as arrays NumPy é chamada de `ndarray`.\n",
    "\n",
    "Um objeto do tipo `ndarray` é um contêiner (i.e., coleção de objetos) **multidimensional** para o armazenamento de objetos **homogêneos** (ou seja, do mesmo tipo), que pode ser indexado (**ordenado**) e alterado (**mutável**).\n",
    "\n",
    "A classe fornece operações aritméticas e recursos de **difusão** (ou *broadcast*, que é tratamento de arrays com tamanhos diferentes). \n",
    "\n",
    "Um objeto `ndarray` tem dois atributos principais: **shape** (forma) e **dtype** (tipo). \n",
    "\n",
    "O atributo **shape** é uma **tupla** que fornece as dimensões da array e **dtype** fornece o tipo dos elementos armazenados na array."
   ]
  },
  {
   "cell_type": "markdown",
   "metadata": {},
   "source": [
    "#### Exemplo: Criando uma array unidimensional.\n",
    "\n",
    "Podemos inicializar arrays NumPy a partir de **listas aninhadas** passadas para a função `array()`.\n",
    "\n",
    "O número de dimensões da array é dado pela quantidade de níveis de aninhamento das listas.\n",
    "\n",
    "Os elementos da array são **acessados através de seus índices**.\n",
    "\n",
    "Para utilizar a biblioteca NumPy, precisamos importá-la."
   ]
  },
  {
   "cell_type": "code",
   "execution_count": 1,
   "metadata": {
    "scrolled": true
   },
   "outputs": [
    {
     "name": "stdout",
     "output_type": "stream",
     "text": [
      "Tipo da array: <class 'numpy.ndarray'>\n",
      "Dimensão: (3,)\n",
      "Tipo dos elementos: int32\n",
      "\n",
      "Acessando o primeiro elemento: 1\n",
      "Acessando o segundo elemento: 2\n",
      "Acessando o terceiro elemento: 3\n",
      "\n",
      "Novo conteúdo da array: [5 2 3]\n"
     ]
    }
   ],
   "source": [
    "# Precisamos importar a biblioteca.\n",
    "import numpy as np\n",
    "\n",
    "a = np.array([1, 2, 3])                # Criando um vetor a partir de uma lista.\n",
    "print('Tipo da array:', type(a))       # Imprime o tipo do vetor.\n",
    "print('Dimensão:', a.shape)            # Imprime a dimensão do vetor.\n",
    "print('Tipo dos elementos:', a.dtype)  # Imprime o tipo dos elementos da ndarray.\n",
    "print('')\n",
    "\n",
    "# Acessando valores específicos.\n",
    "print('Acessando o primeiro elemento:', a[0])\n",
    "print('Acessando o segundo elemento:', a[1])\n",
    "print('Acessando o terceiro elemento:', a[2])\n",
    "print('')\n",
    "\n",
    "# Alterando o valor de um elemento da array.\n",
    "a[0] = 5              \n",
    "print('Novo conteúdo da array:', a)"
   ]
  },
  {
   "cell_type": "markdown",
   "metadata": {},
   "source": [
    "#### Exemplo: Criando arrays bidimensionais.\n",
    "\n",
    "A profundidade (ou seja, a quantidade de níveis) de aninhamento das listas define o número de dimensões da array.\n",
    "\n",
    "**Vetor linha**\n",
    "\n",
    "No exemplo abaixo, a lista aninhada é uma linha do vetor."
   ]
  },
  {
   "cell_type": "code",
   "execution_count": 2,
   "metadata": {},
   "outputs": [
    {
     "name": "stdout",
     "output_type": "stream",
     "text": [
      "Dimensão: (1, 3)\n",
      "Conteúdo da array: [[1 2 3]]\n",
      "\n",
      "Acessando elemento da linha 1 coluna 1: 1\n",
      "Acessando elemento da linha 1 coluna 2: 2\n",
      "Acessando elemento da linha 1 coluna 3: 3\n",
      "\n",
      "Novo conteúdo da array: [[5 2 3]]\n"
     ]
    }
   ],
   "source": [
    "# Cria um vetor 1x3.\n",
    "a = np.array([ [1, 2, 3] ])            # Criando um vetor a partir de uma lista.\n",
    "\n",
    "print('Dimensão:', a.shape)            # Imprime a dimensão do vetor.\n",
    "print('Conteúdo da array:', a)         # Imprime o conteúdo da array.\n",
    "print('')\n",
    "\n",
    "# Acessando valores específicos.\n",
    "print('Acessando elemento da linha 1 coluna 1:', a[0, 0])\n",
    "print('Acessando elemento da linha 1 coluna 2:', a[0, 1])\n",
    "print('Acessando elemento da linha 1 coluna 3:', a[0, 2])\n",
    "print('')\n",
    "\n",
    "# Alterando o valor de um elemento da array.\n",
    "a[0, 0] = 5              \n",
    "print('Novo conteúdo da array:', a)"
   ]
  },
  {
   "cell_type": "markdown",
   "metadata": {},
   "source": [
    "**Vetor coluna**\n",
    "\n",
    "No exemplo abaixo, cada lista aninhada é uma linha da matriz.\n",
    "\n",
    "Portanto, um **vetor coluna** é criado **empilhando-se** listas de **um único elemento**, pois a quantidade de elementos nas listas, define o número de colunas."
   ]
  },
  {
   "cell_type": "code",
   "execution_count": 3,
   "metadata": {},
   "outputs": [
    {
     "name": "stdout",
     "output_type": "stream",
     "text": [
      "Dimensão: (3, 1)\n",
      "Conteúdo da array: \n",
      " [[1]\n",
      " [2]\n",
      " [3]]\n",
      "\n",
      "Acessando elemento da linha 1 coluna 1: 1\n",
      "Acessando elemento da linha 2 coluna 1: 2\n",
      "Acessando elemento da linha 3 coluna 1: 3\n",
      "\n",
      "Novo conteúdo da array: \n",
      " [[5]\n",
      " [2]\n",
      " [3]]\n"
     ]
    }
   ],
   "source": [
    "# Cria um vetor 3x1.\n",
    "a = np.array([ [1], [2], [3] ])           # Criando um vetor a partir de uma lista.\n",
    "\n",
    "print('Dimensão:', a.shape)               # Imprime a dimensão do vetor.\n",
    "print('Conteúdo da array: \\n %s' % (a))   # Imprime o conteúdo da array.\n",
    "\n",
    "print('')\n",
    "\n",
    "# Acessando valores específicos.\n",
    "print('Acessando elemento da linha 1 coluna 1:', a[0, 0])\n",
    "print('Acessando elemento da linha 2 coluna 1:', a[1, 0])\n",
    "print('Acessando elemento da linha 3 coluna 1:', a[2, 0])\n",
    "print('')\n",
    "\n",
    "# Alterando o valor de um elemento da array.\n",
    "a[0, 0] = 5              \n",
    "print('Novo conteúdo da array: \\n %s' % (a))"
   ]
  },
  {
   "cell_type": "markdown",
   "metadata": {},
   "source": [
    "**Matriz**\n",
    "\n",
    "No exemplo abaixo, cada lista aninhada é uma **linha** da matriz.\n",
    "\n",
    "Portanto, uma matriz é criada **empilhando-se** listas onde o número de elementos das listas define o **número de colunas** da matriz."
   ]
  },
  {
   "cell_type": "code",
   "execution_count": 4,
   "metadata": {},
   "outputs": [
    {
     "name": "stdout",
     "output_type": "stream",
     "text": [
      "Dimensão (2, 3)\n",
      "Conteúdo da matriz: \n",
      " [[1 2 3]\n",
      " [4 5 6]]\n",
      "\n",
      "Acessando elemento da linha 1 coluna 1: 1\n",
      "Acessando elemento da linha 2 coluna 2: 5\n",
      "\n",
      "Novo conteúdo da array: \n",
      " [[5 2 3]\n",
      " [4 5 6]]\n"
     ]
    }
   ],
   "source": [
    "# Cria uma matriz 2x3.\n",
    "A = np.array([ [1, 2, 3], [4, 5, 6] ])\n",
    "\n",
    "print('Dimensão', A.shape)                     # Imprime as dimensões da matriz.\n",
    "print('Conteúdo da matriz: \\n %s' % (A))       # Vejam que a matriz é uma lista de listas.\n",
    "print('')\n",
    "\n",
    "# Acessando valores específicos.\n",
    "print('Acessando elemento da linha 1 coluna 1:', A[0, 0])\n",
    "print('Acessando elemento da linha 2 coluna 2:', A[1, 1])\n",
    "print('')\n",
    "\n",
    "# Alterando o valor de um elemento da matriz.\n",
    "A[0, 0] = 5                        \n",
    "print('Novo conteúdo da array: \\n %s' % (A))"
   ]
  },
  {
   "cell_type": "markdown",
   "metadata": {},
   "source": [
    "#### Exemplo: Criando arrays tridimensionais.\n",
    "\n",
    "A profundidade de aninhamento das listas define o número de dimensões da array."
   ]
  },
  {
   "cell_type": "code",
   "execution_count": 5,
   "metadata": {},
   "outputs": [
    {
     "name": "stdout",
     "output_type": "stream",
     "text": [
      "Dimensão (2, 2, 2)\n",
      "Conteúdo da matriz: \n",
      " [[[1 2]\n",
      "  [3 4]]\n",
      "\n",
      " [[5 6]\n",
      "  [7 8]]]\n",
      "\n",
      "Acessando elemento da linha 1 coluna 1: 1\n",
      "Acessando elemento da linha 2 coluna 2: 8\n",
      "\n",
      "Novo conteúdo da array: \n",
      " [[[5 2]\n",
      "  [3 4]]\n",
      "\n",
      " [[5 6]\n",
      "  [7 8]]]\n"
     ]
    }
   ],
   "source": [
    "A = np.array([ [ [1, 2], [3, 4] ], [ [5, 6], [7, 8] ] ])\n",
    "\n",
    "print('Dimensão', A.shape)                     # Imprime as dimensões da matriz.\n",
    "print('Conteúdo da matriz: \\n %s' % (A))       # Vejam que a matriz é uma lista de listas.\n",
    "print('')\n",
    "\n",
    "# Acessando valores específicos.\n",
    "print('Acessando elemento da linha 1 coluna 1:', A[0, 0, 0])\n",
    "print('Acessando elemento da linha 2 coluna 2:', A[1, 1, 1])\n",
    "print('')\n",
    "\n",
    "# Alterando o valor de um elemento da matriz.\n",
    "A[0, 0, 0] = 5                        \n",
    "print('Novo conteúdo da array: \\n %s' % (A))"
   ]
  },
  {
   "cell_type": "markdown",
   "metadata": {},
   "source": [
    "### Funções para criação de arrays.\n",
    "\n",
    "A biblioteca NumPy também oferece várias funções para a criação de arrays."
   ]
  },
  {
   "cell_type": "code",
   "execution_count": 6,
   "metadata": {},
   "outputs": [
    {
     "name": "stdout",
     "output_type": "stream",
     "text": [
      "Cria uma array com todos valores iguais a zero.\n",
      "Matriz 2x2 de zeros:\n",
      " [[0. 0.]\n",
      " [0. 0.]]\n",
      "\n",
      "Cria uma array com todos valores iguais a um.\n",
      "Vetor linha 1x2 com uns: [[1. 1.]]\n",
      "\n",
      "Cria uma array com valores constantes.\n",
      "Matriz 3x2 com valores constantes:\n",
      " [[7 7]\n",
      " [7 7]\n",
      " [7 7]]\n"
     ]
    }
   ],
   "source": [
    "print('Cria uma array com todos valores iguais a zero.')\n",
    "a = np.zeros((2,2))           # Passamos uma tupla com as dimensões.\n",
    "print('Matriz 2x2 de zeros:\\n %s' % (a))\n",
    "\n",
    "print('\\nCria uma array com todos valores iguais a um.')\n",
    "b = np.ones((1,2))            # Passamos uma tupla com as dimensões.\n",
    "print('Vetor linha 1x2 com uns:', b)\n",
    "\n",
    "print('\\nCria uma array com valores constantes.')\n",
    "c = np.full((3,2), 7)         # Passamos uma tupla com as dimensões.\n",
    "print('Matriz 3x2 com valores constantes:\\n %s' % (c))"
   ]
  },
  {
   "cell_type": "code",
   "execution_count": 7,
   "metadata": {},
   "outputs": [
    {
     "name": "stdout",
     "output_type": "stream",
     "text": [
      "\n",
      "Cria uma matriz identidade 2x2.\n",
      "Matriz identidade:\n",
      " [[1. 0.]\n",
      " [0. 1.]]\n",
      "\n",
      "Cria uma matriz com valores aleatórios uniformemente distribuidos entre 0 e 1.\n",
      "Matriz 2x3 com valores aleatórios:\n",
      " [[0.25314775 0.64076909 0.839816  ]\n",
      " [0.44029866 0.654781   0.52271814]]\n",
      "\n",
      "Cria uma matriz com valores aleatórios uniformemente distribuidos entre 0 e 1.\n",
      "Matriz 2x3 com valores aleatórios:\n",
      " [[0.00693926 0.18123214 0.24608643]\n",
      " [0.2635628  0.66384522 0.9929324 ]]\n"
     ]
    }
   ],
   "source": [
    "print('\\nCria uma matriz identidade 2x2.')\n",
    "d = np.eye(2)                 # O parâmetro define as dimensões da matriz.\n",
    "print('Matriz identidade:\\n %s' % (d))\n",
    "\n",
    "print('\\nCria uma matriz com valores aleatórios uniformemente distribuidos entre 0 e 1.')\n",
    "e = np.random.random((2,3))   # Passamos uma tupla com as dimensões.\n",
    "print('Matriz 2x3 com valores aleatórios:\\n %s' % (e))\n",
    "\n",
    "print('\\nCria uma matriz com valores aleatórios uniformemente distribuidos entre 0 e 1.')\n",
    "e = np.random.rand(2,3)     # Aqui NÃO usamos uma tupla, os parâmetros de entrada definem as dimensões.\n",
    "print('Matriz 2x3 com valores aleatórios:\\n %s' % (e))"
   ]
  },
  {
   "cell_type": "code",
   "execution_count": 8,
   "metadata": {},
   "outputs": [
    {
     "name": "stdout",
     "output_type": "stream",
     "text": [
      "\n",
      "Cria uma matriz com valores aleatórios inteiros e uniformemente distribuidos entre o intervalo especificado.\n",
      "Matriz 2x2 com valores aleatórios:\n",
      " [[0 1]\n",
      " [2 1]]\n",
      "\n",
      "Cria um vetor com valores aleatórios normalmente distribuidos com média 0 e variância unitária.\n",
      "Vetor coluna 4x1 com valores aleatórios:\n",
      " [[ 0.79933879]\n",
      " [-1.38290352]\n",
      " [-0.24552544]\n",
      " [ 0.67904582]]\n",
      "\n",
      "Cria uma array com valores uniformemente espaçados no intervalo definido.\n",
      "Array com valores no intervalo:\n",
      " [0.  0.5 1.  1.5 2.  2.5 3.  3.5 4.  4.5 5.  5.5 6.  6.5 7.  7.5 8.  8.5\n",
      " 9.  9.5]\n",
      "\n",
      "Gera um número determinado de pontos linearmente espaçados entre dois valores\n",
      "Array com valores linearmente espaçados:\n",
      " [-3.  0.  3.]\n"
     ]
    }
   ],
   "source": [
    "print('\\nCria uma matriz com valores aleatórios inteiros e uniformemente distribuidos entre o intervalo especificado.')\n",
    "e = np.random.randint(0, 4, (2, 2))     # Os dois primeiros parâmetros definem o intervalo e a tupla as dimensões.\n",
    "print('Matriz 2x2 com valores aleatórios:\\n %s' % (e))\n",
    "\n",
    "print('\\nCria um vetor com valores aleatórios normalmente distribuidos com média 0 e variância unitária.')\n",
    "e = np.random.randn(4, 1)     # Aqui também NÃO usamos uma tupla, os parâmetros de entrada definem as dimensões.\n",
    "print('Vetor coluna 4x1 com valores aleatórios:\\n %s' % (e))\n",
    "\n",
    "print('\\nCria uma array com valores uniformemente espaçados no intervalo definido.')\n",
    "f = np.arange(0, 10, 0.5)   # Os dois primeiros parâmetros definem o intervalo e o terceiro o incremento.\n",
    "print('Array com valores no intervalo:\\n %s' % (f))\n",
    "\n",
    "print('\\nGera um número determinado de pontos linearmente espaçados entre dois valores')\n",
    "h = np.linspace(-3, 3, 3)   # Os dois primeiros parâmetros definem o intervalo e o terceiro o número de pontos.\n",
    "print('Array com valores linearmente espaçados:\\n %s' % (h))"
   ]
  },
  {
   "cell_type": "markdown",
   "metadata": {},
   "source": [
    "**IMPORTANTE**\n",
    "\n",
    "+ Outras funções para criação de arrays podem ser encontradas na documentação da biblioteca:\n",
    "https://numpy.org/doc/stable/user/basics.creation.html#arrays-creation"
   ]
  },
  {
   "cell_type": "markdown",
   "metadata": {},
   "source": [
    "### Fatiamento de arrays\n",
    "\n",
    "Similarmente ao que é feito com listas, strings, etc., arrays NumPy podem ser fatiadas. \n",
    "\n",
    "**IMPORTANTE**\n",
    "\n",
    "* Como as arrays podem ser multidimensionais, devemos especificar uma **fatia** para cada dimensão dela.\n",
    "* O intervalo final de uma fatia não é fechado.\n",
    "\n",
    "#### Exemplo"
   ]
  },
  {
   "cell_type": "code",
   "execution_count": 9,
   "metadata": {},
   "outputs": [
    {
     "name": "stdout",
     "output_type": "stream",
     "text": [
      "Dimensões da matriz C: (2, 2)\n",
      "Conteúdo da matriz C:\n",
      " [[2 3]\n",
      " [6 7]]\n",
      "\n",
      "Conteúdo do velor d: [5 6 7 8]\n",
      "d.shape: (4,)\n"
     ]
    }
   ],
   "source": [
    "# Cria uma matriz com dimensão 3x4.\n",
    "A = np.array([ [1, 2, 3, 4], [5, 6, 7, 8], [9, 10, 11, 12] ])\n",
    "\n",
    "# Fatiando a matriz para criar uma submatriz que consiste \n",
    "# das 2 primeiras linhas (i.e., 0 e 1) e colunas 2 e 3 da matriz A.\n",
    "# Consequentemente, a matriz C será uma matriz de dimensão 2x2:\n",
    "C = A[0:2, 1:3]\n",
    "print('Dimensões da matriz C:', C.shape)\n",
    "print('Conteúdo da matriz C:\\n %s' % (C))\n",
    "\n",
    "# Cria vetor com todos os elementos da segunda linha da matriz A.\n",
    "d = A[1, :]\n",
    "print('\\nConteúdo do velor d:', d)\n",
    "print('d.shape:', d.shape)"
   ]
  },
  {
   "cell_type": "markdown",
   "metadata": {},
   "source": [
    "**OBS**.: Fatias acessam a array original, portanto, uma mudança na fatia altera na verdade a array original."
   ]
  },
  {
   "cell_type": "code",
   "execution_count": 10,
   "metadata": {},
   "outputs": [
    {
     "name": "stdout",
     "output_type": "stream",
     "text": [
      "Conteúdo da matriz A:\n",
      " [[ 1  2  3  4]\n",
      " [ 5  6  7  8]\n",
      " [ 9 10 11 12]]\n",
      "\n",
      "Dimensão da matriz B: (2, 2)\n",
      "Conteúdo da matriz B:\n",
      " [[2 3]\n",
      " [6 7]]\n",
      "\n",
      "Valor de A[0, 1] antes: 2\n",
      "Valor de A[0, 1] depois: 77\n",
      "\n",
      "Conteúdo da matriz B:\n",
      " [[77  3]\n",
      " [ 6  7]]\n",
      "\n",
      "Valor de A[0, 1] antes: 77\n",
      "Valor de A[0, 1] depois: 77\n"
     ]
    }
   ],
   "source": [
    "# Cria uma matriz com dimensão 3x4.\n",
    "A = np.array([ [1, 2, 3, 4], [5, 6, 7, 8], [9, 10, 11, 12] ])\n",
    "print('Conteúdo da matriz A:\\n %s' % (A))\n",
    "\n",
    "# Fatiando para criar uma submatriz que consiste \n",
    "# nas 2 primeiras linhas (i.e., 0 e 1) e colunas 2 e 3 da matriz A.\n",
    "B = A[0:2, 1:3]\n",
    "print('\\nDimensão da matriz B:', B.shape)\n",
    "print('Conteúdo da matriz B:\\n %s' % (B))\n",
    "print('')\n",
    "\n",
    "# Uma fatia B de uma matriz A acessa os mesmos elementos de A, \n",
    "# portanto, modificar B irá modificar a matriz original, A.\n",
    "print('Valor de A[0, 1] antes:', A[0, 1])    # Imprime o valor 2.\n",
    "B[0, 0] = 77                                 # B[0, 0] acessa o mesmo elemento que A[0, 1]\n",
    "print('Valor de A[0, 1] depois:', A[0, 1])   # Imprime o valor 77.\n",
    "\n",
    "# Para criar uma subarray B independente da array A, devemos usar o método copy() da classe ndarray.\n",
    "B = A.copy()[0:2, 1:3]\n",
    "print('\\nConteúdo da matriz B:\\n %s' % (B))\n",
    "\n",
    "print('\\nValor de A[0, 1] antes:', A[0, 1])    # Imprime o valor 77.\n",
    "B[0, 0] = 2                                    # B[0, 0] acessa o mesmo elemento que A[0, 1]\n",
    "print('Valor de A[0, 1] depois:', A[0, 1])     # Imprime o valor 77."
   ]
  },
  {
   "cell_type": "markdown",
   "metadata": {},
   "source": [
    "### Indexação com filtragem condicional\n",
    "\n",
    "Nós também podemos utilizar **filtragem condicional** para indexar arrays NumPy.\n",
    "\n",
    "A **filtragem condicional**, como o próprio nome diz, permite selecionar os elementos de uma array que satisfazem alguma condição específica.\n",
    "\n",
    "#### Exemplo #1: Filtrando valores maiores do que 4."
   ]
  },
  {
   "cell_type": "code",
   "execution_count": 11,
   "metadata": {},
   "outputs": [
    {
     "name": "stdout",
     "output_type": "stream",
     "text": [
      "Conteúdo da array a: [0 1 2 3 4 5 6 7 8 9]\n",
      "indices: [False False False False False  True  True  True  True  True]\n",
      "a[indices]: [5 6 7 8 9]\n",
      "a[a > 4]: [5 6 7 8 9]\n"
     ]
    }
   ],
   "source": [
    "# Cria array com valores de 0 a 9.\n",
    "a = np.arange(0, 10)\n",
    "\n",
    "print('Conteúdo da array a:', a)\n",
    "\n",
    "# Encontra elementos que são maiores do que 4.\n",
    "# A instrução abaixo retorna uma array com valores booleanos \n",
    "# com a mesma dimensão da array a, onde cada valor (True ou False) informa se \n",
    "# esse elemento de a é maior do que 4.\n",
    "indices = a > 4\n",
    "print('indices:', indices)\n",
    "\n",
    "# Usamos a array de valores booleanos para criar uma array\n",
    "# consistindo apenas dos elementos que correspondem aos \n",
    "# valores verdadeiros do vetor \"indices\".\n",
    "print('a[indices]:', a[indices])\n",
    "\n",
    "# Ao invés de criar uma variável com a array de valores booleanos, podemos fazer tudo isso em uma única declaração.\n",
    "print('a[a > 4]:', a[a > 4])"
   ]
  },
  {
   "cell_type": "markdown",
   "metadata": {},
   "source": [
    "#### Exemplo #2: Filtrando valores iguais a 2."
   ]
  },
  {
   "cell_type": "code",
   "execution_count": 12,
   "metadata": {},
   "outputs": [
    {
     "name": "stdout",
     "output_type": "stream",
     "text": [
      "Conteúdo da array \"indices\": [False  True False False  True False  True False]\n",
      "a[indices]: [2 2 2]\n"
     ]
    }
   ],
   "source": [
    "a = np.array([1, 2, 1, 3, 2, 5, 2, 6])\n",
    "\n",
    "indices = a == 2\n",
    "print('Conteúdo da array \"indices\":', indices)\n",
    "\n",
    "b = a[indices]\n",
    "print('a[indices]:', b)"
   ]
  },
  {
   "cell_type": "markdown",
   "metadata": {},
   "source": [
    "### Tipos dos dados\n",
    "\n",
    "Cada array NumPy é uma coleção de elementos do mesmo tipo (ou seja, elementos **homogêneos**). \n",
    "\n",
    "Durante a construção de uma array NumPy, as funções para criação de arrays, como a `array()`, inferem o tipo dos elementos das listas e o define como o tipo dos elementos da array.\n",
    "\n",
    "Entretanto, essas funções incluem um **parâmetro de entrada opcional** chamado **dtype** para que se especifique (e se altere) explicitamente o tipo dos elementos da array.\n",
    "\n",
    "**OBS**.: Quando os elementos das listas são de um tipo e especificamos o parâmetro **dtype** com outro tipo, forçamos a conversão dos elementos da lista.\n",
    "\n",
    "#### Exemplos\n",
    "\n",
    "A função `np.array` infere o tipo dos elementos."
   ]
  },
  {
   "cell_type": "code",
   "execution_count": 113,
   "metadata": {},
   "outputs": [
    {
     "name": "stdout",
     "output_type": "stream",
     "text": [
      "Tipo de f: int32\n",
      "Conteúdo: [1 2]\n",
      "\n",
      "Tipo de g: float64\n",
      "Conteúdo: [1. 2.]\n",
      "\n",
      "Tipo de h: bool\n",
      "Conteúdo: [ True False]\n",
      "\n",
      "Tipo de i: complex128\n",
      "Conteúdo: [0.+1.j 0.+2.j]\n"
     ]
    }
   ],
   "source": [
    "f = np.array([1, 2])                   # O NumPy infere o tipo dos dados.\n",
    "print('Tipo de f:', f.dtype)           # Tipo int64\n",
    "print('Conteúdo:', f)\n",
    "\n",
    "g = np.array([1.0, 2.0])               # O NumPy infere o tipo dos dados.\n",
    "print('\\nTipo de g:', g.dtype)         # Tipo float64\n",
    "print('Conteúdo:', g)\n",
    "\n",
    "h = np.array([True, False])            # O NumPy infere o tipo dos dados.\n",
    "print('\\nTipo de h:', h.dtype)         # Tipo bool\n",
    "print('Conteúdo:', h)\n",
    "\n",
    "i = np.array([1j, 2j])                 # O NumPy infere o tipo dos dados.\n",
    "print('\\nTipo de i:', i.dtype)         # Tipo complex128\n",
    "print('Conteúdo:', i)"
   ]
  },
  {
   "cell_type": "markdown",
   "metadata": {},
   "source": [
    "Usando o parâmetro dtype da função `np.array` para forçar o tipo dos elementos."
   ]
  },
  {
   "cell_type": "code",
   "execution_count": 115,
   "metadata": {},
   "outputs": [
    {
     "name": "stdout",
     "output_type": "stream",
     "text": [
      "Tipo de h: int32\n",
      "Conteúdo: [1 2]\n",
      "\n",
      "Tipo de x: float64\n",
      "Conteúdo: [1. 2.]\n",
      "\n",
      "Tipo de y: complex64\n",
      "Conteúdo: [1.+0.j 2.+0.j]\n",
      "\n",
      "Tipo de z: bool\n",
      "Conteúdo: [ True  True]\n"
     ]
    }
   ],
   "source": [
    "h = np.array([1, 2], dtype=np.int32)     # Forçando um tipo específico.\n",
    "print('Tipo de h:', h.dtype)             # Tipo int32\n",
    "print('Conteúdo:', h)\n",
    "\n",
    "x = np.array([1, 2], dtype=np.float64)   # Forçando um tipo específico.\n",
    "print('\\nTipo de x:', x.dtype)           # Tipo float64\n",
    "print('Conteúdo:', x)\n",
    "\n",
    "y = np.array([1, 2], dtype=np.complex64) # Forçando um tipo específico.\n",
    "print('\\nTipo de y:', y.dtype)           # Tipo complex64\n",
    "print('Conteúdo:', y)\n",
    "\n",
    "z = np.array([1, 2], dtype=bool)         # Forçando um tipo específico.\n",
    "print('\\nTipo de z:', z.dtype)           # Tipo bool\n",
    "print('Conteúdo:', z)"
   ]
  },
  {
   "cell_type": "markdown",
   "metadata": {},
   "source": [
    "### Redimensionando Arrays\n",
    "\n",
    "Nós podemos mudar as dimensões das arrays criadas com o método `reshape()` da classe `ndarray`.\n",
    "\n",
    "**IMPORTANTE**: \n",
    "\n",
    "* A array após o `reshape` deve conter todos os elementos da array original.\n",
    "* Por exemplo, uma array com 4 elementos pode ser transformada em uma matriz $2 \\times 2$, mas não em uma matriz $1 \\times 1$ ou uma matriz $3 \\times 3$."
   ]
  },
  {
   "cell_type": "code",
   "execution_count": 116,
   "metadata": {},
   "outputs": [
    {
     "name": "stdout",
     "output_type": "stream",
     "text": [
      "Dimensão de a: (4,)\n",
      "Conteúdo de a: [1 2 3 4]\n",
      "\n",
      "Dimensão de B: (2, 2)\n",
      "Conteúdo de B:\n",
      " [[1 2]\n",
      " [3 4]]\n",
      "\n",
      "Dimensão de c: (4, 1)\n",
      "Conteúdo de c:\n",
      " [[1]\n",
      " [2]\n",
      " [3]\n",
      " [4]]\n",
      "\n",
      "Dimensão de d: (1, 4)\n",
      "Conteúdo de d: [[1 2 3 4]]\n"
     ]
    }
   ],
   "source": [
    "a = np.array([1, 2, 3, 4])\n",
    "print('Dimensão de a:', a.shape)\n",
    "print('Conteúdo de a:', a)\n",
    "\n",
    "B = a.reshape(2, 2)\n",
    "print('\\nDimensão de B:', B.shape)\n",
    "print('Conteúdo de B:\\n %s' % (B))\n",
    "\n",
    "c = a.reshape(4,1)\n",
    "print('\\nDimensão de c:', c.shape)\n",
    "print('Conteúdo de c:\\n %s' % (c))\n",
    "\n",
    "d = a.reshape(1,4)\n",
    "print('\\nDimensão de d:', d.shape)\n",
    "print('Conteúdo de d:', d)"
   ]
  },
  {
   "cell_type": "markdown",
   "metadata": {},
   "source": [
    "### Cálculos com arrays\n",
    "\n",
    "O NumPy é conhecido por sua velocidade ao realizar cálculos complexos em grandes arrays multidimensionais. \n",
    "\n",
    "Funções matemáticas básicas operam **elemento a elemento** das arrays e estão disponíveis através de **sobrecarga de operadores** e como **funções** no NumPy.\n",
    "\n",
    "#### Exemplos: cálculos com arrays NumPy.\n",
    "\n",
    "**Adição de matrizes**"
   ]
  },
  {
   "cell_type": "code",
   "execution_count": 117,
   "metadata": {},
   "outputs": [
    {
     "name": "stdout",
     "output_type": "stream",
     "text": [
      "Y = A + B:\n",
      " [[ 6  8]\n",
      " [10 12]]\n",
      "\n",
      "Y = np.add(A, B):\n",
      " [[ 6  8]\n",
      " [10 12]]\n"
     ]
    }
   ],
   "source": [
    "# Criando 2 matrizes 2x2.\n",
    "A = np.array([ [1,2], [3,4] ])\n",
    "B = np.array([ [5,6], [7,8] ])\n",
    "\n",
    "# utilizando a sobrecarga do operador '+'\n",
    "Y = A + B\n",
    "print('Y = A + B:\\n %s' % (Y))\n",
    "print('')\n",
    "\n",
    "# utilizando a função add()\n",
    "Y = np.add(A, B)\n",
    "print('Y = np.add(A, B):\\n %s' % (Y))"
   ]
  },
  {
   "cell_type": "markdown",
   "metadata": {},
   "source": [
    "**Subtração de matrizes**"
   ]
  },
  {
   "cell_type": "code",
   "execution_count": 118,
   "metadata": {},
   "outputs": [
    {
     "name": "stdout",
     "output_type": "stream",
     "text": [
      "Y = A - B:\n",
      " [[-4 -4]\n",
      " [-4 -4]]\n",
      "\n",
      "Y = np.subtract(A, B):\n",
      " [[-4 -4]\n",
      " [-4 -4]]\n"
     ]
    }
   ],
   "source": [
    "# Criando 2 matrizes 2x2.\n",
    "A = np.array([ [1,2], [3,4] ])\n",
    "B = np.array([ [5,6], [7,8] ])\n",
    "\n",
    "# utilizando a sobrecarga do operador '-'\n",
    "Y = A - B\n",
    "print('Y = A - B:\\n %s' % (Y))\n",
    "print('')\n",
    "\n",
    "# utilizando a função subtract()\n",
    "Y = np.subtract(A, B)\n",
    "print('Y = np.subtract(A, B):\\n %s' % (Y))"
   ]
  },
  {
   "cell_type": "markdown",
   "metadata": {},
   "source": [
    "**Multiplicação de matrizes**"
   ]
  },
  {
   "cell_type": "code",
   "execution_count": 119,
   "metadata": {},
   "outputs": [
    {
     "name": "stdout",
     "output_type": "stream",
     "text": [
      "Y = A * B:\n",
      " [[ 5 12]\n",
      " [21 32]]\n",
      "\n",
      "Y = np.multiply(A, B):\n",
      " [[ 5 12]\n",
      " [21 32]]\n"
     ]
    }
   ],
   "source": [
    "# Criando 2 matrizes 2x2.\n",
    "A = np.array([ [1,2], [3,4] ])\n",
    "B = np.array([ [5,6], [7,8] ])\n",
    "\n",
    "# utilizando a sobrecarga do operador '*'\n",
    "Y = A * B\n",
    "print('Y = A * B:\\n %s' % (Y))\n",
    "print('')\n",
    "\n",
    "# utilizando a função multiply()\n",
    "Y = np.multiply(A, B)\n",
    "print('Y = np.multiply(A, B):\\n %s' % (Y))"
   ]
  },
  {
   "cell_type": "markdown",
   "metadata": {},
   "source": [
    "**Divisão de matrizes**"
   ]
  },
  {
   "cell_type": "code",
   "execution_count": 120,
   "metadata": {},
   "outputs": [
    {
     "name": "stdout",
     "output_type": "stream",
     "text": [
      "Y = A / B:\n",
      " [[0.2        0.33333333]\n",
      " [0.42857143 0.5       ]]\n",
      "\n",
      "Y = np.divide(A, B):\n",
      " [[0.2        0.33333333]\n",
      " [0.42857143 0.5       ]]\n"
     ]
    }
   ],
   "source": [
    "# Criando 2 matrizes 2x2.\n",
    "A = np.array([ [1,2], [3,4] ])\n",
    "B = np.array([ [5,6], [7,8] ])\n",
    "\n",
    "# utilizando a sobrecarga do operador '/'\n",
    "Y = A / B\n",
    "print('Y = A / B:\\n %s' % (Y))\n",
    "print('')\n",
    "\n",
    "# utilizando a função divide()\n",
    "Y = np.divide(A, B)\n",
    "print('Y = np.divide(A, B):\\n %s' % (Y))"
   ]
  },
  {
   "cell_type": "markdown",
   "metadata": {},
   "source": [
    "### Funções importantes do NumPy\n",
    "\n",
    "Existem algumas funções disponíveis no NumPy para calcular valores como a média, desvio padrão, variância e a inversa de arrays.\n",
    "\n",
    "|    Operação   |   Função  |\n",
    "|:-------------:|:---------:|\n",
    "|      Soma     |  np.sum() |\n",
    "| Raiz quadrada | np.sqrt() |\n",
    "|     Média     | np.mean() |\n",
    "|   Variância   |  np.var() |\n",
    "| Desvio padrão |  np.std() |\n",
    "| Matriz inversa |  np.linalg.inv() |"
   ]
  },
  {
   "cell_type": "code",
   "execution_count": 125,
   "metadata": {},
   "outputs": [
    {
     "name": "stdout",
     "output_type": "stream",
     "text": [
      "np.sum(a): 6\n",
      "np.sum(B): 10\n",
      "np.mean(a): 2.0\n",
      "np.var(a): 0.6666666666666666\n",
      "np.std(a): 0.816496580927726\n"
     ]
    }
   ],
   "source": [
    "# Criando 2 arrays.\n",
    "a = np.array([1, 2, 3])\n",
    "B = np.array([ [1, 2], [3, 4] ])\n",
    "\n",
    "# Soma todos os valores de uma array, independente do número de dimensões.\n",
    "x = np.sum(a)\n",
    "print('np.sum(a):', x)\n",
    "\n",
    "y = np.sum(B)\n",
    "print('np.sum(B):', y)\n",
    "\n",
    "# média.\n",
    "x = np.mean(a)\n",
    "print('np.mean(a):',x)\n",
    "\n",
    "# variância.\n",
    "x = np.var(a)\n",
    "print('np.var(a):',x)\n",
    "\n",
    "# desvio padrão.\n",
    "x = np.std(a)\n",
    "print('np.std(a):',x)"
   ]
  },
  {
   "cell_type": "markdown",
   "metadata": {},
   "source": [
    "Operação elemento a elemento."
   ]
  },
  {
   "cell_type": "code",
   "execution_count": 127,
   "metadata": {},
   "outputs": [
    {
     "name": "stdout",
     "output_type": "stream",
     "text": [
      "np.sqrt(a): [1.         1.41421356 1.73205081]\n",
      "np.sqrt(B):\n",
      "[[1.         1.41421356]\n",
      " [1.73205081 2.        ]]\n"
     ]
    }
   ],
   "source": [
    "# Opera elemento a elemento.\n",
    "x = np.sqrt(a)\n",
    "print('np.sqrt(a):',x)\n",
    "\n",
    "# Opera elemento a elemento.\n",
    "x = np.sqrt(B)\n",
    "print('np.sqrt(B):\\n%s' % (x))"
   ]
  },
  {
   "cell_type": "markdown",
   "metadata": {},
   "source": [
    "**Calculando a inversa de uma matriz.**\n",
    "\n",
    "Para calcular a inversa de matrizes, usamos a função `inv` implementada no módulo de álgebra linear da biblioteca NumPy chamado de `linalg`.\n",
    "\n",
    "Esse módulo possui várias outras funções de álgebra linear como decomposição em valores singulares, cálculo de autovalores e autovetores, normas, etc."
   ]
  },
  {
   "cell_type": "code",
   "execution_count": 27,
   "metadata": {},
   "outputs": [
    {
     "name": "stdout",
     "output_type": "stream",
     "text": [
      "A:\n",
      " [[20 10]\n",
      " [17 22]]\n",
      "\n",
      "A^-1:\n",
      " [[ 0.08148148 -0.03703704]\n",
      " [-0.06296296  0.07407407]]\n"
     ]
    }
   ],
   "source": [
    "A = np.array([ [20, 10], [17, 22] ])\n",
    "print('A:\\n %s' % (A))\n",
    "\n",
    "Ainv = np.linalg.inv(A)\n",
    "print('\\nA^-1:\\n %s' % (Ainv))"
   ]
  },
  {
   "cell_type": "markdown",
   "metadata": {},
   "source": [
    "### Multiplicação matricial\n",
    "\n",
    "O operador `*` realiza multiplicação **elemento-a-elemento** de arrays e não uma multiplicação matricial. \n",
    "\n",
    "Em vez disso, usamos a função `dot()` para calcular produtos internos de vetores, para multiplicar um vetor por uma matriz e para multiplicar matrizes. \n",
    "\n",
    "A função `dot()` está disponível como uma função da biblioteca NumPy e como um método da classe `ndarray`.\n",
    "\n",
    "#### Exemplos\n",
    "\n",
    "**Produto interno entre vetores.**"
   ]
  },
  {
   "cell_type": "code",
   "execution_count": 30,
   "metadata": {},
   "outputs": [
    {
     "name": "stdout",
     "output_type": "stream",
     "text": [
      "Produto interno entre os vetores v e w.\n",
      "v.dot(w):\n",
      " 219\n",
      "\n",
      "np.dot(v, w):\n",
      " 219\n"
     ]
    }
   ],
   "source": [
    "# Cria 2 vetores.\n",
    "v = np.array([9, 10])\n",
    "w = np.array([11, 12])\n",
    "\n",
    "# Produto interno dos vetores v e w.\n",
    "print('Produto interno entre os vetores v e w.')\n",
    "print('v.dot(w):\\n %s' % (v.dot(w)))\n",
    "print('\\nnp.dot(v, w):\\n %s' % (np.dot(v, w)))"
   ]
  },
  {
   "cell_type": "markdown",
   "metadata": {},
   "source": [
    "**Produto entre uma matriz e um vetor.**"
   ]
  },
  {
   "cell_type": "code",
   "execution_count": 38,
   "metadata": {},
   "outputs": [
    {
     "name": "stdout",
     "output_type": "stream",
     "text": [
      "\n",
      "Produto entre a matriz X e o vetor v.\n",
      "X.dot(v):\n",
      " [29 67]\n",
      "\n",
      "np.dot(X, v):\n",
      " [29 67]\n"
     ]
    }
   ],
   "source": [
    "# Cria 1 matriz 2x2.\n",
    "X = np.array([ [1, 2], [3, 4] ])\n",
    "\n",
    "# Cria 1 vetor.\n",
    "v = np.array([9, 10])\n",
    "\n",
    "# Produto entre uma matriz e um vetor.\n",
    "print('\\nProduto entre a matriz X e o vetor v.')\n",
    "print('X.dot(v):\\n %s' % (X.dot(v)))\n",
    "print('\\nnp.dot(X, v):\\n %s' % (np.dot(X, v)))"
   ]
  },
  {
   "cell_type": "markdown",
   "metadata": {},
   "source": [
    "**Produto entre matrizes.**"
   ]
  },
  {
   "cell_type": "code",
   "execution_count": 40,
   "metadata": {},
   "outputs": [
    {
     "name": "stdout",
     "output_type": "stream",
     "text": [
      "\n",
      "Produto entre as matrizes X e Y.\n",
      "X.dot(Y):\n",
      " [[19 22]\n",
      " [43 50]]\n",
      "\n",
      "np.dot(X, Y):\n",
      " [[19 22]\n",
      " [43 50]]\n"
     ]
    }
   ],
   "source": [
    "# Cria 2 matrizes 2x2.\n",
    "X = np.array([ [1, 2], [3, 4] ])\n",
    "Y = np.array([ [5, 6], [7, 8] ])\n",
    "\n",
    "# Produto entre matrizes.\n",
    "print('\\nProduto entre as matrizes X e Y.')\n",
    "print('X.dot(Y):\\n %s'% (X.dot(Y)))\n",
    "print('\\nnp.dot(X, Y):\\n %s' % (np.dot(X, Y)))"
   ]
  },
  {
   "cell_type": "markdown",
   "metadata": {},
   "source": [
    "**Transposição**\n",
    "\n",
    "Para realizar a transposição de uma array, basta usar o atributo `T` de um objeto do tipo `ndarray`."
   ]
  },
  {
   "cell_type": "code",
   "execution_count": 22,
   "metadata": {},
   "outputs": [
    {
     "name": "stdout",
     "output_type": "stream",
     "text": [
      "Exemplo #1: transposição de uma matriz 2x2:\n",
      "Dimensão de X: (2, 2)\n",
      "Conteúdo de X:\n",
      " [[1 2]\n",
      " [3 4]]\n",
      "\n",
      "Conteúdo de X.T:\n",
      " [[1 3]\n",
      " [2 4]]\n"
     ]
    }
   ],
   "source": [
    "# Criando uma matriz 2x2.\n",
    "X = np.array([ [1,2], [3,4] ])\n",
    "\n",
    "print('Exemplo #1: transposição de uma matriz 2x2:')\n",
    "print('Dimensão de X:', X.shape)\n",
    "print('Conteúdo de X:\\n %s' % (X))\n",
    "\n",
    "print('\\nConteúdo de X.T:\\n %s' % (X.T))"
   ]
  },
  {
   "cell_type": "code",
   "execution_count": 41,
   "metadata": {},
   "outputs": [
    {
     "name": "stdout",
     "output_type": "stream",
     "text": [
      "\n",
      "Exemplo #2: transposição de um vetor 1x3:\n",
      "Dimensão de v: (3, 1)\n",
      "Conteúdo de v:\n",
      " [[1]\n",
      " [2]\n",
      " [3]]\n",
      "\n",
      "Dimensão de v.T: (1, 3)\n",
      "Conteúdo de v.T: [[1 2 3]]\n"
     ]
    }
   ],
   "source": [
    "# Criando um vetor coluna com dimensão 3x1.\n",
    "v = np.array([1, 2, 3]).reshape(3, 1)\n",
    "\n",
    "print('\\nExemplo #2: transposição de um vetor 1x3:')\n",
    "print('Dimensão de v:', v.shape)\n",
    "print('Conteúdo de v:\\n %s' % (v))\n",
    "\n",
    "print('\\nDimensão de v.T:', v.T.shape)\n",
    "print('Conteúdo de v.T:', v.T)"
   ]
  },
  {
   "cell_type": "markdown",
   "metadata": {},
   "source": [
    "### Adicionando e removendo elementos de uma array\n",
    "\n",
    "Existem algumas funções para adicionar e remover elementos de arrays:\n",
    "\n",
    "|           Operador           |             Função            |\n",
    "|:----------------------------:|:-----------------------------:|\n",
    "|        np.append(array, values, axis=None)        | Acrescenta elementos ao final da array. |\n",
    "| np.insert(array, índice, obj, axis=None) |   Insere elementos a partir da posição do índice fornecido ao longo do eixo fornecido.  |\n",
    "|    np.delete(array, obj, axis=None)   | Retorna uma array com submatrizes ao longo do eixo excluído.|\n",
    "\n",
    "**Concatenação de elementos**\n",
    "\n",
    "**IMPORTANTE**:\n",
    "\n",
    "* Diferentemente das listas, a classe `ndarray` não possui um **método** `append`. Para realização da concatenação, devemos usar a **função** `append` da biblioteca NumPy."
   ]
  },
  {
   "cell_type": "code",
   "execution_count": 43,
   "metadata": {},
   "outputs": [
    {
     "name": "stdout",
     "output_type": "stream",
     "text": [
      "Acrescentando elementos a uma array.\n",
      "\n",
      "Conteúdo de d: [0 1 2 3 4 5 6 7]\n"
     ]
    }
   ],
   "source": [
    "# Criando 2 vetores.\n",
    "a = np.array([0, 1, 2, 3])\n",
    "b = np.array([4, 5, 6, 7])\n",
    "\n",
    "# Acrescentando elementos a uma array.\n",
    "print('Acrescentando elementos a uma array.\\n')\n",
    "\n",
    "# Usamos a função append para concatenar elementos.\n",
    "d = np.append(a, b)\n",
    "\n",
    "print('Conteúdo de d:', d)"
   ]
  },
  {
   "cell_type": "markdown",
   "metadata": {},
   "source": [
    "**Adição de elementos em uma array**"
   ]
  },
  {
   "cell_type": "code",
   "execution_count": 64,
   "metadata": {},
   "outputs": [
    {
     "name": "stdout",
     "output_type": "stream",
     "text": [
      "Conteúdo de a: [0 1 2 3]\n",
      "\n",
      "Conteúdo de b: [ 0  1 77  2  3]\n"
     ]
    }
   ],
   "source": [
    "# Criando um vetor.\n",
    "a = np.array([0, 1, 2, 3])\n",
    "print('Conteúdo de a:',a)\n",
    "\n",
    "# Insere o valor 77 na posição de índice 2.\n",
    "b = np.insert(a, 2, 77)\n",
    "print('\\nConteúdo de b:',b)"
   ]
  },
  {
   "cell_type": "markdown",
   "metadata": {},
   "source": [
    "**Adição de elementos em uma matriz**"
   ]
  },
  {
   "cell_type": "code",
   "execution_count": 66,
   "metadata": {},
   "outputs": [
    {
     "name": "stdout",
     "output_type": "stream",
     "text": [
      "Conteúdo de A:\n",
      " [[1 2]\n",
      " [3 4]]\n",
      "\n",
      "Conteúdo de B:\n",
      " [[ 1  2]\n",
      " [77 77]\n",
      " [ 3  4]]\n"
     ]
    }
   ],
   "source": [
    "# Criando uma matriz.\n",
    "A = np.array([ [1,2], [3,4] ])\n",
    "print('Conteúdo de A:\\n %s' % (A))\n",
    "\n",
    "# Insere valores iguais a 77 na posição de índice 1 ao longo do eixo 0 (linha).\n",
    "B = np.insert(A, 1, 77, axis=0)\n",
    "print('\\nConteúdo de B:\\n %s' % (B))"
   ]
  },
  {
   "cell_type": "markdown",
   "metadata": {},
   "source": [
    "**Adição de elementos em uma matriz**"
   ]
  },
  {
   "cell_type": "code",
   "execution_count": 67,
   "metadata": {},
   "outputs": [
    {
     "name": "stdout",
     "output_type": "stream",
     "text": [
      "Conteúdo de A:\n",
      " [[1 2]\n",
      " [3 4]]\n",
      "\n",
      "Conteúdo de B:\n",
      " [[ 1 77  2]\n",
      " [ 3 77  4]]\n"
     ]
    }
   ],
   "source": [
    "# Criando uma matriz.\n",
    "A = np.array([ [1,2], [3,4] ])\n",
    "print('Conteúdo de A:\\n %s' % (A))\n",
    "\n",
    "# Insere valores iguais a 77 na posição de índice 1 ao longo do eixo 1 (coluna).\n",
    "B = np.insert(A, 1, 77, axis=1)\n",
    "print('\\nConteúdo de B:\\n %s' % (B))"
   ]
  },
  {
   "cell_type": "markdown",
   "metadata": {},
   "source": [
    "**Remoção de elementos**\n",
    "\n",
    "Para remover elementos, usamos a função `delete` onde o primeiro parâmetro de entrada é a array, o segundo parâmetro é o índice ou índices dos elementos a serem removidos e o terceiro o eixo ao longo do qual os elementos devem ser removidos.\n",
    "\n",
    "**Removendo um elemento de uma array**"
   ]
  },
  {
   "cell_type": "code",
   "execution_count": 78,
   "metadata": {},
   "outputs": [
    {
     "name": "stdout",
     "output_type": "stream",
     "text": [
      "Conteúdo de a: [1 2 3 4]\n",
      "\n",
      "Conteúdo de b: [2 3 4]\n"
     ]
    }
   ],
   "source": [
    "# Criando um vetor.\n",
    "a = np.array([1, 2, 3, 4])\n",
    "print('Conteúdo de a:',a)\n",
    "\n",
    "# Remove o elemento correspondente ao índice 0.\n",
    "b = np.delete(a, 0)\n",
    "print('\\nConteúdo de b:',b)"
   ]
  },
  {
   "cell_type": "markdown",
   "metadata": {},
   "source": [
    "**Removendo vários elementos de uma array**"
   ]
  },
  {
   "cell_type": "code",
   "execution_count": 79,
   "metadata": {},
   "outputs": [
    {
     "name": "stdout",
     "output_type": "stream",
     "text": [
      "Conteúdo de a: [1 2 3 4]\n",
      "\n",
      "Conteúdo de b: [2 4]\n"
     ]
    }
   ],
   "source": [
    "# Criando um vetor.\n",
    "a = np.array([1, 2, 3, 4])\n",
    "print('Conteúdo de a:',a)\n",
    "\n",
    "# Remove elementos correspondentes aos índices 0 e 2.\n",
    "b = np.delete(a, [0, 2])\n",
    "print('\\nConteúdo de b:',b)"
   ]
  },
  {
   "cell_type": "markdown",
   "metadata": {},
   "source": [
    "**Removendo elementos de uma matriz**"
   ]
  },
  {
   "cell_type": "code",
   "execution_count": 85,
   "metadata": {},
   "outputs": [
    {
     "name": "stdout",
     "output_type": "stream",
     "text": [
      "Conteúdo de A:\n",
      " [[1 2]\n",
      " [3 4]]\n",
      "\n",
      "Conteúdo de B: [[3 4]]\n"
     ]
    }
   ],
   "source": [
    "# Criando uma matriz.\n",
    "A = np.array([ [1,2], [3,4] ])\n",
    "print('Conteúdo de A:\\n %s' % (A))\n",
    "\n",
    "# Remove elementos que tenham índice igual a 0 ao longo do eixo 0 (linha).\n",
    "# Ou seja, remove os elementos que tenham o índice da linha igual a 0.\n",
    "B = np.delete(A, 0, axis=0)\n",
    "print('\\nConteúdo de B:', B)"
   ]
  },
  {
   "cell_type": "markdown",
   "metadata": {},
   "source": [
    "**Removendo elementos de uma matriz**"
   ]
  },
  {
   "cell_type": "code",
   "execution_count": 87,
   "metadata": {},
   "outputs": [
    {
     "name": "stdout",
     "output_type": "stream",
     "text": [
      "Conteúdo de A:\n",
      " [[1 2]\n",
      " [3 4]]\n",
      "\n",
      "Conteúdo de B:\n",
      " [[2]\n",
      " [4]]\n"
     ]
    }
   ],
   "source": [
    "# Criando uma matriz.\n",
    "A = np.array([ [1,2], [3,4] ])\n",
    "print('Conteúdo de A:\\n %s' % (A))\n",
    "\n",
    "# Remove elementos que tenham índice igual a 0 ao longo do eixo 1 (coluna).\n",
    "# Ou seja, remove os elementos que tenham o índice da coluna igual a 0.\n",
    "B = np.delete(A, 0, axis=1)\n",
    "print('\\nConteúdo de B:\\n %s' % (B))"
   ]
  },
  {
   "cell_type": "markdown",
   "metadata": {},
   "source": [
    "### Difusão de arrays\n",
    "\n",
    "Em teoria, arrays com tamanhos diferentes não podem ser somadas ou subtraídas.\n",
    "\n",
    "Entretanto, a biblioteca NumPy, através da **difusão** de arrays, consegue tratar arrays de dimensões diferentes.\n",
    "\n",
    "#### Exemplos\n",
    "\n",
    "Somando uma array com um escalar."
   ]
  },
  {
   "cell_type": "code",
   "execution_count": 96,
   "metadata": {},
   "outputs": [
    {
     "name": "stdout",
     "output_type": "stream",
     "text": [
      "Array a: [1 2 3]\n",
      "\n",
      "Escalar b: 2\n",
      "\n",
      "Resultado de a + b: [3 4 5]\n"
     ]
    }
   ],
   "source": [
    "a = np.array([1, 2, 3])\n",
    "print('Array a:', a)\n",
    "\n",
    "b = 2\n",
    "print('\\nEscalar b:', b)\n",
    "\n",
    "# Um escalar pode ser adicionado ao vetor, pois a biblioteca NumPy, automaticamente,\n",
    "# através da difusão, converte o escalar em uma array com a mesma dimensão da\n",
    "# array a e com valores repetidos.\n",
    "c = a + b\n",
    "print('\\nResultado de a + b:', c)"
   ]
  },
  {
   "cell_type": "markdown",
   "metadata": {},
   "source": [
    "A mesma ideia se aplica a arrays com mais de uma dimensão."
   ]
  },
  {
   "cell_type": "code",
   "execution_count": 97,
   "metadata": {},
   "outputs": [
    {
     "name": "stdout",
     "output_type": "stream",
     "text": [
      "Matriz A:\n",
      " [[1 2 3]\n",
      " [1 2 3]]\n",
      "\n",
      "Escalar b: 2\n",
      "\n",
      "Resultado de A + b:\n",
      " [[3 4 5]\n",
      " [3 4 5]]\n"
     ]
    }
   ],
   "source": [
    "# Cria uma matriz 2x3.\n",
    "A = np.array([ [1, 2, 3], [1, 2, 3] ])\n",
    "print('Matriz A:\\n %s' % (A))\n",
    "\n",
    "# Escalar.\n",
    "b = 2\n",
    "print('\\nEscalar b:', b)\n",
    "\n",
    "# O NumPy cria uma matriz 2x3 com todos os elementos iguais ao escalar b e soma, elemento a elemento, com a matriz A.\n",
    "C = A + b\n",
    "\n",
    "print('\\nResultado de A + b:\\n %s' % (C))"
   ]
  },
  {
   "cell_type": "markdown",
   "metadata": {},
   "source": [
    "Uma array unidimensional pode ser somada a uma matriz.\n",
    "\n",
    "No exemplo abaixo, uma matriz `A` com 2 linhas e 3 colunas é somada a uma array unidimensional `b` com 3 elementos."
   ]
  },
  {
   "cell_type": "code",
   "execution_count": 101,
   "metadata": {},
   "outputs": [
    {
     "name": "stdout",
     "output_type": "stream",
     "text": [
      "Matriz A:\n",
      " [[1 2 3]\n",
      " [1 2 3]]\n",
      "\n",
      "Array b: [1 2 3]\n",
      "\n",
      "Resultado de A + b:\n",
      " [[2 4 6]\n",
      " [2 4 6]]\n"
     ]
    }
   ],
   "source": [
    "# Cria uma matriz 2x3.\n",
    "A = np.array([ [1, 2, 3], [1, 2, 3] ])\n",
    "print('Matriz A:\\n %s' % (A))\n",
    "\n",
    "b = np.array([1, 2, 3])\n",
    "print('\\nArray b:', b)\n",
    "\n",
    "# O NumPy cria uma matriz 2x3 a partir de b, \n",
    "# copiando os elementos de b na segunda linha da matriz.\n",
    "C = A + b\n",
    "\n",
    "print('\\nResultado de A + b:\\n %s' % (C))"
   ]
  },
  {
   "cell_type": "markdown",
   "metadata": {},
   "source": [
    "Esta breve visão geral abordou muitos dos tópicos mais importantes que precisamos saber sobre a biblioteca NumPy, mas está longe de ser completa. \n",
    "\n",
    "Para saber mais sobre a biblioteca NumPy, confiram o conteúdo do seguinte link: http://docs.scipy.org/doc/numpy/reference/"
   ]
  },
  {
   "cell_type": "markdown",
   "metadata": {},
   "source": [
    "### Tarefas\n",
    "\n",
    "1. <span style=\"color:blue\">**QUIZ - NumPy**</span>: respondam ao questionário sobre a biblioteca NumPy no MS teams, por favor. \n",
    "2. <span style=\"color:blue\">**Laboratório #7 - NumPy**</span>: cliquem em um dos links abaixo para accessar os exercícios do laboratório #7.\n",
    "\n",
    "[![Binder](https://mybinder.org/badge_logo.svg)](https://mybinder.org/v2/gh/zz4fap/python-programming/master?filepath=labs%2FLaboratorio7_NumPy.ipynb)\n",
    "\n",
    "[![Google Colab](https://badgen.net/badge/Launch/on%20Google%20Colab/blue?icon=terminal)](https://colab.research.google.com/github/zz4fap/python-programming/blob/master/labs/Laboratorio7_NumPy.ipynb)"
   ]
  },
  {
   "cell_type": "markdown",
   "metadata": {},
   "source": [
    "## Visualização de dados com Matplotlib\n",
    "\n",
    "O Matplotlib é uma biblioteca para a criação de gráficos. \n",
    "\n",
    "Seu uso é parecido com as funções para criação de gráficos do Matlab.\n",
    "\n",
    "#### Exemplo #1: Plotando a função `seno` para 200 pontos no intervalo `[0, 10)`."
   ]
  },
  {
   "cell_type": "code",
   "execution_count": 30,
   "metadata": {},
   "outputs": [
    {
     "data": {
      "image/png": "[encoded data removed]",
      "text/plain": [
       "<Figure size 432x288 with 1 Axes>"
      ]
     },
     "metadata": {
      "needs_background": "light"
     },
     "output_type": "display_data"
    }
   ],
   "source": [
    "import numpy as np\n",
    "import matplotlib.pyplot as plt\n",
    "\n",
    "# Gerando 200 pontos do intervalo [0, 10)\n",
    "x = np.linspace(0, 10, 200)\n",
    "y = np.sin(x)\n",
    "\n",
    "# Plota a figura.\n",
    "# linewidth: define a largura da linha.\n",
    "# 'b--': define a cor (b) e o estilo da linha (--).\n",
    "plt.plot(x, y, 'b--', linewidth=1)\n",
    "# Título da figura.\n",
    "plt.title('Exemplo #1')\n",
    "# Dá um nome para o eixo x.\n",
    "plt.xlabel('x')\n",
    "# Dá um nome para o eixo y.\n",
    "plt.ylabel('y')\n",
    "# Habilita o grid.\n",
    "plt.grid()\n",
    "# Mostra a figura.\n",
    "plt.show()"
   ]
  },
  {
   "cell_type": "markdown",
   "metadata": {},
   "source": [
    "#### Exemplo #2:  Plotando mais de uma função em um mesmo gráfico."
   ]
  },
  {
   "cell_type": "code",
   "execution_count": 31,
   "metadata": {},
   "outputs": [
    {
     "data": {
      "image/png": "[encoded data removed]",
      "text/plain": [
       "<Figure size 432x288 with 1 Axes>"
      ]
     },
     "metadata": {
      "needs_background": "light"
     },
     "output_type": "display_data"
    }
   ],
   "source": [
    "import numpy as np\n",
    "import matplotlib.pyplot as plt\n",
    "\n",
    "# 200 pontos do intervalo [0, 10)\n",
    "x = np.linspace(0, 10, 200)\n",
    "y = np.sin(x)\n",
    "z = np.cos(x)\n",
    "\n",
    "# Plota a figura.\n",
    "plt.plot(x, y, 'b--', linewidth=1) # Plota o seno.\n",
    "plt.plot(x, z, 'r-', linewidth=2)  # Plota o cosseno.\n",
    "# Título da figura.\n",
    "plt.title('Exemplo #2')\n",
    "# Dá um nome para o eixo x.\n",
    "plt.xlabel('x')\n",
    "# Dá um nome para o eixo y.\n",
    "plt.ylabel('y')\n",
    "# Habilita o grid.\n",
    "plt.grid()\n",
    "# Mostra a figura.\n",
    "plt.show()"
   ]
  },
  {
   "cell_type": "markdown",
   "metadata": {},
   "source": [
    "Acessem o link abaixo para verificarem outras cores e formatos para as linhas das figuras: \n",
    "\n",
    "https://matplotlib.org/api/_as_gen/matplotlib.pyplot.plot.html#matplotlib.pyplot.plot"
   ]
  },
  {
   "cell_type": "markdown",
   "metadata": {},
   "source": [
    "#### Exemplo #3: Salvando uma figura em um arquivo."
   ]
  },
  {
   "cell_type": "code",
   "execution_count": 32,
   "metadata": {},
   "outputs": [
    {
     "data": {
      "image/png": "[encoded data removed]",
      "text/plain": [
       "<Figure size 432x288 with 1 Axes>"
      ]
     },
     "metadata": {
      "needs_background": "light"
     },
     "output_type": "display_data"
    }
   ],
   "source": [
    "import numpy as np\n",
    "import matplotlib.pyplot as plt\n",
    "\n",
    "# 200 pontos do intervalo [0, 10)\n",
    "x = np.linspace(0, 10, 200)\n",
    "y = np.sin(x)\n",
    "z = np.cos(x)\n",
    "\n",
    "# Plota a figura.\n",
    "plt.plot(x, y, 'b--', linewidth=1) # Plota o seno.\n",
    "plt.plot(x, z, 'r-', linewidth=2)  # Plota o cosseno.\n",
    "# Título da figura.\n",
    "plt.title('Exemplo #3')\n",
    "# Dá um nome para o eixo x.\n",
    "plt.xlabel('x')\n",
    "# Dá um nome para o eixo y.\n",
    "plt.ylabel('y')\n",
    "# Habilita o grid.\n",
    "plt.grid()\n",
    "\n",
    "# Salva a figura em um arquivo.\n",
    "plt.savefig('cosseno_e_seno_figura.png')\n",
    "\n",
    "# Mostra a figura.\n",
    "plt.show()"
   ]
  },
  {
   "cell_type": "markdown",
   "metadata": {},
   "source": [
    "#### Exemplo #4: Alterando o tamanho e adicionando legendas à figura."
   ]
  },
  {
   "cell_type": "code",
   "execution_count": 33,
   "metadata": {},
   "outputs": [
    {
     "data": {
      "image/png": "[encoded data removed]",
      "text/plain": [
       "<Figure size 720x360 with 1 Axes>"
      ]
     },
     "metadata": {
      "needs_background": "light"
     },
     "output_type": "display_data"
    }
   ],
   "source": [
    "import numpy as np\n",
    "import matplotlib.pyplot as plt\n",
    "\n",
    "# 200 pontos do intervalo [0, 10)\n",
    "x = np.linspace(0, 10, 200)\n",
    "y = np.sin(x)\n",
    "z = np.cos(x)\n",
    "\n",
    "# figsize: permite definir o tamanho da figura.\n",
    "plt.figure(figsize=(10,5))\n",
    "\n",
    "# Plota a figura.\n",
    "plt.plot(x, y, 'b--', linewidth=1, label='$\\sin(x)$') # label da linha seno.\n",
    "plt.plot(x, z, 'r-', linewidth=2, label='$\\cos(x)$')  # label da linha cosseno.\n",
    "# Título da figura.\n",
    "plt.title('Exemplo #4')\n",
    "# Dá um nome para o eixo x.\n",
    "plt.xlabel('x')\n",
    "# Dá um nome para o eixo y.\n",
    "plt.ylabel('y')\n",
    "# Habilita o grid.\n",
    "plt.grid()\n",
    "\n",
    "# Inclui a legenda na figura.\n",
    "plt.legend()\n",
    "\n",
    "# Mostra a figura.\n",
    "plt.show()"
   ]
  },
  {
   "cell_type": "markdown",
   "metadata": {},
   "source": [
    "#### Exemplo #5: Usando subplots."
   ]
  },
  {
   "cell_type": "code",
   "execution_count": 34,
   "metadata": {},
   "outputs": [
    {
     "data": {
      "image/png": "[encoded data removed]",
      "text/plain": [
       "<Figure size 792x288 with 2 Axes>"
      ]
     },
     "metadata": {
      "needs_background": "light"
     },
     "output_type": "display_data"
    }
   ],
   "source": [
    "import matplotlib.pyplot as plt\n",
    "import numpy as np\n",
    "\n",
    "# Dados.\n",
    "x = np.linspace(0, 10, 200)\n",
    "y = np.sin(x)\n",
    "z = np.cos(x)\n",
    "\n",
    "plt.figure(figsize=(11,4))\n",
    "\n",
    "# Divide a figura em 1 linha e 2 colunas e seleciona a parte superior.\n",
    "plt.subplot(121)\n",
    "\n",
    "# Plota a curva do seno.\n",
    "plt.plot(x, y, 'b--', linewidth=1, label='$\\sin(x)$') # label da linha seno.\n",
    "plt.title('Subplot #1')\n",
    "plt.grid()\n",
    "plt.xlabel('x')\n",
    "plt.ylabel('y')\n",
    "plt.legend()\n",
    "\n",
    "# Seleciona a parte inferior.\n",
    "plt.subplot(122)\n",
    "\n",
    "# Plota a curva do cosseno.\n",
    "plt.plot(x, z, 'r-', linewidth=2, label='$\\cos(x)$')  # label da linha cosseno.\n",
    "plt.title('Subplot #2')\n",
    "plt.grid()\n",
    "plt.xlabel('x')\n",
    "plt.ylabel('y')\n",
    "plt.legend()\n",
    "\n",
    "# Salva a figura\n",
    "plt.savefig('exemplo_subplot.png')\n",
    "\n",
    "plt.show()"
   ]
  },
  {
   "cell_type": "markdown",
   "metadata": {},
   "source": [
    "#### Exemplo #6: Plotando histogramas."
   ]
  },
  {
   "cell_type": "code",
   "execution_count": 35,
   "metadata": {},
   "outputs": [
    {
     "data": {
      "image/png": "[encoded data removed]",
      "text/plain": [
       "<Figure size 1008x360 with 3 Axes>"
      ]
     },
     "metadata": {
      "needs_background": "light"
     },
     "output_type": "display_data"
    }
   ],
   "source": [
    "import matplotlib.pyplot as plt\n",
    "import numpy as np\n",
    "\n",
    "numPontos = 100000\n",
    "numBins = 100\n",
    "\n",
    "# Gera valores retirados de uma distribuição normal.\n",
    "x = np.random.randn(numPontos)\n",
    "\n",
    "plt.figure(figsize=(14,5))\n",
    "\n",
    "plt.subplot(1,3,1)\n",
    "# bins define o número de compartimentos de largura igual no intervalo.\n",
    "plt.hist(x, bins=numBins)\n",
    "plt.xlabel('x')\n",
    "plt.title('Histograma não-normalizado')\n",
    "\n",
    "plt.subplot(1,3,2)\n",
    "# density=True aproxima a PDF da variável aleatória.\n",
    "plt.hist(x, bins=numBins, density=True)\n",
    "plt.title('Histograma normalizado (PDF)')\n",
    "plt.xlabel('x')\n",
    "\n",
    "plt.subplot(1,3,3)\n",
    "# cumulative=True aproxima a CDF da variável aleatória.\n",
    "plt.hist(x, bins=numBins, cumulative=True)\n",
    "plt.title('Histograma cumulativo (CDF)')\n",
    "plt.xlabel('x')\n",
    "\n",
    "plt.show()"
   ]
  },
  {
   "cell_type": "markdown",
   "metadata": {},
   "source": [
    "#### Exemplo #7: Plotando um gráfico de pizza."
   ]
  },
  {
   "cell_type": "code",
   "execution_count": 36,
   "metadata": {},
   "outputs": [
    {
     "data": {
      "image/png": "[encoded data removed]",
      "text/plain": [
       "<Figure size 432x288 with 1 Axes>"
      ]
     },
     "metadata": {},
     "output_type": "display_data"
    }
   ],
   "source": [
    "import matplotlib.pyplot as plt\n",
    "\n",
    "# Gráfico de pizza, onde as fatias serão ordenadas \n",
    "# e plotadas no sentido anti-horário:\n",
    "labels = 'Sapos', 'Porcos', 'Cachorros', 'Gatos'\n",
    "sizes = [15, 30, 45, 10]\n",
    "# Apenas \"explode\" a segunda fatia (ou seja, 'Porcos')\n",
    "explode = (0, 0.1, 0, 0)\n",
    "\n",
    "plt.figure()\n",
    "\n",
    "plt.pie(sizes, explode=explode, \n",
    "        labels=labels, autopct='%1.1f%%', \n",
    "        shadow=True, startangle=90)\n",
    "# Título da figura.\n",
    "plt.title('Exemplo #7')\n",
    "\n",
    "plt.show()"
   ]
  },
  {
   "cell_type": "markdown",
   "metadata": {},
   "source": [
    "A biblioteca Matplotlib tem funções para gerar gráficos:\n",
    "+ 3D, \n",
    "+ em barra,\n",
    "+ de contorno, \n",
    "+ de dispersão, \n",
    "+ polares, \n",
    "+ entre outros. \n",
    "\n",
    "Para ver esses e vários outros exemplos de uso da biblioteca matplotlib, acesse o link abaixo: https://matplotlib.org/api/_as_gen/matplotlib.pyplot.plot.html#examples-using-matplotlib-pyplot-plot"
   ]
  },
  {
   "cell_type": "markdown",
   "metadata": {},
   "source": [
    "### Tarefas\n",
    "\n",
    "1. <span style=\"color:blue\">**QUIZ - Matplotlib**</span>: respondam ao questionário sobre a biblioteca Matplotlib no MS teams, por favor. \n",
    "2. <span style=\"color:blue\">**Laboratório #7 - Matplotlib**</span>: cliquem em um dos links abaixo para accessar os exercícios do laboratório #7.\n",
    "\n",
    "[![Binder](https://mybinder.org/badge_logo.svg)](https://mybinder.org/v2/gh/zz4fap/python-programming/master?filepath=labs%2FLaboratorio7_Matplotlib.ipynb)\n",
    "\n",
    "[![Google Colab](https://badgen.net/badge/Launch/on%20Google%20Colab/blue?icon=terminal)](https://colab.research.google.com/github/zz4fap/python-programming/blob/master/labs/Laboratorio7_Matplotlib.ipynb)"
   ]
  },
  {
   "cell_type": "markdown",
   "metadata": {},
   "source": [
    "## Manipulação e análise exploratória de dados com Pandas\n",
    "\n",
    "Pandas é uma biblioteca que fornece estruturas de dados e funções para manipulação e análise de dados. \n",
    "\n",
    "A estrutura de dados principal do pandas é a classe **DataFrame** (que pode ser entendida como uma planilha, ou uma tabela).\n",
    "\n",
    "#### Exemplos\n",
    "\n",
    "Para criar um objeto da classe **DataFrame**, podemos usar uma lista de dicionários:"
   ]
  },
  {
   "cell_type": "code",
   "execution_count": 37,
   "metadata": {},
   "outputs": [
    {
     "data": {
      "text/html": [
       "<div>\n",
       "<style scoped>\n",
       "    .dataframe tbody tr th:only-of-type {\n",
       "        vertical-align: middle;\n",
       "    }\n",
       "\n",
       "    .dataframe tbody tr th {\n",
       "        vertical-align: top;\n",
       "    }\n",
       "\n",
       "    .dataframe thead th {\n",
       "        text-align: right;\n",
       "    }\n",
       "</style>\n",
       "<table border=\"1\" class=\"dataframe\">\n",
       "  <thead>\n",
       "    <tr style=\"text-align: right;\">\n",
       "      <th></th>\n",
       "      <th>a</th>\n",
       "      <th>b</th>\n",
       "      <th>c</th>\n",
       "    </tr>\n",
       "  </thead>\n",
       "  <tbody>\n",
       "    <tr>\n",
       "      <th>0</th>\n",
       "      <td>2</td>\n",
       "      <td>3</td>\n",
       "      <td>4</td>\n",
       "    </tr>\n",
       "    <tr>\n",
       "      <th>1</th>\n",
       "      <td>1</td>\n",
       "      <td>2</td>\n",
       "      <td>5</td>\n",
       "    </tr>\n",
       "  </tbody>\n",
       "</table>\n",
       "</div>"
      ],
      "text/plain": [
       "   a  b  c\n",
       "0  2  3  4\n",
       "1  1  2  5"
      ]
     },
     "execution_count": 37,
     "metadata": {},
     "output_type": "execute_result"
    }
   ],
   "source": [
    "import pandas as pd\n",
    "\n",
    "df = pd.DataFrame([{'a': 2, 'b': 3, 'c': 4},\n",
    "                   {'a': 1, 'b': 2, 'c': 5}])\n",
    "\n",
    "df"
   ]
  },
  {
   "cell_type": "markdown",
   "metadata": {},
   "source": [
    "ou também podemos criar um **DataFrame** através de um lista de listas pasaando os nomes das colunas através do parâmetro `columns`:"
   ]
  },
  {
   "cell_type": "code",
   "execution_count": 38,
   "metadata": {},
   "outputs": [
    {
     "data": {
      "text/html": [
       "<div>\n",
       "<style scoped>\n",
       "    .dataframe tbody tr th:only-of-type {\n",
       "        vertical-align: middle;\n",
       "    }\n",
       "\n",
       "    .dataframe tbody tr th {\n",
       "        vertical-align: top;\n",
       "    }\n",
       "\n",
       "    .dataframe thead th {\n",
       "        text-align: right;\n",
       "    }\n",
       "</style>\n",
       "<table border=\"1\" class=\"dataframe\">\n",
       "  <thead>\n",
       "    <tr style=\"text-align: right;\">\n",
       "      <th></th>\n",
       "      <th>a</th>\n",
       "      <th>b</th>\n",
       "      <th>c</th>\n",
       "    </tr>\n",
       "  </thead>\n",
       "  <tbody>\n",
       "    <tr>\n",
       "      <th>0</th>\n",
       "      <td>2</td>\n",
       "      <td>3</td>\n",
       "      <td>4</td>\n",
       "    </tr>\n",
       "    <tr>\n",
       "      <th>1</th>\n",
       "      <td>1</td>\n",
       "      <td>2</td>\n",
       "      <td>5</td>\n",
       "    </tr>\n",
       "  </tbody>\n",
       "</table>\n",
       "</div>"
      ],
      "text/plain": [
       "   a  b  c\n",
       "0  2  3  4\n",
       "1  1  2  5"
      ]
     },
     "execution_count": 38,
     "metadata": {},
     "output_type": "execute_result"
    }
   ],
   "source": [
    "df = pd.DataFrame([[2, 3, 4], [1, 2, 5]], columns=['a', 'b', 'c'])\n",
    "\n",
    "df"
   ]
  },
  {
   "cell_type": "markdown",
   "metadata": {},
   "source": [
    "Para criarmos um **DataFrame** vazio, fazemos "
   ]
  },
  {
   "cell_type": "code",
   "execution_count": 39,
   "metadata": {},
   "outputs": [
    {
     "data": {
      "text/html": [
       "<div>\n",
       "<style scoped>\n",
       "    .dataframe tbody tr th:only-of-type {\n",
       "        vertical-align: middle;\n",
       "    }\n",
       "\n",
       "    .dataframe tbody tr th {\n",
       "        vertical-align: top;\n",
       "    }\n",
       "\n",
       "    .dataframe thead th {\n",
       "        text-align: right;\n",
       "    }\n",
       "</style>\n",
       "<table border=\"1\" class=\"dataframe\">\n",
       "  <thead>\n",
       "    <tr style=\"text-align: right;\">\n",
       "      <th></th>\n",
       "    </tr>\n",
       "  </thead>\n",
       "  <tbody>\n",
       "  </tbody>\n",
       "</table>\n",
       "</div>"
      ],
      "text/plain": [
       "Empty DataFrame\n",
       "Columns: []\n",
       "Index: []"
      ]
     },
     "execution_count": 39,
     "metadata": {},
     "output_type": "execute_result"
    }
   ],
   "source": [
    "df = pd.DataFrame()\n",
    "\n",
    "df"
   ]
  },
  {
   "cell_type": "markdown",
   "metadata": {},
   "source": [
    "Adicionando uma nova coluna a um **DataFrame** já existente."
   ]
  },
  {
   "cell_type": "code",
   "execution_count": 40,
   "metadata": {},
   "outputs": [
    {
     "data": {
      "text/html": [
       "<div>\n",
       "<style scoped>\n",
       "    .dataframe tbody tr th:only-of-type {\n",
       "        vertical-align: middle;\n",
       "    }\n",
       "\n",
       "    .dataframe tbody tr th {\n",
       "        vertical-align: top;\n",
       "    }\n",
       "\n",
       "    .dataframe thead th {\n",
       "        text-align: right;\n",
       "    }\n",
       "</style>\n",
       "<table border=\"1\" class=\"dataframe\">\n",
       "  <thead>\n",
       "    <tr style=\"text-align: right;\">\n",
       "      <th></th>\n",
       "      <th>a</th>\n",
       "      <th>b</th>\n",
       "      <th>c</th>\n",
       "    </tr>\n",
       "  </thead>\n",
       "  <tbody>\n",
       "    <tr>\n",
       "      <th>0</th>\n",
       "      <td>2</td>\n",
       "      <td>3</td>\n",
       "      <td>4</td>\n",
       "    </tr>\n",
       "    <tr>\n",
       "      <th>1</th>\n",
       "      <td>1</td>\n",
       "      <td>2</td>\n",
       "      <td>5</td>\n",
       "    </tr>\n",
       "  </tbody>\n",
       "</table>\n",
       "</div>"
      ],
      "text/plain": [
       "   a  b  c\n",
       "0  2  3  4\n",
       "1  1  2  5"
      ]
     },
     "execution_count": 40,
     "metadata": {},
     "output_type": "execute_result"
    }
   ],
   "source": [
    "df = pd.DataFrame([{'a': 2, 'b': 3, 'c': 4},\n",
    "                   {'a': 1, 'b': 2, 'c': 5}])\n",
    "\n",
    "df"
   ]
  },
  {
   "cell_type": "code",
   "execution_count": 41,
   "metadata": {},
   "outputs": [
    {
     "data": {
      "text/html": [
       "<div>\n",
       "<style scoped>\n",
       "    .dataframe tbody tr th:only-of-type {\n",
       "        vertical-align: middle;\n",
       "    }\n",
       "\n",
       "    .dataframe tbody tr th {\n",
       "        vertical-align: top;\n",
       "    }\n",
       "\n",
       "    .dataframe thead th {\n",
       "        text-align: right;\n",
       "    }\n",
       "</style>\n",
       "<table border=\"1\" class=\"dataframe\">\n",
       "  <thead>\n",
       "    <tr style=\"text-align: right;\">\n",
       "      <th></th>\n",
       "      <th>a</th>\n",
       "      <th>b</th>\n",
       "      <th>c</th>\n",
       "      <th>d</th>\n",
       "    </tr>\n",
       "  </thead>\n",
       "  <tbody>\n",
       "    <tr>\n",
       "      <th>0</th>\n",
       "      <td>2</td>\n",
       "      <td>3</td>\n",
       "      <td>4</td>\n",
       "      <td>1</td>\n",
       "    </tr>\n",
       "    <tr>\n",
       "      <th>1</th>\n",
       "      <td>1</td>\n",
       "      <td>2</td>\n",
       "      <td>5</td>\n",
       "      <td>2</td>\n",
       "    </tr>\n",
       "  </tbody>\n",
       "</table>\n",
       "</div>"
      ],
      "text/plain": [
       "   a  b  c  d\n",
       "0  2  3  4  1\n",
       "1  1  2  5  2"
      ]
     },
     "execution_count": 41,
     "metadata": {},
     "output_type": "execute_result"
    }
   ],
   "source": [
    "df['d'] = [1,2]\n",
    "\n",
    "df"
   ]
  },
  {
   "cell_type": "markdown",
   "metadata": {},
   "source": [
    "Adicionando uma nova coluna usando as colunas já existentes no **DataFrame**."
   ]
  },
  {
   "cell_type": "code",
   "execution_count": 42,
   "metadata": {},
   "outputs": [
    {
     "data": {
      "text/html": [
       "<div>\n",
       "<style scoped>\n",
       "    .dataframe tbody tr th:only-of-type {\n",
       "        vertical-align: middle;\n",
       "    }\n",
       "\n",
       "    .dataframe tbody tr th {\n",
       "        vertical-align: top;\n",
       "    }\n",
       "\n",
       "    .dataframe thead th {\n",
       "        text-align: right;\n",
       "    }\n",
       "</style>\n",
       "<table border=\"1\" class=\"dataframe\">\n",
       "  <thead>\n",
       "    <tr style=\"text-align: right;\">\n",
       "      <th></th>\n",
       "      <th>a</th>\n",
       "      <th>b</th>\n",
       "      <th>c</th>\n",
       "      <th>d</th>\n",
       "      <th>e</th>\n",
       "    </tr>\n",
       "  </thead>\n",
       "  <tbody>\n",
       "    <tr>\n",
       "      <th>0</th>\n",
       "      <td>2</td>\n",
       "      <td>3</td>\n",
       "      <td>4</td>\n",
       "      <td>1</td>\n",
       "      <td>5</td>\n",
       "    </tr>\n",
       "    <tr>\n",
       "      <th>1</th>\n",
       "      <td>1</td>\n",
       "      <td>2</td>\n",
       "      <td>5</td>\n",
       "      <td>2</td>\n",
       "      <td>3</td>\n",
       "    </tr>\n",
       "  </tbody>\n",
       "</table>\n",
       "</div>"
      ],
      "text/plain": [
       "   a  b  c  d  e\n",
       "0  2  3  4  1  5\n",
       "1  1  2  5  2  3"
      ]
     },
     "execution_count": 42,
     "metadata": {},
     "output_type": "execute_result"
    }
   ],
   "source": [
    "df['e'] = df['a'] + df['b']\n",
    "\n",
    "df"
   ]
  },
  {
   "cell_type": "markdown",
   "metadata": {},
   "source": [
    "As linhas de um **DataFrame** podem ser selecionadas passando-se o índice da linha para o método `iloc`."
   ]
  },
  {
   "cell_type": "code",
   "execution_count": 43,
   "metadata": {},
   "outputs": [
    {
     "name": "stdout",
     "output_type": "stream",
     "text": [
      "Conteúdo do DataFrame:\n",
      "    a  b   c\n",
      "0   2  3   4\n",
      "1   1  2   5\n",
      "2  34  0  15\n",
      "3   4  9  54\n",
      "Elementos da linha 0:\n"
     ]
    },
    {
     "data": {
      "text/plain": [
       "a    2\n",
       "b    3\n",
       "c    4\n",
       "Name: 0, dtype: int64"
      ]
     },
     "execution_count": 43,
     "metadata": {},
     "output_type": "execute_result"
    }
   ],
   "source": [
    "import pandas as pd\n",
    "\n",
    "df = pd.DataFrame([\n",
    "    {'a': 2, 'b': 3, 'c': 4},\n",
    "    {'a': 1, 'b': 2, 'c': 5},\n",
    "    {'a': 34, 'b': 0, 'c': 15},\n",
    "    {'a': 4, 'b': 9, 'c': 54}\n",
    "])\n",
    "\n",
    "print('Conteúdo do DataFrame:')\n",
    "print(df)\n",
    "\n",
    "print('Elementos da linha 0:')\n",
    "df.iloc[0]"
   ]
  },
  {
   "cell_type": "markdown",
   "metadata": {},
   "source": [
    "**Fatiando linhas**: várias linhas podem ser selecionadas usando o operador `:`."
   ]
  },
  {
   "cell_type": "code",
   "execution_count": 44,
   "metadata": {},
   "outputs": [
    {
     "data": {
      "text/html": [
       "<div>\n",
       "<style scoped>\n",
       "    .dataframe tbody tr th:only-of-type {\n",
       "        vertical-align: middle;\n",
       "    }\n",
       "\n",
       "    .dataframe tbody tr th {\n",
       "        vertical-align: top;\n",
       "    }\n",
       "\n",
       "    .dataframe thead th {\n",
       "        text-align: right;\n",
       "    }\n",
       "</style>\n",
       "<table border=\"1\" class=\"dataframe\">\n",
       "  <thead>\n",
       "    <tr style=\"text-align: right;\">\n",
       "      <th></th>\n",
       "      <th>a</th>\n",
       "      <th>b</th>\n",
       "      <th>c</th>\n",
       "    </tr>\n",
       "  </thead>\n",
       "  <tbody>\n",
       "    <tr>\n",
       "      <th>2</th>\n",
       "      <td>34</td>\n",
       "      <td>0</td>\n",
       "      <td>15</td>\n",
       "    </tr>\n",
       "    <tr>\n",
       "      <th>3</th>\n",
       "      <td>4</td>\n",
       "      <td>9</td>\n",
       "      <td>54</td>\n",
       "    </tr>\n",
       "  </tbody>\n",
       "</table>\n",
       "</div>"
      ],
      "text/plain": [
       "    a  b   c\n",
       "2  34  0  15\n",
       "3   4  9  54"
      ]
     },
     "execution_count": 44,
     "metadata": {},
     "output_type": "execute_result"
    }
   ],
   "source": [
    "df[2:4]"
   ]
  },
  {
   "cell_type": "markdown",
   "metadata": {},
   "source": [
    "**Adição de linhas**: podemos adicionar novas linhas a um **DataFrame** usando a função `append`. Esta função irá anexar as linhas ao final do **DataFrame**."
   ]
  },
  {
   "cell_type": "code",
   "execution_count": 45,
   "metadata": {},
   "outputs": [
    {
     "name": "stdout",
     "output_type": "stream",
     "text": [
      "Conteúdo de df1:\n",
      "   a  b\n",
      "0  1  2\n",
      "1  3  4\n",
      "\n",
      "Conteúdo de df2:\n",
      "   a  b\n",
      "0  5  6\n",
      "1  7  8\n",
      "\n",
      "Conteúdo de df3:\n",
      "   a  b\n",
      "0  1  2\n",
      "1  3  4\n",
      "2  5  6\n",
      "3  7  8\n"
     ]
    }
   ],
   "source": [
    "import pandas as pd\n",
    "\n",
    "df1 = pd.DataFrame([[1, 2], [3, 4]], columns = ['a','b'])\n",
    "\n",
    "print('Conteúdo de df1:')\n",
    "print(df1)\n",
    "\n",
    "df2 = pd.DataFrame([[5, 6], [7, 8]], columns = ['a','b'])\n",
    "\n",
    "print('\\nConteúdo de df2:')\n",
    "print(df2)\n",
    "\n",
    "# ignore_index ignora os índices dos dataframes individuais.\n",
    "# Caso fosse False, teríamos linhas com o mesmo índice.\n",
    "df3 = df1.append(df2, ignore_index=True)\n",
    "\n",
    "print('\\nConteúdo de df3:')\n",
    "print(df3)"
   ]
  },
  {
   "cell_type": "markdown",
   "metadata": {},
   "source": [
    "**Exclusão de linhas**: usamos método `drop` e o índice para excluir linhas de um **DataFrame**. \n",
    "\n",
    "**IMPORTANTE**: Se o índice estiver duplicado, várias linhas serão eliminadas."
   ]
  },
  {
   "cell_type": "code",
   "execution_count": 46,
   "metadata": {},
   "outputs": [
    {
     "name": "stdout",
     "output_type": "stream",
     "text": [
      "Conteúdo de df:\n",
      "   a  b\n",
      "0  1  2\n",
      "1  3  4\n",
      "2  1  2\n",
      "Conteúdo de df após remoção da linha 0:\n",
      "   a  b\n",
      "1  3  4\n",
      "2  1  2\n"
     ]
    }
   ],
   "source": [
    "import pandas as pd\n",
    "\n",
    "df = pd.DataFrame([[1, 2], [3, 4], [1, 2]], columns = ['a','b'])\n",
    "\n",
    "print('Conteúdo de df:')\n",
    "print(df)\n",
    "\n",
    "# Deletando a linha 0.\n",
    "df = df.drop(0)\n",
    "\n",
    "print('Conteúdo de df após remoção da linha 0:')\n",
    "print(df)"
   ]
  },
  {
   "cell_type": "markdown",
   "metadata": {},
   "source": [
    "Excluindo mais de uma linha simultânemente."
   ]
  },
  {
   "cell_type": "code",
   "execution_count": 47,
   "metadata": {},
   "outputs": [
    {
     "name": "stdout",
     "output_type": "stream",
     "text": [
      "Conteúdo de df:\n",
      "   a  b\n",
      "0  1  2\n",
      "1  3  4\n",
      "2  1  2\n",
      "\n",
      "Conteúdo de df após remoção das linhas 1 e 2:\n",
      "   a  b\n",
      "0  1  2\n"
     ]
    }
   ],
   "source": [
    "import pandas as pd\n",
    "\n",
    "df = pd.DataFrame([[1, 2], [3, 4], [1, 2]], columns = ['a','b'])\n",
    "\n",
    "print('Conteúdo de df:')\n",
    "print(df)\n",
    "\n",
    "df = df.drop([1,2])\n",
    "\n",
    "print('\\nConteúdo de df após remoção das linhas 1 e 2:')\n",
    "print(df)"
   ]
  },
  {
   "cell_type": "markdown",
   "metadata": {},
   "source": [
    "### Importando e exportando dados\n",
    "\n",
    "Para ler dados de arquivos CSV, Excel ou JSON e criar um **DataFrame** a partir deles, podemos usar as seguintes funções:\n",
    "\n",
    "+ `pd.read_csv`\n",
    "+ `pd.read_excel`\n",
    "+ `pd.read_json`\n",
    "\n",
    "Para escrever um **DataFrame** em um arquivo, usamos as seguintes funções:\n",
    "\n",
    "+ `df.to_csv`\n",
    "+ `df.to_excel`\n",
    "+ `df.to_json`\n",
    "\n",
    "#### Exemplos\n",
    "\n",
    "No exemplo abaixo, o arquivo `compras.csv` contém uma lista de clientes e informações de vendas de produtos. \n",
    "\n",
    "Nós usamos a função `read_csv` para importar os dados do arquivo em um objeto do tipo **DataFrame**."
   ]
  },
  {
   "cell_type": "code",
   "execution_count": 48,
   "metadata": {},
   "outputs": [
    {
     "data": {
      "text/html": [
       "<div>\n",
       "<style scoped>\n",
       "    .dataframe tbody tr th:only-of-type {\n",
       "        vertical-align: middle;\n",
       "    }\n",
       "\n",
       "    .dataframe tbody tr th {\n",
       "        vertical-align: top;\n",
       "    }\n",
       "\n",
       "    .dataframe thead th {\n",
       "        text-align: right;\n",
       "    }\n",
       "</style>\n",
       "<table border=\"1\" class=\"dataframe\">\n",
       "  <thead>\n",
       "    <tr style=\"text-align: right;\">\n",
       "      <th></th>\n",
       "      <th>Client Name</th>\n",
       "      <th>Country</th>\n",
       "      <th>Product</th>\n",
       "      <th>Purchase Price</th>\n",
       "    </tr>\n",
       "  </thead>\n",
       "  <tbody>\n",
       "    <tr>\n",
       "      <th>0</th>\n",
       "      <td>Jon Smith</td>\n",
       "      <td>Japan</td>\n",
       "      <td>Computer</td>\n",
       "      <td>$800</td>\n",
       "    </tr>\n",
       "    <tr>\n",
       "      <th>1</th>\n",
       "      <td>Bill Martin</td>\n",
       "      <td>US</td>\n",
       "      <td>Tablet</td>\n",
       "      <td>$450</td>\n",
       "    </tr>\n",
       "    <tr>\n",
       "      <th>2</th>\n",
       "      <td>Maria Blue</td>\n",
       "      <td>Canada</td>\n",
       "      <td>Printer</td>\n",
       "      <td>$150</td>\n",
       "    </tr>\n",
       "    <tr>\n",
       "      <th>3</th>\n",
       "      <td>Rita Yu</td>\n",
       "      <td>Brazil</td>\n",
       "      <td>Laptop</td>\n",
       "      <td>$1200</td>\n",
       "    </tr>\n",
       "    <tr>\n",
       "      <th>4</th>\n",
       "      <td>Jack Mo</td>\n",
       "      <td>UK</td>\n",
       "      <td>Monitor</td>\n",
       "      <td>$300</td>\n",
       "    </tr>\n",
       "    <tr>\n",
       "      <th>5</th>\n",
       "      <td>Ron Green</td>\n",
       "      <td>Spain</td>\n",
       "      <td>Laptop</td>\n",
       "      <td>$1200</td>\n",
       "    </tr>\n",
       "    <tr>\n",
       "      <th>6</th>\n",
       "      <td>Jeff Long</td>\n",
       "      <td>China</td>\n",
       "      <td>Laptop</td>\n",
       "      <td>$1200</td>\n",
       "    </tr>\n",
       "    <tr>\n",
       "      <th>7</th>\n",
       "      <td>Carrie Lan</td>\n",
       "      <td>Italy</td>\n",
       "      <td>Computer</td>\n",
       "      <td>$800</td>\n",
       "    </tr>\n",
       "    <tr>\n",
       "      <th>8</th>\n",
       "      <td>Marry Sig</td>\n",
       "      <td>Peru</td>\n",
       "      <td>Computer</td>\n",
       "      <td>$800</td>\n",
       "    </tr>\n",
       "    <tr>\n",
       "      <th>9</th>\n",
       "      <td>Ben Baker</td>\n",
       "      <td>Russia</td>\n",
       "      <td>Printer</td>\n",
       "      <td>$150</td>\n",
       "    </tr>\n",
       "  </tbody>\n",
       "</table>\n",
       "</div>"
      ],
      "text/plain": [
       "   Client Name Country   Product Purchase Price\n",
       "0    Jon Smith   Japan  Computer           $800\n",
       "1  Bill Martin      US    Tablet           $450\n",
       "2   Maria Blue  Canada   Printer           $150\n",
       "3      Rita Yu  Brazil    Laptop          $1200\n",
       "4      Jack Mo      UK   Monitor           $300\n",
       "5    Ron Green   Spain    Laptop          $1200\n",
       "6    Jeff Long   China    Laptop          $1200\n",
       "7   Carrie Lan   Italy  Computer           $800\n",
       "8    Marry Sig    Peru  Computer           $800\n",
       "9    Ben Baker  Russia   Printer           $150"
      ]
     },
     "execution_count": 48,
     "metadata": {},
     "output_type": "execute_result"
    }
   ],
   "source": [
    "import pandas as pd\n",
    "\n",
    "df = pd.read_csv('compras.csv')\n",
    "\n",
    "df"
   ]
  },
  {
   "cell_type": "markdown",
   "metadata": {},
   "source": [
    "No exemplo abaixo, nós importamos os dados de um arquivo csv com informações sobre a população de algumas cidades e criamos um gráfico em formato de pizza com a biblioteca Matplotlib."
   ]
  },
  {
   "cell_type": "code",
   "execution_count": 49,
   "metadata": {},
   "outputs": [
    {
     "name": "stdout",
     "output_type": "stream",
     "text": [
      "           City         State Capital  Population\n",
      "0  Philadelphia  Pennsylvania      No       1.581\n",
      "1    Sacramento    California     Yes       0.500\n",
      "2      New York      New York      No       8.623\n",
      "3        Austin         Texas     Yes       0.950\n",
      "4         Miami       Florida      No       0.463\n"
     ]
    },
    {
     "data": {
      "image/png": "[encoded data removed]",
      "text/plain": [
       "<Figure size 432x288 with 1 Axes>"
      ]
     },
     "metadata": {},
     "output_type": "display_data"
    }
   ],
   "source": [
    "import pandas as pd\n",
    "import matplotlib.pyplot as plt\n",
    "\n",
    "df = pd.read_csv('population.csv')\n",
    "\n",
    "print(df)\n",
    "\n",
    "# Apenas \"explode\" a terceira fatia.\n",
    "explode = (0, 0, 0.2, 0, 0)\n",
    "\n",
    "plt.pie(df['Population'], labels=df['City'], explode=explode)\n",
    "plt.show()"
   ]
  },
  {
   "cell_type": "markdown",
   "metadata": {},
   "source": [
    "No exemplo abaixo, nós exportarmos um **DataFrame** para um arquivo CSV."
   ]
  },
  {
   "cell_type": "code",
   "execution_count": 50,
   "metadata": {},
   "outputs": [],
   "source": [
    "df = pd.DataFrame([\n",
    "    {'a': 2, 'b': 3, 'c': 4},\n",
    "    {'a': 1, 'b': 2, 'c': 5},\n",
    "    {'a': 3, 'b': 0, 'c': 6},\n",
    "    {'a': 4, 'b': 9, 'c': 7}\n",
    "])\n",
    "\n",
    "# Fazemos index=False para não incluir os índices como uma nova coluna.\n",
    "df.to_csv('mycsv.csv', index=False)"
   ]
  },
  {
   "cell_type": "code",
   "execution_count": 51,
   "metadata": {},
   "outputs": [
    {
     "data": {
      "text/html": [
       "<div>\n",
       "<style scoped>\n",
       "    .dataframe tbody tr th:only-of-type {\n",
       "        vertical-align: middle;\n",
       "    }\n",
       "\n",
       "    .dataframe tbody tr th {\n",
       "        vertical-align: top;\n",
       "    }\n",
       "\n",
       "    .dataframe thead th {\n",
       "        text-align: right;\n",
       "    }\n",
       "</style>\n",
       "<table border=\"1\" class=\"dataframe\">\n",
       "  <thead>\n",
       "    <tr style=\"text-align: right;\">\n",
       "      <th></th>\n",
       "      <th>a</th>\n",
       "      <th>b</th>\n",
       "      <th>c</th>\n",
       "    </tr>\n",
       "  </thead>\n",
       "  <tbody>\n",
       "    <tr>\n",
       "      <th>0</th>\n",
       "      <td>2</td>\n",
       "      <td>3</td>\n",
       "      <td>4</td>\n",
       "    </tr>\n",
       "    <tr>\n",
       "      <th>1</th>\n",
       "      <td>1</td>\n",
       "      <td>2</td>\n",
       "      <td>5</td>\n",
       "    </tr>\n",
       "    <tr>\n",
       "      <th>2</th>\n",
       "      <td>3</td>\n",
       "      <td>0</td>\n",
       "      <td>6</td>\n",
       "    </tr>\n",
       "    <tr>\n",
       "      <th>3</th>\n",
       "      <td>4</td>\n",
       "      <td>9</td>\n",
       "      <td>7</td>\n",
       "    </tr>\n",
       "  </tbody>\n",
       "</table>\n",
       "</div>"
      ],
      "text/plain": [
       "   a  b  c\n",
       "0  2  3  4\n",
       "1  1  2  5\n",
       "2  3  0  6\n",
       "3  4  9  7"
      ]
     },
     "execution_count": 51,
     "metadata": {},
     "output_type": "execute_result"
    }
   ],
   "source": [
    "df = pd.read_csv('mycsv.csv')\n",
    "\n",
    "df"
   ]
  },
  {
   "cell_type": "markdown",
   "metadata": {},
   "source": [
    "No exemplo abaixo, nós selecionamos as colunas `City`, `State` e `Population`do **DataFrame** para encontrar qual a cidade e estado mais populoso."
   ]
  },
  {
   "cell_type": "code",
   "execution_count": 52,
   "metadata": {},
   "outputs": [
    {
     "name": "stdout",
     "output_type": "stream",
     "text": [
      "Conteúdo da nova tabela:\n",
      "           City         State  Population\n",
      "0  Philadelphia  Pennsylvania       1.581\n",
      "1    Sacramento    California       0.500\n",
      "2      New York      New York       8.623\n",
      "3        Austin         Texas       0.950\n",
      "4         Miami       Florida       0.463\n",
      "\n",
      "Cidade e estado mais populoso:\n",
      "       City     State  Population\n",
      "2  New York  New York       8.623\n"
     ]
    }
   ],
   "source": [
    "import pandas as pd\n",
    "\n",
    "# Carregamos o arquivo CSV em um DataFrame.\n",
    "df = pd.read_csv('population.csv')\n",
    "\n",
    "# Criando um sub-DataFrame, ou seja, uma tabela com apenas as colunas\n",
    "# City, State e Population.\n",
    "df = df[['City','State','Population']]\n",
    "\n",
    "print('Conteúdo da nova tabela:')\n",
    "print(df)\n",
    "\n",
    "# Selecionando a linha da coluna 'Population' que tem o maior valor.\n",
    "df = df[df['Population']==df['Population'].max()]\n",
    "\n",
    "print('\\nCidade e estado mais populoso:')\n",
    "print(df)"
   ]
  },
  {
   "cell_type": "markdown",
   "metadata": {},
   "source": [
    "O uso das outras funções é semelhante ao uso para arquivos CSV. Para mais informações, acessem o link abaixo.\n",
    "\n",
    "A tabela abaixo lista atributos e métodos importantes de um objeto do tipo **DataFrame**:\n",
    "\n",
    "\n",
    "| Atributo ou Método |                                      Descrição                                      |\n",
    "|:------------------:|:-----------------------------------------------------------------------------------:|\n",
    "| T                  | Transpõe linhas e colunas.                                                        |\n",
    "| axes               | Retorna uma lista com os rótulos do eixo da linha e rótulos do eixo da coluna. |\n",
    "| dtypes             | Retorna os dtypes presentes neste DataFrame.                                                  |\n",
    "| ndim               | Número de eixos / dimensões da matriz.                                                  |\n",
    "| shape              | Retorna uma tupla que representa a dimensionalidade do DataFrame.                   |\n",
    "| size               | Número de elementos no DataFrame.                                                  |\n",
    "| values             | Representação Numpy do DataFrame.                                                    |\n",
    "| head(n)             | Retorna as primeiras n linhas.                                                           |\n",
    "| tail(n)             | Retorna as últimas n linhas.                                                                |\n",
    "| describe()         | Retorna uma descrição do DataFrame                    |\n",
    "| append()           | Adiciona uma linha ao final do DataFrame              |"
   ]
  },
  {
   "cell_type": "markdown",
   "metadata": {},
   "source": [
    "Para mais informações sobre a biblioteca Pandas, acesse sua documentação no seguinte link: https://pandas.pydata.org/pandas-docs/stable/reference/"
   ]
  },
  {
   "cell_type": "markdown",
   "metadata": {},
   "source": [
    "## Tarefas\n",
    "\n",
    "1. <span style=\"color:blue\">**QUIZ - Pandas**</span>: respondam ao questionário sobre Pandas no MS teams, por favor. \n",
    "2. <span style=\"color:blue\">**Laboratório #7 - Pandas**</span>: cliquem em um dos links abaixo para accessar os exercícios do laboratório #7.\n",
    "\n",
    "[![Binder](https://mybinder.org/badge_logo.svg)](https://mybinder.org/v2/gh/zz4fap/python-programming/master?filepath=labs%2FLaboratorio7_Pandas.ipynb)\n",
    "\n",
    "[![Google Colab](https://badgen.net/badge/Launch/on%20Google%20Colab/blue?icon=terminal)](https://colab.research.google.com/github/zz4fap/python-programming/blob/master/labs/Laboratorio7_Pandas.ipynb)\n",
    "\n",
    "**IMPORTANTE**: Para acessar o material das aulas e realizar as entregas dos exercícios de laboratório, por favor, leiam o tutorial no seguinte link:\n",
    "[Material-das-Aulas](../docs/Acesso-ao-material-das-aulas-resolucao-e-entrega-dos-laboratorios.pdf)"
   ]
  },
  {
   "cell_type": "markdown",
   "metadata": {},
   "source": [
    "## Avisos\n",
    "\n",
    "* Se atentem aos prazos de entrega das tarefas na aba de **Avaliações** do MS Teams.\n",
    "* Horário de atendimento do Professor: todas as Quintas-feiras das 18:30 às 19:30 e Sextas-feiras das 15:30 às 16:30 (sala do professor no prédio 3).\n",
    "* Horário de atendimento do Monitor (Maycol): todas as Terças-feiras das 18:00 às 19:00 na sala **I-22**."
   ]
  },
  {
   "cell_type": "markdown",
   "metadata": {},
   "source": [
    "<img src=\"../figures/obrigado.png\">"
   ]
  }
 ],
 "metadata": {
  "kernelspec": {
   "display_name": "Python 3 (ipykernel)",
   "language": "python",
   "name": "python3"
  },
  "language_info": {
   "codemirror_mode": {
    "name": "ipython",
    "version": 3
   },
   "file_extension": ".py",
   "mimetype": "text/x-python",
   "name": "python",
   "nbconvert_exporter": "python",
   "pygments_lexer": "ipython3",
   "version": "3.9.7"
  }
 },
 "nbformat": 4,
 "nbformat_minor": 4
}
