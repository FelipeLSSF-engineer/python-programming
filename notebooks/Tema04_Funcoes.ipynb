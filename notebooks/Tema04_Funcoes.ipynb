{
 "cells": [
  {
   "cell_type": "markdown",
   "metadata": {},
   "source": [
    "# Funções\n",
    "\n",
    "## Introdução\n",
    "\n",
    "Funções são partes importantíssimas de todas as linguagens de programação. \n",
    "\n",
    "Elas contêm blocos de código que podem ser acessados através de seu nome, executam tarefas específicas e auxiliam no reuso do código.\n",
    "\n",
    "**Exemplos**:\n",
    "\n",
    "+ `print()`: Imprime uma string na tela.\n",
    "+ `cos()`: Calcula e retorna o coseno de um valor de entrada.\n",
    "+ `max()`: Encontra e retorna o maior valor em uma coleção de dados.\n",
    "+ `str()`: Cria e retorna uma representação em formato de string de um objeto.\n",
    "\n",
    "## Características das funções\n",
    "\n",
    "+ Uma função contém um **bloco de código** **organizado** e **reutilizável** que é usado para realizar uma única tarefa.\n",
    "+ Uma boa prática é que o **nome de uma função seja um indicativo** desta única tarefa realizada por ela, ou seja, auto-explicativo.\n",
    "+ As funções fornecem uma forma de **modularizar** seu programa e, com isso, um alto grau de **reutilização** de código.\n",
    "+ Além disto, tornar partes do seu programa em funções, facilita sua **depuração**.\n",
    "+ Em Python, existem funções definidas por nós usuários, as definidas em módulos e pacotes (bibliotecas) e as embutidas, que são definidas pela própria linguagem. \n",
    "    * Por exemplo, as funções `print()`, `str()` e `type()`.\n",
    "+ Funções podem ou não retornar valores.\n",
    "    \n",
    "## Definindo uma função\n",
    "\n",
    "+ Uma função é definida usando-se a palavra-chave `def` seguida do nome da função, da sequência de parâmetros e de dois pontos, `:`.\n",
    "\n",
    "```python\n",
    "def myFunction(parametro1, parametro2, ...):\n",
    "```\n",
    "\n",
    "+ Em seguida, podemos ter, opcionalmente, a **docstring**, que explica o que a função faz. O objetivo das **docstrings** é servir de documentação para aquela estrutura.\n",
    "\n",
    "```python\n",
    "def myFunction(parametro1, parametro2, ...):\n",
    "    \"\"\"Esta função executa a seguinte tarefa.\"\"\"\n",
    "```\n",
    "\n",
    "+ O bloco de código de uma função sempre começa em um nível mais à direita do cabeçalho (recuo). Podemos usar tabs ou 3 espaços para indentar o código.\n",
    "\n",
    "```python\n",
    "def myFunction(parametro1, parametro2, ...):\n",
    "    \"\"\"Esta função executa a seguinte tarefa.\"\"\"\n",
    "    # bloco de codigo da funcao\n",
    "```\n",
    "\n",
    "#### Exemplo: Definição de uma função."
   ]
  },
  {
   "cell_type": "code",
   "execution_count": 5,
   "metadata": {},
   "outputs": [],
   "source": [
    "# Vejam que se a célula for executada, nada acontece, pois estamos apenas definindo a função aqui.\n",
    "# Porém, depois de definida, podemos invocar a função em qualquer outra célula de código.\n",
    "\n",
    "# Esta função não recebe nenhum argumento de entrada e não retorna nada.\n",
    "def minhaFunção():\n",
    "    \"\"\"Esta é uma função de saudação.\"\"\"\n",
    "    print(\"Olá, sou uma função.\")"
   ]
  },
  {
   "cell_type": "markdown",
   "metadata": {},
   "source": [
    "## Chamando uma função\n",
    "\n",
    "No exemplo abaixo, invocamos a função definida na célula de código acima."
   ]
  },
  {
   "cell_type": "code",
   "execution_count": 8,
   "metadata": {},
   "outputs": [
    {
     "name": "stdout",
     "output_type": "stream",
     "text": [
      "Olá, sou uma função.\n",
      "docstring da função: Esta é uma função de saudação.\n"
     ]
    }
   ],
   "source": [
    "# Chamando (ou invocando) a função.\n",
    "minhaFunção()\n",
    "\n",
    "# Usando o atributo __doc__ do objeto da classe 'function' para descobrir o que esta função faz.\n",
    "print('docstring da função:', minhaFunção.__doc__)"
   ]
  },
  {
   "cell_type": "markdown",
   "metadata": {},
   "source": [
    "## Parâmetros\n",
    "\n",
    "+ Objetos podem ser passados para funções como parâmetros.\n",
    "+ Nós podemos adicionar quantos parâmetros quisermos à lista de parâmetros de entrada de uma função, apenas devemos separá-los com vírgulas.\n",
    "\n",
    "#### Exemplo\n",
    "\n",
    "* O exemplo a seguir define uma função com 2 parâmetros de entrada, `nome` e `idade`. \n",
    "* Quando a função é chamada, passamos valores de `nome` e `idade`, na sequência em que estão definidos, e que serão usados dentro da função para imprimir o nome e a idade da pessoa."
   ]
  },
  {
   "cell_type": "code",
   "execution_count": 18,
   "metadata": {},
   "outputs": [
    {
     "name": "stdout",
     "output_type": "stream",
     "text": [
      "José tem 22 anos.\n",
      "Ana tem 65 anos.\n"
     ]
    }
   ],
   "source": [
    "def minhaFunção(nome, idade):\n",
    "    \"\"\"Esta função imprime o nome e a idade de uma pessoa.\"\"\"\n",
    "    print('%s tem %d anos.' % (nome, idade))\n",
    "\n",
    "# Chamando a função com valores de entrada seguindo a sequência de parâmetros definida na função.\n",
    "minhaFunção('José', 22)\n",
    "minhaFunção('Ana', 65)"
   ]
  },
  {
   "cell_type": "markdown",
   "metadata": {},
   "source": [
    "## Funções com número arbitrário de parâmetros de entrada\n",
    "\n",
    "+ Caso não saibamos quantos argumentos serão passados para uma função, devemos adicionar um `*` antes do nome do parâmetro de entrada na definição da função.\n",
    "+ Dessa forma, a função receberá uma **tupla** de argumentos e poderá acessar os itens da tupla através de seus índices, como mostrado no exemplo abaixo.\n",
    "    + Uma **tupla** é uma coleção de objetos que pode ser indexada."
   ]
  },
  {
   "cell_type": "code",
   "execution_count": 27,
   "metadata": {},
   "outputs": [
    {
     "name": "stdout",
     "output_type": "stream",
     "text": [
      "A tupla recebida pela função é: ('João', 2)\n",
      "Um dos filhos é João, que tem 2 anos de idade.\n",
      "--------------------------\n",
      "A tupla recebida pela função é: ('João', 2, 'Ana', 5)\n",
      "Um dos filhos é João, que tem 2 anos de idade.\n",
      "--------------------------\n",
      "A tupla recebida pela função é: ('João', 2, 'Ana', 5, 'José', 9)\n",
      "Um dos filhos é João, que tem 2 anos de idade.\n"
     ]
    }
   ],
   "source": [
    "# Definindo uma função com número arbitrário de parâmetros.\n",
    "def minhaFunção(*kids):\n",
    "    \"\"\"Esta função imprime o nome e a idade de um dos filhos.\"\"\"\n",
    "    print('A tupla recebida pela função é:', kids)\n",
    "    print(\"Um dos filhos é %s, que tem %d anos de idade.\" % (kids[0], kids[1]))\n",
    "\n",
    "# Chamando a função com 2 parâmetros.\n",
    "minhaFunção(\"João\", 2)\n",
    "print('--------------------------')\n",
    "\n",
    "# Chamando a função com 4 parâmetros.\n",
    "minhaFunção(\"João\", 2, \"Ana\", 5)\n",
    "print('--------------------------')\n",
    "\n",
    "# Chamando a função com 6 parâmetros.\n",
    "minhaFunção(\"João\", 2, \"Ana\", 5, \"José\", 9)"
   ]
  },
  {
   "cell_type": "markdown",
   "metadata": {},
   "source": [
    "## Passando parâmetros como pares de chave e valor\n",
    "\n",
    "+ Podemos também passar parâmetros para uma função usando a sintaxe `chave=valor`. Onde `chave` é o nome do parâmetro da função.\n",
    "+ Dessa forma, **a ordem dos argumentos não importa**."
   ]
  },
  {
   "cell_type": "code",
   "execution_count": 29,
   "metadata": {},
   "outputs": [
    {
     "name": "stdout",
     "output_type": "stream",
     "text": [
      "Funcionário: João, idade: 23 e salário: R$ 1234.56\n"
     ]
    }
   ],
   "source": [
    "# Definindo uma função.\n",
    "def minhaFunção(nome, idade, salário):\n",
    "    '''Função que imprime o nome, idade e salário de um funcionário.'''\n",
    "    print('Funcionário: %s, idade: %d e salário: R$ %1.2f' % (nome, idade, salário))\n",
    "\n",
    "# Chamando a função sem seguir a sequência de parâmetros de entrada definida na função.\n",
    "minhaFunção(salário=1234.56, nome='João', idade=23)"
   ]
  },
  {
   "cell_type": "markdown",
   "metadata": {},
   "source": [
    "## Funções com número arbitrário de parâmetros de entrada passados como pares chave e valor\n",
    "\n",
    "+ Se não soubermos quantos parâmetros serão passados para uma função como pares chave e valor, devemos adicionar dois asteriscos `**` antes do nome do parâmetro na definição da função.\n",
    "+ Dessa forma, a função receberá um **dicionário** e poderá acessar seus itens como mostrado no exemplo abaixo.\n",
    "    + Um dicionário é um conjunto de objetos com itens da forma `chave:valor`, onde os itens são indexados através de suas `chaves`."
   ]
  },
  {
   "cell_type": "code",
   "execution_count": 32,
   "metadata": {},
   "outputs": [
    {
     "name": "stdout",
     "output_type": "stream",
     "text": [
      "O dicionário recebido pela função é {'salário': 1234.56, 'nome': 'João', 'idade': 23}\n",
      "Funcionário: João, idade: 23 e salário: R$ 1234.56\n",
      "--------------------------\n",
      "O dicionário recebido pela função é {'nome': 'Ana', 'idade': 33, 'salário': 5000.0, 'endereço': 'Rua J, 31', 'cargo': 'Engenheiro'}\n",
      "Funcionário: Ana, idade: 33 e salário: R$ 5000.00\n"
     ]
    }
   ],
   "source": [
    "# Definindo uma função com número arbitrário de palavras-chave.\n",
    "def minhaFunção(**funcionário):\n",
    "    '''Função que imprime o nome, idade e salário de um funcionário.'''\n",
    "    print('O dicionário recebido pela função é', funcionário)\n",
    "    print('Funcionário: %s, idade: %d e salário: R$ %1.2f' % (funcionário['nome'], funcionário['idade'], funcionário['salário']))\n",
    "\n",
    "# Chamando a função.\n",
    "minhaFunção(salário=1234.56, nome='João', idade=23)\n",
    "print('--------------------------')\n",
    "\n",
    "# Chamando a função.\n",
    "minhaFunção(nome='Ana', idade=33, salário=5000.0, endereço='Rua J, 31', cargo='Engenheiro')"
   ]
  },
  {
   "cell_type": "markdown",
   "metadata": {},
   "source": [
    "## Parâmetros de entrada com valor padrão\n",
    "\n",
    "+ As vezes não precisamos passar um parâmetro para uma entrada, pois ela funciona com um valor padrão, e.g., função `range()`.\n",
    "+ Portanto, em Python, podemos definir valores padrão para os parâmetros de entrada de uma função.\n",
    "\n",
    "### Exemplos\n",
    "\n",
    "Os exemplos a seguir, mostram como usar valores padrão para parâmetros de entrada. \n",
    "\n",
    "No primeiro exemplo, se chamarmos a função sem nenhum argumento, ela usará os valores padrão definidos em sua lista de parâmetros de entrada."
   ]
  },
  {
   "cell_type": "code",
   "execution_count": 33,
   "metadata": {},
   "outputs": [
    {
     "name": "stdout",
     "output_type": "stream",
     "text": [
      "Funcionário: José, idade: 22 e salário: R$ 1000.00\n",
      "Funcionário: Ana, idade: 22 e salário: R$ 1000.00\n",
      "Funcionário: Ana, idade: 35 e salário: R$ 1000.00\n",
      "Funcionário: Ana, idade: 35 e salário: R$ 5000.00\n"
     ]
    }
   ],
   "source": [
    "def minhaFunção(nome='José', idade=22, salário=1000.00):\n",
    "    '''Função que imprime o nome, idade e salário de um funcionário.'''\n",
    "    print('Funcionário: %s, idade: %d e salário: R$ %1.2f' % (nome, idade, salário))\n",
    "\n",
    "# Chamando a função sem nenhum parâmetro.\n",
    "minhaFunção()\n",
    "# Chamando a função com 1 parâmetro.\n",
    "minhaFunção('Ana')\n",
    "# Chamando a função com 2 parâmetros.\n",
    "minhaFunção('Ana', 35)\n",
    "# Chamando a função com todos parâmetros.\n",
    "minhaFunção('Ana', 35, 5000.0)"
   ]
  },
  {
   "cell_type": "markdown",
   "metadata": {},
   "source": [
    "No próximo exemplo, definimos apenas o último parâmetro com valor padrão, consequentemente a atribuição de valores para os dois primeiros parâmetros se torna mandatória.\n",
    "\n",
    "**OBS**: A definição de parâmetros com valores padrão sempre deve ocorrer da direita para a esquerda."
   ]
  },
  {
   "cell_type": "code",
   "execution_count": 8,
   "metadata": {},
   "outputs": [
    {
     "name": "stdout",
     "output_type": "stream",
     "text": [
      "Funcionário: Ana, idade: 45 e salário: R$ 1000.00\n"
     ]
    }
   ],
   "source": [
    "def minhaFunção(nome, idade, salário=1000.00):\n",
    "    '''Função que imprime o nome, idade e salário de um funcionário.'''\n",
    "    print('Funcionário: %s, idade: %d e salário: R$ %1.2f' % (nome, idade, salário))\n",
    "\n",
    "# Chamando a função.\n",
    "minhaFunção('Ana', 45)"
   ]
  },
  {
   "cell_type": "markdown",
   "metadata": {},
   "source": [
    "No exemplo abaixo, definimos valores padrão para o penúltimo e último parâmetros."
   ]
  },
  {
   "cell_type": "code",
   "execution_count": 30,
   "metadata": {},
   "outputs": [
    {
     "name": "stdout",
     "output_type": "stream",
     "text": [
      "Funcionário: João, idade: 33 e salário: R$ 2222.00\n"
     ]
    }
   ],
   "source": [
    "def minhaFunção(nome, idade=33, salário=2222.00):\n",
    "    '''Função que imprime o nome, idade e salário de um funcionário.'''\n",
    "    print('Funcionário: %s, idade: %d e salário: R$ %1.2f' % (nome, idade, salário))\n",
    "\n",
    "# Chamando a função.\n",
    "minhaFunção('João')"
   ]
  },
  {
   "cell_type": "markdown",
   "metadata": {},
   "source": [
    "**IMPORTANTE**\n",
    "\n",
    "+ Por definição, parâmetros com valores padrão devem vir **após parâmetros sem valores padrão**. \n",
    "+ Caso contrário, teremos um erro do tipo `SyntaxError`, com a seguinte mensagem de erro: `non-default argument follows default argument`."
   ]
  },
  {
   "cell_type": "code",
   "execution_count": 38,
   "metadata": {},
   "outputs": [
    {
     "ename": "SyntaxError",
     "evalue": "non-default argument follows default argument (<ipython-input-38-ac21314ece32>, line 1)",
     "output_type": "error",
     "traceback": [
      "\u001b[1;36m  File \u001b[1;32m\"<ipython-input-38-ac21314ece32>\"\u001b[1;36m, line \u001b[1;32m1\u001b[0m\n\u001b[1;33m    def minhaFunção(nome='Ana', idade, salário):\u001b[0m\n\u001b[1;37m                     ^\u001b[0m\n\u001b[1;31mSyntaxError\u001b[0m\u001b[1;31m:\u001b[0m non-default argument follows default argument\n"
     ]
    }
   ],
   "source": [
    "def minhaFunção(nome='Ana', idade, salário):\n",
    "    '''Função que imprime o nome, idade e salário de um funcionário.'''\n",
    "    print('Funcionário: %s, idade: %d e salário: R$ %1.2f' % (nome, idade, salário))\n",
    "\n",
    "# Chamando a função.\n",
    "minhaFunção(33, 2222.00)"
   ]
  },
  {
   "cell_type": "markdown",
   "metadata": {},
   "source": [
    "### Tarefa\n",
    "\n",
    "1. <span style=\"color:blue\">**QUIZ - Funções (Parte I)**</span>: respondam ao questionário sobre funções no MS teams, por favor. "
   ]
  },
  {
   "cell_type": "markdown",
   "metadata": {},
   "source": [
    "## Retornando valores\n",
    "\n",
    "+ Até então, nos exemplos anteriores, nós não retornamos, explicitamente, nenhum valor.\n",
    "\n",
    "+ Para que uma função retorne um ou mais valores, nós usamos a instrução `return`"
   ]
  },
  {
   "cell_type": "code",
   "execution_count": 39,
   "metadata": {},
   "outputs": [
    {
     "name": "stdout",
     "output_type": "stream",
     "text": [
      "Valor de retorno da função: 15\n",
      "---------------------------------\n",
      "Valor de retorno da função: 25\n"
     ]
    }
   ],
   "source": [
    "# Definição da função.\n",
    "def minhaFunção(x):\n",
    "    '''Função que retorna a multiplicação de um número qualquer por 5.'''\n",
    "    return 5 * x\n",
    "\n",
    "# Uso da função através de sua chamada.\n",
    "valorDeRetorno = minhaFunção(3)\n",
    "print('Valor de retorno da função:', valorDeRetorno)\n",
    "print('---------------------------------')\n",
    "\n",
    "print('Valor de retorno da função:', minhaFunção(5))"
   ]
  },
  {
   "cell_type": "markdown",
   "metadata": {},
   "source": [
    "+ Para retornar mais de um valor, devemos usar **vírgulas** para separar os valores de retorno. \n",
    "\n",
    "+ Em Python, uma função que retorna vários valores, retorna uma **tupla** contendo os valores de retorno.\n",
    "    * **Tuplas** são coleções de objetos separados por vírgula e envoltos por um par de colchetes."
   ]
  },
  {
   "cell_type": "code",
   "execution_count": 42,
   "metadata": {},
   "outputs": [
    {
     "name": "stdout",
     "output_type": "stream",
     "text": [
      "O tipo do retorno é: <class 'tuple'>\n",
      "Os valores de retorno são: (60, 6.0)\n",
      "\n",
      "O tipo de a é: <class 'int'>\n",
      "O tipo de b é: <class 'float'>\n",
      "Os valores de retorno são: 60\n",
      "Os valores de retorno são: 6.0\n"
     ]
    }
   ],
   "source": [
    "# Definição da função.\n",
    "def minhaFunção(x):\n",
    "    '''Função que retorna o resultado de duas operações.'''\n",
    "    return 5 * x, x / 2\n",
    "\n",
    "# A variável valores é do tipo tupla e contém todos os valores de retorno como um de seus elementos.\n",
    "valores = minhaFunção(12)\n",
    "print('O tipo do retorno é:', type(valores))\n",
    "print('Os valores de retorno são:', valores)\n",
    "\n",
    "# Outra forma válida de receber os valores de retorno é desempacotando a tupla que é retornada pela função.\n",
    "a, b = minhaFunção(12)\n",
    "print('\\nO tipo de a é:', type(a))\n",
    "print('O tipo de b é:', type(b))\n",
    "print('Os valores de retorno são:', a)\n",
    "print('Os valores de retorno são:', b)"
   ]
  },
  {
   "cell_type": "markdown",
   "metadata": {},
   "source": [
    "+ O retorno de valores é opcional, porém, **por padrão**, uma função sem retorno explícito sempre retorna o valor `None` , ou seja, o valor nulo."
   ]
  },
  {
   "cell_type": "code",
   "execution_count": 41,
   "metadata": {},
   "outputs": [
    {
     "name": "stdout",
     "output_type": "stream",
     "text": [
      "O nome da pessoa é: Ana\n",
      "O valor de retorno da função é: None\n"
     ]
    }
   ],
   "source": [
    "# Definindo uma função sem valor de retorno explícito.\n",
    "def minhaFunção(nome):\n",
    "    '''Função que imprime um nome.'''\n",
    "    print('O nome da pessoa é:', nome)\n",
    "    \n",
    "# Chamando a função e atribuindo seu retorno a uma variável.\n",
    "valorDeRetorno = minhaFunção('Ana')\n",
    "print('O valor de retorno da função é:', valorDeRetorno)"
   ]
  },
  {
   "cell_type": "markdown",
   "metadata": {},
   "source": [
    "## Espaço de nomes\n",
    "\n",
    "* Imaginem um software com milhares de linhas de código, qual a chance de termos objetos (ou seja, variáveis) com o mesmo **nome**? É grande, não? Portanto, como poderíamos distinguir esses objetos com o mesmo **nome**?\n",
    "\n",
    "* Um **espaço de nomes** (ou **namespace**, do Inglês) é basicamente um <span style=\"color:blue\">sistema para que o interpretador se certifique que todos os **nomes** em um programa são únicos e que podem ser usados sem qualquer conflito</span>.\n",
    "* Em resumo, um **espaço de nomes** é um local onde o interpretador procura por um **nome**.\n",
    "\n",
    "* Desta forma, vários **namespaces** diferentes podem usar o mesmo **nome** e mapeá-los para objetos diferentes, ou seja, um mesmo **nome** pode existir em **namespaces** diferentes, sem que haja conflito.\n",
    "\n",
    "<img src=\"../figures/espacodenomes.png\" width=\"400px\">\n",
    "\n",
    "* Os principais **namespaces** encontrados em Python são:\n",
    "\n",
    "  + **Namespace local**: este namespace inclui **nomes** definidos dentro de uma função ou método. Este namespace é criado quando uma função ou método é chamado, e só dura até que ele retorne.\n",
    "  + **Namespace global**: este namespace inclui **nomes** definidos no nível mais alto do programa principal. Ele é criado quando o corpo do programa principal é iniciado e dura até que o interpretador encerre a execução do programa principal.\n",
    "  + **Namespace embutido**: ou **builtin**, inclui **nomes** que foram carregados pela máquina virtual (interpretador) do Python. Dura enquanto o interpretador estiver sendo executado. \n",
    "\n",
    "### Exemplos"
   ]
  },
  {
   "cell_type": "code",
   "execution_count": 1,
   "metadata": {},
   "outputs": [
    {
     "name": "stdout",
     "output_type": "stream",
     "text": [
      "Esta é a minha função.\n",
      "Valor de retorno: 6\n"
     ]
    }
   ],
   "source": [
    "# Namespace embutido: str, print, type, etc.\n",
    "\n",
    "# Namespace global.\n",
    "variávelA = 'INATEL'\n",
    "\n",
    "# Namespace global.\n",
    "def função1(parâmetro1, parâmetro2):\n",
    "    # Namespace local.\n",
    "    variávelA = 2\n",
    "    print('Esta é a minha função.') # função embutida. \n",
    "    return (parâmetro1 + parâmetro2)*variávelA\n",
    "\n",
    "# Namespace global.\n",
    "valorDeRetorno = função1(1, 2)\n",
    "print('Valor de retorno:', valorDeRetorno) # função embutida."
   ]
  },
  {
   "cell_type": "markdown",
   "metadata": {},
   "source": [
    "**OBS**.: Variáveis locais só são válidas dentro do namespace onde estão definidas, ou seja, elas não são acessíveis fora do escopo local. No exemplo abaixo, a `variávelB` só pode ser usada dentro da função e se tentássemos acessá-la fora da função, ocorreria um erro."
   ]
  },
  {
   "cell_type": "code",
   "execution_count": 8,
   "metadata": {},
   "outputs": [
    {
     "ename": "NameError",
     "evalue": "name 'variávelB' is not defined",
     "output_type": "error",
     "traceback": [
      "\u001b[1;31m---------------------------------------------------------------------------\u001b[0m",
      "\u001b[1;31mNameError\u001b[0m                                 Traceback (most recent call last)",
      "\u001b[1;32mC:\\Users\\FELIPE~1.FIG\\AppData\\Local\\Temp/ipykernel_13332/1721863003.py\u001b[0m in \u001b[0;36m<module>\u001b[1;34m\u001b[0m\n\u001b[0;32m      3\u001b[0m     \u001b[1;32mreturn\u001b[0m \u001b[0mvariávelB\u001b[0m\u001b[1;33m\u001b[0m\u001b[1;33m\u001b[0m\u001b[0m\n\u001b[0;32m      4\u001b[0m \u001b[1;33m\u001b[0m\u001b[0m\n\u001b[1;32m----> 5\u001b[1;33m \u001b[0mprint\u001b[0m\u001b[1;33m(\u001b[0m\u001b[1;34m'Valor da variávelB:'\u001b[0m\u001b[1;33m,\u001b[0m \u001b[0mvariávelB\u001b[0m\u001b[1;33m)\u001b[0m\u001b[1;33m\u001b[0m\u001b[1;33m\u001b[0m\u001b[0m\n\u001b[0m",
      "\u001b[1;31mNameError\u001b[0m: name 'variávelB' is not defined"
     ]
    }
   ],
   "source": [
    "def função():\n",
    "    variávelB = 12\n",
    "    return variávelB\n",
    "\n",
    "print('Valor da variávelB:', variávelB)"
   ]
  },
  {
   "cell_type": "markdown",
   "metadata": {},
   "source": [
    "## Regra de Escopo\n",
    "\n",
    "+ O que acontece se dentro de uma função usarmos variáveis e/ou funções que não estão definidas dentro dela?\n",
    "+ O escopo define em qual ordem um **nome** será procurado nos **espaços de nomes**. \n",
    "+ A busca pelo **escopo** de qualquer **nome** sempre começa no **espaço de nomes** **local** e se move para fora até atingir o **espaço de nomes** **embutido** do programa.\n",
    "\n",
    "<img src=\"../figures/namespaces.png\" width=\"200px\">\n",
    "\n",
    "### Exemplos\n",
    "\n",
    "+ No exemplo abaixo, a função `interior` está **aninhada** com a função global `exterior`. \n",
    "+ A função `interior` contém uma referência ao **nome** `objetoA`. \n",
    "+ Inicialmente, o interpretador irá buscar o **nome** no **namespace** local da função `interior`. \n",
    "+ Caso não esteja lá, ele procura no **namespace** local da função `exterior`.\n",
    "+ Se isso falhar, ele irá procurar no **namespace** global do programa.\n",
    "+ Finalmente, se não encontrado, ele irá buscar no **namespace** embutido.\n",
    "\n",
    "**IMPORTANTE**\n",
    "\n",
    "+ A mesma sequência de busca ocorre para a função embutida `print`."
   ]
  },
  {
   "cell_type": "code",
   "execution_count": 1,
   "metadata": {},
   "outputs": [
    {
     "name": "stdout",
     "output_type": "stream",
     "text": [
      "Valor do objeto: 4\n"
     ]
    }
   ],
   "source": [
    "# escopo do namespace global.\n",
    "objetoA = 2\n",
    "\n",
    "def exterior():\n",
    "    # escopo do namespace local da função exterior.\n",
    "    \n",
    "    def interior():\n",
    "        # escopo do namespace local da função interior.\n",
    "        a = objetoA*2 # variável objetoA está no namespace global.\n",
    "        print('Valor do objeto:', a) # função print está no namespace embutido.\n",
    "    \n",
    "    # escopo do namespace local da função exterior.\n",
    "    interior()\n",
    "\n",
    "# escopo do namespace global.\n",
    "exterior()"
   ]
  },
  {
   "cell_type": "markdown",
   "metadata": {},
   "source": [
    "Como vimos, o corpo (bloco de código) das funções têm **escopo local**, o que pode **ofuscar** **nomes** dos **escopos global** e **embutido**.\n",
    "\n",
    "<span style=\"color:blue\">**Ofuscar**: impedir a vista de, ocultar, encobrir</span>."
   ]
  },
  {
   "cell_type": "code",
   "execution_count": 9,
   "metadata": {},
   "outputs": [
    {
     "name": "stdout",
     "output_type": "stream",
     "text": [
      "Valor da variável global var: 12\n",
      "Valor da variável global var após chamada da função: 12\n"
     ]
    }
   ],
   "source": [
    "# Variável definida no escopo do namespace global.\n",
    "var = 12\n",
    "\n",
    "# Definição de uma função.\n",
    "def minhaFunção(par):\n",
    "    var = par\n",
    "    return var\n",
    "\n",
    "# Imprime valor da variável global.\n",
    "print('Valor da variável global var:', var)\n",
    "\n",
    "# Chama função.\n",
    "retorno = minhaFunção(33)\n",
    "\n",
    "# Imprime valor da variável global.\n",
    "print('Valor da variável global var após chamada da função:', var)"
   ]
  },
  {
   "cell_type": "markdown",
   "metadata": {},
   "source": [
    "Mas e se quissémos alterar o valor da variável global dentro da função?"
   ]
  },
  {
   "cell_type": "code",
   "execution_count": 10,
   "metadata": {},
   "outputs": [
    {
     "name": "stdout",
     "output_type": "stream",
     "text": [
      "Valor da variável global var: 12\n",
      "Valor da variável global var após chamada da função: 33\n"
     ]
    }
   ],
   "source": [
    "# variável definida no escopo do namespace global.\n",
    "var = 12\n",
    "\n",
    "# Definição de uma função.\n",
    "def minhaFunção(par):\n",
    "    global var # A palavra reservada 'global' impede o ofuscamento da variável global var.\n",
    "    var = par\n",
    "    return var\n",
    "\n",
    "# Imprime valor da variável global.\n",
    "print('Valor da variável global var:', var)\n",
    "\n",
    "# Chama função.\n",
    "retorno = minhaFunção(33)\n",
    "\n",
    "# Imprime valor da variável global.\n",
    "print('Valor da variável global var após chamada da função:', var)"
   ]
  },
  {
   "cell_type": "markdown",
   "metadata": {},
   "source": [
    "## Recursão\n",
    "\n",
    "+ Recursão é um conceito comum a praticamente todas as linguagens de programação.\n",
    "+ Ela significa que uma função chama a si mesma um número indefinido de vezes.\n",
    "+ É um método de resolução de problemas que envolve **quebrar um problema em sub-problemas menores e menores até chegarmos a um problema pequeno o suficiente para que ele possa ser resolvido trivialmente**.\n",
    "\n",
    "### Exemplo\n",
    "\n",
    "Suponha que vocês desejem calcular a soma dos valores de uma lista de números, tais como: \n",
    "\n",
    "```python\n",
    "lista = [1,3,5,7,9]\n",
    "```\n",
    "\n",
    "#### Solução #1 (sem recursão)\n",
    "\n",
    "Uma função que calcula essa soma com um laço de repetição `for` é mostrada abaixo. \n",
    "\n",
    "A função usa uma variável acumuladora `soma` para acumular o total de todos os números da lista, iniciando a variável `soma` com o valor 0."
   ]
  },
  {
   "cell_type": "code",
   "execution_count": 11,
   "metadata": {},
   "outputs": [
    {
     "name": "stdout",
     "output_type": "stream",
     "text": [
      "A soma dos elementos da lista é igual a: 25\n"
     ]
    }
   ],
   "source": [
    "def somarLista(lista):\n",
    "    soma = 0 # variável acumuladora.\n",
    "    for i in lista:\n",
    "        soma = soma + i\n",
    "    return soma\n",
    "\n",
    "lista = [1,3,5,7,9]\n",
    "print('A soma dos elementos da lista é igual a:', somarLista(lista))"
   ]
  },
  {
   "cell_type": "markdown",
   "metadata": {},
   "source": [
    "#### Solução #2 (com recursão)\n",
    "\n",
    "Para resolvermos o problema de forma recursiva, nossa função **DEVE** sempre conter duas características:\n",
    "\n",
    "+ Uma **relação de recorrência**, também conhecida como caso recursivo.\n",
    "+ Uma **condição de término**, ou seja, uma condição que faz com que as chamadas recursivas se encerram.\n",
    "    * Toda função recursiva **DEVE** ter uma condição de encerramento, caso contrário, o código da relação de recorrência fica executando indefinidamente (i.e., **loop infinito**). \n",
    "    * Isso acarreta em uso excessivo de memória ou de poder de processamento (i.e., CPU)."
   ]
  },
  {
   "cell_type": "code",
   "execution_count": 5,
   "metadata": {},
   "outputs": [
    {
     "name": "stdout",
     "output_type": "stream",
     "text": [
      "A soma da lista é igual a: 25\n"
     ]
    }
   ],
   "source": [
    "def somarLista(lista):\n",
    "    if len(lista) != 1: # relação de recorrência.\n",
    "        return lista[0] + somarLista(lista[1:len(lista)])\n",
    "    else: # condição de término.\n",
    "        return lista[0]\n",
    "\n",
    "lista = [1,3,5,7,9]\n",
    "print('A soma da lista é igual a:', somarLista(lista))"
   ]
  },
  {
   "cell_type": "markdown",
   "metadata": {},
   "source": [
    "Para entendermos melhor o que o código acima está fazendo, vejamos a figura abaixo:\n",
    "\n",
    "<img src=\"../figures/fatorial_exemplo1.png\" width=\"700px\">"
   ]
  },
  {
   "cell_type": "markdown",
   "metadata": {},
   "source": [
    "### Tarefas\n",
    "\n",
    "1. <span style=\"color:blue\">**QUIZ - Funções (Parte II)**</span>: respondam ao questionário sobre funções no MS teams, por favor. \n",
    "2. <span style=\"color:blue\">**Laboratório #4**</span>: cliquem em um dos links abaixo para accessar os exercícios do laboratório #4.\n",
    "\n",
    "[![Binder](https://mybinder.org/badge_logo.svg)](https://mybinder.org/v2/gh/zz4fap/python-programming/master?filepath=labs%2FLaboratorio4.ipynb)\n",
    "\n",
    "[![Google Colab](https://badgen.net/badge/Launch/on%20Google%20Colab/blue?icon=terminal)](https://colab.research.google.com/github/zz4fap/python-programming/blob/master/labs/Laboratorio4.ipynb)\n",
    "\n",
    "**IMPORTANTE**: Para acessar o material das aulas e realizar as entregas dos exercícios de laboratório, por favor, leiam o tutorial no seguinte link:\n",
    "[Material-das-Aulas](../docs/Acesso-ao-material-das-aulas-resolucao-e-entrega-dos-laboratorios.pdf)"
   ]
  },
  {
   "cell_type": "markdown",
   "metadata": {},
   "source": [
    "## Avisos\n",
    "\n",
    "* Se atentem aos prazos de entrega das tarefas na aba de **Avaliações** do MS Teams.\n",
    "* Horário de atendimento do Professor: todas as Quintas-feiras das 18:30 às 19:30 e Sextas-feiras das 15:30 às 16:30 (sala do professor no prédio 3).\n",
    "* Horário de atendimento do Monitor (Maycol): todas as Terças-feiras das 18:00 às 19:00 na sala **I-22**."
   ]
  },
  {
   "cell_type": "markdown",
   "metadata": {},
   "source": [
    "<img src=\"../figures/obrigado.png\">"
   ]
  }
 ],
 "metadata": {
  "kernelspec": {
   "display_name": "Python 3",
   "language": "python",
   "name": "python3"
  },
  "language_info": {
   "codemirror_mode": {
    "name": "ipython",
    "version": 3
   },
   "file_extension": ".py",
   "mimetype": "text/x-python",
   "name": "python",
   "nbconvert_exporter": "python",
   "pygments_lexer": "ipython3",
   "version": "3.7.6"
  }
 },
 "nbformat": 4,
 "nbformat_minor": 4
}
