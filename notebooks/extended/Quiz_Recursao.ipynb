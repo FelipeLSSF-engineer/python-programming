{
 "cells": [
  {
   "cell_type": "markdown",
   "metadata": {},
   "source": [
    "#### 7) Quantas linhas o programa a seguir imprimirá?  (Copie, cole e execute esse código em um notebook do Jupyter para entender seu funcionamento)"
   ]
  },
  {
   "cell_type": "code",
   "execution_count": 3,
   "metadata": {},
   "outputs": [
    {
     "name": "stdout",
     "output_type": "stream",
     "text": [
      "n = 32\n",
      "Still printing\n",
      "\n",
      "n = 16\n",
      "Still printing\n",
      "\n",
      "n = 8\n",
      "Still printing\n",
      "\n",
      "n = 4\n",
      "Still printing\n",
      "\n",
      "n = 2\n",
      "Still printing\n",
      "\n",
      "n = 1\n"
     ]
    }
   ],
   "source": [
    "def f(n):\n",
    "    print('n = %d' % (n))\n",
    "    if n > 1:\n",
    "        print('Still printing\\n')\n",
    "        f(n/2)\n",
    "\n",
    "f(32)"
   ]
  },
  {
   "cell_type": "markdown",
   "metadata": {},
   "source": [
    "#### 8) Qual será a saída do seguinte código? (Copie, cole e execute esse código em um notebook do Jupyter para entender seu funcionamento)"
   ]
  },
  {
   "cell_type": "code",
   "execution_count": 1,
   "metadata": {
    "scrolled": false
   },
   "outputs": [
    {
     "name": "stdout",
     "output_type": "stream",
     "text": [
      "Recursion: i = 4, j = 7\n",
      "Recursion: i = 3, j = 11\n",
      "Recursion: i = 2, j = 14\n",
      "Recursion: i = 1, j = 16\n",
      "**Final**: i = 0, j = 17\n",
      "\n",
      "Valor final: 17\n"
     ]
    }
   ],
   "source": [
    "def test(i, j):\n",
    "    if(i == 0):\n",
    "        print('**Final**: i = %d, j = %d' % (i, j))\n",
    "        return j\n",
    "    else:\n",
    "        print('Recursion: i = %d, j = %d' % (i, j))\n",
    "        return test(i-1, i+j)\n",
    "\n",
    "print('\\nValor final:', test(4,7))"
   ]
  },
  {
   "cell_type": "markdown",
   "metadata": {},
   "source": [
    "#### 9) Qual será a saída do seguinte código? (Copie, cole e execute esse código em um notebook do Jupyter para entender seu funcionamento)"
   ]
  },
  {
   "cell_type": "code",
   "execution_count": 31,
   "metadata": {},
   "outputs": [
    {
     "name": "stdout",
     "output_type": "stream",
     "text": [
      "n =  45\n",
      "n =  56\n",
      "n =  67\n",
      "n =  78\n",
      "n =  89\n",
      "n =  100\n",
      "n =  111\n",
      "final ret: 106\n",
      "ret1: 106\n",
      "n =  106\n",
      "final ret: 101\n",
      "ret2: 101\n",
      "ret1: 101\n",
      "n =  101\n",
      "final ret: 96\n",
      "ret2: 96\n",
      "ret1: 96\n",
      "n =  96\n",
      "n =  107\n",
      "final ret: 102\n",
      "ret1: 102\n",
      "n =  102\n",
      "final ret: 97\n",
      "ret2: 97\n",
      "ret2: 97\n",
      "ret1: 97\n",
      "n =  97\n",
      "n =  108\n",
      "final ret: 103\n",
      "ret1: 103\n",
      "n =  103\n",
      "final ret: 98\n",
      "ret2: 98\n",
      "ret2: 98\n",
      "ret1: 98\n",
      "n =  98\n",
      "n =  109\n",
      "final ret: 104\n",
      "ret1: 104\n",
      "n =  104\n",
      "final ret: 99\n",
      "ret2: 99\n",
      "ret2: 99\n",
      "ret1: 99\n",
      "n =  99\n",
      "n =  110\n",
      "final ret: 105\n",
      "ret1: 105\n",
      "n =  105\n",
      "final ret: 100\n",
      "ret2: 100\n",
      "ret2: 100\n",
      "100\n"
     ]
    }
   ],
   "source": [
    "def fun(n):\n",
    "    \n",
    "    print('n = % d' % (n))\n",
    "    \n",
    "    if(n > 100):\n",
    "        ret3 = n - 5\n",
    "        print('final ret:', ret3)\n",
    "        return ret3\n",
    "    \n",
    "    ret1 = fun(n + 11)\n",
    "    print('ret1: %d' % (ret1))\n",
    "    ret2 = fun(ret1)\n",
    "    print('ret2: %d' % (ret2))\n",
    "    return ret2\n",
    " \n",
    "print(fun(45))"
   ]
  },
  {
   "cell_type": "markdown",
   "metadata": {},
   "source": [
    "\n",
    "\n",
    "<img src=\"../figures/fatorial_quiz9.png\" width=\"1000\" height=\"1000\">"
   ]
  }
 ],
 "metadata": {
  "kernelspec": {
   "display_name": "Python 3",
   "language": "python",
   "name": "python3"
  },
  "language_info": {
   "codemirror_mode": {
    "name": "ipython",
    "version": 3
   },
   "file_extension": ".py",
   "mimetype": "text/x-python",
   "name": "python",
   "nbconvert_exporter": "python",
   "pygments_lexer": "ipython3",
   "version": "3.7.7"
  }
 },
 "nbformat": 4,
 "nbformat_minor": 4
}
