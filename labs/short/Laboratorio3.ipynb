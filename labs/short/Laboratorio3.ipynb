{
 "cells": [
  {
   "cell_type": "markdown",
   "metadata": {},
   "source": [
    "# Laboratório #3\n",
    "\n",
    "### ATENCÃO\n",
    "\n",
    "1. Para cada um dos exercícios a seguir, faça o seguinte:\n",
    "    * Adicione comentários ao seu código. Os comentários servem para explicar o código, ajudando você a lembrar do que se trata aquele trecho de código, como também outras pessoas a entenderem o que foi feito.\n",
    "    * Caso o exercício involva a implementação de uma função:\n",
    "        + Coloque um comentário dizendo o que a função faz, use **docstrings**.\n",
    "        + Escolha nomes explicativos para suas funções e parâmetros.\n",
    "    \n",
    "2. Quando você terminar os exercícios do laboratório, vá ao menu do Jupyter ou Colab e selecione a opção para fazer download do notebook.\n",
    "    * Os notebooks tem extensão .ipynb. \n",
    "    * Este deve ser o arquivo que você irá entregar.\n",
    "    * No Jupyter vá até a opção **File** -> **Download as** -> **Notebook (.ipynb)**.\n",
    "    * No Colab vá até a opção **File** -> **Download .ipynb**.\n",
    "3. Após o download do notebook, vá até a aba de tarefas do MS Teams, localize a tarefa referente a este laboratório e faça o upload do seu notebook. Veja que há uma opção de anexar arquivos à tarefa."
   ]
  },
  {
   "cell_type": "markdown",
   "metadata": {},
   "source": [
    "**Nome**:\n",
    "\n",
    "**Matrícula**:"
   ]
  },
  {
   "cell_type": "markdown",
   "metadata": {},
   "source": [
    "## Exercícios"
   ]
  },
  {
   "cell_type": "markdown",
   "metadata": {},
   "source": [
    "#### 1) Exercício sobre controle de fluxo, operadores lógicos e de comparação.\n",
    "\n",
    "Implemente uma função chamada `calcularMédia` que receba duas notas parciais, `nota1` e `nota2`, recebidas por um aluno ao longo do semestre. A atribuição de conceitos obedece à tabela abaixo: \n",
    "\n",
    "| Média de Aproveitamento | Conceito |\n",
    "|:-----------------------:|:--------:|\n",
    "|     Entre 9.0 e 10.0    |     A    |\n",
    "|     Entre 7.5 e 9.0     |     B    |\n",
    "|     Entre 6.0 e 7.5     |     C    |\n",
    "|     Entre 4.0 e 6.0     |     D    |\n",
    "|     Entre 4.0 e zero    |     E    |\n",
    "\n",
    "A função deve calcular a média alcançada pelo aluno e imprimir na tela:\n",
    "+ as 2 notas recebidas pelo aluno\n",
    "+ a média das 2 notas\n",
    "+ o conceito correspondente\n",
    "+ e a mensagem “APROVADO” se o conceito for A, B ou C ou “REPROVADO” se o conceito for D ou E.\n",
    "\n",
    "Teste a função com os seguintes exemplos:\n",
    "\n",
    "```python\n",
    "calcularMédia(1, 1)\n",
    "calcularMédia(5, 5)\n",
    "calcularMédia(6, 6)\n",
    "calcularMédia(8, 8)\n",
    "calcularMédia(10, 10)\n",
    "```"
   ]
  },
  {
   "cell_type": "code",
   "execution_count": null,
   "metadata": {},
   "outputs": [],
   "source": [
    "# Escreva o código do exercício aqui."
   ]
  },
  {
   "cell_type": "markdown",
   "metadata": {},
   "source": [
    "#### 2) Exercício sobre controle de fluxo e operadores de associação.\n",
    "\n",
    "Implemente uma função chamada `éVogal` que receba uma letra como argumento de entrada e que verifique se essa letra é uma vogal ou consoante. Use os operadores de associação para verificar se a letra digitada está presente em uma lista de vogais.\n",
    "\n",
    "Teste a função com os seguintes exemplos:\n",
    "\n",
    "```python\n",
    "éVogal('v')\n",
    "éVogal('A')\n",
    "```"
   ]
  },
  {
   "cell_type": "code",
   "execution_count": 1,
   "metadata": {},
   "outputs": [],
   "source": [
    "# Escreva o código do exercício aqui."
   ]
  },
  {
   "cell_type": "markdown",
   "metadata": {},
   "source": [
    "#### 3)  Exercício sobre laços de repetição.\n",
    "\n",
    "Supondo que a população de um país A seja de 80000 habitantes com uma taxa anual de crescimento de 3% e que a população de um país B seja de 200000 habitantes com uma taxa de crescimento de 1.5%. \n",
    "\n",
    "1. Escreva um programa que calcule e imprima o número de anos necessários para que a população do país A ultrapasse ou iguale a população do país B, mantidas as taxas de crescimento. \n",
    "2. Quantos anos são necessário para que a população do pais A ultrapasse a população do país B? \n",
    "3. Qual a população de ambos países após esse número de anos?"
   ]
  },
  {
   "cell_type": "code",
   "execution_count": 2,
   "metadata": {},
   "outputs": [],
   "source": [
    "# Escreva o código do exercício aqui."
   ]
  },
  {
   "cell_type": "markdown",
   "metadata": {},
   "source": [
    "#### 4)  Exercício sobre laços de repetição.\n",
    "\n",
    "Implemente uma função chamada `exponenciacão` que receba 2 argumentos de entrada, `base` e `expoente`, calcule e imprima na tela o primeiro número elevado ao segundo número, ou seja, $base^{expoente}$. \n",
    "\n",
    "**OBS**.: Não utilize a função de potênciação da linguagem Python, utilize apenas laços de repetição.\n",
    "\n",
    "Teste a função com os seguintes exemplos:\n",
    "\n",
    "```python\n",
    "print(exponenciacao(2, 0))\n",
    "print(exponenciacao(2, 1))\n",
    "print(exponenciacao(2, 2))\n",
    "print(exponenciacao(2, 3))\n",
    "print(exponenciacao(2, 4))\n",
    "```"
   ]
  },
  {
   "cell_type": "code",
   "execution_count": 3,
   "metadata": {},
   "outputs": [],
   "source": [
    "# Escreva o código do exercício aqui."
   ]
  },
  {
   "cell_type": "markdown",
   "metadata": {},
   "source": [
    "### Desafio (exercício para casa)"
   ]
  },
  {
   "cell_type": "markdown",
   "metadata": {},
   "source": [
    "#### 5) A série de Fibonacci é gerada através da seguinte equação $F_n = F_{n-1} + F_{n-2}$, onde os 2 primeiros termos são iguais a $F_{0} = 0$ e $F_{1} = 1$, respectivamente. Todos os outros termos são obtidos adicionando-se os dois termos anteriores. Os primeiros valores da série são: 0,1, 1, 2, 3, 5, 8, 13, 21, 34, 55, 89, 144, 233, 377, 610, 987, 1597, 2584, e assim por diante. Desta forma, escreva um programa que gere e imprima na tela a série de Fibonacci até que o valor gerado seja maior que 100000."
   ]
  },
  {
   "cell_type": "code",
   "execution_count": 4,
   "metadata": {},
   "outputs": [],
   "source": [
    "# Escreva o código do exercício aqui."
   ]
  }
 ],
 "metadata": {
  "kernelspec": {
   "display_name": "Python 3",
   "language": "python",
   "name": "python3"
  },
  "language_info": {
   "codemirror_mode": {
    "name": "ipython",
    "version": 3
   },
   "file_extension": ".py",
   "mimetype": "text/x-python",
   "name": "python",
   "nbconvert_exporter": "python",
   "pygments_lexer": "ipython3",
   "version": "3.7.7"
  }
 },
 "nbformat": 4,
 "nbformat_minor": 4
}
