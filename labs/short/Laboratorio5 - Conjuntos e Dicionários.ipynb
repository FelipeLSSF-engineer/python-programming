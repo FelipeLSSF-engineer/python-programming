{
 "cells": [
  {
   "cell_type": "markdown",
   "metadata": {},
   "source": [
    "# Laboratório #5 - Conjuntos e Dicionários\n",
    "\n",
    "### Instruções\n",
    "\n",
    "1. Para cada um dos exercícios a seguir, faça o seguinte:\n",
    "    * Adicione comentários ao seu código. Os comentários servem para explicar o código, ajudando você a lembrar do que se trata aquele trecho de código, como também outras pessoas a entenderem o que foi feito.\n",
    "    * Caso o exercício involva a implementação de uma função:\n",
    "        + Coloque um comentário dizendo o que a função faz, use **docstrings**.\n",
    "        + Escolha nomes explicativos para suas funções e parâmetros.\n",
    "    \n",
    "2. Quando você terminar os exercícios do laboratório, vá ao menu do Jupyter ou Colab e selecione a opção para fazer download do notebook.\n",
    "    * Os notebooks tem extensão .ipynb. \n",
    "    * Este deve ser o arquivo que você irá entregar.\n",
    "    * No Jupyter vá até a opção **File** -> **Download as** -> **Notebook (.ipynb)**.\n",
    "    * No Colab vá até a opção **File** -> **Download .ipynb**.\n",
    "3. Após o download do notebook, vá até a aba de tarefas do MS Teams, localize a tarefa referente a este laboratório e faça o upload do seu notebook. Veja que há uma opção de anexar arquivos à tarefa."
   ]
  },
  {
   "cell_type": "markdown",
   "metadata": {},
   "source": [
    "**Nome**:\n",
    "\n",
    "**Matrícula**:"
   ]
  },
  {
   "cell_type": "markdown",
   "metadata": {},
   "source": [
    "## Exercícios"
   ]
  },
  {
   "cell_type": "markdown",
   "metadata": {},
   "source": [
    "### Conjuntos"
   ]
  },
  {
   "cell_type": "markdown",
   "metadata": {},
   "source": [
    "#### 1)  Escreva um programa que utilize os 2 conjuntos a seguir e imprima a saída abaixo. Neste exercício, você precisa descobrir qual operação (e.g., união, interseção, diferença, etc.) resultará na saída esperada.\n",
    "\n",
    "Os conjuntos são:\n",
    "\n",
    "```python\n",
    "s1 = set(['Python', 'Free', 'Exercises', 'Tutorials'])\n",
    "s2 = set(['Tutorials', 'Free', 'Library'])\n",
    "```\n",
    "\n",
    "Saída esperada:\n",
    "\n",
    "`A saída do programa é: {'Python', 'Exercises'}`"
   ]
  },
  {
   "cell_type": "code",
   "execution_count": 1,
   "metadata": {},
   "outputs": [],
   "source": [
    "# Implemente o código do exercício aqui."
   ]
  },
  {
   "cell_type": "markdown",
   "metadata": {},
   "source": [
    "#### 2)  Escreva um programa que utilize os 2 conjuntos a seguir e imprima a saída abaixo. Neste exercício, você precisa descobrir qual operação (e.g., união, interseção, diferença, etc.) resultará na saída esperada.\n",
    "\n",
    "Os conjuntos são:\n",
    "\n",
    "```python\n",
    "s1 = set(['Python', 'Free', 'Exercises', 'Tutorials'])\n",
    "s2 = set(['Tutorials', 'Sets', 'Library', 'List'])\n",
    "```\n",
    "\n",
    "Saída esperada:\n",
    "\n",
    "`A saída do programa é: {'Tutorials'}`"
   ]
  },
  {
   "cell_type": "code",
   "execution_count": 2,
   "metadata": {},
   "outputs": [],
   "source": [
    "# Implemente o código do exercício aqui."
   ]
  },
  {
   "cell_type": "markdown",
   "metadata": {},
   "source": [
    "#### 3)  Escreva um programa que utilize os 2 conjuntos a seguir e imprima a saída abaixo. Neste exercício, você precisa descobrir qual operação (e.g., união, interseção, diferença, etc.) resultará na saída esperada.\n",
    "\n",
    "Os conjuntos são:\n",
    "\n",
    "```python\n",
    "s1 = set(['Python', 'Free', 'Exercises', 'Tutorials'])\n",
    "s2 = set(['Tutorials', 'Free', 'Library'])\n",
    "```\n",
    "\n",
    "Saída esperada:\n",
    "\n",
    "`A saída do programa é: {'Free', 'Library', 'Python', 'Exercises', 'Tutorials'}`"
   ]
  },
  {
   "cell_type": "code",
   "execution_count": 3,
   "metadata": {},
   "outputs": [],
   "source": [
    "# Implemente o código do exercício aqui."
   ]
  },
  {
   "cell_type": "markdown",
   "metadata": {},
   "source": [
    "### Dicionários"
   ]
  },
  {
   "cell_type": "markdown",
   "metadata": {},
   "source": [
    "#### 4)  A função `adicionar_fruta`, definida abaixo, é utilizada para adicionar um elemento a um dicionário que mantém uma lista de frutas com suas respectivas quantidades. Preencha o corpo da função abaixo de tal forma que todos os testes passem."
   ]
  },
  {
   "cell_type": "code",
   "execution_count": 4,
   "metadata": {},
   "outputs": [],
   "source": [
    "def adicionar_fruta(inventário, fruta, quantidade=0):\n",
    "    '''Função que adiciona frutas e sua quantidade a um inventário de frutas'''\n",
    "    # Implemente aqui o código que adiciona uma fruta ao dicionário 'inventário'"
   ]
  },
  {
   "cell_type": "markdown",
   "metadata": {},
   "source": [
    "Teste a função com o seguinte trecho de código."
   ]
  },
  {
   "cell_type": "code",
   "execution_count": 5,
   "metadata": {},
   "outputs": [
    {
     "name": "stdout",
     "output_type": "stream",
     "text": [
      "Erro.........\n"
     ]
    },
    {
     "ename": "KeyError",
     "evalue": "'morangos'",
     "output_type": "error",
     "traceback": [
      "\u001b[1;31m---------------------------------------------------------------------------\u001b[0m",
      "\u001b[1;31mKeyError\u001b[0m                                  Traceback (most recent call last)",
      "\u001b[1;32m<ipython-input-5-da95b8017d70>\u001b[0m in \u001b[0;36m<module>\u001b[1;34m\u001b[0m\n\u001b[0;32m     12\u001b[0m \u001b[1;33m\u001b[0m\u001b[0m\n\u001b[0;32m     13\u001b[0m \u001b[1;31m# Teste #2.\u001b[0m\u001b[1;33m\u001b[0m\u001b[1;33m\u001b[0m\u001b[1;33m\u001b[0m\u001b[0m\n\u001b[1;32m---> 14\u001b[1;33m \u001b[1;32mif\u001b[0m \u001b[0mnovo_inventário\u001b[0m\u001b[1;33m[\u001b[0m\u001b[1;34m'morangos'\u001b[0m\u001b[1;33m]\u001b[0m \u001b[1;33m==\u001b[0m \u001b[1;36m10\u001b[0m\u001b[1;33m:\u001b[0m\u001b[1;33m\u001b[0m\u001b[1;33m\u001b[0m\u001b[0m\n\u001b[0m\u001b[0;32m     15\u001b[0m     \u001b[0mprint\u001b[0m\u001b[1;33m(\u001b[0m\u001b[1;34m'Teste foi bem sucedido!'\u001b[0m\u001b[1;33m)\u001b[0m\u001b[1;33m\u001b[0m\u001b[1;33m\u001b[0m\u001b[0m\n\u001b[0;32m     16\u001b[0m \u001b[1;32melse\u001b[0m\u001b[1;33m:\u001b[0m\u001b[1;33m\u001b[0m\u001b[1;33m\u001b[0m\u001b[0m\n",
      "\u001b[1;31mKeyError\u001b[0m: 'morangos'"
     ]
    }
   ],
   "source": [
    "# Cria um dicionário vazio.\n",
    "novo_inventário = {}\n",
    "\n",
    "# Adiciona um novo item ao dicionário.\n",
    "adicionar_fruta(novo_inventário, 'morangos', 10)\n",
    "\n",
    "# Teste #1.\n",
    "if 'morangos' in novo_inventário:\n",
    "    print('Teste foi bem sucedido!')\n",
    "else:\n",
    "    print('Erro.........')\n",
    "\n",
    "# Teste #2.\n",
    "if novo_inventário['morangos'] == 10:\n",
    "    print('Teste foi bem sucedido!')\n",
    "else:\n",
    "    print('Erro.........')\n",
    "\n",
    "# Atualiza a quantidade de frutas de um item do inventório.\n",
    "adicionar_fruta(novo_inventário, 'morangos', 25)\n",
    "\n",
    "# Teste #2.\n",
    "if novo_inventário['morangos'] == 10:\n",
    "    print('Erro.........')\n",
    "else:\n",
    "    print('Teste foi bem sucedido!')"
   ]
  },
  {
   "cell_type": "markdown",
   "metadata": {},
   "source": [
    "#### 5) A seguinte tabela contém a tradução de algumas palavras em inglês para a língua dos piratas, o piratês.\n",
    "\n",
    "|   Inglês   |    Piratês    |\n",
    "|:----------:|:-------------:|\n",
    "|     sir    |     matey     |\n",
    "|    hotel   |  fleabag inn  |\n",
    "|   student  |    swabbie    |\n",
    "|     boy    |     matey     |\n",
    "|    madam   |  proud beauty |\n",
    "|  professor | foul blaggart |\n",
    "| restaurant |     galley    |\n",
    "|    your    |      yer      |\n",
    "|   excuse   |      arr      |\n",
    "|  students  |    swabbies   |\n",
    "|     are    |       be      |\n",
    "|   lawyer   | foul blaggart |\n",
    "|     the    |      th’      |\n",
    "|  restroom  |      head     |\n",
    "|     my     |       me      |\n",
    "|    hello   |     avast     |\n",
    "|     is     |       be      |\n",
    "|     man    |     matey     |\n",
    "\n",
    "Implemente uma função chamada `traduzirPiratês` que receba uma frase em inglês e retorne uma lista com a tradução da frase para a língua dos piratas. Caso uma palavra não exista no dicionário, simplesmente a adicione à frase (ou seja, a lista) em piratês.\n",
    "\n",
    "**DICA**:\n",
    "1. Você vai precisar usar o método `split` da classe string para dividir a frase em inglês em várias palavras e assim conseguir verificar a existência de cada uma delas no dicionário."
   ]
  },
  {
   "cell_type": "code",
   "execution_count": null,
   "metadata": {},
   "outputs": [],
   "source": [
    "# Implemente o código do exercício aqui."
   ]
  },
  {
   "cell_type": "markdown",
   "metadata": {},
   "source": [
    "Teste a função com o seguinte trecho de código."
   ]
  },
  {
   "cell_type": "code",
   "execution_count": null,
   "metadata": {},
   "outputs": [],
   "source": [
    "dicionário = {'sir':'matey','hotel':'fleabag inn','student':'swabbie','boy':'matey','madam':'proud beauty','professor':'foul blaggart','restaurant':'galley','your':'yer','excuse':'arr','students':'swabbies','are':'be','lawyer':'foul blaggart','the':'th’','restroom':'head','my':'me','hello':'avast','is':'be','man':'matey'}\n",
    "\n",
    "texto1 = 'student is man'\n",
    "frase_pirata = traduzirPiratês(dicionário, texto1)\n",
    "frase = \" \".join(frase_pirata)\n",
    "print('A frase em piratês é:', frase, ' - tradução correta?', frase=='swabbie be matey')\n",
    "\n",
    "texto2 = 'hello there students'\n",
    "frase_pirata = traduzirPiratês(dicionário, texto2)\n",
    "frase = \" \".join(frase_pirata)\n",
    "print('A frase em piratês é:', frase, ' - tradução correta?', frase=='avast there swabbies')\n",
    "\n",
    "texto3 = 'the student is a girl'\n",
    "frase_pirata = traduzirPiratês(dicionário, texto3)\n",
    "frase = \" \".join(frase_pirata)\n",
    "print('A frase em piratês é:', frase, ' - tradução correta?', frase=='th’ swabbie be a girl')"
   ]
  }
 ],
 "metadata": {
  "kernelspec": {
   "display_name": "Python 3",
   "language": "python",
   "name": "python3"
  },
  "language_info": {
   "codemirror_mode": {
    "name": "ipython",
    "version": 3
   },
   "file_extension": ".py",
   "mimetype": "text/x-python",
   "name": "python",
   "nbconvert_exporter": "python",
   "pygments_lexer": "ipython3",
   "version": "3.7.7"
  }
 },
 "nbformat": 4,
 "nbformat_minor": 4
}
