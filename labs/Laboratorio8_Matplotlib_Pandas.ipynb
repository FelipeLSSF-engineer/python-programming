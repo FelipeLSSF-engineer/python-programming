{
 "cells": [
  {
   "cell_type": "markdown",
   "metadata": {},
   "source": [
    "# Laboratório #8 - Matplotlib e Pandas\n",
    "\n",
    "### Instruções\n",
    "\n",
    "1. Para cada um dos exercícios a seguir, faça o seguinte:\n",
    "    * Adicione comentários ao seu código. Os comentários servem para explicar o código, ajudando você a lembrar do que se trata aquele trecho de código, como também outras pessoas a entenderem o que foi feito.\n",
    "    * Caso o exercício involva a implementação de uma função:\n",
    "        + Coloque um comentário dizendo o que a função faz, use **docstrings**.\n",
    "        + Escolha nomes explicativos para suas funções e parâmetros.\n",
    "    \n",
    "2. Quando você terminar os exercícios do laboratório, vá ao menu do Jupyter ou Colab e selecione a opção para fazer download do notebook.\n",
    "    * Os notebooks tem extensão .ipynb. \n",
    "    * Este deve ser o arquivo que você irá entregar.\n",
    "    * No Jupyter vá até a opção **File** -> **Download as** -> **Notebook (.ipynb)**.\n",
    "    * No Colab vá até a opção **File** -> **Download .ipynb**.\n",
    "3. Após o download do notebook, vá até a aba de tarefas do MS Teams, localize a tarefa referente a este laboratório e faça o upload do seu notebook. Veja que há uma opção de anexar arquivos à tarefa."
   ]
  },
  {
   "cell_type": "markdown",
   "metadata": {},
   "source": [
    "**Nome**:\n",
    "\n",
    "**Matrícula**:"
   ]
  },
  {
   "cell_type": "markdown",
   "metadata": {},
   "source": [
    "## Exercícios"
   ]
  },
  {
   "cell_type": "markdown",
   "metadata": {},
   "source": [
    "#### 1)  Crie uma array com valores no intervalo `[0, 5)` com passos de `0.2`, e plote as seguintes funções\n",
    "\n",
    "1. $f(x) = x$, use o seguinte formato de linha para plotar esta função: **traços vermelhos**.\n",
    "2. $g(x) = x^2$, use o seguinte formato de linha para plotar esta função: **quadrados azuis**.\n",
    "3. $h(x) = x^3$, use o seguinte formato de linha para plotar esta função: **triângulos verdes**.\n",
    "\n",
    "Crie um gráfico com todas as linhas em um único gráfico. Coloque um título e os nomes dos eixos na figura, habilite o grid e inclua uma legenda para cada uma das funções e salve a figure em arquivo.\n",
    "\n",
    "**DICAS**\n",
    "\n",
    "+ Use a função `arange` da biblioteca NumPy para gerar os valores no intervalo definido."
   ]
  },
  {
   "cell_type": "code",
   "execution_count": 1,
   "metadata": {},
   "outputs": [],
   "source": [
    "# Implemente aqui o código do exercício."
   ]
  },
  {
   "cell_type": "markdown",
   "metadata": {},
   "source": [
    "#### 2)  Plote um gráfico exatamente como o mostrado na figura abaixo. Use 100 pontos e o tamanho da figura de `5 x 4`. Salve seu gráfico em arquivo.\n",
    "\n",
    "<img src=\"../figures/lab8_ex2.png\">\n",
    "\n",
    "**DICAS**\n",
    "+ Use a função `linspace` da biblioteca NumPy para gerar os valores no intervalo mostrado.\n",
    "+ O tamanho da figura é configurado com o parâmetro `figsize` sendo passado para a função `figure` da biblioteca Matplotlib.\n",
    "+ Use indexação com filtragem condicional para seprar os pontos em dois intervalos distintos e conseguir plotá-los com cores diferentes."
   ]
  },
  {
   "cell_type": "code",
   "execution_count": 2,
   "metadata": {},
   "outputs": [],
   "source": [
    "# Implemente aqui o código do exercício."
   ]
  },
  {
   "cell_type": "markdown",
   "metadata": {},
   "source": [
    "#### 3) Neste exercício, você irá plotar dois histogramas de um vetor com 100000 valores retirados de uma distribuição uniforme. Usando subplots, plote um histograma não-normalizado e outro normalizado. \n",
    "\n",
    "**DICAS**\n",
    "+ Use a função `random.rand` da biblioteca NumPy para gerar os valores aleatórios.\n",
    "+ Use a função `subplot` da biblioteca Matplotlib para criar as subfiguras.\n",
    "+ Use um número de bins da função `hist` igual a 100."
   ]
  },
  {
   "cell_type": "code",
   "execution_count": 3,
   "metadata": {},
   "outputs": [],
   "source": [
    "# Implemente aqui o código do exercício."
   ]
  },
  {
   "cell_type": "markdown",
   "metadata": {},
   "source": [
    "#### 4) Neste exercício, você deve encontrar, usando apenas métodos da classe `DataFrame`, a empresa com o carro mais caro que consta no arquivo `automobile_data.csv`. \n",
    "\n",
    "**DICAS**\n",
    "+ Para ler o arquivo, use a função `read_csv` da biblioteca Pandas.\n",
    "+ Para criar a sub-tabela e encontrar a empresa com carro mais caro, use as colunas `company`  e `price`."
   ]
  },
  {
   "cell_type": "code",
   "execution_count": 4,
   "metadata": {},
   "outputs": [],
   "source": [
    "# Implemente aqui o código do exercício."
   ]
  },
  {
   "cell_type": "markdown",
   "metadata": {},
   "source": [
    "#### 5) Neste exercício, você deve encontrar, usando apenas métodos da classe `DataFrame`, encontre os valores máximo, mínimo e médio de cavalos de força (`horsepower`) dos carros que constam no arquivo `automobile_data.csv`. \n",
    "\n",
    "**DICAS**\n",
    "+ Para ler o arquivo, use a função `read_csv` da biblioteca Pandas.\n",
    "+ Use o método `describe` da classe DataFrame.\n",
    "+ Você deve verificar os valores referentes a coluna `horsepower`."
   ]
  },
  {
   "cell_type": "code",
   "execution_count": 5,
   "metadata": {},
   "outputs": [],
   "source": [
    "# Implemente aqui o código do exercício."
   ]
  }
 ],
 "metadata": {
  "kernelspec": {
   "display_name": "Python 3",
   "language": "python",
   "name": "python3"
  },
  "language_info": {
   "codemirror_mode": {
    "name": "ipython",
    "version": 3
   },
   "file_extension": ".py",
   "mimetype": "text/x-python",
   "name": "python",
   "nbconvert_exporter": "python",
   "pygments_lexer": "ipython3",
   "version": "3.7.7"
  }
 },
 "nbformat": 4,
 "nbformat_minor": 4
}
