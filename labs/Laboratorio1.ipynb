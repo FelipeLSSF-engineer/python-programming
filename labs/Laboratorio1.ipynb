{
 "cells": [
  {
   "cell_type": "markdown",
   "metadata": {},
   "source": [
    "# Laboratório #1\n",
    "\n",
    "### Instruções\n",
    "\n",
    "1. Para cada um dos exercícios a seguir, faça o seguinte:\n",
    "    * Sempre que possível, adicione comentários ao seu código. Os comentários servem para documentar o código.\n",
    "    * Use **docstrings** explicando sucintamente o que cada função implementada faz.\n",
    "        + **docstrings** são os comentários de múltiplas linhas que aparecem **logo após** o cabeçalho da função.\n",
    "    * Escolha nomes explicativos para suas funções e variáveis.\n",
    "2. Quando você terminar os exercícios do laboratório, vá ao menu do Jupyter ou Colab e selecione a opção para fazer download do notebook.\n",
    "    * Os notebooks tem extensão .ipynb. \n",
    "    * Este deve ser o arquivo que você irá entregar.\n",
    "    * No Jupyter vá até a opção **File** -> **Download as** -> **Notebook (.ipynb)**.\n",
    "    * No Colab vá até a opção **File** -> **Download .ipynb**.\n",
    "3. Após o download do notebook, vá até a aba de tarefas do MS Teams, localize a tarefa referente a este laboratório e faça o upload do seu notebook. Veja que há uma opção para anexar arquivos à tarefa."
   ]
  },
  {
   "cell_type": "markdown",
   "metadata": {},
   "source": [
    "**Nome**:\n",
    "\n",
    "**Matrícula**:"
   ]
  },
  {
   "cell_type": "markdown",
   "metadata": {},
   "source": [
    "## Exercícios"
   ]
  },
  {
   "cell_type": "markdown",
   "metadata": {},
   "source": [
    "#### 1)  Implemente 4 funções diferentes que recebam dois valores, x e y, e retornem o resultado das operações abaixo. Adicione uma docstring a cada uma das funções.\n",
    "\n",
    "1. **adição**: \n",
    "\n",
    "    * Exemplo: 2 + 3 = 5\n",
    "    * Trecho de código para teste:\n",
    "```python\n",
    "print('O resultado da adição é:', adição(2, 3))\n",
    "```\n",
    "\n",
    "2. **subtração**: \n",
    "\n",
    "    * Exemplo: 7 – 4 = 3\n",
    "    * Trecho de código para teste:\n",
    "```python\n",
    "print('O resultado da subtração é:', subtração(7, 4))\n",
    "```\n",
    "\n",
    "3. **divisão**: \n",
    "\n",
    "    * Exemplo: 8 / 2 = 4\n",
    "    * Trecho de código para teste:    \n",
    "```python\n",
    "print('O resultado da divisão é:', divisão(8, 2))\n",
    "```\n",
    "\n",
    "4. **multiplicação**: \n",
    "\n",
    "    * Exemplo: 3 * 5 = 15\n",
    "    * Trecho de código para teste:    \n",
    "```python\n",
    "print('O resultado da multiplicação é:', multiplicação(3, 5))\n",
    "```\n",
    "\n",
    "**Operadores artiméticos**\n",
    "\n",
    "Abaixo segue a lista de operadores aritméticos usados em Python.\n",
    "\n",
    "| Operador |       Nome      |  Exemplo | Resultado |\n",
    "|:--------:|:---------------:|:--------:|:---------:|\n",
    "|     +    |      Adição     |   a = 1 + 1  |     2     |\n",
    "|     -    |    Subtração    |   a = 2 - 1  |     1     |\n",
    "|     *    |  Multiplicação  |   a = 2 * 2  |     4     |\n",
    "|     /    |     Divisão     |  a = 100 / 4 |    25.0   |\n",
    "|     %    |      Módulo     |   a = 5 % 3  |     2     |\n",
    "|    **    |  Exponenciação  |  a = 2 ** 3  |     8     |\n",
    "|    //    | Divisão inteira | a = 100 // 4 |     25    |\n",
    "\n",
    "**OBS.: Não se esqueça de depois de implementar as funções, invocá-las com alguns valores de teste como mostrado acima.**\n",
    "\n",
    "#### Função de adição"
   ]
  },
  {
   "cell_type": "code",
   "execution_count": 2,
   "metadata": {},
   "outputs": [],
   "source": [
    "# Defina aqui o código da função 'adição' e em seguida \n",
    "# a invoque com alguns valores de teste."
   ]
  },
  {
   "cell_type": "markdown",
   "metadata": {},
   "source": [
    "#### Função de subtração"
   ]
  },
  {
   "cell_type": "code",
   "execution_count": 3,
   "metadata": {},
   "outputs": [],
   "source": [
    "# Defina aqui o código da função 'subtração' e em seguida \n",
    "# a invoque com alguns valores de teste."
   ]
  },
  {
   "cell_type": "markdown",
   "metadata": {},
   "source": [
    "#### Função de divisão"
   ]
  },
  {
   "cell_type": "code",
   "execution_count": 4,
   "metadata": {},
   "outputs": [],
   "source": [
    "# Defina aqui o código da função 'divisão' e em seguida \n",
    "# a invoque com alguns valores de teste."
   ]
  },
  {
   "cell_type": "markdown",
   "metadata": {},
   "source": [
    "#### Função de multiplicação"
   ]
  },
  {
   "cell_type": "code",
   "execution_count": 5,
   "metadata": {},
   "outputs": [],
   "source": [
    "# Defina aqui o código da função 'multiplicação' e em seguida \n",
    "# a invoque com alguns valores de teste."
   ]
  },
  {
   "cell_type": "markdown",
   "metadata": {},
   "source": [
    "#### 2) Dado o valor da conta de um restaurante, crie uma função chamada de `gorjeta` que calcule o valor da gorjeta do garçom, considerando que a gorjeta é sempre de 10% do valor da conta.\n",
    "\n",
    "**OBS.: Não se esqueça de depois de implementar a função, invocá-la com algum valor de teste, como mostrado no trecho de código abaixo.**\n",
    "\n",
    "```python\n",
    "print('O valor da gorjeta é de:', gorjeta(100))\n",
    "```"
   ]
  },
  {
   "cell_type": "code",
   "execution_count": 6,
   "metadata": {},
   "outputs": [],
   "source": [
    "# Defina aqui o código da função 'gorjeta' e em seguida \n",
    "# a invoque com algum valor de teste."
   ]
  },
  {
   "cell_type": "markdown",
   "metadata": {},
   "source": [
    "#### 3)  Execute o código abaixo e veja que ocorre um erro. Em seguida, corrija os erros até que o código execute corretamente.\n",
    "\n",
    "**Dica**: Lembre-se do que foi discutido sobre as diferenças entre Python e outras linguagens de programação e sobre a definição de funções em Python."
   ]
  },
  {
   "cell_type": "code",
   "execution_count": 1,
   "metadata": {},
   "outputs": [
    {
     "ename": "SyntaxError",
     "evalue": "invalid syntax (<ipython-input-1-7ad92522778d>, line 1)",
     "output_type": "error",
     "traceback": [
      "\u001b[1;36m  File \u001b[1;32m\"<ipython-input-1-7ad92522778d>\"\u001b[1;36m, line \u001b[1;32m1\u001b[0m\n\u001b[1;33m    foo(a,b,c):\u001b[0m\n\u001b[1;37m               ^\u001b[0m\n\u001b[1;31mSyntaxError\u001b[0m\u001b[1;31m:\u001b[0m invalid syntax\n"
     ]
    }
   ],
   "source": [
    "foo(a,b,c):\n",
    "var = a + b * c\n",
    "return var\n",
    "\n",
    "'''\n",
    "Invocando a função chamada de 'foo' \n",
    "e imprimindo o resultado retornado por ela.\n",
    "'''\n",
    "print('A função foo retorna o valor: ', foo(1,2,3))"
   ]
  }
 ],
 "metadata": {
  "kernelspec": {
   "display_name": "Python 3",
   "language": "python",
   "name": "python3"
  },
  "language_info": {
   "codemirror_mode": {
    "name": "ipython",
    "version": 3
   },
   "file_extension": ".py",
   "mimetype": "text/x-python",
   "name": "python",
   "nbconvert_exporter": "python",
   "pygments_lexer": "ipython3",
   "version": "3.7.7"
  }
 },
 "nbformat": 4,
 "nbformat_minor": 4
}
