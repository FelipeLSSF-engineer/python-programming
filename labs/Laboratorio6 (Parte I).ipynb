{
 "cells": [
  {
   "cell_type": "markdown",
   "metadata": {},
   "source": [
    "# Laboratório #6 (Parte I)\n",
    "\n",
    "### Instruções\n",
    "\n",
    "1. Para cada um dos exercícios a seguir, faça o seguinte:\n",
    "    * Sempre que possível, adicione comentários ao seu código. Os comentários servem para documentar o código.\n",
    "    * Use **docstrings** explicando sucintamente o que cada função implementada faz.\n",
    "        + **docstrings** são os comentários de múltiplas linhas que aparecem **logo após** o cabeçalho da função.\n",
    "    * Escolha nomes explicativos para suas funções e variáveis.\n",
    "2. Quando você terminar os exercícios do laboratório, vá ao menu do Jupyter ou Colab e selecione a opção para fazer download do notebook.\n",
    "    * Os notebooks tem extensão .ipynb. \n",
    "    * Este deve ser o arquivo que você irá entregar.\n",
    "    * No Jupyter vá até a opção **File** -> **Download as** -> **Notebook (.ipynb)**.\n",
    "    * No Colab vá até a opção **File** -> **Download .ipynb**.\n",
    "3. Após o download do notebook, vá até a aba de tarefas do MS Teams, localize a tarefa referente a este laboratório e faça o upload do seu notebook. Veja que há uma opção para anexar arquivos à tarefa."
   ]
  },
  {
   "cell_type": "markdown",
   "metadata": {},
   "source": [
    "**Nome**:\n",
    "\n",
    "**Matrícula**:"
   ]
  },
  {
   "cell_type": "markdown",
   "metadata": {},
   "source": [
    "## Exercícios"
   ]
  },
  {
   "cell_type": "markdown",
   "metadata": {},
   "source": [
    "#### 1)  Crie uma classe `Livro` que possui os atributos `título`, `qtdPaginas`, `autor` e `preço`. Todos os atributos são públicos.\n",
    "\n",
    "+ Crie um construtor que receba como parâmetros de entrada valores para configurar os atributos do objeto.\n",
    "+ Crie o método `getPreço` para obter o preço do livro.\n",
    "+ Crie o método `setPreço` para configurar um novo preço."
   ]
  },
  {
   "cell_type": "code",
   "execution_count": 8,
   "metadata": {},
   "outputs": [],
   "source": [
    "# Implemente aqui a classe."
   ]
  },
  {
   "cell_type": "markdown",
   "metadata": {},
   "source": [
    "Teste sua implementação com o trecho de código abaixo."
   ]
  },
  {
   "cell_type": "code",
   "execution_count": 9,
   "metadata": {},
   "outputs": [
    {
     "ename": "NameError",
     "evalue": "name 'Livro' is not defined",
     "output_type": "error",
     "traceback": [
      "\u001b[1;31m---------------------------------------------------------------------------\u001b[0m",
      "\u001b[1;31mNameError\u001b[0m                                 Traceback (most recent call last)",
      "\u001b[1;32m<ipython-input-9-68f9e0e12e4c>\u001b[0m in \u001b[0;36m<module>\u001b[1;34m\u001b[0m\n\u001b[1;32m----> 1\u001b[1;33m \u001b[0mlivro\u001b[0m \u001b[1;33m=\u001b[0m \u001b[0mLivro\u001b[0m\u001b[1;33m(\u001b[0m\u001b[1;34m'O nome da rosa'\u001b[0m\u001b[1;33m,\u001b[0m \u001b[1;36m345\u001b[0m\u001b[1;33m,\u001b[0m \u001b[1;34m'Umberto Eco'\u001b[0m\u001b[1;33m,\u001b[0m \u001b[1;36m50.0\u001b[0m\u001b[1;33m)\u001b[0m\u001b[1;33m\u001b[0m\u001b[1;33m\u001b[0m\u001b[0m\n\u001b[0m\u001b[0;32m      2\u001b[0m \u001b[0mret\u001b[0m \u001b[1;33m=\u001b[0m \u001b[1;36m0\u001b[0m\u001b[1;33m\u001b[0m\u001b[1;33m\u001b[0m\u001b[0m\n\u001b[0;32m      3\u001b[0m \u001b[1;32mif\u001b[0m\u001b[1;33m(\u001b[0m\u001b[0mlivro\u001b[0m\u001b[1;33m.\u001b[0m\u001b[0mtítulo\u001b[0m\u001b[1;33m==\u001b[0m\u001b[1;34m'O nome da rosa'\u001b[0m\u001b[1;33m)\u001b[0m\u001b[1;33m:\u001b[0m\u001b[1;33m\u001b[0m\u001b[1;33m\u001b[0m\u001b[0m\n\u001b[0;32m      4\u001b[0m     \u001b[0mret\u001b[0m \u001b[1;33m+=\u001b[0m \u001b[1;36m1\u001b[0m\u001b[1;33m\u001b[0m\u001b[1;33m\u001b[0m\u001b[0m\n\u001b[0;32m      5\u001b[0m \u001b[1;32mif\u001b[0m\u001b[1;33m(\u001b[0m\u001b[0mlivro\u001b[0m\u001b[1;33m.\u001b[0m\u001b[0mqtdPaginas\u001b[0m\u001b[1;33m==\u001b[0m\u001b[1;36m345\u001b[0m\u001b[1;33m)\u001b[0m\u001b[1;33m:\u001b[0m\u001b[1;33m\u001b[0m\u001b[1;33m\u001b[0m\u001b[0m\n",
      "\u001b[1;31mNameError\u001b[0m: name 'Livro' is not defined"
     ]
    }
   ],
   "source": [
    "livro = Livro('O nome da rosa', 345, 'Umberto Eco', 50.0)\n",
    "ret = 0\n",
    "if(livro.título=='O nome da rosa'):\n",
    "    ret += 1\n",
    "if(livro.qtdPaginas==345):\n",
    "    ret += 1\n",
    "if(livro.autor=='Umberto Eco'):\n",
    "    ret += 1\n",
    "if(livro.preço==50.0):\n",
    "    ret += 1\n",
    "if(livro.getPreço()==50.0):\n",
    "    ret += 1\n",
    "livro.setPreço(45.30)\n",
    "if(livro.getPreço()==45.30):\n",
    "    ret += 1\n",
    "if(ret==6):\n",
    "    print('Sua implementação está correta.')\n",
    "else:\n",
    "    print('Sua implementação NÃO está correta.')"
   ]
  },
  {
   "cell_type": "markdown",
   "metadata": {},
   "source": [
    "#### 2)  Implemente a classe `Funcionário`. Um funcionário possui 2 atributos: `nome` e `salário`. Crie um construtor que receba dois parâmetros (`nome` e `salário`) e um método `aumentarSalário` que aumente o salário do funcionário em uma certa porcentagem dada pelo parâmetro `percentualDeAumento`. Além disso, crie um método `info` que retorne uma *string* com os atributos do funcionário, i.e., `nome` e `salário`, da seguinte forma: `Nome: Larry - Salário: 2750.0` . "
   ]
  },
  {
   "cell_type": "code",
   "execution_count": 1,
   "metadata": {},
   "outputs": [],
   "source": [
    "# Implemente aqui a classe."
   ]
  },
  {
   "cell_type": "markdown",
   "metadata": {},
   "source": [
    "Teste sua implementação com o trecho de código abaixo."
   ]
  },
  {
   "cell_type": "code",
   "execution_count": 12,
   "metadata": {},
   "outputs": [
    {
     "ename": "NameError",
     "evalue": "name 'Funcionário' is not defined",
     "output_type": "error",
     "traceback": [
      "\u001b[1;31m---------------------------------------------------------------------------\u001b[0m",
      "\u001b[1;31mNameError\u001b[0m                                 Traceback (most recent call last)",
      "\u001b[1;32m<ipython-input-12-038109db0b93>\u001b[0m in \u001b[0;36m<module>\u001b[1;34m\u001b[0m\n\u001b[1;32m----> 1\u001b[1;33m \u001b[0mharry\u001b[0m \u001b[1;33m=\u001b[0m \u001b[0mFuncionário\u001b[0m\u001b[1;33m(\u001b[0m\u001b[1;34m'Harry'\u001b[0m\u001b[1;33m,\u001b[0m \u001b[1;36m2500\u001b[0m\u001b[1;33m)\u001b[0m\u001b[1;33m\u001b[0m\u001b[1;33m\u001b[0m\u001b[0m\n\u001b[0m\u001b[0;32m      2\u001b[0m \u001b[0mret\u001b[0m \u001b[1;33m=\u001b[0m \u001b[1;36m0\u001b[0m\u001b[1;33m\u001b[0m\u001b[1;33m\u001b[0m\u001b[0m\n\u001b[0;32m      3\u001b[0m \u001b[1;32mif\u001b[0m\u001b[1;33m(\u001b[0m\u001b[0mharry\u001b[0m\u001b[1;33m.\u001b[0m\u001b[0msalário\u001b[0m\u001b[1;33m==\u001b[0m\u001b[1;36m2500\u001b[0m\u001b[1;33m)\u001b[0m\u001b[1;33m:\u001b[0m\u001b[1;33m\u001b[0m\u001b[1;33m\u001b[0m\u001b[0m\n\u001b[0;32m      4\u001b[0m     \u001b[0mret\u001b[0m \u001b[1;33m+=\u001b[0m \u001b[1;36m1\u001b[0m\u001b[1;33m\u001b[0m\u001b[1;33m\u001b[0m\u001b[0m\n\u001b[0;32m      5\u001b[0m \u001b[0mharry\u001b[0m\u001b[1;33m.\u001b[0m\u001b[0maumentarSalário\u001b[0m\u001b[1;33m(\u001b[0m\u001b[1;36m10\u001b[0m\u001b[1;33m)\u001b[0m\u001b[1;33m\u001b[0m\u001b[1;33m\u001b[0m\u001b[0m\n",
      "\u001b[1;31mNameError\u001b[0m: name 'Funcionário' is not defined"
     ]
    }
   ],
   "source": [
    "harry = Funcionário('Harry', 2500)\n",
    "ret = 0\n",
    "if(harry.salário==2500):\n",
    "    ret += 1\n",
    "harry.aumentarSalário(10)\n",
    "if(harry.salário==2750):\n",
    "    ret += 1\n",
    "if(harry.info()=='Nome: Harry - Salário: 2750.0'):\n",
    "    ret += 1\n",
    "if(ret==3):\n",
    "    print('Sua implementação está correta.')\n",
    "else:\n",
    "    print('Sua implementação NÃO está correta.')"
   ]
  },
  {
   "cell_type": "markdown",
   "metadata": {},
   "source": [
    "#### 3)  Implemente a classe mostrada no diagrama UML mostrado abaixo. Siga examente a especificação mostrada na figura, ou seja, nomes dos atributos, nomes dos métodos, número de parâmetros dos métodos, encapsulamentos dos membros da classe. etc. Os métodos `getMarca()`, `getModelo()`, `getPlaca()` e `getCor()` devem retornar os valores de seus respectivos atributos. Os métodos `injetarCombustível()` e `acionarPastilhaDeFreio()` não devem retornar nada, mas você **DEVE** adicionar um `print` que imprima o nome do método.\n",
    "\n",
    "<img src=\"../figures/lab6_ex2.png\" width=\"300px\">"
   ]
  },
  {
   "cell_type": "code",
   "execution_count": null,
   "metadata": {},
   "outputs": [],
   "source": [
    "# Implemente aqui a classe."
   ]
  },
  {
   "cell_type": "markdown",
   "metadata": {},
   "source": [
    "Teste sua implementação com o trecho de código abaixo."
   ]
  },
  {
   "cell_type": "code",
   "execution_count": 13,
   "metadata": {},
   "outputs": [
    {
     "ename": "NameError",
     "evalue": "name 'Carro' is not defined",
     "output_type": "error",
     "traceback": [
      "\u001b[1;31m---------------------------------------------------------------------------\u001b[0m",
      "\u001b[1;31mNameError\u001b[0m                                 Traceback (most recent call last)",
      "\u001b[1;32m<ipython-input-13-e3e538b5343d>\u001b[0m in \u001b[0;36m<module>\u001b[1;34m\u001b[0m\n\u001b[1;32m----> 1\u001b[1;33m \u001b[0mcarro\u001b[0m \u001b[1;33m=\u001b[0m \u001b[0mCarro\u001b[0m\u001b[1;33m(\u001b[0m\u001b[1;34m'VW'\u001b[0m\u001b[1;33m,\u001b[0m \u001b[1;34m'fusca'\u001b[0m\u001b[1;33m,\u001b[0m \u001b[1;34m'preto'\u001b[0m\u001b[1;33m,\u001b[0m \u001b[1;34m'FGT-3056'\u001b[0m\u001b[1;33m,\u001b[0m \u001b[1;36m100000\u001b[0m\u001b[1;33m)\u001b[0m\u001b[1;33m\u001b[0m\u001b[1;33m\u001b[0m\u001b[0m\n\u001b[0m\u001b[0;32m      2\u001b[0m \u001b[0mret\u001b[0m \u001b[1;33m=\u001b[0m \u001b[1;36m0\u001b[0m\u001b[1;33m\u001b[0m\u001b[1;33m\u001b[0m\u001b[0m\n\u001b[0;32m      3\u001b[0m \u001b[1;32mif\u001b[0m\u001b[1;33m(\u001b[0m\u001b[0mcarro\u001b[0m\u001b[1;33m.\u001b[0m\u001b[0mgetMarca\u001b[0m\u001b[1;33m(\u001b[0m\u001b[1;33m)\u001b[0m\u001b[1;33m==\u001b[0m\u001b[1;34m'VW'\u001b[0m\u001b[1;33m)\u001b[0m\u001b[1;33m:\u001b[0m\u001b[1;33m\u001b[0m\u001b[1;33m\u001b[0m\u001b[0m\n\u001b[0;32m      4\u001b[0m     \u001b[0mret\u001b[0m \u001b[1;33m+=\u001b[0m \u001b[1;36m1\u001b[0m\u001b[1;33m\u001b[0m\u001b[1;33m\u001b[0m\u001b[0m\n\u001b[0;32m      5\u001b[0m \u001b[1;32mif\u001b[0m\u001b[1;33m(\u001b[0m\u001b[0mcarro\u001b[0m\u001b[1;33m.\u001b[0m\u001b[0mgetModelo\u001b[0m\u001b[1;33m(\u001b[0m\u001b[1;33m)\u001b[0m\u001b[1;33m==\u001b[0m\u001b[1;34m'fusca'\u001b[0m\u001b[1;33m)\u001b[0m\u001b[1;33m:\u001b[0m\u001b[1;33m\u001b[0m\u001b[1;33m\u001b[0m\u001b[0m\n",
      "\u001b[1;31mNameError\u001b[0m: name 'Carro' is not defined"
     ]
    }
   ],
   "source": [
    "carro = Carro('VW', 'fusca', 'preto', 'FGT-3056', 100000)\n",
    "ret = 0\n",
    "if(carro.getMarca()=='VW'):\n",
    "    ret += 1\n",
    "if(carro.getModelo()=='fusca'):\n",
    "    ret += 1\n",
    "if(carro.getPlaca()=='FGT-3056'):\n",
    "    ret += 1\n",
    "if(carro.getCor()=='preto'):\n",
    "    ret += 1\n",
    "if(carro.kilometragem==100000):\n",
    "    ret += 1\n",
    "if(carro._cor=='preto'):\n",
    "    ret += 1\n",
    "try:\n",
    "    carro.__marca\n",
    "except AttributeError:\n",
    "    ret += 1\n",
    "try:\n",
    "    carro.__modelo\n",
    "except AttributeError:\n",
    "    ret += 1\n",
    "try:\n",
    "    carro.__placa\n",
    "except AttributeError:\n",
    "    ret += 1\n",
    "if(carro._injetarCombustivel()==None):\n",
    "    ret += 1\n",
    "try:\n",
    "    carro.__acionarPastilhaDeFreio()\n",
    "except AttributeError:\n",
    "    ret += 1\n",
    "if(ret==11):\n",
    "    print('Sua implementação está correta.')\n",
    "else:\n",
    "    print('Sua implementação NÃO está correta.')"
   ]
  }
 ],
 "metadata": {
  "kernelspec": {
   "display_name": "Python 3",
   "language": "python",
   "name": "python3"
  },
  "language_info": {
   "codemirror_mode": {
    "name": "ipython",
    "version": 3
   },
   "file_extension": ".py",
   "mimetype": "text/x-python",
   "name": "python",
   "nbconvert_exporter": "python",
   "pygments_lexer": "ipython3",
   "version": "3.7.7"
  }
 },
 "nbformat": 4,
 "nbformat_minor": 4
}
