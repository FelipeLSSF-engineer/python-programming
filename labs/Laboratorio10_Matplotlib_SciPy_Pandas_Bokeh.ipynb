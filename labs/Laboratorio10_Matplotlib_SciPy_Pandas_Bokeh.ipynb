{
 "cells": [
  {
   "cell_type": "markdown",
   "metadata": {},
   "source": [
    "# Laboratório #10 - Matplotlib, SciPy, Pandas e Bokeh\n",
    "\n",
    "### ATENCÃO\n",
    "\n",
    "1. Para cada um dos exercícios a seguir, faça o seguinte:\n",
    "    * Adicione comentários ao seu código. Os comentários servem para explicar o código, ajudando você a lembrar do que se trata aquele trecho de código, como também outras pessoas a entenderem o que foi feito.\n",
    "    * Caso o exercício involva a implementação de uma função:\n",
    "        + Coloque um comentário dizendo o que a função faz, use **docstrings**.\n",
    "        + Escolha nomes explicativos para suas funções e parâmetros.\n",
    "    \n",
    "2. Quando você terminar os exercícios do laboratório, vá ao menu do Jupyter ou Colab e selecione a opção para fazer download do notebook.\n",
    "    * Os notebooks tem extensão .ipynb. \n",
    "    * Este deve ser o arquivo que você irá entregar.\n",
    "    * No Jupyter vá até a opção **File** -> **Download as** -> **Notebook (.ipynb)**.\n",
    "    * No Colab vá até a opção **File** -> **Download .ipynb**."
   ]
  },
  {
   "cell_type": "markdown",
   "metadata": {},
   "source": [
    "**Nome**:\n",
    "\n",
    "**Matrícula**:"
   ]
  },
  {
   "cell_type": "markdown",
   "metadata": {},
   "source": [
    "## Exercícios"
   ]
  },
  {
   "cell_type": "markdown",
   "metadata": {},
   "source": [
    "#### 1)  Crie um array com números no intervalo `[0, 5)` com passo de `0.2`, e plote as funções\n",
    "\n",
    "$f(x) = x$, formato da linha: traços vermelhos.\n",
    "\n",
    "$g(x) = x^2$, formato da linha: quadrados azuis.\n",
    "\n",
    "$h(x) = x^3$, formato da linha: triângulos verdes.\n",
    "\n",
    "Crie um gráfico com todas as linhas em um único gráfico. Coloque um título e os nomes dos eixos na figura, habilite o grid e inclua uma legenda para cada uma das funções e salve a figure em arquivo."
   ]
  },
  {
   "cell_type": "code",
   "execution_count": 1,
   "metadata": {},
   "outputs": [],
   "source": [
    "# Implemente aqui o código do exercício."
   ]
  },
  {
   "cell_type": "markdown",
   "metadata": {},
   "source": [
    "#### 2)  Plote um gráfico exatamente como o mostrado abaixo. Use 100 pontos e o tamanho da figura de `5 x 4`. Salve seu gráfico em arquivo.\n",
    "\n",
    "<img src=\"../figures/lab10_ex2.png\" width=\"300\" height=\"300\">"
   ]
  },
  {
   "cell_type": "code",
   "execution_count": 2,
   "metadata": {},
   "outputs": [],
   "source": [
    "# Implemente aqui o código do exercício."
   ]
  },
  {
   "cell_type": "markdown",
   "metadata": {},
   "source": [
    "#### 3) Plote o histograma de um vetor com 100000 valores retirados de uma distribuição uniforme. Usando subplots, plote um histograma não-normalizado e outro normalizado. Use um número de bins igual a 100."
   ]
  },
  {
   "cell_type": "code",
   "execution_count": 3,
   "metadata": {},
   "outputs": [],
   "source": [
    "# Implemente aqui o código do exercício."
   ]
  },
  {
   "cell_type": "markdown",
   "metadata": {},
   "source": [
    "#### 4) A soma de dois números é 37. A diferença entre eles é 9. Quais são esses números? Use as funções da biblioteca SciPy para encontrar esses números."
   ]
  },
  {
   "cell_type": "code",
   "execution_count": 4,
   "metadata": {},
   "outputs": [],
   "source": [
    "# Implemente aqui o código do exercício."
   ]
  },
  {
   "cell_type": "markdown",
   "metadata": {},
   "source": [
    "#### 5) Dado o seguinte sinal $y = \\sin(2 \\pi f_0 t) + \\cos(2 \\pi f_1 t)$, onde $f_0 = 100$ [Hz] e $f_1 = 400$ [Hz], plote a transformada rápida de Fourier (FFT) deste sinal. Use uma frequência de amostragem igual a 1000 [Hz] pelo menos."
   ]
  },
  {
   "cell_type": "code",
   "execution_count": 5,
   "metadata": {},
   "outputs": [],
   "source": [
    "# Implemente aqui o código do exercício."
   ]
  },
  {
   "cell_type": "markdown",
   "metadata": {},
   "source": [
    "#### 6) Utilizando a biblioteca SciPy, projete um filtro passa-faixas com frequências de corte em 200 e 400 [Hz]. De posse do filtro, use-o para filtrar o seguinte sinal: $y = \\sin(2 \\pi f_0 t) + \\sin(2 \\pi f_1 t) + \\sin(2 \\pi f_2 t)$, onde $f_0 = 100$, $f_1 = 300$, e $f_2 = 500$. Use uma frequência de amostragem igual a 1000 [Hz]. Plote a resposta em frequência do filtro, sua saída comparada com sua entrada no domínio do tempo e sua saída comparada com sua entrada no domínio da frequência (i.e., use a FFT)."
   ]
  },
  {
   "cell_type": "code",
   "execution_count": 6,
   "metadata": {},
   "outputs": [],
   "source": [
    "# Implemente aqui o código do exercício."
   ]
  },
  {
   "cell_type": "markdown",
   "metadata": {},
   "source": [
    "#### 6) Usando o arquivo `population.csv` plote um gráfico de pizza utilizando a biblioteca Bokeh. Gere um arquivo HTML estático para armazenar o gráfico.\n",
    "\n",
    "O link abaixo apresenta um exemplo de como criar gráficos de pizza com a biblioteca Bokeh: https://docs.bokeh.org/en/latest/docs/gallery/pie_chart.html?highlight=pie"
   ]
  },
  {
   "cell_type": "code",
   "execution_count": null,
   "metadata": {},
   "outputs": [],
   "source": [
    "# Implemente aqui o código do exercício."
   ]
  }
 ],
 "metadata": {
  "kernelspec": {
   "display_name": "Python 3",
   "language": "python",
   "name": "python3"
  },
  "language_info": {
   "codemirror_mode": {
    "name": "ipython",
    "version": 3
   },
   "file_extension": ".py",
   "mimetype": "text/x-python",
   "name": "python",
   "nbconvert_exporter": "python",
   "pygments_lexer": "ipython3",
   "version": "3.7.9"
  }
 },
 "nbformat": 4,
 "nbformat_minor": 4
}
