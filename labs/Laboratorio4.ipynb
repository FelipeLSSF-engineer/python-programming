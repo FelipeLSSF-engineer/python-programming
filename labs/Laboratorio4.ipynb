{
 "cells": [
  {
   "cell_type": "markdown",
   "metadata": {},
   "source": [
    "# Laboratório #4\n",
    "\n",
    "### Instruções\n",
    "\n",
    "1. Para cada um dos exercícios a seguir, faça o seguinte:\n",
    "    * Sempre que possível, adicione comentários ao seu código. Os comentários servem para documentar o código.\n",
    "    * Use **docstrings** explicando sucintamente o que cada função implementada faz.\n",
    "        + **docstrings** são os comentários de múltiplas linhas que aparecem **logo após** o cabeçalho da função.\n",
    "    * Escolha nomes explicativos para suas funções e variáveis.\n",
    "2. Quando você terminar os exercícios do laboratório, vá ao menu do Jupyter ou Colab e selecione a opção para fazer download do notebook.\n",
    "    * Os notebooks tem extensão .ipynb. \n",
    "    * Este deve ser o arquivo que você irá entregar.\n",
    "    * No Jupyter vá até a opção **File** -> **Download as** -> **Notebook (.ipynb)**.\n",
    "    * No Colab vá até a opção **File** -> **Download .ipynb**.\n",
    "3. Após o download do notebook, vá até a aba de tarefas do MS Teams, localize a tarefa referente a este laboratório e faça o upload do seu notebook. Veja que há uma opção para anexar arquivos à tarefa.\n",
    "4. Não se esqueça de colocar seu **nome** e **matrícula** na célula de texto abaixo."
   ]
  },
  {
   "cell_type": "markdown",
   "metadata": {},
   "source": [
    "**Nome**:\n",
    "\n",
    "**Matrícula**:"
   ]
  },
  {
   "cell_type": "markdown",
   "metadata": {},
   "source": [
    "## Exercícios"
   ]
  },
  {
   "cell_type": "markdown",
   "metadata": {},
   "source": [
    "#### 1)  Implemente três funções com os seguintes nomes e funcionalidades:\n",
    "\n",
    "1. `horasEmMinutos`: Dada uma quantidade em horas, a transforme para minutos e retorne o resultado.\n",
    "2.  `minutosEmSegundos`: Dada uma quantidade de minutos, a transforme em segundos e retorne o resultado.\n",
    "3. `horasEmSegundos`: Dada uma quantidade de horas, a transforme em segundos usando as funções dos itens 1 e 2 e retorne o resultado."
   ]
  },
  {
   "cell_type": "code",
   "execution_count": 1,
   "metadata": {},
   "outputs": [],
   "source": [
    "# implemente o código da função aqui."
   ]
  },
  {
   "cell_type": "markdown",
   "metadata": {},
   "source": [
    "Teste suas funções com o código abaixo."
   ]
  },
  {
   "cell_type": "code",
   "execution_count": 2,
   "metadata": {},
   "outputs": [
    {
     "ename": "NameError",
     "evalue": "name 'horasEmSegundos' is not defined",
     "output_type": "error",
     "traceback": [
      "\u001b[1;31m---------------------------------------------------------------------------\u001b[0m",
      "\u001b[1;31mNameError\u001b[0m                                 Traceback (most recent call last)",
      "\u001b[1;32mC:\\Users\\FELIPE~1.FIG\\AppData\\Local\\Temp/ipykernel_19452/2790280565.py\u001b[0m in \u001b[0;36m<module>\u001b[1;34m\u001b[0m\n\u001b[1;32m----> 1\u001b[1;33m \u001b[0mprint\u001b[0m\u001b[1;33m(\u001b[0m\u001b[1;34m'Número de segundos:'\u001b[0m\u001b[1;33m,\u001b[0m \u001b[0mhorasEmSegundos\u001b[0m\u001b[1;33m(\u001b[0m\u001b[1;36m0.5\u001b[0m\u001b[1;33m)\u001b[0m\u001b[1;33m,\u001b[0m \u001b[1;34m' - Teste está correto?'\u001b[0m\u001b[1;33m,\u001b[0m \u001b[0mhorasEmSegundos\u001b[0m\u001b[1;33m(\u001b[0m\u001b[1;36m0.5\u001b[0m\u001b[1;33m)\u001b[0m\u001b[1;33m==\u001b[0m\u001b[1;36m1800.0\u001b[0m\u001b[1;33m)\u001b[0m\u001b[1;33m\u001b[0m\u001b[1;33m\u001b[0m\u001b[0m\n\u001b[0m\u001b[0;32m      2\u001b[0m \u001b[0mprint\u001b[0m\u001b[1;33m(\u001b[0m\u001b[1;34m'Número de segundos:'\u001b[0m\u001b[1;33m,\u001b[0m \u001b[0mhorasEmSegundos\u001b[0m\u001b[1;33m(\u001b[0m\u001b[1;36m1.0\u001b[0m\u001b[1;33m)\u001b[0m\u001b[1;33m,\u001b[0m \u001b[1;34m' - Teste está correto?'\u001b[0m\u001b[1;33m,\u001b[0m \u001b[0mhorasEmSegundos\u001b[0m\u001b[1;33m(\u001b[0m\u001b[1;36m1.0\u001b[0m\u001b[1;33m)\u001b[0m\u001b[1;33m==\u001b[0m\u001b[1;36m3600.0\u001b[0m\u001b[1;33m)\u001b[0m\u001b[1;33m\u001b[0m\u001b[1;33m\u001b[0m\u001b[0m\n\u001b[0;32m      3\u001b[0m \u001b[0mprint\u001b[0m\u001b[1;33m(\u001b[0m\u001b[1;34m'Número de segundos:'\u001b[0m\u001b[1;33m,\u001b[0m \u001b[0mhorasEmSegundos\u001b[0m\u001b[1;33m(\u001b[0m\u001b[1;36m2.5\u001b[0m\u001b[1;33m)\u001b[0m\u001b[1;33m,\u001b[0m \u001b[1;34m' - Teste está correto?'\u001b[0m\u001b[1;33m,\u001b[0m \u001b[0mhorasEmSegundos\u001b[0m\u001b[1;33m(\u001b[0m\u001b[1;36m2.5\u001b[0m\u001b[1;33m)\u001b[0m\u001b[1;33m==\u001b[0m\u001b[1;36m9000.0\u001b[0m\u001b[1;33m)\u001b[0m\u001b[1;33m\u001b[0m\u001b[1;33m\u001b[0m\u001b[0m\n",
      "\u001b[1;31mNameError\u001b[0m: name 'horasEmSegundos' is not defined"
     ]
    }
   ],
   "source": [
    "print('Número de segundos:', horasEmSegundos(0.5), ' - Teste está correto?', horasEmSegundos(0.5)==1800.0)\n",
    "print('Número de segundos:', horasEmSegundos(1.0), ' - Teste está correto?', horasEmSegundos(1.0)==3600.0)\n",
    "print('Número de segundos:', horasEmSegundos(2.5), ' - Teste está correto?', horasEmSegundos(2.5)==9000.0)"
   ]
  },
  {
   "cell_type": "markdown",
   "metadata": {},
   "source": [
    "#### 2) Crie uma função chamada `somarValores` que aceite qualquer número de parâmetros de entrada e retorne a soma desses números. \n",
    "\n",
    "**Dica**: Lembre-se que a função recebe uma **tupla** com todos os argumentos de entrada. Um **tupla** é uma coleção de objetos que pode ser iterada com um laço de repetição `for`. \n",
    "\n",
    "**Exemplo**\n",
    "\n",
    "```python\n",
    "# definindo uma tupla.\n",
    "tupla = (0,1,2,3)\n",
    "\n",
    "# iterando através dos valores da tupla com um laço for.\n",
    "for valor in tupla:\n",
    "    print(valor)\n",
    "```\n"
   ]
  },
  {
   "cell_type": "code",
   "execution_count": null,
   "metadata": {},
   "outputs": [],
   "source": [
    "# implemente o código da função aqui."
   ]
  },
  {
   "cell_type": "markdown",
   "metadata": {},
   "source": [
    "Teste sua função com o código abaixo."
   ]
  },
  {
   "cell_type": "code",
   "execution_count": null,
   "metadata": {},
   "outputs": [],
   "source": [
    "print('Resultado:', somarValores(2), ' - Teste está correto?', somarValores(2)==2)\n",
    "print('Resultado:', somarValores(2,4), ' - Teste está correto?', somarValores(2,4)==6)\n",
    "print('Resultado:', somarValores(2,4,6), ' - Teste está correto?', somarValores(2,4,6)==12)\n",
    "print('Resultado:', somarValores(1,2,3,4), ' - Teste está correto?', somarValores(1,2,3,4)==10)\n",
    "print('Resultado:', somarValores(1,2,3,4,5), ' - Teste está correto?', somarValores(1,2,3,4,5)==15)"
   ]
  },
  {
   "cell_type": "markdown",
   "metadata": {},
   "source": [
    "#### 3) Implemente uma função chamada `retornarDia`. Esta função recebe como parâmetro de entrada um número de 1-7 e retorna uma string com o dia da semana (1 é domingo, 2 é segunda-feira e assim por diante.). Se o número for menor que 1 ou maior que 7, a função deve retornar `None`.\n",
    "\n",
    "**OBS**.: A função **retorna** uma string, portanto, não é necessário usar a função `print`."
   ]
  },
  {
   "cell_type": "code",
   "execution_count": null,
   "metadata": {},
   "outputs": [],
   "source": [
    "# implemente o código da função aqui."
   ]
  },
  {
   "cell_type": "markdown",
   "metadata": {},
   "source": [
    "Teste sua função com o código abaixo."
   ]
  },
  {
   "cell_type": "code",
   "execution_count": null,
   "metadata": {},
   "outputs": [],
   "source": [
    "print('Dia:', retornarDia(0), ' \\t\\t- resultado correto?', retornarDia(0)==None)\n",
    "print('Dia:', retornarDia(1), ' \\t\\t- resultado correto?', retornarDia(1)=='domingo')\n",
    "print('Dia:', retornarDia(2), ' \\t- resultado correto?', retornarDia(2)=='segunda-feira')\n",
    "print('Dia:', retornarDia(3), ' \\t- resultado correto?', retornarDia(3)=='terça-feira')\n",
    "print('Dia:', retornarDia(4), ' \\t- resultado correto?', retornarDia(4)=='quarta-feira')\n",
    "print('Dia:', retornarDia(5), ' \\t- resultado correto?', retornarDia(5)=='quinta-feira')\n",
    "print('Dia:', retornarDia(6), ' \\t- resultado correto?', retornarDia(6)=='sexta-feira')\n",
    "print('Dia:', retornarDia(7), ' \\t\\t- resultado correto?', retornarDia(7)=='sábado')\n",
    "print('Dia:', retornarDia(8), ' \\t\\t- resultado correto?', retornarDia(8)==None)"
   ]
  },
  {
   "cell_type": "markdown",
   "metadata": {},
   "source": [
    "#### 4) Implemente uma função chamada `fatorial` que calcule o fatorial de um valor de entrada `x`. \n",
    "\n",
    "**IMPORTANTE: Utilize recursão para implementar esta função.**\n",
    "\n",
    "**Dica**: O fatorial de um número é calculado pela multiplicação desse número por todos os seus antecessores até chegar ao número 1. Uma exceção é o fatorial de 0, que é igual a 1.\n",
    "\n",
    "**Exemplos**: \n",
    "\n",
    "* 0! = 1\n",
    "* 1! = 1\n",
    "* 2! = 2 * 1 = 2\n",
    "* 3! = 3 * 2 * 1 = 6\n",
    "* 4! = 4 * 3 * 2 * 1 = 24"
   ]
  },
  {
   "cell_type": "code",
   "execution_count": null,
   "metadata": {},
   "outputs": [],
   "source": [
    "# implemente o código da função aqui."
   ]
  },
  {
   "cell_type": "markdown",
   "metadata": {},
   "source": [
    "Teste sua função com o código abaixo."
   ]
  },
  {
   "cell_type": "code",
   "execution_count": null,
   "metadata": {},
   "outputs": [],
   "source": [
    "print('fatorial:', fatorial(0), ' - resultado correto?', fatorial(0)==1)\n",
    "print('fatorial:', fatorial(1), ' - resultado correto?', fatorial(1)==1)\n",
    "print('fatorial:', fatorial(2), ' - resultado correto?', fatorial(2)==2)\n",
    "print('fatorial:', fatorial(3), ' - resultado correto?', fatorial(3)==6)\n",
    "print('fatorial:', fatorial(4), ' - resultado correto?', fatorial(4)==24)"
   ]
  },
  {
   "cell_type": "markdown",
   "metadata": {},
   "source": [
    "#### 5)  O número de combinações possíveis de `m` elementos em grupos de `n` elementos (sendo que `n <= m`) é dada pela fórmula de combinação abaixo\n",
    "\n",
    "$$\\frac{m!}{ (m-n)!n! }$$\n",
    "\n",
    "Implemente uma função chamada `combinação` que receba dois números inteiros `m` e `n`, calcule e retorne o número de combinações possíveis.\n",
    "\n",
    "**Dica**: Use a função `fatorial` implementada no exercício anterior.\n",
    "\n",
    "**Exemplos**:\n",
    "1. combinação(2,2) - retorno: 1\n",
    "2. combinação(2,1) - retorno: 2\n",
    "3. combinação(5,3) - retorno: 10\n",
    "4. combinação(4,2) - retorno: 6"
   ]
  },
  {
   "cell_type": "code",
   "execution_count": null,
   "metadata": {},
   "outputs": [],
   "source": [
    "# implemente o código da função aqui."
   ]
  },
  {
   "cell_type": "markdown",
   "metadata": {},
   "source": [
    "Teste sua função com o código abaixo."
   ]
  },
  {
   "cell_type": "code",
   "execution_count": null,
   "metadata": {},
   "outputs": [],
   "source": [
    "print('Número de combinações:', combinação(2,2), ' - resultado correto?', combinação(2,2)==1)\n",
    "print('Número de combinações:', combinação(2,1), ' - resultado correto?', combinação(2,1)==2)\n",
    "print('Número de combinações:', combinação(5,3), ' - resultado correto?', combinação(5,3)==10)\n",
    "print('Número de combinações:', combinação(4,2), ' - resultado correto?', combinação(4,2)==6)"
   ]
  },
  {
   "cell_type": "markdown",
   "metadata": {},
   "source": [
    "#### 6)  Crie uma função chamada `retornarDoisValores` que aceite qualquer número de parâmetros de entrada (ou seja, que aceite um número arbitrário de parâmetros de entrada) e retorne dois valores, a soma e o dobro da soma, desses números, respectivamente. \n",
    "\n",
    "**Dica**: Lembre-se que a função recebe uma **tupla** com todos os argumentos de entrada. Uma **tupla** é uma coleção de objetos que pode ser iterada com um laço de repetição `for`, por exemplo. \n",
    "\n",
    "**Exemplo**\n",
    "\n",
    "```python\n",
    "# definindo uma tupla.\n",
    "tupla = (0,1,2,3)\n",
    "\n",
    "# iterando através dos valores da tupla com um laço for.\n",
    "for valor in tupla:\n",
    "    print(valor)\n",
    "```"
   ]
  },
  {
   "cell_type": "code",
   "execution_count": null,
   "metadata": {},
   "outputs": [],
   "source": [
    "# Implemente aqui o código da função."
   ]
  },
  {
   "cell_type": "markdown",
   "metadata": {},
   "source": [
    "Teste suas funções com o código abaixo."
   ]
  },
  {
   "cell_type": "code",
   "execution_count": null,
   "metadata": {},
   "outputs": [],
   "source": [
    "print('Resultado:', retornaDoisValores(2), ' - Teste está correto?', retornaDoisValores(2)==(2,4))\n",
    "print('Resultado:', retornaDoisValores(2,4), ' - Teste está correto?', retornaDoisValores(2,4)==(6,12))\n",
    "print('Resultado:', retornaDoisValores(2,4,6), ' - Teste está correto?', retornaDoisValores(2,4,6)==(12,24))\n",
    "print('Resultado:', retornaDoisValores(1,2,3,4), ' - Teste está correto?', retornaDoisValores(1,2,3,4)==(10,20))"
   ]
  }
 ],
 "metadata": {
  "kernelspec": {
   "display_name": "Python 3 (ipykernel)",
   "language": "python",
   "name": "python3"
  },
  "language_info": {
   "codemirror_mode": {
    "name": "ipython",
    "version": 3
   },
   "file_extension": ".py",
   "mimetype": "text/x-python",
   "name": "python",
   "nbconvert_exporter": "python",
   "pygments_lexer": "ipython3",
   "version": "3.9.7"
  }
 },
 "nbformat": 4,
 "nbformat_minor": 4
}
