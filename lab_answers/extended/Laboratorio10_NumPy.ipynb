{
 "cells": [
  {
   "cell_type": "markdown",
   "metadata": {},
   "source": [
    "# Laboratório #10 - NumPy\n",
    "\n",
    "### ATENCÃO\n",
    "\n",
    "1. Para cada um dos exercícios a seguir, faça o seguinte:\n",
    "    * Adicione comentários ao seu código. Os comentários servem para explicar o código, ajudando você a lembrar do que se trata aquele trecho de código, como também outras pessoas a entenderem o que foi feito.\n",
    "    * Caso o exercício involva a implementação de uma função:\n",
    "        + Coloque um comentário dizendo o que a função faz, use **docstrings**.\n",
    "        + Escolha nomes explicativos para suas funções e parâmetros.\n",
    "    \n",
    "2. Quando você terminar os exercícios do laboratório, vá ao menu do Jupyter ou Colab e selecione a opção para fazer download do notebook.\n",
    "    * Os notebooks tem extensão .ipynb. \n",
    "    * Este deve ser o arquivo que você irá entregar.\n",
    "    * No Jupyter vá até a opção **File** -> **Download as** -> **Notebook (.ipynb)**.\n",
    "    * No Colab vá até a opção **File** -> **Download .ipynb**."
   ]
  },
  {
   "cell_type": "markdown",
   "metadata": {},
   "source": [
    "**Nome**:\n",
    "\n",
    "**Matrícula**:"
   ]
  },
  {
   "cell_type": "markdown",
   "metadata": {},
   "source": [
    "## Exercícios"
   ]
  },
  {
   "cell_type": "markdown",
   "metadata": {},
   "source": [
    "#### 1)  Crie uma função chamada `extrairNumerosPares` que retorne todos os número pares de uma array e outra função chamada `extrairNumerosImpares` que retorne todos os número ímpares."
   ]
  },
  {
   "cell_type": "code",
   "execution_count": 15,
   "metadata": {},
   "outputs": [],
   "source": [
    "def extrairNumerosPares(a):\n",
    "    return a[a % 2 == 0]\n",
    "\n",
    "def extrairNumerosImpares(a):\n",
    "    return a[a % 2 != 0]"
   ]
  },
  {
   "cell_type": "markdown",
   "metadata": {},
   "source": [
    "Teste sua implementação com o código abaixo."
   ]
  },
  {
   "cell_type": "code",
   "execution_count": 17,
   "metadata": {},
   "outputs": [
    {
     "name": "stdout",
     "output_type": "stream",
     "text": [
      "Teste 1: Implementação está correta.\n",
      "Teste 2: Implementação está correta.\n"
     ]
    }
   ],
   "source": [
    "import numpy as np\n",
    "\n",
    "a = np.array([0,1,2,3,4,5,6,7,8,9])\n",
    "\n",
    "ret = True\n",
    "if ( (extrairNumerosPares(a) != np.array([0,2,4,6,8])).all()):\n",
    "    ret = False\n",
    "\n",
    "if(ret == True):\n",
    "    print('Teste 1: Implementação está correta.')\n",
    "else:\n",
    "    print('Teste 1: Implementação NÃO está correta.')\n",
    "    \n",
    "ret = True\n",
    "if ( (extrairNumerosImpares(a) != np.array([1,3,5,7,9])).all()):\n",
    "    ret = False\n",
    "\n",
    "if(ret == True):\n",
    "    print('Teste 2: Implementação está correta.')\n",
    "else:\n",
    "    print('Teste 2: Implementação NÃO está correta.')"
   ]
  },
  {
   "cell_type": "markdown",
   "metadata": {},
   "source": [
    "#### 2)  Um sistema linear com três variáveis determina um conjunto de planos. O ponto de intersecção é a solução deste sistema. Utilize a função `inv` do submódulo `linalg` da biblioteca `numpy` para criar uma função chamada `solucionarSistemaLinear` que resolva um sistema de equações lineares. Para obter mais informações sobre a função `inv`, acesse sua documentação: https://numpy.org/doc/stable/reference/generated/numpy.linalg.inv.html"
   ]
  },
  {
   "cell_type": "code",
   "execution_count": 61,
   "metadata": {},
   "outputs": [],
   "source": [
    "def solucionarSistemaLinear(A, y):\n",
    "    Ainv = np.linalg.inv(A)\n",
    "    x = Ainv.dot(y)\n",
    "    return x"
   ]
  },
  {
   "cell_type": "markdown",
   "metadata": {},
   "source": [
    "Teste sua implementação com o código abaixo."
   ]
  },
  {
   "cell_type": "code",
   "execution_count": 62,
   "metadata": {},
   "outputs": [
    {
     "name": "stdout",
     "output_type": "stream",
     "text": [
      "Teste 3: Implementação está correta.\n"
     ]
    }
   ],
   "source": [
    "import numpy as np\n",
    "\n",
    "A = np.array([[3., 2., -1.],[2., -2., 4.],[-1., 0.5, -1.]])\n",
    "y = np.array([1., -2., 0.]).reshape(3,1)\n",
    "x = np.array([1., -2., -2.]).reshape(3,1)\n",
    "\n",
    "ret = np.allclose(solucionarSistemaLinear(A, y), x)\n",
    "\n",
    "if(ret == True):\n",
    "    print('Teste 3: Implementação está correta.')\n",
    "else:\n",
    "    print('Teste 3: Implementação NÃO está correta.')"
   ]
  },
  {
   "cell_type": "markdown",
   "metadata": {},
   "source": [
    "#### 3)  Implemente uma função chamada `calcularEstatisticas` utilizando a biblioteca NumPy para calcular e retornar a média, variância, desvio padrão de uma array de entrada."
   ]
  },
  {
   "cell_type": "code",
   "execution_count": 74,
   "metadata": {},
   "outputs": [],
   "source": [
    "def calcularEstatisticas(x):\n",
    "    mean = x.mean()\n",
    "    std = x.std()\n",
    "    var = x.var()\n",
    "    return mean, std, var"
   ]
  },
  {
   "cell_type": "markdown",
   "metadata": {},
   "source": [
    "Teste sua implementação com o código abaixo."
   ]
  },
  {
   "cell_type": "code",
   "execution_count": 105,
   "metadata": {},
   "outputs": [
    {
     "name": "stdout",
     "output_type": "stream",
     "text": [
      "Teste 4: Implementação está correta.\n"
     ]
    }
   ],
   "source": [
    "import numpy as np\n",
    "\n",
    "np.random.seed(42)\n",
    "x = np.random.randint(0,100,1000)\n",
    "\n",
    "ret = True\n",
    "if(calcularEstatisticas(x) != (49.128, 29.558714721719547, 873.7176159999999)):\n",
    "    ret = False\n",
    "\n",
    "if(ret == True):\n",
    "    print('Teste 4: Implementação está correta.')\n",
    "else:\n",
    "    print('Teste 4: Implementação NÃO está correta.')"
   ]
  },
  {
   "cell_type": "markdown",
   "metadata": {},
   "source": [
    "#### 4)  Escreva uma função chamada `somaLinhasEColunas` utilizando a bilbioteca NumPy para calcular e retornar uma lista com a soma dos elementos ao longo de todos os eixos de uma array de entrada. Cada um dos elementos da lista de retorno deve ser a soma dos elementos ao longo de um eixo da array de entrada."
   ]
  },
  {
   "cell_type": "code",
   "execution_count": 140,
   "metadata": {},
   "outputs": [],
   "source": [
    "def somaLinhasEColunas(x):\n",
    "    resultado = []\n",
    "    for dim in range(0, x.ndim):\n",
    "        resultado.append(np.sum(x, axis=dim))\n",
    "    return resultado"
   ]
  },
  {
   "cell_type": "markdown",
   "metadata": {},
   "source": [
    "Teste sua implementação com o código abaixo."
   ]
  },
  {
   "cell_type": "code",
   "execution_count": 141,
   "metadata": {},
   "outputs": [
    {
     "name": "stdout",
     "output_type": "stream",
     "text": [
      "Teste 5: Implementação está correta.\n"
     ]
    }
   ],
   "source": [
    "ret = True\n",
    "\n",
    "x = np.array([1,2])\n",
    "retorno = somaLinhasEColunas(x)\n",
    "expected = [3]\n",
    "for i in range(0,len(expected)):\n",
    "    if(retorno[i] != expected[i]):\n",
    "        ret = False\n",
    "        break\n",
    "\n",
    "x = np.array([[1,2]])\n",
    "retorno = somaLinhasEColunas(x)\n",
    "expected = [np.array([1, 2]), np.array([3])]\n",
    "for i in range(0,len(expected)):\n",
    "    if((retorno[i] != expected[i]).all()):\n",
    "        ret = False\n",
    "        break\n",
    "\n",
    "x = np.array([[1,2],[3,4]])\n",
    "retorno = somaLinhasEColunas(x)\n",
    "expected = [np.array([4, 6]), np.array([3, 7])]\n",
    "for i in range(0,len(expected)):\n",
    "    if((retorno[i] != expected[i]).all()):\n",
    "        ret = False\n",
    "        break\n",
    "\n",
    "x = np.array([[1,2],[3,4],[5,6]])\n",
    "retorno = somaLinhasEColunas(x)\n",
    "expected = [np.array([ 9, 12]), np.array([ 3,  7, 11])]\n",
    "for i in range(0,len(expected)):\n",
    "    if((retorno[i] != expected[i]).all()):\n",
    "        ret = False\n",
    "        break\n",
    "\n",
    "if(ret == True):\n",
    "    print('Teste 5: Implementação está correta.')\n",
    "else:\n",
    "    print('Teste 5: Implementação NÃO está correta.')"
   ]
  },
  {
   "cell_type": "markdown",
   "metadata": {},
   "source": [
    "#### 5) Implemente uma função chamada `gerarMatriz` que recebe como parâmetros de entrada `(a, b, n, m)` e que tem como retorno uma array NumPy de formato `m x m`, onde os elementos são os números igualmente espaçados obtidos ao se dividir o intervalo `[a, b]`. Caso não seja possível construir tal array, a função deve retornar a mensagem `Não é possivel construir a matriz.`."
   ]
  },
  {
   "cell_type": "code",
   "execution_count": 154,
   "metadata": {},
   "outputs": [],
   "source": [
    "def gerarMatriz(a, b, n, m):\n",
    "    valores = np.linspace(a,b,n)\n",
    "    try:\n",
    "        valores = valores.reshape(m,m)\n",
    "    except ValueError:\n",
    "        valores = 'Não é possivel construir a matriz.'\n",
    "    return valores"
   ]
  },
  {
   "cell_type": "markdown",
   "metadata": {},
   "source": [
    "Teste sua implementação com o código abaixo."
   ]
  },
  {
   "cell_type": "code",
   "execution_count": 155,
   "metadata": {},
   "outputs": [
    {
     "name": "stdout",
     "output_type": "stream",
     "text": [
      "Teste 6: Implementação está correta.\n"
     ]
    }
   ],
   "source": [
    "ret = True\n",
    "\n",
    "retorno = gerarMatriz(0, 10, 16, 4)\n",
    "expected = np.array([[ 0.,          0.66666667,  1.33333333,  2.        ],\n",
    " [ 2.66666667,  3.33333333,  4.,          4.66666667],\n",
    " [ 5.33333333,  6.,          6.66666667,  7.33333333],\n",
    " [ 8.,          8.66666667,  9.33333333, 10.        ]])\n",
    "if( (retorno != expected).all() ):\n",
    "    ret = False\n",
    "\n",
    "retorno = gerarMatriz(0, 10, 10, 4)\n",
    "expected = 'Não é possivel construir a matriz.'\n",
    "if(retorno != expected):\n",
    "    ret = False\n",
    "\n",
    "if(ret == True):\n",
    "    print('Teste 6: Implementação está correta.')\n",
    "else:\n",
    "    print('Teste 6: Implementação NÃO está correta.')"
   ]
  },
  {
   "cell_type": "markdown",
   "metadata": {},
   "source": [
    "#### 6) Implemente duas funções, `linha` e `coluna`, cada uma recebendo como parâmetro de entrada uma array `a` e um número inteiro `i`. O formato `(n, m)` da array `a` não é passado como parâmetro de entrada. As funções devem retornar, respectivamente, a linha e a coluna `i` de `a`. Se `a` não possui a linha ou a coluna `i` especificada, a mensagem `Não existe esta linha.` ou `Não existe esta coluna.` deve ser retornada. Caso `a` não tenha o formato `(n, m)`, a mensagem `Esta não é uma matriz.` deve ser retornada."
   ]
  },
  {
   "cell_type": "code",
   "execution_count": 187,
   "metadata": {},
   "outputs": [],
   "source": [
    "def linha(a, i):\n",
    "    if(a.ndim == 2):\n",
    "        try:\n",
    "            ret = a[i-1,:]\n",
    "        except IndexError:\n",
    "            ret = 'Não existe esta linha.'\n",
    "    else:\n",
    "        ret = 'Esta não é uma matriz mxn.'\n",
    "    return ret\n",
    "    \n",
    "def coluna(a, i):\n",
    "    if(a.ndim == 2):\n",
    "        try:\n",
    "            ret = a[:,i-1]\n",
    "        except IndexError:\n",
    "            ret = 'Não existe esta coluna.'\n",
    "    else:\n",
    "        ret = 'Esta não é uma matriz mxn.'\n",
    "    return ret"
   ]
  },
  {
   "cell_type": "markdown",
   "metadata": {},
   "source": [
    "Teste sua implementação com o código abaixo."
   ]
  },
  {
   "cell_type": "code",
   "execution_count": 188,
   "metadata": {},
   "outputs": [
    {
     "name": "stdout",
     "output_type": "stream",
     "text": [
      "Teste 7: Implementação está correta.\n"
     ]
    }
   ],
   "source": [
    "ret = True\n",
    "\n",
    "z = np.array([[ 0. , 1.11111111, 2.22222222, 3.33333333, 4.44444444], \n",
    "              [ 5.55555556, 6.66666667, 7.77777778, 8.88888889, 10. ]])\n",
    "\n",
    "w = np.array([[[ 0., 1.03846154, 2.07692308],\n",
    "               [3.11538462, 4.15384615, 5.19230769],\n",
    "               [6.23076923, 7.26923077, 8.30769231]],\n",
    "              [[9.34615385, 10.38461538, 11.42307692],\n",
    "               [12.46153846, 13.5 , 14.53846154],\n",
    "               [15.57692308, 16.61538462, 17.65384615]],\n",
    "              [[18.69230769, 19.73076923, 20.76923077],\n",
    "               [21.80769231, 22.84615385, 23.88461538],\n",
    "               [24.92307692, 25.96153846, 27.]]])\n",
    "\n",
    "retorno = coluna(z, 5)\n",
    "expected = np.array([4.44444444, 10.])\n",
    "if((retorno != expected).all()):\n",
    "    ret = False\n",
    "    \n",
    "retorno = linha(z, 5)\n",
    "expected = 'Não existe esta linha.'\n",
    "if(retorno != expected):\n",
    "    ret = False\n",
    "    \n",
    "retorno = linha(w, 3)\n",
    "expected = 'Esta não é uma matriz mxn.'\n",
    "if(retorno != expected):\n",
    "    ret = False\n",
    "    \n",
    "retorno = coluna(w, 1)\n",
    "expected = 'Esta não é uma matriz mxn.'\n",
    "if(retorno != expected):\n",
    "    ret = False\n",
    "    \n",
    "if(ret == True):\n",
    "    print('Teste 7: Implementação está correta.')\n",
    "else:\n",
    "    print('Teste 7: Implementação NÃO está correta.')"
   ]
  },
  {
   "cell_type": "markdown",
   "metadata": {},
   "source": [
    "#### 6) Implemente uma função, `f`, que dado um intervalo fechado `[a, b]` e um número de pontos `n`, retorna a array `x`, formada pelos `n` pontos obtidos a partir do intervalo `[a, b]` e `y` é a array onde $y_i = x_i^2 - 9$. Além disso, a função deve também retornar uma array booleana cujas posições são `True` sempre que o valor de $y \\ge 0$ e `False` caso contrário."
   ]
  },
  {
   "cell_type": "code",
   "execution_count": 215,
   "metadata": {},
   "outputs": [],
   "source": [
    "def f(a,b,n):\n",
    "    x = np.linspace(a,b,n)\n",
    "    y = x**2 - 9\n",
    "    v = y >= 0.0\n",
    "    return y, v"
   ]
  },
  {
   "cell_type": "markdown",
   "metadata": {},
   "source": [
    "Teste sua implementação com o código abaixo."
   ]
  },
  {
   "cell_type": "code",
   "execution_count": 217,
   "metadata": {},
   "outputs": [
    {
     "name": "stdout",
     "output_type": "stream",
     "text": [
      "Teste 8: Implementação está correta.\n"
     ]
    }
   ],
   "source": [
    "retorno = f(-10,10,10)\n",
    "\n",
    "expected = np.array([ 91. , 51.49382716, 21.86419753, 2.11111111,\n",
    "-7.7654321 , -7.7654321 , 2.11111111, 21.86419753,\n",
    "51.49382716, 91. ])\n",
    "\n",
    "ret = True\n",
    "if((retorno[0] != expected).all()):\n",
    "    ret = False\n",
    "\n",
    "expected = np.array([True, True, True, True, False, False, True, True, True, True])\n",
    "ret = True\n",
    "if((retorno[1] != expected).all()):\n",
    "    ret = False\n",
    "\n",
    "if(ret == True):\n",
    "    print('Teste 8: Implementação está correta.')\n",
    "else:\n",
    "    print('Teste 8: Implementação NÃO está correta.')"
   ]
  },
  {
   "cell_type": "code",
   "execution_count": null,
   "metadata": {},
   "outputs": [],
   "source": []
  }
 ],
 "metadata": {
  "kernelspec": {
   "display_name": "Python 3",
   "language": "python",
   "name": "python3"
  },
  "language_info": {
   "codemirror_mode": {
    "name": "ipython",
    "version": 3
   },
   "file_extension": ".py",
   "mimetype": "text/x-python",
   "name": "python",
   "nbconvert_exporter": "python",
   "pygments_lexer": "ipython3",
   "version": "3.7.7"
  }
 },
 "nbformat": 4,
 "nbformat_minor": 4
}
