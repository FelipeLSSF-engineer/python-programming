{
 "cells": [
  {
   "cell_type": "markdown",
   "metadata": {},
   "source": [
    "# Laboratório #4\n",
    "\n",
    "### ATENCÃO\n",
    "\n",
    "1. Para cada um dos exercícios a seguir, faça o seguinte:\n",
    "    * Adicione comentários ao seu código. Os comentários servem para explicar o código, ajudando você a lembrar do que se trata aquele trecho de código, como também outras pessoas a entenderem o que foi feito.\n",
    "    * Caso o exercício involva a implementação de uma função:\n",
    "        + Coloque um comentário dizendo o que a função faz, use **docstrings**.\n",
    "        + Escolha nomes explicativos para suas funções e parâmetros.\n",
    "    \n",
    "2. Quando você terminar os exercícios do laboratório, vá ao menu do Jupyter ou Colab e selecione a opção para fazer download do notebook.\n",
    "    * Os notebooks tem extensão .ipynb. \n",
    "    * Este deve ser o arquivo que você irá entregar.\n",
    "    * No Jupyter vá até a opção **File** -> **Download as** -> **Notebook (.ipynb)**.\n",
    "    * No Colab vá até a opção **File** -> **Download .ipynb**."
   ]
  },
  {
   "cell_type": "markdown",
   "metadata": {},
   "source": [
    "**Nome**:\n",
    "\n",
    "**Matrícula**:"
   ]
  },
  {
   "cell_type": "markdown",
   "metadata": {},
   "source": [
    "## Exercícios"
   ]
  },
  {
   "cell_type": "markdown",
   "metadata": {},
   "source": [
    "#### 1)  Considere a seguinte definição de lista aninhada (ou seja, lista dentre de lista):\n",
    "\n",
    "```python\n",
    "x = [10, [3.141, 20, [30, 'baz', 2.718]], 'foo']\n",
    "```\n",
    "\n",
    "Um esquema para esta lista é mostrado abaixo:\n",
    "\n",
    "<img src=\"../figures/lab4-ex1.png\" width=\"300\" height=\"300\">\n",
    "\n",
    "Qual é a expressão que retorna o caracter 'z' na string 'baz'?"
   ]
  },
  {
   "cell_type": "code",
   "execution_count": 13,
   "metadata": {},
   "outputs": [
    {
     "name": "stdout",
     "output_type": "stream",
     "text": [
      "z\n"
     ]
    }
   ],
   "source": [
    "x = [10, [3.141, 20, [30, 'baz', 2.718]], 'foo']\n",
    "\n",
    "print(x[1][2][1][2])"
   ]
  },
  {
   "cell_type": "markdown",
   "metadata": {},
   "source": [
    "#### 2)  Considere a mesma lista aninhada do exercício anterior:\n",
    "\n",
    "```python\n",
    "x = [10, [3.141, 20, [30, 'baz', 2.718]], 'foo']\n",
    "```\n",
    "\n",
    "Qual expressão retorna a lista `['baz', 2.718]`?"
   ]
  },
  {
   "cell_type": "code",
   "execution_count": 14,
   "metadata": {},
   "outputs": [
    {
     "name": "stdout",
     "output_type": "stream",
     "text": [
      "['baz', 2.718]\n"
     ]
    }
   ],
   "source": [
    "x = [10, [3.141, 20, [30, 'baz', 2.718]], 'foo']\n",
    "\n",
    "print(x[1][2][1:3])"
   ]
  },
  {
   "cell_type": "markdown",
   "metadata": {},
   "source": [
    "#### 3)  Escreva uma função que receba 2 listas, uma com a temperatura média de cada mês do ano e outra com os meses. Após isto, a função deve calcular a média anual das temperaturas e mostrar todas as temperaturas acima da média anual, e em que mês elas ocorreram.\n",
    "\n",
    "|    Mês    | Média (°C) |\n",
    "|:---------:|:----------:|\n",
    "|  Janeiro  |     28     |\n",
    "| Fevereiro |     27     |\n",
    "|   Março   |     25     |\n",
    "|   Abril   |     20     |\n",
    "|    Maio   |     18     |\n",
    "|   Junho   |     15     |\n",
    "|   Julho   |     15     |\n",
    "|   Agosto  |     20     |\n",
    "|  Setembro |     20     |\n",
    "|  Outubro  |     25     |\n",
    "|  Novembro |     27     |\n",
    "|  Dezembro |     29     |"
   ]
  },
  {
   "cell_type": "code",
   "execution_count": 20,
   "metadata": {},
   "outputs": [
    {
     "name": "stdout",
     "output_type": "stream",
     "text": [
      "Temp. média: 22.4167 - Mês: Janeiro - Temp.: 28\n",
      "Temp. média: 22.4167 - Mês: Fevereiro - Temp.: 27\n",
      "Temp. média: 22.4167 - Mês: Março - Temp.: 25\n",
      "Temp. média: 22.4167 - Mês: Outubro - Temp.: 25\n",
      "Temp. média: 22.4167 - Mês: Novembro - Temp.: 27\n",
      "Temp. média: 22.4167 - Mês: Dezembro - Temp.: 29\n"
     ]
    }
   ],
   "source": [
    "meses = ['Janeiro', 'Fevereiro', 'Março', 'Abril', 'Maio', 'Junho', 'Julho', 'Agosto', 'Setembro', 'Outubro', 'Novembro', 'Dezembro']\n",
    "\n",
    "temp = [28,27,25,20,18,15,15,20,20,25,27,29]\n",
    "\n",
    "def tempAnual(meses, temp):\n",
    "    # Calcula a média de temperatura.\n",
    "    tAvg = 0\n",
    "    for t in temp:\n",
    "        tAvg += t\n",
    "    tAvg /= len(temp)\n",
    "    \n",
    "    # Imprime meses com temperatura acima da média anual.\n",
    "    for i in range(0,len(temp)):\n",
    "        if(temp[i] > tAvg):\n",
    "            print('Temp. média: %1.4f - Mês: %s - Temp.: %d' % (tAvg, meses[i], temp[i]))\n",
    "    \n",
    "tempAnual(meses, temp)"
   ]
  },
  {
   "cell_type": "markdown",
   "metadata": {},
   "source": [
    "#### 4)  Escreva um programa que simule o lançamento de dados. Lance o dado 1000 vezes e armazene os resultados em uma lista. Depois, imprima na tela quantas vezes cada valor foi conseguido.\n",
    "\n",
    "**Dica**: Use a função `randint(inicio,fim)` do módulo `random` (ou seja, importe o módulo `random`) para gerar um número aleatório, onde os valores de (início, fim) representam o intervalo desejado para os números a serem gerados.\n",
    "\n",
    "Exemplo: randint(1,10) → gera um número aleatório entre 1 e 10, inclusive."
   ]
  },
  {
   "cell_type": "code",
   "execution_count": 29,
   "metadata": {},
   "outputs": [
    {
     "name": "stdout",
     "output_type": "stream",
     "text": [
      "Valor 1: 167\n",
      "Valor 2: 169\n",
      "Valor 3: 162\n",
      "Valor 4: 179\n",
      "Valor 5: 162\n",
      "Valor 6: 161\n"
     ]
    }
   ],
   "source": [
    "import random\n",
    "\n",
    "N = 1000\n",
    "\n",
    "res = []\n",
    "for i in range(0,N):\n",
    "    res.append(random.randint(1,6))\n",
    "\n",
    "diceData = [0,0,0,0,0,0]\n",
    "for i in res:\n",
    "    diceData[i-1] += 1\n",
    "\n",
    "for i in range(0,len(diceData)):\n",
    "    print('Valor %d: %d' % (i+1,diceData[i]))"
   ]
  },
  {
   "cell_type": "markdown",
   "metadata": {},
   "source": [
    "#### 5) Repita o exercício número (3) utilizando tuplas ao invés de listas.  \n",
    "**Dica**: transforme a lista que você criou no exercício (3) em uma tupla."
   ]
  },
  {
   "cell_type": "code",
   "execution_count": 21,
   "metadata": {},
   "outputs": [
    {
     "name": "stdout",
     "output_type": "stream",
     "text": [
      "Temp. média: 22.4167 - Mês: Janeiro - Temp.: 28\n",
      "Temp. média: 22.4167 - Mês: Fevereiro - Temp.: 27\n",
      "Temp. média: 22.4167 - Mês: Março - Temp.: 25\n",
      "Temp. média: 22.4167 - Mês: Outubro - Temp.: 25\n",
      "Temp. média: 22.4167 - Mês: Novembro - Temp.: 27\n",
      "Temp. média: 22.4167 - Mês: Dezembro - Temp.: 29\n"
     ]
    }
   ],
   "source": [
    "meses = ['Janeiro', 'Fevereiro', 'Março', 'Abril', 'Maio', 'Junho', 'Julho', 'Agosto', 'Setembro', 'Outubro', 'Novembro', 'Dezembro']\n",
    "\n",
    "temp = [28,27,25,20,18,15,15,20,20,25,27,29]\n",
    "\n",
    "meses = tuple(meses)\n",
    "\n",
    "temp = tuple(temp)\n",
    "\n",
    "def tempAnual(meses, temp):\n",
    "    # Calcula a média de temperatura.\n",
    "    tAvg = 0\n",
    "    for t in temp:\n",
    "        tAvg += t\n",
    "    tAvg /= len(temp)\n",
    "    \n",
    "    # Imprime meses com temperatura acima da média anual.\n",
    "    for i in range(0,len(temp)):\n",
    "        if(temp[i] > tAvg):\n",
    "            print('Temp. média: %1.4f - Mês: %s - Temp.: %d' % (tAvg, meses[i], temp[i]))\n",
    "    \n",
    "tempAnual(meses, temp)"
   ]
  },
  {
   "cell_type": "markdown",
   "metadata": {},
   "source": [
    "#### 6)  Escreva um programa que utilizando os 2 conjuntos a seguir imprima a saída esperada abaixo.\n",
    "\n",
    "Os conjuntos são:\n",
    "\n",
    "```python\n",
    "s1 = set(['Python', 'Free', 'Exercises', 'Tutorials'])\n",
    "s2 = set(['Tutorials', 'Free', 'Library'])\n",
    "```\n",
    "\n",
    "Saída esperada:\n",
    "\n",
    "`A saída do programa é: {'Python', 'Exercises'}`"
   ]
  },
  {
   "cell_type": "code",
   "execution_count": 7,
   "metadata": {},
   "outputs": [
    {
     "name": "stdout",
     "output_type": "stream",
     "text": [
      "A saída do programa é: {'Exercises', 'Python'}\n"
     ]
    }
   ],
   "source": [
    "s1 = set(['Python', 'Free', 'Exercises', 'Tutorials'])\n",
    "s2 = set(['Tutorials', 'Free', 'Library'])\n",
    "\n",
    "sdiff = s1.difference(s2)\n",
    "print(\"A saída do programa é:\", sdiff)"
   ]
  },
  {
   "cell_type": "markdown",
   "metadata": {},
   "source": [
    "#### 7)  Escreva um programa que utilizando os 2 conjuntos a seguir imprima a saída esperada abaixo.\n",
    "\n",
    "Os conjuntos são:\n",
    "\n",
    "```python\n",
    "s1 = set(['Python', 'Free', 'Exercises', 'Tutorials'])\n",
    "s2 = set(['Tutorials', 'Sets', 'Library', 'List'])\n",
    "```\n",
    "\n",
    "Saída esperada:\n",
    "\n",
    "`A saída do programa é: {'Tutorials'}`"
   ]
  },
  {
   "cell_type": "code",
   "execution_count": 22,
   "metadata": {},
   "outputs": [
    {
     "name": "stdout",
     "output_type": "stream",
     "text": [
      "A saída do programa é: {'Tutorials'}\n"
     ]
    }
   ],
   "source": [
    "s1 = set(['Python', 'Free', 'Exercises', 'Tutorials'])\n",
    "s2 = set(['Tutorials', 'Sets', 'Library', 'List'])\n",
    "\n",
    "sinters = s1.intersection(s2)\n",
    "print(\"A saída do programa é:\", sinters)"
   ]
  },
  {
   "cell_type": "markdown",
   "metadata": {},
   "source": [
    "#### 8)  Escreva um programa que utilizando os 2 conjuntos a seguir imprima a saída esperada abaixo.\n",
    "\n",
    "Os conjuntos são:\n",
    "\n",
    "```python\n",
    "s1 = set(['Python', 'Free', 'Exercises', 'Tutorials'])\n",
    "s2 = set(['Tutorials', 'Free', 'Library'])\n",
    "```\n",
    "\n",
    "Saída esperada:\n",
    "\n",
    "`A saída do programa é: {'Free', 'Library', 'Python', 'Exercises', 'Tutorials'}`"
   ]
  },
  {
   "cell_type": "code",
   "execution_count": 30,
   "metadata": {},
   "outputs": [
    {
     "name": "stdout",
     "output_type": "stream",
     "text": [
      "A saída do programa é: {'Free', 'Python', 'Exercises', 'Tutorials', 'Library'}\n"
     ]
    }
   ],
   "source": [
    "s1 = set(['Python', 'Free', 'Exercises', 'Tutorials'])\n",
    "s2 = set(['Tutorials', 'Free', 'Library'])\n",
    "\n",
    "sunion = s1.union(s2)\n",
    "print(\"A saída do programa é:\", sunion)"
   ]
  },
  {
   "cell_type": "markdown",
   "metadata": {},
   "source": [
    "#### 9)  Preencha o corpo da função abaixo de tal forma que todos os testes passem.\n",
    "\n",
    "```python\n",
    "def add_fruit(inventory, fruit, quantity=0):\n",
    "    '''Adiciona frutas e sua quantidade à um inventório de frutas'''\n",
    "    pass\n",
    "\n",
    "# Cria um dicionário vazio.\n",
    "new_inventory = {}\n",
    "# Adiciona um novo item ao dicionário.\n",
    "add_fruit(new_inventory, 'strawberries', 10)\n",
    "# Teste #1.\n",
    "if 'strawberries' in new_inventory:\n",
    "    print('Teste foi bem sucedido!')\n",
    "else:\n",
    "    print('Erro.........')\n",
    "# Teste #2.\n",
    "if new_inventory['strawberries'] == 10:\n",
    "    print('Teste foi bem sucedido!')\n",
    "else:\n",
    "    print('Erro.........')\n",
    "# Atualiza a quantidade de frutas de um item do inventório.\n",
    "add_fruit(new_inventory, 'strawberries', 25)\n",
    "# Teste #2.\n",
    "if new_inventory['strawberries'] == 10:\n",
    "    print('Erro.........')\n",
    "else:\n",
    "    print('Teste foi bem sucedido!')\n",
    "```"
   ]
  },
  {
   "cell_type": "code",
   "execution_count": 37,
   "metadata": {},
   "outputs": [
    {
     "name": "stdout",
     "output_type": "stream",
     "text": [
      "Teste foi bem sucedido!\n",
      "Teste foi bem sucedido!\n",
      "Teste foi bem sucedido!\n"
     ]
    }
   ],
   "source": [
    "def add_fruit(inventory, fruit, quantity=0):\n",
    "    '''Função que adiciona frutas e sua quantidade à um inventório de frutas'''\n",
    "    inventory[fruit] = quantity\n",
    "\n",
    "# Cria um dicionário vazio.\n",
    "new_inventory = {}\n",
    "\n",
    "# Adiciona um novo item ao dicionário.\n",
    "add_fruit(new_inventory, 'strawberries', 10)\n",
    "\n",
    "# Teste #1.\n",
    "if 'strawberries' in new_inventory:\n",
    "    print('Teste foi bem sucedido!')\n",
    "else:\n",
    "    print('Erro.........')\n",
    "\n",
    "# Teste #2.\n",
    "if new_inventory['strawberries'] == 10:\n",
    "    print('Teste foi bem sucedido!')\n",
    "else:\n",
    "    print('Erro.........')\n",
    "\n",
    "# Atualiza a quantidade de frutas de um item do inventório.\n",
    "add_fruit(new_inventory, 'strawberries', 25)\n",
    "\n",
    "# Teste #2.\n",
    "if new_inventory['strawberries'] == 10:\n",
    "    print('Erro.........')\n",
    "else:\n",
    "    print('Teste foi bem sucedido!')"
   ]
  },
  {
   "cell_type": "markdown",
   "metadata": {},
   "source": [
    "#### 10)  Suponha que `x` seja definido da seguinte forma:\n",
    "\n",
    "```python\n",
    "x = [\n",
    "    'a',\n",
    "    'b',\n",
    "    {\n",
    "        'foo': 1,\n",
    "        'bar':\n",
    "        {\n",
    "            'x' : 10,\n",
    "            'y' : 20,\n",
    "            'z' : 30\n",
    "        },\n",
    "        'baz': 3\n",
    "    },\n",
    "    'c',\n",
    "    'd'\n",
    "]\n",
    "```\n",
    "\n",
    "Qual é a expressão envolvendo `x` que acessa o valor `30`?"
   ]
  },
  {
   "cell_type": "code",
   "execution_count": 39,
   "metadata": {},
   "outputs": [
    {
     "name": "stdout",
     "output_type": "stream",
     "text": [
      "30\n"
     ]
    }
   ],
   "source": [
    "x = [\n",
    "    'a',\n",
    "    'b',\n",
    "    {\n",
    "        'foo': 1,\n",
    "        'bar':\n",
    "        {\n",
    "            'x' : 10,\n",
    "            'y' : 20,\n",
    "            'z' : 30\n",
    "        },\n",
    "        'baz': 3\n",
    "    },\n",
    "    'c',\n",
    "    'd'\n",
    "]\n",
    "\n",
    "print(x[2]['bar']['z'])"
   ]
  },
  {
   "cell_type": "markdown",
   "metadata": {},
   "source": [
    "A seguinte tabela contém a tradução de algumas palavras em inglês para a língua dos piratas.\n",
    "\n",
    "|   Inglês   |    Piratês    |\n",
    "|:----------:|:-------------:|\n",
    "|     sir    |     matey     |\n",
    "|    hotel   |  fleabag inn  |\n",
    "|   student  |    swabbie    |\n",
    "|     boy    |     matey     |\n",
    "|    madam   |  proud beauty |\n",
    "|  professor | foul blaggart |\n",
    "| restaurant |     galley    |\n",
    "|    your    |      yer      |\n",
    "|   excuse   |      arr      |\n",
    "|  students  |    swabbies   |\n",
    "|     are    |       be      |\n",
    "|   lawyer   | foul blaggart |\n",
    "|     the    |      th’      |\n",
    "|  restroom  |      head     |\n",
    "|     my     |       me      |\n",
    "|    hello   |     avast     |\n",
    "|     is     |       be      |\n",
    "|     man    |     matey     |\n",
    "\n",
    "Escreva uma função que receba uma frase em inglês e imprime a tradução da frase para a língua dos piratas."
   ]
  },
  {
   "cell_type": "code",
   "execution_count": 50,
   "metadata": {},
   "outputs": [
    {
     "name": "stdout",
     "output_type": "stream",
     "text": [
      "swabbie be matey\n"
     ]
    }
   ],
   "source": [
    "def translatePirates(dicionario, frase):\n",
    "    pirate_phrase = []\n",
    "    words = frase.split(' ')\n",
    "    for word in words:\n",
    "        if word in dicionario:\n",
    "            pirate_phrase.append(dicionario[word])\n",
    "        else:\n",
    "            pirate_word.append(word)\n",
    "    return pirate_phrase\n",
    "\n",
    "dicionario = {'sir':'matey','hotel':'fleabag inn','student':'swabbie','boy':'matey','madam':'proud beauty','professor':'foul blaggart','restaurant':'galley','your':'yer','excuse':'arr','students':'swabbies','are':'be','lawyer':'foul blaggart','the':'th’','restroom':'head','my':'me','hello':'avast','is':'be','man':'matey'}\n",
    "\n",
    "pirate_phrase = translatePirates(dicionario, 'student is man')\n",
    "\n",
    "print(\" \".join(pirate_phrase) )"
   ]
  }
 ],
 "metadata": {
  "kernelspec": {
   "display_name": "Python 3",
   "language": "python",
   "name": "python3"
  },
  "language_info": {
   "codemirror_mode": {
    "name": "ipython",
    "version": 3
   },
   "file_extension": ".py",
   "mimetype": "text/x-python",
   "name": "python",
   "nbconvert_exporter": "python",
   "pygments_lexer": "ipython3",
   "version": "3.7.7"
  }
 },
 "nbformat": 4,
 "nbformat_minor": 4
}
