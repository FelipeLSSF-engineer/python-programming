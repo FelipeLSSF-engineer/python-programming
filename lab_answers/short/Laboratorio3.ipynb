{
 "cells": [
  {
   "cell_type": "markdown",
   "metadata": {},
   "source": [
    "# Laboratório #3\n",
    "\n",
    "### ATENCÃO\n",
    "\n",
    "1. Para cada um dos exercícios a seguir, faça o seguinte:\n",
    "    * Adicione comentários ao seu código. Os comentários servem para explicar o código, ajudando você a lembrar do que se trata aquele trecho de código, como também outras pessoas a entenderem o que foi feito.\n",
    "    * Caso o exercício involva a implementação de uma função:\n",
    "        + Coloque um comentário dizendo o que a função faz, use **docstrings**.\n",
    "        + Escolha nomes explicativos para suas funções e parâmetros.\n",
    "    \n",
    "2. Quando você terminar os exercícios do laboratório, vá ao menu do Jupyter ou Colab e selecione a opção para fazer download do notebook.\n",
    "    * Os notebooks tem extensão .ipynb. \n",
    "    * Este deve ser o arquivo que você irá entregar.\n",
    "    * No Jupyter vá até a opção **File** -> **Download as** -> **Notebook (.ipynb)**.\n",
    "    * No Colab vá até a opção **File** -> **Download .ipynb**.\n",
    "3. Após o download do notebook, vá até a aba de tarefas do MS Teams, localize a tarefa referente a este laboratório e faça o upload do seu notebook. Veja que há uma opção de anexar arquivos à tarefa."
   ]
  },
  {
   "cell_type": "markdown",
   "metadata": {},
   "source": [
    "**Nome**:\n",
    "\n",
    "**Matrícula**:"
   ]
  },
  {
   "cell_type": "markdown",
   "metadata": {},
   "source": [
    "## Exercícios"
   ]
  },
  {
   "cell_type": "markdown",
   "metadata": {},
   "source": [
    "#### 1) Exercício sobre controle de fluxo, operadores lógicos e de comparação.\n",
    "\n",
    "Implemente uma função chamada `calcularMédia` que receba duas notas parciais, `nota1` e `nota2`, recebidas por um aluno ao longo do semestre. A atribuição de conceitos obedece à tabela abaixo: \n",
    "\n",
    "| Média de Aproveitamento | Conceito |\n",
    "|:-----------------------:|:--------:|\n",
    "|     Entre 9.0 e 10.0    |     A    |\n",
    "|     Entre 7.5 e 9.0     |     B    |\n",
    "|     Entre 6.0 e 7.5     |     C    |\n",
    "|     Entre 4.0 e 6.0     |     D    |\n",
    "|     Entre 4.0 e zero    |     E    |\n",
    "\n",
    "A função deve calcular a média alcançada pelo aluno e imprimir na tela:\n",
    "+ as 2 notas recebidas pelo aluno\n",
    "+ a média das 2 notas\n",
    "+ o conceito correspondente\n",
    "+ e a mensagem “APROVADO” se o conceito for A, B ou C ou “REPROVADO” se o conceito for D ou E.\n",
    "\n",
    "Teste a função com os seguintes exemplos:\n",
    "\n",
    "```python\n",
    "calcularMédia(1, 1)\n",
    "calcularMédia(5, 5)\n",
    "calcularMédia(6, 6)\n",
    "calcularMédia(8, 8)\n",
    "calcularMédia(10, 10)\n",
    "```"
   ]
  },
  {
   "cell_type": "code",
   "execution_count": 11,
   "metadata": {},
   "outputs": [
    {
     "name": "stdout",
     "output_type": "stream",
     "text": [
      "Nota 1: 1.00 - Nota 2: 1.00 - Média: 1.00 - Conceito: E - Resultado: REPROVADO\n",
      "Nota 1: 5.00 - Nota 2: 5.00 - Média: 5.00 - Conceito: D - Resultado: REPROVADO\n",
      "Nota 1: 6.00 - Nota 2: 6.00 - Média: 6.00 - Conceito: C - Resultado: APROVADO\n",
      "Nota 1: 8.00 - Nota 2: 8.00 - Média: 8.00 - Conceito: B - Resultado: APROVADO\n",
      "Nota 1: 10.00 - Nota 2: 10.00 - Média: 10.00 - Conceito: A - Resultado: APROVADO\n"
     ]
    }
   ],
   "source": [
    "def calcularMédia(nota1, nota2):\n",
    "    '''Função que calcula a media e retorna conceito e se aprovado ou reprovado.'''\n",
    "    media = (nota1+nota2)/2\n",
    "    if(media >= 9.0):\n",
    "        conceito = 'A'\n",
    "        resultado = 'APROVADO'\n",
    "    elif(media >= 7.5 and media < 9.0):\n",
    "        conceito = 'B'\n",
    "        resultado = 'APROVADO'\n",
    "    elif(media >= 6.0 and media < 7.5):\n",
    "        conceito = 'C'\n",
    "        resultado = 'APROVADO'\n",
    "    elif(media >= 4.0 and media < 6.0):\n",
    "        conceito = 'D'\n",
    "        resultado = 'REPROVADO'\n",
    "    else:\n",
    "        conceito = 'E'\n",
    "        resultado = 'REPROVADO'\n",
    "        \n",
    "    print('Nota 1: %1.2f - Nota 2: %1.2f - Média: %1.2f - Conceito: %s - Resultado: %s' % (nota1, nota2,media,conceito,resultado))\n",
    "        \n",
    "calcularMédia(1, 1)\n",
    "calcularMédia(5, 5)\n",
    "calcularMédia(6, 6)\n",
    "calcularMédia(8, 8)\n",
    "calcularMédia(10, 10)"
   ]
  },
  {
   "cell_type": "markdown",
   "metadata": {},
   "source": [
    "#### 2) Exercício sobre controle de fluxo e operadores de associação.\n",
    "\n",
    "Implemente uma função chamada `éVogal` que receba uma letra como argumento de entrada e que verifique se essa letra é uma vogal ou consoante. Use os operadores de associação para verificar se a letra digitada está presente em uma lista de vogais.\n",
    "\n",
    "Teste a função com os seguintes exemplos:\n",
    "\n",
    "```python\n",
    "éVogal('v')\n",
    "éVogal('A')\n",
    "```"
   ]
  },
  {
   "cell_type": "code",
   "execution_count": 5,
   "metadata": {},
   "outputs": [
    {
     "name": "stdout",
     "output_type": "stream",
     "text": [
      "v NÃO é uma vogal.\n",
      "A é uma vogal.\n"
     ]
    }
   ],
   "source": [
    "def éVogal(v):\n",
    "    '''Função que verifica se uma letra é uma vogal.'''\n",
    "    vowels = ['a', 'e', 'i', 'o', 'u']\n",
    "    if v.lower() in vowels:\n",
    "        print('%s é uma vogal.' % (v))\n",
    "    else:\n",
    "        print('%s NÃO é uma vogal.' % (v))\n",
    "    \n",
    "éVogal('v')\n",
    "éVogal('A')"
   ]
  },
  {
   "cell_type": "markdown",
   "metadata": {},
   "source": [
    "#### 3)  Exercício sobre laços de repetição.\n",
    "\n",
    "Supondo que a população de um país A seja de 80000 habitantes com uma taxa anual de crescimento de 3% e que a população de um país B seja de 200000 habitantes com uma taxa de crescimento de 1.5%. \n",
    "\n",
    "1. Escreva um programa que calcule e imprima o número de anos necessários para que a população do país A ultrapasse ou iguale a população do país B, mantidas as taxas de crescimento. \n",
    "2. Quantos anos são necessário para que a população do pais A ultrapasse a população do país B? \n",
    "3. Qual a população de ambos países após esse número de anos?"
   ]
  },
  {
   "cell_type": "code",
   "execution_count": 10,
   "metadata": {},
   "outputs": [
    {
     "name": "stdout",
     "output_type": "stream",
     "text": [
      "Quantos anos para população de A ultrapassar a de B? 63\n",
      "População de A após 63 anos?: 515033.10\n",
      "População de B após 63 anos?: 510964.42\n"
     ]
    }
   ],
   "source": [
    "populaçãoA = 80000\n",
    "ATaxa = 3.0/100.0\n",
    "populaçãoB = 200000\n",
    "BTaxa = 1.5/100.0\n",
    "\n",
    "anos = 0\n",
    "while(populaçãoA < populaçãoB):\n",
    "    populaçãoA = populaçãoA + populaçãoA*ATaxa\n",
    "    populaçãoB = populaçãoB + populaçãoB*BTaxa\n",
    "    anos = anos + 1\n",
    "    \n",
    "print('Quantos anos para população de A ultrapassar a de B?', anos)\n",
    "print('População de A após %d anos?: %1.2f' % (anos, populaçãoA))\n",
    "print('População de B após %d anos?: %1.2f' % (anos, populaçãoB))"
   ]
  },
  {
   "cell_type": "markdown",
   "metadata": {},
   "source": [
    "#### 4)  Exercício sobre laços de repetição.\n",
    "\n",
    "Implemente uma função chamada `exponenciacão` que receba 2 argumentos de entrada, `base` e `expoente`, calcule e imprima na tela o primeiro número elevado ao segundo número, ou seja, $base^{expoente}$. \n",
    "\n",
    "**OBS**.: Não utilize a função de potênciação da linguagem Python, utilize apenas laços de repetição.\n",
    "\n",
    "Teste a função com os seguintes exemplos:\n",
    "\n",
    "```python\n",
    "print(exponenciacao(2, 0))\n",
    "print(exponenciacao(2, 1))\n",
    "print(exponenciacao(2, 2))\n",
    "print(exponenciacao(2, 3))\n",
    "print(exponenciacao(2, 4))\n",
    "```"
   ]
  },
  {
   "cell_type": "code",
   "execution_count": 8,
   "metadata": {},
   "outputs": [
    {
     "name": "stdout",
     "output_type": "stream",
     "text": [
      "1\n",
      "2\n",
      "4\n",
      "8\n",
      "16\n"
     ]
    }
   ],
   "source": [
    "def exponenciacão(base, expoente):\n",
    "    '''Função que calcula o valor de uma base elevado a um expoente.'''\n",
    "    ret = 1\n",
    "    for i in range(0, expoente):\n",
    "        ret *= base\n",
    "    return ret\n",
    "\n",
    "print(exponenciacão(2, 0))\n",
    "print(exponenciacão(2, 1))\n",
    "print(exponenciacão(2, 2))\n",
    "print(exponenciacão(2, 3))\n",
    "print(exponenciacão(2, 4))"
   ]
  },
  {
   "cell_type": "markdown",
   "metadata": {},
   "source": [
    "### Desafio (exercício para casa)"
   ]
  },
  {
   "cell_type": "markdown",
   "metadata": {},
   "source": [
    "#### 5) A série de Fibonacci é gerada através da seguinte equação $F_n = F_{n-1} + F_{n-2}$, onde os 2 primeiros termos são iguais a $F_{0} = 0$ e $F_{1} = 1$, respectivamente. Todos os outros termos são obtidos adicionando-se os dois termos anteriores. Os primeiros valores da série são: 0,1, 1, 2, 3, 5, 8, 13, 21, 34, 55, 89, 144, 233, 377, 610, 987, 1597, 2584, e assim por diante. Desta forma, escreva um programa que gere e imprima na tela a série de Fibonacci até que o valor gerado seja maior que 100000."
   ]
  },
  {
   "cell_type": "code",
   "execution_count": 13,
   "metadata": {},
   "outputs": [
    {
     "name": "stdout",
     "output_type": "stream",
     "text": [
      "0,1,1,2,3,5,8,13,21,34,55,89,144,233,377,610,987,1597,2584,4181,6765,10946,17711,28657,46368,75025,121393"
     ]
    }
   ],
   "source": [
    "fb = [0, 1]\n",
    "inc = 0\n",
    "f = 0\n",
    "while f < 100000:\n",
    "    if inc < 2:\n",
    "        f = fb[inc]\n",
    "    else:\n",
    "        f = fb[0] + fb[1]\n",
    "        fb[0] = fb[1]\n",
    "        fb[1] = f\n",
    "    inc += 1\n",
    "    print('%d' % (f), end='')\n",
    "    if(f < 100000):\n",
    "        print(',', end='')\n",
    "    else:\n",
    "        print('', end='')"
   ]
  }
 ],
 "metadata": {
  "kernelspec": {
   "display_name": "Python 3",
   "language": "python",
   "name": "python3"
  },
  "language_info": {
   "codemirror_mode": {
    "name": "ipython",
    "version": 3
   },
   "file_extension": ".py",
   "mimetype": "text/x-python",
   "name": "python",
   "nbconvert_exporter": "python",
   "pygments_lexer": "ipython3",
   "version": "3.7.7"
  }
 },
 "nbformat": 4,
 "nbformat_minor": 4
}
