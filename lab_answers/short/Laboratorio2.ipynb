{
 "cells": [
  {
   "cell_type": "markdown",
   "metadata": {},
   "source": [
    "# Laboratório #2\n",
    "\n",
    "### ATENCÃO\n",
    "\n",
    "1. Para cada um dos exercícios a seguir, faça o seguinte:\n",
    "    * Coloque um comentário dizendo o que a função faz, use **docstrings**.\n",
    "        + **docstrings** são os comentários de múltiplas linhas que aparecem logo após o cabeçalho da função.\n",
    "    * Escolha nomes explicativos para suas funções e parâmetros.\n",
    "2. Quando você terminar os exercícios do laboratório, vá ao menu do Jupyter ou Colab e selecione a opção para fazer download do notebook.\n",
    "    * Os notebooks tem extensão .ipynb. \n",
    "    * Este deve ser o arquivo que você irá entregar.\n",
    "    * No Jupyter vá até a opção **File** -> **Download as** -> **Notebook (.ipynb)**.\n",
    "    * No Colab vá até a opção **File** -> **Download .ipynb**.\n",
    "3. Após o download do notebook, vá até a aba de tarefas do MS Teams, localize a tarefa referente a este laboratório e faça o upload do seu notebook. Veja que há uma opção de anexar arquivos à tarefa."
   ]
  },
  {
   "cell_type": "markdown",
   "metadata": {},
   "source": [
    "**Nome**:\n",
    "\n",
    "**Matrícula**:"
   ]
  },
  {
   "cell_type": "markdown",
   "metadata": {},
   "source": [
    "## Exercícios"
   ]
  },
  {
   "cell_type": "markdown",
   "metadata": {},
   "source": [
    "#### 1. Exercício sobre tipos de dados em Python.\n",
    "\n",
    "Para este exercício, faça o seguinte:\n",
    "\n",
    "    1. Atribua um valor inteiro a uma variável chamada `ano_corrente` e imprima seu valor e tipo com a função `print`.\n",
    "    2. Atribua um valor em ponto flutuante a uma variável chamada `preço` e imprima com seu valor e tipo com a função `print`.\n",
    "    3. Atribua um valor booleano a uma variável chamada `resultado` e imprima seu valor e tipo com a função `print`.\n",
    "    4. Atribua uma sequência de caracteres a uma variável chamada `nome` e imprima seu valor e tipo com a função `print`.\n",
    "\n",
    "**Dica**: use a função embutida `type()` para obter o tipo da variável."
   ]
  },
  {
   "cell_type": "code",
   "execution_count": 23,
   "metadata": {},
   "outputs": [
    {
     "name": "stdout",
     "output_type": "stream",
     "text": [
      "Valor da variável é: 2021 e seu tipo é <class 'int'>\n",
      "Valor da variável é: 2.81 e seu tipo é <class 'float'>\n",
      "Valor da variável é: True e seu tipo é <class 'bool'>\n",
      "Valor da variável é: João e seu tipo é <class 'str'>\n"
     ]
    }
   ],
   "source": [
    "# Escreva o código do exercício aqui.\n",
    "\n",
    "ano_corrente = 2021\n",
    "print('Valor da variável é: %s e seu tipo é %s' % (ano_corrente,type(ano_corrente)))\n",
    "\n",
    "preço = 2.81\n",
    "print('Valor da variável é: %s e seu tipo é %s' % (preço,type(preço)))\n",
    "\n",
    "resultado = True\n",
    "print('Valor da variável é: %s e seu tipo é %s' % (resultado,type(resultado)))\n",
    "\n",
    "nome = 'João'\n",
    "print('Valor da variável é: %s e seu tipo é %s' % (nome,type(nome)))"
   ]
  },
  {
   "cell_type": "markdown",
   "metadata": {},
   "source": [
    "#### 2. Exercício sobre tipos de dados em Python.\n",
    "\n",
    "Para este exercício, faça o seguinte:\n",
    "\n",
    "    1. Atribua um valor inteiro a uma variável chamada `a`.\n",
    "    2. Imprima o tipo da variável `a`.\n",
    "    3. Atribua um outro valor inteiro a uma variável chamada `b`.\n",
    "    4. Imprima o tipo da variável `b`.\n",
    "    5. Atribua o resultado da divisão entre `a` e `b` a uma variável chamada `c`.\n",
    "    6. Imprima o tipo da variável `c`.\n",
    "    \n",
    "Qual o tipo da variável `c`? Qual seria o tipo da variável `c` se tivéssemos usado uma divisão inteira, ou seja, `\\\\` ?\n",
    "\n",
    "**Dica**: use a função embutida `type()` para obter o tipo da variável."
   ]
  },
  {
   "cell_type": "code",
   "execution_count": 24,
   "metadata": {},
   "outputs": [
    {
     "name": "stdout",
     "output_type": "stream",
     "text": [
      "<class 'int'>\n",
      "<class 'int'>\n",
      "<class 'float'>\n",
      "<class 'int'>\n"
     ]
    }
   ],
   "source": [
    "# Escreva o código do exercício aqui.\n",
    "\n",
    "a = 1\n",
    "print(type(a))\n",
    "\n",
    "b = 1\n",
    "print(type(b))\n",
    "\n",
    "c = a/b\n",
    "print(type(c))\n",
    "\n",
    "c = a//b\n",
    "print(type(c))"
   ]
  },
  {
   "cell_type": "markdown",
   "metadata": {},
   "source": [
    "#### 3)  Exercício sobre operadores aritméticos.\n",
    "\n",
    "Implemente uma função chamada `quadrado` que recebe um número e retorna o seu quadrado.\n",
    "\n",
    "Teste sua função com os seguintes exemplos:\n",
    "```python\n",
    "print(quadrado(1))\n",
    "print(quadrado(2))\n",
    "```\n",
    "\n",
    "**OBS**.: não se esqueça de adicionar a **docstring** explicando o que sua função faz."
   ]
  },
  {
   "cell_type": "code",
   "execution_count": 25,
   "metadata": {},
   "outputs": [
    {
     "name": "stdout",
     "output_type": "stream",
     "text": [
      "1\n",
      "4\n"
     ]
    }
   ],
   "source": [
    "def quadrado(a):\n",
    "    '''Função que retorna o quadrado do valor em a'''\n",
    "    return a**2\n",
    "\n",
    "print(quadrado(1))\n",
    "print(quadrado(2))"
   ]
  },
  {
   "cell_type": "markdown",
   "metadata": {},
   "source": [
    "#### 4)  Exercício sobre operadores aritméticos.\n",
    "\n",
    "Implemente uma função chamada `volumeEsfera` que recebe o raio de uma esfera e retorne seu volume. O volume de uma esfera é calculado com a equação:\n",
    "\n",
    "$$V = \\frac{3}{4} \\pi r^3,$$ onde $r$ é o raio da esfera.\n",
    "\n",
    "Teste sua função com os seguintes exemplos:\n",
    "```python\n",
    "print(volumeEsfera(1))\n",
    "print(volumeEsfera(2))\n",
    "```\n",
    "\n",
    "**OBS**.: não se esqueça de adicionar a **docstring** explicando o que sua função faz."
   ]
  },
  {
   "cell_type": "code",
   "execution_count": 26,
   "metadata": {},
   "outputs": [
    {
     "name": "stdout",
     "output_type": "stream",
     "text": [
      "4.1866666666666665\n",
      "33.49333333333333\n"
     ]
    }
   ],
   "source": [
    "def volumeEsfera(raio):\n",
    "    pi = 3.14\n",
    "    v = (4/3)*pi*raio**3\n",
    "    return v\n",
    "\n",
    "print(volumeEsfera(1))\n",
    "print(volumeEsfera(2))"
   ]
  },
  {
   "cell_type": "markdown",
   "metadata": {},
   "source": [
    "#### 5) Exercício sobre módulos e pacotes.\n",
    "\n",
    "Uma das várias bibliotecas disponibilizadas pelo ecossistema Python é a biblioteca `numpy`. Essa biblioteca implementa várias operações matemáticas importantes, entre elas a operação de raiz quadrada, a qual é implementada pela função `sqrt()`.\n",
    "\n",
    "Agora faça o seguinte:\n",
    "\n",
    "    1. Importe a biblioteca `numpy`.\n",
    "    2. Calcule e imprima a raíz quadrada de 4.\n",
    "    3. Crie o apelido `np`para a biblioteca `numpy`.\n",
    "    4. Calcule e imprima a raíz quadrada de 9 utilizando o apelido da biblioteca.\n",
    "    5. Importe apenas a função `sqrt()`.\n",
    "    6. Calcule e imprima a raíz quadrada de 49.\n",
    "\n",
    "**OBS**.: uma biblioteca pode ser um módulo ou um pacote."
   ]
  },
  {
   "cell_type": "code",
   "execution_count": 29,
   "metadata": {},
   "outputs": [
    {
     "name": "stdout",
     "output_type": "stream",
     "text": [
      "2.0\n",
      "3.0\n",
      "7.0\n"
     ]
    }
   ],
   "source": [
    "import numpy\n",
    "\n",
    "print(numpy.sqrt(4))\n",
    "\n",
    "import numpy as np\n",
    "\n",
    "print(np.sqrt(9))\n",
    "\n",
    "from numpy import sqrt\n",
    "\n",
    "print(sqrt(49))"
   ]
  },
  {
   "cell_type": "markdown",
   "metadata": {},
   "source": [
    "#### 6) Exercício sobre strings.\n",
    "\n",
    "Implemente uma função chamada `alterarChar` que retorne uma string a partir de uma  string de entrada onde todas as ocorrências de seu primeiro caractere devem ser alteradas para `$`, exceto o próprio primeiro caractere.\n",
    "\n",
    "Teste sua função com o seguinte código:\n",
    "\n",
    "```python\n",
    "print(alterarChar('restart'))\n",
    "```"
   ]
  },
  {
   "cell_type": "code",
   "execution_count": 31,
   "metadata": {},
   "outputs": [
    {
     "name": "stdout",
     "output_type": "stream",
     "text": [
      "resta$t\n"
     ]
    }
   ],
   "source": [
    "def alterarChar(str1):\n",
    "    char = str1[0]\n",
    "    str1 = str1.replace(char, '$')\n",
    "    str1 = char + str1[1:]\n",
    "    return str1\n",
    "\n",
    "print(alterarChar('restart'))"
   ]
  },
  {
   "cell_type": "markdown",
   "metadata": {},
   "source": [
    "#### 7) Exercício sobre strings.\n",
    "\n",
    "Implemente uma função chamada `removerCaracter` que remove o enésimo caracter  de uma string passada como entrada para a função.\n",
    "\n",
    "Teste sua função com o seguinte código:\n",
    "\n",
    "```python\n",
    "print(removerCaracter('Python', 0))\n",
    "print(removerCaracter('Python', 3))\n",
    "print(removerCaracter('Python', 5))\n",
    "```"
   ]
  },
  {
   "cell_type": "code",
   "execution_count": 36,
   "metadata": {},
   "outputs": [
    {
     "name": "stdout",
     "output_type": "stream",
     "text": [
      "ython\n",
      "Pyton\n",
      "Pytho\n"
     ]
    }
   ],
   "source": [
    "def removerCaracter(str1, n):\n",
    "    primeiraParte = str1[0:n] \n",
    "    ultimaParte = str1[n+1:len(str1)]\n",
    "    return primeiraParte + ultimaParte\n",
    "\n",
    "print(removerCaracter('Python', 0))\n",
    "print(removerCaracter('Python', 3))\n",
    "print(removerCaracter('Python', 5))"
   ]
  },
  {
   "cell_type": "markdown",
   "metadata": {},
   "source": [
    "#### 8) Exercício sobre mensagens de erro.\n",
    "\n",
    "Corrija o código abaixo até que ele não gere mais nenhum erro."
   ]
  },
  {
   "cell_type": "code",
   "execution_count": 40,
   "metadata": {},
   "outputs": [
    {
     "name": "stdout",
     "output_type": "stream",
     "text": [
      "2.0\n"
     ]
    }
   ],
   "source": [
    "def dividir(a,b):\n",
    "    return a/b\n",
    "\n",
    "print(dividir(4,2))"
   ]
  },
  {
   "cell_type": "code",
   "execution_count": null,
   "metadata": {},
   "outputs": [],
   "source": []
  }
 ],
 "metadata": {
  "kernelspec": {
   "display_name": "Python 3",
   "language": "python",
   "name": "python3"
  },
  "language_info": {
   "codemirror_mode": {
    "name": "ipython",
    "version": 3
   },
   "file_extension": ".py",
   "mimetype": "text/x-python",
   "name": "python",
   "nbconvert_exporter": "python",
   "pygments_lexer": "ipython3",
   "version": "3.7.7"
  }
 },
 "nbformat": 4,
 "nbformat_minor": 4
}
