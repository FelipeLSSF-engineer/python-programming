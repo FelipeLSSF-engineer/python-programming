{
 "cells": [
  {
   "cell_type": "markdown",
   "metadata": {},
   "source": [
    "# Laboratório #1\n",
    "\n",
    "### ATENCÃO\n",
    "\n",
    "1. Para cada um dos exercícios a seguir, faça o seguinte:\n",
    "    * Coloque um comentário dizendo o que a função faz, use **docstrings**.\n",
    "        + **docstrings** são os comentários de múltiplas linhas que aparecem logo após o cabeçalho da função.\n",
    "    * Escolha nomes explicativos para suas funções e parâmetros.\n",
    "2. Quando você terminar os exercícios do laboratório, vá ao menu do Jupyter ou Colab e selecione a opção para fazer download do notebook.\n",
    "    * Os notebooks tem extensão .ipynb. \n",
    "    * Este deve ser o arquivo que você irá entregar.\n",
    "    * No Jupyter vá até a opção **File** -> **Download as** -> **Notebook (.ipynb)**.\n",
    "    * No Colab vá até a opção **File** -> **Download .ipynb**.\n",
    "3. Após o download do notebook, vá até a aba de tarefas do MS Teams, localize a tarefa referente a este laboratório e faça o upload do seu notebook. Veja que há uma opção de anexar arquivos à tarefa."
   ]
  },
  {
   "cell_type": "markdown",
   "metadata": {},
   "source": [
    "**Nome**:\n",
    "\n",
    "**Matrícula**:"
   ]
  },
  {
   "cell_type": "markdown",
   "metadata": {},
   "source": [
    "## Exercícios"
   ]
  },
  {
   "cell_type": "markdown",
   "metadata": {},
   "source": [
    "#### 1)  Implemente 4 funções diferentes que recebam dois valores, x e y, e retornem o resultado das seguintes operações:\n",
    "\n",
    "1. soma: 2 + 3 = 5\n",
    "```python\n",
    "print('O resultado da soma é:', soma(2,3))\n",
    "```\n",
    "\n",
    "2. subtração: 7 – 4 = 3\n",
    "```python\n",
    "print('O resultado da subtração é:', subtração(7,4))\n",
    "```\n",
    "\n",
    "3. divisão: 8 / 2 = 4\n",
    "```python\n",
    "print('O resultado da divisão é:', divisão(8,2))\n",
    "```\n",
    "\n",
    "4. produto: 3 * 5 = 15\n",
    "```python\n",
    "print('O resultado do produto é:', produto(3,5))\n",
    "```\n",
    "\n",
    "**Operadores artiméticos**\n",
    "\n",
    "Abaixo segue a lista de operadores aritméticos usados em Python.\n",
    "\n",
    "| Operador |       Nome      |  Exemplo | Resultado |\n",
    "|:--------:|:---------------:|:--------:|:---------:|\n",
    "|     +    |      Adição     |   a = 1 + 1  |     2     |\n",
    "|     -    |    Subtração    |   a = 2 - 1  |     1     |\n",
    "|     *    |  Multiplicação  |   a = 2 * 2  |     4     |\n",
    "|     /    |     Divisão     |  a = 100 / 4 |    25.0   |\n",
    "|     %    |      Módulo     |   a = 5 % 3  |     2     |\n",
    "|    **    |  Exponenciação  |  a = 2 ** 3  |     8     |\n",
    "|    //    | Divisão inteira | a = 100 // 4 |     25    |\n",
    "\n",
    "**OBS.: Não se esqueça de depois de implementar as funções, invocá-las com alguns valores de teste como mostrado acima.**"
   ]
  },
  {
   "cell_type": "code",
   "execution_count": 5,
   "metadata": {},
   "outputs": [
    {
     "name": "stdout",
     "output_type": "stream",
     "text": [
      "O resultado da soma é: 5\n"
     ]
    }
   ],
   "source": [
    "# Defina aqui o código da função 'soma' e em seguida \n",
    "# a invoque com alguns valores de teste.\n",
    "\n",
    "def soma(a,b):\n",
    "    '''Função que soma os valores em a e b'''\n",
    "    return a+b\n",
    "\n",
    "print('O resultado da soma é:', soma(2,3))"
   ]
  },
  {
   "cell_type": "code",
   "execution_count": 6,
   "metadata": {},
   "outputs": [
    {
     "name": "stdout",
     "output_type": "stream",
     "text": [
      "O resultado da subtração é: 3\n"
     ]
    }
   ],
   "source": [
    "# Defina aqui o código da função 'subtração' e em seguida \n",
    "# a invoque com alguns valores de teste.\n",
    "\n",
    "def subtração(a,b):\n",
    "    '''Função que subtrai os valores em a e b'''\n",
    "    return a-b\n",
    "\n",
    "print('O resultado da subtração é:', subtração(7,4))"
   ]
  },
  {
   "cell_type": "code",
   "execution_count": 7,
   "metadata": {},
   "outputs": [
    {
     "name": "stdout",
     "output_type": "stream",
     "text": [
      "O resultado da divisão é: 4.0\n"
     ]
    }
   ],
   "source": [
    "# Defina aqui o código da função 'divisão' e em seguida \n",
    "# a invoque com alguns valores de teste.\n",
    "\n",
    "def divisão(a,b):\n",
    "    '''Função que divide os valores em a e b'''\n",
    "    return a/b\n",
    "\n",
    "print('O resultado da divisão é:', divisão(8,2))"
   ]
  },
  {
   "cell_type": "code",
   "execution_count": 8,
   "metadata": {},
   "outputs": [
    {
     "name": "stdout",
     "output_type": "stream",
     "text": [
      "O resultado do produto é: 15\n"
     ]
    }
   ],
   "source": [
    "# Defina aqui o código da função 'produto' e em seguida \n",
    "# a invoque com alguns valores de teste.\n",
    "\n",
    "def produto(a,b):\n",
    "    '''Função que multiplica os valores em a e b'''\n",
    "    return a*b\n",
    "\n",
    "print('O resultado do produto é:', produto(3,5))"
   ]
  },
  {
   "cell_type": "markdown",
   "metadata": {},
   "source": [
    "#### 2) Dado o valor da conta de um restaurante, crie uma função chamada de `gorjeta` que calcule o valor da gorjeta do garçom, considerando que a gorjeta é de 10% do valor da conta.\n",
    "\n",
    "**OBS.: Não se esqueça de depois de implementar a função, invocá-la com algum valor de teste como mostrado abaixo.**\n",
    "\n",
    "```python\n",
    "print('O valor da gorjeta é de:', gorjeta(100))\n",
    "```"
   ]
  },
  {
   "cell_type": "code",
   "execution_count": 9,
   "metadata": {},
   "outputs": [
    {
     "name": "stdout",
     "output_type": "stream",
     "text": [
      "O valor da gorjeta é de: 10.055\n",
      "O valor da gorjeta é de: 0.233\n"
     ]
    }
   ],
   "source": [
    "def gorjeta(conta):\n",
    "    '''Função que calcula o valor da gorjeta'''\n",
    "    return conta*(10/100)\n",
    "\n",
    "print('O valor da gorjeta é de:', gorjeta(100.55))\n",
    "print('O valor da gorjeta é de:', gorjeta(2.33))"
   ]
  },
  {
   "cell_type": "markdown",
   "metadata": {},
   "source": [
    "#### 3)  Execute o código abaixo, veja que ocorre um erro. Em seguida, corrija os erros até que eles não ocorram mais.\n",
    "\n",
    "**Dica**: Lembre-se do que foi discutido sobre as diferenças entre o Python e outras linguagens de programação e sobre a definição de funções."
   ]
  },
  {
   "cell_type": "code",
   "execution_count": 10,
   "metadata": {},
   "outputs": [
    {
     "name": "stdout",
     "output_type": "stream",
     "text": [
      "A função foo retorna o valor:  7\n"
     ]
    }
   ],
   "source": [
    "def foo(a,b,c):\n",
    "    var = a + b * c\n",
    "    return var\n",
    "\n",
    "print('A função foo retorna o valor: ', foo(1,2,3))"
   ]
  }
 ],
 "metadata": {
  "kernelspec": {
   "display_name": "Python 3",
   "language": "python",
   "name": "python3"
  },
  "language_info": {
   "codemirror_mode": {
    "name": "ipython",
    "version": 3
   },
   "file_extension": ".py",
   "mimetype": "text/x-python",
   "name": "python",
   "nbconvert_exporter": "python",
   "pygments_lexer": "ipython3",
   "version": "3.7.7"
  }
 },
 "nbformat": 4,
 "nbformat_minor": 4
}
