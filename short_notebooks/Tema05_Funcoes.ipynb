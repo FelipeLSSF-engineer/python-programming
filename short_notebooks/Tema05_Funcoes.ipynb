{
 "cells": [
  {
   "cell_type": "markdown",
   "metadata": {},
   "source": [
    "# Funções\n",
    "\n",
    "## Introdução\n",
    "\n",
    "Funções são partes importantíssimas de todas as linguagens de programação. Como já vimos rapidamente em aulas anteriores, elas contêm blocos de código que podem ser acessados através de um nome (ou seja, o nome da função) e que executam tarefas específicas.\n",
    "\n",
    "## Características das funções\n",
    "\n",
    "+ Uma função contém um **bloco de código** **organizado** e **reutilizável** que é usado para realizar uma única tarefa.\n",
    "+ Uma boa prática é que o nome de uma função deve ser um indicativo desta única tarefa realizada por ela.\n",
    "+ As funções fornecem melhor **modularidade** para seu programa e um alto grau de **reutilização** de código.\n",
    "+ Além disto, tornar partes do seu programa em funções, facilita sua **depuração**.\n",
    "+ Em Python, existem funções definidas por nós usuários e também as definidas pela própria linguagem, também chamadas de funções **embutidas**, ou **built-in**, do Inglês. Por exemplo, as funções `print()` que imprime na tela uma string definida pelo programador e `str()` que converte um objeto em string.\n",
    "+ Como já vimos:\n",
    "    * Uma função só é executada quando chamada.\n",
    "    * Podemos passar dados, conhecidos como argumentos, para uma função.\n",
    "    * Funções podem ou não retornar dados como resultado.\n",
    "    \n",
    "## Definindo uma função\n",
    "\n",
    "+ Uma função é definida usando-se a palavra-chave `def` seguida do nome da função, dos parâmetros e de `:`.\n",
    "\n",
    "```python\n",
    "def myFunction(parametro1, parametro2, ...):\n",
    "```\n",
    "\n",
    "+ Em seguida, podemos ter opcionalmente, uma **docstring** explicando o que a função faz. O objetivo das **docstrings** é servir de documentação para aquela estrutura.\n",
    "\n",
    "```python\n",
    "def myFunction(parametro1, parametro2, ...):\n",
    "    \"\"\"Esta função executa a seguinte tarefa.\"\"\"\n",
    "```\n",
    "\n",
    "+ O bloco de código de uma função sempre começa em um nível mais a direita do cabeçalho. Podemos usar tabs ou 3 espaços.\n",
    "\n",
    "```python\n",
    "def myFunction(parametro1, parametro2, ...):\n",
    "    # bloco de codigo da funcao\n",
    "```\n",
    "\n",
    "#### Exemplo"
   ]
  },
  {
   "cell_type": "code",
   "execution_count": 2,
   "metadata": {},
   "outputs": [],
   "source": [
    "def myFunction():\n",
    "    \"\"\"Esta é uma função de saudação.\"\"\"\n",
    "    print(\"Olá, sou uma função.\")"
   ]
  },
  {
   "cell_type": "markdown",
   "metadata": {},
   "source": [
    "## Chamando uma função"
   ]
  },
  {
   "cell_type": "code",
   "execution_count": 3,
   "metadata": {},
   "outputs": [
    {
     "name": "stdout",
     "output_type": "stream",
     "text": [
      "Olá, sou uma função.\n",
      "docstring da função: Esta é uma função de saudação.\n"
     ]
    }
   ],
   "source": [
    "def myFunction():\n",
    "    \"\"\"Esta é uma função de saudação.\"\"\"\n",
    "    print(\"Olá, sou uma função.\")\n",
    "\n",
    "# Chamando a função.\n",
    "myFunction()\n",
    "\n",
    "# O que esta função faz?\n",
    "print('docstring da função:', myFunction.__doc__)"
   ]
  },
  {
   "cell_type": "markdown",
   "metadata": {},
   "source": [
    "## Parâmetros\n",
    "\n",
    "+ Dados podem ser passados para funções como parâmetros.\n",
    "+ Os parâmetros são especificados após o nome da função, entre parênteses. Você pode adicionar quantos parâmetros quiser, apenas separe-os com uma vírgula.\n",
    "\n",
    "O exemplo a seguir define uma função com 2 parâmetros, `name` e `age`. Quando a função é chamada, passamos os argumentos `name` e `age`, que são usados dentro da função para imprimir o nome e a idade:"
   ]
  },
  {
   "cell_type": "code",
   "execution_count": 4,
   "metadata": {},
   "outputs": [
    {
     "name": "stdout",
     "output_type": "stream",
     "text": [
      "José is 22 years old.\n",
      "Ana is 65 years old.\n"
     ]
    }
   ],
   "source": [
    "def myFunction(name, age):\n",
    "    \"\"\"Esta função imprime o nome e a idade de uma pessoa.\"\"\"\n",
    "    print('%s is %d years old.' % (name, age))\n",
    "\n",
    "# Chamando a função.\n",
    "myFunction('José', 22)\n",
    "myFunction('Ana', 65)"
   ]
  },
  {
   "cell_type": "markdown",
   "metadata": {},
   "source": [
    "## Funções com número arbitrário de parâmetros, `*args`\n",
    "\n",
    "+ Se você não sabe quantos argumentos serão passados para sua função, adicione um `*` antes do nome do parâmetro na definição da função.\n",
    "+ O nome do parâmetro não precisa ser args, ele pode ser qualquer outro nome, porém, não se esqueça que o `*` deve vir antes do nome do parâmetro.\n",
    "+ Dessa forma, a função receberá uma **tupla** de argumentos e poderá acessar os itens através de seus índices, como mostrado no exemplo abaixo:"
   ]
  },
  {
   "cell_type": "code",
   "execution_count": 5,
   "metadata": {},
   "outputs": [
    {
     "name": "stdout",
     "output_type": "stream",
     "text": [
      "('João', 2, 'Ana', 5, 'José', 9)\n",
      "O filho mais novo é João, que tem 2 anos de idade.\n"
     ]
    }
   ],
   "source": [
    "def myFunction(*kids):\n",
    "    \"\"\"Esta função imprime o nome e a idade do filho mais novo.\"\"\"\n",
    "    print(kids)\n",
    "    print(\"O filho mais novo é %s, que tem %d anos de idade.\" % (kids[0],kids[1]) )\n",
    "\n",
    "# Chamando a função.\n",
    "myFunction(\"João\", 2, \"Ana\", 5, \"José\", 9)"
   ]
  },
  {
   "cell_type": "markdown",
   "metadata": {},
   "source": [
    "## Passando argumentos com palavras-chave\n",
    "\n",
    "Você também pode passar argumentos para uma função com a sintaxe `chave=valor`. Dessa forma, a ordem dos argumentos não importa."
   ]
  },
  {
   "cell_type": "code",
   "execution_count": 14,
   "metadata": {},
   "outputs": [
    {
     "name": "stdout",
     "output_type": "stream",
     "text": [
      "Funcionário: João, idade: 23 e salário: 1234.56 R$\n"
     ]
    }
   ],
   "source": [
    "def myFunction(name, age, salary):\n",
    "    '''Função que imprime o nome, idade e salário de um empregado.'''\n",
    "    print('Funcionário: %s, idade: %d e salário: %1.2f R$' % (name, age, salary))\n",
    "\n",
    "# Chamando a função.\n",
    "myFunction(salary=1234.56, name='João', age=23)"
   ]
  },
  {
   "cell_type": "markdown",
   "metadata": {},
   "source": [
    "## Argumentos de palavras-chave arbitrárias, `**kwargs`\n",
    "\n",
    "Se você não souber quantos argumentos serão passados para sua função com palavras-chave, adicione dois asteriscos `**` antes do nome do parâmetro na definição da função.\n",
    "\n",
    "Dessa forma, a função receberá um **dicionário** de argumentos, e poderá acessar os itens como mostrado no exemplo abaixo:"
   ]
  },
  {
   "cell_type": "code",
   "execution_count": 6,
   "metadata": {},
   "outputs": [
    {
     "name": "stdout",
     "output_type": "stream",
     "text": [
      "{'salary': 1234.56, 'name': 'João', 'age': 23}\n",
      "Funcionário: João, idade: 23 e salário: 1234.56 R$\n"
     ]
    }
   ],
   "source": [
    "def myFunction(**employee):\n",
    "    '''Função que imprime o nome, idade e salário de um empregado.'''\n",
    "    print(employee)\n",
    "    print('Funcionário: %s, idade: %d e salário: %1.2f R$' % (employee['name'], employee['age'], employee['salary']))\n",
    "\n",
    "# Chamando a função.\n",
    "myFunction(salary=1234.56, name='João', age=23)"
   ]
  },
  {
   "cell_type": "markdown",
   "metadata": {},
   "source": [
    "## Valor padrão de um parâmetro \n",
    "\n",
    "O exemplo a seguir mostra como usar um valor de parâmetro padrão.\n",
    "\n",
    "Nesse caso, se chamarmos a função sem argumento, ela usará o valor padrão definido na lista de parâmetros da função:"
   ]
  },
  {
   "cell_type": "code",
   "execution_count": 42,
   "metadata": {},
   "outputs": [
    {
     "name": "stdout",
     "output_type": "stream",
     "text": [
      "Funcionário: José, idade: 22 e salário: 1000.00 R$\n"
     ]
    }
   ],
   "source": [
    "def myFunction(name='José', age=22, salary=1000.00):\n",
    "    '''Função que imprime o nome, idade e salário de um empregado.'''\n",
    "    print('Funcionário: %s, idade: %d e salário: %1.2f R$' % (name, age, salary))\n",
    "\n",
    "# Chamando a função.\n",
    "myFunction()"
   ]
  },
  {
   "cell_type": "markdown",
   "metadata": {},
   "source": [
    "## Passando objetos como argumentos\n",
    "\n",
    "Você pode passar qualquer tipo de dado como argumento para uma função (string, número, lista, tupla, dicionário, conjunto, etc.), e ele será tratado como o mesmo tipo de dado dentro da função.\n",
    "\n",
    "Por exemplo, se você enviar uma lista como argumento, ela ainda será uma lista dentro do bloco de código da função."
   ]
  },
  {
   "cell_type": "code",
   "execution_count": 18,
   "metadata": {},
   "outputs": [
    {
     "name": "stdout",
     "output_type": "stream",
     "text": [
      "Tipo do parâmetro food é: <class 'list'>\n",
      "apple\n",
      "banana\n",
      "cherry\n"
     ]
    }
   ],
   "source": [
    "def myFunction(food):\n",
    "    print('Tipo do parâmetro food é:', type(food))\n",
    "    for x in food:\n",
    "        print(x)\n",
    "\n",
    "# Definindo uma lista de frutas.\n",
    "fruits = [\"apple\", \"banana\", \"cherry\"]\n",
    "\n",
    "# Chamando a função.\n",
    "myFunction(fruits)"
   ]
  },
  {
   "cell_type": "markdown",
   "metadata": {},
   "source": [
    "## Retornando valores\n",
    "\n",
    "Nós utilizamos a instrução `return` para permitir que uma função retorne um ou mais valores."
   ]
  },
  {
   "cell_type": "code",
   "execution_count": 12,
   "metadata": {},
   "outputs": [
    {
     "name": "stdout",
     "output_type": "stream",
     "text": [
      "15\n"
     ]
    }
   ],
   "source": [
    "def myFunction(x):\n",
    "    '''Função que retorna a multiplicação de um número qualquer por 5.'''\n",
    "    return 5 * x\n",
    "\n",
    "print(myFunction(3))"
   ]
  },
  {
   "cell_type": "markdown",
   "metadata": {},
   "source": [
    "Para retornar mais de um valor use virgulas para separar os valores de retorno. Estritamente falando, uma função em Python que retorna vários valores, na verdade, retorna uma **tupla** contendo cada valor."
   ]
  },
  {
   "cell_type": "code",
   "execution_count": 10,
   "metadata": {},
   "outputs": [
    {
     "name": "stdout",
     "output_type": "stream",
     "text": [
      "O tipo do retorno é: <class 'tuple'>\n",
      "Os valores de retorno são: (60, 6.0)\n",
      "\n",
      "O tipo de a é: <class 'int'>\n",
      "O tipo de b é: <class 'float'>\n",
      "Os valores de retorno são: 60\n",
      "Os valores de retorno são: 6.0\n"
     ]
    }
   ],
   "source": [
    "def myFunction(x):\n",
    "    '''Função que retorna o resultado de duas operações.'''\n",
    "    return 5 * x, x / 2\n",
    "\n",
    "valores = myFunction(12)\n",
    "print('O tipo do retorno é:', type(valores))\n",
    "print('Os valores de retorno são:', valores)\n",
    "\n",
    "# Outra forma válida de receber os valores de retorno é desempacotando\n",
    "# a tupla que é retornada pela função.\n",
    "a, b = myFunction(12)\n",
    "print('\\nO tipo de a é:', type(a))\n",
    "print('O tipo de b é:', type(b))\n",
    "print('Os valores de retorno são:', a)\n",
    "print('Os valores de retorno são:', b)"
   ]
  },
  {
   "cell_type": "markdown",
   "metadata": {},
   "source": [
    "## Namespace\n",
    "\n",
    "Funções tem **namespace próprio** ou seja, elas tem **escopo local**, e por isso podem ofuscar definições de escopo global."
   ]
  },
  {
   "cell_type": "code",
   "execution_count": 11,
   "metadata": {},
   "outputs": [
    {
     "name": "stdout",
     "output_type": "stream",
     "text": [
      "Valor da variável global var: 12\n",
      "Valor da variável global var após chamada da função: 33\n"
     ]
    }
   ],
   "source": [
    "# variável global.\n",
    "var = 12\n",
    "\n",
    "# Definição de uma função.\n",
    "def myFunction(par):\n",
    "    #global var\n",
    "    var = par\n",
    "    return var\n",
    "    \n",
    "# Imprime valor da variável global.\n",
    "print('Valor da variável global var:', var)\n",
    "# Chama função.\n",
    "myFunction(33)\n",
    "# Imprime valor da variável global.\n",
    "print('Valor da variável global var após chamada da função:', var)"
   ]
  },
  {
   "cell_type": "markdown",
   "metadata": {},
   "source": [
    "## Passagem por atribuição de referência\n",
    "\n",
    "Diferentemente de outras linguagens, Python passa argumentos nem por referência nem por valor, mas sim por atribuição.\n",
    "\n",
    "Vejamos o exemplo abaixo.\n",
    "\n",
    "Neste exemplo, nós usamos a função `id()`, que retorna a identidade de um objeto. Essa identidade é única e constante para este objeto durante toda a sua vida."
   ]
  },
  {
   "cell_type": "code",
   "execution_count": 1,
   "metadata": {},
   "outputs": [
    {
     "name": "stdout",
     "output_type": "stream",
     "text": [
      "Função main - Endereço inicial de n: 1f97c3d5470, valor: 9001\n",
      "Função incr - Endereço inicial de x: 1f97c3d5470, valor: 9001\n",
      "Função incr - Endereço final de x: 1f97c3d5450, valor: 9002\n",
      "Função main - Endereço final de n: 1f97c3d5470, valor: 9001\n"
     ]
    }
   ],
   "source": [
    "def main():\n",
    "    n = 9001\n",
    "    print(\"Função main - Endereço inicial de n: %x, valor: %d\" % (id(n), n))\n",
    "    increment(n)\n",
    "    print(\"Função main - Endereço final de n: %x, valor: %d\" % (id(n), n))\n",
    "\n",
    "def increment(x):\n",
    "    print(\"Função incr - Endereço inicial de x: %x, valor: %d\" % (id(x), x))\n",
    "    x += 1\n",
    "    print(\"Função incr - Endereço final de x: %x, valor: %d\" % (id(x), x))\n",
    "\n",
    "main()"
   ]
  },
  {
   "cell_type": "markdown",
   "metadata": {},
   "source": [
    "O fato de que as identidades iniciais de `n` e `x` serem as mesmas quando invocamos a função `increment()` prova que o argumento `x` não está sendo passado por valor e sim que ele recebe uma referência de `n`. Caso contrário, `n` e `x` teriam identidades distintas, pois seriam posições distintas de memória.\n",
    "\n",
    "#### Replicando a passagem por referência\n",
    "\n",
    "Em Python, nós podemos replicar a passagem por referência usando tipos **mutáveis** e **indexáveis** (ou seja, quando um subconjunto de sua estrutura pode ser acessado por índices) como listas e dicionários, por exemplo.\n",
    "\n",
    "No exemplo abaixo, usamos uma lista para passar o valor da variável `n` por referência para a função `increment`."
   ]
  },
  {
   "cell_type": "code",
   "execution_count": 33,
   "metadata": {},
   "outputs": [
    {
     "name": "stdout",
     "output_type": "stream",
     "text": [
      "Função main - Endereço inicial de n: 16bd88055c8, valor: 9001\n",
      "Função incr - Endereço inicial de x: 16bd88055c8, valor: 9001\n",
      "Função incr - Endereço final de x: 16bd88055c8, valor: 9002\n",
      "Função main - Endereço final de n: 16bd88055c8, valor: 9002\n"
     ]
    }
   ],
   "source": [
    "def main():\n",
    "    # Agora n é uma lista.\n",
    "    n = [9001]\n",
    "    print(\"Função main - Endereço inicial de n: %x, valor: %d\" % (id(n), n[0]))\n",
    "    increment(n)\n",
    "    print(\"Função main - Endereço final de n: %x, valor: %d\" % (id(n), n[0]))\n",
    "\n",
    "def increment(x):\n",
    "    print(\"Função incr - Endereço inicial de x: %x, valor: %d\" % (id(x), x[0]))\n",
    "    x[0] += 1\n",
    "    print(\"Função incr - Endereço final de x: %x, valor: %d\" % (id(x), x[0]))\n",
    "\n",
    "main()"
   ]
  },
  {
   "cell_type": "markdown",
   "metadata": {},
   "source": [
    "Visto que o parâmetro passado é uma **referência** para a lista `n`, e não uma cópia dele, nós podemos acessar os elementos da lista, alterá-los e ter as alterações refletidas no escopo externo, ou seja, no escopo da funçao `main`.\n",
    "\n",
    "Agora vejamos o que acontece quando tentamos alterar a referência que foi passada como parâmetro:"
   ]
  },
  {
   "cell_type": "code",
   "execution_count": 2,
   "metadata": {},
   "outputs": [
    {
     "name": "stdout",
     "output_type": "stream",
     "text": [
      "Função main - Endereço inicial de n: 1f97c3ccbc8, valor: 9001\n",
      "Função incr - Endereço inicial de x: 1f97c3ccbc8, valor: 9001\n",
      "Função incr - Endereço final de x: 1f97c3cc708, valor: 5\n",
      "Função main - Endereço final de n: 1f97c3ccbc8, valor: 9001\n"
     ]
    }
   ],
   "source": [
    "def main():\n",
    "    # Agora n é uma lista.\n",
    "    n = [9001]\n",
    "    print(\"Função main - Endereço inicial de n: %x, valor: %d\" % (id(n), n[0]))\n",
    "    increment(n)\n",
    "    print(\"Função main - Endereço final de n: %x, valor: %d\" % (id(n), n[0]))\n",
    "\n",
    "def increment(x):\n",
    "    print(\"Função incr - Endereço inicial de x: %x, valor: %d\" % (id(x), x[0]))\n",
    "    x = [4, 5]\n",
    "    x[0] += 1\n",
    "    print(\"Função incr - Endereço final de x: %x, valor: %d\" % (id(x), x[0]))\n",
    "\n",
    "main()"
   ]
  },
  {
   "cell_type": "markdown",
   "metadata": {},
   "source": [
    "Vejam que a lista `n` foi passada por referência para o parâmetro `x` e atribuir uma nova lista a ele não teve nenhum efeito que o código fora da função `increment` pudesse ver. \n",
    "\n",
    "Nesse exemplo, o parâmetro `x` recebe uma referência para a lista `n`, porém, o código da função `increment` faz com que `x` aponte para a referência de uma nova lista (um objeto do tipo lista armazenado em outra posição de memória), desta forma, não há modificação na referência que `x` apontava anteriormente, ou seja, a lista armazenada por `n`."
   ]
  },
  {
   "cell_type": "markdown",
   "metadata": {},
   "source": [
    "## Funções embutidas\n",
    "\n",
    "O interpretador da linguagem Python tem várias funções e tipos integrados que estão sempre disponíveis, ou seja, não é necessário se importar um módulo para utilizá-los. Essas funções estão listadas na tabela abaixo em ordem alfabética.\n",
    "\n",
    "Olhando a lista, vocês devem ter identificado algumas funções embutidas que já foram vistas anteriormente.\n",
    "\n",
    "<style type=\"text/css\">\n",
    ".tg  {border-collapse:collapse;border-spacing:0;}\n",
    ".tg td{border-color:black;border-style:solid;border-width:1px;font-family:Arial, sans-serif;font-size:14px;\n",
    "  overflow:hidden;padding:10px 5px;word-break:normal;}\n",
    ".tg th{border-color:black;border-style:solid;border-width:1px;font-family:Arial, sans-serif;font-size:14px;\n",
    "  font-weight:normal;overflow:hidden;padding:10px 5px;word-break:normal;}\n",
    ".tg .tg-c3ow{border-color:inherit;text-align:center;vertical-align:top}\n",
    "</style>\n",
    "<table class=\"tg\">\n",
    "<thead>\n",
    "  <tr>\n",
    "    <th class=\"tg-c3ow\" colspan=\"5\">Funções embutidas</th>\n",
    "  </tr>\n",
    "</thead>\n",
    "<tbody>\n",
    "  <tr>\n",
    "    <td class=\"tg-c3ow\">abs()</td>\n",
    "    <td class=\"tg-c3ow\">delattr()</td>\n",
    "    <td class=\"tg-c3ow\">hash()</td>\n",
    "    <td class=\"tg-c3ow\">memoryview()</td>\n",
    "    <td class=\"tg-c3ow\">set()</td>\n",
    "  </tr>\n",
    "  <tr>\n",
    "    <td class=\"tg-c3ow\">all()</td>\n",
    "    <td class=\"tg-c3ow\">dict()</td>\n",
    "    <td class=\"tg-c3ow\">help()</td>\n",
    "    <td class=\"tg-c3ow\">min()</td>\n",
    "    <td class=\"tg-c3ow\">setattr()</td>\n",
    "  </tr>\n",
    "  <tr>\n",
    "    <td class=\"tg-c3ow\">any()</td>\n",
    "    <td class=\"tg-c3ow\">dir()</td>\n",
    "    <td class=\"tg-c3ow\">hex()</td>\n",
    "    <td class=\"tg-c3ow\">next()</td>\n",
    "    <td class=\"tg-c3ow\">slice()</td>\n",
    "  </tr>\n",
    "  <tr>\n",
    "    <td class=\"tg-c3ow\">ascii()</td>\n",
    "    <td class=\"tg-c3ow\">divmod()</td>\n",
    "    <td class=\"tg-c3ow\">id()</td>\n",
    "    <td class=\"tg-c3ow\">object()</td>\n",
    "    <td class=\"tg-c3ow\">sorted()</td>\n",
    "  </tr>\n",
    "  <tr>\n",
    "    <td class=\"tg-c3ow\">bin()</td>\n",
    "    <td class=\"tg-c3ow\">enumerate()</td>\n",
    "    <td class=\"tg-c3ow\">input()</td>\n",
    "    <td class=\"tg-c3ow\">oct()</td>\n",
    "    <td class=\"tg-c3ow\">staticmethod()</td>\n",
    "  </tr>\n",
    "  <tr>\n",
    "    <td class=\"tg-c3ow\">bool()</td>\n",
    "    <td class=\"tg-c3ow\">eval()</td>\n",
    "    <td class=\"tg-c3ow\">int()</td>\n",
    "    <td class=\"tg-c3ow\">open()</td>\n",
    "    <td class=\"tg-c3ow\">str()</td>\n",
    "  </tr>\n",
    "  <tr>\n",
    "    <td class=\"tg-c3ow\">breakpoint()</td>\n",
    "    <td class=\"tg-c3ow\">exec()</td>\n",
    "    <td class=\"tg-c3ow\">isinstance()</td>\n",
    "    <td class=\"tg-c3ow\">ord()</td>\n",
    "    <td class=\"tg-c3ow\">sum()</td>\n",
    "  </tr>\n",
    "  <tr>\n",
    "    <td class=\"tg-c3ow\">bytearray()</td>\n",
    "    <td class=\"tg-c3ow\">filter()</td>\n",
    "    <td class=\"tg-c3ow\">issubclass()</td>\n",
    "    <td class=\"tg-c3ow\">pow()</td>\n",
    "    <td class=\"tg-c3ow\">super()</td>\n",
    "  </tr>\n",
    "  <tr>\n",
    "    <td class=\"tg-c3ow\">bytes()</td>\n",
    "    <td class=\"tg-c3ow\">float()</td>\n",
    "    <td class=\"tg-c3ow\">iter()</td>\n",
    "    <td class=\"tg-c3ow\">print()</td>\n",
    "    <td class=\"tg-c3ow\">tuple()</td>\n",
    "  </tr>\n",
    "  <tr>\n",
    "    <td class=\"tg-c3ow\">callable()</td>\n",
    "    <td class=\"tg-c3ow\">format()</td>\n",
    "    <td class=\"tg-c3ow\">len()</td>\n",
    "    <td class=\"tg-c3ow\">property()</td>\n",
    "    <td class=\"tg-c3ow\">type()</td>\n",
    "  </tr>\n",
    "  <tr>\n",
    "    <td class=\"tg-c3ow\">chr()</td>\n",
    "    <td class=\"tg-c3ow\">frozenset()</td>\n",
    "    <td class=\"tg-c3ow\">list()</td>\n",
    "    <td class=\"tg-c3ow\">range()</td>\n",
    "    <td class=\"tg-c3ow\">vars()</td>\n",
    "  </tr>\n",
    "  <tr>\n",
    "    <td class=\"tg-c3ow\">classmethod()</td>\n",
    "    <td class=\"tg-c3ow\">getattr()</td>\n",
    "    <td class=\"tg-c3ow\">locals()</td>\n",
    "    <td class=\"tg-c3ow\">repr()</td>\n",
    "    <td class=\"tg-c3ow\">zip()</td>\n",
    "  </tr>\n",
    "  <tr>\n",
    "    <td class=\"tg-c3ow\">compile()</td>\n",
    "    <td class=\"tg-c3ow\">globals()</td>\n",
    "    <td class=\"tg-c3ow\">map()</td>\n",
    "    <td class=\"tg-c3ow\">reversed()</td>\n",
    "    <td class=\"tg-c3ow\">__import__()</td>\n",
    "  </tr>\n",
    "  <tr>\n",
    "    <td class=\"tg-c3ow\">complex()</td>\n",
    "    <td class=\"tg-c3ow\">hasattr()</td>\n",
    "    <td class=\"tg-c3ow\">max()</td>\n",
    "    <td class=\"tg-c3ow\">round()</td>\n",
    "    <td class=\"tg-c3ow\"></td>\n",
    "  </tr>\n",
    "</tbody>\n",
    "</table>\n",
    "\n",
    "Para mais informações e exemplos de uso destas funções embutidas, por favor, visitem: https://docs.python.org/3/library/functions.html"
   ]
  },
  {
   "cell_type": "markdown",
   "metadata": {},
   "source": [
    "## Funções matemáticas\n",
    "\n",
    "O módulo `math` é um módulo padrão da linguagem Python e está sempre disponível (ou seja, não precisa ser instalado), bastando apenas ser importado. Para usar as funções matemáticas disponibilizadas pelo módulo, você deve importar o módulo usando `import math`.\n",
    "\n",
    "**OBS.**: Este módulo não suporta tipos de dados complexos. O módulo `cmath` é a contraparte complexa do módulo `math`.\n",
    "\n",
    "A tabela abaixo apresenta todas as funções e constantes definidas no módulo `math` com uma breve explicação do que elas fazem.\n",
    "\n",
    "|     Função     |                                            Descrição                                            |\n",
    "|:--------------:|:-----------------------------------------------------------------------------------------------:|\n",
    "|     ceil(x)    | Retorna o menor inteiro maior ou igual a x.                                                     |\n",
    "| copysign(x, y) | Retorna x com o sinal de y                                                                      |\n",
    "|     fabs(x)    | Retorna o valor absoluto de x                                                                   |\n",
    "|  factorial(x)  | Retorna o fatorial de x                                                                         |\n",
    "|    floor(x)    | Retorna o maior inteiro menor ou igual a x                                                      |\n",
    "|   fmod(x, y)   | Retorna o resto quando x é dividido por y                                                       |\n",
    "|    frexp(x)    | Retorna a mantissa e o expoente de x como o par (m, e)                                          |\n",
    "| fsum(iterable) | Retorna uma soma de valores de ponto flutuante precisa no iterável                              |\n",
    "|   isfinite(x)  | Retorna verdadeiro se x não for infinito nem NaN (não é um número)                              |\n",
    "|    isinf(x)    | Retorna True se x for um infinito positivo ou negativo                                          |\n",
    "|    isnan(x)    | Retorna True se x for um NaN                                                                    |\n",
    "|   ldexp(x, i)  | Retorna x * (2 ** i)                                                                            |\n",
    "|     modf(x)    | Retorna as partes fracionárias e inteiras de x                                                  |\n",
    "|    trunc(x)    | Retorna o valor inteiro truncado de x                                                           |\n",
    "|     exp(x)     | Retorna e ** x                                                                                  |\n",
    "|    expm1(x)    | Retorna e ** x - 1                                                                              |\n",
    "| log(x[, base]) | Retorna o logaritmo de x para a base definida (por padrão, a base é `e`)                                             |\n",
    "|    log1p(x)    | Retorna o logaritmo natural de 1 + x                                                            |\n",
    "|     log2(x)    | Retorna o logaritmo de base 2 de x                                                              |\n",
    "|    log10(x)    | Retorna o logaritmo de base 10 de x                                                             |\n",
    "|    pow(x, y)   | Retorna x elevado à potência y                                                                  |\n",
    "|     sqrt(x)    | Retorna a raiz quadrada de x                                                                    |\n",
    "|     acos(x)    | Retorna o arco cosseno de x                                                                     |\n",
    "|     asin(x)    | Retorna o arco seno de x                                                                        |\n",
    "|     atan(x)    | Retorna o arco tangente de x                                                                    |\n",
    "|   atan2(y, x)  | Retorna atan (y / x)                                                                            |\n",
    "|     cos(x)     | Retorna o cosseno de x                                                                          |\n",
    "|   hypot(x, y)  | Retorna a norma euclidiana, sqrt (x * x + y * y)                                                |\n",
    "|     sin(x)     | Retorna o seno de x                                                                             |\n",
    "|     tan(x)     | Retorna a tangente de x                                                                         |\n",
    "|   degrees(x)   | Converte o ângulo x de radianos para graus                                                      |\n",
    "|   radians(x)   | Converte o ângulo x de graus para radianos                                                      |\n",
    "|    acosh(x)    | Retorna o cosseno hiperbólico inverso de x                                                      |\n",
    "|    asinh(x)    | Retorna o seno hiperbólico inverso de x                                                         |\n",
    "|    atanh(x)    | Retorna a tangente hiperbólica inversa de x                                                     |\n",
    "|     cosh(x)    | Retorna o cosseno hiperbólico de x                                                              |\n",
    "|     sinh(x)    | Retorna o cosseno hiperbólico de x                                                              |\n",
    "|     tanh(x)    | Retorna a tangente hiperbólica de x                                                             |\n",
    "|     erf(x)     | Retorna a função de erro em x                                                                   |\n",
    "|     erfc(x)    | Retorna a função de erro complementar para x                                                      |\n",
    "|    gamma(x)    | Retorna a função Gamma para x                                                                     |\n",
    "|    lgamma(x)   | Retorna o logaritmo natural do valor absoluto da função Gamma para x                              |\n",
    "|       pi       | Constante matemática, a razão entre a circunferência de um círculo e seu diâmetro (3.14159 ...) |\n",
    "|        e       | Constante matemática `e` (2,71828 ...)                                                            |\n",
    "\n",
    "Para mais informações e exemplos de uso das funções matemáticas disponibilizadas pelo móulo `math`, por favor, visitem: https://docs.python.org/3/library/math.html"
   ]
  },
  {
   "cell_type": "markdown",
   "metadata": {},
   "source": [
    "## Tarefas\n",
    "\n",
    "1. <span style=\"color:blue\">**QUIZ - Funções**</span>: respondam ao questionário sobre funções no MS teams, por favor. \n",
    "2. <span style=\"color:blue\">**Laboratório #5**</span>: cliquem em um dos links abaixo para accessar os exercícios do laboratório #5.\n",
    "\n",
    "[![Binder](https://mybinder.org/badge_logo.svg)](https://mybinder.org/v2/gh/zz4fap/python-programming/master?filepath=labs%2FLaboratorio5.ipynb)\n",
    "\n",
    "[![Google Colab](https://badgen.net/badge/Launch/on%20Google%20Colab/blue?icon=terminal)](https://colab.research.google.com/github/zz4fap/python-programming/blob/master/labs/Laboratorio5.ipynb)\n",
    "\n",
    "**IMPORTANTE**: Para acessar o material das aulas e realizar as entregas dos exercícios de laboratório, por favor, leiam o tutorial no seguinte link:\n",
    "[Material-das-Aulas](../docs/Acesso-ao-material-das-aulas-resolucao-e-entrega-dos-laboratorios.pdf)"
   ]
  },
  {
   "cell_type": "markdown",
   "metadata": {},
   "source": [
    "## Avisos\n",
    "\n",
    "* Respostas dos laboratórios estão na aba de arquivos do MS Teams.\n",
    "* Se atentem aos prazos de entrega das tarefas na aba de **Avaliações** do MS Teams.\n",
    "* Horário de atendimento todas as Quintas-feiras as 17:30 às 19:30 via MS Teams enquanto as aulas presenciais não retornam."
   ]
  },
  {
   "cell_type": "markdown",
   "metadata": {},
   "source": [
    "<img src=\"../figures/obrigado.png\" width=\"1000\" height=\"1000\">"
   ]
  }
 ],
 "metadata": {
  "kernelspec": {
   "display_name": "Python 3",
   "language": "python",
   "name": "python3"
  },
  "language_info": {
   "codemirror_mode": {
    "name": "ipython",
    "version": 3
   },
   "file_extension": ".py",
   "mimetype": "text/x-python",
   "name": "python",
   "nbconvert_exporter": "python",
   "pygments_lexer": "ipython3",
   "version": "3.7.7"
  }
 },
 "nbformat": 4,
 "nbformat_minor": 4
}
