{
 "cells": [
  {
   "cell_type": "markdown",
   "metadata": {},
   "source": [
    "# C126 - Programação em Python\n",
    "\n",
    "## Sobre a Disciplina\n",
    "\n",
    "Introdução à programação em Python. \n",
    "\n",
    "As aulas serão serão divididas em uma parte expositiva e outra prática (*Hands on*).\n",
    "\n",
    "## Conteúdo Programático\n",
    "\n",
    "1. Introdução ao Python\n",
    "2. Tipos de dados\n",
    "3. Operadores Artiméticos\n",
    "4. Módulos e pacotes\n",
    "5. Manipulando Cadeias de Caracteres\n",
    "6. Estruturas de decisão e repetição e operadores lógicos e de comparação\n",
    "7. Funções\n",
    "8. Coleções de dados\n",
    "9. Fundamentos de Orientação a Objeto\n",
    "10. Introdução ao tratamento e análise de dados\n",
    "\n",
    "## Objetivos\n",
    "\n",
    "O objetivo principal da disciplina é o de criar em vocês o interesse pela linguagem Python.\n",
    "\n",
    "Ao final da disciplina, eu espero que vocês:\n",
    "* Conheçam os conceitos básicos e os principais recursos disponibilizados pela linguagem.\n",
    "* Apliquem conceitos e desenvolvam programas usando Python.\n",
    "* Sejam capazes de solucionar problemas computacionais utilizando Python.\n",
    "* Possuam a base necessária para a aprendizagem de novos conceitos.\n",
    "\n",
    "## Critérios de Avaliação\n",
    "\n",
    "* 2 Provas com conteúdo prático com peso de 85% cada.\n",
    "* Exercícios (quizzes e laboraórios) com peso de 15%.\n",
    "    * Nota composta por exercícios feitos em sala de aula e/ou em casa.\n",
    "    \n",
    "## Conhecendo a Turma\n",
    "\n",
    "* Experiência com programação?\n",
    "* Quantos já programaram antes?\n",
    "* Quais linguagens?\n",
    "* Vocês podem instalar novos softwares em seus computadores?\n",
    "* Qual sistema operacional vocês usam?"
   ]
  },
  {
   "cell_type": "markdown",
   "metadata": {},
   "source": [
    "## Uma breve história sobre o Python\n",
    "\n",
    "* A linguagem de programação **Python** foi lançada em 1991 por Guido van Rossum. \n",
    "\n",
    "<img src=\"../figures/guido.jpg\" width=\"200\" height=\"200\">\n",
    "\n",
    "* O nome **Python** é uma homenagem ao grupo de humor britânico, Monty Python.\n",
    "\n",
    "<img src=\"../figures/monty.jpg\" width=\"100\" height=\"100\">\n",
    "\n",
    "* Guido resistiu por muito tempo em associar a linguagem à cobra Python, mas isso acabou quando a editora  O’Reilly publicou o primeiro livro sobre a linguagem. \n",
    "\n",
    "<img src=\"../figures/livro.jpg\" width=\"100\" height=\"100\">\n",
    "\n",
    "* Hoje, a linguagem Python possui um modelo de desenvolvimento comunitário, de código aberto e gerenciado pela Python Software Foundation. \n",
    "\n",
    "<img src=\"../figures/psf-logo.png\">"
   ]
  },
  {
   "cell_type": "markdown",
   "metadata": {},
   "source": [
    "## O que é o Python?\n",
    "\n",
    "* É uma linguagem de programação:\n",
    "    * de **alto nível**: tem uma sintaxe que se aproxima da nossa linguagem e se distancia bastante da linguagem de máquina.    \n",
    "    * **Multi-paradigma**: pois suporta diversos paradigmas de programação como: programação orientada a objetos, programação imperativa ou também chamada de estruturada e programação funcional.\n",
    "    * **Interpretada**: o código fonte é transformado em uma linguagem intermediária, que será interpretada pela máquina virtual da linguagem quando o programa for executado.\n",
    "    * de **tipagem dinâmica**: isso significa que o interpretador do Python infere o tipo de dado que uma variável recebe em tempo de execução, sem necessitar que o programador defina o tipo de uma determinada variável explicitamente como em Java, C e C++.\n",
    "    * **Fortemente tipada**: ela proíbe operações que não são bem definidas (por exemplo, adicionar um número a uma string) em vez de tentar silenciosamente converter os valores. Para realizar a operação entre tipos não compatíveis, é necessário converter explicitamente o tipo da variável ou variáveis antes da operação.\n",
    "    * **Multiplataforma**: roda em plataformas Windows, Linux, UNIX e MacOS, e até em telefones celulares.\n",
    "    * **Grátis** e de **código aberto**."
   ]
  },
  {
   "cell_type": "markdown",
   "metadata": {},
   "source": [
    "## Por que Python?\n",
    "\n",
    "* É uma das linguagens mais fáceis de se aprender, com uma sintaxe clara, intuitiva e concisa, que favorece a legibilidade do código fonte, tornando a linguagem mais produtiva.\n",
    "* É uma linguagem muito popular e será mais ainda nos próximos anos. \n",
    "\n",
    "<img src=\"../figures/popularity.png\" width=\"400\" height=\"400\">\n",
    "\n",
    "* Grandes empresas usam Python. \n",
    "\n",
    "<img src=\"../figures/empresas.png\" width=\"500\" height=\"500\">\n",
    "\n",
    "* Possui um rico ecossistema de bibliotecas. \n",
    "\n",
    "<img src=\"../figures/libraries.png\" width=\"500\" height=\"500\">\n",
    "\n",
    "* Muito utilizada no meio científico devido a uma enorme quantidade de bibliotecas específicas para engenharias, química, biologia, astrofísica, física, etc.\n",
    "* Pyhton é a linguagem mais usada para aplicações de Machine Learning. \n",
    "\n",
    "<img src=\"../figures/ml.jpg\" width=\"200\" height=\"200\">\n",
    "\n",
    "* Possui um vasto suporte on-line: Tutorials, Videos e StackOverflow. \n",
    "\n",
    "<img src=\"../figures/so-logo.png\" width=\"400\" height=\"400\">\n",
    "\n",
    "* Python é usada como linguagem educativa para ensino de computação e eletrônica (e.g., Raspberry Pi, LEGO Mindstorms suas aplicações desenvolvidas em Python). \n",
    "\n",
    "<img src=\"../figures/raspi-lego.png\" width=\"400\" height=\"400\">\n",
    "\n",
    "* Python é gratuito e open-source, isso significa que você não precisa pagar nada e que pode criar e distribuir suas próprias bibliotecas, modificar/melhorar/debugar bibliotecas existentes e até mesmo a própria linguagem.\n",
    "* Assim como Java, o Python utiliza gerenciamento automático de memória, significando que o ele rastreia a utilização de objetos automaticamente e os deleta quando não estão sendo mais utilizados para liberar espaço."
   ]
  },
  {
   "cell_type": "markdown",
   "metadata": {},
   "source": [
    "## Executando códigos Python na nuvem\n",
    "\n",
    "+ Para evitarmos a instalação de softwares localmente, nós utilizaremos **durante todo o curso** ambientes computacionais interativos baseados em aplicações web para criação de documentos virtuais, chamados de **notebooks**. \n",
    "+ Os **notebooks** permitem a execução de códigos de uma linguagem de programação juntamente com ferramentas para edição de textos, ou seja, além das rotinas usuais de programação, o usuário pode documentar todo o processo de escrita do código. \n",
    "+ Dessa forma, um notebook permite uma maneira interativa de programar.\n",
    "\n",
    "Hoje em dia, existem vários ambientes computacionais interativos gratuitos disponíveis, mas durante nosso curso, usaremos o **Jupyter** ou o **Google Colab**.\n",
    "\n",
    "### Jupyter e Google Colab \n",
    "\n",
    "<img src=\"../figures/jupyter_colab.png\" width=\"300\" height=\"300\">\n",
    "\n",
    "* Usaremos o Jupyter ou o Google Colab para execução e documentação de exemplos e exercícios.\n",
    "* O Jupyter Notebook é uma aplicação web gratuita que permite a edição de notebooks em um navegador web, tais como Google Chrome, Firefox, Microsoft Edge, etc.\n",
    "* Notebooks Jupyter permitem a criação e compartilhamento de documentos contendo código, equações, visualizações e texto explicativo.\n",
    "* O nome Jupyter é um acrônimo criado a partir das linguagens de programação que inicialmente eram suportadas pelo Projeto Jupyter: Julia, Python e R. \n",
    "* Além dessas, hoje, o Projeto Jupyter suporta também C++, C#, PHP, Ruby, Fortran e outras.\n",
    "* Site do Projeto Jupyter: https://jupyter.org/\n",
    "* O Colaboratory (também conhecido como Colab, ou Google Colab) é aplicação web gratuita que suporta a execução de notebooks Jupyter que roda na nuvem e armazena seus notebooks no Google Drive.\n",
    "* Site do Colab: https://colab.research.google.com/\n",
    "\n",
    "## Versão de Python que utilizaremos\n",
    "\n",
    "* **Neste curso nós utilizaremos a versão 3.x do Python pois a versão 2.x foi descontinuada em 2020.**\n",
    "\n",
    "*DEPRECATION: Python 2.7 reached the end of its life on January 1st, 2020.*\n",
    "\n",
    "## Instalando o Python, Jupyter e outras ferramentas\n",
    "\n",
    "+ Para resolver os quizzes e exercícios do curso, vocês podem usar o **Jupyter** de forma online ou instalá-lo localmente. \n",
    "+ Eu recomendo que vocês o instalem  localmente caso vocês precisem executá-lo sem uma conexão com a internet. \n",
    "+ O Python e o Jupyter podem ser instalados seguindo-se o tutorial a seguir.\n",
    "\n",
    "* O documento no link a seguir contém um tutorial de como instalar o Python, Jupyter e outras ferramentas através da distribuição [Anaconda](../docs/Tutorial-de-Instalação-Ambiente-Python-Jupyter.pdf)"
   ]
  },
  {
   "cell_type": "markdown",
   "metadata": {},
   "source": [
    "## Exemplos\n",
    "\n",
    "A seguir, eu apresento alguns exemplos com o intuito de ensinar alguns conceitos básicos de Python."
   ]
  },
  {
   "cell_type": "markdown",
   "metadata": {},
   "source": [
    "### Exemplo 1 - Saídas\n",
    "\n",
    "#### O famoso \"Hello, World!\""
   ]
  },
  {
   "cell_type": "code",
   "execution_count": 1,
   "metadata": {},
   "outputs": [
    {
     "name": "stdout",
     "output_type": "stream",
     "text": [
      "Hello, World!\n"
     ]
    }
   ],
   "source": [
    "print(\"Hello, World!\")"
   ]
  },
  {
   "cell_type": "markdown",
   "metadata": {},
   "source": [
    "#### Um exemplo mais elaborado.\n",
    "\n",
    "+ O Python usa formatação de strings no estilo da linguagem C para criar novas strings formatadas. \n",
    "+ O operador \"%\" é usado para formatar um conjunto de variáveis entre uma \"tupla\" (uma lista de tamanho fixo) e uma **string de formatação** que contém texto normal junto com **especificadores de argumento**, símbolos especiais como \"%s\" e \"%d\", como no exemplo apresentado a seguir.\n",
    "\n",
    "Os principais **especificadores de argumento** são:\n",
    "\n",
    "| Especificadores de argumento |               Descrição              |\n",
    "|:----------------------------:|:------------------------------------:|\n",
    "|              %s              |          Imprime uma string          |\n",
    "|              %d              |          Imprime um inteiro          |\n",
    "|              %o              |           Imprime um octal           |\n",
    "|              %x              |        Imprime um hexadecimal        |\n",
    "|              %f              |            Imprime um real           |\n",
    "|              %e              | Imprime real com notação exponencial |\n",
    "|              %%              |    Imprime o sinal de porcentagem    |"
   ]
  },
  {
   "cell_type": "code",
   "execution_count": 4,
   "metadata": {},
   "outputs": [
    {
     "name": "stdout",
     "output_type": "stream",
     "text": [
      "O Resultado do teste é igual a 2, 3.1400, True.\n"
     ]
    }
   ],
   "source": [
    "string_1 = \"do teste é igual a\"\n",
    "valor1 = 2\n",
    "valor2 = 3.14\n",
    "valor3 = True\n",
    "print(\"O Resultado %s %d, %1.4f, %s.\" % (string_1, valor1, valor2, valor3))"
   ]
  },
  {
   "cell_type": "markdown",
   "metadata": {},
   "source": [
    "Podemos também concatenar as strings usando vírgulas, como no exemplo abaixo"
   ]
  },
  {
   "cell_type": "code",
   "execution_count": 11,
   "metadata": {},
   "outputs": [
    {
     "name": "stdout",
     "output_type": "stream",
     "text": [
      "O resultado do teste é igual a 2 , 3.14 , True .\n"
     ]
    }
   ],
   "source": [
    "print('O resultado' , string_1 , valor1 , ',' , valor2, ',', valor3, '.')"
   ]
  },
  {
   "cell_type": "markdown",
   "metadata": {},
   "source": [
    "### Exemplo 2 - Um comentário de uma linha\n",
    "\n",
    "Utilizamos o caractere cerquilha (`#`), em Inglês, **hash**, para demarcarmos que tudo que estiver a frente desse caractere, deve ser ignorado pelo interpretador do Python, por exemplo:"
   ]
  },
  {
   "cell_type": "code",
   "execution_count": 2,
   "metadata": {},
   "outputs": [],
   "source": [
    "# Esta é uma linha de comentário. Comentários são precedidos pela cerquilha (#), em Inglês, hash."
   ]
  },
  {
   "cell_type": "markdown",
   "metadata": {},
   "source": [
    "### Exemplo 3 - Comentários em bloco\n",
    "\n",
    "+ A linguagem Python também disponibiliza uma notação para demarcarmos que um conjunto de linhas deve ser ignorado pelo interpretador. \n",
    "+ Essa notação se dá pelo uso de **3 aspas simples**, ou entao, **3 aspas duplas**. \n",
    "+ Nestes casos, tudo que estiver delimitado pelas aspas não será interpretado, por exemplo:"
   ]
  },
  {
   "cell_type": "code",
   "execution_count": 7,
   "metadata": {},
   "outputs": [
    {
     "data": {
      "text/plain": [
       "'\\ntoda informações contida entre 3 aspas SIMPLES\\né considerada como caracteres que devem ser ignorados.\\n'"
      ]
     },
     "execution_count": 7,
     "metadata": {},
     "output_type": "execute_result"
    }
   ],
   "source": [
    "'''\n",
    "toda informações contida entre 3 aspas SIMPLES\n",
    "é considerada como caracteres que devem ser ignorados.\n",
    "'''"
   ]
  },
  {
   "cell_type": "markdown",
   "metadata": {},
   "source": [
    "**OBS.: Aspas duplas também funcionam.**"
   ]
  },
  {
   "cell_type": "code",
   "execution_count": 8,
   "metadata": {},
   "outputs": [
    {
     "data": {
      "text/plain": [
       "'\\ntoda informações contida entre 3 aspas DUPLAS\\né considerada como caracteres que devem ser ignorados.\\n'"
      ]
     },
     "execution_count": 8,
     "metadata": {},
     "output_type": "execute_result"
    }
   ],
   "source": [
    "\"\"\"\n",
    "toda informações contida entre 3 aspas DUPLAS\n",
    "é considerada como caracteres que devem ser ignorados.\n",
    "\"\"\""
   ]
  },
  {
   "cell_type": "markdown",
   "metadata": {},
   "source": [
    "### Exemplo 4 - Variáveis\n",
    "\n",
    "###  Tipos de dados embutidos\n",
    "\n",
    "Em programação, o tipo de dados é um conceito importante. As variáveis podem armazenar dados de diferentes tipos. Python tem os seguintes tipos de dados embutidos por padrão:\n",
    "\n",
    "|  Categoria |             Tipos            |\n",
    "|:----------:|:----------------------------:|\n",
    "|  Numerica  |      int, float, complex     |\n",
    "|   String   |              str             |\n",
    "| Sequencial |      list, tuple, range      |\n",
    "| Mapeamento |             dict             |\n",
    "|  Conjuntos |        set, frozenset        |\n",
    "|  Booleana  |             bool             |\n",
    "|   Binaria  | bytes, bytearray, memoryview |\n",
    "\n",
    "Em Python, as variáveis **não**:\n",
    "\n",
    "* precisam ser declaradas ou definidas com antecedência. Para criar uma variável, basta atribuir um valor a ela.\n",
    "* podem ser utilizadas em uma expressão sem tererm sido inicializadas.\n",
    "* são estáticas, como em outras linguagens de programação, ou seja, o tipo da variável pode mudar."
   ]
  },
  {
   "cell_type": "code",
   "execution_count": 9,
   "metadata": {},
   "outputs": [
    {
     "name": "stdout",
     "output_type": "stream",
     "text": [
      "type(a): <class 'int'>\n",
      "type(b): <class 'int'>\n",
      "type(c): <class 'float'>\n",
      "type(d): <class 'complex'>\n",
      "type(a): <class 'float'>\n",
      "type(a): <class 'str'>\n",
      "type(t): <class 'bool'>\n"
     ]
    }
   ],
   "source": [
    "# Variável a recebe o valor inteiro 1.\n",
    "a = 1\n",
    "# OBS.: type() é uma função embutida do Python que retorna o tipo de um objeto ou variável.\n",
    "print('type(a):',type(a))\n",
    "\n",
    "# Variável b recebe o valor inteiro 2.\n",
    "b = 2\n",
    "print('type(b):',type(b))\n",
    "\n",
    "# Variável a recebe o valor em ponto flutuante 3.1.\n",
    "c = 3.1\n",
    "print('type(c):',type(c))\n",
    "\n",
    "# Variável a recebe o valor complexo 1j.\n",
    "d = 1j\n",
    "print('type(d):',type(d))\n",
    "\n",
    "# A variável 'a', agora será do tipo float.\n",
    "a = 4.2\n",
    "print('type(a):',type(a))\n",
    "\n",
    "# A variável 'a', agora será do tipo string.\n",
    "a = \"teste\"\n",
    "print('type(a):',type(a))\n",
    "\n",
    "# Variável do tipo booleano.\n",
    "t = True\n",
    "print('type(t):',type(t))"
   ]
  },
  {
   "cell_type": "markdown",
   "metadata": {},
   "source": [
    "### Exemplo 5 - Nomes de variáveis\n",
    "\n",
    "Uma variável pode ter um nome curto (como x e y) ou um nome mais descritivo (idade, modelo_carro, volume_total). Regras para variáveis em Python são:\n",
    "\n",
    "* Um nome de variável deve começar com uma letra ou o com caractere sublinhado (_)\n",
    "* Um nome de variável não pode começar com um número\n",
    "* Um nome de variável pode conter apenas caracteres alfanuméricos e sublinhados (A-z, 0-9 e _)\n",
    "* Os nomes das variáveis diferenciam maiúsculas de minúsculas (idade, Idade e IDADE são três variáveis diferentes)"
   ]
  },
  {
   "cell_type": "code",
   "execution_count": 6,
   "metadata": {},
   "outputs": [
    {
     "ename": "SyntaxError",
     "evalue": "invalid syntax (<ipython-input-6-9d2fcd0b4e97>, line 10)",
     "output_type": "error",
     "traceback": [
      "\u001b[1;36m  File \u001b[1;32m\"<ipython-input-6-9d2fcd0b4e97>\"\u001b[1;36m, line \u001b[1;32m10\u001b[0m\n\u001b[1;33m    2myvar = \"John\" # Variável começa com número!\u001b[0m\n\u001b[1;37m     ^\u001b[0m\n\u001b[1;31mSyntaxError\u001b[0m\u001b[1;31m:\u001b[0m invalid syntax\n"
     ]
    }
   ],
   "source": [
    "# Nomes válidos para variáveis.\n",
    "myvar = \"John\"\n",
    "my_var = \"John\"\n",
    "_my_var = \"John\"\n",
    "myVar = \"John\"\n",
    "MYVAR = \"John\"\n",
    "myvar2 = \"John\"\n",
    "\n",
    "# Nomes inválidos para variáveis.\n",
    "2myvar = \"John\" # Variável começa com número!\n",
    "my var = \"John\" # Variável contém espaço!\n",
    "my-var = \"John\" # Variável contem hífen que não é um caracter alphanumérico."
   ]
  },
  {
   "cell_type": "markdown",
   "metadata": {},
   "source": [
    "### Exemplo 6 - Valor nulo (null)\n",
    "\n",
    "* Em Python, **None** equivale ao valor nulo (do Inglês, **null**).\n",
    "* Podemos iniciar variáveis com o valor **None**."
   ]
  },
  {
   "cell_type": "code",
   "execution_count": 10,
   "metadata": {},
   "outputs": [
    {
     "name": "stdout",
     "output_type": "stream",
     "text": [
      "varNula:  None\n",
      "<class 'NoneType'>\n"
     ]
    }
   ],
   "source": [
    "varNula = None\n",
    "print('varNula: ', varNula)\n",
    "print(type(varNula))"
   ]
  },
  {
   "cell_type": "markdown",
   "metadata": {},
   "source": [
    "### Exemplo 7 - Strings\n",
    "\n",
    "* Em Python, strings são cercadas por aspas simples ou aspas duplas.\n",
    "* Strings são sequências de caracteres.\n",
    "* Como muitas outras linguagens de programação populares, as strings em Python são vetores de bytes que representam caracteres.\n",
    "* Entretanto, o Python não possui um tipo de dados de caractere; um único caractere é simplesmente uma string com o comprimento 1."
   ]
  },
  {
   "cell_type": "code",
   "execution_count": 11,
   "metadata": {},
   "outputs": [
    {
     "name": "stdout",
     "output_type": "stream",
     "text": [
      "Hello\n",
      "Hello\n"
     ]
    }
   ],
   "source": [
    "# As duas formas são equivalentes.\n",
    "print(\"Hello\")\n",
    "print('Hello')"
   ]
  },
  {
   "cell_type": "markdown",
   "metadata": {},
   "source": [
    "#### Strings com múltiplas linhas"
   ]
  },
  {
   "cell_type": "code",
   "execution_count": 12,
   "metadata": {},
   "outputs": [
    {
     "name": "stdout",
     "output_type": "stream",
     "text": [
      "Lorem ipsum dolor sit amet,\n",
      "consectetur adipiscing elit,\n",
      "sed do eiusmod tempor incididunt\n",
      "ut labore et dolore magna aliqua.\n"
     ]
    }
   ],
   "source": [
    "a = \"\"\"Lorem ipsum dolor sit amet,\n",
    "consectetur adipiscing elit,\n",
    "sed do eiusmod tempor incididunt\n",
    "ut labore et dolore magna aliqua.\"\"\"\n",
    "\n",
    "print(a)"
   ]
  },
  {
   "cell_type": "markdown",
   "metadata": {},
   "source": [
    "#### Strings podem ser concatenadas com o sinal +."
   ]
  },
  {
   "cell_type": "code",
   "execution_count": 13,
   "metadata": {},
   "outputs": [
    {
     "name": "stdout",
     "output_type": "stream",
     "text": [
      "C126 - Programação em Python\n"
     ]
    }
   ],
   "source": [
    "str1 = \"C126\"\n",
    "str2 = \" - \"\n",
    "str3 = \"Programação em Python\"\n",
    "\n",
    "str4 = str1 + str2 + str3\n",
    "print(str4)"
   ]
  },
  {
   "cell_type": "markdown",
   "metadata": {},
   "source": [
    "#### Quando concatenamos com um número, precisamos fazer a conversão."
   ]
  },
  {
   "cell_type": "code",
   "execution_count": 9,
   "metadata": {},
   "outputs": [
    {
     "name": "stdout",
     "output_type": "stream",
     "text": [
      "O valor de pi é aproximadamente 3.14\n"
     ]
    }
   ],
   "source": [
    "str1 = \"O valor de pi é aproximadamente \" + str(3.14)\n",
    "print(str1)"
   ]
  },
  {
   "cell_type": "markdown",
   "metadata": {},
   "source": [
    "#### Métodos básicos de string\n",
    "\n",
    "|   Função  |                               Descrição                               |\n",
    "|:---------:|:---------------------------------------------------------------------:|\n",
    "|   len()   |           mostra o tamanho da string em número de caracteres          |\n",
    "|  lower()  |               transforma toda a string para caixa baixa               |\n",
    "|  upper()  |               transforma toda a a string para caixa alta              |\n",
    "|   str()   |                           converte em string                          |\n",
    "| isalpha() | retorna False se a string contiver algum caracter que não seja letras |\n",
    "|  strip()  |      remove os espaços em branco do começo e/ou final da string.      |\n",
    "| replace() |                 substitui uma string por outra string.                |\n",
    "|  split()  |  divide a string em substrings se encontrar ocorrências do separador. |\n",
    "\n",
    "Alguns exemplos de uso desses métodos básicos seguem abaixo."
   ]
  },
  {
   "cell_type": "code",
   "execution_count": 15,
   "metadata": {},
   "outputs": [
    {
     "name": "stdout",
     "output_type": "stream",
     "text": [
      "Caixa alta:  FELIPE\n",
      "Caixa baixa:  felipe\n",
      "Tamanho:  6\n",
      "Pi:  3.1415\n",
      "Contém apenas letras? False\n",
      "remove todos espaços em branco.\n",
      "teste\n",
      "['Hello', ' World!']\n"
     ]
    }
   ],
   "source": [
    "print(\"Caixa alta: \", \"felipe\".upper())\n",
    "\n",
    "print(\"Caixa baixa: \",\"FELIPE\".lower())\n",
    "\n",
    "print('Tamanho: ', len(\"felipe\"))\n",
    "\n",
    "print(\"Pi: \", str(3.1415))\n",
    "\n",
    "print(\"Contém apenas letras?\", \"ws34rt\".isalpha())\n",
    "\n",
    "print(\"   remove todos espaços em branco.    \".strip())\n",
    "\n",
    "print(\"INATEL\".replace('INATEL','teste'))\n",
    "\n",
    "print(\"Hello, World!\".split(\",\"))"
   ]
  },
  {
   "cell_type": "markdown",
   "metadata": {},
   "source": [
    "#### Acessando strings pelo índice"
   ]
  },
  {
   "cell_type": "code",
   "execution_count": 15,
   "metadata": {},
   "outputs": [
    {
     "name": "stdout",
     "output_type": "stream",
     "text": [
      "p\n",
      "y\n",
      "t\n",
      "h\n",
      "o\n",
      "n\n"
     ]
    }
   ],
   "source": [
    "'''\n",
    "+---+---+---+---+---+---+\n",
    "| p | y | t | h | o | n |\n",
    "+---+---+---+---+---+---+\n",
    "  0   1   2   3   4   5\n",
    "'''\n",
    "\n",
    "str1 = 'python'\n",
    "\n",
    "print(str1[0])\n",
    "print(str1[1])\n",
    "print(str1[2])\n",
    "print(str1[3])\n",
    "print(str1[4])\n",
    "print(str1[5])"
   ]
  },
  {
   "cell_type": "code",
   "execution_count": 16,
   "metadata": {},
   "outputs": [
    {
     "name": "stdout",
     "output_type": "stream",
     "text": [
      "p\n",
      "y\n",
      "t\n",
      "h\n",
      "o\n",
      "n\n"
     ]
    }
   ],
   "source": [
    "# O código acima poderia ser escrito também como:\n",
    "for i in range(0, len(str1)):\n",
    "    print(str1[i])"
   ]
  },
  {
   "cell_type": "markdown",
   "metadata": {},
   "source": [
    "#### Tratando uma string como sequência"
   ]
  },
  {
   "cell_type": "code",
   "execution_count": 13,
   "metadata": {},
   "outputs": [
    {
     "name": "stdout",
     "output_type": "stream",
     "text": [
      "p\n",
      "y\n",
      "t\n",
      "h\n",
      "o\n",
      "n\n"
     ]
    }
   ],
   "source": [
    "str1 = 'python'\n",
    "\n",
    "# Lê cada um dos caracteres sequencialmente.\n",
    "for char in str1: \n",
    "    print(char)"
   ]
  },
  {
   "cell_type": "markdown",
   "metadata": {},
   "source": [
    "#### Fatiando strings\n",
    "\n",
    "+ Nós podemos retornar um intervalo de caracteres usando a sintaxe de fatiamento de strings.\n",
    "+ Para isso, basta especificar o índice inicial e o índice final, separados por dois pontos, para retornar uma parte da string."
   ]
  },
  {
   "cell_type": "code",
   "execution_count": 16,
   "metadata": {},
   "outputs": [
    {
     "name": "stdout",
     "output_type": "stream",
     "text": [
      "llo,\n"
     ]
    }
   ],
   "source": [
    "# Imprime os caracteres da posição 2 até a posição 5 (não incluso):\n",
    "str1 = \"Hello, World!\"\n",
    "print(str1[2:6])"
   ]
  },
  {
   "cell_type": "markdown",
   "metadata": {},
   "source": [
    "#### Verificando a ocorrência de uma String\n",
    "\n",
    "Para verificar se uma determinada frase ou caractere está presente em uma string, podemos usar as palavras-chave ```in``` ou ```not in```."
   ]
  },
  {
   "cell_type": "code",
   "execution_count": 17,
   "metadata": {},
   "outputs": [
    {
     "name": "stdout",
     "output_type": "stream",
     "text": [
      "True\n"
     ]
    }
   ],
   "source": [
    "# Verifica se a string \"ain\" está presente no seguinte texto/string.\n",
    "txt = \"The rain in Spain stays mainly in the plain\"\n",
    "x = \"ain\" in txt\n",
    "print(x)"
   ]
  },
  {
   "cell_type": "markdown",
   "metadata": {},
   "source": [
    "## O que vocês conseguem perceber de diferença para outras linguagens que vocês conhecem?\n",
    "\n",
    "* Esqueça de declarações de tipos de variáveis\n",
    "* Esqueça de { e } \n",
    "* Esqueça de ; \n",
    "* Se você já era organizado, não sofrerá! \n",
    "* A indentação é obrigatória! :)"
   ]
  },
  {
   "cell_type": "markdown",
   "metadata": {},
   "source": [
    "## Tarefas\n",
    "\n",
    "1. <span style=\"color:blue\">**QUIZ - Conceitos iniciais**</span>: respondam ao quiz sobre conceitos básicos no MS teams, por favor.\n",
    "2. <span style=\"color:blue\">**Laboratório #1**</span>: cliquem em um dos links abaixo para accessar os exercícios do laboratório #1.\n",
    "\n",
    "[![Binder](https://mybinder.org/badge_logo.svg)](https://mybinder.org/v2/gh/zz4fap/python-programming/master?filepath=labs%2FLaboratorio1.ipynb)\n",
    "\n",
    "[![Google Colab](https://badgen.net/badge/Launch/on%20Google%20Colab/blue?icon=terminal)](https://colab.research.google.com/github/zz4fap/python-programming/blob/master/labs/Laboratorio1.ipynb)\n",
    "\n",
    "**IMPORTANTE**: Para acessar o material das aulas e realizar as entregas dos exercícios de laboratório, por favor, leiam o tutorial no seguinte link:\n",
    "[Material-das-Aulas](../docs/Acesso-ao-material-das-aulas-resolucao-e-entrega-dos-laboratorios.pdf)"
   ]
  },
  {
   "cell_type": "markdown",
   "metadata": {},
   "source": [
    "## Avisos\n",
    "\n",
    "* Se atentem aos prazos de entrega das tarefas na aba de **Avaliações** do MS Teams.\n",
    "* Não se esqueçam de colocar nome e matrícula nos notebooks de laboratório.\n",
    "* Horário de atendimento do Professor: todas as Segundas e Quintas-feiras das 18:30 às 19:30 via MS Teams enquanto as aulas presenciais não retornam.\n",
    "* Horário de atendimento do Monitor."
   ]
  },
  {
   "cell_type": "markdown",
   "metadata": {},
   "source": [
    "## Folha de Dicas (Cheat Sheet)\n",
    "\n",
    "* O documento no link seguinte contêm várias dicas para que você não precise decorar nenhum comando: [cheat sheet](../docs/folha-de-dicas-cheat-sheet-python3.pdf)\n",
    "\n",
    "## Referências\n",
    "\n",
    "#### Apostilas e tutoriais disponíveis gratuitamente na web:\n",
    "\n",
    "1. LABAKI, Josué, Introdução a Python - Módulo A, http://www.dcc.ufrj.br/~fabiom/python/pythonbasico.pdf\n",
    "\n",
    "2. BORGES, Luís Eduardo, Python para Desenvolvedores, https://ark4n.files.wordpress.com/2010/01/python_para_desenvolvedores_2ed.pdf\n",
    "\n",
    "3. VAN ROSSUM, Guido, O Tutorial Python, https://docs.python.org/pt-br/3/tutorial/index.html\n",
    "\n",
    "4. DOWNEY, Allen Downey; ELKNER, Jeff, e MEYERS, Chris, Aprenda Computação com Python 3.0, https://mange.ifrn.edu.br/python/aprenda-com-py3/index.html\n",
    "\n",
    "5. MILLER, Brad Miller e RANUM, David, How to Think Like a Computer Scientist: Interactive Edition, https://runestone.academy/runestone/books/published/thinkcspy/index.html\n",
    "\n",
    "\n",
    "<img src=\"../figures/obrigado.png\" width=\"1000\" height=\"1000\">\n",
    "\n",
    "\n"
   ]
  },
  {
   "cell_type": "code",
   "execution_count": null,
   "metadata": {},
   "outputs": [],
   "source": []
  }
 ],
 "metadata": {
  "kernelspec": {
   "display_name": "Python 3",
   "language": "python",
   "name": "python3"
  },
  "language_info": {
   "codemirror_mode": {
    "name": "ipython",
    "version": 3
   },
   "file_extension": ".py",
   "mimetype": "text/x-python",
   "name": "python",
   "nbconvert_exporter": "python",
   "pygments_lexer": "ipython3",
   "version": "3.7.7"
  }
 },
 "nbformat": 4,
 "nbformat_minor": 4
}
