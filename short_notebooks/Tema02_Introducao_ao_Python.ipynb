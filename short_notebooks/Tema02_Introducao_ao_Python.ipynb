{
 "cells": [
  {
   "cell_type": "markdown",
   "metadata": {},
   "source": [
    "# C126 - Programação em Python\n",
    "\n",
    "\n",
    "* Tipos de Dados\n",
    "* Operadores Aritméticos\n",
    "* Módulos e Pacotes em Python\n",
    "* Manipulando Cadeias de Caracteres (strings)\n"
   ]
  },
  {
   "cell_type": "markdown",
   "metadata": {},
   "source": [
    "## Tarefas\n",
    "\n",
    "1. <span style=\"color:blue\">**QUIZ - Conceitos iniciais**</span>: respondam ao quiz sobre conceitos básicos no MS teams, por favor.\n",
    "2. <span style=\"color:blue\">**Laboratório #1**</span>: cliquem em um dos links abaixo para accessar os exercícios do laboratório #1.\n",
    "\n",
    "[![Binder](https://mybinder.org/badge_logo.svg)](https://mybinder.org/v2/gh/zz4fap/python-programming/master?filepath=labs%2FLaboratorio1.ipynb)\n",
    "\n",
    "[![Google Colab](https://badgen.net/badge/Launch/on%20Google%20Colab/blue?icon=terminal)](https://colab.research.google.com/github/zz4fap/python-programming/blob/master/labs/Laboratorio1.ipynb)\n",
    "\n",
    "**IMPORTANTE**: Para acessar o material das aulas e realizar as entregas dos exercícios de laboratório, por favor, leiam o tutorial no seguinte link:\n",
    "[Material-das-Aulas](../docs/Acesso-ao-material-das-aulas-resolucao-e-entrega-dos-laboratorios.pdf)"
   ]
  },
  {
   "cell_type": "markdown",
   "metadata": {},
   "source": [
    "## Avisos\n",
    "\n",
    "* Se atentem aos prazos de entrega das tarefas na aba de **Avaliações** do MS Teams.\n",
    "* Horário de atendimento do Professor: todas as Segundas e Quintas-feiras das 18:30 às 19:30 via MS Teams enquanto as aulas presenciais não retornam.\n",
    "* Horário de atendimento do Monitor."
   ]
  },
  {
   "cell_type": "markdown",
   "metadata": {},
   "source": [
    "<img src=\"../figures/obrigado.png\" width=\"1000\" height=\"1000\">"
   ]
  },
  {
   "cell_type": "code",
   "execution_count": null,
   "metadata": {},
   "outputs": [],
   "source": []
  }
 ],
 "metadata": {
  "kernelspec": {
   "display_name": "Python 3",
   "language": "python",
   "name": "python3"
  },
  "language_info": {
   "codemirror_mode": {
    "name": "ipython",
    "version": 3
   },
   "file_extension": ".py",
   "mimetype": "text/x-python",
   "name": "python",
   "nbconvert_exporter": "python",
   "pygments_lexer": "ipython3",
   "version": "3.7.7"
  }
 },
 "nbformat": 4,
 "nbformat_minor": 4
}
