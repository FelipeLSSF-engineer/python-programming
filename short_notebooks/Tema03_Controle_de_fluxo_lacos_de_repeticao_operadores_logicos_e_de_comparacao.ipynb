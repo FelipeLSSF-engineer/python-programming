{
 "cells": [
  {
   "cell_type": "markdown",
   "metadata": {},
   "source": [
    "# Operadores de comparação, lógicos, controle de fluxo e laços de repetição"
   ]
  },
  {
   "cell_type": "markdown",
   "metadata": {},
   "source": [
    "## Introdução\n",
    "\n",
    "Tivemos anteriormente uma introdução à conceitos básicos do Python, agora vamos ver como trabalhar com expressões lógicas e relacionais, controle de fluxo e laços de repetição."
   ]
  },
  {
   "cell_type": "markdown",
   "metadata": {},
   "source": [
    "## Operadores de comparação\n",
    "\n",
    "* O Python permite comparar valores usando os seguintes **operadores relacionais** ou também chamados de **operadores de comparação**:\n",
    "\n",
    "| Operador |    Tipo    |                      Descrição                     | Exemplo | Resultado |\n",
    "|:--------:|:----------:|:--------------------------------------------------:|:-------:|:---------:|\n",
    "|    ==    |  Igualdade |    Verifica a igualdade entre os valores A e B.    |   2==3  |   False   |\n",
    "|   !=     |  Igualdade |       Verifica a diferença os valores A e B.       |   2!=3  |    True   |\n",
    "|    >     | Comparação |    Verificar se o valor A é maior que o valor B.   |   3>3   |   False   |\n",
    "|    <     | Comparação |    Verifica se o valor A é menor que o valor B.    |   2<3   |    True   |\n",
    "|    >=    | Comparação | Verifica se o valor A é maior ou igual ao valor B. |   3>=3  |    True   |\n",
    "|    <=    | Comparação | Verifica se o valor A é menor ou igual ao valor B. |   2<=1  |   False   |\n",
    "\n",
    "* Os **operadores relacionais** comparam dois valores e o resultado retornado pode ser ```True``` ou ```False```. \n",
    "* Esses dois valores são chamados de valores **booleanos** em homenagem ao matemático George Boole (https://pt.wikipedia.org/wiki/George_Boole).\n",
    "\n",
    "<img src=\"../figures/boole.jpg\" width=\"200\" height=\"200\">\n",
    "\n",
    "* As expressões relacionais podem conter expressões aritméticas, como no seguinte exemplo:"
   ]
  },
  {
   "cell_type": "code",
   "execution_count": 6,
   "metadata": {},
   "outputs": [
    {
     "data": {
      "text/plain": [
       "True"
      ]
     },
     "execution_count": 6,
     "metadata": {},
     "output_type": "execute_result"
    }
   ],
   "source": [
    "2 + 3 == 3 + 2 * 1"
   ]
  },
  {
   "cell_type": "markdown",
   "metadata": {},
   "source": [
    "* Esse exemplo mostra que o resultado da expressão `2 + 3 == 3 + 2 * 1` é o valor booleano ```True```. \n",
    "* Isso porque a precedência dos operadores relacionais é menor que a dos operadores aritméticos, ou seja, as operações aritméticas são realizadas primeiro, o que resulta na comparação `5 == 5`, em seguida, a expressão relacional `==` é realizada, resultando em `True`."
   ]
  },
  {
   "cell_type": "markdown",
   "metadata": {},
   "source": [
    "### Tarefa\n",
    "\n",
    "1. <span style=\"color:blue\">**QUIZ - Operadores relacionais**</span>: respondam ao questionário sobre operadores relacionais no MS teams, por favor."
   ]
  },
  {
   "cell_type": "markdown",
   "metadata": {},
   "source": [
    "## Operadores lógicos\n",
    "\n",
    "* Expressões aritméticas, como ```2 + 3 * 4```, são formadas por valores e operadores aritméticos `+`, `*`, `-`, `/`, entre outros. De maneira semelhante, **expressões lógicas** ou **booleanas** são formadas por valores e **operadores lógicos** tais como `and`, `or` e `not`.\n",
    "* O resultado das expressões lógicas é sempre um booleano.\n",
    "* A tabela a seguir mostra a precedência dos operadores lógicos usados em Python:\n",
    "\n",
    "| Operador |    Descrição   |     Exemplo    | Resultado |\n",
    "|:--------:|:--------------:|:--------------:|:---------:|\n",
    "|    not   | negação lógica |    not True    |   False   |\n",
    "|    and   |    E lógico    | True and False |   False   |\n",
    "|    or    |    OU lógico   |  True or False |    True   |\n",
    "\n",
    "* Expressões lógicas (ou booleanas) combinam valores booleanos com operadores lógicos.\n",
    "* O operador ```not``` nega o valor do operando, ou seja, troca o valor booleano de ```True``` para ```False``` ou de ```False``` para ```True```."
   ]
  },
  {
   "cell_type": "code",
   "execution_count": 1,
   "metadata": {},
   "outputs": [
    {
     "data": {
      "text/plain": [
       "False"
      ]
     },
     "execution_count": 1,
     "metadata": {},
     "output_type": "execute_result"
    }
   ],
   "source": [
    "not True"
   ]
  },
  {
   "cell_type": "code",
   "execution_count": 2,
   "metadata": {},
   "outputs": [
    {
     "data": {
      "text/plain": [
       "True"
      ]
     },
     "execution_count": 2,
     "metadata": {},
     "output_type": "execute_result"
    }
   ],
   "source": [
    "not False"
   ]
  },
  {
   "cell_type": "markdown",
   "metadata": {},
   "source": [
    "* O operador ```and``` retorna ```True``` apenas quando seus dois operandos são ```True``` e retorna ```False``` caso contrário, ou seja, quando ao menos um dos operandos é ```False```."
   ]
  },
  {
   "cell_type": "code",
   "execution_count": 3,
   "metadata": {},
   "outputs": [
    {
     "data": {
      "text/plain": [
       "True"
      ]
     },
     "execution_count": 3,
     "metadata": {},
     "output_type": "execute_result"
    }
   ],
   "source": [
    "True and True"
   ]
  },
  {
   "cell_type": "code",
   "execution_count": 4,
   "metadata": {},
   "outputs": [
    {
     "data": {
      "text/plain": [
       "False"
      ]
     },
     "execution_count": 4,
     "metadata": {},
     "output_type": "execute_result"
    }
   ],
   "source": [
    "True and False"
   ]
  },
  {
   "cell_type": "markdown",
   "metadata": {},
   "source": [
    "* Já o operador ```or``` retorna ```False``` apenas quando seus dois operandos são ```False``` e retorna ```True``` caso contrário, ou seja, quando ao menos um dos operandos é ```True```."
   ]
  },
  {
   "cell_type": "code",
   "execution_count": 6,
   "metadata": {},
   "outputs": [
    {
     "data": {
      "text/plain": [
       "True"
      ]
     },
     "execution_count": 6,
     "metadata": {},
     "output_type": "execute_result"
    }
   ],
   "source": [
    "True or False"
   ]
  },
  {
   "cell_type": "code",
   "execution_count": 7,
   "metadata": {},
   "outputs": [
    {
     "data": {
      "text/plain": [
       "False"
      ]
     },
     "execution_count": 7,
     "metadata": {},
     "output_type": "execute_result"
    }
   ],
   "source": [
    "False or False"
   ]
  },
  {
   "cell_type": "markdown",
   "metadata": {},
   "source": [
    "* Os operadores lógicos podem ser utilizados para combinar os resultados de operadores relacionais. \n",
    "    * Por exemplo, considere ```x``` um valor real qualquer. A expressão ```x >= -1 and x <= 1``` pode ser usada para testar se ```x``` pertence ao intervalo ```[-1, 1]```. Assim, para ```x = 0``` temos que a expressão é ```True``` pois as duas expressões relacionais se tornam verdadeiras. Mas quando ```x = 2```, a comparação ```x <= 1``` se torna falsa e portanto o resultado do operador and é ```False```.\n",
    "    \n",
    "#### Exemplos"
   ]
  },
  {
   "cell_type": "code",
   "execution_count": 9,
   "metadata": {},
   "outputs": [
    {
     "name": "stdout",
     "output_type": "stream",
     "text": [
      "False\n",
      "x está fora do intervalo...\n"
     ]
    }
   ],
   "source": [
    "# Seja um valor qualquer.\n",
    "x = 2\n",
    "\n",
    "# Combinando o resultado de operadores relacionais.\n",
    "comp = x >= -1 and x <= 1\n",
    "print(comp)\n",
    "\n",
    "# Ou usando estruturas de controle de fluxo, como veremos a seguir:\n",
    "if(x >= -1 and x <= 1):\n",
    "    print('X está dentro do intervalo!')\n",
    "else:\n",
    "    print('x está fora do intervalo...')"
   ]
  },
  {
   "cell_type": "markdown",
   "metadata": {},
   "source": [
    "### Verdadeiro, falso e nulo\n",
    "\n",
    "+ Em Python, o tipo booleano (**bool**) é uma especialização do tipo inteiro (**int**). \n",
    "+ O verdadeiro é chamado `True` e é igual a `1`, enquanto o falso é chamado `False` e é igual a `0`.\n",
    "\n",
    "Os seguintes valores são considerados falsos:\n",
    "\n",
    "+ `False` (falso).\n",
    "+ `None` (nulo).\n",
    "+ `0` (zero).\n",
    "+ `''` (string vazia).\n",
    "+ `[]` (lista vazia).\n",
    "+ `()` (tupla vazia).\n",
    "+ `{}` (dicionário vazio).\n",
    "+ Outras estruturas com o tamanho igual a zero.\n",
    "\n",
    "São considerados verdadeiros todos os outros objetos fora dessa lista.\n",
    "\n",
    "Como já vimos no tópico passado, o objeto `None`, que é do tipo `NoneType`, e representa o valor nulo e é avaliado como falso pelo interpretador."
   ]
  },
  {
   "cell_type": "markdown",
   "metadata": {},
   "source": [
    "### Tarefa\n",
    "\n",
    "1. <span style=\"color:blue\">**QUIZ - Operadores lógicos**</span>: respondam ao questionário sobre operadores lógicos no MS teams, por favor."
   ]
  },
  {
   "cell_type": "markdown",
   "metadata": {},
   "source": [
    "## Operadores de associação\n",
    "\n",
    "+ Operadores de associação são usados para testar se uma sequência esta presente em um objeto, como strings, listas ou tuplas, etc. \n",
    "+ Existem dois operadores de associação, conforme listado abaixo.\n",
    "\n",
    "| Operador |                                       Descrição                                       |       Exemplo      | Resultado |\n",
    "|:--------:|:-------------------------------------------------------------------------------------:|:------------------:|:---------:|\n",
    "|    in    |   Retorna True se uma sequência com o valor especificado estiver presente no objeto   |   1 in [1, 2, 3]   |    True   |\n",
    "|  not in  | Retorna True se uma sequência com o valor especificado não estiver presente no objeto | 1 not in [1, 2, 3] |   False   |\n",
    "\n",
    "#### Exemplos"
   ]
  },
  {
   "cell_type": "code",
   "execution_count": 8,
   "metadata": {},
   "outputs": [
    {
     "name": "stdout",
     "output_type": "stream",
     "text": [
      "True\n"
     ]
    }
   ],
   "source": [
    "x = [\"apple\", \"banana\"]\n",
    "\n",
    "print(\"banana\" in x)"
   ]
  },
  {
   "cell_type": "code",
   "execution_count": 9,
   "metadata": {},
   "outputs": [
    {
     "name": "stdout",
     "output_type": "stream",
     "text": [
      "True\n"
     ]
    }
   ],
   "source": [
    "x = [\"apple\", \"banana\"]\n",
    "\n",
    "print(\"pineapple\" not in x)"
   ]
  },
  {
   "cell_type": "markdown",
   "metadata": {},
   "source": [
    "## Ordem de precedência atualizada\n",
    "\n",
    "+ Nós adicionamos vários operadores adicionais àqueles que aprendemos.\n",
    "+ É importante entender como esses operadores se relacionam com os outros no que diz respeito à precedência do operador.\n",
    "+ A tabela a seguir resume a precedência de operadores discutida até agora, da mais alta para a mais baixa.\n",
    "\n",
    "\n",
    "|   Nível  |   Categoria   |            Operadores            |\n",
    "|:--------:|:-------------:|:--------------------------------:|\n",
    "| 8 (alta) |   parênteses  |                ()                |\n",
    "|     7    |    expoente   |                **                |\n",
    "|     6    | multiplicação, divisão, resto |            *, /, //, %           |\n",
    "|     5    |     adição, subtração    |               +, -               |\n",
    "|     4    |   relacional  | ==, !=, <=, >=, >, <, in, not in |\n",
    "|     3    |     lógico    |                not               |\n",
    "|     2    |     lógico    |                and               |\n",
    "| 1(baixa) |     lógico    |                or                |\n",
    "\n",
    "**IMPORTANTE**: Operadores com mesmo nível de precedência são aplicados da **esquerda para a direita**."
   ]
  },
  {
   "cell_type": "markdown",
   "metadata": {},
   "source": [
    "### Tarefa\n",
    "\n",
    "1. <span style=\"color:blue\">**QUIZ - Ordem de precedência**</span>: respondam ao questionário sobre ordem de precedência no MS teams, por favor."
   ]
  },
  {
   "cell_type": "markdown",
   "metadata": {},
   "source": [
    "## Controle de fluxo\n",
    "\n",
    "* É muito comum que durante a escrita de um programa você precise verificar se a condição de uma expressão é verdadeira ou falsa. Isto é feito com **estruturas de controle de fluxo**.\n",
    "* Portanto, estruturas de **controle de fluxo** verificam a condição dos argumentos passados e, executam um bloco de código caso a condição seja verdadeira ou outro bloco de código caso seja falsa.\n",
    "* Um bom exemplo é a validação das entradas de dados de um programa (e.g., idade > 0 e < 130, cpf válido, etc.)\n",
    "* As estruturas de controle de fluxo são também conhecidas como **estruturas condicionais**.\n",
    "\n",
    "Sintaxe:\n",
    "\n",
    "```python\n",
    "if <condição>:\n",
    "    <bloco de código>\n",
    "elif <condição>:\n",
    "    <bloco de código>\n",
    "elif <condição>:\n",
    "    <bloco de código>\n",
    "else:\n",
    "    <bloco de código>\n",
    "```\n",
    "        \n",
    "Onde:\n",
    "\n",
    "+ `<condição>`: expressão que possa ser avaliada como verdadeira ou falsa.\n",
    "+ `<bloco de código>`: sequência de linhas de comando.\n",
    "+ um `<bloco de código>`: pode ter mais de uma linha de comando, dado que o bloco de código esteja corretamente indentado.\n",
    "+ As clausulas `elif` e `else` são opcionais e podem existir vários `elifs` para o mesmo `if`, porém só deve haver apenas um `else` ao final.\n",
    "+ A palavra-chave `elif` é uma abreviatura de `else if` e significa: \"se as condições anteriores não eram verdadeiras, então tente esta condição\".\n",
    "+ A palavra-chave `else` captura qualquer condição que não tenha sido capturada pelas condições anteriores.\n",
    "+ Parênteses só são necessários para evitar ambiguidades.\n",
    "\n",
    "A figura abaixo apresenta o fluxograma da estrutura condicional encadeada mostrada acima.\n",
    "\n",
    "<img src=\"../figures/if-flowchart.jpg\" width=\"400\" height=\"400\">\n",
    "\n",
    "#### Exemplo"
   ]
  },
  {
   "cell_type": "code",
   "execution_count": 11,
   "metadata": {},
   "outputs": [
    {
     "name": "stdout",
     "output_type": "stream",
     "text": [
      "Normal\n"
     ]
    }
   ],
   "source": [
    "temp = 23 # valor de temperatura usado para teste\n",
    "\n",
    "if temp < 0:\n",
    "    print('Congelando...')\n",
    "elif 0 <= temp <= 20:\n",
    "    print('Frio')\n",
    "elif 21 <= temp <= 25:\n",
    "    print('Normal')\n",
    "elif 26 <= temp <= 35:\n",
    "    print('Quente')\n",
    "else:\n",
    "    print('Muito quente!')"
   ]
  },
  {
   "cell_type": "markdown",
   "metadata": {},
   "source": [
    "Imagine que no trecho de código acima, `23` é a temperatura que foi lida de algum sensor ou entrada manualmente pelo usuário e `Normal` é a resposta do programa."
   ]
  },
  {
   "cell_type": "markdown",
   "metadata": {},
   "source": [
    "### If aninhado\n",
    "\n",
    "Você pode ter instruções `if` dentro de instruções `if`, isso é chamado de instruções `if` aninhadas.\n",
    "\n",
    "#### Exemplo"
   ]
  },
  {
   "cell_type": "code",
   "execution_count": 16,
   "metadata": {},
   "outputs": [
    {
     "name": "stdout",
     "output_type": "stream",
     "text": [
      "Maior do que 10,\n",
      "e também maior do que 20!\n"
     ]
    }
   ],
   "source": [
    "x = 41\n",
    "\n",
    "if x > 10:\n",
    "    print(\"Maior do que 10,\")\n",
    "    if x > 20:\n",
    "        print(\"e também maior do que 20!\")\n",
    "    else:\n",
    "        print(\"e menor do que 20.\")"
   ]
  },
  {
   "cell_type": "markdown",
   "metadata": {},
   "source": [
    "### Tarefa\n",
    "\n",
    "1. <span style=\"color:blue\">**QUIZ - Controle de fluxo**</span>: respondam ao questionário sobre controle de fluxo no MS teams, por favor."
   ]
  },
  {
   "cell_type": "markdown",
   "metadata": {},
   "source": [
    "## Laços de repetição\n",
    "\n",
    "Laços, ou do Inglês **loops**, são estruturas de repetição, geralmente usadas para processar coleções de dados, tais como as linhas de um arquivo, registros de um banco de dados, letras de uma string, que precisam ser processadas por um mesmo bloco de código.\n",
    "\n",
    "### O laço `for`\n",
    "\n",
    "+ É a instrução de repetição mais usada em Python.\n",
    "+ Ela se caracteriza por obrigar o programador a definir, explicitamente em seu cabeçalho, a quantidade de vezes, chamados de **ciclos**, que um bloco de código será executado. \n",
    "+ A quantidade de ciclos é determinado pela quantidade de elementos contido na lista declarada junto com a instrução `for`. Dessa forma, será executado um ciclo para cada elemento da lista isoladamente.\n",
    "\n",
    "Sintaxe:\n",
    "\n",
    "```python\n",
    "for <referência> in <lista/sequência/objeto iterável>:\n",
    "    <bloco de código>\n",
    "    continue\n",
    "    break\n",
    "else:\n",
    "    <bloco de código>\n",
    "```\n",
    "\n",
    "+ A clausula `break` interrompe o laço antes que ele percorra todos os itens da lista e `continue` passa para a próxima iteração.\n",
    "+ O bloco de código dentro do `else` é executado ao final do laço, a não ser que o laço tenha sido interrompido por um `break`.\n",
    "\n",
    "Em suma, o laço `for` permite percorrer os itens de uma lista e, para cada um deles, executar o bloco de código declarado no laço.\n",
    "            \n",
    "#### Exemplos"
   ]
  },
  {
   "cell_type": "code",
   "execution_count": 12,
   "metadata": {},
   "outputs": [
    {
     "name": "stdout",
     "output_type": "stream",
     "text": [
      "Pedro\n",
      "João\n",
      "Leticia\n"
     ]
    }
   ],
   "source": [
    "# Imprime os nome armazenados em uma lista.\n",
    "nomes = ['Pedro', 'João', 'Leticia']\n",
    "for n in nomes:\n",
    "     print(n)"
   ]
  },
  {
   "cell_type": "code",
   "execution_count": 13,
   "metadata": {},
   "outputs": [
    {
     "name": "stdout",
     "output_type": "stream",
     "text": [
      "4950\n"
     ]
    }
   ],
   "source": [
    "# Soma todos os valores de de 0 a 99.\n",
    "s = 0\n",
    "for x in range(1, 100):\n",
    "    s = s + x\n",
    "print(s)"
   ]
  },
  {
   "cell_type": "markdown",
   "metadata": {},
   "source": [
    "A função `range(m, n, p)`, é muito útil em laços, pois retorna uma lista de valores inteiros, começando em `m` e menores que `n`, em passos de comprimento `p`, que podem ser usados como sequência para o laço."
   ]
  },
  {
   "cell_type": "markdown",
   "metadata": {},
   "source": [
    "### O laço `while`\n",
    " \n",
    "+ Executa um bloco de código dentro do laço `while` enquanto uma dada condição for verdadeira.\n",
    "+ É adequado quando não há como determinar quantas iterações vão ocorrer e não há uma sequência a seguir.\n",
    "\n",
    "Sintaxe:\n",
    "\n",
    "```python\n",
    "while <condição>:\n",
    "    <bloco de código>\n",
    "    continue\n",
    "    break\n",
    "else:\n",
    "    <bloco de código>\n",
    "```\n",
    "\n",
    "+ A instrução `else` executa o bloco de código apenas uma vez quando a condição não for mais verdadeira.\n",
    "        \n",
    "**OBS.1**: Deve haver algum processo dentro do bloco de código que torne a condição falsa e loço seja encerrado, ou um erro GRAVE ocorrerá: seu código ficará preso no laço para sempre.\n",
    "\n",
    "**OBS.2**: Se a condição da estrutura `while` já for falsa desde o início, o bloco de código associado a ela nunca será executado.\n",
    "\n",
    "#### Exemplos"
   ]
  },
  {
   "cell_type": "code",
   "execution_count": 18,
   "metadata": {},
   "outputs": [
    {
     "name": "stdout",
     "output_type": "stream",
     "text": [
      "4950\n"
     ]
    }
   ],
   "source": [
    "# Soma todos os valores de 0 a 99.\n",
    "s = 0\n",
    "x = 0\n",
    "\n",
    "while x < 100:\n",
    "    s = s + x\n",
    "    x = x + 1\n",
    "print(s)"
   ]
  },
  {
   "cell_type": "markdown",
   "metadata": {},
   "source": [
    "### IMPORTANTE: diferença de uso entre `while` e `for`:\n",
    "\n",
    "+ `while`: a decisão sobre repetir ou não o bloco de código baseia-se em teste booleano. Há risco de loop infinito.\n",
    "+ `for`: Contagem automática do número de repetições."
   ]
  },
  {
   "cell_type": "markdown",
   "metadata": {},
   "source": [
    "## Tarefas\n",
    "\n",
    "1. <span style=\"color:blue\">**QUIZ - Laços de repetição**</span>: respondam ao questionário sobre laços de repetição no MS teams, por favor. \n",
    "2. <span style=\"color:blue\">**Laboratório #2**</span>: cliquem em um dos links abaixo para accessar os exercícios do laboratório #2.\n",
    "\n",
    "[![Binder](https://mybinder.org/badge_logo.svg)](https://mybinder.org/v2/gh/zz4fap/python-programming/master?filepath=labs%2FLaboratorio2.ipynb)\n",
    "\n",
    "[![Google Colab](https://badgen.net/badge/Launch/on%20Google%20Colab/blue?icon=terminal)](https://colab.research.google.com/github/zz4fap/python-programming/blob/master/labs/Laboratorio2.ipynb)\n",
    "\n",
    "**IMPORTANTE**: Para acessar o material das aulas e realizar as entregas dos exercícios de laboratório, por favor, leiam o tutorial no seguinte link:\n",
    "[Material-das-Aulas](../docs/Acesso-ao-material-das-aulas-resolucao-e-entrega-dos-laboratorios.pdf)"
   ]
  },
  {
   "cell_type": "markdown",
   "metadata": {},
   "source": [
    "## Avisos\n",
    "\n",
    "* Por favor, respodam à enquete sobre a data da prova que está no canal **Avisos** do MS Teams.\n",
    "* Se atentem aos prazos de entrega das tarefas na aba de **Avaliações** do MS Teams.\n",
    "* Por favor, a partir de agora, coloquem nome e matrícula nos notebooks de laboratório.\n",
    "* Horário de atendimento todas as Quintas-feiras as 17:30 às 19:30 via MS Teams enquanto as aulas presenciais não retornam."
   ]
  },
  {
   "cell_type": "markdown",
   "metadata": {},
   "source": [
    "<img src=\"../figures/obrigado.png\" width=\"1000\" height=\"1000\">"
   ]
  }
 ],
 "metadata": {
  "kernelspec": {
   "display_name": "Python 3",
   "language": "python",
   "name": "python3"
  },
  "language_info": {
   "codemirror_mode": {
    "name": "ipython",
    "version": 3
   },
   "file_extension": ".py",
   "mimetype": "text/x-python",
   "name": "python",
   "nbconvert_exporter": "python",
   "pygments_lexer": "ipython3",
   "version": "3.7.7"
  }
 },
 "nbformat": 4,
 "nbformat_minor": 4
}
